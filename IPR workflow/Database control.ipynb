{
 "cells": [
  {
   "cell_type": "markdown",
   "metadata": {},
   "source": [
    "# Database Control\n",
    "\n",
    "This Notebook oversees commands related to control of the calculation database that is created for high-throughput calculations. This includes:\n",
    "\n",
    "1. Defining databases for easy access.\n",
    "\n",
    "2. Specifying the local run_directories where calculations will be placed/performed.\n",
    "\n",
    "3. Uploading/updating the reference records to a database based on the iprPy/library.\n",
    "\n",
    "4. Checking the number and status of records within a database.\n",
    "\n",
    "5. Cleaning records in a database by resetting errored calculations and removing excess \\*.bid files.\n",
    "\n",
    "6. Copying/removing database records.\n",
    "\n",
    "7. Forgetting stored database information."
   ]
  },
  {
   "cell_type": "markdown",
   "metadata": {},
   "source": [
    "__Global workflow details:__\n",
    "\n",
    "The commands offered by this Notebook are outside the global workflow, with the exception that new databases can be defined here before use in the other Notebooks."
   ]
  },
  {
   "cell_type": "markdown",
   "metadata": {},
   "source": [
    "**Library imports**"
   ]
  },
  {
   "cell_type": "code",
   "execution_count": 1,
   "metadata": {},
   "outputs": [
    {
     "name": "stdout",
     "output_type": "stream",
     "text": [
      "iprPy version 0.8.3\n"
     ]
    }
   ],
   "source": [
    "# Standard Python libraries\n",
    "from __future__ import (print_function, division, absolute_import,\n",
    "                        unicode_literals)\n",
    "\n",
    "# https://github.com/usnistgov/iprPy\n",
    "import iprPy\n",
    "print('iprPy version', iprPy.__version__)"
   ]
  },
  {
   "cell_type": "markdown",
   "metadata": {},
   "source": [
    "## 1. Define databases\n",
    "\n",
    "Settings for accessing databases can be stored under simple names for easy access later."
   ]
  },
  {
   "cell_type": "markdown",
   "metadata": {},
   "source": [
    "The **list_databases()** function returns a list of all of the names for the stored databases."
   ]
  },
  {
   "cell_type": "code",
   "execution_count": 2,
   "metadata": {},
   "outputs": [
    {
     "name": "stdout",
     "output_type": "stream",
     "text": [
      "['test', 'iprhub-local', 'iprhub', 'Al_for_Kamal', 'PN', 'fccedge', 'master', 'demo', 'potentials', 'master_local']\n"
     ]
    }
   ],
   "source": [
    "print(iprPy.list_databases())"
   ]
  },
  {
   "cell_type": "markdown",
   "metadata": {},
   "source": [
    "The **set_database()** function allows for database access information to be saved under a simple name."
   ]
  },
  {
   "cell_type": "code",
   "execution_count": 3,
   "metadata": {},
   "outputs": [
    {
     "name": "stdout",
     "output_type": "stream",
     "text": [
      "Database master already defined.\n",
      "Overwrite? (yes or no): yes\n"
     ]
    }
   ],
   "source": [
    "# DEfine local mongo database to save files to\n",
    "iprPy.set_database(name='master', style='mongo', host='localhost', port=27017, database='iprPy')"
   ]
  },
  {
   "cell_type": "code",
   "execution_count": 3,
   "metadata": {},
   "outputs": [
    {
     "name": "stdout",
     "output_type": "stream",
     "text": [
      "Database iprhub already defined.\n",
      "Overwrite? (yes or no): yes\n"
     ]
    }
   ],
   "source": [
    "# Specify remote MDCS database to save files to\n",
    "host = 'https://iprhub.nist.gov/'\n",
    "user = 'lmh1'\n",
    "pswd = 'C:/Users/lmh1/Documents/iprhub/iprhub_password.txt'\n",
    "cert =  'C:/Users/lmh1/Documents/iprhub/2019-04-iprhub-ca.pem'\n",
    "\n",
    "# Define mdcs database called iprhub\n",
    "iprPy.set_database(name='iprhub', style='mdcs', host=host, user=user, pswd=pswd, cert=cert)"
   ]
  },
  {
   "cell_type": "code",
   "execution_count": 7,
   "metadata": {},
   "outputs": [
    {
     "name": "stdout",
     "output_type": "stream",
     "text": [
      "Enter the database's host: C:/Users/lmh1/Documents/calculations/ipr/master\n",
      "Enter any other database parameters as key, value\n",
      "Exit by leaving key blank\n",
      "key: \n"
     ]
    }
   ],
   "source": [
    "# Define local database called master_local\n",
    "host = 'C:/Users/lmh1/Documents/calculations/ipr/master'\n",
    "iprPy.set_database(name='master_local', style='local', host=host)"
   ]
  },
  {
   "cell_type": "markdown",
   "metadata": {},
   "source": [
    "Test that the database is set"
   ]
  },
  {
   "cell_type": "code",
   "execution_count": 2,
   "metadata": {},
   "outputs": [
    {
     "name": "stdout",
     "output_type": "stream",
     "text": [
      "database style mongo at localhost:27017.iprPy\n"
     ]
    }
   ],
   "source": [
    "master = iprPy.load_database('master')\n",
    "print(master)"
   ]
  },
  {
   "cell_type": "code",
   "execution_count": 4,
   "metadata": {},
   "outputs": [
    {
     "name": "stdout",
     "output_type": "stream",
     "text": [
      "database style mdcs at https://iprhub.nist.gov/\n"
     ]
    }
   ],
   "source": [
    "iprhub = iprPy.load_database('iprhub')\n",
    "print(iprhub)"
   ]
  },
  {
   "cell_type": "code",
   "execution_count": 5,
   "metadata": {},
   "outputs": [
    {
     "name": "stdout",
     "output_type": "stream",
     "text": [
      "database style local at C:\\Users\\lmh1\\Documents\\calculations\\ipr\\master\n"
     ]
    }
   ],
   "source": [
    "local = iprPy.load_database('master_local')\n",
    "print(local)"
   ]
  },
  {
   "cell_type": "markdown",
   "metadata": {},
   "source": [
    "## 2. Define run directories\n",
    "\n",
    "The high-throughput calculations are prepared and executed using local directories.  The paths to these directories can be saved and stored using simple names for easy access later."
   ]
  },
  {
   "cell_type": "markdown",
   "metadata": {},
   "source": [
    "The **list_run_directories()** function returns a list of all of the names for the stored run directories."
   ]
  },
  {
   "cell_type": "code",
   "execution_count": 5,
   "metadata": {},
   "outputs": [
    {
     "name": "stdout",
     "output_type": "stream",
     "text": [
      "['test1', 'test2', 'test3', 'test4', 'iprhub-local1', 'iprhub-local2', 'iprhub-local3', 'iprhub-local4', 'iprhub1', 'iprhub2', 'iprhub3', 'iprhub4', 'Al_for_Kamal_1', 'fccedge1', 'master_1', 'demo_1', 'demo_2', 'demo_3', 'demo_4', 'master_4', 'master_2', 'master_3']\n"
     ]
    }
   ],
   "source": [
    "print(iprPy.list_run_directories())"
   ]
  },
  {
   "cell_type": "markdown",
   "metadata": {},
   "source": [
    "The **set_run_directory()** function allows for a local run directory to be saved under a simple name. For best functionality, each run_directory should be for a unique database and number of cores."
   ]
  },
  {
   "cell_type": "code",
   "execution_count": 6,
   "metadata": {},
   "outputs": [
    {
     "name": "stdout",
     "output_type": "stream",
     "text": [
      "run_directory master_1 already defined.\n",
      "Overwrite? (yes or no): no\n",
      "run_directory master_4 already defined.\n",
      "Overwrite? (yes or no): no\n"
     ]
    }
   ],
   "source": [
    "# Define running directories for up to four cores\n",
    "torun = 'C:\\\\Users\\\\lmh1\\\\Documents\\\\calculations\\\\ipr\\\\torun\\\\master\\\\'\n",
    "iprPy.set_run_directory(name='master_1', path=torun + '1')\n",
    "iprPy.set_run_directory(name='master_2', path=torun + '2')\n",
    "iprPy.set_run_directory(name='master_3', path=torun + '3')\n",
    "iprPy.set_run_directory(name='master_4', path=torun + '4')"
   ]
  },
  {
   "cell_type": "markdown",
   "metadata": {},
   "source": [
    "The **load_run_directory()** function accesses the stored directory path associated with a run directory's name."
   ]
  },
  {
   "cell_type": "code",
   "execution_count": 7,
   "metadata": {},
   "outputs": [
    {
     "name": "stdout",
     "output_type": "stream",
     "text": [
      "C:\\Users\\lmh1\\Documents\\calculations\\ipr\\torun\\master\\1\n"
     ]
    }
   ],
   "source": [
    "run_directory = iprPy.load_run_directory('master_1')\n",
    "print(run_directory)"
   ]
  },
  {
   "cell_type": "markdown",
   "metadata": {},
   "source": [
    "## 3. Build database by copying reference records into it\n",
    "\n",
    "The **build_refs()** method copies the reference records in iprPy/library to the database for use in high-throughput calculations.\n",
    "\n",
    "Parameters\n",
    "\n",
    "- **lib_directory** (*str, optional*) The directory path for the library.  If not given, then it will use the iprPy/library directory.\n",
    "\n",
    "- **refresh** (*bool or list, optional*) If False (default) only new reference records are added.  If True, all existing reference records are refreshed by deleting the current ones in the database and uploading the references in lib_directory.  If a list is given, then only the reference record styles named in the list are refreshed."
   ]
  },
  {
   "cell_type": "markdown",
   "metadata": {},
   "source": [
    "Upload library records to database"
   ]
  },
  {
   "cell_type": "code",
   "execution_count": 3,
   "metadata": {},
   "outputs": [],
   "source": [
    "database = master\n",
    "refresh = False\n",
    "#refresh = ['potential_LAMMPS']\n",
    "\n",
    "database.build_refs(refresh=refresh)"
   ]
  },
  {
   "cell_type": "markdown",
   "metadata": {},
   "source": [
    "## 4. Check record numbers and status"
   ]
  },
  {
   "cell_type": "markdown",
   "metadata": {},
   "source": [
    "The **check_records()** method checks how many records of a given style are stored in the database.  If the record is a calculation record, it will also display how many are unfinished, issued errors, or have successfully finished."
   ]
  },
  {
   "cell_type": "code",
   "execution_count": 4,
   "metadata": {},
   "outputs": [
    {
     "name": "stdout",
     "output_type": "stream",
     "text": [
      "In database style mongo at localhost:27017.iprPy :\n",
      "- 283 of style potential_LAMMPS\n"
     ]
    }
   ],
   "source": [
    "database.check_records('potential_LAMMPS')"
   ]
  },
  {
   "cell_type": "code",
   "execution_count": 5,
   "metadata": {},
   "outputs": [
    {
     "name": "stdout",
     "output_type": "stream",
     "text": [
      "In database style mongo at localhost:27017.iprPy :\n",
      "- 35997 of style calculation_relax_box\n",
      " - 24883 are complete\n",
      " - 0 still to run\n",
      " - 11114 issued errors\n"
     ]
    }
   ],
   "source": [
    "database.check_records('calculation_relax_box')"
   ]
  },
  {
   "cell_type": "markdown",
   "metadata": {},
   "source": [
    "## 5. Copy records between databases\n",
    "\n",
    "The **copy_records()** method copies records from the current database to another database.  Either a list of records \n",
    "\n",
    "Parameters\n",
    "        \n",
    "- **dbase2** (*iprPy.Database*) The database to copy to.\n",
    "\n",
    "- **record_style** (*str, optional*) The record style to copy.  If record_style and records not given, then the available record styles will be listed and the user prompted to pick one.  Cannot be given with records.\n",
    "\n",
    "- **records** (*list, optional*) A list of iprPy.Record objects from the current database to copy to dbase2.  Allows the user full control on which records to copy/update.  Cannot be given with record_style.\n",
    "\n",
    "- **includetar** (*bool, optional*) If True, the tar archives will be copied along with the records. If False, only the records will be copied. (Default is True).\n",
    "\n",
    "- **overwrite** (*bool, optional*) If False (default) only new records and tars will be copied. If True, all existing content will be updated."
   ]
  },
  {
   "cell_type": "code",
   "execution_count": 9,
   "metadata": {},
   "outputs": [
    {
     "name": "stdout",
     "output_type": "stream",
     "text": [
      "947 records to try to copy\n",
      "947 records added/updated\n",
      "947 tars added/updated\n"
     ]
    }
   ],
   "source": [
    "source_database = local\n",
    "dest_database = master\n",
    "\n",
    "record_style = 'calculation_E_vs_r_scan'\n",
    "#records = source_database.get_records(...)\n",
    "\n",
    "source_database.copy_records(dest_database, \n",
    "                             record_style=record_style,\n",
    "                             #records=records,\n",
    "                             includetar=True,\n",
    "                             overwrite=True,\n",
    "                            )"
   ]
  },
  {
   "cell_type": "code",
   "execution_count": 6,
   "metadata": {},
   "outputs": [],
   "source": [
    "record = local.get_record(name='0a31c1dc-0377-406e-a6b4-36843e4cd39c')"
   ]
  },
  {
   "cell_type": "code",
   "execution_count": 7,
   "metadata": {},
   "outputs": [],
   "source": [
    "tar = local.get_tar(record=record, raw=True)"
   ]
  },
  {
   "cell_type": "code",
   "execution_count": 8,
   "metadata": {},
   "outputs": [],
   "source": [
    "master.add_tar(record=record, tar=tar)"
   ]
  },
  {
   "cell_type": "markdown",
   "metadata": {},
   "source": [
    "## 5. Clean calculation records\n",
    "\n",
    "The **clean_records()** method resets errored calculations of a specified record style.  Cleaning a record style means:\n",
    "\n",
    "- Resetting any calculations that issued errors back into a run_directory\n",
    "\n",
    "- Removing any .bid files in the calculation folders in the run_directory\n",
    "\n",
    "This is useful to resetting and rerunning calculations that may have failed for reasons external to the calculation's method.  E.g. runners terminated early, parameter conflicts for a limited number of potentials, debugging calculations.\n",
    "\n",
    "__WARNING:__ Conflicts may occur if you clean a run_directory that active runners are operating on as the .bid files are used to avoid multiple runners working on the same calculation at the same time."
   ]
  },
  {
   "cell_type": "code",
   "execution_count": 11,
   "metadata": {},
   "outputs": [],
   "source": [
    "#database.clean_records('calculation_E_vs_r_scan', 'demo_1')"
   ]
  },
  {
   "cell_type": "markdown",
   "metadata": {},
   "source": [
    "## 6. Destroy calculation records\n",
    "\n",
    "The **destroy_records()** method deletes all records of a specified style.  Useful if you want to reset any library records or rerun calculations with different parameters. \n",
    "\n",
    "**WARNING:** This is a permanent delete even for local database styles."
   ]
  },
  {
   "cell_type": "code",
   "execution_count": 12,
   "metadata": {},
   "outputs": [],
   "source": [
    "#database.destroy_records('calculation_E_vs_r_scan')"
   ]
  },
  {
   "cell_type": "markdown",
   "metadata": {},
   "source": [
    "## 7. Forget database information\n",
    "\n",
    "The **unset_database()** and **unset_run_directory()** functions will remove the saved settings for the databases. \n",
    "\n",
    "**NOTE:** Only the stored access information is removed as the records in a database and files in a run_directory will remain."
   ]
  },
  {
   "cell_type": "code",
   "execution_count": 13,
   "metadata": {},
   "outputs": [],
   "source": [
    "# Clear out existing definitions\n",
    "#iprPy.unset_database(name='demo')\n",
    "#iprPy.unset_run_directory(name='demo_1')\n",
    "#iprPy.unset_run_directory(name='demo_2')\n",
    "#iprPy.unset_run_directory(name='demo_3')\n",
    "#iprPy.unset_run_directory(name='demo_4')"
   ]
  }
 ],
 "metadata": {
  "kernelspec": {
   "display_name": "Python 3",
   "language": "python",
   "name": "python3"
  },
  "language_info": {
   "codemirror_mode": {
    "name": "ipython",
    "version": 3
   },
   "file_extension": ".py",
   "mimetype": "text/x-python",
   "name": "python",
   "nbconvert_exporter": "python",
   "pygments_lexer": "ipython3",
   "version": "3.7.1"
  }
 },
 "nbformat": 4,
 "nbformat_minor": 2
}
