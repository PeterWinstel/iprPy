{
 "cells": [
  {
   "cell_type": "markdown",
   "metadata": {},
   "source": [
    "# Fix LAMMPS versions\n",
    "\n",
    "Support for most interatomic potentials in LAMMPS has stayed consistent over the years, but occasionally updates in LAMMPS have resulted in certain potential implementations no longer working.  This Notebook provides a means of changing the LAMMPS version to use on prepared calculations so that those out-of-date implementations can be tested.\n",
    "\n",
    "__NOTE:__ In almost all cases, users should *always* select the most recent active implementation hosted in the repository.  This Notebook is primarily used by the NIST Interatomic Potentials Repository to verify if the different versions of the potentials behave identically in the versions of LAMMPS that support them.\n",
    "\n",
    "The newest versions of the potentials hosted should be compatible with the newest versions of LAMMPS.  If you find this not to be the case, please let us know by sending an email to [potentials@nist.gov](potentials@nist.gov)."
   ]
  },
  {
   "cell_type": "code",
   "execution_count": 1,
   "metadata": {},
   "outputs": [],
   "source": [
    "from pathlib import Path\n",
    "\n",
    "import iprPy"
   ]
  },
  {
   "cell_type": "markdown",
   "metadata": {},
   "source": [
    "## Define settings\n",
    "\n",
    "ALL PATHS ARE MACHINE DEPENDENT! SET USING WHAT YOU HAVE ON YOUR COMPUTER!"
   ]
  },
  {
   "cell_type": "code",
   "execution_count": 2,
   "metadata": {},
   "outputs": [],
   "source": [
    "# Pick the run directory to modify\n",
    "run_directory = iprPy.load_run_directory('master_1')\n",
    "\n",
    "# Define the current lammps executable path string to replace\n",
    "oldlammps = 'lmp_mpi'\n",
    "\n",
    "# Initialize replacementdict\n",
    "replacementdict = {}"
   ]
  },
  {
   "cell_type": "markdown",
   "metadata": {},
   "source": [
    "### SNAP potentials\n",
    "\n",
    "SNAP potentials have 4 variations:\n",
    "- 1 needs LAMMPS between 8 Oct 2014 and 30 May 2017\n",
    "- 2a needs LAMMPS between 30 May 2017 and 3 Dec 2018\n",
    "- 2 needs LAMMPS between 3 Dec 2018 and 12 June 2019\n",
    "- 3 needs LAMMPS after 12 June 2019"
   ]
  },
  {
   "cell_type": "markdown",
   "metadata": {},
   "source": [
    "1 needs LAMMPS between 8 Oct 2014 and 30 May 2017"
   ]
  },
  {
   "cell_type": "code",
   "execution_count": 3,
   "metadata": {},
   "outputs": [],
   "source": [
    "#lmp_snap_1 = 'C:/Program Files/LAMMPS/2017-01-27/bin/lmp_mpi'\n",
    "lmp_snap_1 = 'E:/LAMMPS/2017-01-27/bin/lmp_mpi'\n",
    "\n",
    "snap_1_potentials = ['2015--Thompson-A-P--Ta--LAMMPS--ipr1']\n",
    "\n",
    "for pot_id in snap_1_potentials:\n",
    "    replacementdict[pot_id] = lmp_snap_1"
   ]
  },
  {
   "cell_type": "code",
   "execution_count": 4,
   "metadata": {},
   "outputs": [],
   "source": [
    "#lmp_snap_2 = 'C:/Program Files/LAMMPS/2019-06-05/bin/lmp_mpi'\n",
    "lmp_snap_2 = 'E:/LAMMPS/2019-06-05/bin/lmp_mpi'\n",
    "\n",
    "snap_2_potentials = ['2015--Thompson-A-P--Ta--LAMMPS--ipr2']\n",
    "\n",
    "for pot_id in snap_2_potentials:\n",
    "    replacementdict[pot_id] = lmp_snap_2"
   ]
  },
  {
   "cell_type": "markdown",
   "metadata": {},
   "source": [
    "### Fail robust file checks\n",
    "\n",
    "The parameter file interpreters were updated in the Oct 30 2019 LAMMPS patch to perform more rigorous format checks.  A number of the older implementations hosted on the repository will not work for LAMMPS versions after that date."
   ]
  },
  {
   "cell_type": "code",
   "execution_count": 5,
   "metadata": {},
   "outputs": [],
   "source": [
    "#lmp_old = 'C:/Program Files/LAMMPS/2019-06-05/bin/lmp_mpi'\n",
    "lmp_old = 'E:/LAMMPS/2019-06-05/bin/lmp_mpi'\n",
    "old_potentials = [\n",
    "    '1987--Ackland-G-J--Mo--LAMMPS--ipr1',\n",
    "    '1987--Ackland-G-J--Mo--LAMMPS--ipr2',\n",
    "    '2011--Bonny-G--Fe-Cr--LAMMPS--ipr1',\n",
    "    '2013--Bonny-G--Fe-Cr-W--LAMMPS--ipr1',\n",
    "    '2013--Smirnova-D-E--U-Mo-Xe--LAMMPS--ipr1',\n",
    "]\n",
    " \n",
    "for pot_id in old_potentials:\n",
    "    replacementdict[pot_id] = lmp_old"
   ]
  },
  {
   "cell_type": "code",
   "execution_count": 6,
   "metadata": {},
   "outputs": [],
   "source": [
    "def changelammpsversions(run_directory, replacementdict, oldlammps):\n",
    "    \"\"\"\n",
    "    Iterates over all prepared calculations in a run_directory and updates\n",
    "    the LAMMPS version to use.\n",
    "    \n",
    "    Parameters\n",
    "    ----------\n",
    "    run_directory : Path\n",
    "        The run directory containing prepared calculations to update.\n",
    "    replacementdict : dict\n",
    "        keys are the LAMMPS potential ids and values are the Paths to the\n",
    "        LAMMPS executables to use.\n",
    "    oldlamms : str\n",
    "        The current lammps executable to replace with the correct path.    \n",
    "    \"\"\"\n",
    "    for inscript in run_directory.glob('*/calc_*.in'):\n",
    "        with open(inscript) as f:\n",
    "            content = f.read()\n",
    "        \n",
    "        for pot_id, lammps in replacementdict.items():\n",
    "            if pot_id in content:\n",
    "                content = content.replace(oldlammps, lammps)\n",
    "                break\n",
    "                \n",
    "        with open(inscript, 'w') as f:\n",
    "            f.write(content)"
   ]
  },
  {
   "cell_type": "code",
   "execution_count": 7,
   "metadata": {},
   "outputs": [],
   "source": [
    "changelammpsversions(run_directory, replacementdict, oldlammps)"
   ]
  },
  {
   "cell_type": "code",
   "execution_count": null,
   "metadata": {},
   "outputs": [],
   "source": []
  }
 ],
 "metadata": {
  "kernelspec": {
   "display_name": "Python 3",
   "language": "python",
   "name": "python3"
  },
  "language_info": {
   "codemirror_mode": {
    "name": "ipython",
    "version": 3
   },
   "file_extension": ".py",
   "mimetype": "text/x-python",
   "name": "python",
   "nbconvert_exporter": "python",
   "pygments_lexer": "ipython3",
   "version": "3.7.3"
  }
 },
 "nbformat": 4,
 "nbformat_minor": 2
}
