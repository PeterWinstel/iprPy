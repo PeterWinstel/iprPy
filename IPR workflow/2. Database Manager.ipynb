{
 "cells": [
  {
   "cell_type": "markdown",
   "metadata": {},
   "source": [
    "# Database Manager\n",
    "\n",
    "The Database Manager Notebook oversees commands related to defining database settings for setting up and performing calculation workflows.  At least one database needs to be defined in order to perform the calculation workflows.  In particular, this Notebook allows for \n",
    "\n",
    "- Defining databases,\n",
    "- Specifying the local run_directories where calculations will be placed/performed,\n",
    "- Copying/uploading reference records to the database,\n",
    "- Checking the number and status of records within a database,\n",
    "- Cleaning records in a database by resetting any that issued errors, and\n",
    "- Copying/removing database records."
   ]
  },
  {
   "cell_type": "markdown",
   "metadata": {},
   "source": [
    "__Global workflow details:__\n",
    "\n",
    "The commands offered by this Notebook are outside the global workflow, with the exception that new databases can be defined here before use in the other Notebooks."
   ]
  },
  {
   "cell_type": "markdown",
   "metadata": {},
   "source": [
    "**Library imports**"
   ]
  },
  {
   "cell_type": "code",
   "execution_count": 1,
   "metadata": {},
   "outputs": [
    {
     "name": "stdout",
     "output_type": "stream",
     "text": [
      "iprPy version 0.11.2\n"
     ]
    }
   ],
   "source": [
    "from pathlib import Path\n",
    "\n",
    "# https://github.com/usnistgov/iprPy\n",
    "import iprPy\n",
    "print('iprPy version', iprPy.__version__)"
   ]
  },
  {
   "cell_type": "markdown",
   "metadata": {},
   "source": [
    "## 1. Define databases\n",
    "\n",
    "Settings for accessing databases can be stored under simple names for easy access later."
   ]
  },
  {
   "cell_type": "markdown",
   "metadata": {},
   "source": [
    "The **list_databases()** function returns a list of all of the names for the stored databases."
   ]
  },
  {
   "cell_type": "code",
   "execution_count": 2,
   "metadata": {},
   "outputs": [
    {
     "name": "stdout",
     "output_type": "stream",
     "text": [
      "['potentials_local', 'potentials', 'master', 'iprhub', 'test']\n"
     ]
    }
   ],
   "source": [
    "print(iprPy.settings.list_databases)"
   ]
  },
  {
   "cell_type": "markdown",
   "metadata": {},
   "source": [
    "The **set_database()** function allows for database access information to be saved under a simple name."
   ]
  },
  {
   "cell_type": "markdown",
   "metadata": {},
   "source": [
    "### 1.1 Mongo database"
   ]
  },
  {
   "cell_type": "code",
   "execution_count": 3,
   "metadata": {},
   "outputs": [
    {
     "name": "stdout",
     "output_type": "stream",
     "text": [
      "Database master already defined.\n",
      "Overwrite? (yes or no): no\n"
     ]
    }
   ],
   "source": [
    "# Define local mongo database to save files to\n",
    "iprPy.settings.set_database(name='master', style='mongo', host='localhost', port=27017, database='iprPy')"
   ]
  },
  {
   "cell_type": "code",
   "execution_count": 20,
   "metadata": {},
   "outputs": [
    {
     "name": "stdout",
     "output_type": "stream",
     "text": [
      "database style mongo at localhost:27017.iprPy\n"
     ]
    }
   ],
   "source": [
    "master = iprPy.load_database('master')\n",
    "print(master)"
   ]
  },
  {
   "cell_type": "markdown",
   "metadata": {},
   "source": [
    "### 1.2 CDCS database"
   ]
  },
  {
   "cell_type": "code",
   "execution_count": 19,
   "metadata": {},
   "outputs": [
    {
     "name": "stdout",
     "output_type": "stream",
     "text": [
      "Database potentials already defined.\n",
      "Overwrite? (yes or no): no\n"
     ]
    }
   ],
   "source": [
    "# Specify remote CDCS database to save files to\n",
    "host = 'https://potentials.nist.gov/'\n",
    "\n",
    "# Define mdcs database called iprhub\n",
    "iprPy.settings.set_database(name='potentials', style='cdcs')"
   ]
  },
  {
   "cell_type": "code",
   "execution_count": 6,
   "metadata": {},
   "outputs": [
    {
     "name": "stdout",
     "output_type": "stream",
     "text": [
      "database style cdcs at https://potentials.nist.gov/\n"
     ]
    }
   ],
   "source": [
    "remote = iprPy.load_database('potentials')\n",
    "print(remote)"
   ]
  },
  {
   "cell_type": "markdown",
   "metadata": {},
   "source": [
    "### 1.3 Local database"
   ]
  },
  {
   "cell_type": "code",
   "execution_count": 4,
   "metadata": {},
   "outputs": [
    {
     "name": "stdout",
     "output_type": "stream",
     "text": [
      "Database test already defined.\n",
      "Overwrite? (yes or no): no\n"
     ]
    }
   ],
   "source": [
    "# Define local database called test\n",
    "host = 'E:/calculations/ipr/test'\n",
    "iprPy.settings.set_database(name='test', style='local', host=host)"
   ]
  },
  {
   "cell_type": "code",
   "execution_count": 11,
   "metadata": {},
   "outputs": [
    {
     "name": "stdout",
     "output_type": "stream",
     "text": [
      "database style local at C:\\Users\\lmh1\\Documents\\library\n"
     ]
    }
   ],
   "source": [
    "local = iprPy.load_database('potentials_local')\n",
    "print(local)"
   ]
  },
  {
   "cell_type": "code",
   "execution_count": 12,
   "metadata": {},
   "outputs": [
    {
     "name": "stdout",
     "output_type": "stream",
     "text": [
      "database style local at E:\\calculations\\ipr\\test\n"
     ]
    }
   ],
   "source": [
    "testdb = iprPy.load_database('test')\n",
    "print(testdb)"
   ]
  },
  {
   "cell_type": "markdown",
   "metadata": {},
   "source": [
    "## 2. Define run directories\n",
    "\n",
    "The high-throughput calculations are prepared and executed using local directories.  The paths to these directories can be saved and stored using simple names for easy access later."
   ]
  },
  {
   "cell_type": "markdown",
   "metadata": {},
   "source": [
    "The **list_run_directories()** function returns a list of all of the names for the stored run directories."
   ]
  },
  {
   "cell_type": "code",
   "execution_count": 16,
   "metadata": {},
   "outputs": [
    {
     "name": "stdout",
     "output_type": "stream",
     "text": [
      "['master_1', 'master_2', 'master_3', 'master_4', 'master_5', 'master_6', 'master_7', 'master_8', 'iprhub_1', 'iprhub_2', 'iprhub_3', 'iprhub_4', 'iprhub_5', 'iprhub_6', 'iprhub_7', 'iprhub_8', 'test_1', 'test_2', 'test_3', 'test_4', 'test_5', 'test_6', 'test_7', 'test_8']\n"
     ]
    }
   ],
   "source": [
    "print(iprPy.settings.list_run_directories)"
   ]
  },
  {
   "cell_type": "markdown",
   "metadata": {},
   "source": [
    "The **set_run_directory()** function allows for a local run directory to be saved under a simple name. For best functionality, each run_directory should be for a unique database and number of cores."
   ]
  },
  {
   "cell_type": "code",
   "execution_count": 15,
   "metadata": {},
   "outputs": [],
   "source": [
    "# Define running directories for up to four cores\n",
    "torun_root = Path('e:/calculations/ipr/torun')\n",
    "dbname = 'master'\n",
    "\n",
    "for i in range(8):\n",
    "    iprPy.settings.set_run_directory(name = f'{dbname}_{i+1}', \n",
    "                                     path = Path(torun_root, dbname, f'{i+1}'))"
   ]
  },
  {
   "cell_type": "markdown",
   "metadata": {},
   "source": [
    "The **load_run_directory()** function accesses the stored directory path associated with a run directory's name."
   ]
  },
  {
   "cell_type": "code",
   "execution_count": 17,
   "metadata": {},
   "outputs": [
    {
     "name": "stdout",
     "output_type": "stream",
     "text": [
      "E:\\calculations\\ipr\\torun\\master\\1\n"
     ]
    }
   ],
   "source": [
    "run_directory = iprPy.load_run_directory('master_1')\n",
    "print(run_directory)"
   ]
  },
  {
   "cell_type": "markdown",
   "metadata": {},
   "source": [
    "## 3. Get reference records\n",
    "\n",
    "The easiest way to get all of the reference records for the database is to\n",
    "\n",
    "1. Download/clone https://github.com/lmhale99/potentials-library\n",
    "2. Define a \"local\"-style database that points to the directory where #1 was saved.\n",
    "3. You can then either use that database or copy from there to another database.\n",
    "\n",
    "\n",
    "**Database.copy_references()** copies all records of the \"reference\" styles from a source database to another database.\n",
    "\n",
    "Parameters\n",
    "\n",
    "- __dest__ (*Database*) The destination database to copy the reference records to.\n",
    "- __includetar__ (*bool, optional*) If True, the tar archives will be copied along with the records. If False, only the records will be copied. (Default is True).\n",
    "- __overwrite__ (*bool, optional*) If False (default) only new records and tars will be copied. If True, all existing content will be updated.\n"
   ]
  },
  {
   "cell_type": "code",
   "execution_count": 14,
   "metadata": {},
   "outputs": [
    {
     "name": "stdout",
     "output_type": "stream",
     "text": [
      "potential_LAMMPS\n",
      "476 records to try to copy\n",
      "0 records added/updated\n",
      "potential_LAMMPS_KIM\n",
      "450 records to try to copy\n",
      "0 records added/updated\n",
      "crystal_prototype\n",
      "19 records to try to copy\n",
      "0 records added/updated\n",
      "reference_crystal\n",
      "6587 records to try to copy\n",
      "0 records added/updated\n",
      "free_surface\n",
      "146 records to try to copy\n",
      "0 records added/updated\n",
      "stacking_fault\n",
      "11 records to try to copy\n",
      "0 records added/updated\n",
      "point_defect\n",
      "38 records to try to copy\n",
      "0 records added/updated\n",
      "dislocation\n",
      "6 records to try to copy\n",
      "0 records added/updated\n"
     ]
    }
   ],
   "source": [
    "# Copy from \"local\" database, where the git repository is saved\n",
    "source = local\n",
    "\n",
    "# To the \"test\" database defined above\n",
    "dest = testdb\n",
    "\n",
    "source.copy_references(dest, includetar=False, overwrite=False)"
   ]
  },
  {
   "cell_type": "markdown",
   "metadata": {},
   "source": [
    "## 4. Check record numbers and status"
   ]
  },
  {
   "cell_type": "markdown",
   "metadata": {},
   "source": [
    "The **check_records()** method checks how many records of a given style are stored in the database.  If the record is a calculation record, it will also display how many are unfinished, issued errors, or have successfully finished."
   ]
  },
  {
   "cell_type": "code",
   "execution_count": 15,
   "metadata": {},
   "outputs": [],
   "source": [
    "database = testdb"
   ]
  },
  {
   "cell_type": "code",
   "execution_count": 16,
   "metadata": {},
   "outputs": [
    {
     "name": "stdout",
     "output_type": "stream",
     "text": [
      "In database style local at E:\\calculations\\ipr\\test:\n",
      "- 476 of style potential_LAMMPS\n",
      " - 0 finished\n",
      " - 0 not finished\n",
      " - 0 issued errors\n"
     ]
    }
   ],
   "source": [
    "database.check_records('potential_LAMMPS')"
   ]
  },
  {
   "cell_type": "code",
   "execution_count": 17,
   "metadata": {},
   "outputs": [
    {
     "name": "stdout",
     "output_type": "stream",
     "text": [
      "In database style local at E:\\calculations\\ipr\\test:\n",
      "- 17 of style calculation_phonon\n",
      " - 11 finished\n",
      " - 3 not finished\n",
      " - 3 issued errors\n"
     ]
    }
   ],
   "source": [
    "database.check_records('calculation_phonon')"
   ]
  },
  {
   "cell_type": "markdown",
   "metadata": {},
   "source": [
    "## 5. Copy records between databases\n",
    "\n",
    "The **copy_records()** method copies records from the current database to another database.  Either a list of records \n",
    "\n",
    "Parameters\n",
    "        \n",
    "- **dbase2** (*iprPy.Database*) The database to copy to.\n",
    "\n",
    "- **record_style** (*str, optional*) The record style to copy.  If record_style and records not given, then the available record styles will be listed and the user prompted to pick one.  Cannot be given with records.\n",
    "\n",
    "- **records** (*list, optional*) A list of iprPy.Record objects from the current database to copy to dbase2.  Allows the user full control on which records to copy/update.  Cannot be given with record_style.\n",
    "\n",
    "- **includetar** (*bool, optional*) If True, the tar archives will be copied along with the records. If False, only the records will be copied. (Default is True).\n",
    "\n",
    "- **overwrite** (*bool, optional*) If False (default) only new records and tars will be copied. If True, all existing content will be updated."
   ]
  },
  {
   "cell_type": "code",
   "execution_count": 21,
   "metadata": {},
   "outputs": [
    {
     "name": "stdout",
     "output_type": "stream",
     "text": [
      "1003 records to try to copy\n",
      "1003 records added/updated\n",
      "1003 tars added/updated\n"
     ]
    }
   ],
   "source": [
    "source = master\n",
    "dest = testdb\n",
    "\n",
    "record_style = 'calculation_isolated_atom'\n",
    "#records = source_database.get_records(...)\n",
    "\n",
    "source.copy_records(dest, \n",
    "                    record_style=record_style,\n",
    "                    #records=records,\n",
    "                    includetar=True,\n",
    "                    overwrite=True,\n",
    "                    )"
   ]
  },
  {
   "cell_type": "markdown",
   "metadata": {},
   "source": [
    "## 5. Clean calculation records\n",
    "\n",
    "The **clean_records()** method resets errored calculations of a specified record style.  Cleaning a record style means:\n",
    "\n",
    "- Resetting any calculations that issued errors back into a run_directory\n",
    "\n",
    "- Removing any .bid files in the calculation folders in the run_directory\n",
    "\n",
    "This is useful to resetting and rerunning calculations that may have failed for reasons external to the calculation's method.  E.g. runners terminated early, parameter conflicts for a limited number of potentials, debugging calculations.\n",
    "\n",
    "__WARNING:__ Conflicts may occur if you clean a run_directory that active runners are operating on as the .bid files are used to avoid multiple runners working on the same calculation at the same time."
   ]
  },
  {
   "cell_type": "code",
   "execution_count": null,
   "metadata": {},
   "outputs": [],
   "source": [
    "database = testdb"
   ]
  },
  {
   "cell_type": "code",
   "execution_count": 7,
   "metadata": {},
   "outputs": [
    {
     "name": "stdout",
     "output_type": "stream",
     "text": [
      "1 records to clean\n"
     ]
    }
   ],
   "source": [
    "database.clean_records(record_style='calculation_E_vs_r_scan', run_directory='test_1')"
   ]
  },
  {
   "cell_type": "code",
   "execution_count": 8,
   "metadata": {},
   "outputs": [],
   "source": [
    "record = database.get_record('694a24f9-aae6-43d4-9110-5e8c41968da8')"
   ]
  },
  {
   "cell_type": "code",
   "execution_count": 7,
   "metadata": {},
   "outputs": [
    {
     "name": "stdout",
     "output_type": "stream",
     "text": [
      "Select a run_directory:\n",
      "1 master_1\n",
      "2 master_2\n",
      "3 master_3\n",
      "4 master_4\n",
      "5 master_5\n",
      "6 master_6\n",
      "7 master_7\n",
      "8 master_8\n",
      "9 iprhub_1\n",
      ": "
     ]
    },
    {
     "name": "stdin",
     "output_type": "stream",
     "text": [
      " 4\n"
     ]
    },
    {
     "name": "stdout",
     "output_type": "stream",
     "text": [
      "1 records to clean\n"
     ]
    }
   ],
   "source": [
    "database.clean_records(records=[record])"
   ]
  },
  {
   "cell_type": "markdown",
   "metadata": {},
   "source": [
    "## 6. Destroy calculation records\n",
    "\n",
    "The **destroy_records()** method deletes all records of a specified style.  Useful if you want to reset any library records or rerun calculations with different parameters. \n",
    "\n",
    "**WARNING:** This is a permanent delete even for local database styles."
   ]
  },
  {
   "cell_type": "code",
   "execution_count": 22,
   "metadata": {},
   "outputs": [],
   "source": [
    "database = testdb"
   ]
  },
  {
   "cell_type": "code",
   "execution_count": 23,
   "metadata": {},
   "outputs": [
    {
     "name": "stdout",
     "output_type": "stream",
     "text": [
      "1005 records found to be destroyed\n",
      "Delete records? (must type yes): yes\n",
      "1005 records successfully deleted\n"
     ]
    }
   ],
   "source": [
    "database.destroy_records('calculation_isolated_atom')"
   ]
  },
  {
   "cell_type": "markdown",
   "metadata": {},
   "source": [
    "## 7. Forget database information\n",
    "\n",
    "The **unset_database()** and **unset_run_directory()** functions will remove the saved settings for the databases. \n",
    "\n",
    "**NOTE:** Only the stored access information is removed as the records in a database and files in a run_directory will remain."
   ]
  },
  {
   "cell_type": "code",
   "execution_count": 13,
   "metadata": {},
   "outputs": [],
   "source": [
    "# Clear out existing definitions\n",
    "#iprPy.unset_database(name='demo')\n",
    "#iprPy.unset_run_directory(name='demo_1')\n",
    "#iprPy.unset_run_directory(name='demo_2')\n",
    "#iprPy.unset_run_directory(name='demo_3')\n",
    "#iprPy.unset_run_directory(name='demo_4')"
   ]
  }
 ],
 "metadata": {
  "kernelspec": {
   "display_name": "Python 3 (ipykernel)",
   "language": "python",
   "name": "python3"
  },
  "language_info": {
   "codemirror_mode": {
    "name": "ipython",
    "version": 3
   },
   "file_extension": ".py",
   "mimetype": "text/x-python",
   "name": "python",
   "nbconvert_exporter": "python",
   "pygments_lexer": "ipython3",
   "version": "3.7.10"
  }
 },
 "nbformat": 4,
 "nbformat_minor": 4
}
