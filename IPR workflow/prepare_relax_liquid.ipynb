{
 "cells": [
  {
   "cell_type": "markdown",
   "id": "003c19ac",
   "metadata": {},
   "source": [
    "# Prepare script for relax_liquid calculations\n",
    "\n",
    "This Notebook is designed to prepare (and run) relax_liquid calculations at progressively smaller temperatures.   \n"
   ]
  },
  {
   "cell_type": "code",
   "execution_count": 1,
   "id": "73deb0b0",
   "metadata": {},
   "outputs": [],
   "source": [
    "import iprPy\n",
    "import numpy as np\n",
    "import atomman as am\n",
    "import potentials"
   ]
  },
  {
   "cell_type": "code",
   "execution_count": 2,
   "id": "db0063c1",
   "metadata": {},
   "outputs": [],
   "source": [
    "database_name = 'master'\n",
    "run_directory = 'master_4'\n",
    "lammps_command = 'C:/Users/lmh1/Documents/LAMMPS/2022-09-15/bin/lmp.exe'\n",
    "\n",
    "potential_LAMMPS_id = '2003--Mendelev-M-I--Fe-2--LAMMPS--ipr3'"
   ]
  },
  {
   "cell_type": "code",
   "execution_count": 3,
   "id": "113b6536",
   "metadata": {},
   "outputs": [],
   "source": [
    "database = iprPy.load_database(database_name)\n",
    "potdb = potentials.Database(local_database=database, local=True, remote=False)"
   ]
  },
  {
   "cell_type": "markdown",
   "id": "94675a58",
   "metadata": {},
   "source": [
    "## Prepare and run at melt temperature"
   ]
  },
  {
   "cell_type": "code",
   "execution_count": 4,
   "id": "2638e759",
   "metadata": {},
   "outputs": [
    {
     "name": "stderr",
     "output_type": "stream",
     "text": [
      "100%|████████████████████████████████████████████████████████████████████████████████| 494/494 [00:11<00:00, 43.57it/s]\n",
      "100%|████████████████████████████████████████████████████████████████████████████████| 450/450 [00:08<00:00, 51.73it/s]\n"
     ]
    },
    {
     "name": "stdout",
     "output_type": "stream",
     "text": [
      "794 potential ids found\n",
      "Preparing calculation relax_liquid branch main\n",
      "Using potential #s 0 to 793\n",
      "\n",
      "123 existing calculation records found\n",
      "1029 matching interatomic potentials found\n",
      "1 matching atomic parents found\n",
      "1 calculation combinations to check\n",
      "1 new records to prepare\n"
     ]
    },
    {
     "name": "stderr",
     "output_type": "stream",
     "text": [
      "preparing: 100%|#########################################################################| 1/1 [00:03<00:00,  3.06s/it]"
     ]
    },
    {
     "name": "stdout",
     "output_type": "stream",
     "text": [
      "\n",
      "Runner started with pid 19348\n"
     ]
    },
    {
     "name": "stderr",
     "output_type": "stream",
     "text": [
      "\n"
     ]
    },
    {
     "name": "stdout",
     "output_type": "stream",
     "text": [
      "ec8dbd71-a734-41f2-83ef-8097fb0e3197\n",
      "sim calculated successfully\n",
      "\n",
      "No simulations left to run\n"
     ]
    }
   ],
   "source": [
    "Tmelt = 3000\n",
    "\n",
    "# Fetch relaxed_crystal fcc records\n",
    "parents, parent_df = database.get_records('relaxed_crystal', family='A1--Cu--fcc', standing='good',\n",
    "                                          method='dynamic', potential_LAMMPS_id=potential_LAMMPS_id,\n",
    "                                          return_df=True)\n",
    "\n",
    "parent_keys = parent_df.key.tolist()\n",
    "\n",
    "database.master_prepare(\n",
    "    styles = 'relax_liquid',\n",
    "    np_per_runner = 1,\n",
    "    run_directory = run_directory,\n",
    "    num_pots = 900,\n",
    "    lammps_command = lammps_command,\n",
    "    temperature = str(Tmelt),\n",
    "    temperature_melt = str(Tmelt),\n",
    "    parent_key = parent_keys)\n",
    "\n",
    "database.runner(run_directory)"
   ]
  },
  {
   "cell_type": "markdown",
   "id": "cf3f91f2",
   "metadata": {},
   "source": [
    "## Load and check results"
   ]
  },
  {
   "cell_type": "code",
   "execution_count": null,
   "id": "42e6bda3",
   "metadata": {},
   "outputs": [],
   "source": [
    "calckey = '6ef01496-133d-401a-bc49-f152a64308ef'\n",
    "tar = database.get_tar(name=calckey, style='calculation_relax_liquid')\n",
    "f = tar.extractfile(f'{calckey}/log.lammps')\n",
    "output = am.lammps.Log(f)\n",
    "#content = f.readlines()"
   ]
  },
  {
   "cell_type": "code",
   "execution_count": null,
   "id": "904a102e",
   "metadata": {},
   "outputs": [],
   "source": [
    "thermo = output.simulations[1].thermo\n",
    "plt.plot(thermo.Step, thermo.Volume)"
   ]
  },
  {
   "cell_type": "code",
   "execution_count": null,
   "id": "f88bf95f",
   "metadata": {},
   "outputs": [],
   "source": [
    "#content[-2]"
   ]
  },
  {
   "cell_type": "markdown",
   "id": "d08938ec",
   "metadata": {},
   "source": [
    "## Prepare and run at lower T"
   ]
  },
  {
   "cell_type": "code",
   "execution_count": 6,
   "id": "01207a78",
   "metadata": {},
   "outputs": [
    {
     "name": "stdout",
     "output_type": "stream",
     "text": [
      "2950\n",
      "303 existing calculation records found\n",
      "1 calculation combinations to check\n",
      "0 new records to prepare\n"
     ]
    },
    {
     "name": "stderr",
     "output_type": "stream",
     "text": [
      "preparing: 0it [00:00, ?it/s]"
     ]
    },
    {
     "name": "stdout",
     "output_type": "stream",
     "text": [
      "Runner started with pid 19348\n",
      "No simulations left to run\n",
      "2900\n"
     ]
    },
    {
     "name": "stderr",
     "output_type": "stream",
     "text": [
      "\n"
     ]
    },
    {
     "name": "stdout",
     "output_type": "stream",
     "text": [
      "303 existing calculation records found\n",
      "1 calculation combinations to check\n",
      "0 new records to prepare\n"
     ]
    },
    {
     "name": "stderr",
     "output_type": "stream",
     "text": [
      "preparing: 0it [00:00, ?it/s]"
     ]
    },
    {
     "name": "stdout",
     "output_type": "stream",
     "text": [
      "Runner started with pid 19348\n",
      "No simulations left to run\n",
      "2850\n"
     ]
    },
    {
     "name": "stderr",
     "output_type": "stream",
     "text": [
      "\n"
     ]
    },
    {
     "name": "stdout",
     "output_type": "stream",
     "text": [
      "303 existing calculation records found\n",
      "1 calculation combinations to check\n",
      "0 new records to prepare\n"
     ]
    },
    {
     "name": "stderr",
     "output_type": "stream",
     "text": [
      "preparing: 0it [00:00, ?it/s]"
     ]
    },
    {
     "name": "stdout",
     "output_type": "stream",
     "text": [
      "Runner started with pid 19348\n",
      "No simulations left to run\n",
      "2800\n"
     ]
    },
    {
     "name": "stderr",
     "output_type": "stream",
     "text": [
      "\n"
     ]
    },
    {
     "name": "stdout",
     "output_type": "stream",
     "text": [
      "303 existing calculation records found\n",
      "1 calculation combinations to check\n",
      "0 new records to prepare\n"
     ]
    },
    {
     "name": "stderr",
     "output_type": "stream",
     "text": [
      "preparing: 0it [00:00, ?it/s]"
     ]
    },
    {
     "name": "stdout",
     "output_type": "stream",
     "text": [
      "Runner started with pid 19348\n",
      "No simulations left to run\n",
      "2750\n"
     ]
    },
    {
     "name": "stderr",
     "output_type": "stream",
     "text": [
      "\n"
     ]
    },
    {
     "name": "stdout",
     "output_type": "stream",
     "text": [
      "303 existing calculation records found\n",
      "1 calculation combinations to check\n",
      "0 new records to prepare\n"
     ]
    },
    {
     "name": "stderr",
     "output_type": "stream",
     "text": [
      "preparing: 0it [00:00, ?it/s]"
     ]
    },
    {
     "name": "stdout",
     "output_type": "stream",
     "text": [
      "Runner started with pid 19348\n",
      "No simulations left to run\n",
      "2700\n"
     ]
    },
    {
     "name": "stderr",
     "output_type": "stream",
     "text": [
      "\n"
     ]
    },
    {
     "name": "stdout",
     "output_type": "stream",
     "text": [
      "303 existing calculation records found\n",
      "1 calculation combinations to check\n",
      "0 new records to prepare\n"
     ]
    },
    {
     "name": "stderr",
     "output_type": "stream",
     "text": [
      "preparing: 0it [00:00, ?it/s]"
     ]
    },
    {
     "name": "stdout",
     "output_type": "stream",
     "text": [
      "Runner started with pid 19348\n",
      "No simulations left to run\n",
      "2650\n"
     ]
    },
    {
     "name": "stderr",
     "output_type": "stream",
     "text": [
      "\n"
     ]
    },
    {
     "name": "stdout",
     "output_type": "stream",
     "text": [
      "303 existing calculation records found\n",
      "1 calculation combinations to check\n",
      "0 new records to prepare\n"
     ]
    },
    {
     "name": "stderr",
     "output_type": "stream",
     "text": [
      "preparing: 0it [00:00, ?it/s]"
     ]
    },
    {
     "name": "stdout",
     "output_type": "stream",
     "text": [
      "Runner started with pid 19348\n",
      "No simulations left to run\n",
      "2600\n"
     ]
    },
    {
     "name": "stderr",
     "output_type": "stream",
     "text": [
      "\n"
     ]
    },
    {
     "name": "stdout",
     "output_type": "stream",
     "text": [
      "303 existing calculation records found\n",
      "1 calculation combinations to check\n",
      "0 new records to prepare\n"
     ]
    },
    {
     "name": "stderr",
     "output_type": "stream",
     "text": [
      "preparing: 0it [00:00, ?it/s]"
     ]
    },
    {
     "name": "stdout",
     "output_type": "stream",
     "text": [
      "Runner started with pid 19348\n",
      "No simulations left to run\n",
      "2550\n"
     ]
    },
    {
     "name": "stderr",
     "output_type": "stream",
     "text": [
      "\n"
     ]
    },
    {
     "name": "stdout",
     "output_type": "stream",
     "text": [
      "303 existing calculation records found\n",
      "1 calculation combinations to check\n",
      "0 new records to prepare\n"
     ]
    },
    {
     "name": "stderr",
     "output_type": "stream",
     "text": [
      "preparing: 0it [00:00, ?it/s]"
     ]
    },
    {
     "name": "stdout",
     "output_type": "stream",
     "text": [
      "Runner started with pid 19348\n",
      "No simulations left to run\n",
      "2500\n"
     ]
    },
    {
     "name": "stderr",
     "output_type": "stream",
     "text": [
      "\n"
     ]
    },
    {
     "name": "stdout",
     "output_type": "stream",
     "text": [
      "303 existing calculation records found\n",
      "1 calculation combinations to check\n",
      "0 new records to prepare\n"
     ]
    },
    {
     "name": "stderr",
     "output_type": "stream",
     "text": [
      "preparing: 0it [00:00, ?it/s]"
     ]
    },
    {
     "name": "stdout",
     "output_type": "stream",
     "text": [
      "Runner started with pid 19348\n",
      "No simulations left to run\n",
      "2450\n"
     ]
    },
    {
     "name": "stderr",
     "output_type": "stream",
     "text": [
      "\n"
     ]
    },
    {
     "name": "stdout",
     "output_type": "stream",
     "text": [
      "303 existing calculation records found\n",
      "1 calculation combinations to check\n",
      "0 new records to prepare\n"
     ]
    },
    {
     "name": "stderr",
     "output_type": "stream",
     "text": [
      "preparing: 0it [00:00, ?it/s]"
     ]
    },
    {
     "name": "stdout",
     "output_type": "stream",
     "text": [
      "Runner started with pid 19348\n",
      "No simulations left to run\n",
      "2400\n"
     ]
    },
    {
     "name": "stderr",
     "output_type": "stream",
     "text": [
      "\n"
     ]
    },
    {
     "name": "stdout",
     "output_type": "stream",
     "text": [
      "303 existing calculation records found\n",
      "1 calculation combinations to check\n",
      "0 new records to prepare\n"
     ]
    },
    {
     "name": "stderr",
     "output_type": "stream",
     "text": [
      "preparing: 0it [00:00, ?it/s]"
     ]
    },
    {
     "name": "stdout",
     "output_type": "stream",
     "text": [
      "Runner started with pid 19348\n",
      "No simulations left to run\n",
      "2350\n"
     ]
    },
    {
     "name": "stderr",
     "output_type": "stream",
     "text": [
      "\n"
     ]
    },
    {
     "name": "stdout",
     "output_type": "stream",
     "text": [
      "303 existing calculation records found\n",
      "1 calculation combinations to check\n",
      "0 new records to prepare\n"
     ]
    },
    {
     "name": "stderr",
     "output_type": "stream",
     "text": [
      "preparing: 0it [00:00, ?it/s]"
     ]
    },
    {
     "name": "stdout",
     "output_type": "stream",
     "text": [
      "Runner started with pid 19348\n",
      "No simulations left to run\n",
      "2300\n"
     ]
    },
    {
     "name": "stderr",
     "output_type": "stream",
     "text": [
      "\n"
     ]
    },
    {
     "name": "stdout",
     "output_type": "stream",
     "text": [
      "303 existing calculation records found\n",
      "1 calculation combinations to check\n",
      "0 new records to prepare\n"
     ]
    },
    {
     "name": "stderr",
     "output_type": "stream",
     "text": [
      "preparing: 0it [00:00, ?it/s]"
     ]
    },
    {
     "name": "stdout",
     "output_type": "stream",
     "text": [
      "Runner started with pid 19348\n",
      "No simulations left to run\n",
      "2250\n"
     ]
    },
    {
     "name": "stderr",
     "output_type": "stream",
     "text": [
      "\n"
     ]
    },
    {
     "name": "stdout",
     "output_type": "stream",
     "text": [
      "303 existing calculation records found\n",
      "1 calculation combinations to check\n",
      "0 new records to prepare\n"
     ]
    },
    {
     "name": "stderr",
     "output_type": "stream",
     "text": [
      "preparing: 0it [00:00, ?it/s]"
     ]
    },
    {
     "name": "stdout",
     "output_type": "stream",
     "text": [
      "Runner started with pid 19348\n",
      "No simulations left to run\n",
      "2200\n"
     ]
    },
    {
     "name": "stderr",
     "output_type": "stream",
     "text": [
      "\n"
     ]
    },
    {
     "name": "stdout",
     "output_type": "stream",
     "text": [
      "303 existing calculation records found\n",
      "1 calculation combinations to check\n",
      "0 new records to prepare\n"
     ]
    },
    {
     "name": "stderr",
     "output_type": "stream",
     "text": [
      "preparing: 0it [00:00, ?it/s]"
     ]
    },
    {
     "name": "stdout",
     "output_type": "stream",
     "text": [
      "Runner started with pid 19348\n",
      "No simulations left to run\n",
      "2150\n"
     ]
    },
    {
     "name": "stderr",
     "output_type": "stream",
     "text": [
      "\n"
     ]
    },
    {
     "name": "stdout",
     "output_type": "stream",
     "text": [
      "303 existing calculation records found\n",
      "1 calculation combinations to check\n",
      "0 new records to prepare\n"
     ]
    },
    {
     "name": "stderr",
     "output_type": "stream",
     "text": [
      "preparing: 0it [00:00, ?it/s]"
     ]
    },
    {
     "name": "stdout",
     "output_type": "stream",
     "text": [
      "Runner started with pid 19348\n",
      "No simulations left to run\n",
      "2100\n"
     ]
    },
    {
     "name": "stderr",
     "output_type": "stream",
     "text": [
      "\n"
     ]
    },
    {
     "name": "stdout",
     "output_type": "stream",
     "text": [
      "303 existing calculation records found\n",
      "1 calculation combinations to check\n",
      "0 new records to prepare\n"
     ]
    },
    {
     "name": "stderr",
     "output_type": "stream",
     "text": [
      "preparing: 0it [00:00, ?it/s]"
     ]
    },
    {
     "name": "stdout",
     "output_type": "stream",
     "text": [
      "Runner started with pid 19348\n",
      "No simulations left to run\n",
      "2050\n"
     ]
    },
    {
     "name": "stderr",
     "output_type": "stream",
     "text": [
      "\n"
     ]
    },
    {
     "name": "stdout",
     "output_type": "stream",
     "text": [
      "303 existing calculation records found\n",
      "1 calculation combinations to check\n",
      "0 new records to prepare\n"
     ]
    },
    {
     "name": "stderr",
     "output_type": "stream",
     "text": [
      "preparing: 0it [00:00, ?it/s]"
     ]
    },
    {
     "name": "stdout",
     "output_type": "stream",
     "text": [
      "Runner started with pid 19348\n",
      "No simulations left to run\n",
      "2000\n"
     ]
    },
    {
     "name": "stderr",
     "output_type": "stream",
     "text": [
      "\n"
     ]
    },
    {
     "name": "stdout",
     "output_type": "stream",
     "text": [
      "303 existing calculation records found\n",
      "1 calculation combinations to check\n",
      "0 new records to prepare\n"
     ]
    },
    {
     "name": "stderr",
     "output_type": "stream",
     "text": [
      "preparing: 0it [00:00, ?it/s]"
     ]
    },
    {
     "name": "stdout",
     "output_type": "stream",
     "text": [
      "Runner started with pid 19348\n",
      "No simulations left to run\n",
      "1950\n"
     ]
    },
    {
     "name": "stderr",
     "output_type": "stream",
     "text": [
      "\n"
     ]
    },
    {
     "name": "stdout",
     "output_type": "stream",
     "text": [
      "303 existing calculation records found\n",
      "1 calculation combinations to check\n",
      "0 new records to prepare\n"
     ]
    },
    {
     "name": "stderr",
     "output_type": "stream",
     "text": [
      "preparing: 0it [00:00, ?it/s]"
     ]
    },
    {
     "name": "stdout",
     "output_type": "stream",
     "text": [
      "Runner started with pid 19348\n",
      "No simulations left to run\n",
      "1900\n"
     ]
    },
    {
     "name": "stderr",
     "output_type": "stream",
     "text": [
      "\n"
     ]
    },
    {
     "name": "stdout",
     "output_type": "stream",
     "text": [
      "303 existing calculation records found\n",
      "1 calculation combinations to check\n",
      "0 new records to prepare\n"
     ]
    },
    {
     "name": "stderr",
     "output_type": "stream",
     "text": [
      "preparing: 0it [00:00, ?it/s]"
     ]
    },
    {
     "name": "stdout",
     "output_type": "stream",
     "text": [
      "Runner started with pid 19348\n",
      "No simulations left to run\n",
      "1850\n"
     ]
    },
    {
     "name": "stderr",
     "output_type": "stream",
     "text": [
      "\n"
     ]
    },
    {
     "name": "stdout",
     "output_type": "stream",
     "text": [
      "303 existing calculation records found\n",
      "1 calculation combinations to check\n",
      "0 new records to prepare\n"
     ]
    },
    {
     "name": "stderr",
     "output_type": "stream",
     "text": [
      "preparing: 0it [00:00, ?it/s]"
     ]
    },
    {
     "name": "stdout",
     "output_type": "stream",
     "text": [
      "Runner started with pid 19348\n",
      "No simulations left to run\n",
      "1800\n"
     ]
    },
    {
     "name": "stderr",
     "output_type": "stream",
     "text": [
      "\n"
     ]
    },
    {
     "name": "stdout",
     "output_type": "stream",
     "text": [
      "303 existing calculation records found\n",
      "1 calculation combinations to check\n",
      "0 new records to prepare\n"
     ]
    },
    {
     "name": "stderr",
     "output_type": "stream",
     "text": [
      "preparing: 0it [00:00, ?it/s]"
     ]
    },
    {
     "name": "stdout",
     "output_type": "stream",
     "text": [
      "Runner started with pid 19348\n",
      "No simulations left to run\n",
      "1750\n"
     ]
    },
    {
     "name": "stderr",
     "output_type": "stream",
     "text": [
      "\n"
     ]
    },
    {
     "name": "stdout",
     "output_type": "stream",
     "text": [
      "303 existing calculation records found\n",
      "1 calculation combinations to check\n",
      "0 new records to prepare\n"
     ]
    },
    {
     "name": "stderr",
     "output_type": "stream",
     "text": [
      "preparing: 0it [00:00, ?it/s]"
     ]
    },
    {
     "name": "stdout",
     "output_type": "stream",
     "text": [
      "Runner started with pid 19348\n",
      "No simulations left to run\n",
      "1700\n"
     ]
    },
    {
     "name": "stderr",
     "output_type": "stream",
     "text": [
      "\n"
     ]
    },
    {
     "name": "stdout",
     "output_type": "stream",
     "text": [
      "303 existing calculation records found\n",
      "1 calculation combinations to check\n",
      "0 new records to prepare\n"
     ]
    },
    {
     "name": "stderr",
     "output_type": "stream",
     "text": [
      "preparing: 0it [00:00, ?it/s]"
     ]
    },
    {
     "name": "stdout",
     "output_type": "stream",
     "text": [
      "Runner started with pid 19348\n",
      "No simulations left to run\n",
      "1650\n"
     ]
    },
    {
     "name": "stderr",
     "output_type": "stream",
     "text": [
      "\n"
     ]
    },
    {
     "name": "stdout",
     "output_type": "stream",
     "text": [
      "303 existing calculation records found\n",
      "1 calculation combinations to check\n",
      "0 new records to prepare\n"
     ]
    },
    {
     "name": "stderr",
     "output_type": "stream",
     "text": [
      "preparing: 0it [00:00, ?it/s]"
     ]
    },
    {
     "name": "stdout",
     "output_type": "stream",
     "text": [
      "Runner started with pid 19348\n",
      "No simulations left to run\n",
      "1600\n"
     ]
    },
    {
     "name": "stderr",
     "output_type": "stream",
     "text": [
      "\n"
     ]
    },
    {
     "name": "stdout",
     "output_type": "stream",
     "text": [
      "303 existing calculation records found\n",
      "1 calculation combinations to check\n",
      "0 new records to prepare\n"
     ]
    },
    {
     "name": "stderr",
     "output_type": "stream",
     "text": [
      "preparing: 0it [00:00, ?it/s]"
     ]
    },
    {
     "name": "stdout",
     "output_type": "stream",
     "text": [
      "Runner started with pid 19348\n",
      "No simulations left to run\n",
      "1550\n"
     ]
    },
    {
     "name": "stderr",
     "output_type": "stream",
     "text": [
      "\n"
     ]
    },
    {
     "name": "stdout",
     "output_type": "stream",
     "text": [
      "303 existing calculation records found\n",
      "1 calculation combinations to check\n",
      "0 new records to prepare\n"
     ]
    },
    {
     "name": "stderr",
     "output_type": "stream",
     "text": [
      "preparing: 0it [00:00, ?it/s]"
     ]
    },
    {
     "name": "stdout",
     "output_type": "stream",
     "text": [
      "Runner started with pid 19348\n",
      "No simulations left to run\n",
      "1500\n"
     ]
    },
    {
     "name": "stderr",
     "output_type": "stream",
     "text": [
      "\n"
     ]
    },
    {
     "name": "stdout",
     "output_type": "stream",
     "text": [
      "303 existing calculation records found\n",
      "1 calculation combinations to check\n",
      "0 new records to prepare\n"
     ]
    },
    {
     "name": "stderr",
     "output_type": "stream",
     "text": [
      "preparing: 0it [00:00, ?it/s]"
     ]
    },
    {
     "name": "stdout",
     "output_type": "stream",
     "text": [
      "Runner started with pid 19348\n",
      "No simulations left to run\n",
      "1450\n"
     ]
    },
    {
     "name": "stderr",
     "output_type": "stream",
     "text": [
      "\n"
     ]
    },
    {
     "name": "stdout",
     "output_type": "stream",
     "text": [
      "303 existing calculation records found\n",
      "1 calculation combinations to check\n",
      "0 new records to prepare\n"
     ]
    },
    {
     "name": "stderr",
     "output_type": "stream",
     "text": [
      "preparing: 0it [00:00, ?it/s]"
     ]
    },
    {
     "name": "stdout",
     "output_type": "stream",
     "text": [
      "Runner started with pid 19348\n",
      "No simulations left to run\n",
      "1400\n"
     ]
    },
    {
     "name": "stderr",
     "output_type": "stream",
     "text": [
      "\n"
     ]
    },
    {
     "name": "stdout",
     "output_type": "stream",
     "text": [
      "303 existing calculation records found\n",
      "1 calculation combinations to check\n",
      "0 new records to prepare\n"
     ]
    },
    {
     "name": "stderr",
     "output_type": "stream",
     "text": [
      "preparing: 0it [00:00, ?it/s]"
     ]
    },
    {
     "name": "stdout",
     "output_type": "stream",
     "text": [
      "Runner started with pid 19348\n",
      "No simulations left to run\n",
      "1350\n"
     ]
    },
    {
     "name": "stderr",
     "output_type": "stream",
     "text": [
      "\n"
     ]
    },
    {
     "name": "stdout",
     "output_type": "stream",
     "text": [
      "303 existing calculation records found\n",
      "1 calculation combinations to check\n",
      "0 new records to prepare\n"
     ]
    },
    {
     "name": "stderr",
     "output_type": "stream",
     "text": [
      "preparing: 0it [00:00, ?it/s]"
     ]
    },
    {
     "name": "stdout",
     "output_type": "stream",
     "text": [
      "Runner started with pid 19348\n",
      "No simulations left to run\n",
      "1300\n"
     ]
    },
    {
     "name": "stderr",
     "output_type": "stream",
     "text": [
      "\n"
     ]
    },
    {
     "name": "stdout",
     "output_type": "stream",
     "text": [
      "303 existing calculation records found\n",
      "1 calculation combinations to check\n",
      "0 new records to prepare\n"
     ]
    },
    {
     "name": "stderr",
     "output_type": "stream",
     "text": [
      "preparing: 0it [00:00, ?it/s]"
     ]
    },
    {
     "name": "stdout",
     "output_type": "stream",
     "text": [
      "Runner started with pid 19348\n",
      "No simulations left to run\n",
      "1250\n"
     ]
    },
    {
     "name": "stderr",
     "output_type": "stream",
     "text": [
      "\n"
     ]
    },
    {
     "name": "stdout",
     "output_type": "stream",
     "text": [
      "303 existing calculation records found\n",
      "1 calculation combinations to check\n",
      "0 new records to prepare\n"
     ]
    },
    {
     "name": "stderr",
     "output_type": "stream",
     "text": [
      "preparing: 0it [00:00, ?it/s]"
     ]
    },
    {
     "name": "stdout",
     "output_type": "stream",
     "text": [
      "Runner started with pid 19348\n",
      "No simulations left to run\n",
      "1200\n"
     ]
    },
    {
     "name": "stderr",
     "output_type": "stream",
     "text": [
      "\n"
     ]
    },
    {
     "name": "stdout",
     "output_type": "stream",
     "text": [
      "303 existing calculation records found\n",
      "1 calculation combinations to check\n",
      "0 new records to prepare\n"
     ]
    },
    {
     "name": "stderr",
     "output_type": "stream",
     "text": [
      "preparing: 0it [00:00, ?it/s]"
     ]
    },
    {
     "name": "stdout",
     "output_type": "stream",
     "text": [
      "Runner started with pid 19348\n",
      "No simulations left to run\n",
      "1150\n"
     ]
    },
    {
     "name": "stderr",
     "output_type": "stream",
     "text": [
      "\n"
     ]
    },
    {
     "name": "stdout",
     "output_type": "stream",
     "text": [
      "303 existing calculation records found\n",
      "1 calculation combinations to check\n",
      "0 new records to prepare\n"
     ]
    },
    {
     "name": "stderr",
     "output_type": "stream",
     "text": [
      "preparing: 0it [00:00, ?it/s]"
     ]
    },
    {
     "name": "stdout",
     "output_type": "stream",
     "text": [
      "Runner started with pid 19348\n",
      "No simulations left to run\n",
      "1100\n"
     ]
    },
    {
     "name": "stderr",
     "output_type": "stream",
     "text": [
      "\n"
     ]
    },
    {
     "name": "stdout",
     "output_type": "stream",
     "text": [
      "303 existing calculation records found\n",
      "1 calculation combinations to check\n",
      "0 new records to prepare\n"
     ]
    },
    {
     "name": "stderr",
     "output_type": "stream",
     "text": [
      "preparing: 0it [00:00, ?it/s]"
     ]
    },
    {
     "name": "stdout",
     "output_type": "stream",
     "text": [
      "Runner started with pid 19348\n",
      "No simulations left to run\n",
      "1050\n"
     ]
    },
    {
     "name": "stderr",
     "output_type": "stream",
     "text": [
      "\n"
     ]
    },
    {
     "name": "stdout",
     "output_type": "stream",
     "text": [
      "303 existing calculation records found\n",
      "1 calculation combinations to check\n",
      "0 new records to prepare\n"
     ]
    },
    {
     "name": "stderr",
     "output_type": "stream",
     "text": [
      "preparing: 0it [00:00, ?it/s]"
     ]
    },
    {
     "name": "stdout",
     "output_type": "stream",
     "text": [
      "Runner started with pid 19348\n",
      "No simulations left to run\n",
      "1000\n"
     ]
    },
    {
     "name": "stderr",
     "output_type": "stream",
     "text": [
      "\n"
     ]
    },
    {
     "name": "stdout",
     "output_type": "stream",
     "text": [
      "303 existing calculation records found\n",
      "1 calculation combinations to check\n",
      "0 new records to prepare\n"
     ]
    },
    {
     "name": "stderr",
     "output_type": "stream",
     "text": [
      "preparing: 0it [00:00, ?it/s]"
     ]
    },
    {
     "name": "stdout",
     "output_type": "stream",
     "text": [
      "Runner started with pid 19348\n",
      "No simulations left to run\n",
      "950\n"
     ]
    },
    {
     "name": "stderr",
     "output_type": "stream",
     "text": [
      "\n"
     ]
    },
    {
     "name": "stdout",
     "output_type": "stream",
     "text": [
      "303 existing calculation records found\n",
      "1 calculation combinations to check\n",
      "0 new records to prepare\n"
     ]
    },
    {
     "name": "stderr",
     "output_type": "stream",
     "text": [
      "preparing: 0it [00:00, ?it/s]"
     ]
    },
    {
     "name": "stdout",
     "output_type": "stream",
     "text": [
      "Runner started with pid 19348\n",
      "No simulations left to run\n",
      "900\n"
     ]
    },
    {
     "name": "stderr",
     "output_type": "stream",
     "text": [
      "\n"
     ]
    },
    {
     "name": "stdout",
     "output_type": "stream",
     "text": [
      "303 existing calculation records found\n",
      "1 calculation combinations to check\n",
      "0 new records to prepare\n"
     ]
    },
    {
     "name": "stderr",
     "output_type": "stream",
     "text": [
      "preparing: 0it [00:00, ?it/s]"
     ]
    },
    {
     "name": "stdout",
     "output_type": "stream",
     "text": [
      "Runner started with pid 19348\n",
      "No simulations left to run\n",
      "850\n"
     ]
    },
    {
     "name": "stderr",
     "output_type": "stream",
     "text": [
      "\n"
     ]
    },
    {
     "name": "stdout",
     "output_type": "stream",
     "text": [
      "303 existing calculation records found\n",
      "1 calculation combinations to check\n",
      "0 new records to prepare\n"
     ]
    },
    {
     "name": "stderr",
     "output_type": "stream",
     "text": [
      "preparing: 0it [00:00, ?it/s]"
     ]
    },
    {
     "name": "stdout",
     "output_type": "stream",
     "text": [
      "Runner started with pid 19348\n",
      "No simulations left to run\n",
      "800\n"
     ]
    },
    {
     "name": "stderr",
     "output_type": "stream",
     "text": [
      "\n"
     ]
    },
    {
     "name": "stdout",
     "output_type": "stream",
     "text": [
      "303 existing calculation records found\n",
      "1 calculation combinations to check\n",
      "0 new records to prepare\n"
     ]
    },
    {
     "name": "stderr",
     "output_type": "stream",
     "text": [
      "preparing: 0it [00:00, ?it/s]"
     ]
    },
    {
     "name": "stdout",
     "output_type": "stream",
     "text": [
      "Runner started with pid 19348\n",
      "No simulations left to run\n",
      "750\n"
     ]
    },
    {
     "name": "stderr",
     "output_type": "stream",
     "text": [
      "\n"
     ]
    },
    {
     "name": "stdout",
     "output_type": "stream",
     "text": [
      "303 existing calculation records found\n",
      "1 calculation combinations to check\n",
      "0 new records to prepare\n"
     ]
    },
    {
     "name": "stderr",
     "output_type": "stream",
     "text": [
      "preparing: 0it [00:00, ?it/s]"
     ]
    },
    {
     "name": "stdout",
     "output_type": "stream",
     "text": [
      "Runner started with pid 19348\n",
      "No simulations left to run\n",
      "700\n"
     ]
    },
    {
     "name": "stderr",
     "output_type": "stream",
     "text": [
      "\n"
     ]
    },
    {
     "name": "stdout",
     "output_type": "stream",
     "text": [
      "303 existing calculation records found\n",
      "1 calculation combinations to check\n",
      "0 new records to prepare\n"
     ]
    },
    {
     "name": "stderr",
     "output_type": "stream",
     "text": [
      "preparing: 0it [00:00, ?it/s]"
     ]
    },
    {
     "name": "stdout",
     "output_type": "stream",
     "text": [
      "Runner started with pid 19348\n",
      "No simulations left to run\n",
      "650\n"
     ]
    },
    {
     "name": "stderr",
     "output_type": "stream",
     "text": [
      "\n"
     ]
    },
    {
     "name": "stdout",
     "output_type": "stream",
     "text": [
      "303 existing calculation records found\n",
      "1 calculation combinations to check\n",
      "0 new records to prepare\n"
     ]
    },
    {
     "name": "stderr",
     "output_type": "stream",
     "text": [
      "preparing: 0it [00:00, ?it/s]"
     ]
    },
    {
     "name": "stdout",
     "output_type": "stream",
     "text": [
      "Runner started with pid 19348\n",
      "No simulations left to run\n",
      "600\n"
     ]
    },
    {
     "name": "stderr",
     "output_type": "stream",
     "text": [
      "\n"
     ]
    },
    {
     "name": "stdout",
     "output_type": "stream",
     "text": [
      "303 existing calculation records found\n",
      "1 calculation combinations to check\n",
      "0 new records to prepare\n"
     ]
    },
    {
     "name": "stderr",
     "output_type": "stream",
     "text": [
      "preparing: 0it [00:00, ?it/s]"
     ]
    },
    {
     "name": "stdout",
     "output_type": "stream",
     "text": [
      "Runner started with pid 19348\n",
      "No simulations left to run\n",
      "550\n"
     ]
    },
    {
     "name": "stderr",
     "output_type": "stream",
     "text": [
      "\n"
     ]
    },
    {
     "name": "stdout",
     "output_type": "stream",
     "text": [
      "303 existing calculation records found\n",
      "1 calculation combinations to check\n",
      "0 new records to prepare\n"
     ]
    },
    {
     "name": "stderr",
     "output_type": "stream",
     "text": [
      "preparing: 0it [00:00, ?it/s]"
     ]
    },
    {
     "name": "stdout",
     "output_type": "stream",
     "text": [
      "Runner started with pid 19348\n",
      "No simulations left to run\n",
      "500\n"
     ]
    },
    {
     "name": "stderr",
     "output_type": "stream",
     "text": [
      "\n"
     ]
    },
    {
     "name": "stdout",
     "output_type": "stream",
     "text": [
      "303 existing calculation records found\n",
      "1 calculation combinations to check\n",
      "0 new records to prepare\n"
     ]
    },
    {
     "name": "stderr",
     "output_type": "stream",
     "text": [
      "preparing: 0it [00:00, ?it/s]"
     ]
    },
    {
     "name": "stdout",
     "output_type": "stream",
     "text": [
      "Runner started with pid 19348\n",
      "No simulations left to run\n",
      "450\n"
     ]
    },
    {
     "name": "stderr",
     "output_type": "stream",
     "text": [
      "\n"
     ]
    },
    {
     "name": "stdout",
     "output_type": "stream",
     "text": [
      "303 existing calculation records found\n",
      "1 calculation combinations to check\n",
      "0 new records to prepare\n"
     ]
    },
    {
     "name": "stderr",
     "output_type": "stream",
     "text": [
      "preparing: 0it [00:00, ?it/s]"
     ]
    },
    {
     "name": "stdout",
     "output_type": "stream",
     "text": [
      "Runner started with pid 19348\n",
      "No simulations left to run\n",
      "400\n"
     ]
    },
    {
     "name": "stderr",
     "output_type": "stream",
     "text": [
      "\n"
     ]
    },
    {
     "name": "stdout",
     "output_type": "stream",
     "text": [
      "303 existing calculation records found\n",
      "1 calculation combinations to check\n",
      "0 new records to prepare\n"
     ]
    },
    {
     "name": "stderr",
     "output_type": "stream",
     "text": [
      "preparing: 0it [00:00, ?it/s]"
     ]
    },
    {
     "name": "stdout",
     "output_type": "stream",
     "text": [
      "Runner started with pid 19348\n",
      "No simulations left to run\n",
      "350\n"
     ]
    },
    {
     "name": "stderr",
     "output_type": "stream",
     "text": [
      "\n"
     ]
    },
    {
     "name": "stdout",
     "output_type": "stream",
     "text": [
      "303 existing calculation records found\n",
      "1 calculation combinations to check\n",
      "0 new records to prepare\n"
     ]
    },
    {
     "name": "stderr",
     "output_type": "stream",
     "text": [
      "preparing: 0it [00:00, ?it/s]"
     ]
    },
    {
     "name": "stdout",
     "output_type": "stream",
     "text": [
      "Runner started with pid 19348\n",
      "No simulations left to run\n",
      "300\n"
     ]
    },
    {
     "name": "stderr",
     "output_type": "stream",
     "text": [
      "\n"
     ]
    },
    {
     "name": "stdout",
     "output_type": "stream",
     "text": [
      "303 existing calculation records found\n",
      "1 calculation combinations to check\n",
      "0 new records to prepare\n"
     ]
    },
    {
     "name": "stderr",
     "output_type": "stream",
     "text": [
      "preparing: 0it [00:00, ?it/s]"
     ]
    },
    {
     "name": "stdout",
     "output_type": "stream",
     "text": [
      "Runner started with pid 19348\n",
      "No simulations left to run\n",
      "250\n"
     ]
    },
    {
     "name": "stderr",
     "output_type": "stream",
     "text": [
      "\n"
     ]
    },
    {
     "name": "stdout",
     "output_type": "stream",
     "text": [
      "303 existing calculation records found\n",
      "1 calculation combinations to check\n",
      "0 new records to prepare\n"
     ]
    },
    {
     "name": "stderr",
     "output_type": "stream",
     "text": [
      "preparing: 0it [00:00, ?it/s]"
     ]
    },
    {
     "name": "stdout",
     "output_type": "stream",
     "text": [
      "Runner started with pid 19348\n",
      "No simulations left to run\n",
      "200\n"
     ]
    },
    {
     "name": "stderr",
     "output_type": "stream",
     "text": [
      "\n"
     ]
    },
    {
     "name": "stdout",
     "output_type": "stream",
     "text": [
      "303 existing calculation records found\n",
      "1 calculation combinations to check\n",
      "0 new records to prepare\n"
     ]
    },
    {
     "name": "stderr",
     "output_type": "stream",
     "text": [
      "preparing: 0it [00:00, ?it/s]"
     ]
    },
    {
     "name": "stdout",
     "output_type": "stream",
     "text": [
      "Runner started with pid 19348\n",
      "No simulations left to run\n",
      "150\n"
     ]
    },
    {
     "name": "stderr",
     "output_type": "stream",
     "text": [
      "\n"
     ]
    },
    {
     "name": "stdout",
     "output_type": "stream",
     "text": [
      "303 existing calculation records found\n",
      "1 calculation combinations to check\n",
      "0 new records to prepare\n"
     ]
    },
    {
     "name": "stderr",
     "output_type": "stream",
     "text": [
      "preparing: 0it [00:00, ?it/s]"
     ]
    },
    {
     "name": "stdout",
     "output_type": "stream",
     "text": [
      "Runner started with pid 19348\n",
      "No simulations left to run\n",
      "100\n"
     ]
    },
    {
     "name": "stderr",
     "output_type": "stream",
     "text": [
      "\n"
     ]
    },
    {
     "name": "stdout",
     "output_type": "stream",
     "text": [
      "303 existing calculation records found\n",
      "1 calculation combinations to check\n",
      "0 new records to prepare\n"
     ]
    },
    {
     "name": "stderr",
     "output_type": "stream",
     "text": [
      "preparing: 0it [00:00, ?it/s]"
     ]
    },
    {
     "name": "stdout",
     "output_type": "stream",
     "text": [
      "Runner started with pid 19348\n",
      "No simulations left to run\n",
      "50\n"
     ]
    },
    {
     "name": "stderr",
     "output_type": "stream",
     "text": [
      "\n"
     ]
    },
    {
     "name": "stdout",
     "output_type": "stream",
     "text": [
      "303 existing calculation records found\n",
      "1 calculation combinations to check\n",
      "0 new records to prepare\n"
     ]
    },
    {
     "name": "stderr",
     "output_type": "stream",
     "text": [
      "preparing: 0it [00:00, ?it/s]"
     ]
    },
    {
     "name": "stdout",
     "output_type": "stream",
     "text": [
      "Runner started with pid 19348\n",
      "No simulations left to run\n"
     ]
    },
    {
     "name": "stderr",
     "output_type": "stream",
     "text": [
      "\n"
     ]
    }
   ],
   "source": [
    "for temperature in range(Tmelt-50, 0, -50):\n",
    "    print(temperature)\n",
    "    last_temp = temperature + 50\n",
    "    parents, parent_df = database.get_records('calculation_relax_liquid', status='finished',\n",
    "                                              potential_LAMMPS_id=potential_LAMMPS_id,\n",
    "                                              return_df=True)\n",
    "    parents = parents[parent_df.temperature == last_temp]\n",
    "    parent_df = parent_df[parent_df.temperature == last_temp].reset_index(drop=True)\n",
    "    if len(parent_df) == 0:\n",
    "        print('No records found for the previous temperature')\n",
    "        break\n",
    "        \n",
    "    # Construct global single keys\n",
    "    prepare_keys = {}\n",
    "    prepare_keys['lammps_command'] = lammps_command\n",
    "    prepare_keys['sizemults'] = '1 1 1'\n",
    "    prepare_keys['temperature'] = str(temperature)\n",
    "    prepare_keys['temperature_melt'] = str(last_temp)\n",
    "    prepare_keys['meltsteps'] = '0'\n",
    "\n",
    "    # Initialize multi keys\n",
    "    prepare_keys['potential_file'] = []\n",
    "    prepare_keys['potential_content'] = []\n",
    "    prepare_keys['potential_dir'] = []\n",
    "    prepare_keys['potential_dir_content'] = []\n",
    "    prepare_keys['potential_kim_id'] = []\n",
    "    prepare_keys['potential_kim_potid'] = []\n",
    "    prepare_keys['load_file'] = []\n",
    "    prepare_keys['load_content'] = []\n",
    "    prepare_keys['load_style'] = []\n",
    "    prepare_keys['symbols'] = []\n",
    "    prepare_keys['rdfcutoff'] = []\n",
    "\n",
    "    for potential_LAMMPS_key in np.unique(parent_df.potential_LAMMPS_key):\n",
    "        lmppot = potdb.get_lammps_potential(key=potential_LAMMPS_key)\n",
    "\n",
    "        for i in parent_df[parent_df.potential_LAMMPS_key == potential_LAMMPS_key].index:\n",
    "            parent = parents[i]\n",
    "            parent_series = parent_df.loc[i]\n",
    "\n",
    "            # Set potential info\n",
    "            prepare_keys['potential_file'].append(f'{lmppot.name}.json')\n",
    "            prepare_keys['potential_content'].append(f'record {lmppot.name}')\n",
    "            if lmppot.pair_style != 'kim':\n",
    "                prepare_keys['potential_dir'].append(lmppot.name)\n",
    "                prepare_keys['potential_dir_content'].append(f'tar {lmppot.name}')\n",
    "                prepare_keys['potential_kim_id'].append('')\n",
    "                prepare_keys['potential_kim_potid'].append('')\n",
    "            else:\n",
    "                prepare_keys['potential_dir'].append('')\n",
    "                prepare_keys['potential_dir_content'].append('')\n",
    "                prepare_keys['potential_kim_id'].append(lmppot.id)\n",
    "                if len(lmppot.potids) > 1:\n",
    "                    prepare_keys['potential_kim_potid'].append(lmppot.potid)\n",
    "                else:\n",
    "                    prepare_keys['potential_kim_potid'].append('')\n",
    "\n",
    "            # Set load file info\n",
    "            prepare_keys['load_file'].append(f'{parent.name}/{parent.final_dump[\"filename\"]}')\n",
    "            prepare_keys['load_content'].append(f'tarfile {parent.name} {parent.final_dump[\"filename\"]}')\n",
    "            prepare_keys['load_style'].append('atom_dump')\n",
    "            prepare_keys['symbols'].append(' '.join(parent.final_dump[\"symbols\"]))\n",
    "            \n",
    "            # Set other info\n",
    "            prepare_keys['rdfcutoff'].append(str(parent_series.rdfcutoff))\n",
    "    \n",
    "    database.prepare(run_directory, 'relax_liquid', **prepare_keys)\n",
    "    database.runner(run_directory)"
   ]
  },
  {
   "cell_type": "markdown",
   "id": "28736349",
   "metadata": {},
   "source": [
    "## Check errors (if needed)"
   ]
  },
  {
   "cell_type": "code",
   "execution_count": null,
   "id": "bfd6765c",
   "metadata": {},
   "outputs": [],
   "source": [
    "calcname = '2a90ed0b-b982-4991-b6fa-b3f89b15a134'\n",
    "tar = database.get_tar(name=calcname, style='calculation_relax_liquid')\n",
    "f = tar.extractfile(f'{calcname}/log.lammps')\n",
    "content = f.readlines()"
   ]
  },
  {
   "cell_type": "code",
   "execution_count": null,
   "id": "3157b7c1",
   "metadata": {},
   "outputs": [],
   "source": [
    "content[-2]"
   ]
  }
 ],
 "metadata": {
  "kernelspec": {
   "display_name": "Python 3 (ipykernel)",
   "language": "python",
   "name": "python3"
  },
  "language_info": {
   "codemirror_mode": {
    "name": "ipython",
    "version": 3
   },
   "file_extension": ".py",
   "mimetype": "text/x-python",
   "name": "python",
   "nbconvert_exporter": "python",
   "pygments_lexer": "ipython3",
   "version": "3.7.13"
  }
 },
 "nbformat": 4,
 "nbformat_minor": 5
}
