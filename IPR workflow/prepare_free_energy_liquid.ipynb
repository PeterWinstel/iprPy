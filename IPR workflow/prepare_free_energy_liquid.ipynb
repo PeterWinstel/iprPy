{
 "cells": [
  {
   "cell_type": "markdown",
   "id": "003c19ac",
   "metadata": {},
   "source": [
    "# Prepare script for free_energy_liquid calculations\n",
    "\n",
    "This Notebook is designed to prepare free_energy calculations basd on finished relax_liquid calculations. \n",
    "\n",
    "The actions in this Notebook may get replaced with a built-in buildcombos function later on...\n"
   ]
  },
  {
   "cell_type": "code",
   "execution_count": 1,
   "id": "73deb0b0",
   "metadata": {},
   "outputs": [],
   "source": [
    "import iprPy\n",
    "import numpy as np\n",
    "import atomman as am\n",
    "import potentials"
   ]
  },
  {
   "cell_type": "code",
   "execution_count": 2,
   "id": "db0063c1",
   "metadata": {},
   "outputs": [],
   "source": [
    "database_name = 'master'\n",
    "run_directory_name = 'master_6'\n",
    "\n",
    "lammps_command = 'C:/Users/lmh1/Documents/LAMMPS/2022-09-15/bin/lmp.exe'"
   ]
  },
  {
   "cell_type": "code",
   "execution_count": 3,
   "id": "113b6536",
   "metadata": {},
   "outputs": [],
   "source": [
    "database = iprPy.load_database(database_name)\n",
    "potdb = potentials.Database(local_database=database, local=True, remote=False)"
   ]
  },
  {
   "cell_type": "code",
   "execution_count": 4,
   "id": "2638e759",
   "metadata": {},
   "outputs": [],
   "source": [
    "# Fetch finished relax_dynamic records\n",
    "parents, parent_df = database.get_records('calculation_relax_liquid', status='finished', return_df=True)"
   ]
  },
  {
   "cell_type": "code",
   "execution_count": 5,
   "id": "1b5fcd05",
   "metadata": {},
   "outputs": [
    {
     "data": {
      "text/plain": [
       "Index(['name', 'key', 'iprPy_version', 'atomman_version', 'script', 'branch',\n",
       "       'status', 'lammps_version', 'potential_LAMMPS_key',\n",
       "       'potential_LAMMPS_id', 'potential_key', 'potential_id', 'load_file',\n",
       "       'load_style', 'load_options', 'parent_key', 'family', 'symbols',\n",
       "       'composition', 'a_mult1', 'a_mult2', 'b_mult1', 'b_mult2', 'c_mult1',\n",
       "       'c_mult2', 'atomshift', 'a_uvw', 'b_uvw', 'c_uvw', 'temperature',\n",
       "       'pressure', 'rdfcutoff', 'volume', 'volume_stderr',\n",
       "       'measured_temperature', 'measured_temperature_stderr',\n",
       "       'measured_pressure', 'measured_pressure_stderr', 'E_total',\n",
       "       'E_total_stderr', 'E_pot', 'E_pot_stderr', 'time_values',\n",
       "       'msd_x_values', 'msd_y_values', 'msd_z_values', 'msd_values'],\n",
       "      dtype='object')"
      ]
     },
     "execution_count": 5,
     "metadata": {},
     "output_type": "execute_result"
    }
   ],
   "source": [
    "parent_df.keys()"
   ]
  },
  {
   "cell_type": "code",
   "execution_count": 5,
   "id": "6c00fb0a",
   "metadata": {},
   "outputs": [],
   "source": [
    "# Construct global single keys\n",
    "prepare_keys = {}\n",
    "prepare_keys['lammps_command'] = lammps_command\n",
    "prepare_keys['equilsteps'] = '25000'\n",
    "prepare_keys['switchsteps'] = '50000'\n",
    "prepare_keys['sizemults'] = '1 1 1'\n",
    "\n",
    "# Initialize multi keys\n",
    "prepare_keys['potential_file'] = []\n",
    "prepare_keys['potential_content'] = []\n",
    "prepare_keys['potential_dir'] = []\n",
    "prepare_keys['potential_dir_content'] = []\n",
    "prepare_keys['potential_kim_id'] = []\n",
    "prepare_keys['potential_kim_potid'] = []\n",
    "prepare_keys['load_file'] = []\n",
    "prepare_keys['load_content'] = []\n",
    "prepare_keys['load_style'] = []\n",
    "prepare_keys['symbols'] = []\n",
    "prepare_keys['temperature'] = []\n",
    "\n",
    "for potential_LAMMPS_key in np.unique(parent_df.potential_LAMMPS_key):\n",
    "    lmppot = potdb.get_lammps_potential(key=potential_LAMMPS_key)\n",
    "    \n",
    "    for i in parent_df[parent_df.potential_LAMMPS_key == potential_LAMMPS_key].index:\n",
    "        parent = parents[i]\n",
    "        parent_series = parent_df.loc[i]\n",
    "        \n",
    "        # Set potential info\n",
    "        prepare_keys['potential_file'].append(f'{lmppot.name}.json')\n",
    "        prepare_keys['potential_content'].append(f'record {lmppot.name}')\n",
    "        if lmppot.pair_style != 'kim':\n",
    "            prepare_keys['potential_dir'].append(lmppot.name)\n",
    "            prepare_keys['potential_dir_content'].append(f'tar {lmppot.name}')\n",
    "            prepare_keys['potential_kim_id'].append('')\n",
    "            prepare_keys['potential_kim_potid'].append('')\n",
    "        else:\n",
    "            prepare_keys['potential_dir'].append('')\n",
    "            prepare_keys['potential_dir_content'].append('')\n",
    "            prepare_keys['potential_kim_id'].append(lmppot.id)\n",
    "            if len(lmppot.potids) > 1:\n",
    "                prepare_keys['potential_kim_potid'].append(lmppot.potid)\n",
    "            else:\n",
    "                prepare_keys['potential_kim_potid'].append('')\n",
    "                \n",
    "        # Set load file info\n",
    "        prepare_keys['load_file'].append(f'{parent.name}/{parent.final_dump[\"filename\"]}')\n",
    "        prepare_keys['load_content'].append(f'tarfile {parent.name} {parent.final_dump[\"filename\"]}')\n",
    "        prepare_keys['load_style'].append('atom_dump')\n",
    "        prepare_keys['symbols'].append(' '.join(parent.final_dump[\"symbols\"]))\n",
    "        \n",
    "        prepare_keys['temperature'].append(str(parent.temperature))\n",
    "    \n",
    "    \n"
   ]
  },
  {
   "cell_type": "code",
   "execution_count": 6,
   "id": "748362bb",
   "metadata": {},
   "outputs": [
    {
     "name": "stdout",
     "output_type": "stream",
     "text": [
      "300 existing calculation records found\n",
      "326 calculation combinations to check\n",
      "26 new records to prepare\n"
     ]
    },
    {
     "name": "stderr",
     "output_type": "stream",
     "text": [
      "preparing: 100%|#######################################################################| 26/26 [02:25<00:00,  5.60s/it]\n"
     ]
    }
   ],
   "source": [
    "database.prepare(run_directory_name, 'free_energy_liquid', **prepare_keys)"
   ]
  },
  {
   "cell_type": "code",
   "execution_count": 15,
   "id": "28ea0694",
   "metadata": {},
   "outputs": [
    {
     "name": "stdout",
     "output_type": "stream",
     "text": [
      "lammps_command 53\n",
      "equilsteps 5\n",
      "switchsteps 5\n",
      "sizemults 5\n",
      "potential_file 60\n",
      "potential_content 60\n",
      "potential_dir 60\n",
      "potential_dir_content 60\n",
      "potential_kim_id 60\n",
      "potential_kim_potid 60\n",
      "load_file 60\n",
      "load_content 60\n",
      "load_style 60\n",
      "symbols 60\n",
      "box_parameters 0\n",
      "temperature 60\n"
     ]
    }
   ],
   "source": [
    "for key in prepare_keys:\n",
    "    print(key, len(prepare_keys[key]))"
   ]
  },
  {
   "cell_type": "code",
   "execution_count": null,
   "id": "93c37779",
   "metadata": {},
   "outputs": [],
   "source": []
  }
 ],
 "metadata": {
  "kernelspec": {
   "display_name": "Python 3 (ipykernel)",
   "language": "python",
   "name": "python3"
  },
  "language_info": {
   "codemirror_mode": {
    "name": "ipython",
    "version": 3
   },
   "file_extension": ".py",
   "mimetype": "text/x-python",
   "name": "python",
   "nbconvert_exporter": "python",
   "pygments_lexer": "ipython3",
   "version": "3.7.13"
  }
 },
 "nbformat": 4,
 "nbformat_minor": 5
}
