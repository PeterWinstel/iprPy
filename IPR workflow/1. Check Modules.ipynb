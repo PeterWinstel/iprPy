{
 "cells": [
  {
   "cell_type": "markdown",
   "metadata": {},
   "source": [
    "# Check Modules\n",
    "\n",
    "The Check Modules Notebook loads iprPy and calls the check_modules() function to test the current status of all included modules.  The output provides details about which modules are currently available.  In particular, the modules that fail import likely raise either\n",
    "\n",
    "- __ModuleNotFoundError__ if the module has additional Python library requirements that need to be installed.\n",
    "- __NotImplementedError__ if the module is in development or needs to be updated to current iprPy versions."
   ]
  },
  {
   "cell_type": "code",
   "execution_count": 1,
   "metadata": {},
   "outputs": [
    {
     "name": "stdout",
     "output_type": "stream",
     "text": [
      "iprPy version 0.11.2\n"
     ]
    }
   ],
   "source": [
    "import iprPy\n",
    "print('iprPy version', iprPy.__version__)"
   ]
  },
  {
   "cell_type": "code",
   "execution_count": 2,
   "metadata": {},
   "outputs": [
    {
     "name": "stdout",
     "output_type": "stream",
     "text": [
      "Database styles that passed import:\n",
      "- local: <class 'iprPy.database.LocalDatabase'>\n",
      "- mongo: <class 'iprPy.database.MongoDatabase'>\n",
      "- cdcs: <class 'iprPy.database.CDCSDatabase'>\n",
      "Database styles that failed import:\n",
      "\n",
      "\n",
      "Calculation styles that passed import:\n",
      "- crystal_space_group: <class 'iprPy.calculation.crystal_space_group.CrystalSpaceGroup.CrystalSpaceGroup'>\n",
      "- diatom_scan: <class 'iprPy.calculation.diatom_scan.DiatomScan.DiatomScan'>\n",
      "- dislocation_monopole: <class 'iprPy.calculation.dislocation_monopole.DislocationMonopole.DislocationMonopole'>\n",
      "- dislocation_periodic_array: <class 'iprPy.calculation.dislocation_periodic_array.DislocationPeriodicArray.DislocationPeriodicArray'>\n",
      "- dislocation_SDVPN: <class 'iprPy.calculation.dislocation_SDVPN.DislocationSDVPN.DislocationSDVPN'>\n",
      "- elastic_constants_static: <class 'iprPy.calculation.elastic_constants_static.ElasticConstantsStatic.ElasticConstantsStatic'>\n",
      "- E_vs_r_scan: <class 'iprPy.calculation.E_vs_r_scan.EvsRScan.EvsRScan'>\n",
      "- isolated_atom: <class 'iprPy.calculation.isolated_atom.IsolatedAtom.IsolatedAtom'>\n",
      "- phonon: <class 'iprPy.calculation.phonon.Phonon.Phonon'>\n",
      "- point_defect_diffusion: <class 'iprPy.calculation.point_defect_diffusion.PointDefectDiffusion.PointDefectDiffusion'>\n",
      "- point_defect_static: <class 'iprPy.calculation.point_defect_static.PointDefectStatic.PointDefectStatic'>\n",
      "- relax_box: <class 'iprPy.calculation.relax_box.RelaxBox.RelaxBox'>\n",
      "- relax_dynamic: <class 'iprPy.calculation.relax_dynamic.RelaxDynamic.RelaxDynamic'>\n",
      "- relax_static: <class 'iprPy.calculation.relax_static.RelaxStatic.RelaxStatic'>\n",
      "- stacking_fault_map_2D: <class 'iprPy.calculation.stacking_fault_map_2D.StackingFaultMap2D.StackingFaultMap2D'>\n",
      "- stacking_fault_static: <class 'iprPy.calculation.stacking_fault_static.StackingFaultStatic.StackingFaultStatic'>\n",
      "- surface_energy_static: <class 'iprPy.calculation.surface_energy_static.SurfaceEnergyStatic.SurfaceEnergyStatic'>\n",
      "Calculation styles that failed import:\n",
      "- bain_transformation_map: <class 'NotImplementedError'>: Testing not finished\n",
      "- bond_angle_scan: <class 'NotImplementedError'>: Testing not finished\n",
      "- dislocation_monopole_crss: <class 'NotImplementedError'>: Needs updating\n",
      "- dislocation_periodic_array_stress: <class 'NotImplementedError'>: Needs updating\n",
      "- dislocation_SDVPN_stress: <class 'NotImplementedError'>: Needs updating\n",
      "- dislocation_vacancy: <class 'NotImplementedError'>: Needs updating\n",
      "- elastic_constants_dynamic: <class 'NotImplementedError'>: Needs updating\n",
      "- grain_boundary_bcc: <class 'NotImplementedError'>: Needs updating\n",
      "- grain_boundary_search: <class 'NotImplementedError'>: Needs updating\n",
      "\n",
      "\n",
      "Record styles that passed import:\n",
      "- Citation: <class 'potentials.record.Citation.Citation'>\n",
      "- Potential: <class 'potentials.record.Potential.Potential'>\n",
      "- potential_LAMMPS: <class 'potentials.record.PotentialLAMMPS.PotentialLAMMPS'>\n",
      "- potential_LAMMPS_KIM: <class 'potentials.record.PotentialLAMMPSKIM.PotentialLAMMPSKIM'>\n",
      "- Action: <class 'potentials.record.Action.Action'>\n",
      "- Request: <class 'potentials.record.Request.Request'>\n",
      "- FAQ: <class 'potentials.record.FAQ.FAQ'>\n",
      "- crystal_prototype: <class 'atomman.library.record.CrystalPrototype.CrystalPrototype'>\n",
      "- relaxed_crystal: <class 'atomman.library.record.RelaxedCrystal.RelaxedCrystal'>\n",
      "- reference_crystal: <class 'atomman.library.record.ReferenceCrystal.ReferenceCrystal'>\n",
      "- free_surface: <class 'atomman.library.record.FreeSurface.FreeSurface'>\n",
      "- stacking_fault: <class 'atomman.library.record.StackingFault.StackingFault'>\n",
      "- point_defect: <class 'atomman.library.record.PointDefect.PointDefect'>\n",
      "- dislocation: <class 'atomman.library.record.Dislocation.Dislocation'>\n",
      "- PotentialProperties: <class 'iprPy.record.PotentialProperties.PotentialProperties'>\n",
      "- calculation_crystal_space_group: <class 'iprPy.calculation.crystal_space_group.CrystalSpaceGroup.CrystalSpaceGroup'>\n",
      "- calculation_diatom_scan: <class 'iprPy.calculation.diatom_scan.DiatomScan.DiatomScan'>\n",
      "- calculation_dislocation_monopole: <class 'iprPy.calculation.dislocation_monopole.DislocationMonopole.DislocationMonopole'>\n",
      "- calculation_dislocation_periodic_array: <class 'iprPy.calculation.dislocation_periodic_array.DislocationPeriodicArray.DislocationPeriodicArray'>\n",
      "- calculation_dislocation_SDVPN: <class 'iprPy.calculation.dislocation_SDVPN.DislocationSDVPN.DislocationSDVPN'>\n",
      "- calculation_elastic_constants_static: <class 'iprPy.calculation.elastic_constants_static.ElasticConstantsStatic.ElasticConstantsStatic'>\n",
      "- calculation_E_vs_r_scan: <class 'iprPy.calculation.E_vs_r_scan.EvsRScan.EvsRScan'>\n",
      "- calculation_isolated_atom: <class 'iprPy.calculation.isolated_atom.IsolatedAtom.IsolatedAtom'>\n",
      "- calculation_phonon: <class 'iprPy.calculation.phonon.Phonon.Phonon'>\n",
      "- calculation_point_defect_diffusion: <class 'iprPy.calculation.point_defect_diffusion.PointDefectDiffusion.PointDefectDiffusion'>\n",
      "- calculation_point_defect_static: <class 'iprPy.calculation.point_defect_static.PointDefectStatic.PointDefectStatic'>\n",
      "- calculation_relax_box: <class 'iprPy.calculation.relax_box.RelaxBox.RelaxBox'>\n",
      "- calculation_relax_dynamic: <class 'iprPy.calculation.relax_dynamic.RelaxDynamic.RelaxDynamic'>\n",
      "- calculation_relax_static: <class 'iprPy.calculation.relax_static.RelaxStatic.RelaxStatic'>\n",
      "- calculation_stacking_fault_map_2D: <class 'iprPy.calculation.stacking_fault_map_2D.StackingFaultMap2D.StackingFaultMap2D'>\n",
      "- calculation_stacking_fault_static: <class 'iprPy.calculation.stacking_fault_static.StackingFaultStatic.StackingFaultStatic'>\n",
      "- calculation_surface_energy_static: <class 'iprPy.calculation.surface_energy_static.SurfaceEnergyStatic.SurfaceEnergyStatic'>\n",
      "Record styles that failed import:\n",
      "- calculation_bain_transformation_map: <class 'NotImplementedError'>: Testing not finished\n",
      "- calculation_bond_angle_scan: <class 'NotImplementedError'>: Testing not finished\n",
      "- calculation_dislocation_monopole_crss: <class 'NotImplementedError'>: Needs updating\n",
      "- calculation_dislocation_periodic_array_stress: <class 'NotImplementedError'>: Needs updating\n",
      "- calculation_dislocation_SDVPN_stress: <class 'NotImplementedError'>: Needs updating\n",
      "- calculation_dislocation_vacancy: <class 'NotImplementedError'>: Needs updating\n",
      "- calculation_elastic_constants_dynamic: <class 'NotImplementedError'>: Needs updating\n",
      "- calculation_grain_boundary_bcc: <class 'NotImplementedError'>: Needs updating\n",
      "- calculation_grain_boundary_search: <class 'NotImplementedError'>: Needs updating\n",
      "\n"
     ]
    }
   ],
   "source": [
    "iprPy.check_modules()"
   ]
  },
  {
   "cell_type": "markdown",
   "metadata": {},
   "source": [
    " "
   ]
  }
 ],
 "metadata": {
  "kernelspec": {
   "display_name": "Python 3 (ipykernel)",
   "language": "python",
   "name": "python3"
  },
  "language_info": {
   "codemirror_mode": {
    "name": "ipython",
    "version": 3
   },
   "file_extension": ".py",
   "mimetype": "text/x-python",
   "name": "python",
   "nbconvert_exporter": "python",
   "pygments_lexer": "ipython3",
   "version": "3.7.10"
  }
 },
 "nbformat": 4,
 "nbformat_minor": 4
}
