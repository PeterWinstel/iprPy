{
 "cells": [
  {
   "cell_type": "code",
   "execution_count": 1,
   "metadata": {},
   "outputs": [],
   "source": [
    "from pymongo import MongoClient\n",
    "\n",
    "from DataModelDict import DataModelDict as DM"
   ]
  },
  {
   "cell_type": "markdown",
   "metadata": {},
   "source": [
    "Load records directly using pymongo"
   ]
  },
  {
   "cell_type": "code",
   "execution_count": 2,
   "metadata": {},
   "outputs": [],
   "source": [
    "client = MongoClient(document_class=DM)\n",
    "db = client.iprPy"
   ]
  },
  {
   "cell_type": "code",
   "execution_count": 3,
   "metadata": {},
   "outputs": [],
   "source": [
    "def add_branch(record, branch):\n",
    "\n",
    "    model = record['content']\n",
    "    root = list(model.keys())[0]\n",
    "\n",
    "    # initialize new dict\n",
    "    newmodel = DM()\n",
    "    newmodel[root] = DM()\n",
    "\n",
    "    # Copy over values\n",
    "    for key1 in model[root]:\n",
    "        if key1 == 'calculation':\n",
    "            newmodel[root]['calculation'] = DM()\n",
    "            for key2 in model[root]['calculation']:\n",
    "                newmodel[root]['calculation'][key2] = model[root]['calculation'][key2]\n",
    "\n",
    "                # Add in branch\n",
    "                if key2 == 'script':\n",
    "                    newmodel[root]['calculation']['branch'] = branch\n",
    "        else:\n",
    "            newmodel[root][key1] = model[root][key1]\n",
    "\n",
    "    record['content'] = newmodel"
   ]
  },
  {
   "cell_type": "code",
   "execution_count": 32,
   "metadata": {},
   "outputs": [],
   "source": [
    "record_style = 'calculation_crystal_space_group'\n",
    "\n",
    "collection = db[record_style]"
   ]
  },
  {
   "cell_type": "code",
   "execution_count": 34,
   "metadata": {},
   "outputs": [
    {
     "name": "stdout",
     "output_type": "stream",
     "text": [
      "5770\n"
     ]
    }
   ],
   "source": [
    "branch = 'protoref'\n",
    "query = {\"content.calculation-crystal-space-group.system-info.artifact.format\":{\"$ne\":\"atom_dump\"}}\n",
    "records = collection.find(query)\n",
    "\n",
    "i = 0\n",
    "while True:\n",
    "    try:\n",
    "        record = records[i]\n",
    "    except:\n",
    "        break\n",
    "    \n",
    "    add_branch(record, branch)\n",
    "    collection.replace_one({'_id': record['_id']}, record)\n",
    "    \n",
    "    i+= 1\n",
    "    \n",
    "print(i)"
   ]
  },
  {
   "cell_type": "code",
   "execution_count": 29,
   "metadata": {},
   "outputs": [
    {
     "data": {
      "text/plain": [
       "<pymongo.cursor.Cursor at 0x2128b63ca90>"
      ]
     },
     "execution_count": 29,
     "metadata": {},
     "output_type": "execute_result"
    }
   ],
   "source": [
    "collection.find({\"content.calculation-relax-static.calculation.branch\":\"main\"}, {\"name\":\"1\"})"
   ]
  },
  {
   "cell_type": "code",
   "execution_count": 30,
   "metadata": {},
   "outputs": [],
   "source": [
    "test = collection.find({\"content.calculation-relax-static.calculation.branch\":\"main\"}, {\"name\":\"1\"})"
   ]
  },
  {
   "cell_type": "code",
   "execution_count": 31,
   "metadata": {},
   "outputs": [
    {
     "data": {
      "text/plain": [
       "DataModelDict([('_id', ObjectId('5c9f5688ed33d975d06f472c')),\n",
       "               ('name', '0000970d-b6f2-42d0-9c53-88bf725cf222')])"
      ]
     },
     "execution_count": 31,
     "metadata": {},
     "output_type": "execute_result"
    }
   ],
   "source": [
    "test[0]"
   ]
  },
  {
   "cell_type": "code",
   "execution_count": null,
   "metadata": {},
   "outputs": [],
   "source": []
  }
 ],
 "metadata": {
  "kernelspec": {
   "display_name": "Python 3",
   "language": "python",
   "name": "python3"
  },
  "language_info": {
   "codemirror_mode": {
    "name": "ipython",
    "version": 3
   },
   "file_extension": ".py",
   "mimetype": "text/x-python",
   "name": "python",
   "nbconvert_exporter": "python",
   "pygments_lexer": "ipython3",
   "version": "3.7.1"
  }
 },
 "nbformat": 4,
 "nbformat_minor": 2
}
