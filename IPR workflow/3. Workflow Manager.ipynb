{
 "cells": [
  {
   "cell_type": "markdown",
   "id": "1663f608",
   "metadata": {},
   "source": [
    "# Workflow Manager\n",
    "\n",
    "This Notebook provides a means of managing preparing and/or running iprPy calculations.  \n",
    "\n",
    "Note that this Notebook mostly outlines the code/steps associated with with work and is *not* the most optimal means of preparing and running. This is especially true for runners as ideally each runner should be a truly separate process to observe and manage how each is behaving.\n",
    "\n",
    "For preparing and running on a cluster, the suggestions are:\n",
    "- Copy the prepare cells below that you wish to use into a Python script.  Submit a job to the cluster for the prepare script.  It only needs to be a serial process, but can take a long time depending on how many calculations are being prepared.\n",
    "- Submit separate jobs for each runner you wish to be active.  These can easily be based on the iprPy runner command line.\n",
    "\n",
    "Example prepare Python scripts that correspond to the content below can be found in the bin/prepare/ directory of the iprPy repository."
   ]
  },
  {
   "cell_type": "code",
   "execution_count": 1,
   "id": "188cf438",
   "metadata": {},
   "outputs": [
    {
     "name": "stdout",
     "output_type": "stream",
     "text": [
      "iprPy version 0.11.3\n"
     ]
    }
   ],
   "source": [
    "# import libraries\n",
    "import numpy as np\n",
    "import atomman as am\n",
    "\n",
    "# https://github.com/usnistgov/iprPy\n",
    "import iprPy\n",
    "print('iprPy version', iprPy.__version__)"
   ]
  },
  {
   "cell_type": "markdown",
   "id": "b96c1dac",
   "metadata": {},
   "source": [
    "---\n",
    "\n",
    "## 1. Load the database\n",
    "\n",
    "The database to use where the calculation records will be added to and to search for existing calculations to skip."
   ]
  },
  {
   "cell_type": "code",
   "execution_count": 2,
   "id": "7e9b1537",
   "metadata": {},
   "outputs": [
    {
     "name": "stdout",
     "output_type": "stream",
     "text": [
      "database style mongo at localhost:27017.iprPy\n"
     ]
    }
   ],
   "source": [
    "database = iprPy.load_database('master')\n",
    "print(database)"
   ]
  },
  {
   "cell_type": "code",
   "execution_count": 9,
   "id": "ac1dd343",
   "metadata": {},
   "outputs": [
    {
     "name": "stdout",
     "output_type": "stream",
     "text": [
      "488 records to try to copy\n"
     ]
    },
    {
     "name": "stderr",
     "output_type": "stream",
     "text": [
      "copying records: 100%|###############################################################| 488/488 [00:07<00:00, 63.97it/s]"
     ]
    },
    {
     "name": "stdout",
     "output_type": "stream",
     "text": [
      "1 records added/updated\n",
      "1 tars added/updated\n"
     ]
    },
    {
     "name": "stderr",
     "output_type": "stream",
     "text": [
      "\n"
     ]
    }
   ],
   "source": [
    "#local = iprPy.load_database('potentials_local')\n",
    "#local.copy_records(database, 'potential_LAMMPS', includetar=True, overwrite=False)"
   ]
  },
  {
   "cell_type": "markdown",
   "id": "3641a3f4",
   "metadata": {},
   "source": [
    "---\n",
    "\n",
    "## 2. Define global prepare terms\n",
    "\n",
    "All prepare terms are collected into a dictionary making it easy to pass along to the underlying prepare methods."
   ]
  },
  {
   "cell_type": "code",
   "execution_count": 3,
   "id": "a9639a81",
   "metadata": {},
   "outputs": [],
   "source": [
    "prepare_terms = {}"
   ]
  },
  {
   "cell_type": "markdown",
   "id": "04ad0458",
   "metadata": {},
   "source": [
    "### 2.1. Executable terms\n",
    "\n",
    "These are basic terms that specify executables and some options that are required by most calculations in the workflow\n",
    "\n",
    "- __lammps_command__ is the primary LAMMPS executable to use.\n",
    "- __mpi_command__ is the MPI command to use.  Leave {np_per_runner} as a variable."
   ]
  },
  {
   "cell_type": "code",
   "execution_count": 4,
   "id": "a6885ad7",
   "metadata": {},
   "outputs": [],
   "source": [
    "prepare_terms['lammps_command'] =        'E:/LAMMPS/2020-03-03/bin/lmp_mpi'\n",
    "prepare_terms['mpi_command'] =           'mpiexec -localonly {np_per_runner}'"
   ]
  },
  {
   "cell_type": "markdown",
   "id": "f1111add",
   "metadata": {},
   "source": [
    "### 2.2. Old LAMMPS executables (optional)\n",
    "\n",
    "Some older implementations of potentials will no longer work with the most current version of LAMMPS.  These options allow for alternate LAMMPS executables to be automatically selected as needed.  Note that this is only important if you want to compare the different versions of a given potential as all current active potentials in the NIST database are compatible with the newest LAMMPS.\n",
    "\n",
    "- __lammps_command_snap_1__: SNAP version 1 needs LAMMPS between 8 Oct 2014 and 30 May 2017.\n",
    "- __lammps_command_snap_2__: SNAP version 2 needs LAMMPS between 3 Dec 2018 and 12 June 2019.\n",
    "- __lammps_command_old__: Some older implementations of potentials need LAMMPS before 30 Oct 2019."
   ]
  },
  {
   "cell_type": "code",
   "execution_count": 5,
   "id": "a623e1d1",
   "metadata": {},
   "outputs": [],
   "source": [
    "prepare_terms['lammps_command_snap_1'] = 'E:/LAMMPS/2017-01-27/bin/lmp_mpi'\n",
    "prepare_terms['lammps_command_snap_2'] = 'E:/LAMMPS/2019-06-05/bin/lmp_mpi'\n",
    "prepare_terms['lammps_command_old'] =    'E:/LAMMPS/2019-06-05/bin/lmp_mpi'"
   ]
  },
  {
   "cell_type": "markdown",
   "id": "cae07961",
   "metadata": {},
   "source": [
    "---\n",
    "\n",
    "## 3. Specify the LAMMPS potentials to use\n",
    "\n",
    "Any terms in prepare_terms that start with \"potential_\" are identified as terms that modify which LAMMPS potentials are to be used to prepare the calculations.  All \"potential_\" terms are passed to database.potdb.get_lammps_potentials() as kwargs with the \"potential_\" part of their name removed.  Then, only calculations that correspond to the matching LAMMPS potentials returned are prepared.\n",
    "\n",
    "The most useful related terms are\n",
    "\n",
    "- __potential_status__ *(None, str or list, optional*) Limits the search by the status of the LAMMPS implementations: \"active\", \"superseded\" and/or \"retracted\".  Most users should set this to 'active\n",
    "- __potential_id__ *(str or list*) The unique record id(s) labeling the records to parse by.\n",
    "- __potential_potid__ *(str or list, optional*) The unique record id(s) labeling the associated potential records to parse by.\n",
    "- __potential_pair_style__ *(str or list, optional*) LAMMPS pair_style(s) to parse by.\n",
    "- __potential_symbols__ *(str or list, optional*) Model symbol(s) to parse by.  Typically correspond to elements for atomic potential models.\n",
    "- __potential_elements__ *(str or list, optional*) Element(s) in the model to parse by."
   ]
  },
  {
   "cell_type": "code",
   "execution_count": 6,
   "id": "6e79d23b",
   "metadata": {},
   "outputs": [],
   "source": [
    "prepare_terms['potential_status'] =      'active'\n",
    "prepare_terms['potential_id'] = [\n",
    "    #'2019--Yang-C--Nb--LAMMPS--ipr1',\n",
    "    '2009--Purja-Pun-G-P--Ni-Al--LAMMPS--ipr1',\n",
    "    #'2022--Mahata-A--Al-Ni--LAMMPS--ipr1',\n",
    "]"
   ]
  },
  {
   "cell_type": "code",
   "execution_count": 6,
   "id": "ea913ce0",
   "metadata": {},
   "outputs": [],
   "source": [
    "prepare_terms['potential_status'] =      'active'\n",
    "#prepare_terms['potential_id'] = [\n",
    "#    '2022--Alvi-S-M-A-A--Ag--LAMMPS--ipr1',\n",
    "#]\n",
    "\n",
    "prepare_terms['potential_pair_style'] = [\n",
    "    'adp',\n",
    "    #'aenet',\n",
    "    'agni',\n",
    "    'bop',\n",
    "    'comb3',\n",
    "    'eam',\n",
    "    'eam/alloy',\n",
    "    'eam/cd',\n",
    "    'eam/fs',\n",
    "    'eam/he',\n",
    "    'edip',\n",
    "    'edip/multi',\n",
    "    'eim',\n",
    "    'extep',\n",
    "    'hybrid',\n",
    "    'hybrid/overlay',\n",
    "    #'kim',\n",
    "    'lcbop',\n",
    "    'meam',\n",
    "    'meam/spline',\n",
    "    #'pinn',\n",
    "    'polymorphic',\n",
    "    'reax/c',\n",
    "    'sw',\n",
    "    'table',\n",
    "    'tersoff',\n",
    "    'tersoff/mod',\n",
    "    'tersoff/mod/c',\n",
    "    'tersoff/zbl',\n",
    "    'vashishta',\n",
    "]\n"
   ]
  },
  {
   "cell_type": "code",
   "execution_count": 7,
   "id": "38c0a54e",
   "metadata": {},
   "outputs": [
    {
     "data": {
      "text/plain": [
       "1906"
      ]
     },
     "execution_count": 7,
     "metadata": {},
     "output_type": "execute_result"
    }
   ],
   "source": [
    "refs_df = database.get_records_df('reference_crystal')\n",
    "ref_families = refs_df[refs_df.natoms > 20].id.tolist()\n",
    "len(ref_families)"
   ]
  },
  {
   "cell_type": "markdown",
   "id": "40c6ee3b",
   "metadata": {},
   "source": [
    "---\n",
    "\n",
    "## 4. Prepare pools\n",
    "\n",
    "The prepared calculations are divided into separate \"pools\" of similar calculation styles.  This is done for a variety of reasons.\n",
    "\n",
    "- Different pools may benefit from a larger number of processors to work with.\n",
    "- Separating the calculation styles helps in showing the overall progress on obtaining results for the different styles.  \n",
    "- Some calculation results serve as inputs for later calculations.  Dividing calculations based on where they are positioned in the workflow makes it easier to determine the optimum times to prepare further calculations.\n",
    "\n",
    "Each master prepare option used below defines a set of default prepare terms and values to use.  These can be overridden by simply adding new terms to prepare_terms that give replacement values.  Additionally, any other calculation/prepare options can be modified using prepare_terms.\n",
    "\n",
    "Not all possible calculations will be prepared for a given style until all corresponding parent calculations are finished meaning that you should either wait to prepare those calculations or prepare them multiple times. \n",
    "\n",
    "The prepare_terms options required for each pool are\n",
    "\n",
    "- __styles__ lists the iprPy calculation styles to prepare in the pool.  By default, these will use the pre-defined \"main\" branch, but alternate branches can be selected by giving the branch name after a :.\n",
    "- __run_directory__ is the name of the specific run directory where the pool is located.  All prepared calculations will be created in this run directory.\n",
    "- __np_per_runner__ is the number of processors each runner will be assigned to use for the underlying simulations.\n",
    "- __num_pots__ is the maximum number of potentials to prepare at a time.  Smaller numbers mean that any associated prepares are called more times, but it reduces the number of calculation variations to build and test prior to any calculations being created.\n",
    "\n",
    "It is possible to prepare multiple pools at the same time by giving lists of values for the four terms above.  However, this Notebook breaks the pools into separate cells for better interactivity and control."
   ]
  },
  {
   "cell_type": "markdown",
   "id": "de875bc2",
   "metadata": {},
   "source": [
    "### 4.1. Pool #1: Basic potential evaluations and scans\n",
    "\n",
    "These are basic potential evaluation methods and initial energy scans.  \n",
    "\n",
    "Parent calculations:\n",
    "\n",
    "- None\n",
    "\n",
    "#### 4.1.1. isolated_atom\n",
    "\n",
    "Evaluates the energy of a single atom in isolation.\n",
    "\n",
    "    buildcombos                     lammpspotential potential_file intpot\n",
    "\n",
    "#### 4.1.2. diatom_scan\n",
    "\n",
    "Evaluates the energy of a pair of atoms at various interatomic spacings.\n",
    "\n",
    "    buildcombos                     diatom potential_file intpot\n",
    "    minimum_r                       0.02 angstrom\n",
    "    maximum_r                       10.0 angstrom\n",
    "    number_of_steps_r               500\n",
    "\n",
    "#### 4.1.3. E_vs_r_scan:bop\n",
    "\n",
    "Is a variation of E_vs_r_scan specifically for bop potentials where the minimum r value is increased.  __NOTE:__ This should be listed/called before E_vs_r_scan so that bop potentials are prepared with this and not the standard E_vs_r_scan.\n",
    "\n",
    "    buildcombos                     crystalprototype load_file prototype\n",
    "    prototype_potential_pair_style  bop\n",
    "    sizemults                       10 10 10\n",
    "    minimum_r                       2.0 angstrom\n",
    "    maximum_r                       6.0 angstrom\n",
    "    number_of_steps_r               201\n",
    "\n",
    "#### 4.1.4. E_vs_r_scan\n",
    "\n",
    "Evaluates the energy of crystal prototypes subjected to a volumetric scan.\n",
    "\n",
    "    buildcombos                     crystalprototype load_file prototype\n",
    "    sizemults                       10 10 10\n",
    "    minimum_r                       0.5 angstrom\n",
    "    maximum_r                       6.0 angstrom\n",
    "    number_of_steps_r               276"
   ]
  },
  {
   "cell_type": "code",
   "execution_count": 10,
   "id": "de75b8d5",
   "metadata": {},
   "outputs": [
    {
     "name": "stdout",
     "output_type": "stream",
     "text": [
      "1 potential ids found\n",
      "Preparing calculation isolated_atom branch main\n",
      "Using potential #s 0 to 0\n",
      "\n",
      "1013 existing calculation records found\n",
      "1 matching interatomic potentials found\n",
      "1 calculation combinations to check\n",
      "1 new records to prepare\n"
     ]
    },
    {
     "name": "stderr",
     "output_type": "stream",
     "text": [
      "preparing: 100%|#########################################################################| 1/1 [00:05<00:00,  5.21s/it]\n"
     ]
    },
    {
     "name": "stdout",
     "output_type": "stream",
     "text": [
      "\n",
      "Preparing calculation diatom_scan branch main\n",
      "Using potential #s 0 to 0\n",
      "\n",
      "2192 existing calculation records found\n",
      "1 matching interatomic potentials found\n",
      "1 calculation combinations to check\n",
      "1 new records to prepare\n"
     ]
    },
    {
     "name": "stderr",
     "output_type": "stream",
     "text": [
      "preparing: 100%|#########################################################################| 1/1 [00:05<00:00,  5.23s/it]\n"
     ]
    },
    {
     "name": "stdout",
     "output_type": "stream",
     "text": [
      "\n",
      "Preparing calculation E_vs_r_scan branch main\n",
      "Using potential #s 0 to 0\n",
      "\n",
      "28466 existing calculation records found\n",
      "19 matching crystal prototypes found\n",
      "1 matching interatomic potentials found\n",
      "10 calculation combinations to check\n",
      "10 new records to prepare\n"
     ]
    },
    {
     "name": "stderr",
     "output_type": "stream",
     "text": [
      "preparing: 100%|#######################################################################| 10/10 [00:54<00:00,  5.49s/it]\n"
     ]
    },
    {
     "name": "stdout",
     "output_type": "stream",
     "text": [
      "\n"
     ]
    }
   ],
   "source": [
    "# Specify master prepare options\n",
    "prepare_terms['styles'] = ' '.join([\n",
    "    'isolated_atom',\n",
    "    'diatom_scan',\n",
    "    #'E_vs_r_scan:bop',\n",
    "    'E_vs_r_scan',\n",
    "])\n",
    "prepare_terms['run_directory'] = 'master_1'\n",
    "prepare_terms['np_per_runner'] = '1'\n",
    "prepare_terms['num_pots']      = '100'\n",
    "\n",
    "# Run master_prepare\n",
    "database.master_prepare(**prepare_terms)"
   ]
  },
  {
   "cell_type": "markdown",
   "id": "c1cc694e",
   "metadata": {},
   "source": [
    "### 4.2. Pool #2: Crystal relaxations\n",
    "\n",
    "These perform crystal structure relaxations based on a guess structure and an interatomic potential.  \n",
    "\n",
    "Parent calculations:\n",
    "\n",
    "- E_vs_r_scan\n",
    "- E_vs_r_scan:bop\n",
    "\n",
    "#### 4.2.1. relax_box\n",
    "\n",
    "Relaxes a crystal structure by only altering box dimensions to zero pressure while keeping all atoms in the same box-relative positions.\n",
    "\n",
    "    buildcombos                     atomicreference load_file reference\n",
    "    buildcombos                     atomicparent load_file parent\n",
    "    parent_record                   calculation_E_vs_r_scan\n",
    "    parent_load_key                 minimum-atomic-system\n",
    "    parent_status                   finished\n",
    "    sizemults                       10 10 10\n",
    "    atomshift                       0.05 0.05 0.05\n",
    "    strainrange                     1e-6\n",
    "\n",
    "#### 4.2.2. relax_static\n",
    "\n",
    "Relaxes a crystal structure using energy/force minimization plus a simultaneous box relax.\n",
    "\n",
    "    buildcombos                     atomicreference load_file reference\n",
    "    buildcombos                     atomicparent load_file parent\n",
    "    parent_record                   calculation_E_vs_r_scan\n",
    "    parent_load_key                 minimum-atomic-system\n",
    "    parent_status                   finished\n",
    "    sizemults                       10 10 10\n",
    "    atomshift                       0.05 0.05 0.05\n",
    "    energytolerance                 0.0\n",
    "    forcetolerance                  1e-10 eV/angstrom\n",
    "    maxiterations                   10000\n",
    "    maxevaluations                  100000\n",
    "    maxatommotion                   0.01 angstrom\n",
    "    maxcycles                       100\n",
    "    cycletolerance                  1e-10\n",
    "\n",
    "#### 4.2.3. relax_dynamic\n",
    "\n",
    "Relaxes a crystal structure using a nph barrostat plus a Langevin thermostat set at 0 K.  This evolves the system while dampening out forces over time.\n",
    "\n",
    "    buildcombos                     atomicreference load_file reference\n",
    "    buildcombos                     atomicparent load_file parent\n",
    "    parent_record                   calculation_E_vs_r_scan\n",
    "    parent_load_key                 minimum-atomic-system\n",
    "    parent_status                   finished\n",
    "    sizemults                       10 10 10\n",
    "    atomshift                       0.05 0.05 0.05\n",
    "    temperature                     0.0\n",
    "    integrator                      nph+l\n",
    "    thermosteps                     1000\n",
    "    runsteps                        10000\n",
    "    equilsteps                      0"
   ]
  },
  {
   "cell_type": "code",
   "execution_count": 11,
   "id": "adeccb21",
   "metadata": {},
   "outputs": [
    {
     "name": "stdout",
     "output_type": "stream",
     "text": [
      "1 potential ids found\n",
      "Preparing calculation relax_box branch main\n",
      "Using potential #s 0 to 0\n",
      "\n",
      "106652 existing calculation records found\n",
      "6587 matching atomic references found\n",
      "1 matching interatomic potentials found\n",
      "1 matching interatomic potentials found\n",
      "10 matching atomic parents found\n",
      "36 calculation combinations to check\n",
      "36 new records to prepare\n"
     ]
    },
    {
     "name": "stderr",
     "output_type": "stream",
     "text": [
      "preparing: 100%|#######################################################################| 36/36 [03:10<00:00,  5.29s/it]\n"
     ]
    },
    {
     "name": "stdout",
     "output_type": "stream",
     "text": [
      "\n",
      "Preparing calculation relax_static branch main\n",
      "Using potential #s 0 to 0\n",
      "\n",
      "204766 existing calculation records found\n",
      "6587 matching atomic references found\n",
      "1 matching interatomic potentials found\n",
      "1 matching interatomic potentials found\n",
      "10 matching atomic parents found\n",
      "36 calculation combinations to check\n",
      "36 new records to prepare\n"
     ]
    },
    {
     "name": "stderr",
     "output_type": "stream",
     "text": [
      "preparing: 100%|#######################################################################| 36/36 [03:18<00:00,  5.52s/it]\n"
     ]
    },
    {
     "name": "stdout",
     "output_type": "stream",
     "text": [
      "\n",
      "Preparing calculation relax_dynamic branch main\n",
      "Using potential #s 0 to 0\n",
      "\n",
      "107462 existing calculation records found\n",
      "6587 matching atomic references found\n",
      "1 matching interatomic potentials found\n",
      "1 matching interatomic potentials found\n",
      "10 matching atomic parents found\n",
      "36 calculation combinations to check\n",
      "36 new records to prepare\n"
     ]
    },
    {
     "name": "stderr",
     "output_type": "stream",
     "text": [
      "preparing: 100%|#######################################################################| 36/36 [03:14<00:00,  5.40s/it]\n"
     ]
    },
    {
     "name": "stdout",
     "output_type": "stream",
     "text": [
      "\n"
     ]
    }
   ],
   "source": [
    "# Specify master prepare options\n",
    "prepare_terms['styles'] = ' '.join([\n",
    "    'relax_box',\n",
    "    'relax_static',\n",
    "    'relax_dynamic',\n",
    "])\n",
    "prepare_terms['run_directory'] = 'master_2'\n",
    "prepare_terms['np_per_runner'] = '1'\n",
    "prepare_terms['num_pots']      = '100'\n",
    "\n",
    "# Run master_prepare\n",
    "database.master_prepare(**prepare_terms)"
   ]
  },
  {
   "cell_type": "markdown",
   "id": "ff055d97",
   "metadata": {},
   "source": [
    "### 4.3. Pool #3: Further crystal relaxations\n",
    "\n",
    "This performs further crystal relaxations on the results of pool #2. \n",
    "\n",
    "Parent calculations\n",
    "\n",
    "- relax_dynamic\n",
    "\n",
    "#### 4.3.1. relax_static:from_dynamic\n",
    "\n",
    "Takes the resulting structures of relax_dynamic and subjects them to an energy/force minimization plus box relaxation.\n",
    "\n",
    "    buildcombos                     atomicarchive load_file archive\n",
    "    archive_record                  calculation_relax_dynamic\n",
    "    archive_branch                  main\n",
    "    archive_load_key                final-system\n",
    "    archive_status                  finished\n",
    "    sizemults                       1 1 1\n",
    "    energytolerance                 0.0\n",
    "    forcetolerance                  1e-10 eV/angstrom\n",
    "    maxiterations                   10000\n",
    "    maxevaluations                  100000\n",
    "    maxatommotion                   0.01 angstrom\n",
    "    maxcycles                       100\n",
    "    cycletolerance                  1e-10"
   ]
  },
  {
   "cell_type": "code",
   "execution_count": 12,
   "id": "0ae25675",
   "metadata": {},
   "outputs": [
    {
     "name": "stdout",
     "output_type": "stream",
     "text": [
      "1 potential ids found\n",
      "Preparing calculation relax_static branch from_dynamic\n",
      "Using potential #s 0 to 0\n",
      "\n",
      "204802 existing calculation records found\n",
      "1 matching interatomic potentials found\n",
      "36 matching atomic archives found\n",
      "36 calculation combinations to check\n",
      "36 new records to prepare\n"
     ]
    },
    {
     "name": "stderr",
     "output_type": "stream",
     "text": [
      "preparing: 100%|#######################################################################| 36/36 [06:43<00:00, 11.20s/it]\n"
     ]
    },
    {
     "name": "stdout",
     "output_type": "stream",
     "text": [
      "\n"
     ]
    }
   ],
   "source": [
    "# Specify master prepare options\n",
    "prepare_terms['styles'] = ' '.join([\n",
    "    'relax_static:from_dynamic'\n",
    "])\n",
    "prepare_terms['run_directory'] = 'master_3'\n",
    "prepare_terms['np_per_runner'] = '1'\n",
    "prepare_terms['num_pots']      = '100'\n",
    "\n",
    "# Run master_prepare\n",
    "database.master_prepare(**prepare_terms)"
   ]
  },
  {
   "cell_type": "markdown",
   "id": "2417afbb",
   "metadata": {},
   "source": [
    "### 4.4. Pool #4: Crystal space group analysis\n",
    "\n",
    "These evaluate the crystal space group information for the relaxed structures computed above and for the initial prototype and DFT structures used.\n",
    "\n",
    "Parent calculations\n",
    "\n",
    "- relax_box\n",
    "- relax_static\n",
    "- relax_static:from_dynamic\n",
    "\n",
    "#### 4.4.1. crystal_space_group:prototype\n",
    "\n",
    "Evaluates the crystal space group information for the prototype structures.  Only needs to be done once per prototype.\n",
    "\n",
    "    buildcombos                     crystalprototype load_file proto\n",
    "\n",
    "#### 4.4.2. crystal_space_group:reference\n",
    "\n",
    "Evaluates the crystal space group information for DFT relaxed structures.  Only needs to be done once per structure.\n",
    "\n",
    "    buildcombos                     atomicreference load_file ref\n",
    "\n",
    "#### 4.4.3. crystal_space_group:relax\n",
    "\n",
    "Takes the resulting structures of relax_dynamic and subjects them to an energy/force minimization plus box relaxation.\n",
    "\n",
    "    buildcombos                     atomicarchive load_file archive1\n",
    "    buildcombos                     atomicarchive load_file archive2\n",
    "    archive1_record                 calculation_relax_static\n",
    "    archive1_load_key               final-system\n",
    "    archive1_status                 finished\n",
    "    archive2_record                 calculation_relax_box\n",
    "    archive2_load_key               final-system\n",
    "    archive2_status                 finished"
   ]
  },
  {
   "cell_type": "code",
   "execution_count": 7,
   "id": "f7ff9d40",
   "metadata": {},
   "outputs": [
    {
     "name": "stdout",
     "output_type": "stream",
     "text": [
      "1 potential ids found\n",
      "Preparing calculation crystal_space_group branch relax\n",
      "Using potential #s 0 to 0\n",
      "\n",
      "222522 existing calculation records found\n",
      "52 matching atomic archives found\n",
      "32 matching atomic archives found\n",
      "84 calculation combinations to check\n",
      "84 new records to prepare\n"
     ]
    },
    {
     "name": "stderr",
     "output_type": "stream",
     "text": [
      "preparing: 100%|#######################################################################| 84/84 [08:15<00:00,  5.90s/it]\n"
     ]
    },
    {
     "name": "stdout",
     "output_type": "stream",
     "text": [
      "\n"
     ]
    }
   ],
   "source": [
    "# Specify master prepare options\n",
    "prepare_terms['styles'] = ' '.join([\n",
    "    #'crystal_space_group:prototype',\n",
    "    #'crystal_space_group:reference',\n",
    "    'crystal_space_group:relax',\n",
    "])\n",
    "prepare_terms['run_directory'] = 'master_4'\n",
    "prepare_terms['np_per_runner'] = '1'\n",
    "prepare_terms['num_pots']      = '100'\n",
    "\n",
    "# Run master_prepare\n",
    "database.master_prepare(**prepare_terms)"
   ]
  },
  {
   "cell_type": "markdown",
   "id": "70da4b3e",
   "metadata": {},
   "source": [
    "### 4.5 SEPARATE SCRIPT Identify relaxed crystals\n",
    "\n",
    "Once all of the above calculations are done for a given potential, run the code in the \"3a. Process relaxed crystal results.ipynb\" to generate relaxed_crystal records.  The relaxed_crystal records are then used as the inputs for the subsequent calculation methods.\n",
    "\n",
    "Notes on relaxed_crystal records:\n",
    "- Always limit to crystals with a \"good\" standing.  The standing term only has two options \"good\" and \"bad\", with the bad being identified as duplicates of the good.\n",
    "- The automatic processes typically limit to crystals found using the \"dynamic\" method. The \"box\" and \"static\" crystals are much more likely to become unstable with perturbations resulting in junk results where the wanted structure transforms into something else. In addition to not being useful, these transformed results can be computational sinks for minimization relaxations.\n",
    "- Even with the above limitations, there is no guarantee that the structure will not transform into something else upon relaxation."
   ]
  },
  {
   "cell_type": "markdown",
   "id": "0199e0e2",
   "metadata": {},
   "source": [
    "### 4.6. Pool #5: Elastic constants and phonons\n",
    "\n",
    "These evaluate properties of the identified 0K relaxed crystal structures.\n",
    "\n",
    "Parent records\n",
    "\n",
    "- relaxed_crystals\n",
    "\n",
    "#### 4.6.1. elastic_constants_static\n",
    "\n",
    "Estimates the static elastic constants of a crystal structure using small displacements.  Three different strains are used to obtain three independent estimates, which can differ for some potentials/crystals.\n",
    "\n",
    "    buildcombos                     atomicparent load_file parent\n",
    "    parent_record                   relaxed_crystal\n",
    "    parent_standing                 good\n",
    "    sizemults                       10 10 10\n",
    "    maxiterations                   5000\n",
    "    maxevaluations                  10000\n",
    "    strainrange                     1e-6\n",
    "    strainrange                     1e-7\n",
    "    strainrange                     1e-8\n",
    "\n",
    "#### 4.6.2. phonon\n",
    "\n",
    "Uses phonopy to evaluate phonons for a crystal structure and attempt to perform the quasi-harmonic analysis.\n",
    "\n",
    "    buildcombos                     atomicparent load_file parent\n",
    "    parent_record                   relaxed_crystal\n",
    "    parent_method                   dynamic\n",
    "    parent_standing                 good\n",
    "    sizemults                       3 3 3"
   ]
  },
  {
   "cell_type": "code",
   "execution_count": 7,
   "id": "4095456b",
   "metadata": {},
   "outputs": [
    {
     "name": "stdout",
     "output_type": "stream",
     "text": [
      "1 potential ids found\n",
      "Preparing calculation elastic_constants_static branch main\n",
      "Using potential #s 0 to 0\n",
      "\n",
      "132336 existing calculation records found\n",
      "1 matching interatomic potentials found\n",
      "17 matching atomic parents found\n",
      "51 calculation combinations to check\n",
      "48 new records to prepare\n"
     ]
    },
    {
     "name": "stderr",
     "output_type": "stream",
     "text": [
      "preparing: 100%|#######################################################################| 48/48 [04:24<00:00,  5.52s/it]\n"
     ]
    },
    {
     "name": "stdout",
     "output_type": "stream",
     "text": [
      "\n",
      "Preparing calculation phonon branch main\n",
      "Using potential #s 0 to 0\n",
      "\n",
      "15413 existing calculation records found\n",
      "1 matching interatomic potentials found\n",
      "2 matching atomic parents found\n",
      "2 calculation combinations to check\n",
      "2 new records to prepare\n"
     ]
    },
    {
     "name": "stderr",
     "output_type": "stream",
     "text": [
      "preparing: 100%|#########################################################################| 2/2 [00:15<00:00,  7.53s/it]\n"
     ]
    },
    {
     "name": "stdout",
     "output_type": "stream",
     "text": [
      "\n"
     ]
    }
   ],
   "source": [
    "# Specify master prepare options\n",
    "prepare_terms['styles'] = ' '.join([\n",
    "    'elastic_constants_static',\n",
    "    'phonon'\n",
    "])\n",
    "prepare_terms['run_directory'] = 'master_5'\n",
    "prepare_terms['np_per_runner'] = '1'\n",
    "prepare_terms['num_pots']      = '50'\n",
    "\n",
    "#prepare_terms['parent_family'] = ref_families\n",
    "\n",
    "# Run master_prepare\n",
    "database.master_prepare(**prepare_terms)"
   ]
  },
  {
   "cell_type": "markdown",
   "id": "2111f5cd",
   "metadata": {},
   "source": [
    "### 4.7. Pool #6: Static defect formation energies\n",
    "\n",
    "These evaluate the static formation energies of simple crystal defects.\n",
    "\n",
    "Parent records\n",
    "\n",
    "- relaxed_crystals\n",
    "\n",
    "#### 4.7.1. point_defect_static\n",
    "\n",
    "Evaluates the formation energy and elastic dipole tensor associated with a single point defect or small cluster of point defects.  Also returns evaluation parameters to help identify if the defect has transformed into a different configuration. \n",
    "\n",
    "    buildcombos                     atomicparent load_file parent\n",
    "    parent_record                   relaxed_crystal\n",
    "    parent_method                   dynamic\n",
    "    parent_standing                 good\n",
    "    buildcombos                     defect pointdefect_file\n",
    "    defect_record                   point_defect\n",
    "    sizemults                       12 12 12\n",
    "    forcetolerance                  1e-8\n",
    "\n",
    "#### 4.7.2. surface_energy_static\n",
    "\n",
    "Evaluates the formation energy of a cleaved free surface.\n",
    "\n",
    "    buildcombos                     atomicparent load_file parent\n",
    "    parent_record                   relaxed_crystal\n",
    "    parent_method                   dynamic\n",
    "    parent_standing                 good\n",
    "    buildcombos                     defect surface_file\n",
    "    defect_record                   free_surface\n",
    "    sizemults                       3 3 8\n",
    "\n",
    "#### 4.7.3. stacking_fault_map_2D\n",
    "\n",
    "Evaluates the generalized stacking fault energy and relaxation distances associated with a full 2D scan of a fault plane.  \n",
    "\n",
    "    buildcombos                     atomicparent load_file parent\n",
    "    parent_record                   relaxed_crystal\n",
    "    parent_method                   dynamic\n",
    "    parent_standing                 good\n",
    "    buildcombos                     defect stackingfault_file\n",
    "    defect_record                   stacking_fault\n",
    "    sizemults                       5 5 10\n",
    "    stackingfault_num_a1            30\n",
    "    stackingfault_num_a2            30"
   ]
  },
  {
   "cell_type": "code",
   "execution_count": null,
   "id": "62363bb7",
   "metadata": {},
   "outputs": [],
   "source": [
    "# Specify master prepare options\n",
    "prepare_terms['styles'] = ' '.join([\n",
    "    'point_defect_static',\n",
    "])\n",
    "prepare_terms['run_directory'] = 'master_6'\n",
    "prepare_terms['np_per_runner'] = '1'\n",
    "prepare_terms['num_pots']      = '50'\n",
    "\n",
    "# Run master_prepare\n",
    "database.master_prepare(**prepare_terms)"
   ]
  },
  {
   "cell_type": "markdown",
   "id": "bede0cc7",
   "metadata": {},
   "source": [
    "### 4.8. Pool #7: Dislocation core structures\n",
    "\n",
    "These construct and relax atomic configurations that contain a single dislocation.  This provides not only a means of evaluating the relaxed core structure, but serves as the starting point for dislocation slip and interaction simulations.\n",
    "\n",
    "NOTE: for these styles, different branches are used for different defect types so that appropriate settings (typically sizemults) can be specified for each unique defect.\n",
    "\n",
    "Parent records\n",
    "\n",
    "- elastic_constants_static\n",
    "\n",
    "#### 4.8.1. dislocation_monopole\n",
    "\n",
    "Creates a dislocation monopole configuration.\n",
    "\n",
    "    buildcombos                     atomicparent load_file parent\n",
    "    parent_record                   calculation_elastic_constants_static\n",
    "    parent_load_key                 system-info\n",
    "    parent_strainrange              1e-7\n",
    "    buildcombos                     defect dislocation_file\n",
    "    defect_record                   dislocation\n",
    "    dislocation_boundarywidth       3\n",
    "    dislocation_boundaryscale       True\n",
    "    dislocation_boundaryshape       cylinder\n",
    "    annealtemperature               10\n",
    "    annealsteps                     10000000\n",
    "    maxiterations                   10000\n",
    "    maxevaluations                  100000\n",
    "    \n",
    "##### 4.8.1.1. dislocation_monopole:fcc_edge_100\n",
    "    \n",
    "    parent_family                   A1--Cu--fcc\n",
    "    defect_id                       A1--Cu--fcc--a-2-110--90-edge--{100}\n",
    "    sizemults                       1 80 116\n",
    "\n",
    "##### 4.8.1.2. dislocation_monopole:bcc_screw\n",
    "\n",
    "    parent_family                   A2--W--bcc\n",
    "    defect_id                       A2--W--bcc--a-2-111--0-screw--{110}\n",
    "    sizemults                       1 48 80\n",
    "\n",
    "##### 4.8.1.3. dislocation_monopole:bcc_edge\n",
    "\n",
    "    parent_family                   A2--W--bcc\n",
    "    defect_id                       A2--W--bcc--a-2-111--90-edge--{110}\n",
    "    sizemults                       1 68 80\n",
    "\n",
    "##### 4.8.1.4. dislocation_monopole:bcc_edge_112\n",
    "\n",
    "    parent_family                   A2--W--bcc\n",
    "    defect_id                       A2--W--bcc--a-2-111--90-edge--{112}\n",
    "    sizemults                       1 68 48\n",
    "    \n",
    "#### 4.8.2. dislocation_periodic_array\n",
    "\n",
    "Creates a periodic array of dislocations configuration.\n",
    "\n",
    "    buildcombos                     atomicparent load_file parent\n",
    "    parent_record                   calculation_elastic_constants_static\n",
    "    parent_load_key                 system-info\n",
    "    parent_strainrange              1e-7\n",
    "    buildcombos                     defect dislocation_file\n",
    "    defect_record                   dislocation\n",
    "    dislocation_boundarywidth       3\n",
    "    dislocation_boundaryscale       True\n",
    "    dislocation_duplicatecutoff     1 angstrom\n",
    "    annealtemperature               10\n",
    "    annealsteps                     10000000\n",
    "    maxiterations                   10000\n",
    "    maxevaluations                  100000\n",
    "    \n",
    "##### 4.8.2.1. dislocation_periodic_array:fcc_edge_mix\n",
    "    \n",
    "    parent_family                   A1--Cu--fcc\n",
    "    defect_id                       A1--Cu--fcc--a-2-110--90-edge--{111}\n",
    "    sizemults                       1 200 50\n",
    "    dislocation_onlylinear          False\n",
    "\n",
    "##### 4.8.2.2. dislocation_periodic_array:fcc_screw\n",
    "\n",
    "    parent_family                   A1--Cu--fcc\n",
    "    defect_id                       A1--Cu--fcc--a-2-110--0-screw--{111}\n",
    "    sizemults                       1 200 50\n",
    "    dislocation_onlylinear          True"
   ]
  },
  {
   "cell_type": "markdown",
   "id": "11df66fe",
   "metadata": {},
   "source": [
    "### 4.9. Pool #8: Dynamic relaxations\n",
    "\n",
    "These run MD relaxations on the \"relaxed\" crystals at a variety of temperatures\n",
    "\n",
    "Parent records\n",
    "\n",
    "- relaxed_crystals\n",
    "\n",
    "#### 4.6.1. relax_dynamic:at_temp\n",
    "\n",
    "Runs an npt relaxation MD simulation at a specific temperature between 100 and 3000 K\n",
    "\n",
    "    buildcombos                     atomicparent load_file parent\n",
    "    parent_record                   relaxed_crystal\n",
    "    parent_method                   dynamic\n",
    "    parent_standing                 good\n",
    "    sizemults                       10 10 10\n",
    "    atomshift                       0.05 0.05 0.05\n",
    "    integrator                      npt\n",
    "    thermosteps                     100\n",
    "    runsteps                        1000000\n",
    "    restartsteps                    50000\n",
    "    equilsteps                      0\n",
    "    temperature                     100\n",
    "    temperature                     200\n",
    "    ...\n",
    "    temperature                     2900\n",
    "    temperature                     3000"
   ]
  },
  {
   "cell_type": "code",
   "execution_count": 7,
   "id": "5f242972",
   "metadata": {},
   "outputs": [
    {
     "name": "stdout",
     "output_type": "stream",
     "text": [
      "1 potential ids found\n",
      "Preparing calculation relax_dynamic branch at_temp\n",
      "Using potential #s 0 to 0\n",
      "\n",
      "107678 existing calculation records found\n",
      "1 matching interatomic potentials found\n",
      "38 matching atomic parents found\n",
      "1140 calculation combinations to check\n",
      "1020 new records to prepare\n"
     ]
    },
    {
     "name": "stderr",
     "output_type": "stream",
     "text": [
      "preparing: 100%|###################################################################| 1020/1020 [52:11<00:00,  3.07s/it]\n"
     ]
    },
    {
     "name": "stdout",
     "output_type": "stream",
     "text": [
      "\n"
     ]
    }
   ],
   "source": [
    "# Specify master prepare options\n",
    "prepare_terms['styles'] = ' '.join([\n",
    "    'relax_dynamic:at_temp',\n",
    "    #'phonon'\n",
    "])\n",
    "#prepare_terms['parent_family'] = ['A1--Cu--fcc', 'L1_2--AuCu3']\n",
    "prepare_terms['run_directory'] = 'master_7'\n",
    "prepare_terms['np_per_runner'] = '1'\n",
    "prepare_terms['num_pots']      = '50'\n",
    "\n",
    "# Run master_prepare\n",
    "database.master_prepare(**prepare_terms)"
   ]
  },
  {
   "cell_type": "markdown",
   "id": "bdac4c15",
   "metadata": {},
   "source": [
    "### 4.X.  Further styles coming soon..."
   ]
  },
  {
   "cell_type": "markdown",
   "id": "532ce9c2",
   "metadata": {},
   "source": [
    "## 5. Runner\n",
    "\n",
    "Once calculations have been prepared, you can then start runner jobs to perform them.  \n",
    "\n",
    "Options for managing runners:\n",
    "\n",
    "- Use the cell below to call runner() for the database.  This will perform one calculation at a time until finished or stopped.  Not recommended unless you only want one runner active at any given time.\n",
    "- Open a separate terminal for each runner you wish to be active and call the \"iprPy runner\" command with the specific database and run directory you want each to use.  This isolates each runner in action and allows for runners to operate on the same or different databases and run directories.\n",
    "- Submit runner jobs to a cluster that has access to the run directory and the database.\n"
   ]
  },
  {
   "cell_type": "code",
   "execution_count": 8,
   "id": "b4eb465b",
   "metadata": {
    "scrolled": true
   },
   "outputs": [
    {
     "name": "stdout",
     "output_type": "stream",
     "text": [
      "Runner started with pid 76392\n",
      "5aecc5fa-1adf-495f-abe7-280a3d63badd\n",
      "sim calculated successfully\n",
      "\n",
      "a46b7675-4de1-4329-921b-4d3d76ccd3aa\n",
      "sim calculated successfully\n",
      "\n",
      "5455cace-628e-48cf-b47a-eaea49f49d00\n",
      "sim calculated successfully\n",
      "\n",
      "430824cf-767f-4fe4-9dfe-8ae54a27821a\n",
      "sim calculated successfully\n",
      "\n",
      "03342a9c-91d1-41c7-9810-89676a1d27ed\n",
      "sim calculated successfully\n",
      "\n",
      "19cc775b-a12b-4a94-aebf-5d7839e465ef\n",
      "sim calculated successfully\n",
      "\n",
      "e787c46a-7c2a-47f2-be35-af77669fbb1e\n",
      "sim calculated successfully\n",
      "\n",
      "8056e334-58f1-44fd-bbfd-f944e0f397ac\n",
      "sim calculated successfully\n",
      "\n",
      "47ab5417-c4f9-4f02-955b-76eb4a5ec2e9\n",
      "sim calculated successfully\n",
      "\n",
      "d351386e-f6c0-4ced-91c3-63a7ea48b7d6\n",
      "sim calculated successfully\n",
      "\n",
      "8c8da058-53ed-47af-b513-175eb7d8cfbc\n",
      "error: Did not assign all restart atoms correctly (../read_restart.cpp:533)\n",
      "Last command: read_restart initial.restart\n",
      "\n",
      "09a56813-4ccb-4297-bcf3-0935bc28952b\n",
      "sim calculated successfully\n",
      "\n",
      "ba39199d-f50e-4e0d-bcf4-e28e7a743cb2\n",
      "sim calculated successfully\n",
      "\n",
      "150c16d6-8578-42ec-860d-92935b6fb45b\n",
      "sim calculated successfully\n",
      "\n",
      "No simulations left to run\n"
     ]
    }
   ],
   "source": [
    "database.runner(run_directory='master_5')"
   ]
  },
  {
   "cell_type": "code",
   "execution_count": null,
   "id": "29f2cb57",
   "metadata": {},
   "outputs": [],
   "source": []
  }
 ],
 "metadata": {
  "kernelspec": {
   "display_name": "Python 3 (ipykernel)",
   "language": "python",
   "name": "python3"
  },
  "language_info": {
   "codemirror_mode": {
    "name": "ipython",
    "version": 3
   },
   "file_extension": ".py",
   "mimetype": "text/x-python",
   "name": "python",
   "nbconvert_exporter": "python",
   "pygments_lexer": "ipython3",
   "version": "3.7.10"
  }
 },
 "nbformat": 4,
 "nbformat_minor": 5
}
