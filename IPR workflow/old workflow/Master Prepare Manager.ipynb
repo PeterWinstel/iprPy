{
 "cells": [
  {
   "cell_type": "code",
   "execution_count": 1,
   "id": "df5b96d6",
   "metadata": {},
   "outputs": [],
   "source": [
    "import numpy as np\n",
    "import potentials\n",
    "import atomman as am\n",
    "import iprPy"
   ]
  },
  {
   "cell_type": "markdown",
   "id": "b49bb42c",
   "metadata": {},
   "source": [
    "## Load the database\n",
    "\n",
    "The database to use where the calculation records will be added to and to search for existing calculations to skip."
   ]
  },
  {
   "cell_type": "code",
   "execution_count": 4,
   "id": "449ec771",
   "metadata": {},
   "outputs": [
    {
     "name": "stdout",
     "output_type": "stream",
     "text": [
      "database style mongo at localhost:27017.iprPy\n"
     ]
    }
   ],
   "source": [
    "database = iprPy.load_database('master')\n",
    "print(database)"
   ]
  },
  {
   "cell_type": "markdown",
   "id": "be0122f4",
   "metadata": {},
   "source": [
    "## Required terms\n",
    "\n",
    "These are the basic terms required by most calculations in the workflow\n",
    "\n",
    "- __lammps_command__ is the primary LAMMPS executable to use.\n",
    "- __mpi_command__ is the MPI command to use.  Leave {np_per_runner} as a variable."
   ]
  },
  {
   "cell_type": "code",
   "execution_count": 3,
   "id": "a1a29f07",
   "metadata": {},
   "outputs": [],
   "source": [
    "prepare_terms = {}\n",
    "prepare_terms['lammps_command'] = 'lmp_mpi'\n",
    "prepare_terms['mpi_command'] = 'C:/Program Files/MPICH2/bin/mpiexec -localonly {np_per_runner}'"
   ]
  },
  {
   "cell_type": "markdown",
   "id": "db319fbd",
   "metadata": {},
   "source": [
    "## Optional: Alternate LAMMPS executables\n",
    "\n",
    "These are alternate LAMMPS executables to use with interatomic potentials that are not compatible with the primary executable set above.  \n",
    "- __lammps_command_snap_1__ asdf\n",
    "- __lammps_command_snap_1__ asdf\n",
    "- __lammps_command_old__ asdf"
   ]
  },
  {
   "cell_type": "code",
   "execution_count": 4,
   "id": "7ce8f9ae",
   "metadata": {},
   "outputs": [],
   "source": [
    "#prepare_terms['lammps_command_snap_1'] = 'C:/Program Files/LAMMPS/2017-01-27/bin/lmp_mpi'\n",
    "#prepare_terms['lammps_command_snap_2'] = 'C:/Program Files/LAMMPS/2019-06-05/bin/lmp_mpi'\n",
    "#prepare_terms['lammps_command_old'] = 'C:/Program Files/LAMMPS/2019-06-05/bin/lmp_mpi'"
   ]
  },
  {
   "cell_type": "markdown",
   "id": "9a77cba5",
   "metadata": {},
   "source": [
    "## Optional: Potential limiters\n",
    "\n",
    "Any term keys that start with \"potential_\" are passed into get_lammps_potential() as kwargs (without the potential_ prefix) allowing for parsing of the potentials which will be used for preparing the calculations.\n",
    "\n",
    "Examples used here:\n",
    "- __potential_status__ limits the included potential version status.  Values are all, active, superseded or retracted. Default value is active, which is best for most users as it only includes the newest versions of the available potentials.\n",
    "- __potential_id__ limits the potentials used to only the ones explicitly listed by id.\n",
    "- __potential_pair_style__ limits the potentials used to only the ones with a LAMMPS pair_style included in the list."
   ]
  },
  {
   "cell_type": "code",
   "execution_count": 5,
   "id": "a4ae51c2",
   "metadata": {},
   "outputs": [],
   "source": [
    "prepare_terms['potential_status'] = 'all'\n",
    "\n",
    "#prepare_terms['potential_id'] = [\n",
    "#    '1999--Mishin-Y--Ni--LAMMPS--ipr1',\n",
    "#    '1999--Mishin-Y--Al--LAMMPS--ipr1',\n",
    "    #'EAM_CubicNaturalSpline_ErcolessiAdams_1994_Al__MO_800509458712_002',\n",
    "#]\n",
    "\n",
    "#prepare_terms['potential_pair_style'] = [\n",
    "#    'eam', 'eam/alloy', 'eam/fs', 'eam/cd',\n",
    "#]     "
   ]
  },
  {
   "cell_type": "code",
   "execution_count": 8,
   "id": "ea00c4bb",
   "metadata": {},
   "outputs": [
    {
     "name": "stdout",
     "output_type": "stream",
     "text": [
      "860 potential ids found\n"
     ]
    }
   ],
   "source": [
    "lmppots, lmppots_df = database.potdb.get_lammps_potentials(return_df=True, status=None)\n",
    "all_lmppot_ids = np.unique(lmppots_df.id).tolist()\n",
    "print(len(all_lmppot_ids), 'potential ids found')\n"
   ]
  },
  {
   "cell_type": "code",
   "execution_count": 7,
   "id": "86b61675",
   "metadata": {},
   "outputs": [],
   "source": [
    "# Define function for iterating over subsets of potentials\n",
    "def yield_lmppot_ids(delta=20):\n",
    "    for i in range(delta, len(all_lmppot_ids), delta):\n",
    "        print(f'Using potential #s {i-delta} to {i-1}\\n')\n",
    "        yield all_lmppot_ids[i-delta:i]\n",
    "    print(f'Using potential #s {i} to {len(all_lmppot_ids)-1}\\n')\n",
    "    yield all_lmppot_ids[i:len(all_lmppot_ids)]\n"
   ]
  },
  {
   "cell_type": "markdown",
   "id": "50f12c9d",
   "metadata": {},
   "source": [
    "## Calculation Pools\n",
    "\n",
    "The prepared calculations are divided into separate \"pools\" where the prepared calculations will be executed from.  \n",
    "\n",
    "By default, the iprPy runner methods are all assigned a set number of processors to work with, and then runs through the calculations in a pool by randomly selecting them. As such, individual pools should be used for different steps along the workflow, as well as for calculations that will be assigned different numbers of processors.\n",
    "\n",
    "Each pool is defined with the following master prepare parameters\n",
    "- __styles__ lists the iprPy calculation styles to prepare in the pool.  By default, these will use the pre-defined \"main\" branch, but alternate branches can be selected by giving the branch name after a :.\n",
    "- __run_directory__ is the name of the specific run directory where the pool is located.  All prepared calculations will be created in this run directory.\n",
    "- __np_per_runner__ is the number of processors each runner will be assigned to use for the underlying simulations.\n",
    "\n",
    "__NOTE:__ These values can either be singular or lists of equal length.  Giving list values allows for multiple pools to be prepared with the same master_prepare call.  This Notebook updates the values and only builds one pool at a time for more interactivity."
   ]
  },
  {
   "cell_type": "markdown",
   "id": "51a02c59",
   "metadata": {},
   "source": [
    "### Pool #1: Basic potential evaluations and scans\n",
    "\n",
    "Styles\n",
    "\n",
    "- __isolated_atom__ evaluates the energy of a single atom in isolation.\n",
    "- __diatom_scan__ evaluates the energy of a pair of atoms at various interatomic spacings.\n",
    "- __E_vs_r_scan__ evaluates the energy of crystal prototypes subjected to a volumetric scan.\n",
    "- __E_vs_r_scan:bop__ evaluates the energy of crystal prototypes subjected to a volumetric scan. Uses a higher rmin to avoid extremely costly energy evaluations for bop potentials."
   ]
  },
  {
   "cell_type": "code",
   "execution_count": 6,
   "id": "a656cc05",
   "metadata": {},
   "outputs": [
    {
     "name": "stdout",
     "output_type": "stream",
     "text": [
      "Preparing calculation isolated_atom branch main\n",
      "0 existing calculation records found\n",
      "2 matching interatomic potentials found\n",
      "2 calculation combinations to check\n",
      "2 new records to prepare\n",
      "\n",
      "Preparing calculation diatom_scan branch main\n",
      "0 existing calculation records found\n",
      "2 matching interatomic potentials found\n",
      "2 calculation combinations to check\n",
      "2 new records to prepare\n",
      "\n",
      "Preparing calculation E_vs_r_scan branch main\n",
      "10 existing calculation records found\n",
      "19 matching crystal prototypes found\n",
      "2 matching interatomic potentials found\n",
      "20 calculation combinations to check\n",
      "10 new records to prepare\n",
      "\n",
      "Preparing calculation E_vs_r_scan branch bop\n",
      "20 existing calculation records found\n",
      "19 matching crystal prototypes found\n",
      "0 matching interatomic potentials found\n",
      "1 invalid calculations skipped\n",
      "0 calculation combinations to check\n",
      "\n"
     ]
    }
   ],
   "source": [
    "styles = [\n",
    "    'isolated_atom',\n",
    "    'diatom_scan',\n",
    "    'E_vs_r_scan',\n",
    "    'E_vs_r_scan:bop',\n",
    "]\n",
    "prepare_terms['styles']        = ' '.join(styles)\n",
    "prepare_terms['run_directory'] = 'master_1'\n",
    "prepare_terms['np_per_runner'] = '1'\n",
    "database.master_prepare(**prepare_terms)"
   ]
  },
  {
   "cell_type": "markdown",
   "id": "79e6e284",
   "metadata": {},
   "source": [
    "### Pool #2: Round 1 of crystal structure relaxations\n",
    "\n",
    "Styles\n",
    "\n",
    "- __relax_box__ relaxes a structure by only adjusting the box dimensions and not the atom positions.\n",
    "- __relax_static__ relaxes a structure using energy/force minimizations. \n",
    "- __relax_dynamic__ relaxes a structure using dynamic Langevin energy damping, with only a single \"kick\" at the beginning."
   ]
  },
  {
   "cell_type": "code",
   "execution_count": 7,
   "id": "f7660499",
   "metadata": {},
   "outputs": [
    {
     "name": "stdout",
     "output_type": "stream",
     "text": [
      "Preparing calculation relax_box branch main\n",
      "39 existing calculation records found\n",
      "6587 matching atomic references found\n",
      "2 matching interatomic potentials found\n",
      "2 matching interatomic potentials found\n",
      "10 matching atomic parents found\n",
      "66 calculation combinations to check\n",
      "27 new records to prepare\n",
      "\n",
      "Preparing calculation relax_static branch main\n",
      "78 existing calculation records found\n",
      "6587 matching atomic references found\n",
      "2 matching interatomic potentials found\n",
      "2 matching interatomic potentials found\n",
      "10 matching atomic parents found\n",
      "66 calculation combinations to check\n",
      "27 new records to prepare\n",
      "\n",
      "Preparing calculation relax_dynamic branch main\n",
      "39 existing calculation records found\n",
      "6587 matching atomic references found\n",
      "2 matching interatomic potentials found\n",
      "2 matching interatomic potentials found\n",
      "10 matching atomic parents found\n",
      "66 calculation combinations to check\n",
      "27 new records to prepare\n",
      "\n"
     ]
    }
   ],
   "source": [
    "styles = [\n",
    "    'relax_box',\n",
    "    'relax_static',\n",
    "    'relax_dynamic',\n",
    "]\n",
    "prepare_terms['styles']        = ' '.join(styles)\n",
    "prepare_terms['run_directory'] = 'master_2'\n",
    "prepare_terms['np_per_runner'] = '1'\n",
    "database.master_prepare(**prepare_terms)"
   ]
  },
  {
   "cell_type": "markdown",
   "id": "dbe1fff6",
   "metadata": {},
   "source": [
    "### Pool #3: Round 2 of crystal structure relaxations\n",
    "\n",
    "Styles\n",
    "\n",
    "- __relax_static:from_dymanic__ further relaxes the results of the relax_dynamic calculation above using the relax_static method. "
   ]
  },
  {
   "cell_type": "code",
   "execution_count": 8,
   "id": "8920e024",
   "metadata": {},
   "outputs": [
    {
     "name": "stdout",
     "output_type": "stream",
     "text": [
      "Preparing calculation relax_static branch from_dynamic\n",
      "105 existing calculation records found\n",
      "2 matching interatomic potentials found\n",
      "66 matching atomic archives found\n",
      "66 calculation combinations to check\n",
      "27 new records to prepare\n",
      "\n"
     ]
    }
   ],
   "source": [
    "styles = [\n",
    "    'relax_static:from_dynamic'\n",
    "]\n",
    "prepare_terms['styles']        = ' '.join(styles)\n",
    "prepare_terms['run_directory'] = 'master_3'\n",
    "prepare_terms['np_per_runner'] = '1'\n",
    "database.master_prepare(**prepare_terms)"
   ]
  },
  {
   "cell_type": "markdown",
   "id": "2564ead7",
   "metadata": {},
   "source": [
    "### Pool #4: Crystal space group analysis\n",
    "\n",
    "Styles\n",
    "\n",
    "- __crystal_space_group:prototype__ performs a space group analysis on the prototype reference structures in the database.\n",
    "- __crystal_space_group:reference__ performs a space group analysis on any DFT reference structures in the database.\n",
    "- __crystal_space_group:relax__ performs a space group analysis on all of the results of the relax_box, relax_static and relax_static:from dynamic calculations."
   ]
  },
  {
   "cell_type": "code",
   "execution_count": 9,
   "id": "640a8787",
   "metadata": {},
   "outputs": [
    {
     "name": "stdout",
     "output_type": "stream",
     "text": [
      "Using potential #s 0 to 49\n",
      "\n",
      "Preparing calculation crystal_space_group branch relax\n",
      "112360 existing calculation records found\n",
      "8507 matching atomic archives found\n",
      "5956 matching atomic archives found\n",
      "14463 calculation combinations to check\n",
      "5956 new records to prepare\n",
      "\n",
      "Using potential #s 50 to 99\n",
      "\n",
      "Preparing calculation crystal_space_group branch relax\n",
      "118316 existing calculation records found\n",
      "4278 matching atomic archives found\n",
      "3170 matching atomic archives found\n",
      "7448 calculation combinations to check\n",
      "3261 new records to prepare\n",
      "\n",
      "Using potential #s 100 to 149\n",
      "\n",
      "Preparing calculation crystal_space_group branch relax\n",
      "121577 existing calculation records found\n",
      "5343 matching atomic archives found\n",
      "3816 matching atomic archives found\n",
      "9159 calculation combinations to check\n",
      "3816 new records to prepare\n",
      "\n",
      "Using potential #s 150 to 199\n",
      "\n",
      "Preparing calculation crystal_space_group branch relax\n",
      "125393 existing calculation records found\n",
      "6139 matching atomic archives found\n",
      "5276 matching atomic archives found\n",
      "11415 calculation combinations to check\n",
      "5276 new records to prepare\n",
      "\n",
      "Using potential #s 200 to 249\n",
      "\n",
      "Preparing calculation crystal_space_group branch relax\n",
      "130669 existing calculation records found\n",
      "9908 matching atomic archives found\n",
      "6822 matching atomic archives found\n",
      "16730 calculation combinations to check\n",
      "7368 new records to prepare\n",
      "\n",
      "Using potential #s 250 to 299\n",
      "\n",
      "Preparing calculation crystal_space_group branch relax\n",
      "138037 existing calculation records found\n",
      "7808 matching atomic archives found\n",
      "5227 matching atomic archives found\n",
      "13035 calculation combinations to check\n",
      "5229 new records to prepare\n",
      "\n",
      "Using potential #s 300 to 349\n",
      "\n",
      "Preparing calculation crystal_space_group branch relax\n",
      "143266 existing calculation records found\n",
      "7166 matching atomic archives found\n",
      "4901 matching atomic archives found\n",
      "12067 calculation combinations to check\n",
      "4901 new records to prepare\n",
      "\n",
      "Using potential #s 350 to 399\n",
      "\n",
      "Preparing calculation crystal_space_group branch relax\n",
      "148167 existing calculation records found\n",
      "6768 matching atomic archives found\n",
      "5854 matching atomic archives found\n",
      "12622 calculation combinations to check\n",
      "5854 new records to prepare\n",
      "\n",
      "Using potential #s 400 to 449\n",
      "\n",
      "Preparing calculation crystal_space_group branch relax\n",
      "154021 existing calculation records found\n",
      "13861 matching atomic archives found\n",
      "9848 matching atomic archives found\n",
      "23709 calculation combinations to check\n",
      "10259 new records to prepare\n",
      "\n",
      "Using potential #s 450 to 499\n",
      "\n",
      "Preparing calculation crystal_space_group branch relax\n",
      "164280 existing calculation records found\n",
      "6241 matching atomic archives found\n",
      "5284 matching atomic archives found\n",
      "11525 calculation combinations to check\n",
      "7509 new records to prepare\n",
      "\n",
      "Using potential #s 500 to 549\n",
      "\n",
      "Preparing calculation crystal_space_group branch relax\n",
      "171789 existing calculation records found\n",
      "7079 matching atomic archives found\n",
      "3674 matching atomic archives found\n",
      "10753 calculation combinations to check\n",
      "3973 new records to prepare\n",
      "\n",
      "Using potential #s 550 to 599\n",
      "\n",
      "Preparing calculation crystal_space_group branch relax\n",
      "175762 existing calculation records found\n",
      "7933 matching atomic archives found\n",
      "4526 matching atomic archives found\n",
      "12459 calculation combinations to check\n",
      "4738 new records to prepare\n",
      "\n",
      "Using potential #s 600 to 649\n",
      "\n",
      "Preparing calculation crystal_space_group branch relax\n",
      "180500 existing calculation records found\n",
      "5068 matching atomic archives found\n",
      "3143 matching atomic archives found\n",
      "8211 calculation combinations to check\n",
      "3571 new records to prepare\n",
      "\n",
      "Using potential #s 650 to 699\n",
      "\n",
      "Preparing calculation crystal_space_group branch relax\n",
      "184071 existing calculation records found\n",
      "4001 matching atomic archives found\n",
      "3176 matching atomic archives found\n",
      "7177 calculation combinations to check\n",
      "3922 new records to prepare\n",
      "\n",
      "Using potential #s 700 to 749\n",
      "\n",
      "Preparing calculation crystal_space_group branch relax\n",
      "187993 existing calculation records found\n",
      "1427 matching atomic archives found\n",
      "1029 matching atomic archives found\n",
      "2456 calculation combinations to check\n",
      "1061 new records to prepare\n",
      "\n",
      "Using potential #s 750 to 799\n",
      "\n",
      "Preparing calculation crystal_space_group branch relax\n",
      "189054 existing calculation records found\n",
      "948 matching atomic archives found\n",
      "1455 matching atomic archives found\n",
      "2403 calculation combinations to check\n",
      "1478 new records to prepare\n",
      "\n",
      "Using potential #s 800 to 849\n",
      "\n",
      "Preparing calculation crystal_space_group branch relax\n",
      "190532 existing calculation records found\n",
      "4489 matching atomic archives found\n",
      "3399 matching atomic archives found\n",
      "7888 calculation combinations to check\n",
      "3432 new records to prepare\n",
      "\n",
      "Using potential #s 850 to 859\n",
      "\n",
      "Preparing calculation crystal_space_group branch relax\n",
      "193964 existing calculation records found\n",
      "965 matching atomic archives found\n",
      "454 matching atomic archives found\n",
      "1419 calculation combinations to check\n",
      "455 new records to prepare\n",
      "\n"
     ]
    }
   ],
   "source": [
    "num_lmppot_ids = 50\n",
    "styles = [\n",
    "    #'crystal_space_group:prototype',\n",
    "    #'crystal_space_group:reference',\n",
    "    'crystal_space_group:relax',\n",
    "]\n",
    "prepare_terms['styles']        = ' '.join(styles)\n",
    "prepare_terms['run_directory'] = 'master_4'\n",
    "prepare_terms['np_per_runner'] = '1'\n",
    "for lmppot_ids in yield_lmppot_ids(num_lmppot_ids):\n",
    "    prepare_terms['potential_id'] = lmppot_ids\n",
    "    database.master_prepare(**prepare_terms)"
   ]
  },
  {
   "cell_type": "markdown",
   "id": "47c0faac",
   "metadata": {},
   "source": [
    "- - -\n",
    "\n",
    "### NOTE: \n",
    "\n",
    "All pools after this point use relaxed_crystal structures as the structure inputs.  These are generated from the relaxed structures and the associated crystal space group calculations using the !(process-relaxed method)!"
   ]
  },
  {
   "cell_type": "markdown",
   "id": "25c5614c",
   "metadata": {},
   "source": [
    "### Pool #5: Elastic constants and phonons\n",
    "\n",
    "Styles\n",
    "\n",
    "- __elastic_constants_static__ computes the static elastic constants of a crystal structure using small strains.\n",
    "- __phonon__ uses phonopy to evaluate the phonons of a crystal structure and performs a quasiharmonic analysis if possible."
   ]
  },
  {
   "cell_type": "code",
   "execution_count": 10,
   "id": "1eaf4e32",
   "metadata": {},
   "outputs": [
    {
     "name": "stdout",
     "output_type": "stream",
     "text": [
      "Preparing calculation elastic_constants_static branch main\n",
      "30 existing calculation records found\n",
      "2 matching interatomic potentials found\n",
      "17 matching atomic parents found\n",
      "51 calculation combinations to check\n",
      "21 new records to prepare\n",
      "\n",
      "Preparing calculation phonon branch main\n",
      "0 existing calculation records found\n",
      "2 matching interatomic potentials found\n",
      "17 matching atomic parents found\n",
      "17 calculation combinations to check\n",
      "17 new records to prepare\n",
      "\n"
     ]
    }
   ],
   "source": [
    "styles = [\n",
    "    'elastic_constants_static',\n",
    "    'phonon',\n",
    "]\n",
    "prepare_terms['styles']        = ' '.join(styles)\n",
    "prepare_terms['run_directory'] = 'master_5'\n",
    "prepare_terms['np_per_runner'] = '1'\n",
    "database.master_prepare(**prepare_terms)"
   ]
  },
  {
   "cell_type": "markdown",
   "id": "c13731c3",
   "metadata": {},
   "source": [
    "### Pool #6: Simple crystal defects\n",
    "\n",
    "__NOTE__: While these styles can be prepared similarly to the others, it is much faster to pre-select the parent relaxed_crystal records based on their associated prototypes.  Therefore, this code calls master_prepare separately for each style+family combination.\n",
    "\n",
    "\n",
    "Styles\n",
    "- __point_defect_static__ computes point defect formation energies and elastic dipole tensors.\n",
    "- __surface_energy_static__ computes free surface formation energies.\n",
    "- __stacking_fault_map_2D__ computes 2D stacking fault energy maps a.k.a. gamma surfaces.\n"
   ]
  },
  {
   "cell_type": "code",
   "execution_count": 5,
   "id": "065d8ba2",
   "metadata": {},
   "outputs": [
    {
     "name": "stdout",
     "output_type": "stream",
     "text": [
      "point_defect_static\n",
      "A1--Cu--fcc\n",
      "Preparing calculation point_defect_static branch main\n",
      "0 existing calculation records found\n",
      "2 matching interatomic potentials found\n",
      "2 matching atomic parents found\n",
      "9 matching defects\n",
      "18 calculation combinations to check\n",
      "18 new records to prepare\n",
      "\n",
      "A2--W--bcc\n",
      "Preparing calculation point_defect_static branch main\n",
      "18 existing calculation records found\n",
      "2 matching interatomic potentials found\n",
      "0 matching atomic parents found\n",
      "9 matching defects\n",
      "9 invalid calculations skipped\n",
      "0 calculation combinations to check\n",
      "\n",
      "A3--Mg--hcp\n",
      "Preparing calculation point_defect_static branch main\n",
      "18 existing calculation records found\n",
      "2 matching interatomic potentials found\n",
      "2 matching atomic parents found\n",
      "12 matching defects\n",
      "24 calculation combinations to check\n",
      "20 new records to prepare\n",
      "\n",
      "A4--C--dc\n",
      "Preparing calculation point_defect_static branch main\n",
      "38 existing calculation records found\n",
      "2 matching interatomic potentials found\n",
      "0 matching atomic parents found\n",
      "8 matching defects\n",
      "8 invalid calculations skipped\n",
      "0 calculation combinations to check\n",
      "\n",
      "surface_energy_static\n",
      "A1--Cu--fcc\n",
      "Preparing calculation surface_energy_static branch main\n",
      "195 existing calculation records found\n",
      "2 matching interatomic potentials found\n",
      "2 matching atomic parents found\n",
      "13 matching defects\n",
      "26 calculation combinations to check\n",
      "0 new records to prepare\n",
      "\n",
      "A15--beta-W\n",
      "Preparing calculation surface_energy_static branch main\n",
      "195 existing calculation records found\n",
      "2 matching interatomic potentials found\n",
      "2 matching atomic parents found\n",
      "16 matching defects\n",
      "32 calculation combinations to check\n",
      "0 new records to prepare\n",
      "\n",
      "A2--W--bcc\n",
      "Preparing calculation surface_energy_static branch main\n",
      "195 existing calculation records found\n",
      "2 matching interatomic potentials found\n",
      "0 matching atomic parents found\n",
      "13 matching defects\n",
      "13 invalid calculations skipped\n",
      "0 calculation combinations to check\n",
      "\n",
      "A3'--alpha-La--double-hcp\n",
      "Preparing calculation surface_energy_static branch main\n",
      "195 existing calculation records found\n",
      "2 matching interatomic potentials found\n",
      "2 matching atomic parents found\n",
      "17 matching defects\n",
      "34 calculation combinations to check\n",
      "0 new records to prepare\n",
      "\n",
      "A3--Mg--hcp\n",
      "Preparing calculation surface_energy_static branch main\n",
      "195 existing calculation records found\n",
      "2 matching interatomic potentials found\n",
      "2 matching atomic parents found\n",
      "19 matching defects\n",
      "38 calculation combinations to check\n",
      "0 new records to prepare\n",
      "\n",
      "A4--C--dc\n",
      "Preparing calculation surface_energy_static branch main\n",
      "195 existing calculation records found\n",
      "2 matching interatomic potentials found\n",
      "0 matching atomic parents found\n",
      "16 matching defects\n",
      "16 invalid calculations skipped\n",
      "0 calculation combinations to check\n",
      "\n",
      "A5--beta-Sn\n",
      "Preparing calculation surface_energy_static branch main\n",
      "195 existing calculation records found\n",
      "2 matching interatomic potentials found\n",
      "0 matching atomic parents found\n",
      "10 matching defects\n",
      "10 invalid calculations skipped\n",
      "0 calculation combinations to check\n",
      "\n",
      "A6--In--bct\n",
      "Preparing calculation surface_energy_static branch main\n",
      "195 existing calculation records found\n",
      "2 matching interatomic potentials found\n",
      "0 matching atomic parents found\n",
      "8 matching defects\n",
      "8 invalid calculations skipped\n",
      "0 calculation combinations to check\n",
      "\n",
      "A7--alpha-As\n",
      "Preparing calculation surface_energy_static branch main\n",
      "195 existing calculation records found\n",
      "2 matching interatomic potentials found\n",
      "0 matching atomic parents found\n",
      "21 matching defects\n",
      "21 invalid calculations skipped\n",
      "0 calculation combinations to check\n",
      "\n",
      "Ah--alpha-Po--sc\n",
      "Preparing calculation surface_energy_static branch main\n",
      "195 existing calculation records found\n",
      "2 matching interatomic potentials found\n",
      "0 matching atomic parents found\n",
      "13 matching defects\n",
      "13 invalid calculations skipped\n",
      "0 calculation combinations to check\n",
      "\n"
     ]
    }
   ],
   "source": [
    "styles = [\n",
    "    'point_defect_static',\n",
    "    'surface_energy_static',\n",
    "    #'stacking_fault_map_2D',\n",
    "]\n",
    "\n",
    "prepare_terms['run_directory'] = 'master_6'\n",
    "prepare_terms['np_per_runner'] = '1'\n",
    "\n",
    "for style in styles:\n",
    "    print(style)\n",
    "    prepare_terms['styles'] = style\n",
    "    \n",
    "    # Get defect reference records\n",
    "    if style == 'point_defect_static':\n",
    "        defects = database.get_records_df(style='point_defect')\n",
    "    elif style == 'surface_energy_static':\n",
    "        defects = database.get_records_df(style='free_surface')\n",
    "    elif style == 'stacking_fault_map_2D':\n",
    "        defects = database.get_records_df(style='stacking_fault')\n",
    "    \n",
    "    # Loop over reference record family values\n",
    "    for family in np.unique(defects.family):\n",
    "        print(family)\n",
    "        prepare_terms['parent_family'] = family\n",
    "        prepare_terms['defect_family'] = family\n",
    "        database.master_prepare(**prepare_terms)\n",
    "\n",
    "del prepare_terms['parent_family']\n",
    "del prepare_terms['defect_family']"
   ]
  },
  {
   "cell_type": "markdown",
   "id": "9dab1788",
   "metadata": {},
   "source": [
    "### Pool #7: Dislocation core constructions\n",
    "\n",
    "Styles\n",
    "\n",
    "- __dislocation_monopole:fcc_edge_100__ builds a dislocation monopole system for an fcc edge dislocation on a (100) plane.\n",
    "- __dislocation_monopole:bcc_screw__ builds a dislocation monopole system for a bcc screw dislocation on a (110) plane.\n",
    "- __dislocation_monopole:bcc_edge__ builds a dislocation monopole system for a bcc edge dislocation on a (110) plane.\n",
    "- __dislocation_monopole:bcc_edge_112__ builds a dislocation monopole system for a bcc edge dislocation on a (112) plane.\n",
    "- __dislocation_periodic_array:fcc_edge_mix__ builds a periodic array of dislocations system for an fcc edge or mixed dislocation on a (111) plane.\n",
    "- __dislocation_periodic_array:fcc_screw__ builds a periodic array of dislocations system for an fcc screw dislocation on a (111) plane."
   ]
  },
  {
   "cell_type": "code",
   "execution_count": 6,
   "id": "ce882248",
   "metadata": {
    "scrolled": false
   },
   "outputs": [
    {
     "name": "stdout",
     "output_type": "stream",
     "text": [
      "Preparing calculation dislocation_monopole branch fcc_edge_100\n",
      "1 existing calculation records found\n",
      "1 matching interatomic potentials found\n",
      "1 matching atomic archives found\n",
      "1 matching defects\n",
      "1 calculation combinations to check\n",
      "1 new records to prepare\n",
      "\n",
      "Preparing calculation dislocation_monopole branch bcc_screw\n",
      "2 existing calculation records found\n",
      "1 matching interatomic potentials found\n",
      "0 matching atomic archives found\n",
      "1 matching defects\n",
      "1 invalid calculations skipped\n",
      "0 calculation combinations to check\n",
      "\n",
      "Preparing calculation dislocation_monopole branch bcc_edge\n",
      "2 existing calculation records found\n",
      "1 matching interatomic potentials found\n",
      "0 matching atomic archives found\n",
      "1 matching defects\n",
      "1 invalid calculations skipped\n",
      "0 calculation combinations to check\n",
      "\n",
      "Preparing calculation dislocation_monopole branch bcc_edge_112\n",
      "2 existing calculation records found\n",
      "1 matching interatomic potentials found\n",
      "0 matching atomic archives found\n",
      "1 matching defects\n",
      "1 invalid calculations skipped\n",
      "0 calculation combinations to check\n",
      "\n",
      "Preparing calculation dislocation_periodic_array branch fcc_edge_mix\n",
      "0 existing calculation records found\n",
      "1 matching interatomic potentials found\n",
      "1 matching atomic archives found\n",
      "1 matching defects\n",
      "1 calculation combinations to check\n",
      "1 new records to prepare\n",
      "\n",
      "Preparing calculation dislocation_periodic_array branch fcc_screw\n",
      "1 existing calculation records found\n",
      "1 matching interatomic potentials found\n",
      "1 matching atomic archives found\n",
      "1 matching defects\n",
      "1 calculation combinations to check\n",
      "1 new records to prepare\n",
      "\n"
     ]
    }
   ],
   "source": [
    "styles = [\n",
    "    'dislocation_monopole:fcc_edge_100',\n",
    "    'dislocation_monopole:bcc_screw',\n",
    "    'dislocation_monopole:bcc_edge',\n",
    "    'dislocation_monopole:bcc_edge_112',\n",
    "    'dislocation_periodic_array:fcc_edge_mix',\n",
    "    'dislocation_periodic_array:fcc_screw',\n",
    "]\n",
    "\n",
    "prepare_terms['styles']        = ' '.join(styles)\n",
    "prepare_terms['run_directory'] = 'master_7'\n",
    "prepare_terms['np_per_runner'] = '8'\n",
    "prepare_terms['annealsteps'] = '100000'\n",
    "database.master_prepare(**prepare_terms)"
   ]
  },
  {
   "cell_type": "markdown",
   "id": "46320142",
   "metadata": {},
   "source": [
    "### Pool #8: Temperature-dependent crystal relaxations\n",
    "\n",
    "Styles\n",
    "\n",
    "- __relax_dynamic:at_temp__ \n"
   ]
  },
  {
   "cell_type": "markdown",
   "id": "1695c80b",
   "metadata": {},
   "source": [
    "---"
   ]
  },
  {
   "cell_type": "markdown",
   "id": "40f5d0d1",
   "metadata": {},
   "source": [
    "## Database management methods"
   ]
  },
  {
   "cell_type": "markdown",
   "id": "c38a5c45",
   "metadata": {},
   "source": [
    "### Check record statuses"
   ]
  },
  {
   "cell_type": "code",
   "execution_count": 16,
   "id": "c3920cae",
   "metadata": {},
   "outputs": [
    {
     "name": "stdout",
     "output_type": "stream",
     "text": [
      "In database style local at E:\\calculations\\ipr\\test:\n",
      "- 38 of style calculation_point_defect_static\n",
      " - 1 finished\n",
      " - 36 not finished\n",
      " - 1 issued errors\n"
     ]
    }
   ],
   "source": [
    "for style in [\n",
    "    #'diatom_scan',\n",
    "    #'isolated_atom',\n",
    "    #'E_vs_r_scan',\n",
    "    #'relax_box',\n",
    "    #'relax_static',\n",
    "    #'relax_dynamic',\n",
    "    #'crystal_space_group',\n",
    "    #'elastic_constants_static',\n",
    "    #'phonon',\n",
    "    'point_defect_static',\n",
    "    #'surface_energy_static',\n",
    "    #'stacking_fault_map_2D',\n",
    "    #'dislocation_monopole',\n",
    "    #'dislocation_periodic_array',\n",
    "    \n",
    "]:\n",
    "    database.check_records(f'calculation_{style}')"
   ]
  },
  {
   "cell_type": "markdown",
   "id": "0204ecf7",
   "metadata": {},
   "source": [
    "### Delete all records"
   ]
  },
  {
   "cell_type": "code",
   "execution_count": 7,
   "id": "c7fac678",
   "metadata": {},
   "outputs": [
    {
     "name": "stdout",
     "output_type": "stream",
     "text": [
      "0 records found to be destroyed\n",
      "0 records found to be destroyed\n"
     ]
    }
   ],
   "source": [
    "for style in [\n",
    "    'diatom_scan',\n",
    "    'isolated_atom',\n",
    "    #'E_vs_r_scan',\n",
    "    #'relax_box',\n",
    "    #'relax_static',\n",
    "    #'relax_dynamic',\n",
    "    #'crystal_space_group',\n",
    "    #'elastic_constants_static',\n",
    "    #'phonon',\n",
    "    #'point_defect_static',\n",
    "    #'surface_energy_static',\n",
    "    #'stacking_fault_map_2D',\n",
    "    #'dislocation_monopole',\n",
    "    #'dislocation_periodic_array',\n",
    "    \n",
    "]:\n",
    "    database.destroy_records(f'calculation_{style}')"
   ]
  },
  {
   "cell_type": "code",
   "execution_count": 15,
   "id": "93d66d2b",
   "metadata": {},
   "outputs": [
    {
     "name": "stdout",
     "output_type": "stream",
     "text": [
      "2 records to clean\n"
     ]
    }
   ],
   "source": [
    "for style in [\n",
    "   # 'diatom_scan',\n",
    "   # 'isolated_atom',\n",
    "   # 'E_vs_r_scan',\n",
    "   # 'relax_box',\n",
    "   # 'relax_static',\n",
    "   # 'relax_dynamic',\n",
    "   # 'crystal_space_group',\n",
    "   # 'elastic_constants_static',\n",
    "   # 'phonon',\n",
    "    'point_defect_static',\n",
    "   # 'surface_energy_static',\n",
    "   # 'stacking_fault_map_2D',\n",
    "   # 'dislocation_monopole',\n",
    "    #'dislocation_periodic_array',\n",
    "    \n",
    "]:\n",
    "    database.clean_records(record_style=f'calculation_{style}', run_directory='master_6')"
   ]
  }
 ],
 "metadata": {
  "kernelspec": {
   "display_name": "Python 3 (ipykernel)",
   "language": "python",
   "name": "python3"
  },
  "language_info": {
   "codemirror_mode": {
    "name": "ipython",
    "version": 3
   },
   "file_extension": ".py",
   "mimetype": "text/x-python",
   "name": "python",
   "nbconvert_exporter": "python",
   "pygments_lexer": "ipython3",
   "version": "3.7.10"
  }
 },
 "nbformat": 4,
 "nbformat_minor": 5
}
