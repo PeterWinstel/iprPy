{
 "cells": [
  {
   "cell_type": "markdown",
   "metadata": {},
   "source": [
    "# Download reference crystal structures\n",
    "\n",
    "This Notebook contains the workflow for fetching reference atomic crystal structures from various external sites, and comparing them to the defined crystal prototypes in the iprPy library.\n",
    "\n",
    "__WARNING:__ The functions called here access and download all matching crystal structures from the external sites.  For convenience, you should ideally limit access to only compositions of interest and/or locally copy the references between computational resources rather than downloading again."
   ]
  },
  {
   "cell_type": "markdown",
   "metadata": {},
   "source": [
    "**Library imports**"
   ]
  },
  {
   "cell_type": "code",
   "execution_count": 1,
   "metadata": {},
   "outputs": [
    {
     "name": "stdout",
     "output_type": "stream",
     "text": [
      "iprPy version 0.9.alpha\n"
     ]
    }
   ],
   "source": [
    "# Standard Python libraries\n",
    "from __future__ import (print_function, division, absolute_import,\n",
    "                        unicode_literals)\n",
    "import os\n",
    "import glob\n",
    "\n",
    "# http://www.numpy.org/\n",
    "import numpy as np\n",
    "\n",
    "# https://pandas.pydata.org/\n",
    "import pandas as pd\n",
    "\n",
    "# https://github.com/usnistgov/atomman\n",
    "import atomman as am\n",
    "import atomman.lammps as lmp\n",
    "\n",
    "# https://github.com/usnistgov/iprPy\n",
    "import iprPy\n",
    "print('iprPy version', iprPy.__version__)"
   ]
  },
  {
   "cell_type": "markdown",
   "metadata": {},
   "source": [
    "## 1. Load database"
   ]
  },
  {
   "cell_type": "code",
   "execution_count": 2,
   "metadata": {},
   "outputs": [],
   "source": [
    "database = iprPy.load_database('demo')"
   ]
  },
  {
   "cell_type": "markdown",
   "metadata": {},
   "source": [
    "## 2. Define elements_set\n",
    "\n",
    "elements_set lists the elemental systems to fetch reference crystal structures for."
   ]
  },
  {
   "cell_type": "markdown",
   "metadata": {},
   "source": [
    "### Option #1: Auto generate\n",
    "\n",
    "This generates elements_set based on the potentials in the database."
   ]
  },
  {
   "cell_type": "code",
   "execution_count": 3,
   "metadata": {},
   "outputs": [],
   "source": [
    "# Specify the potential record style\n",
    "potential_record_style = 'potential_LAMMPS'\n",
    "\n",
    "# Specify any potential delimiters\n",
    "potential_kwargs = {}\n",
    "potential_kwargs['id'] = '1986--Foiles-S-M--Ag--LAMMPS--ipr1'\n",
    "#potential_kwargs['pair_style'] = "
   ]
  },
  {
   "cell_type": "code",
   "execution_count": 4,
   "metadata": {},
   "outputs": [],
   "source": [
    "elements_set = set()\n",
    "for potential_record in database.get_records(style=potential_record_style, **potential_kwargs):\n",
    "    potential = lmp.Potential(potential_record.content)\n",
    "    elements = potential.elements()\n",
    "    elements.sort()\n",
    "    elements_set.add(' '.join(elements))"
   ]
  },
  {
   "cell_type": "markdown",
   "metadata": {},
   "source": [
    "### Option #2: Manually define\n",
    "\n",
    "Each entry is a space-delimited string of element tags indicating an element system. For example\n",
    "\n",
    "- 'Au' will fetch elemental Au crystals\n",
    "- 'Au Cu' will fetch crystals for AuCu, Au2Cu, AuCu2, ..."
   ]
  },
  {
   "cell_type": "code",
   "execution_count": 5,
   "metadata": {},
   "outputs": [],
   "source": [
    "#elements_set = set()\n",
    "#elements_set.add('Fe')\n",
    "#elements_set.add('Cu')\n",
    "#elements_set.add('Ni')\n",
    "#elements_set.add('Cu Ni')"
   ]
  },
  {
   "cell_type": "markdown",
   "metadata": {},
   "source": [
    "## 3. Fetch Materials Project reference structures"
   ]
  },
  {
   "cell_type": "markdown",
   "metadata": {},
   "source": [
    "### Specify personal Materials Project API key"
   ]
  },
  {
   "cell_type": "code",
   "execution_count": 6,
   "metadata": {},
   "outputs": [],
   "source": [
    "mp_api_key_location = 'C:\\\\users\\\\lmh1\\\\Documents\\\\Materials Project\\\\API key.txt'\n",
    "\n",
    "with open(mp_api_key_location) as f:\n",
    "    mp_api_key = f.read()"
   ]
  },
  {
   "cell_type": "markdown",
   "metadata": {},
   "source": [
    "### Get structures from Materials Project"
   ]
  },
  {
   "cell_type": "code",
   "execution_count": 7,
   "metadata": {},
   "outputs": [],
   "source": [
    "for elements in elements_set:\n",
    "    iprPy.tools.get_mp_structures(elements.split(), api_key=mp_api_key)"
   ]
  },
  {
   "cell_type": "markdown",
   "metadata": {},
   "source": [
    "## 3. Fetch OQMD reference structures"
   ]
  },
  {
   "cell_type": "markdown",
   "metadata": {},
   "source": [
    "### Get structures from OQMD"
   ]
  },
  {
   "cell_type": "code",
   "execution_count": 8,
   "metadata": {},
   "outputs": [],
   "source": [
    "for elements in elements_set:\n",
    "    try:\n",
    "        iprPy.tools.get_oqmd_structures(elements.split())\n",
    "    except:\n",
    "        print('Failed:', elements)"
   ]
  },
  {
   "cell_type": "markdown",
   "metadata": {},
   "source": [
    "## 4. Add reference structures to database"
   ]
  },
  {
   "cell_type": "code",
   "execution_count": 10,
   "metadata": {},
   "outputs": [],
   "source": [
    "database.build_refs(include='reference_crystal')"
   ]
  }
 ],
 "metadata": {
  "kernelspec": {
   "display_name": "Python 3",
   "language": "python",
   "name": "python3"
  },
  "language_info": {
   "codemirror_mode": {
    "name": "ipython",
    "version": 3
   },
   "file_extension": ".py",
   "mimetype": "text/x-python",
   "name": "python",
   "nbconvert_exporter": "python",
   "pygments_lexer": "ipython3",
   "version": "3.7.1"
  }
 },
 "nbformat": 4,
 "nbformat_minor": 2
}
