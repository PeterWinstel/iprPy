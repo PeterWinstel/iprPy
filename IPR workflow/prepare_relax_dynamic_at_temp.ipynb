{
 "cells": [
  {
   "cell_type": "markdown",
   "id": "59aae903",
   "metadata": {},
   "source": [
    "# Prepare script for relax_dynamic:at_temp calculations\n",
    "\n",
    "This Notebook is designed to call master prepare for relax_dynamic calculations for the at_temp branch. The Notebook provides a routine that allows for more dynamic control over which calculations are created:\n",
    "\n",
    "- New calculations at higher temperatures are only prepared if the calculation at the next lowest temperature finished and the relaxed box dimensions appear to still be consistent with the original crystal family.\n",
    "- Calculations are only set up for select prototype/reference families at a time to allow for different size mults based on different numbers of atoms in the unit cells."
   ]
  },
  {
   "cell_type": "code",
   "execution_count": 1,
   "id": "c5476fc6",
   "metadata": {},
   "outputs": [],
   "source": [
    "import iprPy\n",
    "import atomman as am\n",
    "import numpy as np"
   ]
  },
  {
   "cell_type": "code",
   "execution_count": 6,
   "id": "93895a9c",
   "metadata": {},
   "outputs": [
    {
     "data": {
      "text/plain": [
       "array([ 100,  150,  200,  250,  300,  350,  400,  450,  500,  550,  600,\n",
       "        650,  700,  750,  800,  850,  900,  950, 1000, 1050, 1100, 1150,\n",
       "       1200, 1250, 1300, 1350, 1400, 1450, 1500, 1550, 1600, 1650, 1700,\n",
       "       1750, 1800, 1850, 1900, 1950, 2000, 2050, 2100, 2150, 2200, 2250,\n",
       "       2300, 2350, 2400, 2450, 2500, 2550, 2600, 2650, 2700, 2750, 2800,\n",
       "       2850, 2900, 2950, 3000])"
      ]
     },
     "execution_count": 6,
     "metadata": {},
     "output_type": "execute_result"
    }
   ],
   "source": [
    "np.arange(100, 3050, 50, dtype=int)"
   ]
  },
  {
   "cell_type": "markdown",
   "id": "b13c8485",
   "metadata": {},
   "source": [
    "## MISSING ALTERNATE LAMMPS_COMMANDS!!!!"
   ]
  },
  {
   "cell_type": "code",
   "execution_count": 2,
   "id": "45e7c314",
   "metadata": {},
   "outputs": [],
   "source": [
    "database_name = 'master'\n",
    "run_directory_name = 'master_6'\n",
    "\n",
    "lammps_command = 'lmp_mpi'\n",
    "#mpi_command = ''\n",
    "np_per_runner = 1\n",
    "\n",
    "family = 'A1--Cu--fcc'\n",
    "symbols = 'Al'\n",
    "sizemults = '10 10 10'"
   ]
  },
  {
   "cell_type": "code",
   "execution_count": null,
   "id": "143b8a1e",
   "metadata": {},
   "outputs": [],
   "source": [
    "database = iprPy.load_database(database_name)"
   ]
  },
  {
   "cell_type": "markdown",
   "id": "f173c6b1",
   "metadata": {},
   "source": [
    "### Prepare 50K relaxations\n",
    "\n",
    "First, relaxation calculations at 50K are prepared for all relaxed_crystal records from the dynamic method with good standing."
   ]
  },
  {
   "cell_type": "code",
   "execution_count": 3,
   "id": "d29c7197",
   "metadata": {},
   "outputs": [
    {
     "name": "stderr",
     "output_type": "stream",
     "text": [
      "100%|████████████████████████████████████████████████████████████████████████████████| 493/493 [00:16<00:00, 29.44it/s]\n",
      "100%|████████████████████████████████████████████████████████████████████████████████| 450/450 [00:08<00:00, 53.65it/s]\n"
     ]
    },
    {
     "name": "stdout",
     "output_type": "stream",
     "text": [
      "793 potential ids found\n",
      "Preparing calculation relax_dynamic branch at_temp\n",
      "Using potential #s 0 to 599\n",
      "\n",
      "109137 existing calculation records found\n",
      "600 matching interatomic potentials found\n",
      "73 matching atomic parents found\n",
      "73 calculation combinations to check\n",
      "0 new records to prepare\n"
     ]
    },
    {
     "name": "stderr",
     "output_type": "stream",
     "text": [
      "preparing: 0it [00:00, ?it/s]"
     ]
    },
    {
     "name": "stdout",
     "output_type": "stream",
     "text": [
      "\n",
      "Using potential #s 600 to 792\n",
      "\n"
     ]
    },
    {
     "name": "stderr",
     "output_type": "stream",
     "text": [
      "\n"
     ]
    },
    {
     "name": "stdout",
     "output_type": "stream",
     "text": [
      "109137 existing calculation records found\n",
      "429 matching interatomic potentials found\n",
      "0 matching atomic parents found\n",
      "1 invalid calculations skipped\n",
      "0 calculation combinations to check\n",
      "\n"
     ]
    }
   ],
   "source": [
    "# Load relaxed_crystal records\n",
    "relaxed_df = database.get_records_df('relaxed_crystal', method='dynamic', standing='good',\n",
    "                                     family=family,\n",
    "                                     symbols=symbols)\n",
    "\n",
    "# Skip OpenKIM potentials (for local Windows runs)\n",
    "def get_mo(series):\n",
    "    return series.potential_LAMMPS_key[:3] == 'MO_'\n",
    "relaxed_df = relaxed_df[~relaxed_df.apply(get_mo, axis=1)]\n",
    "\n",
    "parent_keys = relaxed_df.key.tolist()\n",
    "\n",
    "database.master_prepare(\n",
    "    styles = 'relax_dynamic:at_temp',\n",
    "    np_per_runner = np_per_runner,\n",
    "    run_directory = run_directory_name,\n",
    "    num_pots = 900,\n",
    "    lammps_command = 'lmp_mpi',\n",
    "    temperature = '50',\n",
    "    parent_key = parent_keys,\n",
    "    sizemults = sizemults)"
   ]
  },
  {
   "cell_type": "markdown",
   "id": "c0e71e98",
   "metadata": {},
   "source": [
    "### Prepare > 50K relaxations\n",
    "\n",
    "1. All finished relax_dynamic calculations are retrieved.\n",
    "2. Loop over all temperatures every 50K from 100K to 3000K\n",
    "3. Identify all finished calculations for 50K less than the target temperature.\n",
    "4. Check if the dimensions of the relaxed unit cell is within rtol of the expected crystal family.\n",
    "5. Prepare new relaxation calculations at the target temperature from the associated relaxed_crystal record."
   ]
  },
  {
   "cell_type": "code",
   "execution_count": null,
   "id": "d8e1e20a",
   "metadata": {},
   "outputs": [],
   "source": [
    "# Method parameters\n",
    "rtol = 0.05\n",
    "crystal_family = 'cubic'\n",
    "temperatures = np.arange(100, 3050, 50, dtype=int)"
   ]
  },
  {
   "cell_type": "code",
   "execution_count": null,
   "id": "a29ab089",
   "metadata": {},
   "outputs": [],
   "source": [
    "def check_crystal_family(df, crystal_family, atol=0.0, rtol=0.05):\n",
    "    \"\"\"\n",
    "    Checks if the 'box' field of df, which should be an atomman.Box object,\n",
    "    is of the indicated crystal family within rtol.\n",
    "    \"\"\"\n",
    "    \n",
    "    # Define box_parameters apply function based on crystal_family\n",
    "    \n",
    "    if crystal_family == 'cubic':\n",
    "        def box_parameters(series):\n",
    "            \"\"\"Check values and build the box_parameter term for cubic systems\"\"\"\n",
    "            if series.box.iscubic(atol=atol, rtol=rtol):\n",
    "                a = np.mean([series.box.a, series.box.b, series.box.c])\n",
    "                return f'{a} {a} {a}'\n",
    "            else:\n",
    "                return np.nan\n",
    "    \n",
    "    elif crystal_family == 'hexagonal':\n",
    "        def box_parameters(series):\n",
    "            \"\"\"Check values and build the box_parameter term for hexagonal systems\"\"\"\n",
    "            if series.box.ishexagonal(atol=atol, rtol=rtol):\n",
    "                a = np.mean([series.box.a, series.box.b])\n",
    "                c = series.box.c\n",
    "                return f'{a} {a} {c} 90.0 90.0 120.0'\n",
    "            else:\n",
    "                return np.nan\n",
    "            \n",
    "    elif crystal_family == 'tetragonal':     \n",
    "        def box_parameters(series):\n",
    "            \"\"\"Check values and build the box_parameter term for tetragonal systems\"\"\"\n",
    "            if series.box.istetragonal(atol=atol, rtol=rtol):\n",
    "                a = np.mean([series.box.a, series.box.b])\n",
    "                c = series.box.c\n",
    "                return f'{a} {a} {c}'\n",
    "            else:\n",
    "                return np.nan\n",
    "    \n",
    "    elif crystal_family == 'rhombohedral':\n",
    "        def box_parameters(series):\n",
    "            \"\"\"Check values and build the box_parameter term for rhombohedral systems\"\"\"\n",
    "            if series.box.isrhombohedral(atol=atol, rtol=rtol):\n",
    "                a = np.mean([series.box.a, series.box.b, series.box.c])\n",
    "                alpha = np.mean([series.box.alpha, series.box.beta, series.box.gamma])\n",
    "                return f'{a} {a} {a} {alpha} {alpha} {alpha}'\n",
    "            else:\n",
    "                return np.nan\n",
    "        \n",
    "    elif crystal_family == 'orthorhombic':\n",
    "        def box_parameters(series):\n",
    "            \"\"\"Check values and build the box_parameter term for orthorhombic systems\"\"\"\n",
    "            if series.box.isorthorhombic(atol=atol, rtol=rtol):\n",
    "                a = series.box.a\n",
    "                b = series.box.b\n",
    "                c = series.box.c\n",
    "                return f'{a} {b} {c}'\n",
    "            else:\n",
    "                return np.nan\n",
    "        \n",
    "    elif crystal_family == 'monoclinic':\n",
    "        def box_parameters(series):\n",
    "            \"\"\"Check values and build the box_parameter term for monoclinic systems\"\"\"\n",
    "            if series.box.ismonoclinic(atol=atol, rtol=rtol):\n",
    "                a = series.box.a\n",
    "                b = series.box.b\n",
    "                c = series.box.c\n",
    "                beta = series.box.beta\n",
    "                return f'{a} {b} {c} 90.0 {beta} 90.0'\n",
    "            else:\n",
    "                return np.nan\n",
    "            \n",
    "    elif crystal_family == 'triclinic':\n",
    "        def box_parameters(series):\n",
    "            \"\"\"Check values and build the box_parameter term for triclinic systems\"\"\"\n",
    "            if series.box.istriclinic(atol=atol, rtol=rtol):\n",
    "                a = series.box.a\n",
    "                b = series.box.b\n",
    "                c = series.box.c\n",
    "                alpha = series.box.alpha\n",
    "                beta = series.box.beta\n",
    "                gamma = series.box.gamma\n",
    "                return f'{a} {b} {c} {alpha} {beta} {gamma}'\n",
    "            else:\n",
    "                return np.nan\n",
    "            \n",
    "    else:\n",
    "        raise ValueError(f'unknown crystal family: {crystal_family}')\n",
    "    \n",
    "    # Use the apply function on the dataframe\n",
    "    df['box_parameters'] = df.apply(box_parameters, axis=1)\n",
    "        \n",
    "    # Return only the dataframe entries with good box_parameters\n",
    "    return df[df.box_parameters.notna()]"
   ]
  },
  {
   "cell_type": "code",
   "execution_count": 8,
   "id": "195dd379",
   "metadata": {},
   "outputs": [
    {
     "name": "stdout",
     "output_type": "stream",
     "text": [
      "1050\n",
      "6 good parents found\n"
     ]
    },
    {
     "name": "stderr",
     "output_type": "stream",
     "text": [
      "100%|████████████████████████████████████████████████████████████████████████████████| 493/493 [00:09<00:00, 49.54it/s]\n",
      "100%|████████████████████████████████████████████████████████████████████████████████| 450/450 [00:08<00:00, 51.40it/s]\n"
     ]
    },
    {
     "name": "stdout",
     "output_type": "stream",
     "text": [
      "793 potential ids found\n",
      "Preparing calculation relax_dynamic branch at_temp\n",
      "Using potential #s 0 to 792\n",
      "\n",
      "109222 existing calculation records found\n",
      "1029 matching interatomic potentials found\n",
      "6 matching atomic parents found\n",
      "6 calculation combinations to check\n",
      "6 new records to prepare\n"
     ]
    },
    {
     "name": "stderr",
     "output_type": "stream",
     "text": [
      "preparing: 100%|#########################################################################| 6/6 [00:17<00:00,  2.99s/it]\n"
     ]
    },
    {
     "name": "stdout",
     "output_type": "stream",
     "text": [
      "\n",
      "1100\n",
      "No good parents found\n",
      "1150\n",
      "6 good parents found\n"
     ]
    },
    {
     "name": "stderr",
     "output_type": "stream",
     "text": [
      "100%|████████████████████████████████████████████████████████████████████████████████| 493/493 [00:09<00:00, 49.81it/s]\n",
      "100%|████████████████████████████████████████████████████████████████████████████████| 450/450 [00:08<00:00, 49.83it/s]\n"
     ]
    },
    {
     "name": "stdout",
     "output_type": "stream",
     "text": [
      "793 potential ids found\n",
      "Preparing calculation relax_dynamic branch at_temp\n",
      "Using potential #s 0 to 792\n",
      "\n",
      "109228 existing calculation records found\n",
      "1029 matching interatomic potentials found\n",
      "6 matching atomic parents found\n",
      "6 calculation combinations to check\n",
      "6 new records to prepare\n"
     ]
    },
    {
     "name": "stderr",
     "output_type": "stream",
     "text": [
      "preparing: 100%|#########################################################################| 6/6 [00:17<00:00,  2.96s/it]\n"
     ]
    },
    {
     "name": "stdout",
     "output_type": "stream",
     "text": [
      "\n",
      "1200\n",
      "No good parents found\n",
      "1250\n",
      "5 good parents found\n"
     ]
    },
    {
     "name": "stderr",
     "output_type": "stream",
     "text": [
      "100%|████████████████████████████████████████████████████████████████████████████████| 493/493 [00:10<00:00, 48.29it/s]\n",
      "100%|████████████████████████████████████████████████████████████████████████████████| 450/450 [00:08<00:00, 53.81it/s]\n"
     ]
    },
    {
     "name": "stdout",
     "output_type": "stream",
     "text": [
      "793 potential ids found\n",
      "Preparing calculation relax_dynamic branch at_temp\n",
      "Using potential #s 0 to 792\n",
      "\n",
      "109234 existing calculation records found\n",
      "1029 matching interatomic potentials found\n",
      "5 matching atomic parents found\n",
      "5 calculation combinations to check\n",
      "5 new records to prepare\n"
     ]
    },
    {
     "name": "stderr",
     "output_type": "stream",
     "text": [
      "preparing: 100%|#########################################################################| 5/5 [00:20<00:00,  4.14s/it]\n"
     ]
    },
    {
     "name": "stdout",
     "output_type": "stream",
     "text": [
      "\n",
      "1300\n",
      "No good parents found\n",
      "1350\n",
      "3 good parents found\n"
     ]
    },
    {
     "name": "stderr",
     "output_type": "stream",
     "text": [
      "100%|████████████████████████████████████████████████████████████████████████████████| 493/493 [00:09<00:00, 48.92it/s]\n",
      "100%|████████████████████████████████████████████████████████████████████████████████| 450/450 [00:08<00:00, 53.40it/s]\n"
     ]
    },
    {
     "name": "stdout",
     "output_type": "stream",
     "text": [
      "793 potential ids found\n",
      "Preparing calculation relax_dynamic branch at_temp\n",
      "Using potential #s 0 to 792\n",
      "\n",
      "109239 existing calculation records found\n",
      "1029 matching interatomic potentials found\n",
      "3 matching atomic parents found\n",
      "3 calculation combinations to check\n",
      "3 new records to prepare\n"
     ]
    },
    {
     "name": "stderr",
     "output_type": "stream",
     "text": [
      "preparing: 100%|#########################################################################| 3/3 [00:08<00:00,  2.86s/it]\n"
     ]
    },
    {
     "name": "stdout",
     "output_type": "stream",
     "text": [
      "\n",
      "1400\n",
      "No good parents found\n",
      "1450\n",
      "2 good parents found\n"
     ]
    },
    {
     "name": "stderr",
     "output_type": "stream",
     "text": [
      "100%|████████████████████████████████████████████████████████████████████████████████| 493/493 [00:09<00:00, 49.95it/s]\n",
      "100%|████████████████████████████████████████████████████████████████████████████████| 450/450 [00:08<00:00, 54.04it/s]\n"
     ]
    },
    {
     "name": "stdout",
     "output_type": "stream",
     "text": [
      "793 potential ids found\n",
      "Preparing calculation relax_dynamic branch at_temp\n",
      "Using potential #s 0 to 792\n",
      "\n",
      "109242 existing calculation records found\n",
      "1029 matching interatomic potentials found\n",
      "2 matching atomic parents found\n",
      "2 calculation combinations to check\n",
      "2 new records to prepare\n"
     ]
    },
    {
     "name": "stderr",
     "output_type": "stream",
     "text": [
      "preparing: 100%|#########################################################################| 2/2 [00:05<00:00,  2.90s/it]\n"
     ]
    },
    {
     "name": "stdout",
     "output_type": "stream",
     "text": [
      "\n",
      "1500\n",
      "No good parents found\n",
      "1550\n",
      "2 good parents found\n"
     ]
    },
    {
     "name": "stderr",
     "output_type": "stream",
     "text": [
      "100%|████████████████████████████████████████████████████████████████████████████████| 493/493 [00:09<00:00, 49.96it/s]\n",
      "100%|████████████████████████████████████████████████████████████████████████████████| 450/450 [00:08<00:00, 54.68it/s]\n"
     ]
    },
    {
     "name": "stdout",
     "output_type": "stream",
     "text": [
      "793 potential ids found\n",
      "Preparing calculation relax_dynamic branch at_temp\n",
      "Using potential #s 0 to 792\n",
      "\n",
      "109244 existing calculation records found\n",
      "1029 matching interatomic potentials found\n",
      "2 matching atomic parents found\n",
      "2 calculation combinations to check\n",
      "2 new records to prepare\n"
     ]
    },
    {
     "name": "stderr",
     "output_type": "stream",
     "text": [
      "preparing: 100%|#########################################################################| 2/2 [00:10<00:00,  5.18s/it]\n"
     ]
    },
    {
     "name": "stdout",
     "output_type": "stream",
     "text": [
      "\n",
      "1600\n",
      "No good parents found\n",
      "1650\n",
      "2 good parents found\n"
     ]
    },
    {
     "name": "stderr",
     "output_type": "stream",
     "text": [
      "100%|████████████████████████████████████████████████████████████████████████████████| 493/493 [00:09<00:00, 48.54it/s]\n",
      "100%|████████████████████████████████████████████████████████████████████████████████| 450/450 [00:08<00:00, 54.01it/s]\n"
     ]
    },
    {
     "name": "stdout",
     "output_type": "stream",
     "text": [
      "793 potential ids found\n",
      "Preparing calculation relax_dynamic branch at_temp\n",
      "Using potential #s 0 to 792\n",
      "\n",
      "109246 existing calculation records found\n",
      "1029 matching interatomic potentials found\n",
      "2 matching atomic parents found\n",
      "2 calculation combinations to check\n",
      "2 new records to prepare\n"
     ]
    },
    {
     "name": "stderr",
     "output_type": "stream",
     "text": [
      "preparing: 100%|#########################################################################| 2/2 [00:06<00:00,  3.29s/it]\n"
     ]
    },
    {
     "name": "stdout",
     "output_type": "stream",
     "text": [
      "\n",
      "1700\n",
      "No good parents found\n",
      "1750\n",
      "2 good parents found\n"
     ]
    },
    {
     "name": "stderr",
     "output_type": "stream",
     "text": [
      "100%|████████████████████████████████████████████████████████████████████████████████| 493/493 [00:09<00:00, 49.58it/s]\n",
      "100%|████████████████████████████████████████████████████████████████████████████████| 450/450 [00:07<00:00, 55.50it/s]\n"
     ]
    },
    {
     "name": "stdout",
     "output_type": "stream",
     "text": [
      "793 potential ids found\n",
      "Preparing calculation relax_dynamic branch at_temp\n",
      "Using potential #s 0 to 792\n",
      "\n",
      "109248 existing calculation records found\n",
      "1029 matching interatomic potentials found\n",
      "2 matching atomic parents found\n",
      "2 calculation combinations to check\n",
      "2 new records to prepare\n"
     ]
    },
    {
     "name": "stderr",
     "output_type": "stream",
     "text": [
      "preparing: 100%|#########################################################################| 2/2 [00:06<00:00,  3.25s/it]\n"
     ]
    },
    {
     "name": "stdout",
     "output_type": "stream",
     "text": [
      "\n",
      "1800\n",
      "No good parents found\n",
      "1850\n",
      "2 good parents found\n"
     ]
    },
    {
     "name": "stderr",
     "output_type": "stream",
     "text": [
      "100%|████████████████████████████████████████████████████████████████████████████████| 493/493 [00:09<00:00, 49.95it/s]\n",
      "100%|████████████████████████████████████████████████████████████████████████████████| 450/450 [00:07<00:00, 55.86it/s]\n"
     ]
    },
    {
     "name": "stdout",
     "output_type": "stream",
     "text": [
      "793 potential ids found\n",
      "Preparing calculation relax_dynamic branch at_temp\n",
      "Using potential #s 0 to 792\n",
      "\n",
      "109250 existing calculation records found\n",
      "1029 matching interatomic potentials found\n",
      "2 matching atomic parents found\n",
      "2 calculation combinations to check\n",
      "2 new records to prepare\n"
     ]
    },
    {
     "name": "stderr",
     "output_type": "stream",
     "text": [
      "preparing: 100%|#########################################################################| 2/2 [00:06<00:00,  3.27s/it]\n"
     ]
    },
    {
     "name": "stdout",
     "output_type": "stream",
     "text": [
      "\n",
      "1900\n",
      "No good parents found\n",
      "1950\n",
      "2 good parents found\n"
     ]
    },
    {
     "name": "stderr",
     "output_type": "stream",
     "text": [
      "100%|████████████████████████████████████████████████████████████████████████████████| 493/493 [00:09<00:00, 49.85it/s]\n",
      "100%|████████████████████████████████████████████████████████████████████████████████| 450/450 [00:07<00:00, 55.54it/s]\n"
     ]
    },
    {
     "name": "stdout",
     "output_type": "stream",
     "text": [
      "793 potential ids found\n",
      "Preparing calculation relax_dynamic branch at_temp\n",
      "Using potential #s 0 to 792\n",
      "\n",
      "109252 existing calculation records found\n",
      "1029 matching interatomic potentials found\n",
      "2 matching atomic parents found\n",
      "2 calculation combinations to check\n",
      "2 new records to prepare\n"
     ]
    },
    {
     "name": "stderr",
     "output_type": "stream",
     "text": [
      "preparing: 100%|#########################################################################| 2/2 [00:06<00:00,  3.23s/it]\n"
     ]
    },
    {
     "name": "stdout",
     "output_type": "stream",
     "text": [
      "\n",
      "2000\n",
      "No good parents found\n",
      "2050\n",
      "2 good parents found\n"
     ]
    },
    {
     "name": "stderr",
     "output_type": "stream",
     "text": [
      "100%|████████████████████████████████████████████████████████████████████████████████| 493/493 [00:09<00:00, 50.15it/s]\n",
      "100%|████████████████████████████████████████████████████████████████████████████████| 450/450 [00:08<00:00, 51.01it/s]\n"
     ]
    },
    {
     "name": "stdout",
     "output_type": "stream",
     "text": [
      "793 potential ids found\n",
      "Preparing calculation relax_dynamic branch at_temp\n",
      "Using potential #s 0 to 792\n",
      "\n",
      "109254 existing calculation records found\n",
      "1029 matching interatomic potentials found\n",
      "2 matching atomic parents found\n",
      "2 calculation combinations to check\n",
      "2 new records to prepare\n"
     ]
    },
    {
     "name": "stderr",
     "output_type": "stream",
     "text": [
      "preparing: 100%|#########################################################################| 2/2 [00:06<00:00,  3.30s/it]\n"
     ]
    },
    {
     "name": "stdout",
     "output_type": "stream",
     "text": [
      "\n",
      "2100\n",
      "No good parents found\n",
      "2150\n",
      "1 good parents found\n"
     ]
    },
    {
     "name": "stderr",
     "output_type": "stream",
     "text": [
      "100%|████████████████████████████████████████████████████████████████████████████████| 493/493 [00:09<00:00, 50.23it/s]\n",
      "100%|████████████████████████████████████████████████████████████████████████████████| 450/450 [00:07<00:00, 55.41it/s]\n"
     ]
    },
    {
     "name": "stdout",
     "output_type": "stream",
     "text": [
      "793 potential ids found\n",
      "Preparing calculation relax_dynamic branch at_temp\n",
      "Using potential #s 0 to 792\n",
      "\n",
      "109256 existing calculation records found\n",
      "1029 matching interatomic potentials found\n",
      "1 matching atomic parents found\n",
      "1 calculation combinations to check\n",
      "1 new records to prepare\n"
     ]
    },
    {
     "name": "stderr",
     "output_type": "stream",
     "text": [
      "preparing: 100%|#########################################################################| 1/1 [00:03<00:00,  3.09s/it]"
     ]
    },
    {
     "name": "stdout",
     "output_type": "stream",
     "text": [
      "\n",
      "2200\n",
      "No good parents found\n",
      "2250\n",
      "No good parents found\n",
      "2300\n",
      "No good parents found\n",
      "2350\n",
      "No good parents found\n",
      "2400\n",
      "No good parents found\n",
      "2450\n",
      "No good parents found\n",
      "2500\n",
      "No good parents found\n",
      "2550\n",
      "No good parents found\n",
      "2600\n",
      "No good parents found\n",
      "2650\n",
      "No good parents found\n",
      "2700\n",
      "No good parents found\n",
      "2750\n",
      "No good parents found\n",
      "2800\n",
      "No good parents found\n",
      "2850\n",
      "No good parents found\n",
      "2900\n",
      "No good parents found\n",
      "2950\n",
      "No good parents found\n",
      "3000\n",
      "No good parents found\n"
     ]
    },
    {
     "name": "stderr",
     "output_type": "stream",
     "text": [
      "\n"
     ]
    }
   ],
   "source": [
    "# Fetch all currently finished relax_dynamic:at_temp calculations\n",
    "relaxed_df = database.get_records_df('calculation_relax_dynamic', branch='at_temp', status='finished',\n",
    "                                     family=family)\n",
    "\n",
    "# Create a box object from average lengths and tilts\n",
    "def make_box(series):\n",
    "    \"\"\"Create cell Box from relaxed lengths and tilts\"\"\"\n",
    "    return am.Box(lx=series.lx, ly=series.ly, lz=series.lz,\n",
    "                  xy=series.xy, xz=series.xz, yz=series.yz)\n",
    "relaxed_df['box'] = relaxed_df.apply(make_box, axis=1)\n",
    "\n",
    "for temperature in temperatures:\n",
    "    print(temperature)\n",
    "    \n",
    "    # Get finished calculations for the previous temperature\n",
    "    previous_temperature = temperature - 50\n",
    "    previous_df = relaxed_df[relaxed_df.temperature == previous_temperature].reset_index(drop=True)\n",
    "    if len(previous_df) == 0:\n",
    "        print('No good parents found')\n",
    "        continue\n",
    "\n",
    "    # Check if relaxed box is still the correct crystal family, within rtol.\n",
    "    previous_df = check_crystal_family(previous_df, crystal_family, rtol=rtol)\n",
    "\n",
    "    # Get good relaxed_crystal parent keys\n",
    "    parent_keys = previous_df.parent_key.tolist()\n",
    "    if len(parent_keys) == 0:\n",
    "        print('No good parents found')\n",
    "        continue\n",
    "    print(len(parent_keys), 'good parents found')\n",
    "    \n",
    "    # Prepare calculations at the temperature for the good parents\n",
    "    database.master_prepare(\n",
    "        styles = 'relax_dynamic:at_temp',\n",
    "        np_per_runner = np_per_runner,\n",
    "        run_directory = run_directory_name,\n",
    "        num_pots = 900,\n",
    "        lammps_command = lammps_command,\n",
    "        temperature = str(temperature),\n",
    "        parent_key = parent_keys,\n",
    "        sizemults = sizemults)"
   ]
  }
 ],
 "metadata": {
  "kernelspec": {
   "display_name": "Python 3 (ipykernel)",
   "language": "python",
   "name": "python3"
  },
  "language_info": {
   "codemirror_mode": {
    "name": "ipython",
    "version": 3
   },
   "file_extension": ".py",
   "mimetype": "text/x-python",
   "name": "python",
   "nbconvert_exporter": "python",
   "pygments_lexer": "ipython3",
   "version": "3.7.13"
  }
 },
 "nbformat": 4,
 "nbformat_minor": 5
}
