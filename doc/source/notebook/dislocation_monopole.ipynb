{
 "cells": [
  {
   "cell_type": "markdown",
   "metadata": {},
   "source": [
    "# dislocation_monopole calculation style\n",
    "\n",
    "**Lucas M. Hale**, [lucas.hale@nist.gov](mailto:lucas.hale@nist.gov?Subject=ipr-demo), *Materials Science and Engineering Division, NIST*.\n",
    "\n",
    "Description updated: 2019-07-26\n",
    "\n",
    "## Introduction\n",
    "\n",
    "The dislocation_monopole calculation style calculation inserts a dislocation monopole into an atomic system using the anisotropic elasticity solution for a perfectly straight dislocation. The system is divided into two regions: a boundary region at the system's edges perpendicular to the dislocation line, and an active region around the dislocation. After inserting the dislocation, the atoms within the active region of the system are relaxed while the positions of the atoms in the boundary region are held fixed at the elasticity solution. The relaxed dislocation system and corresponding dislocation-free base systems are retained in the calculation's archived record. Various properties associated with the dislocation's elasticity solution are recorded in the calculation's results record.\n",
    "\n",
    "### Version notes\n",
    "\n",
    "### Additional dependencies\n",
    "\n",
    "### Disclaimers\n",
    "\n",
    "- [NIST disclaimers](http://www.nist.gov/public_affairs/disclaimer.cfm)\n",
    "- This calculation method holds the boundary atoms fixed during the relaxation process which results in a mismatch stress at the border between the active and fixed regions that interacts with the dislocation.  Increasing the distance between the dislocation and the boundary region, i.e. increasing the system size, will reduce the influence of the mismatch stresses.\n",
    "- The boundary atoms are fixed at the elasticity solution, which assumes the dislocation to be compact (not spread out, dissociated into partials) and to remain at the center of the system.  An alternate simulation design or boundary region method should be used if you want accurate simulations of dislocations with wide cores and/or in which the dislocation moves long distances.\n",
    "- The calculation allows for the system to be relaxed either using only static energy/force minimizations or with molecular dynamic steps followed by a minimization.  Only performing a static relaxation is considerably faster than performing a dynamic relaxation, but the dynamic relaxation is more likely to result in a better final dislocation structure.\n"
   ]
  },
  {
   "cell_type": "markdown",
   "metadata": {},
   "source": [
    "## Method and Theory\n",
    "\n",
    "### Stroh theory\n",
    "\n",
    "A detailed description of the Stroh method to solve the Eshelby solution for an anisotropic straight dislocation can be found in the atomman documentation.\n",
    "\n",
    "### Orientation\n",
    "\n",
    "One of the most important considerations in defining an atomistic system containing a dislocation monopole system is the system's orientation.  In particular, care is needed to properly align the system's Cartesian axes, $x, y, z$, the system's box vectors, $a, b, c$, and the Stroh solution's axes, $u, m, n$.\n",
    "\n",
    "- In order for the dislocation to remain perfectly straight in the atomic system, the dislocation line, $u$, must correspond to one of the system's box vectors.  The resulting dislocation monopole system will be periodic along the box direction corresponding to $u$, and non-periodic in the other two box directions.\n",
    "\n",
    "- The Stroh solution is invariant along the dislocation line direction, $u$, thereby the solution is 2 dimensional. $m$ and $n$ are the unit vectors for the 2D axis system used by the Stroh solution. As such, $u, m$ and $n$ are all normal to each other. The plane defined by the $um$ vectors is the dislocation's slip plane, i.e. $n$ is normal to the slip plane.\n",
    "\n",
    "- For LAMMPS simulations, the system's box vectors are limited such that $a$ is parallel to the $x$-axis, and $b$ is in the $xy$-plane (i.e. has no $z$ component). Based on this and the previous two points, the most convenient, and therefore the default, orientation for a generic dislocation is to\n",
    "\n",
    "  - Make $u$ and $a$ parallel, which also places $u$ parallel to the $x$-axis.\n",
    "\n",
    "  - Select $b$ such that it is within the slip plane. As $u$ and $a$ must also be in the slip plane, the plane itself is defined by $a \\times b$.\n",
    "  \n",
    "  - Given that neither $a$ nor $b$ have $z$ components, the normal to the slip plane will be perpendicular to $z$.  From this, it naturally follows that $m$ can be taken as parallel to the $y$-axis, and $n$ parallel to the $z$-axis.\n",
    "\n",
    "### Calculation methodology\n",
    "\n",
    "1. An initial system is generated based on the loaded system and *uvw*, *atomshift*, and *sizemults* input parameters.  This initial system is saved as base.dump.\n",
    "\n",
    "2. The atomman.defect.Stroh class is used to obtain the dislocation solution based on the defined $m$ and $n$ vectors, $C_{ij}$, and the dislocation's Burgers vector, $b_i$.\n",
    "\n",
    "3. The dislocation is inserted into the system by displacing all atoms according to the Stroh solution's displacements.  The dislocation line is placed parallel to the specified *dislocation_lineboxvector* and includes the Cartesian point (0, 0, 0).\n",
    "\n",
    "4. The box dimension parallel to the dislocation line is kept periodic, and the other two box directions are made non-periodic. A boundary region is defined that is at least *bwidth* thick at the edges of the two non-periodic directions, such that the shape of the active region corresponds to the *bshape* parameter. Atoms in the boundary region are identified by altering their integer atomic types.\n",
    "\n",
    "5. The dislocation is relaxed by performing a LAMMPS simulation.  The atoms in the active region are allowed to relax either with nvt integration followed by an energy/force minimization, or with just an energy/force minimization.  The atoms in the boundary region are held fixed at the elastic solution.  The resulting relaxed system is saved as disl.dump.\n",
    "\n",
    "6. Parameters associated with the Stroh solution are saved to the results record."
   ]
  },
  {
   "cell_type": "markdown",
   "metadata": {},
   "source": [
    "## Demonstration"
   ]
  },
  {
   "cell_type": "markdown",
   "metadata": {},
   "source": [
    "### 1. Setup"
   ]
  },
  {
   "cell_type": "markdown",
   "metadata": {},
   "source": [
    "#### 1.1. Library imports"
   ]
  },
  {
   "cell_type": "markdown",
   "metadata": {},
   "source": [
    "Import libraries needed by the calculation. The external libraries used are:\n",
    "\n",
    "- [numpy](http://www.numpy.org/)\n",
    "\n",
    "- [DataModelDict](https://github.com/usnistgov/DataModelDict)\n",
    "\n",
    "- [atomman](https://github.com/usnistgov/atomman)\n",
    "\n",
    "- [iprPy](https://github.com/usnistgov/iprPy)"
   ]
  },
  {
   "cell_type": "code",
   "execution_count": 1,
   "metadata": {},
   "outputs": [
    {
     "name": "stdout",
     "output_type": "stream",
     "text": [
      "Notebook last executed on 2019-07-29 using iprPy version 0.9.0\n"
     ]
    }
   ],
   "source": [
    "# Standard library imports\n",
    "from pathlib import Path\n",
    "import os\n",
    "import sys\n",
    "import uuid\n",
    "import shutil\n",
    "import random\n",
    "import datetime\n",
    "from copy import deepcopy\n",
    "\n",
    "# http://www.numpy.org/\n",
    "import numpy as np \n",
    "\n",
    "# https://matplotlib.org/\n",
    "import matplotlib.pyplot as plt\n",
    "%matplotlib inline\n",
    "\n",
    "# https://github.com/usnistgov/DataModelDict \n",
    "from DataModelDict import DataModelDict as DM\n",
    "\n",
    "# https://github.com/usnistgov/atomman \n",
    "import atomman as am\n",
    "import atomman.lammps as lmp\n",
    "import atomman.unitconvert as uc\n",
    "\n",
    "# https://github.com/usnistgov/iprPy\n",
    "import iprPy\n",
    "\n",
    "print('Notebook last executed on', datetime.date.today(), 'using iprPy version', iprPy.__version__)"
   ]
  },
  {
   "cell_type": "markdown",
   "metadata": {},
   "source": [
    "#### 1.2. Default calculation setup"
   ]
  },
  {
   "cell_type": "code",
   "execution_count": 2,
   "metadata": {},
   "outputs": [],
   "source": [
    "# Specify calculation style\n",
    "calc_style = 'dislocation_monopole'\n",
    "\n",
    "# If workingdir is already set, then do nothing (already in correct folder)\n",
    "try:\n",
    "    workingdir = workingdir\n",
    "\n",
    "# Change to workingdir if not already there\n",
    "except:\n",
    "    workingdir = Path('calculationfiles', calc_style)\n",
    "    if not workingdir.is_dir():\n",
    "        workingdir.mkdir(parents=True)\n",
    "    os.chdir(workingdir)"
   ]
  },
  {
   "cell_type": "markdown",
   "metadata": {},
   "source": [
    "### 2. Assign values for the calculation's run parameters"
   ]
  },
  {
   "cell_type": "markdown",
   "metadata": {},
   "source": [
    "#### 2.1. Specify system-specific paths\n",
    "\n",
    "- __lammps_command__ (required) is the LAMMPS command to use.\n",
    "\n",
    "- __mpi_command__ MPI command for running LAMMPS in parallel. A value of None will run simulations serially."
   ]
  },
  {
   "cell_type": "code",
   "execution_count": 3,
   "metadata": {},
   "outputs": [],
   "source": [
    "lammps_command = 'lmp_serial'\n",
    "mpi_command = None"
   ]
  },
  {
   "cell_type": "markdown",
   "metadata": {},
   "source": [
    "#### 2.2. Load interatomic potential\n",
    "\n",
    "- __potential_name__ gives the name of the potential_LAMMPS reference record in the iprPy library to use for the calculation.  \n",
    "\n",
    "- __potential_file__ gives the path to the potential_LAMMPS reference record to use.  Here, this parameter is automatically generated using potential_name and librarydir.\n",
    "\n",
    "- __potential_dir__ gives the path for the folder containing the artifacts associated with the potential (i.e. eam.alloy file).  Here, this parameter is automatically generated using potential_name and librarydir.\n",
    "\n",
    "- __potential__ is an atomman.lammps.Potential object (required).  Here, this parameter is automatically generated from potential_file and potential_dir."
   ]
  },
  {
   "cell_type": "code",
   "execution_count": 4,
   "metadata": {},
   "outputs": [
    {
     "name": "stdout",
     "output_type": "stream",
     "text": [
      "Successfully loaded potential 1999--Mishin-Y--Ni--LAMMPS--ipr1\n"
     ]
    }
   ],
   "source": [
    "potential_name = '1999--Mishin-Y--Ni--LAMMPS--ipr1'\n",
    "\n",
    "# Define potential_file and potential_dir using librarydir and potential_name\n",
    "potential_file = Path(iprPy.libdir, 'potential_LAMMPS', f'{potential_name}.json')\n",
    "potential_dir = Path(iprPy.libdir, 'potential_LAMMPS', potential_name)\n",
    "\n",
    "# Initialize Potential object using potential_file and potential_dir.\n",
    "potential = lmp.Potential(potential_file, potential_dir)\n",
    "print('Successfully loaded potential', potential)"
   ]
  },
  {
   "cell_type": "markdown",
   "metadata": {},
   "source": [
    "#### 2.3. Load initial unit cell system\n",
    "\n",
    "- __prototype_name__ gives the name of the crystal_prototype reference record in the iprPy library to load. \n",
    "\n",
    "- __symbols__ is a list of the potential's elemental model symbols to associate with the unique atom types of the loaded system. \n",
    "\n",
    "- __box_parameters__ is a list of the a, b, c lattice constants to assign to the loaded file.\n",
    "\n",
    "- __load_file__ gives the path to the atomic configuration file to load for the ucell system.  Here, this is generated automatically using prototype_name and librarydir.\n",
    "\n",
    "- __load_style__ specifies the format of load_file.  Here, this is automatically set for crystal_prototype records.\n",
    "\n",
    "- __load_options__ specifies any other keyword options for properly loading the load_file.  Here, this is automatically set for crystal_prototype records.\n",
    "\n",
    "- __ucell__ is an atomman.System representing a fundamental unit cell of the system (required).  Here, this is generated using the load parameters and symbols."
   ]
  },
  {
   "cell_type": "code",
   "execution_count": 5,
   "metadata": {},
   "outputs": [
    {
     "name": "stdout",
     "output_type": "stream",
     "text": [
      "avect =  [ 3.520,  0.000,  0.000]\n",
      "bvect =  [ 0.000,  3.520,  0.000]\n",
      "cvect =  [ 0.000,  0.000,  3.520]\n",
      "origin = [ 0.000,  0.000,  0.000]\n",
      "natoms = 4\n",
      "natypes = 1\n",
      "symbols = ('Ni',)\n",
      "pbc = [ True  True  True]\n",
      "per-atom properties = ['atype', 'pos']\n",
      "     id |   atype |  pos[0] |  pos[1] |  pos[2]\n",
      "      0 |       1 |   0.000 |   0.000 |   0.000\n",
      "      1 |       1 |   0.000 |   1.760 |   1.760\n",
      "      2 |       1 |   1.760 |   0.000 |   1.760\n",
      "      3 |       1 |   1.760 |   1.760 |   0.000\n"
     ]
    }
   ],
   "source": [
    "prototype_name = 'A1--Cu--fcc'\n",
    "symbols = ['Ni']\n",
    "box_parameters = uc.set_in_units([3.52, 3.52, 3.52], 'angstrom')\n",
    "\n",
    "# Define load_file using librarydir and prototype_name\n",
    "load_file = Path(iprPy.libdir, 'crystal_prototype', f'{prototype_name}.json')\n",
    "\n",
    "# Define load_style and load_options for crystal_prototype records\n",
    "load_style = 'system_model'\n",
    "load_options = {}\n",
    "\n",
    "# Create ucell by loading prototype record\n",
    "ucell = am.load(load_style, load_file, symbols=symbols, **load_options)\n",
    "\n",
    "# Rescale ucell using box_parameters\n",
    "ucell.box_set(a=box_parameters[0], b=box_parameters[1], c=box_parameters[2], scale=True)\n",
    "\n",
    "print(ucell)"
   ]
  },
  {
   "cell_type": "markdown",
   "metadata": {},
   "source": [
    "#### 2.4 Specify material elastic constants\n",
    "\n",
    "Simple input parameters:\n",
    "\n",
    "- __C_dict__ is a dictionary containing the unique elastic constants for the potential and crystal structure defined above. \n",
    "\n",
    "Derived parameters\n",
    "\n",
    "- __C__ is an atomman.ElasticConstants object built from C_dict."
   ]
  },
  {
   "cell_type": "code",
   "execution_count": 6,
   "metadata": {},
   "outputs": [],
   "source": [
    "C_dict = {}\n",
    "C_dict['C11'] = uc.set_in_units(247.86, 'GPa')\n",
    "C_dict['C12'] = uc.set_in_units(147.83, 'GPa')\n",
    "C_dict['C44'] = uc.set_in_units(124.84, 'GPa')\n",
    "\n",
    "# -------------- Derived parameters -------------- #\n",
    "# Build ElasticConstants object from C_dict terms\n",
    "C = am.ElasticConstants(**C_dict)"
   ]
  },
  {
   "cell_type": "markdown",
   "metadata": {},
   "source": [
    "#### 2.5 Specify the defect parameters\n",
    "\n",
    "- __dislocation_name__ gives the name of the dislocation_monopole reference record in the iprPy library to use for potential. \n",
    "\n",
    "- __dislocation_file__ gives the path to a dislocation_monopole reference containing defect input parameters. Here, this is built automatically using dislocation_name and librarydir.\n",
    "\n",
    "- __dislocation_kwargs__ is a dictionary containing parameters for generating the defect. Values are extracted from the dislocation_model record and uniquely define a type of stacking fault. Included keywords are:\n",
    "\n",
    "    - __burgers__ is the crystallographic Burgers vector for the dislocation\n",
    "    \n",
    "    - __a_uvw, b_uvw, c_uvw__ specifies how to orient the system by defining the crystal vectors of ucell to place along the three system box vectors.\n",
    "    \n",
    "    - __atomshift__ is a 3D vector rigid-body shift to apply to atoms in the system. The atomshift vector is relative to the rotated unit cell's box vectors.\n",
    "    \n",
    "    - __stroh_m__ a Cartesian unit vector used by the Stroh method to define the created dislocation's orientation and type. This vector is in the dislocation's slip plane and perpendicular to the dislocation's line direction. Default value is \\[0, 1, 0\\], i.e. along the y-axis. \n",
    "    \n",
    "    - __stroh_n__ a Cartesian unit vector used by the Stroh method to define the created dislocation's orientation and type. This vector is normal to the dislocation's slip plane. Default value is \\[0, 0, 1\\], i.e. along the z-axis.\n",
    "    \n",
    "    - __lineboxvector__ the system box vector, 'a', 'b', or 'c', along which the dislocation line is placed parallel to. Default value is 'a'."
   ]
  },
  {
   "cell_type": "code",
   "execution_count": 7,
   "metadata": {},
   "outputs": [],
   "source": [
    "#dislocation_name = 'A1--Cu--fcc--a-2-110--0-screw--{111}'\n",
    "#dislocation_name = 'A1--Cu--fcc--a-2-110--90-edge--{100}'\n",
    "dislocation_name = 'A1--Cu--fcc--a-2-110--90-edge--{111}'\n",
    "\n",
    "# Define dislocation_fi;e using librarydir and dislocation_name\n",
    "dislocation_file = Path(iprPy.libdir, 'dislocation', f'{dislocation_name}.json')\n",
    "\n",
    "# Create dictionary of input parameters related to the defect\n",
    "inputs = {'ucell':ucell, 'dislocation_file':dislocation_file}"
   ]
  },
  {
   "cell_type": "markdown",
   "metadata": {},
   "source": [
    "#### 2.6 Specify calculation-specific run parameters\n",
    "\n",
    "Simple input parameters:\n",
    "\n",
    "- __boundarywidth__ sets the minimum width of the fixed-atom boundary region. This is taken in units of the a lattice parameter of the unit cell.\n",
    "\n",
    "- __boundaryshape__ specifies what shape to make the fixed-atom boundary region.\n",
    "\n",
    "    - __circle__ will create a cylindrical active region.\n",
    "    \n",
    "    - __rect__ will create a rectangular active region.\n",
    "\n",
    "- __annealtemperature__ is the temperature at which to relax (anneal) the dislocation system. If annealtemperature is 0.0, then only a static relaxation will be performed. Default value is 0.0.\n",
    "\n",
    "- __randomseed__ allows for the random seed used in generating initial atomic velocities for a dynamic relaxation to be specified. This is an integer between 1 and 900000000. Default value is None, which will randomly pick a number in that range.\n",
    "\n",
    "- __energytolerance__ is the energy tolerance to use during the minimizations. This is unitless.\n",
    "\n",
    "- __forcetolerance__ is the force tolerance to use during the minimizations. This is in energy/length units.\n",
    "\n",
    "- __maxiterations__ is the maximum number of minimization iterations to use.\n",
    "\n",
    "- __maxevaluations__ is the maximum number of minimization evaluations to use.\n",
    "\n",
    "- __maxatommotion__ is the largest distance that an atom is allowed to move during a minimization iteration. This is in length units. "
   ]
  },
  {
   "cell_type": "code",
   "execution_count": 8,
   "metadata": {},
   "outputs": [],
   "source": [
    "boundarywidth = 3 * ucell.box.a\n",
    "boundaryshape = 'circle'\n",
    "\n",
    "annealtemperature = 50.0\n",
    "randomseed = None\n",
    "\n",
    "energytolerance = 0.0\n",
    "forcetolerance = uc.set_in_units(1e-6, 'eV/angstrom')\n",
    "maxiterations = 10000\n",
    "maxevaluations = 100000\n",
    "maxatommotion = uc.set_in_units(0.01, 'angstrom')"
   ]
  },
  {
   "cell_type": "markdown",
   "metadata": {},
   "source": [
    "#### 2.7 Process defect input parameters \n",
    "\n",
    "Here, the defect parameters are read in and processed."
   ]
  },
  {
   "cell_type": "code",
   "execution_count": 9,
   "metadata": {},
   "outputs": [
    {
     "data": {
      "text/plain": [
       "{'ucell': <atomman.core.System.System at 0x1bd7588cf98>,\n",
       " 'dislocation_file': WindowsPath('c:/users/lmh1/documents/python-packages/iprpy/library/dislocation/A1--Cu--fcc--a-2-110--90-edge--{111}.json'),\n",
       " 'dislocation_family': 'A1--Cu--fcc',\n",
       " 'dislocation_stroh_m': '0 1 0',\n",
       " 'dislocation_stroh_n': '0 0 1',\n",
       " 'dislocation_lineboxvector': 'a',\n",
       " 'a_uvw': '-1 -1  2',\n",
       " 'b_uvw': ' 1 -1  0',\n",
       " 'c_uvw': ' 1  1  1',\n",
       " 'atomshift': ' 0.00 0.00 0.5',\n",
       " 'dislocation_burgersvector': ' 0.5 -0.5  0.0',\n",
       " 'dislocation_model': DataModelDict([('key',\n",
       "                 'd59f2382-17e5-4fbd-b398-407c75e6009a'),\n",
       "                ('id', 'A1--Cu--fcc--a-2-110--90-edge--{111}'),\n",
       "                ('character', 'edge'),\n",
       "                ('Burgers-vector', 'a/2[ 1,-1, 0]'),\n",
       "                ('slip-plane', [1, 1, 1]),\n",
       "                ('line-direction', [-1, -1, 2]),\n",
       "                ('system-family', 'A1--Cu--fcc'),\n",
       "                ('calculation-parameter',\n",
       "                 DataModelDict([('stroh_m', '0 1 0'),\n",
       "                                ('stroh_n', '0 0 1'),\n",
       "                                ('lineboxvector', 'a'),\n",
       "                                ('a_uvw', '-1 -1  2'),\n",
       "                                ('b_uvw', ' 1 -1  0'),\n",
       "                                ('c_uvw', ' 1  1  1'),\n",
       "                                ('atomshift', ' 0.00 0.00 0.5'),\n",
       "                                ('burgersvector', ' 0.5 -0.5  0.0')]))]),\n",
       " 'burgersvector': array([ 1.76, -1.76,  0.  ]),\n",
       " 'stroh_m': array([0., 1., 0.]),\n",
       " 'stroh_n': array([0., 0., 1.])}"
      ]
     },
     "execution_count": 9,
     "metadata": {},
     "output_type": "execute_result"
    }
   ],
   "source": [
    "iprPy.input.subset('dislocation').interpret(inputs)\n",
    "\n",
    "# Show inputs\n",
    "inputs"
   ]
  },
  {
   "cell_type": "markdown",
   "metadata": {},
   "source": [
    "#### 2.8. Modify system\n",
    "\n",
    "- __sizemults__ list of three sets of two integers specifying how many times the ucell vectors of $a$, $b$ and $c$ are replicated in positive and negative directions when creating system.\n",
    "\n",
    "- __a_uvw, b_uvw, c_uvw__ specifies how to orient the system by defining the crystal vectors of ucell to place along the three system box vectors.\n",
    "    \n",
    "- __atomshift__ is a 3D vector rigid-body shift to apply to atoms in the system. The atomshift vector is relative to the rotated unit cell's box vectors.\n",
    "\n",
    "- __system__ is an atomman.System to insert the dislocation into. \n",
    "\n",
    "- __axes__ specifies the transformation matrix used to rotate the ucell to the system's orientation."
   ]
  },
  {
   "cell_type": "code",
   "execution_count": 10,
   "metadata": {},
   "outputs": [
    {
     "name": "stdout",
     "output_type": "stream",
     "text": [
      "# of atoms in system = 153600\n"
     ]
    }
   ],
   "source": [
    "sizemults = '0 1 -40 40 -40 40'\n",
    "\n",
    "inputs['sizemults'] = sizemults\n",
    "iprPy.input.subset('atomman_systemmanipulate').interpret(inputs)\n",
    "\n",
    "system = inputs['initialsystem']\n",
    "print('# of atoms in system =', system.natoms)\n",
    "\n",
    "axes = inputs['transformationmatrix']"
   ]
  },
  {
   "cell_type": "markdown",
   "metadata": {},
   "source": [
    "### 3. Define calculation function(s) and generate template LAMMPS script(s)"
   ]
  },
  {
   "cell_type": "markdown",
   "metadata": {},
   "source": [
    "#### 3.1. disl_relax.template"
   ]
  },
  {
   "cell_type": "code",
   "execution_count": 11,
   "metadata": {},
   "outputs": [],
   "source": [
    "with open('disl_relax.template', 'w') as f:\n",
    "    f.write(\"\"\"#LAMMPS input script for relaxing a dislocation monopole\n",
    "\n",
    "<atomman_system_info>\n",
    "\n",
    "<atomman_pair_info>\n",
    "\n",
    "group move type <group_move>\n",
    "group hold subtract all move\n",
    "\n",
    "compute peatom all pe/atom\n",
    "\n",
    "dump first all custom <maxeval> *.dump id type x y z c_peatom\n",
    "dump_modify first format <dump_modify_format>\n",
    "thermo_style custom step pe\n",
    "\n",
    "fix nomove hold setforce 0.0 0.0 0.0\n",
    "\n",
    "<anneal_info>\n",
    "\n",
    "min_modify dmax <dmax>\n",
    "\n",
    "minimize <etol> <ftol> <maxiter> <maxeval>\"\"\")"
   ]
  },
  {
   "cell_type": "markdown",
   "metadata": {},
   "source": [
    "#### 3.2. dislocationmonopole()"
   ]
  },
  {
   "cell_type": "code",
   "execution_count": 12,
   "metadata": {},
   "outputs": [],
   "source": [
    "def dislocationmonopole(lammps_command, system, potential, burgers,\n",
    "                        C, mpi_command=None, axes=None, m=[0,1,0], n=[0,0,1],\n",
    "                        lineboxvector='a', randomseed=None,\n",
    "                        etol=0.0, ftol=0.0, maxiter=10000, maxeval=100000,\n",
    "                        dmax=uc.set_in_units(0.01, 'angstrom'),\n",
    "                        annealtemp=0.0, annealsteps=None, bshape='circle',\n",
    "                        bwidth=uc.set_in_units(10, 'angstrom')):\n",
    "    \"\"\"\n",
    "    Creates and relaxes a dislocation monopole system.\n",
    "    \n",
    "    Parameters\n",
    "    ----------\n",
    "    lammps_command :str\n",
    "        Command for running LAMMPS.\n",
    "    system : atomman.System\n",
    "        The bulk system to add the defect to.\n",
    "    potential : atomman.lammps.Potential\n",
    "        The LAMMPS implemented potential to use.\n",
    "    burgers : list or numpy.array of float\n",
    "        The burgers vector for the dislocation being added.\n",
    "    C : atomman.ElasticConstants\n",
    "        The system's elastic constants.\n",
    "    mpi_command : str or None, optional\n",
    "        The MPI command for running LAMMPS in parallel.  If not given, LAMMPS\n",
    "        will run serially.\n",
    "    axes : numpy.array of float or None, optional\n",
    "        The 3x3 axes used to rotate the system by during creation.  If given,\n",
    "        will be used to transform burgers and C from the standard\n",
    "        crystallographic orientations to the system's Cartesian units.\n",
    "    randomseed : int or None, optional\n",
    "        Random number seed used by LAMMPS in creating velocities and with\n",
    "        the Langevin thermostat.  Default is None which will select a\n",
    "        random int between 1 and 900000000.\n",
    "    etol : float, optional\n",
    "        The energy tolerance for the structure minimization. This value is\n",
    "        unitless. Default is 0.0.\n",
    "    ftol : float, optional\n",
    "        The force tolerance for the structure minimization. This value is in\n",
    "        units of force. Default is 0.0.\n",
    "    maxiter : int, optional\n",
    "        The maximum number of minimization iterations to use. Default is \n",
    "        10000.\n",
    "    maxeval : int, optional\n",
    "        The maximum number of minimization evaluations to use. Default is \n",
    "        100000.\n",
    "    dmax : float, optional\n",
    "        The maximum distance in length units that any atom is allowed to relax\n",
    "        in any direction during a single minimization iteration. Default is\n",
    "        0.01 Angstroms.\n",
    "    annealtemp : float, optional\n",
    "        The temperature to perform a dynamic relaxation at. Default is 0.0,\n",
    "        which will skip the dynamic relaxation.\n",
    "    annealsteps : int, optional\n",
    "        The number of time steps to run the dynamic relaxation for.  Default\n",
    "        is None, which will run for 10000 steps if annealtemp is not 0.0.  \n",
    "    bshape : str, optional\n",
    "        The shape to make the boundary region.  Options are 'circle' and\n",
    "        'rect'. Default is 'circle'.\n",
    "    bwidth : float, optional\n",
    "        The minimum thickness of the boundary region. Default is 10\n",
    "        Angstroms.\n",
    "    \n",
    "    Returns\n",
    "    -------\n",
    "    dict\n",
    "        Dictionary of results consisting of keys:\n",
    "        \n",
    "        - **'dumpfile_base'** (*str*) - The filename of the LAMMPS dump file\n",
    "          for the relaxed base system.\n",
    "        - **'symbols_base'** (*list of str*) - The list of element-model\n",
    "          symbols for the Potential that correspond to the base system's\n",
    "          atypes.\n",
    "        - **'Stroh_preln'** (*float*) - The pre-logarithmic factor in the \n",
    "          dislocation's self-energy expression.\n",
    "        - **'Stroh_K_tensor'** (*numpy.array of float*) - The energy\n",
    "          coefficient tensor based on the dislocation's Stroh solution.\n",
    "        - **'dumpfile_disl'** (*str*) - The filename of the LAMMPS dump file\n",
    "          for the relaxed dislocation monopole system.\n",
    "        - **'symbols_disl'** (*list of str*) - The list of element-model\n",
    "          symbols for the Potential that correspond to the dislocation\n",
    "          monopole system's atypes.\n",
    "        - **'E_total_disl'** (*float*) - The total potential energy of the\n",
    "          dislocation monopole system.\n",
    "    \"\"\"\n",
    "    # Initialize results dict\n",
    "    results_dict = {}\n",
    "    \n",
    "    # Save initial perfect system\n",
    "    system.dump('atom_dump', f='base.dump')\n",
    "    results_dict['dumpfile_base'] = 'base.dump'\n",
    "    results_dict['symbols_base'] = system.symbols\n",
    "    \n",
    "    # Solve Stroh method for dislocation\n",
    "    stroh = am.defect.Stroh(C, burgers, axes=axes, m=m, n=n)\n",
    "    results_dict['Stroh_preln'] = stroh.preln\n",
    "    results_dict['Stroh_K_tensor'] = stroh.K_tensor\n",
    "    \n",
    "    # Generate dislocation system by displacing atoms\n",
    "    disp = stroh.displacement(system.atoms.pos)\n",
    "    system.atoms.pos += disp\n",
    "    \n",
    "    # Apply fixed boundary conditions\n",
    "    system = disl_boundary_fix(system, bwidth, bshape=bshape, lineboxvector=lineboxvector, m=m, n=n)\n",
    "    \n",
    "    # Relax system\n",
    "    relaxed = disl_relax(lammps_command, system, potential,\n",
    "                         mpi_command = mpi_command, \n",
    "                         annealtemp = annealtemp,\n",
    "                         annealsteps = annealsteps,\n",
    "                         etol = etol, \n",
    "                         ftol = ftol, \n",
    "                         maxiter = maxiter, \n",
    "                         maxeval = maxeval)\n",
    "    \n",
    "    # Save relaxed dislocation system with original box vects\n",
    "    system_disl = am.load('atom_dump', relaxed['dumpfile'], symbols=system.symbols)\n",
    "    \n",
    "    system_disl.box_set(vects=system.box.vects, origin=system.box.origin)\n",
    "    system_disl.dump('atom_dump', f='disl.dump')\n",
    "    results_dict['dumpfile_disl'] = 'disl.dump'\n",
    "    results_dict['symbols_disl'] = system_disl.symbols\n",
    "    \n",
    "    results_dict['E_total_disl'] = relaxed['E_total']\n",
    "    \n",
    "    # Cleanup files\n",
    "    Path('0.dump').unlink()\n",
    "    Path(relaxed['dumpfile']).unlink()\n",
    "    for dumpjsonfile in Path('.').glob('*.dump.json'):\n",
    "        dumpjsonfile.unlink()\n",
    "    \n",
    "    return results_dict\n",
    "\n"
   ]
  },
  {
   "cell_type": "markdown",
   "metadata": {},
   "source": [
    "#### 3.3. disl_boundary_fix()"
   ]
  },
  {
   "cell_type": "code",
   "execution_count": 13,
   "metadata": {},
   "outputs": [],
   "source": [
    "def disl_boundary_fix(system, bwidth, bshape='circle', lineboxvector='a', m=None, n=None):\n",
    "    \"\"\"\n",
    "    Creates a boundary region by changing atom types.\n",
    "    \n",
    "    Parameters\n",
    "    ----------\n",
    "    system : atomman.System\n",
    "        The system to add the boundary region to.\n",
    "    bwidth : float\n",
    "        The minimum thickness of the boundary region.\n",
    "    bshape : str, optional\n",
    "        The shape to make the boundary region.  Options are 'circle' and\n",
    "        'box' (default is 'circle').\n",
    "    lineboxvector : str, optional\n",
    "        Specifies which of the three box vectors (a, b, or c) the dislocation line is to be\n",
    "        parallel to.  Default value is 'a'.\n",
    "    m : array-like object, optional\n",
    "        Cartesian vector used by the Stroh solution, which is perpendicular to both\n",
    "        lineboxvector and n.  Default value is [0, 1, 0], which assumes the default value\n",
    "        for the lineboxvector.\n",
    "    n : array-like object, optional\n",
    "        Cartesian vector used by the Stroh solution, which is perpendicular to both\n",
    "        lineboxvector and m.  Default value is [0, 0, 1], which assumes the default value\n",
    "        for the lineboxvector.\n",
    "        \n",
    "    \"\"\"\n",
    "    # Set default values\n",
    "    if m is None:\n",
    "        m = np.array([0, 1, 0])\n",
    "    m = np.asarray(m)\n",
    "    if n is None:\n",
    "        n = np.array([0, 0, 1])\n",
    "    n = np.asarray(n)\n",
    "    \n",
    "    # Extract values from system\n",
    "    natypes = system.natypes\n",
    "    atype = system.atoms_prop(key='atype')\n",
    "    pos = system.atoms.pos\n",
    "    \n",
    "    # Set line_box_velineboxvectorctor dependent values\n",
    "    if lineboxvector == 'a':\n",
    "        u = system.box.avect / system.box.a\n",
    "        boxvect1 = system.box.bvect\n",
    "        boxvect2 = system.box.cvect\n",
    "        pbc = (True, False, False)\n",
    "\n",
    "    elif lineboxvector == 'b':\n",
    "        u = system.box.bvect / system.box.b\n",
    "        boxvect1 = system.box.cvect\n",
    "        boxvect2 = system.box.avect\n",
    "        pbc = (False, True, False)\n",
    "\n",
    "    elif lineboxvector == 'c':\n",
    "        u = system.box.cvect / system.box.c\n",
    "        boxvect1 = system.box.avect\n",
    "        pbc = (False, False, True)\n",
    "\n",
    "    # Assert u, m, n are all orthogonal\n",
    "    assert np.isclose(np.dot(u, m), 0.0)\n",
    "    assert np.isclose(np.dot(u, n), 0.0)\n",
    "    assert np.isclose(np.dot(m, n), 0.0)\n",
    "    \n",
    "    # Get components within mn plane\n",
    "    mn = np.array([m, n])\n",
    "    mnvect1 = mn.dot(boxvect1)\n",
    "    mnvect2 = mn.dot(boxvect2)\n",
    "    mnorigin = mn.dot(system.box.origin)\n",
    "    mnpos = mn.dot(pos.T).T\n",
    "    \n",
    "    # Compute normal vectors to box vectors\n",
    "    normal_mnvect1 = np.array([-mnvect1[1], mnvect1[0]])\n",
    "    normal_mnvect2 = np.array([mnvect2[1], -mnvect2[0]])\n",
    "    normal_mnvect1 = normal_mnvect1 / np.linalg.norm(normal_mnvect1)\n",
    "    normal_mnvect2 = normal_mnvect2 / np.linalg.norm(normal_mnvect2)\n",
    "    \n",
    "    # Find two opposite boundary corners \n",
    "    botcorner = mnorigin\n",
    "    topcorner = mnorigin + mnvect1 + mnvect2\n",
    "    \n",
    "    if bshape == 'box':\n",
    "        # Project all positions normal to the two mnvectors\n",
    "        pos_normal_1 = np.dot(mnpos, normal_mnvect1)\n",
    "        pos_normal_2 = np.dot(mnpos, normal_mnvect2)\n",
    "\n",
    "        # Adjust atypes of boundary atoms\n",
    "        atype[(pos_normal_1 < np.dot(botcorner, normal_mnvect1) + bwidth)\n",
    "             |(pos_normal_2 < np.dot(botcorner, normal_mnvect2) + bwidth)\n",
    "             |(pos_normal_1 > np.dot(topcorner, normal_mnvect1) - bwidth)\n",
    "             |(pos_normal_2 > np.dot(topcorner, normal_mnvect2) - bwidth)] += natypes\n",
    "    \n",
    "    elif bshape == 'circle':\n",
    "        def line(p1, p2):\n",
    "            A = (p1[1] - p2[1])\n",
    "            B = (p2[0] - p1[0])\n",
    "            C = (p1[0]*p2[1] - p2[0]*p1[1])\n",
    "            return A, B, -C\n",
    "\n",
    "        def intersection(L1, L2):\n",
    "            D  = L1[0] * L2[1] - L1[1] * L2[0]\n",
    "            Dx = L1[2] * L2[1] - L1[1] * L2[2]\n",
    "            Dy = L1[0] * L2[2] - L1[2] * L2[0]\n",
    "            if D != 0:\n",
    "                x = Dx / D\n",
    "                y = Dy / D\n",
    "                return x,y\n",
    "            else:\n",
    "                return False\n",
    "\n",
    "        # Find two opposite boundary corners \n",
    "        botcorner = mnorigin\n",
    "        topcorner = mnorigin + mnvect1 + mnvect2\n",
    "\n",
    "        # Define normal lines\n",
    "        normal_line_1 = line([0,0], normal_mnvect1)\n",
    "        normal_line_2 = line([0,0], normal_mnvect2)\n",
    "\n",
    "        # Define boundary lines\n",
    "        bound_bot1 = line(botcorner, botcorner+mnvect1)\n",
    "        bound_bot2 = line(botcorner, botcorner+mnvect2)\n",
    "        bound_top1 = line(topcorner, topcorner+mnvect1)\n",
    "        bound_top2 = line(topcorner, topcorner+mnvect2)\n",
    "\n",
    "        # Identify intersection points\n",
    "        intersections = np.array([intersection(normal_line_1, bound_bot1),\n",
    "                                  intersection(normal_line_2, bound_bot2),\n",
    "                                  intersection(normal_line_1, bound_top1),\n",
    "                                  intersection(normal_line_2, bound_top2)])\n",
    "\n",
    "        # Compute cylinder radius\n",
    "        radius = np.min(np.linalg.norm(intersections, axis=1)) - bwidth\n",
    "\n",
    "        # Adjust atypes of boundary atoms\n",
    "        atype[np.linalg.norm(mnpos, axis=1) > radius] += natypes\n",
    "    \n",
    "    else:\n",
    "        raise ValueError(\"Unknown boundary shape type! Enter 'circle' or 'box'\")\n",
    "    \n",
    "    newsystem = deepcopy(system)\n",
    "    newsystem.atoms.atype = atype\n",
    "    newsystem.symbols = list(system.symbols) * 2\n",
    "    newsystem.pbc = pbc\n",
    "    newsystem.wrap()\n",
    "\n",
    "    return newsystem\n",
    "\n"
   ]
  },
  {
   "cell_type": "markdown",
   "metadata": {},
   "source": [
    "#### 3.4. disl_relax()"
   ]
  },
  {
   "cell_type": "code",
   "execution_count": 14,
   "metadata": {},
   "outputs": [],
   "source": [
    "def disl_relax(lammps_command, system, potential,\n",
    "               mpi_command=None, \n",
    "               annealtemp=0.0, annealsteps=None, randomseed=None,\n",
    "               etol=0.0, ftol=1e-6, maxiter=10000, maxeval=100000,\n",
    "               dmax=uc.set_in_units(0.01, 'angstrom')):\n",
    "    \"\"\"\n",
    "    Sets up and runs the disl_relax.in LAMMPS script for relaxing a\n",
    "    dislocation monopole system.\n",
    "    \n",
    "    Parameters\n",
    "    ----------\n",
    "    lammps_command :str\n",
    "        Command for running LAMMPS.\n",
    "    system : atomman.System\n",
    "        The system to perform the calculation on.\n",
    "    potential : atomman.lammps.Potential\n",
    "        The LAMMPS implemented potential to use.\n",
    "    mpi_command : str, optional\n",
    "        The MPI command for running LAMMPS in parallel.  If not given, LAMMPS\n",
    "        will run serially.\n",
    "    annealtemp : float, optional\n",
    "        The temperature to perform a dynamic relaxation at. Default is 0.0,\n",
    "        which will skip the dynamic relaxation.\n",
    "    annealsteps : int, optional\n",
    "        The number of time steps to run the dynamic relaxation for.  Default\n",
    "        is None, which will run for 10000 steps if annealtemp is not 0.0.        \n",
    "    randomseed : int or None, optional\n",
    "        Random number seed used by LAMMPS in creating velocities and with\n",
    "        the Langevin thermostat.  Default is None which will select a\n",
    "        random int between 1 and 900000000.\n",
    "    etol : float, optional\n",
    "        The energy tolerance for the structure minimization. This value is\n",
    "        unitless. Default is 0.0.\n",
    "    ftol : float, optional\n",
    "        The force tolerance for the structure minimization. This value is in\n",
    "        units of force. Default is 0.0.\n",
    "    maxiter : int, optional\n",
    "        The maximum number of minimization iterations to use default is \n",
    "        10000.\n",
    "    maxeval : int, optional\n",
    "        The maximum number of minimization evaluations to use default is \n",
    "        100000.\n",
    "    dmax : float, optional\n",
    "        The maximum distance in length units that any atom is allowed to relax\n",
    "        in any direction during a single minimization iteration default is\n",
    "        0.01 Angstroms.\n",
    "        \n",
    "    Returns\n",
    "    -------\n",
    "    dict\n",
    "        Dictionary of results consisting of keys:\n",
    "        \n",
    "        - **'logfile'** (*str*) - The name of the LAMMPS log file.\n",
    "        - **'dumpfile'** (*str*) - The name of the LAMMPS dump file\n",
    "          for the relaxed system.\n",
    "        - **'E_total'** (*float*) - The total potential energy for the\n",
    "          relaxed system.\n",
    "    \"\"\"\n",
    "    try:\n",
    "        # Get script's location if __file__ exists\n",
    "        script_dir = Path(__file__).parent\n",
    "    except:\n",
    "        # Use cwd otherwise\n",
    "        script_dir = Path.cwd()\n",
    "\n",
    "    # Get lammps units\n",
    "    lammps_units = lmp.style.unit(potential.units)\n",
    "    \n",
    "    #Get lammps version date\n",
    "    lammps_date = lmp.checkversion(lammps_command)['date']\n",
    "    \n",
    "    # Define lammps variables\n",
    "    lammps_variables = {}\n",
    "    system_info = system.dump('atom_data', f='system.dat',\n",
    "                              units=potential.units,\n",
    "                              atom_style=potential.atom_style)\n",
    "    lammps_variables['atomman_system_info'] = system_info\n",
    "    lammps_variables['atomman_pair_info'] = potential.pair_info(system.symbols)\n",
    "    lammps_variables['anneal_info'] = anneal_info(annealtemp, annealsteps, \n",
    "                                                  randomseed, potential.units)\n",
    "    lammps_variables['etol'] = etol\n",
    "    lammps_variables['ftol'] = uc.get_in_units(ftol, lammps_units['force'])\n",
    "    lammps_variables['maxiter'] = maxiter\n",
    "    lammps_variables['maxeval'] = maxeval\n",
    "    lammps_variables['dmax'] = dmax\n",
    "    lammps_variables['group_move'] = ' '.join(np.array(range(1, system.natypes // 2 + 1), dtype=str))\n",
    "    \n",
    "    # Set dump_modify format based on dump_modify_version\n",
    "    if lammps_date < datetime.date(2016, 8, 3):\n",
    "        lammps_variables['dump_modify_format'] = '\"%d %d %.13e %.13e %.13e %.13e\"'\n",
    "    else:\n",
    "        lammps_variables['dump_modify_format'] = 'float %.13e'\n",
    "    \n",
    "    # Write lammps input script\n",
    "    template_file = Path(script_dir, 'disl_relax.template')\n",
    "    lammps_script = 'disl_relax.in'\n",
    "    with open(template_file) as f:\n",
    "        template = f.read()\n",
    "    with open(lammps_script, 'w') as f:\n",
    "        f.write(iprPy.tools.filltemplate(template, lammps_variables,\n",
    "                                         '<', '>'))\n",
    "    \n",
    "    # Run LAMMPS\n",
    "    output = lmp.run(lammps_command, lammps_script, mpi_command)\n",
    "    thermo = output.simulations[-1]['thermo']\n",
    "    \n",
    "    # Extract output values\n",
    "    results = {}\n",
    "    results['logfile'] = 'log.lammps'\n",
    "    results['dumpfile'] = '%i.dump' % thermo.Step.values[-1] \n",
    "    results['E_total'] = uc.set_in_units(thermo.PotEng.values[-1],\n",
    "                                         lammps_units['energy'])\n",
    "    \n",
    "    return results\n",
    "\n"
   ]
  },
  {
   "cell_type": "markdown",
   "metadata": {},
   "source": [
    "#### 3.5 anneal_info() "
   ]
  },
  {
   "cell_type": "code",
   "execution_count": 15,
   "metadata": {},
   "outputs": [],
   "source": [
    "def anneal_info(temperature=0.0, runsteps=None, randomseed=None, units='metal'):\n",
    "    \"\"\"\n",
    "    Generates LAMMPS commands for thermo anneal.\n",
    "    \n",
    "    Parameters\n",
    "    ----------\n",
    "    temperature : float, optional\n",
    "        The temperature to relax at (default is 0.0).\n",
    "    randomseed : int or None, optional\n",
    "        Random number seed used by LAMMPS in creating velocities and with\n",
    "        the Langevin thermostat.  (Default is None which will select a\n",
    "        random int between 1 and 900000000.)\n",
    "    units : str, optional\n",
    "        The LAMMPS units style to use (default is 'metal').\n",
    "    \n",
    "    Returns\n",
    "    -------\n",
    "    str\n",
    "        The generated LAMMPS input lines for performing a dynamic relax.\n",
    "        Will be '' if temperature==0.0.\n",
    "    \"\"\"    \n",
    "    # Return nothing if temperature is 0.0 (don't do thermo anneal)\n",
    "    if temperature == 0.0:\n",
    "        return ''\n",
    "    \n",
    "    # Generate velocity, fix nvt, and run LAMMPS command lines\n",
    "    else:\n",
    "        if randomseed is None:\n",
    "            randomseed = random.randint(1, 900000000)\n",
    "        if runsteps is None:\n",
    "            runsteps = 10000\n",
    "        \n",
    "        start_temp = 2 * temperature\n",
    "        tdamp = 100 * lmp.style.timestep(units)\n",
    "        timestep = lmp.style.timestep(units)\n",
    "        info = '\\n'.join([\n",
    "            'velocity move create %f %i mom yes rot yes dist gaussian' % (start_temp, randomseed),\n",
    "            'fix nvt all nvt temp %f %f %f' % (temperature, temperature,\n",
    "                                               tdamp),\n",
    "            'timestep %f' % (timestep),\n",
    "            'thermo %i' % (runsteps),\n",
    "            'run %i' % (runsteps),\n",
    "            ])\n",
    "    \n",
    "    return info\n",
    "\n"
   ]
  },
  {
   "cell_type": "markdown",
   "metadata": {},
   "source": [
    "### 4. Run calculation function(s)"
   ]
  },
  {
   "cell_type": "code",
   "execution_count": 16,
   "metadata": {},
   "outputs": [],
   "source": [
    "results_dict = dislocationmonopole(lammps_command, system, potential, inputs['burgersvector'], C,\n",
    "                                   axes = axes,\n",
    "                                   mpi_command = mpi_command,\n",
    "                                   m = inputs['stroh_m'],\n",
    "                                   n = inputs['stroh_n'],\n",
    "                                   lineboxvector = inputs['dislocation_lineboxvector'],\n",
    "                                   etol = energytolerance,\n",
    "                                   ftol = forcetolerance,\n",
    "                                   maxiter = maxiterations,\n",
    "                                   maxeval = maxevaluations,\n",
    "                                   dmax = maxatommotion,\n",
    "                                   annealtemp = annealtemperature, \n",
    "                                   randomseed = randomseed, \n",
    "                                   bwidth = boundarywidth, \n",
    "                                   bshape = boundaryshape)"
   ]
  },
  {
   "cell_type": "code",
   "execution_count": 17,
   "metadata": {},
   "outputs": [
    {
     "data": {
      "text/plain": [
       "dict_keys(['dumpfile_base', 'symbols_base', 'Stroh_preln', 'Stroh_K_tensor', 'dumpfile_disl', 'symbols_disl', 'E_total_disl'])"
      ]
     },
     "execution_count": 17,
     "metadata": {},
     "output_type": "execute_result"
    }
   ],
   "source": [
    "results_dict.keys()"
   ]
  },
  {
   "cell_type": "markdown",
   "metadata": {},
   "source": [
    "### 5. Report results"
   ]
  },
  {
   "cell_type": "markdown",
   "metadata": {},
   "source": [
    "#### 5.1 Define units for outputting values\n",
    "\n",
    "- __length_unit__ is the unit of length to display results in.\n",
    "- __energy_unit__ is the unit of energy to display cohesive energies in.\n",
    "- __energy_per_length_unit__ is the energy per length to report the pre logarithmic energy factor in."
   ]
  },
  {
   "cell_type": "code",
   "execution_count": 18,
   "metadata": {},
   "outputs": [],
   "source": [
    "length_unit = 'angstrom'\n",
    "energy_unit = 'eV'\n",
    "pressure_unit = 'GPa'\n",
    "energy_per_length_unit = energy_unit+'/'+length_unit"
   ]
  },
  {
   "cell_type": "markdown",
   "metadata": {},
   "source": [
    "#### 5.2 Print Stroh method parameters"
   ]
  },
  {
   "cell_type": "code",
   "execution_count": 19,
   "metadata": {},
   "outputs": [
    {
     "name": "stdout",
     "output_type": "stream",
     "text": [
      "pre-ln factor (alpha) = 0.38115214350244003 eV/angstrom\n",
      "K_tensor =\n",
      "[[ 81.07544348   0.          12.76027037]\n",
      " [  0.         123.86918865   0.        ]\n",
      " [ 12.76027037   0.         127.31323026]] GPa\n"
     ]
    }
   ],
   "source": [
    "print('pre-ln factor (alpha) =', uc.get_in_units(results_dict['Stroh_preln'], energy_per_length_unit), energy_per_length_unit)\n",
    "print('K_tensor =')\n",
    "print(uc.get_in_units(results_dict['Stroh_K_tensor'], pressure_unit), pressure_unit)"
   ]
  },
  {
   "cell_type": "markdown",
   "metadata": {},
   "source": [
    "#### 5.3 List dump files"
   ]
  },
  {
   "cell_type": "code",
   "execution_count": 20,
   "metadata": {},
   "outputs": [
    {
     "name": "stdout",
     "output_type": "stream",
     "text": [
      "Perfect system is saved as base.dump\n",
      "Defect system is saved as disl.dump\n"
     ]
    }
   ],
   "source": [
    "print('Perfect system is saved as', results_dict['dumpfile_base'])\n",
    "print('Defect system is saved as',  results_dict['dumpfile_disl'])"
   ]
  }
 ],
 "metadata": {
  "kernelspec": {
   "display_name": "Python 3",
   "language": "python",
   "name": "python3"
  },
  "language_info": {
   "codemirror_mode": {
    "name": "ipython",
    "version": 3
   },
   "file_extension": ".py",
   "mimetype": "text/x-python",
   "name": "python",
   "nbconvert_exporter": "python",
   "pygments_lexer": "ipython3",
   "version": "3.7.3"
  }
 },
 "nbformat": 4,
 "nbformat_minor": 2
}
