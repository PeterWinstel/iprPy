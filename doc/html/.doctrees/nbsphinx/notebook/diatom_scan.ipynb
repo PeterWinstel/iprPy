{
 "cells": [
  {
   "cell_type": "markdown",
   "metadata": {},
   "source": [
    "# diatom_scan - Methodology and code"
   ]
  },
  {
   "cell_type": "markdown",
   "metadata": {},
   "source": [
    "__Python imports__\n",
    "\n",
    "- [numpy](http://www.numpy.org/)\n",
    "- [IPython](https://ipython.org)\n",
    "- [atomman](https://github.com/usnistgov/atomman)\n",
    "- [iprPy](https://github.com/usnistgov/iprPy)"
   ]
  },
  {
   "cell_type": "code",
   "execution_count": 1,
   "metadata": {},
   "outputs": [
    {
     "name": "stdout",
     "output_type": "stream",
     "text": [
      "Notebook last executed on 2022-06-01 using iprPy version 0.11.2\n"
     ]
    }
   ],
   "source": [
    "# Standard library imports\n",
    "from pathlib import Path\n",
    "import datetime\n",
    "from math import floor\n",
    "from typing import Optional\n",
    "\n",
    "# http://www.numpy.org/\n",
    "import numpy as np\n",
    "\n",
    "# https://ipython.org/\n",
    "from IPython.display import display, Markdown\n",
    "\n",
    "# https://github.com/usnistgov/atomman \n",
    "import atomman as am\n",
    "import atomman.lammps as lmp\n",
    "import atomman.unitconvert as uc\n",
    "from atomman.tools import filltemplate, aslist\n",
    "\n",
    "# https://github.com/usnistgov/iprPy\n",
    "import iprPy\n",
    "from iprPy.tools import read_calc_file\n",
    "\n",
    "print('Notebook last executed on', datetime.date.today(), 'using iprPy version', iprPy.__version__)"
   ]
  },
  {
   "cell_type": "markdown",
   "metadata": {},
   "source": [
    "Import additional libraries for plotting. The external libraries used are:\n",
    "\n",
    "- [bokeh](http://bokeh.pydata.org/)"
   ]
  },
  {
   "cell_type": "code",
   "execution_count": 2,
   "metadata": {},
   "outputs": [
    {
     "name": "stdout",
     "output_type": "stream",
     "text": [
      "Bokeh version = 2.4.3\n"
     ]
    },
    {
     "data": {
      "text/html": [
       "<div class=\"bk-root\">\n",
       "        <a href=\"https://bokeh.org\" target=\"_blank\" class=\"bk-logo bk-logo-small bk-logo-notebook\"></a>\n",
       "        <span id=\"1002\">Loading BokehJS ...</span>\n",
       "    </div>\n"
      ]
     },
     "metadata": {},
     "output_type": "display_data"
    },
    {
     "data": {
      "application/javascript": [
       "(function(root) {\n",
       "  function now() {\n",
       "    return new Date();\n",
       "  }\n",
       "\n",
       "  const force = true;\n",
       "\n",
       "  if (typeof root._bokeh_onload_callbacks === \"undefined\" || force === true) {\n",
       "    root._bokeh_onload_callbacks = [];\n",
       "    root._bokeh_is_loading = undefined;\n",
       "  }\n",
       "\n",
       "const JS_MIME_TYPE = 'application/javascript';\n",
       "  const HTML_MIME_TYPE = 'text/html';\n",
       "  const EXEC_MIME_TYPE = 'application/vnd.bokehjs_exec.v0+json';\n",
       "  const CLASS_NAME = 'output_bokeh rendered_html';\n",
       "\n",
       "  /**\n",
       "   * Render data to the DOM node\n",
       "   */\n",
       "  function render(props, node) {\n",
       "    const script = document.createElement(\"script\");\n",
       "    node.appendChild(script);\n",
       "  }\n",
       "\n",
       "  /**\n",
       "   * Handle when an output is cleared or removed\n",
       "   */\n",
       "  function handleClearOutput(event, handle) {\n",
       "    const cell = handle.cell;\n",
       "\n",
       "    const id = cell.output_area._bokeh_element_id;\n",
       "    const server_id = cell.output_area._bokeh_server_id;\n",
       "    // Clean up Bokeh references\n",
       "    if (id != null && id in Bokeh.index) {\n",
       "      Bokeh.index[id].model.document.clear();\n",
       "      delete Bokeh.index[id];\n",
       "    }\n",
       "\n",
       "    if (server_id !== undefined) {\n",
       "      // Clean up Bokeh references\n",
       "      const cmd_clean = \"from bokeh.io.state import curstate; print(curstate().uuid_to_server['\" + server_id + \"'].get_sessions()[0].document.roots[0]._id)\";\n",
       "      cell.notebook.kernel.execute(cmd_clean, {\n",
       "        iopub: {\n",
       "          output: function(msg) {\n",
       "            const id = msg.content.text.trim();\n",
       "            if (id in Bokeh.index) {\n",
       "              Bokeh.index[id].model.document.clear();\n",
       "              delete Bokeh.index[id];\n",
       "            }\n",
       "          }\n",
       "        }\n",
       "      });\n",
       "      // Destroy server and session\n",
       "      const cmd_destroy = \"import bokeh.io.notebook as ion; ion.destroy_server('\" + server_id + \"')\";\n",
       "      cell.notebook.kernel.execute(cmd_destroy);\n",
       "    }\n",
       "  }\n",
       "\n",
       "  /**\n",
       "   * Handle when a new output is added\n",
       "   */\n",
       "  function handleAddOutput(event, handle) {\n",
       "    const output_area = handle.output_area;\n",
       "    const output = handle.output;\n",
       "\n",
       "    // limit handleAddOutput to display_data with EXEC_MIME_TYPE content only\n",
       "    if ((output.output_type != \"display_data\") || (!Object.prototype.hasOwnProperty.call(output.data, EXEC_MIME_TYPE))) {\n",
       "      return\n",
       "    }\n",
       "\n",
       "    const toinsert = output_area.element.find(\".\" + CLASS_NAME.split(' ')[0]);\n",
       "\n",
       "    if (output.metadata[EXEC_MIME_TYPE][\"id\"] !== undefined) {\n",
       "      toinsert[toinsert.length - 1].firstChild.textContent = output.data[JS_MIME_TYPE];\n",
       "      // store reference to embed id on output_area\n",
       "      output_area._bokeh_element_id = output.metadata[EXEC_MIME_TYPE][\"id\"];\n",
       "    }\n",
       "    if (output.metadata[EXEC_MIME_TYPE][\"server_id\"] !== undefined) {\n",
       "      const bk_div = document.createElement(\"div\");\n",
       "      bk_div.innerHTML = output.data[HTML_MIME_TYPE];\n",
       "      const script_attrs = bk_div.children[0].attributes;\n",
       "      for (let i = 0; i < script_attrs.length; i++) {\n",
       "        toinsert[toinsert.length - 1].firstChild.setAttribute(script_attrs[i].name, script_attrs[i].value);\n",
       "        toinsert[toinsert.length - 1].firstChild.textContent = bk_div.children[0].textContent\n",
       "      }\n",
       "      // store reference to server id on output_area\n",
       "      output_area._bokeh_server_id = output.metadata[EXEC_MIME_TYPE][\"server_id\"];\n",
       "    }\n",
       "  }\n",
       "\n",
       "  function register_renderer(events, OutputArea) {\n",
       "\n",
       "    function append_mime(data, metadata, element) {\n",
       "      // create a DOM node to render to\n",
       "      const toinsert = this.create_output_subarea(\n",
       "        metadata,\n",
       "        CLASS_NAME,\n",
       "        EXEC_MIME_TYPE\n",
       "      );\n",
       "      this.keyboard_manager.register_events(toinsert);\n",
       "      // Render to node\n",
       "      const props = {data: data, metadata: metadata[EXEC_MIME_TYPE]};\n",
       "      render(props, toinsert[toinsert.length - 1]);\n",
       "      element.append(toinsert);\n",
       "      return toinsert\n",
       "    }\n",
       "\n",
       "    /* Handle when an output is cleared or removed */\n",
       "    events.on('clear_output.CodeCell', handleClearOutput);\n",
       "    events.on('delete.Cell', handleClearOutput);\n",
       "\n",
       "    /* Handle when a new output is added */\n",
       "    events.on('output_added.OutputArea', handleAddOutput);\n",
       "\n",
       "    /**\n",
       "     * Register the mime type and append_mime function with output_area\n",
       "     */\n",
       "    OutputArea.prototype.register_mime_type(EXEC_MIME_TYPE, append_mime, {\n",
       "      /* Is output safe? */\n",
       "      safe: true,\n",
       "      /* Index of renderer in `output_area.display_order` */\n",
       "      index: 0\n",
       "    });\n",
       "  }\n",
       "\n",
       "  // register the mime type if in Jupyter Notebook environment and previously unregistered\n",
       "  if (root.Jupyter !== undefined) {\n",
       "    const events = require('base/js/events');\n",
       "    const OutputArea = require('notebook/js/outputarea').OutputArea;\n",
       "\n",
       "    if (OutputArea.prototype.mime_types().indexOf(EXEC_MIME_TYPE) == -1) {\n",
       "      register_renderer(events, OutputArea);\n",
       "    }\n",
       "  }\n",
       "  if (typeof (root._bokeh_timeout) === \"undefined\" || force === true) {\n",
       "    root._bokeh_timeout = Date.now() + 5000;\n",
       "    root._bokeh_failed_load = false;\n",
       "  }\n",
       "\n",
       "  const NB_LOAD_WARNING = {'data': {'text/html':\n",
       "     \"<div style='background-color: #fdd'>\\n\"+\n",
       "     \"<p>\\n\"+\n",
       "     \"BokehJS does not appear to have successfully loaded. If loading BokehJS from CDN, this \\n\"+\n",
       "     \"may be due to a slow or bad network connection. Possible fixes:\\n\"+\n",
       "     \"</p>\\n\"+\n",
       "     \"<ul>\\n\"+\n",
       "     \"<li>re-rerun `output_notebook()` to attempt to load from CDN again, or</li>\\n\"+\n",
       "     \"<li>use INLINE resources instead, as so:</li>\\n\"+\n",
       "     \"</ul>\\n\"+\n",
       "     \"<code>\\n\"+\n",
       "     \"from bokeh.resources import INLINE\\n\"+\n",
       "     \"output_notebook(resources=INLINE)\\n\"+\n",
       "     \"</code>\\n\"+\n",
       "     \"</div>\"}};\n",
       "\n",
       "  function display_loaded() {\n",
       "    const el = document.getElementById(\"1002\");\n",
       "    if (el != null) {\n",
       "      el.textContent = \"BokehJS is loading...\";\n",
       "    }\n",
       "    if (root.Bokeh !== undefined) {\n",
       "      if (el != null) {\n",
       "        el.textContent = \"BokehJS \" + root.Bokeh.version + \" successfully loaded.\";\n",
       "      }\n",
       "    } else if (Date.now() < root._bokeh_timeout) {\n",
       "      setTimeout(display_loaded, 100)\n",
       "    }\n",
       "  }\n",
       "\n",
       "  function run_callbacks() {\n",
       "    try {\n",
       "      root._bokeh_onload_callbacks.forEach(function(callback) {\n",
       "        if (callback != null)\n",
       "          callback();\n",
       "      });\n",
       "    } finally {\n",
       "      delete root._bokeh_onload_callbacks\n",
       "    }\n",
       "    console.debug(\"Bokeh: all callbacks have finished\");\n",
       "  }\n",
       "\n",
       "  function load_libs(css_urls, js_urls, callback) {\n",
       "    if (css_urls == null) css_urls = [];\n",
       "    if (js_urls == null) js_urls = [];\n",
       "\n",
       "    root._bokeh_onload_callbacks.push(callback);\n",
       "    if (root._bokeh_is_loading > 0) {\n",
       "      console.debug(\"Bokeh: BokehJS is being loaded, scheduling callback at\", now());\n",
       "      return null;\n",
       "    }\n",
       "    if (js_urls == null || js_urls.length === 0) {\n",
       "      run_callbacks();\n",
       "      return null;\n",
       "    }\n",
       "    console.debug(\"Bokeh: BokehJS not loaded, scheduling load and callback at\", now());\n",
       "    root._bokeh_is_loading = css_urls.length + js_urls.length;\n",
       "\n",
       "    function on_load() {\n",
       "      root._bokeh_is_loading--;\n",
       "      if (root._bokeh_is_loading === 0) {\n",
       "        console.debug(\"Bokeh: all BokehJS libraries/stylesheets loaded\");\n",
       "        run_callbacks()\n",
       "      }\n",
       "    }\n",
       "\n",
       "    function on_error(url) {\n",
       "      console.error(\"failed to load \" + url);\n",
       "    }\n",
       "\n",
       "    for (let i = 0; i < css_urls.length; i++) {\n",
       "      const url = css_urls[i];\n",
       "      const element = document.createElement(\"link\");\n",
       "      element.onload = on_load;\n",
       "      element.onerror = on_error.bind(null, url);\n",
       "      element.rel = \"stylesheet\";\n",
       "      element.type = \"text/css\";\n",
       "      element.href = url;\n",
       "      console.debug(\"Bokeh: injecting link tag for BokehJS stylesheet: \", url);\n",
       "      document.body.appendChild(element);\n",
       "    }\n",
       "\n",
       "    for (let i = 0; i < js_urls.length; i++) {\n",
       "      const url = js_urls[i];\n",
       "      const element = document.createElement('script');\n",
       "      element.onload = on_load;\n",
       "      element.onerror = on_error.bind(null, url);\n",
       "      element.async = false;\n",
       "      element.src = url;\n",
       "      console.debug(\"Bokeh: injecting script tag for BokehJS library: \", url);\n",
       "      document.head.appendChild(element);\n",
       "    }\n",
       "  };\n",
       "\n",
       "  function inject_raw_css(css) {\n",
       "    const element = document.createElement(\"style\");\n",
       "    element.appendChild(document.createTextNode(css));\n",
       "    document.body.appendChild(element);\n",
       "  }\n",
       "\n",
       "  const js_urls = [\"https://cdn.bokeh.org/bokeh/release/bokeh-2.4.3.min.js\", \"https://cdn.bokeh.org/bokeh/release/bokeh-gl-2.4.3.min.js\", \"https://cdn.bokeh.org/bokeh/release/bokeh-widgets-2.4.3.min.js\", \"https://cdn.bokeh.org/bokeh/release/bokeh-tables-2.4.3.min.js\", \"https://cdn.bokeh.org/bokeh/release/bokeh-mathjax-2.4.3.min.js\"];\n",
       "  const css_urls = [];\n",
       "\n",
       "  const inline_js = [    function(Bokeh) {\n",
       "      Bokeh.set_log_level(\"info\");\n",
       "    },\n",
       "function(Bokeh) {\n",
       "    }\n",
       "  ];\n",
       "\n",
       "  function run_inline_js() {\n",
       "    if (root.Bokeh !== undefined || force === true) {\n",
       "          for (let i = 0; i < inline_js.length; i++) {\n",
       "      inline_js[i].call(root, root.Bokeh);\n",
       "    }\n",
       "if (force === true) {\n",
       "        display_loaded();\n",
       "      }} else if (Date.now() < root._bokeh_timeout) {\n",
       "      setTimeout(run_inline_js, 100);\n",
       "    } else if (!root._bokeh_failed_load) {\n",
       "      console.log(\"Bokeh: BokehJS failed to load within specified timeout.\");\n",
       "      root._bokeh_failed_load = true;\n",
       "    } else if (force !== true) {\n",
       "      const cell = $(document.getElementById(\"1002\")).parents('.cell').data().cell;\n",
       "      cell.output_area.append_execute_result(NB_LOAD_WARNING)\n",
       "    }\n",
       "  }\n",
       "\n",
       "  if (root._bokeh_is_loading === 0) {\n",
       "    console.debug(\"Bokeh: BokehJS loaded, going straight to plotting\");\n",
       "    run_inline_js();\n",
       "  } else {\n",
       "    load_libs(css_urls, js_urls, function() {\n",
       "      console.debug(\"Bokeh: BokehJS plotting callback run at\", now());\n",
       "      run_inline_js();\n",
       "    });\n",
       "  }\n",
       "}(window));"
      ],
      "application/vnd.bokehjs_load.v0+json": "(function(root) {\n  function now() {\n    return new Date();\n  }\n\n  const force = true;\n\n  if (typeof root._bokeh_onload_callbacks === \"undefined\" || force === true) {\n    root._bokeh_onload_callbacks = [];\n    root._bokeh_is_loading = undefined;\n  }\n\n\n  if (typeof (root._bokeh_timeout) === \"undefined\" || force === true) {\n    root._bokeh_timeout = Date.now() + 5000;\n    root._bokeh_failed_load = false;\n  }\n\n  const NB_LOAD_WARNING = {'data': {'text/html':\n     \"<div style='background-color: #fdd'>\\n\"+\n     \"<p>\\n\"+\n     \"BokehJS does not appear to have successfully loaded. If loading BokehJS from CDN, this \\n\"+\n     \"may be due to a slow or bad network connection. Possible fixes:\\n\"+\n     \"</p>\\n\"+\n     \"<ul>\\n\"+\n     \"<li>re-rerun `output_notebook()` to attempt to load from CDN again, or</li>\\n\"+\n     \"<li>use INLINE resources instead, as so:</li>\\n\"+\n     \"</ul>\\n\"+\n     \"<code>\\n\"+\n     \"from bokeh.resources import INLINE\\n\"+\n     \"output_notebook(resources=INLINE)\\n\"+\n     \"</code>\\n\"+\n     \"</div>\"}};\n\n  function display_loaded() {\n    const el = document.getElementById(\"1002\");\n    if (el != null) {\n      el.textContent = \"BokehJS is loading...\";\n    }\n    if (root.Bokeh !== undefined) {\n      if (el != null) {\n        el.textContent = \"BokehJS \" + root.Bokeh.version + \" successfully loaded.\";\n      }\n    } else if (Date.now() < root._bokeh_timeout) {\n      setTimeout(display_loaded, 100)\n    }\n  }\n\n  function run_callbacks() {\n    try {\n      root._bokeh_onload_callbacks.forEach(function(callback) {\n        if (callback != null)\n          callback();\n      });\n    } finally {\n      delete root._bokeh_onload_callbacks\n    }\n    console.debug(\"Bokeh: all callbacks have finished\");\n  }\n\n  function load_libs(css_urls, js_urls, callback) {\n    if (css_urls == null) css_urls = [];\n    if (js_urls == null) js_urls = [];\n\n    root._bokeh_onload_callbacks.push(callback);\n    if (root._bokeh_is_loading > 0) {\n      console.debug(\"Bokeh: BokehJS is being loaded, scheduling callback at\", now());\n      return null;\n    }\n    if (js_urls == null || js_urls.length === 0) {\n      run_callbacks();\n      return null;\n    }\n    console.debug(\"Bokeh: BokehJS not loaded, scheduling load and callback at\", now());\n    root._bokeh_is_loading = css_urls.length + js_urls.length;\n\n    function on_load() {\n      root._bokeh_is_loading--;\n      if (root._bokeh_is_loading === 0) {\n        console.debug(\"Bokeh: all BokehJS libraries/stylesheets loaded\");\n        run_callbacks()\n      }\n    }\n\n    function on_error(url) {\n      console.error(\"failed to load \" + url);\n    }\n\n    for (let i = 0; i < css_urls.length; i++) {\n      const url = css_urls[i];\n      const element = document.createElement(\"link\");\n      element.onload = on_load;\n      element.onerror = on_error.bind(null, url);\n      element.rel = \"stylesheet\";\n      element.type = \"text/css\";\n      element.href = url;\n      console.debug(\"Bokeh: injecting link tag for BokehJS stylesheet: \", url);\n      document.body.appendChild(element);\n    }\n\n    for (let i = 0; i < js_urls.length; i++) {\n      const url = js_urls[i];\n      const element = document.createElement('script');\n      element.onload = on_load;\n      element.onerror = on_error.bind(null, url);\n      element.async = false;\n      element.src = url;\n      console.debug(\"Bokeh: injecting script tag for BokehJS library: \", url);\n      document.head.appendChild(element);\n    }\n  };\n\n  function inject_raw_css(css) {\n    const element = document.createElement(\"style\");\n    element.appendChild(document.createTextNode(css));\n    document.body.appendChild(element);\n  }\n\n  const js_urls = [\"https://cdn.bokeh.org/bokeh/release/bokeh-2.4.3.min.js\", \"https://cdn.bokeh.org/bokeh/release/bokeh-gl-2.4.3.min.js\", \"https://cdn.bokeh.org/bokeh/release/bokeh-widgets-2.4.3.min.js\", \"https://cdn.bokeh.org/bokeh/release/bokeh-tables-2.4.3.min.js\", \"https://cdn.bokeh.org/bokeh/release/bokeh-mathjax-2.4.3.min.js\"];\n  const css_urls = [];\n\n  const inline_js = [    function(Bokeh) {\n      Bokeh.set_log_level(\"info\");\n    },\nfunction(Bokeh) {\n    }\n  ];\n\n  function run_inline_js() {\n    if (root.Bokeh !== undefined || force === true) {\n          for (let i = 0; i < inline_js.length; i++) {\n      inline_js[i].call(root, root.Bokeh);\n    }\nif (force === true) {\n        display_loaded();\n      }} else if (Date.now() < root._bokeh_timeout) {\n      setTimeout(run_inline_js, 100);\n    } else if (!root._bokeh_failed_load) {\n      console.log(\"Bokeh: BokehJS failed to load within specified timeout.\");\n      root._bokeh_failed_load = true;\n    } else if (force !== true) {\n      const cell = $(document.getElementById(\"1002\")).parents('.cell').data().cell;\n      cell.output_area.append_execute_result(NB_LOAD_WARNING)\n    }\n  }\n\n  if (root._bokeh_is_loading === 0) {\n    console.debug(\"Bokeh: BokehJS loaded, going straight to plotting\");\n    run_inline_js();\n  } else {\n    load_libs(css_urls, js_urls, function() {\n      console.debug(\"Bokeh: BokehJS plotting callback run at\", now());\n      run_inline_js();\n    });\n  }\n}(window));"
     },
     "metadata": {},
     "output_type": "display_data"
    }
   ],
   "source": [
    "import bokeh\n",
    "print('Bokeh version =', bokeh.__version__)\n",
    "from bokeh.plotting import figure, output_file, show\n",
    "from bokeh.embed import components\n",
    "from bokeh.resources import Resources\n",
    "from bokeh.io import output_notebook\n",
    "output_notebook()"
   ]
  },
  {
   "cell_type": "markdown",
   "metadata": {},
   "source": [
    "## 1. Load calculation and view description\n",
    "\n",
    "### 1.1. Load the calculation"
   ]
  },
  {
   "cell_type": "code",
   "execution_count": 3,
   "metadata": {},
   "outputs": [],
   "source": [
    "# Load the calculation being demoed\n",
    "calculation = iprPy.load_calculation('diatom_scan')"
   ]
  },
  {
   "cell_type": "markdown",
   "metadata": {},
   "source": [
    "### 1.2. Display calculation description and theory"
   ]
  },
  {
   "cell_type": "code",
   "execution_count": 4,
   "metadata": {},
   "outputs": [
    {
     "data": {
      "text/markdown": [
       "# diatom_scan calculation style\n",
       "\n",
       "**Lucas M. Hale**, [lucas.hale@nist.gov](mailto:lucas.hale@nist.gov?Subject=ipr-demo), *Materials Science and Engineering Division, NIST*.\n",
       "\n",
       "## Introduction\n",
       "\n",
       "The diatom_scan calculation style evaluates the interaction energy between two atoms at varying distances.  This provides a measure of the isolated pair interaction of two atoms providing insights into the strengths of the attraction/repulsion and the effective range of interatomic spacings.  This scan also gives insight into the computational smoothness of the potential's functional form.\n",
       "\n",
       "### Version notes\n",
       "\n",
       "- 2019-07-30: Notebook added.\n",
       "- 2020-05-22: Version 0.10 update - potentials now loaded from database.\n",
       "- 2020-09-22: Setup and parameter definition streamlined. Method and theory expanded.\n",
       "- 2022-02-16: Notebook updated to reflect version 0.11.\n",
       "\n",
       "### Additional dependencies\n",
       "\n",
       "### Disclaimers\n",
       "\n",
       "- [NIST disclaimers](http://www.nist.gov/public_affairs/disclaimer.cfm)\n",
       "- No 3+ body interactions are explored with this calculation as only two atoms are used.\n"
      ],
      "text/plain": [
       "<IPython.core.display.Markdown object>"
      ]
     },
     "metadata": {},
     "output_type": "display_data"
    },
    {
     "data": {
      "text/markdown": [
       "## Method and Theory\n",
       "\n",
       "Two atoms are placed in an otherwise empty system.  The total energy of the system is evaluated for different interatomic spacings.  This provides a means of evaluating the pair interaction component of an interatomic potential, which is useful for a variety of reasons\n",
       "\n",
       "- The diatom_scan is a simple calculation that can be used to fingerprint a given interaction.  This can be used to help determine if two different implementations produce the same resulting potential when direct comparisons of the potential parameters is not feasible.\n",
       "- For a potential to be suitable for radiation studies, the extreme close-range interaction energies must be prohibitively repulsive while not being so large that the resulting force on the atoms will eject them from the system during integration.  The diatom_scan results provide a means of evaluating the close-range interactions.\n",
       "- The smoothness of the potential is also reflected in the diatom_scan energy results.  Numerical derivatives of the measured points can determine the order of smoothness as well as the approximate r values where discontinuities occur.\n",
       "- Evaluating large separation values provides a means of identifying the energy of the isolated atoms, given that the separation exceeds the potential's cutoff.  The isolated_atom calculation is an alternative method for obtaining this.\n"
      ],
      "text/plain": [
       "<IPython.core.display.Markdown object>"
      ]
     },
     "metadata": {},
     "output_type": "display_data"
    }
   ],
   "source": [
    "# Display main docs and theory\n",
    "display(Markdown(calculation.maindoc))\n",
    "display(Markdown(calculation.theorydoc))"
   ]
  },
  {
   "cell_type": "markdown",
   "metadata": {},
   "source": [
    "## 2. Define calculation functions and generate files\n",
    "\n",
    "This section defines the calculation functions and associated resource files exactly as they exist inside the iprPy package.  This allows for the code used to be directly visible and modifiable by anyone looking to see how it works."
   ]
  },
  {
   "cell_type": "markdown",
   "metadata": {},
   "source": [
    "### 2.1. diatom_scan()\n",
    "\n",
    "This is the primary function for the calculation.  The version of this function built in iprPy can be accessed by calling the calc() method of an object of the associated calculation class."
   ]
  },
  {
   "cell_type": "code",
   "execution_count": 5,
   "metadata": {},
   "outputs": [],
   "source": [
    "def diatom_scan(lammps_command: str,\n",
    "                potential: am.lammps.Potential, \n",
    "                symbols: list,\n",
    "                mpi_command: Optional[str] = None, \n",
    "                rmin: float = uc.set_in_units(0.02, 'angstrom'), \n",
    "                rmax: float = uc.set_in_units(6.0, 'angstrom'),\n",
    "                rsteps: int = 300) -> dict:\n",
    "    \"\"\"\n",
    "    Performs a diatom energy scan over a range of interatomic spaces, r.\n",
    "    \n",
    "    Parameters\n",
    "    ----------\n",
    "    lammps_command :str\n",
    "        Command for running LAMMPS.\n",
    "    potential : atomman.lammps.Potential\n",
    "        The LAMMPS implemented potential to use.\n",
    "    symbols : list\n",
    "        The potential symbols associated with the two atoms in the diatom.\n",
    "    mpi_command : str, optional\n",
    "        The MPI command for running LAMMPS in parallel.  If not given, LAMMPS\n",
    "        will run serially.\n",
    "    rmin : float, optional\n",
    "        The minimum r spacing to use (default value is 0.02 angstroms).\n",
    "    rmax : float, optional\n",
    "        The maximum r spacing to use (default value is 6.0 angstroms).\n",
    "    rsteps : int, optional\n",
    "        The number of r spacing steps to evaluate (default value is 300).\n",
    "    \n",
    "    Returns\n",
    "    -------\n",
    "    dict\n",
    "        Dictionary of results consisting of keys:\n",
    "        \n",
    "        - **'r_values'** (*numpy.array of float*) - All interatomic spacings,\n",
    "          r, explored.\n",
    "        - **'energy_values'** (*numpy.array of float*) - The computed potential\n",
    "          energies for each r value.\n",
    "    \"\"\"\n",
    " \n",
    "    # Build lists of values\n",
    "    r_values = np.linspace(rmin, rmax, rsteps)\n",
    "    energy_values = np.empty(rsteps)\n",
    "    \n",
    "    # Define atype based on symbols\n",
    "    symbols = aslist(symbols)\n",
    "    if len(symbols) == 1:\n",
    "        atype = [1, 1]\n",
    "    elif len(symbols) == 2:\n",
    "        atype = [1, 2]\n",
    "    else:\n",
    "        raise ValueError('symbols must have one or two values')\n",
    "    \n",
    "    # Initialize system (will shift second atom's position later...)\n",
    "    box = am.Box.cubic(a = rmax + 1)\n",
    "    atoms = am.Atoms(atype=atype, pos=[[0.1, 0.1, 0.1], [0.1, 0.1, 0.1]])\n",
    "    system = am.System(atoms=atoms, box=box, pbc=[False, False, False], symbols=symbols)\n",
    "\n",
    "    # Add charges if required\n",
    "    if potential.atom_style == 'charge':\n",
    "        system.atoms.prop_atype('charge', potential.charges(system.symbols))\n",
    "\n",
    "    # Get lammps units\n",
    "    lammps_units = lmp.style.unit(potential.units)\n",
    "\n",
    "    # Define lammps variables\n",
    "    lammps_variables = {}\n",
    "\n",
    "    # Loop over values\n",
    "    for i in range(rsteps):\n",
    "        \n",
    "        # Shift second atom's x position\n",
    "        system.atoms.pos[1] = np.array([0.1 + r_values[i], 0.1, 0.1])\n",
    "\n",
    "        # Save configuration\n",
    "        system_info = system.dump('atom_data', f='diatom.dat',\n",
    "                                  potential=potential)\n",
    "        lammps_variables['atomman_system_pair_info'] = system_info\n",
    "        \n",
    "        # Write lammps input script\n",
    "        lammps_script = 'run0.in'\n",
    "        template = read_calc_file('iprPy.calculation.diatom_scan', 'run0.template')\n",
    "        with open(lammps_script, 'w') as f:\n",
    "            f.write(filltemplate(template, lammps_variables, '<', '>'))\n",
    "        \n",
    "        # Run lammps and extract data\n",
    "        try:\n",
    "            output = lmp.run(lammps_command, script_name=lammps_script,\n",
    "                             mpi_command=mpi_command)\n",
    "        except:\n",
    "            energy_values[i] = np.nan\n",
    "        else:\n",
    "            energy = output.simulations[0]['thermo'].PotEng.values[-1]\n",
    "            energy_values[i] = uc.set_in_units(energy, lammps_units['energy'])\n",
    "\n",
    "    if len(energy_values[np.isfinite(energy_values)]) == 0:\n",
    "        raise ValueError('All LAMMPS runs failed. Potential likely invalid or incompatible.')\n",
    "    \n",
    "    # Collect results\n",
    "    results_dict = {}\n",
    "    results_dict['r_values'] = r_values\n",
    "    results_dict['energy_values'] = energy_values\n",
    "    \n",
    "    return results_dict"
   ]
  },
  {
   "cell_type": "markdown",
   "metadata": {},
   "source": [
    "### 2.2. run0.template file"
   ]
  },
  {
   "cell_type": "code",
   "execution_count": 6,
   "metadata": {},
   "outputs": [],
   "source": [
    "with open('run0.template', 'w') as f:\n",
    "    f.write(\"\"\"#LAMMPS input script that evaluates a system's energy without relaxing\n",
    "\n",
    "<atomman_system_pair_info>\n",
    "\n",
    "thermo_style custom step pe\n",
    "thermo_modify format float %.13e\n",
    "\n",
    "run 0\"\"\")"
   ]
  },
  {
   "cell_type": "markdown",
   "metadata": {},
   "source": [
    "## 3. Specify input parameters"
   ]
  },
  {
   "cell_type": "markdown",
   "metadata": {},
   "source": [
    "### 3.1. System-specific paths\n",
    "\n",
    "- __lammps_command__ is the LAMMPS command to use (required).\n",
    "- __mpi_command__ MPI command for running LAMMPS in parallel. A value of None will run simulations serially."
   ]
  },
  {
   "cell_type": "code",
   "execution_count": 7,
   "metadata": {},
   "outputs": [],
   "source": [
    "lammps_command = 'E:/LAMMPS/2020-03-03/bin/lmp_serial.exe'\n",
    "mpi_command = None"
   ]
  },
  {
   "cell_type": "markdown",
   "metadata": {},
   "source": [
    "### 3.2. Interatomic potential\n",
    "\n",
    "- __potential_name__ gives the name of the potential_LAMMPS reference record in the iprPy library to use for the calculation.  \n",
    "- __potential__ is an atomman.lammps.Potential object (required)."
   ]
  },
  {
   "cell_type": "code",
   "execution_count": 8,
   "metadata": {},
   "outputs": [],
   "source": [
    "potential_name = '1999--Mishin-Y--Ni--LAMMPS--ipr1'\n",
    "\n",
    "# Retrieve potential and parameter file(s) using atomman\n",
    "potential = am.load_lammps_potential(id=potential_name, getfiles=True)"
   ]
  },
  {
   "cell_type": "markdown",
   "metadata": {},
   "source": [
    "#### 2.3. Calculation-specific parameters\n",
    "\n",
    "- __symbols__ is the element or pair of element model symbols to use for the diatom.\n",
    "- __rmin__ is the minimum r spacing to use.\n",
    "- __rmax__ is the maximum r spacing to use.\n",
    "- __rsteps__ is the number of r spacing steps to evaluate."
   ]
  },
  {
   "cell_type": "code",
   "execution_count": 9,
   "metadata": {},
   "outputs": [],
   "source": [
    "symbols = 'Ni'\n",
    "rmin = uc.set_in_units(0.02, 'angstrom')\n",
    "rmax = uc.set_in_units(6.0, 'angstrom')\n",
    "rsteps = 300"
   ]
  },
  {
   "cell_type": "markdown",
   "metadata": {},
   "source": [
    "## 4. Run calculation and view results\n",
    "\n",
    "### 4.1. Run calculation\n",
    "\n",
    "All primary calculation method functions take a series of inputs and return a dictionary of outputs."
   ]
  },
  {
   "cell_type": "code",
   "execution_count": 10,
   "metadata": {},
   "outputs": [
    {
     "name": "stdout",
     "output_type": "stream",
     "text": [
      "dict_keys(['r_values', 'energy_values'])\n"
     ]
    }
   ],
   "source": [
    "results_dict = diatom_scan(lammps_command, potential, symbols,\n",
    "                           mpi_command = mpi_command,\n",
    "                           rmin = rmin, \n",
    "                           rmax = rmax, \n",
    "                           rsteps = rsteps)\n",
    "print(results_dict.keys())"
   ]
  },
  {
   "cell_type": "markdown",
   "metadata": {},
   "source": [
    "### 4.2. Report results\n",
    "\n",
    "Values returned in the results_dict:\n",
    "- **'r_values'** (*numpy.array of float*) - All interatomic spacings, r, explored.\n",
    "- **'energy_values'** (*numpy.array of float*) - The computed potential energies for each r value."
   ]
  },
  {
   "cell_type": "code",
   "execution_count": 11,
   "metadata": {},
   "outputs": [
    {
     "data": {
      "text/html": [
       "\n",
       "  <div class=\"bk-root\" id=\"38c4c65c-8339-4f99-bf9c-7365eda221a5\" data-root-id=\"1003\"></div>\n"
      ]
     },
     "metadata": {},
     "output_type": "display_data"
    },
    {
     "data": {
      "application/javascript": [
       "(function(root) {\n",
       "  function embed_document(root) {\n",
       "  const docs_json = {\"e3bf1603-5398-412a-93c3-10c7a34f46ed\":{\"defs\":[],\"roots\":{\"references\":[{\"attributes\":{\"below\":[{\"id\":\"1014\"}],\"center\":[{\"id\":\"1017\"},{\"id\":\"1021\"},{\"id\":\"1052\"}],\"left\":[{\"id\":\"1018\"}],\"renderers\":[{\"id\":\"1040\"}],\"title\":{\"id\":\"1004\"},\"toolbar\":{\"id\":\"1029\"},\"width\":800,\"x_range\":{\"id\":\"1006\"},\"x_scale\":{\"id\":\"1010\"},\"y_range\":{\"id\":\"1008\"},\"y_scale\":{\"id\":\"1012\"}},\"id\":\"1003\",\"subtype\":\"Figure\",\"type\":\"Plot\"},{\"attributes\":{\"axis_label\":\"r (angstrom)\",\"coordinates\":null,\"formatter\":{\"id\":\"1047\"},\"group\":null,\"major_label_policy\":{\"id\":\"1048\"},\"ticker\":{\"id\":\"1015\"}},\"id\":\"1014\",\"type\":\"LinearAxis\"},{\"attributes\":{\"source\":{\"id\":\"1036\"}},\"id\":\"1041\",\"type\":\"CDSView\"},{\"attributes\":{},\"id\":\"1044\",\"type\":\"BasicTickFormatter\"},{\"attributes\":{\"label\":{\"value\":\"Ni\"},\"renderers\":[{\"id\":\"1040\"}]},\"id\":\"1053\",\"type\":\"LegendItem\"},{\"attributes\":{},\"id\":\"1027\",\"type\":\"HelpTool\"},{\"attributes\":{},\"id\":\"1048\",\"type\":\"AllLabels\"},{\"attributes\":{\"coordinates\":null,\"group\":null,\"text\":\"Diatom energy scan for 1999--Mishin-Y--Ni--LAMMPS--ipr1\"},\"id\":\"1004\",\"type\":\"Title\"},{\"attributes\":{\"line_alpha\":0.1,\"line_color\":\"#1f77b4\",\"line_width\":2,\"x\":{\"field\":\"x\"},\"y\":{\"field\":\"y\"}},\"id\":\"1038\",\"type\":\"Line\"},{\"attributes\":{\"axis\":{\"id\":\"1014\"},\"coordinates\":null,\"group\":null,\"ticker\":null},\"id\":\"1017\",\"type\":\"Grid\"},{\"attributes\":{\"bottom_units\":\"screen\",\"coordinates\":null,\"fill_alpha\":0.5,\"fill_color\":\"lightgrey\",\"group\":null,\"left_units\":\"screen\",\"level\":\"overlay\",\"line_alpha\":1.0,\"line_color\":\"black\",\"line_dash\":[4,4],\"line_width\":2,\"right_units\":\"screen\",\"syncable\":false,\"top_units\":\"screen\"},\"id\":\"1028\",\"type\":\"BoxAnnotation\"},{\"attributes\":{\"end\":6.0,\"start\":0.02},\"id\":\"1006\",\"type\":\"Range1d\"},{\"attributes\":{},\"id\":\"1045\",\"type\":\"AllLabels\"},{\"attributes\":{\"tools\":[{\"id\":\"1022\"},{\"id\":\"1023\"},{\"id\":\"1024\"},{\"id\":\"1025\"},{\"id\":\"1026\"},{\"id\":\"1027\"}]},\"id\":\"1029\",\"type\":\"Toolbar\"},{\"attributes\":{\"line_alpha\":0.2,\"line_color\":\"#1f77b4\",\"line_width\":2,\"x\":{\"field\":\"x\"},\"y\":{\"field\":\"y\"}},\"id\":\"1039\",\"type\":\"Line\"},{\"attributes\":{},\"id\":\"1012\",\"type\":\"LinearScale\"},{\"attributes\":{},\"id\":\"1010\",\"type\":\"LinearScale\"},{\"attributes\":{\"end\":0,\"start\":-1},\"id\":\"1008\",\"type\":\"Range1d\"},{\"attributes\":{},\"id\":\"1049\",\"type\":\"UnionRenderers\"},{\"attributes\":{},\"id\":\"1050\",\"type\":\"Selection\"},{\"attributes\":{\"line_color\":\"#1f77b4\",\"line_width\":2,\"x\":{\"field\":\"x\"},\"y\":{\"field\":\"y\"}},\"id\":\"1037\",\"type\":\"Line\"},{\"attributes\":{\"axis\":{\"id\":\"1018\"},\"coordinates\":null,\"dimension\":1,\"group\":null,\"ticker\":null},\"id\":\"1021\",\"type\":\"Grid\"},{\"attributes\":{},\"id\":\"1026\",\"type\":\"ResetTool\"},{\"attributes\":{},\"id\":\"1023\",\"type\":\"WheelZoomTool\"},{\"attributes\":{\"axis_label\":\"Cohesive Energy (eV/atom)\",\"coordinates\":null,\"formatter\":{\"id\":\"1044\"},\"group\":null,\"major_label_policy\":{\"id\":\"1045\"},\"ticker\":{\"id\":\"1019\"}},\"id\":\"1018\",\"type\":\"LinearAxis\"},{\"attributes\":{},\"id\":\"1019\",\"type\":\"BasicTicker\"},{\"attributes\":{},\"id\":\"1047\",\"type\":\"BasicTickFormatter\"},{\"attributes\":{\"coordinates\":null,\"group\":null,\"items\":[{\"id\":\"1053\"}],\"location\":\"bottom_right\"},\"id\":\"1052\",\"type\":\"Legend\"},{\"attributes\":{},\"id\":\"1025\",\"type\":\"SaveTool\"},{\"attributes\":{\"data\":{\"x\":{\"__ndarray__\":\"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\",\"dtype\":\"float64\",\"order\":\"little\",\"shape\":[300]},\"y\":{\"__ndarray__\":\"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\",\"dtype\":\"float64\",\"order\":\"little\",\"shape\":[300]}},\"selected\":{\"id\":\"1050\"},\"selection_policy\":{\"id\":\"1049\"}},\"id\":\"1036\",\"type\":\"ColumnDataSource\"},{\"attributes\":{\"overlay\":{\"id\":\"1028\"}},\"id\":\"1024\",\"type\":\"BoxZoomTool\"},{\"attributes\":{},\"id\":\"1015\",\"type\":\"BasicTicker\"},{\"attributes\":{\"coordinates\":null,\"data_source\":{\"id\":\"1036\"},\"glyph\":{\"id\":\"1037\"},\"group\":null,\"hover_glyph\":null,\"muted_glyph\":{\"id\":\"1039\"},\"nonselection_glyph\":{\"id\":\"1038\"},\"view\":{\"id\":\"1041\"}},\"id\":\"1040\",\"type\":\"GlyphRenderer\"},{\"attributes\":{},\"id\":\"1022\",\"type\":\"PanTool\"}],\"root_ids\":[\"1003\"]},\"title\":\"Bokeh Application\",\"version\":\"2.4.3\"}};\n",
       "  const render_items = [{\"docid\":\"e3bf1603-5398-412a-93c3-10c7a34f46ed\",\"root_ids\":[\"1003\"],\"roots\":{\"1003\":\"38c4c65c-8339-4f99-bf9c-7365eda221a5\"}}];\n",
       "  root.Bokeh.embed.embed_items_notebook(docs_json, render_items);\n",
       "  }\n",
       "  if (root.Bokeh !== undefined) {\n",
       "    embed_document(root);\n",
       "  } else {\n",
       "    let attempts = 0;\n",
       "    const timer = setInterval(function(root) {\n",
       "      if (root.Bokeh !== undefined) {\n",
       "        clearInterval(timer);\n",
       "        embed_document(root);\n",
       "      } else {\n",
       "        attempts++;\n",
       "        if (attempts > 100) {\n",
       "          clearInterval(timer);\n",
       "          console.log(\"Bokeh: ERROR: Unable to run BokehJS code because BokehJS library is missing\");\n",
       "        }\n",
       "      }\n",
       "    }, 10, root)\n",
       "  }\n",
       "})(window);"
      ],
      "application/vnd.bokehjs_exec.v0+json": ""
     },
     "metadata": {
      "application/vnd.bokehjs_exec.v0+json": {
       "id": "1003"
      }
     },
     "output_type": "display_data"
    }
   ],
   "source": [
    "length_unit = 'angstrom'\n",
    "energy_unit = 'eV'\n",
    "\n",
    "energy = uc.get_in_units(results_dict['energy_values'], energy_unit)\n",
    "r = uc.get_in_units(results_dict['r_values'], length_unit)\n",
    "\n",
    "Emin = floor(energy.min())\n",
    "if Emin < -10: \n",
    "    Emin = -10\n",
    "    \n",
    "plot = figure(title = f'Diatom energy scan for {potential_name}',\n",
    "              plot_width = 800,\n",
    "              plot_height = 600,\n",
    "              x_range = [uc.get_in_units(rmin, 'angstrom'), uc.get_in_units(rmax, 'angstrom')],\n",
    "              y_range = [Emin, 0],              \n",
    "              x_axis_label=f'r ({length_unit})', \n",
    "              y_axis_label=f'Cohesive Energy ({energy_unit}/atom)')\n",
    "\n",
    "plot.line(r, energy, line_width = 2, legend_label = symbols)            \n",
    "plot.legend.location = \"bottom_right\"    \n",
    "\n",
    "show(plot)"
   ]
  },
  {
   "cell_type": "markdown",
   "metadata": {},
   "source": [
    "  "
   ]
  }
 ],
 "metadata": {
  "kernelspec": {
   "display_name": "Python 3 (ipykernel)",
   "language": "python",
   "name": "python3"
  },
  "language_info": {
   "codemirror_mode": {
    "name": "ipython",
    "version": 3
   },
   "file_extension": ".py",
   "mimetype": "text/x-python",
   "name": "python",
   "nbconvert_exporter": "python",
   "pygments_lexer": "ipython3",
   "version": "3.7.10"
  }
 },
 "nbformat": 4,
 "nbformat_minor": 2
}
