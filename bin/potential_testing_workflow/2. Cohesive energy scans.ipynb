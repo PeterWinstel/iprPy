{
 "cells": [
  {
   "cell_type": "markdown",
   "metadata": {},
   "source": [
    "# Cohesive energy scans\n",
    "This Notebook follows the workflow for setting up, running, and processing the E_vs_r_scan calculations.\n",
    "\n",
    "**Quick Notes:**\n",
    "\n",
    "- All input scripts take key-value pairs where the \"key\"s correspond to the calculation's input parameters.\n",
    "\n",
    "- Multiple calculations are prepared by specifying multiple values for the same key (on separate lines).\n",
    "\n",
    "- The special \"buildcombos\" key accesses predefined functions for generating lists of input parameter values for certain sets of keys.  See documentation for more details."
   ]
  },
  {
   "cell_type": "markdown",
   "metadata": {},
   "source": [
    "__Global workflow details:__\n",
    "\n",
    "This Notebook should be executed prior to \"3. Crystal relaxation\" to generate initial guesses for stable crystal structures."
   ]
  },
  {
   "cell_type": "markdown",
   "metadata": {},
   "source": [
    "**Library imports**"
   ]
  },
  {
   "cell_type": "code",
   "execution_count": 1,
   "metadata": {},
   "outputs": [
    {
     "name": "stdout",
     "output_type": "stream",
     "text": [
      "iprPy version 0.8.3\n"
     ]
    }
   ],
   "source": [
    "# Standard Python libraries\n",
    "from __future__ import (absolute_import, print_function,\n",
    "                        division, unicode_literals)\n",
    "import os\n",
    "from copy import deepcopy\n",
    "from datetime import date\n",
    "from math import floor\n",
    "\n",
    "# http://www.numpy.org/\n",
    "import numpy as np\n",
    "\n",
    "# https://pandas.pydata.org/\n",
    "import pandas as pd\n",
    "\n",
    "# https://bokeh.pydata.org/\n",
    "import bokeh\n",
    "import bokeh.plotting\n",
    "import bokeh.resources\n",
    "import bokeh.io\n",
    "import bokeh.models\n",
    "\n",
    "from DataModelDict import DataModelDict as DM\n",
    "\n",
    "# https://github.com/usnistgov/atomman\n",
    "import atomman.unitconvert as uc\n",
    "\n",
    "# https://github.com/usnistgov/iprPy\n",
    "import iprPy\n",
    "print('iprPy version', iprPy.__version__)"
   ]
  },
  {
   "cell_type": "markdown",
   "metadata": {},
   "source": [
    "## 0. Access database "
   ]
  },
  {
   "cell_type": "markdown",
   "metadata": {},
   "source": [
    "### Load database"
   ]
  },
  {
   "cell_type": "code",
   "execution_count": 2,
   "metadata": {},
   "outputs": [],
   "source": [
    "database = iprPy.load_database('potential_testing')"
   ]
  },
  {
   "cell_type": "markdown",
   "metadata": {},
   "source": [
    "## 1. Run E_vs_r_scan calculations\n",
    "\n",
    "This calculation performs a cohesive energy versus interatomic spacing scan using ideal atomic positions and b/a and c/a ratios to identify possible low energy crystal structures."
   ]
  },
  {
   "cell_type": "code",
   "execution_count": 3,
   "metadata": {},
   "outputs": [],
   "source": [
    "calculation = iprPy.load_calculation('E_vs_r_scan')\n",
    "run_directory = iprPy.load_run_directory('potential_testing_1')"
   ]
  },
  {
   "cell_type": "markdown",
   "metadata": {},
   "source": [
    "### Show calculation's allowed keys\n",
    "\n",
    "These are the keys that the input script will accept."
   ]
  },
  {
   "cell_type": "code",
   "execution_count": 4,
   "metadata": {},
   "outputs": [
    {
     "name": "stdout",
     "output_type": "stream",
     "text": [
      "['lammps_command', 'mpi_command', 'length_unit', 'pressure_unit', 'energy_unit', 'force_unit', 'potential_file', 'potential_content', 'potential_dir', 'load_file', 'load_content', 'load_style', 'family', 'load_options', 'symbols', 'box_parameters', 'a_uvw', 'b_uvw', 'c_uvw', 'atomshift', 'sizemults', 'minimum_r', 'maximum_r', 'number_of_steps_r']\n"
     ]
    }
   ],
   "source": [
    "print(calculation.allkeys)"
   ]
  },
  {
   "cell_type": "markdown",
   "metadata": {},
   "source": [
    "### Write input script"
   ]
  },
  {
   "cell_type": "markdown",
   "metadata": {},
   "source": [
    "Script for other pair_styles"
   ]
  },
  {
   "cell_type": "code",
   "execution_count": 13,
   "metadata": {},
   "outputs": [],
   "source": [
    "input_script = \"\"\"\n",
    "# Commands and executables\n",
    "lammps_command              lmp_mpi\n",
    "mpi_command                 \n",
    "\n",
    "# Build load information based on prototype records\n",
    "buildcombos                 crystalprototype load_file prototype\n",
    "\n",
    "# Specify prototype buildcombos limiters (only build for potential listed)\n",
    "prototype_potential_record  potential_users_LAMMPS\n",
    "prototype_potential_currentIPR  false\n",
    "\n",
    "# System manipulations\n",
    "a_uvw                      \n",
    "b_uvw                      \n",
    "c_uvw                  \n",
    "atomshift                   \n",
    "sizemults                   10 10 10\n",
    "\n",
    "# Units that input/output values are in\n",
    "length_unit                 \n",
    "pressure_unit               \n",
    "energy_unit                 \n",
    "force_unit                  \n",
    "\n",
    "# Run parameters\n",
    "minimum_r                   0.5\n",
    "maximum_r                   6.0\n",
    "number_of_steps_r           276  \n",
    "\"\"\"\n",
    "with open('input_script.in', 'w') as f:\n",
    "    f.write(input_script)"
   ]
  },
  {
   "cell_type": "markdown",
   "metadata": {},
   "source": [
    "### Prepare calculations"
   ]
  },
  {
   "cell_type": "code",
   "execution_count": 14,
   "metadata": {},
   "outputs": [],
   "source": [
    "with open('input_script.in') as f:\n",
    "    input_dict = iprPy.input.parse(f, singularkeys=calculation.singularkeys)\n",
    "    \n",
    "database.prepare(run_directory, calculation, **input_dict)"
   ]
  },
  {
   "cell_type": "code",
   "execution_count": 15,
   "metadata": {},
   "outputs": [
    {
     "name": "stdout",
     "output_type": "stream",
     "text": [
      "In database style local at C:\\Users\\lmh1\\Documents\\calculations\\ipr\\potential_testing :\n",
      "- 10 of style calculation_E_vs_r_scan\n",
      " - 0 are complete\n",
      " - 10 still to run\n",
      " - 0 issued errors\n"
     ]
    }
   ],
   "source": [
    "database.check_records(calculation.record_style)"
   ]
  },
  {
   "cell_type": "markdown",
   "metadata": {},
   "source": [
    "### Run calculations"
   ]
  },
  {
   "cell_type": "code",
   "execution_count": 16,
   "metadata": {},
   "outputs": [
    {
     "name": "stdout",
     "output_type": "stream",
     "text": [
      "Runner started with pid 11580\n",
      "No simulations left to run\n"
     ]
    }
   ],
   "source": [
    "database.runner(run_directory)"
   ]
  },
  {
   "cell_type": "code",
   "execution_count": 17,
   "metadata": {},
   "outputs": [
    {
     "name": "stdout",
     "output_type": "stream",
     "text": [
      "0 calculations issued errors:\n"
     ]
    }
   ],
   "source": [
    "results_df = database.get_records_df(style=calculation.record_style)\n",
    "error_df = results_df[results_df.status=='error']\n",
    "print(len(error_df), 'calculations issued errors:')\n",
    "for error in np.unique(error_df.error):\n",
    "    print(error)"
   ]
  },
  {
   "cell_type": "markdown",
   "metadata": {},
   "source": [
    "## 2. Calculation analysis"
   ]
  },
  {
   "cell_type": "code",
   "execution_count": 18,
   "metadata": {},
   "outputs": [],
   "source": [
    "# Settings\n",
    "#outputpath = 'C:/Users/lmh1/Documents/website/calc_content'\n",
    "outputpath = 'C:/Users/lmh1/Documents/potential_testing_results'\n",
    "resources = bokeh.resources.Resources(mode='cdn')"
   ]
  },
  {
   "cell_type": "markdown",
   "metadata": {},
   "source": [
    "### Retrieve finished calculation results"
   ]
  },
  {
   "cell_type": "code",
   "execution_count": 24,
   "metadata": {},
   "outputs": [],
   "source": [
    "records = database.get_records_df(style='calculation_E_vs_r_scan', full=True, flat=False, status='finished')\n",
    "pot_records = database.get_records_df(style='potential_users_LAMMPS')"
   ]
  },
  {
   "cell_type": "markdown",
   "metadata": {},
   "source": [
    "### Identify compositions"
   ]
  },
  {
   "cell_type": "code",
   "execution_count": 25,
   "metadata": {},
   "outputs": [],
   "source": [
    "iprPy.analysis.assign_composition(records, database)"
   ]
  },
  {
   "cell_type": "markdown",
   "metadata": {},
   "source": [
    "### Define table generation function"
   ]
  },
  {
   "cell_type": "code",
   "execution_count": 26,
   "metadata": {},
   "outputs": [],
   "source": [
    "def EvsRtable(df, potential, implementation, composition):\n",
    "    table = '\\n'.join(['# Cohesive energy (eV) vs. nearest neighbor radial distance (Angstrom).',\n",
    "                       '# potential = ' + potential,\n",
    "                       '# implementation = ' + implementation,\n",
    "                       '# composition = ' + composition,\n",
    "                       '# NOTE: These values are for static, unrelaxed structures and use the ideal',\n",
    "                       '# b/a and c/a ratios for the crystal structure, not the potential-specific',\n",
    "                       '# values.',\n",
    "                       '',\n",
    "                       '# Calculations from the NIST Interatomic Potential Repository Project:',\n",
    "                       '# http://www.ctcms.nist.gov/potentials/',\n",
    "                       '',\n",
    "                       '# Table generated ' + str(date.today())])\n",
    "    \n",
    "    table += '\\n\\nr    '\n",
    "    for series in df.itertuples():\n",
    "        family = series.family\n",
    "        if len(family) > 16: \n",
    "            family = family[:16]\n",
    "        table += '%-16s ' %family\n",
    "    table += '\\n'\n",
    "    \n",
    "    rvalues = df.iloc[0].e_vs_r_plot.r.values\n",
    "    for i in range(len(rvalues)):\n",
    "        table += '%-4.2f ' % rvalues[i]\n",
    "        for series in df.itertuples():\n",
    "            table += '% -16.9e ' % series.e_vs_r_plot.E_coh.values[i]\n",
    "        table += '\\n'\n",
    "    \n",
    "    return table              "
   ]
  },
  {
   "cell_type": "markdown",
   "metadata": {},
   "source": [
    "### Define plot generation function"
   ]
  },
  {
   "cell_type": "code",
   "execution_count": 27,
   "metadata": {},
   "outputs": [],
   "source": [
    "def get_lineformats():\n",
    "    lineformats = []\n",
    "\n",
    "    lineformats.append({'family':'A1--Cu--fcc',                'color':'black',   'line':'solid'})\n",
    "    lineformats.append({'family':'A2--W--bcc',                 'color':'blue',    'line':'solid'})\n",
    "    lineformats.append({'family':'A3--Mg--hcp',                'color':'red',     'line':'dashed'})\n",
    "    lineformats.append({'family':'A3\\'--alpha-La--double-hcp', 'color':'cyan',    'line':'dashdot'})\n",
    "    lineformats.append({'family':'A4--C--dc',                  'color':'magenta', 'line':'solid'})\n",
    "    lineformats.append({'family':'A5--beta-Sn',                'color':'#EAC117', 'line':'solid'})\n",
    "    lineformats.append({'family':'A6--In--bct',                'color':'orange',  'line':'solid'})\n",
    "    lineformats.append({'family':'A7--alpha-As',               'color':'gray',    'line':'solid'})\n",
    "    lineformats.append({'family':'A15--beta-W',                'color':'green',   'line':'solid'})\n",
    "    lineformats.append({'family':'Ah--alpha-Po--sc',           'color':'brown',   'line':'solid'})\n",
    "\n",
    "    lineformats.append({'family':'B1--NaCl--rock-salt',        'color':'black',   'line':'solid'})\n",
    "    lineformats.append({'family':'B2--CsCl',                   'color':'blue',    'line':'solid'})\n",
    "    lineformats.append({'family':'B3--ZnS--cubic-zinc-blende', 'color':'red',     'line':'solid'})\n",
    "    lineformats.append({'family':'L1_0--AuCu',                 'color':'cyan',    'line':'solid'})\n",
    "\n",
    "    lineformats.append({'family':'C1--CaF2--fluorite',         'color':'black',   'line':'solid'})\n",
    "\n",
    "    lineformats.append({'family':'A15--Cr3Si',                 'color':'black',   'line':'solid'})\n",
    "    lineformats.append({'family':'D0_3--BiF3',                 'color':'blue',    'line':'solid'})\n",
    "    lineformats.append({'family':'L1_2--AuCu3',                'color':'red',     'line':'solid'})\n",
    "\n",
    "    lineformats.append({'family':'L2_1--AlCu2Mn--heusler',     'color':'black',   'line':'solid'})\n",
    "    return pd.DataFrame(lineformats)    \n",
    "\n",
    "def EvsRplot(df, potential, implementation, composition):\n",
    "    \"\"\"Generate a Bokeh plot from the data\"\"\"\n",
    "    \n",
    "    lineformats = get_lineformats()\n",
    "    \n",
    "    # Initialize plot\n",
    "    title = 'Cohesive Energy vs. Interatomic Spacing for %s Using %s' %(composition, implementation)\n",
    "    p = bokeh.plotting.figure(title = title,\n",
    "                              plot_width = 800,\n",
    "                              plot_height = 600,\n",
    "                              x_range = [1, 6],\n",
    "                              y_range = [-10, 1],              \n",
    "                              x_axis_label='r (Angstrom)', \n",
    "                              y_axis_label='Cohesive Energy (eV/atom)')\n",
    "    \n",
    "    # Get r values\n",
    "    rvalues = df.iloc[0].e_vs_r_plot.r.values    \n",
    "    \n",
    "    # Loop over cohesive energies\n",
    "    lowylim = -1\n",
    "    for series in df.itertuples():\n",
    "        family = series.family\n",
    "        Evalues = deepcopy(series.e_vs_r_plot.E_coh.values)\n",
    "        Evalues[np.abs(np.nan_to_num(Evalues)) > 1e5] = np.nan\n",
    "        \n",
    "        lineformat = lineformats[lineformats.family==family].iloc[0]\n",
    "        \n",
    "        # Adjust lowylim if needed\n",
    "        if not np.all(np.isnan(Evalues)):\n",
    "            lowy = floor(np.nanmin(Evalues))\n",
    "            if lowy < lowylim:\n",
    "                lowylim = lowy\n",
    "        \n",
    "            # Define plot line\n",
    "            l = p.line(rvalues, Evalues, legend=family, \n",
    "                       line_color=lineformat.color, line_dash=lineformat.line, line_width = 2)  \n",
    "\n",
    "            p.add_tools(bokeh.models.HoverTool(renderers=[l],\n",
    "                                               tooltips=[(\"prototype\", family),\n",
    "                                                         (\"r (Angstrom)\", \"$x\"),\n",
    "                                                         (\"E_coh (eV)\", \"$y\")]))\n",
    "    \n",
    "    if lowylim > -10:\n",
    "        p.y_range = bokeh.models.Range1d(lowylim, 1)\n",
    "    \n",
    "    p.legend.location = \"bottom_right\"    \n",
    "    return p  "
   ]
  },
  {
   "cell_type": "markdown",
   "metadata": {},
   "source": [
    "### Create tables and plots"
   ]
  },
  {
   "cell_type": "code",
   "execution_count": 28,
   "metadata": {},
   "outputs": [
    {
     "name": "stdout",
     "output_type": "stream",
     "text": [
      "1999--Mishin-Y--Al--LAMMPS--testing1 Done\n"
     ]
    }
   ],
   "source": [
    "runall = True\n",
    "for implememtation_key in np.unique(records.potential_LAMMPS_key):\n",
    "    imp_records = records[records.potential_LAMMPS_key == implememtation_key]\n",
    "    pot_record = pot_records[pot_records.key == implememtation_key].iloc[0]\n",
    "    implementation = pot_record.id\n",
    "    potential = pot_record.pot_id\n",
    "    contentpath = os.path.join(outputpath, potential, implementation)\n",
    "    \n",
    "    print(implementation, end=' ')\n",
    "    \n",
    "    if not os.path.isdir(contentpath):\n",
    "        os.makedirs(contentpath)\n",
    "        isnew = True\n",
    "    else:\n",
    "        isnew = False\n",
    "    \n",
    "    if runall is True or isnew is True:\n",
    "        for composition in np.unique(imp_records.composition):\n",
    "            comp_records = imp_records[imp_records.composition == composition].sort_values('family')\n",
    "            fstem = 'EvsR.' + composition\n",
    "\n",
    "            table = EvsRtable(comp_records, potential, implementation, composition)\n",
    "            with open(os.path.join(contentpath, fstem + '.txt'), 'w') as f:\n",
    "                f.write(table)\n",
    "\n",
    "            # Build EvsR plot\n",
    "            plot = EvsRplot(comp_records, potential, implementation, composition)\n",
    "            bokeh.io.save(plot, os.path.join(contentpath, fstem + '.html'),\n",
    "                          resources=resources, title='Interatomic Potentials Repository Project')\n",
    "            bokeh.io.export_png(plot, os.path.join(contentpath, fstem + '.png'))\n",
    "            bokeh.io.reset_output()\n",
    "            \n",
    "    print('Done')"
   ]
  },
  {
   "cell_type": "markdown",
   "metadata": {},
   "source": [
    "### Add info to PotentialProperties records\n",
    "\n",
    "This is for generating XML records that the Interatomic Potential Repository uses to automatically build webcontent (done elsewhere)."
   ]
  },
  {
   "cell_type": "code",
   "execution_count": 29,
   "metadata": {},
   "outputs": [],
   "source": [
    "# Add calculation data to PotentialProperties records\n",
    "for implememtation_key in np.unique(records.potential_LAMMPS_key):\n",
    "    imp_records = records[records.potential_LAMMPS_key == implememtation_key].sort_values('family')\n",
    "    pot_record = pot_records[pot_records.key == implememtation_key].iloc[0]\n",
    "    implementation_id = pot_record.id\n",
    "    potential_id = pot_record.pot_id\n",
    "    potential_key = pot_record.pot_key\n",
    "    \n",
    "    record_name = 'properties.' + implementation_id\n",
    "    try:\n",
    "        record = database.get_record(name=record_name, style='PotentialProperties')\n",
    "    except:\n",
    "        new = True\n",
    "        content = DM()\n",
    "        content['per-potential-properties'] = DM()\n",
    "        content['per-potential-properties']['potential'] = DM()\n",
    "        content['per-potential-properties']['potential']['key'] = potential_key\n",
    "        content['per-potential-properties']['potential']['id'] = potential_id\n",
    "        content['per-potential-properties']['implementation'] = DM()\n",
    "        content['per-potential-properties']['implementation']['key'] = implememtation_key\n",
    "        content['per-potential-properties']['implementation']['id'] = implementation_id\n",
    "    else:\n",
    "        content = DM(record.content)\n",
    "        new = False\n",
    "    \n",
    "    content['per-potential-properties']['cohesive-energy-scan'] = DM()\n",
    "    for composition in np.unique(imp_records.composition):\n",
    "        content['per-potential-properties']['cohesive-energy-scan'].append('composition', composition)\n",
    "    \n",
    "    if new:\n",
    "        database.add_record(name=record_name, style='PotentialProperties', content=content.xml())\n",
    "    else:\n",
    "        database.update_record(record=record, content=content.xml())"
   ]
  },
  {
   "cell_type": "code",
   "execution_count": null,
   "metadata": {},
   "outputs": [],
   "source": []
  }
 ],
 "metadata": {
  "kernelspec": {
   "display_name": "Python 3",
   "language": "python",
   "name": "python3"
  },
  "language_info": {
   "codemirror_mode": {
    "name": "ipython",
    "version": 3
   },
   "file_extension": ".py",
   "mimetype": "text/x-python",
   "name": "python",
   "nbconvert_exporter": "python",
   "pygments_lexer": "ipython3",
   "version": "3.6.4"
  }
 },
 "nbformat": 4,
 "nbformat_minor": 2
}
