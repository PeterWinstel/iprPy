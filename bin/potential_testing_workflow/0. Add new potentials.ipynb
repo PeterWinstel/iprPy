{
 "cells": [
  {
   "cell_type": "markdown",
   "metadata": {},
   "source": [
    "# Add new potentials\n",
    "\n",
    "This Notebook is designed to facilitate the easy integration of new potentials into the calculation framework. The basic outline of steps is:\n",
    "\n",
    "1. Generate a record for the potential and test that it works properly.\n",
    "\n",
    "2. Save the record and any associated parameter files to the library directory.\n",
    "\n",
    "3. Upload the new potential(s) to pre-defined iprPy databases."
   ]
  },
  {
   "cell_type": "markdown",
   "metadata": {},
   "source": [
    "__Library imports__"
   ]
  },
  {
   "cell_type": "code",
   "execution_count": 1,
   "metadata": {},
   "outputs": [],
   "source": [
    "# Standard Python libraries\n",
    "import os\n",
    "\n",
    "# https://github.com/usnistgov/DataModelDict\n",
    "from DataModelDict import DataModelDict as DM\n",
    "\n",
    "# https://github.com/usnistgov/atomman\n",
    "import atomman.lammps as lmp\n",
    "\n",
    "# https://github.com/usnistgov/iprPy\n",
    "import iprPy"
   ]
  },
  {
   "cell_type": "markdown",
   "metadata": {},
   "source": [
    "## 1. Generate new potential record\n",
    "\n",
    "The iprPy.tools.generate_potential_record() function will build the content for a potential record based on a few necessary inputs.  Examples are shown here for a few different pair_styles.  Not all pair_styles supported yet by the generation function.\n",
    "\n",
    "Any \"accelerated\" pair_style should use the associated non-accelerated format, i.e. ignore '/gpu', '/intel', '/kk', '/omp', '/opt'.\n",
    "\n",
    "Common Parameters\n",
    "\n",
    "- **id** (*str*) Unique id to refer to the potential implementation (i.e. version).\n",
    "\n",
    "- **key** (*str, optional*) UUID key for the potential implementation.  If not given, a new UUID4 will be generated.\n",
    "\n",
    "- **pot_id** (*str, optional*) Unique id to refer to the potential concept (i.e. mathematical model).  If not given, will be based on id.\n",
    "\n",
    "- **pot_key** (*str, optional*) UUID key for the potential concept.  If not given, a new UUID4 will be generated.\n",
    "\n",
    "- **units** (*str, optional*) LAMMPS units option.  Default value is 'metal'.\n",
    "\n",
    "- **atom_style** (*str, optional*) LAMMPS atom_style option.  Default value is 'atomic'.\n",
    "\n",
    "- **pair_style** (*str*) LAMMPS pair_style option.\n",
    "\n",
    "- **pair_style_terms** (*list*) List of any other terms that should be included in the LAMMPS pair_style command line.\n",
    "\n",
    "- **elements** (*str or list, optional*) List of element tags associated with each atomic model in the potential.\n",
    "\n",
    "- **masses** (*float or list, optional*) List of elemental masses associated with each atomic model in the potential.  Should be given if the potential itself specifies the mass to use.  Note that missing masses will be assigned standard elemental values when the record is loaded by atomman.lammps.Potential.\n",
    "\n",
    "- **symbols** (*str or list, optional*) List of identifying symbols associated with each atomic model in the potential.  Only required when the element tags differ from the model identifiers. "
   ]
  },
  {
   "cell_type": "markdown",
   "metadata": {},
   "source": [
    "### 1.1. Potentials with a single parameter file\n",
    "\n",
    "For pair_styles 'adp', 'agni', 'airebo', 'airebo/morse', 'rebo', 'bop', 'comb', 'comb3', 'eam/alloy', 'eam/cd',  'eam/fs', 'edip', 'edip/multi', 'extep', 'gw', 'gw/zbl', 'lcbop', 'meam/spline', 'meam/sw/spline', 'nb3b/harmonic', 'polymorphic', 'reax', 'reax/c', 'smtbq', 'sw', 'table', 'table/rx', 'tersoff', 'tersoff/table', 'tersoff/mod', 'tersoff/mod/c', 'tersoff/zbl', 'vashishta' and 'vashishta/table'\n",
    "\n",
    "Format-Specific Parameters\n",
    "\n",
    "- **paramfile** (*str*) The filename for the potential's parameter file."
   ]
  },
  {
   "cell_type": "code",
   "execution_count": 2,
   "metadata": {},
   "outputs": [],
   "source": [
    "kwargs = {}\n",
    "kwargs['id'] = '1999--Mishin-Y--Al--LAMMPS--testing1'\n",
    "\n",
    "kwargs['elements'] = ['Al']\n",
    "kwargs['masses'] = [26.982]\n",
    "\n",
    "kwargs['pair_style'] = 'eam/alloy'\n",
    "kwargs['paramfile'] = 'Al99.eam.alloy'\n",
    "\n",
    "content = iprPy.tools.generate_potential_record(**kwargs)"
   ]
  },
  {
   "cell_type": "markdown",
   "metadata": {},
   "source": [
    "### 1.2 Potentials with library (and param) file(s)\n",
    "\n",
    "For pair_styles 'meam', 'meam/c', 'snap'\n",
    "\n",
    "Format-Specific Parameters\n",
    "\n",
    "- **libfile** (*str*) The filename for the potential's library file.\n",
    "\n",
    "- **paramfile** (*str, optional*) The filename for the potential's parameter file, if it has one."
   ]
  },
  {
   "cell_type": "code",
   "execution_count": null,
   "metadata": {},
   "outputs": [],
   "source": [
    "kwargs = {}\n",
    "kwargs['id'] = 'Sn-MEAM-test1'\n",
    "\n",
    "kwargs['elements'] = 'Sn'\n",
    "\n",
    "kwargs['pair_style'] = 'meam'\n",
    "kwargs['libfile'] = 'library.meam'\n",
    "kwargs['paramfile'] = 'Sn.meam'\n",
    "\n",
    "content = iprPy.tools.generate_potential_record(**kwargs)"
   ]
  },
  {
   "cell_type": "markdown",
   "metadata": {},
   "source": [
    "### 1.3 Original EAM potentials\n",
    "\n",
    "Only for pair_style 'eam'\n",
    "\n",
    "Format-Specific Parameters\n",
    "\n",
    "- **paramfiles** (*list, optional*) The filenames for the potential's parameter files correspodning to each included element model."
   ]
  },
  {
   "cell_type": "code",
   "execution_count": null,
   "metadata": {},
   "outputs": [],
   "source": [
    "kwargs = {}\n",
    "kwargs['id'] = 'Al-EAM-test1'\n",
    "\n",
    "kwargs['elements'] = ['Al']\n",
    "kwargs['masses'] = [26.982]\n",
    "\n",
    "kwargs['pair_style'] = 'eam'\n",
    "kwargs['paramfiles'] = ['Al_1.eam']\n",
    "\n",
    "\n",
    "content = iprPy.tools.generate_potential_record(**kwargs)"
   ]
  },
  {
   "cell_type": "markdown",
   "metadata": {},
   "source": [
    "### 1.4 Look at content"
   ]
  },
  {
   "cell_type": "code",
   "execution_count": 3,
   "metadata": {},
   "outputs": [
    {
     "name": "stdout",
     "output_type": "stream",
     "text": [
      "{\n",
      "    \"potential-LAMMPS\": {\n",
      "        \"key\": \"068f3dca-0e9f-4774-a420-63bcd9f53a04\", \n",
      "        \"id\": \"1999--Mishin-Y--Al--LAMMPS--testing1\", \n",
      "        \"potential\": {\n",
      "            \"key\": \"0886d7a5-80e5-4df3-814a-c3347388f954\", \n",
      "            \"id\": \"1999--Mishin-Y--Al\"\n",
      "        }, \n",
      "        \"units\": \"metal\", \n",
      "        \"atom_style\": \"atomic\", \n",
      "        \"atom\": {\n",
      "            \"element\": \"Al\", \n",
      "            \"mass\": 26.982\n",
      "        }, \n",
      "        \"pair_style\": {\n",
      "            \"type\": \"eam/alloy\"\n",
      "        }, \n",
      "        \"pair_coeff\": {\n",
      "            \"term\": [\n",
      "                {\n",
      "                    \"file\": \"Al99.eam.alloy\"\n",
      "                }, \n",
      "                {\n",
      "                    \"symbols\": \"True\"\n",
      "                }\n",
      "            ]\n",
      "        }\n",
      "    }\n",
      "}\n"
     ]
    }
   ],
   "source": [
    "print(content.json(indent=4))"
   ]
  },
  {
   "cell_type": "markdown",
   "metadata": {},
   "source": [
    "### 1.5 Test reading the content"
   ]
  },
  {
   "cell_type": "code",
   "execution_count": 4,
   "metadata": {},
   "outputs": [
    {
     "name": "stdout",
     "output_type": "stream",
     "text": [
      "1999--Mishin-Y--Al--LAMMPS--testing1\n",
      "1999--Mishin-Y--Al\n",
      "mass 1 26.982000\n",
      "\n",
      "pair_style eam/alloy\n",
      "pair_coeff * * Al99.eam.alloy Al\n",
      "\n"
     ]
    }
   ],
   "source": [
    "potential = lmp.Potential(content)\n",
    "print(potential.id)\n",
    "print(potential.potid)\n",
    "print(potential.pair_info())"
   ]
  },
  {
   "cell_type": "markdown",
   "metadata": {},
   "source": [
    "## 2. Save potential record\n",
    "\n",
    "The iprPy.tools.save_potential_record() function saves a potential record to the library directory so that iprPy databases can upload it later.\n",
    "\n",
    "Parameters\n",
    "    \n",
    "- **content** (*str or DataModelDict.DataModelDict*) The record content to save to the library directory.  Can be xml/json content, path to an xml/json file, or a DataModelDict.\n",
    "\n",
    "- **files** (*str or list, optional*) The directory path(s) to the parameter file(s) that the potential uses.\n",
    "\n",
    "- **lib_directory** (*str, optional*) The directory path for the library.  If not given, then it will use the iprPy/library directory.\n",
    "\n",
    "- **record_style** (*str, optional*) The record_style to save the record as.  Default value is 'potential_users_LAMMPS', which should be used for user-defined potentials.\n",
    "\n",
    "- **replace** (*bool, optional*) If False (Default), will raise an error if a record with the same title already exists in the library.  If True, any matching records will be overwritten."
   ]
  },
  {
   "cell_type": "code",
   "execution_count": 5,
   "metadata": {},
   "outputs": [
    {
     "ename": "ValueError",
     "evalue": "Record 1999--Mishin-Y--Al--LAMMPS--testing1 already exists",
     "output_type": "error",
     "traceback": [
      "\u001b[1;31m---------------------------------------------------------------------------\u001b[0m",
      "\u001b[1;31mValueError\u001b[0m                                Traceback (most recent call last)",
      "\u001b[1;32m<ipython-input-5-a32ae3eeb801>\u001b[0m in \u001b[0;36m<module>\u001b[1;34m()\u001b[0m\n\u001b[0;32m      1\u001b[0m \u001b[0mfiles\u001b[0m \u001b[1;33m=\u001b[0m \u001b[1;33m[\u001b[0m\u001b[1;34m'Al99.eam.alloy'\u001b[0m\u001b[1;33m]\u001b[0m\u001b[1;33m\u001b[0m\u001b[0m\n\u001b[1;32m----> 2\u001b[1;33m \u001b[0miprPy\u001b[0m\u001b[1;33m.\u001b[0m\u001b[0mtools\u001b[0m\u001b[1;33m.\u001b[0m\u001b[0msave_potential_record\u001b[0m\u001b[1;33m(\u001b[0m\u001b[0mcontent\u001b[0m\u001b[1;33m,\u001b[0m \u001b[0mfiles\u001b[0m\u001b[1;33m=\u001b[0m\u001b[0mfiles\u001b[0m\u001b[1;33m)\u001b[0m\u001b[1;33m\u001b[0m\u001b[0m\n\u001b[0m",
      "\u001b[1;32mc:\\users\\lmh1\\documents\\python-packages\\iprpy\\iprPy\\tools\\save_potential_record.py\u001b[0m in \u001b[0;36msave_potential_record\u001b[1;34m(content, files, lib_directory, record_style, replace)\u001b[0m\n\u001b[0;32m     62\u001b[0m     \u001b[1;31m# Save record\u001b[0m\u001b[1;33m\u001b[0m\u001b[1;33m\u001b[0m\u001b[0m\n\u001b[0;32m     63\u001b[0m     \u001b[1;32mif\u001b[0m \u001b[0mreplace\u001b[0m \u001b[1;32mis\u001b[0m \u001b[1;32mFalse\u001b[0m \u001b[1;32mand\u001b[0m \u001b[0mos\u001b[0m\u001b[1;33m.\u001b[0m\u001b[0mpath\u001b[0m\u001b[1;33m.\u001b[0m\u001b[0misfile\u001b[0m\u001b[1;33m(\u001b[0m\u001b[0mfname\u001b[0m\u001b[1;33m)\u001b[0m\u001b[1;33m:\u001b[0m\u001b[1;33m\u001b[0m\u001b[0m\n\u001b[1;32m---> 64\u001b[1;33m         \u001b[1;32mraise\u001b[0m \u001b[0mValueError\u001b[0m\u001b[1;33m(\u001b[0m\u001b[1;34m'Record '\u001b[0m \u001b[1;33m+\u001b[0m \u001b[0mtitle\u001b[0m \u001b[1;33m+\u001b[0m \u001b[1;34m' already exists'\u001b[0m\u001b[1;33m)\u001b[0m\u001b[1;33m\u001b[0m\u001b[0m\n\u001b[0m\u001b[0;32m     65\u001b[0m     \u001b[1;32mwith\u001b[0m \u001b[0mopen\u001b[0m\u001b[1;33m(\u001b[0m\u001b[0mfname\u001b[0m\u001b[1;33m,\u001b[0m \u001b[1;34m'w'\u001b[0m\u001b[1;33m)\u001b[0m \u001b[1;32mas\u001b[0m \u001b[0mrecordfile\u001b[0m\u001b[1;33m:\u001b[0m\u001b[1;33m\u001b[0m\u001b[0m\n\u001b[0;32m     66\u001b[0m         \u001b[0mcontent\u001b[0m\u001b[1;33m.\u001b[0m\u001b[0mjson\u001b[0m\u001b[1;33m(\u001b[0m\u001b[0mfp\u001b[0m\u001b[1;33m=\u001b[0m\u001b[0mrecordfile\u001b[0m\u001b[1;33m,\u001b[0m \u001b[0mindent\u001b[0m\u001b[1;33m=\u001b[0m\u001b[1;36m4\u001b[0m\u001b[1;33m)\u001b[0m\u001b[1;33m\u001b[0m\u001b[0m\n",
      "\u001b[1;31mValueError\u001b[0m: Record 1999--Mishin-Y--Al--LAMMPS--testing1 already exists"
     ]
    }
   ],
   "source": [
    "files = ['Al99.eam.alloy']\n",
    "iprPy.tools.save_potential_record(content, files=files)"
   ]
  },
  {
   "cell_type": "markdown",
   "metadata": {},
   "source": [
    "## 3. Copy new potentials to a database\n",
    "\n",
    "Once saved into the library directory, the new potential(s) can be uploaded to a database using the build_refs() option. "
   ]
  },
  {
   "cell_type": "code",
   "execution_count": 6,
   "metadata": {},
   "outputs": [],
   "source": [
    "database = iprPy.load_database('potential_testing')"
   ]
  },
  {
   "cell_type": "code",
   "execution_count": 7,
   "metadata": {},
   "outputs": [],
   "source": [
    "#database.destroy_records('potential_users_LAMMPS')\n",
    "database.build_refs()"
   ]
  },
  {
   "cell_type": "code",
   "execution_count": 7,
   "metadata": {},
   "outputs": [
    {
     "name": "stdout",
     "output_type": "stream",
     "text": [
      "In database style local at C:\\Users\\lmh1\\Documents\\calculations\\ipr\\potential_testing :\n",
      "- 1 of style potential_users_LAMMPS\n"
     ]
    }
   ],
   "source": [
    "database.check_records('potential_users_LAMMPS')"
   ]
  }
 ],
 "metadata": {
  "kernelspec": {
   "display_name": "Python 3",
   "language": "python",
   "name": "python3"
  },
  "language_info": {
   "codemirror_mode": {
    "name": "ipython",
    "version": 3
   },
   "file_extension": ".py",
   "mimetype": "text/x-python",
   "name": "python",
   "nbconvert_exporter": "python",
   "pygments_lexer": "ipython3",
   "version": "3.6.4"
  }
 },
 "nbformat": 4,
 "nbformat_minor": 2
}
