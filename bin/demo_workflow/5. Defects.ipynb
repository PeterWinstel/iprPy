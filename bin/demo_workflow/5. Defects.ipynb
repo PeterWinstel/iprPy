{
 "cells": [
  {
   "cell_type": "markdown",
   "metadata": {},
   "source": [
    "# Defects\n",
    "\n",
    "# NEEDS UPDATING! \n",
    "\n",
    "# LIKELY TO BE SPLIT INTO SEPARATE NOTEBOOKS!"
   ]
  },
  {
   "cell_type": "markdown",
   "metadata": {},
   "source": [
    "**Library imports**"
   ]
  },
  {
   "cell_type": "code",
   "execution_count": 1,
   "metadata": {},
   "outputs": [
    {
     "name": "stdout",
     "output_type": "stream",
     "text": [
      "iprPy version 0.8.3\n"
     ]
    }
   ],
   "source": [
    "# Standard Python libraries\n",
    "from __future__ import (absolute_import, print_function,\n",
    "                        division, unicode_literals)\n",
    "\n",
    "# http://www.numpy.org/\n",
    "import numpy as np\n",
    "\n",
    "from IPython.core.display import display, HTML\n",
    "\n",
    "# https://pandas.pydata.org/\n",
    "import pandas as pd\n",
    "\n",
    "from DataModelDict import DataModelDict as DM\n",
    "\n",
    "# https://github.com/usnistgov/atomman\n",
    "import atomman.unitconvert as uc\n",
    "\n",
    "# https://github.com/usnistgov/iprPy\n",
    "import iprPy\n",
    "print('iprPy version', iprPy.__version__)"
   ]
  },
  {
   "cell_type": "markdown",
   "metadata": {},
   "source": [
    "## 0. Access database "
   ]
  },
  {
   "cell_type": "markdown",
   "metadata": {},
   "source": [
    "### Load database"
   ]
  },
  {
   "cell_type": "code",
   "execution_count": 2,
   "metadata": {},
   "outputs": [],
   "source": [
    "database = iprPy.load_database('demo')"
   ]
  },
  {
   "cell_type": "markdown",
   "metadata": {},
   "source": [
    "### Load unique crystals"
   ]
  },
  {
   "cell_type": "code",
   "execution_count": 3,
   "metadata": {},
   "outputs": [
    {
     "name": "stdout",
     "output_type": "stream",
     "text": [
      "44\n"
     ]
    }
   ],
   "source": [
    "unique_crystals = pd.read_csv('unique_crystals.csv')\n",
    "print(len(unique_crystals))"
   ]
  },
  {
   "cell_type": "markdown",
   "metadata": {},
   "source": [
    "### Specify prototype-composition delimiters"
   ]
  },
  {
   "cell_type": "code",
   "execution_count": 4,
   "metadata": {},
   "outputs": [],
   "source": [
    "proto_comps = {}\n",
    "proto_comps['A1--Cu--fcc'] = ['Ne', 'Al', 'AlS', 'Ar', 'Ca', 'Fe', 'FeS', 'Ni', 'Cu', 'CuS', \n",
    "                              'Kr', 'Sr', 'Rh', 'Pd', 'Ag', 'Xe', 'Ir', 'Pt', 'Au', 'Pb', \n",
    "                              'Ac', 'Ce', 'Yb', 'Th']\n",
    "proto_comps['A2--W--bcc'] = ['Li', 'Na', 'K', 'V', 'Cr', 'Fe', 'FeS', 'Rb', 'Nb', 'Mo', \n",
    "                             'Cs', 'Ba', 'Ta', 'W', 'Eu']\n",
    "proto_comps['A3--Mg--hcp'] = ['H', 'He', 'Be', 'Mg', 'MgS', 'Sc', 'Ti', 'Co', 'Zn', 'Y', \n",
    "                              'Zr', 'Tc', 'Ru', 'Cd', 'Hf', 'Re', 'Os' 'Tl', 'Gd', 'Tb', \n",
    "                              'Dy', 'Ho', 'Er', 'Tm', 'Lu']\n",
    "proto_comps['A4--C--dc'] = ['C', 'Si', 'SiS', 'Ge', 'Sn']"
   ]
  },
  {
   "cell_type": "markdown",
   "metadata": {},
   "source": [
    "### Find matching parents from unique crystals"
   ]
  },
  {
   "cell_type": "code",
   "execution_count": 5,
   "metadata": {},
   "outputs": [],
   "source": [
    "proto_parents = {}\n",
    "for prototype in proto_comps:\n",
    "    proto_parents[prototype] = unique_crystals[(unique_crystals.prototype == prototype)\n",
    "                                              &(unique_crystals.composition.isin(proto_comps[prototype]))].calc_key.tolist()"
   ]
  },
  {
   "cell_type": "code",
   "execution_count": 8,
   "metadata": {},
   "outputs": [
    {
     "name": "stdout",
     "output_type": "stream",
     "text": [
      "2 A1--Cu--fcc\n",
      "0 A2--W--bcc\n",
      "0 A3--Mg--hcp\n",
      "0 A4--C--dc\n"
     ]
    }
   ],
   "source": [
    "for prototype in proto_parents:\n",
    "    print(len(proto_parents[prototype]), prototype)"
   ]
  },
  {
   "cell_type": "markdown",
   "metadata": {},
   "source": [
    "## 1. surface_energy_static calculation"
   ]
  },
  {
   "cell_type": "code",
   "execution_count": 6,
   "metadata": {},
   "outputs": [],
   "source": [
    "calculation = iprPy.load_calculation('surface_energy_static')\n",
    "run_directory = iprPy.load_run_directory('demo_1')"
   ]
  },
  {
   "cell_type": "markdown",
   "metadata": {},
   "source": [
    "### Build input_dict"
   ]
  },
  {
   "cell_type": "code",
   "execution_count": 7,
   "metadata": {},
   "outputs": [
    {
     "name": "stdout",
     "output_type": "stream",
     "text": [
      "['lammps_command', 'mpi_command', 'length_unit', 'pressure_unit', 'energy_unit', 'force_unit', 'potential_file', 'potential_content', 'potential_dir', 'load_file', 'load_content', 'load_style', 'family', 'load_options', 'symbols', 'box_parameters', 'a_uvw', 'b_uvw', 'c_uvw', 'atomshift', 'sizemults', 'surface_file', 'surface_content', 'surface_family', 'surface_cutboxvector', 'energytolerance', 'forcetolerance', 'maxiterations', 'maxevaluations', 'maxatommotion']\n"
     ]
    }
   ],
   "source": [
    "print(calculation.allkeys)"
   ]
  },
  {
   "cell_type": "code",
   "execution_count": 8,
   "metadata": {},
   "outputs": [],
   "source": [
    "input_script = \"\"\"\n",
    "# Commands and executables\n",
    "lammps_command              lmp_mpi\n",
    "mpi_command                 \n",
    "\n",
    "# Build defect records\n",
    "buildcombos                 defect surface_file\n",
    "defect_record               free_surface\n",
    "\n",
    "# System manipulations\n",
    "a_uvw                      \n",
    "b_uvw                      \n",
    "c_uvw                 \n",
    "atomshift                   \n",
    "sizemults                   3 3 7\n",
    "\n",
    "# Units that input/output values are in\n",
    "length_unit                 \n",
    "pressure_unit               \n",
    "energy_unit                 \n",
    "force_unit                  \n",
    "\n",
    "# Run parameters\n",
    "energytolerance             \n",
    "forcetolerance              \n",
    "maxiterations               \n",
    "maxevaluations              \n",
    "maxatommotion               \n",
    "\"\"\"\n",
    "\n",
    "with open('input_script.in', 'w') as f:\n",
    "    f.write(input_script)"
   ]
  },
  {
   "cell_type": "code",
   "execution_count": 9,
   "metadata": {},
   "outputs": [],
   "source": [
    "# Parse input script\n",
    "with open('input_script.in') as f:\n",
    "    input_dict = iprPy.input.parse(f, singularkeys=calculation.singularkeys)\n",
    "\n",
    "input_dict = DM(input_dict)\n",
    "for prototype in proto_parents:\n",
    "    if len(proto_parents[prototype]) > 0:\n",
    "        input_dict.append('buildcombos', 'atomicarchive load_file ' + prototype)\n",
    "        input_dict[prototype + '_load_key'] = 'system-info'\n",
    "        input_dict[prototype + '_strainrange'] = '1e-7'\n",
    "        for parent in proto_parents[prototype]:\n",
    "            input_dict.append(prototype + '_load_file', parent + '.json')"
   ]
  },
  {
   "cell_type": "code",
   "execution_count": 10,
   "metadata": {},
   "outputs": [
    {
     "data": {
      "text/plain": [
       "DataModelDict([('lammps_command', 'lmp_mpi'),\n",
       "               ('buildcombos',\n",
       "                ['defect surface_file',\n",
       "                 'atomicarchive load_file A1--Cu--fcc']),\n",
       "               ('defect_record', 'free_surface'),\n",
       "               ('sizemults', '3 3 7'),\n",
       "               ('A1--Cu--fcc_load_key', 'system-info'),\n",
       "               ('A1--Cu--fcc_strainrange', '1e-7'),\n",
       "               ('A1--Cu--fcc_load_file',\n",
       "                ['3ba5fd68-696a-4543-944b-793db7b31f2d.json',\n",
       "                 '37e23240-e890-41ac-b103-f716235b586f.json'])])"
      ]
     },
     "execution_count": 10,
     "metadata": {},
     "output_type": "execute_result"
    }
   ],
   "source": [
    "input_dict"
   ]
  },
  {
   "cell_type": "code",
   "execution_count": 7,
   "metadata": {},
   "outputs": [],
   "source": [
    "input_dict = {}\n",
    "\n",
    "# Commands and executables\n",
    "input_dict['lammps_command'] = 'lmp_mpi'\n",
    "#input_dict['mpi_command'] =\n",
    "\n",
    "# Build load information based parent calculations using family-symbols sets\n",
    "input_dict['buildcombos'] = []\n",
    "for family in symbols:\n",
    "    input_dict['buildcombos'].append('atomicarchive2 load_file ' + family)\n",
    "    input_dict[family + '_record'] = 'calculation_elastic_constants_static'\n",
    "    input_dict[family + '_load_key'] = 'system-info'\n",
    "    input_dict[family + '_strainrange'] = '1e-8'\n",
    "    input_dict[family + '_family'] = family\n",
    "    input_dict[family + '_symbols'] = symbols[family]\n",
    "\n",
    "# Build defect information from reference files\n",
    "input_dict['buildcombos'].append('defect surface_file')\n",
    "input_dict['defect_record'] = 'free_surface'\n",
    "\n",
    "# System manipulations\n",
    "#input_dict['a_uvw'] =                   \n",
    "#input_dict['b_uvw'] =                     \n",
    "#input_dict['c_uvw'] =                     \n",
    "#input_dict['atomshift'] =                  \n",
    "input_dict['sizemults'] = '3 3 7'\n",
    "\n",
    "# Units that input/output values are in\n",
    "#input_dict['length_unit'] =                \n",
    "#input_dict['pressure_unit'] =              \n",
    "#input_dict['energy_unit'] =            \n",
    "#input_dict['force_unit'] =        \n",
    "\n",
    "# Run parameters\n",
    "#input_dict['energytolerance'] = \n",
    "#input_dict['forcetolerance'] = \n",
    "#input_dict['maxiterations'] = \n",
    "#input_dict['maxevaluations'] = \n",
    "#input_dict['maxatommotion'] = "
   ]
  },
  {
   "cell_type": "markdown",
   "metadata": {},
   "source": [
    "### Prepare calculations"
   ]
  },
  {
   "cell_type": "code",
   "execution_count": 11,
   "metadata": {},
   "outputs": [
    {
     "name": "stdout",
     "output_type": "stream",
     "text": [
      "In database style local at C:\\Users\\lmh1\\Documents\\calculations\\ipr\\demo :\n",
      "- 26 of style calculation_surface_energy_static\n",
      " - 0 are complete\n",
      " - 26 still to run\n",
      " - 0 issued errors\n"
     ]
    }
   ],
   "source": [
    "database.prepare(run_directory, calculation, **input_dict)\n",
    "database.check_records(calculation.record_style)"
   ]
  },
  {
   "cell_type": "markdown",
   "metadata": {},
   "source": [
    "### Run calculations"
   ]
  },
  {
   "cell_type": "code",
   "execution_count": 12,
   "metadata": {},
   "outputs": [
    {
     "name": "stdout",
     "output_type": "stream",
     "text": [
      "Runner started with pid 10812\n",
      "No simulations left to run\n",
      "In database style local at C:\\Users\\lmh1\\Documents\\calculations\\ipr\\demo :\n",
      "- 26 of style calculation_surface_energy_static\n",
      " - 24 are complete\n",
      " - 0 still to run\n",
      " - 2 issued errors\n"
     ]
    }
   ],
   "source": [
    "database.runner(run_directory)\n",
    "database.check_records(calculation.record_style)"
   ]
  },
  {
   "cell_type": "markdown",
   "metadata": {},
   "source": [
    "### Show results"
   ]
  },
  {
   "cell_type": "code",
   "execution_count": 13,
   "metadata": {},
   "outputs": [
    {
     "name": "stdout",
     "output_type": "stream",
     "text": [
      "b'Traceback (most recent call last):\r\n",
      "  File \"c:\\\\users\\\\lmh1\\\\documents\\\\python-packages\\\\atomman\\\\atomman\\\\lammps\\\r",
      "un.py\", line 110, in run\r\n",
      "    output = sp.check_output(mpi_command + lammps_command + extra + [\\'-in\\'] + script_name)\r\n",
      "  File \"C:\\\\Users\\\\lmh1\\\\AppData\\\\Local\\\\Continuum\\\\Anaconda3\\\\lib\\\\subprocess.py\", line 336, in check_output\r\n",
      "    **kwargs).stdout\r\n",
      "  File \"C:\\\\Users\\\\lmh1\\\\AppData\\\\Local\\\\Continuum\\\\Anaconda3\\\\lib\\\\subprocess.py\", line 418, in run\r\n",
      "    output=stdout, stderr=stderr)\r\n",
      "subprocess.CalledProcessError: Command \\'[\\'lmp_mpi\\', \\'-in\\', \\'min.in\\']\\' returned non-zero exit status 1.\r\n",
      "\r\n",
      "During handling of the above exception, another exception occurred:\r\n",
      "\r\n",
      "Traceback (most recent call last):\r\n",
      "  File \"calc_surface_energy_static.py\", line 355, in <module>\r\n",
      "    main(*sys.argv[1:])\r\n",
      "  File \"calc_surface_energy_static.py\", line 52, in main\r\n",
      "    cutboxvector = input_dict[\\'surface_cutboxvector\\'])\r\n",
      "  File \"calc_surface_energy_static.py\", line 159, in surface_energy\r\n",
      "    maxiter=maxiter, maxeval=maxeval, dmax=dmax)\r\n",
      "  File \"calc_surface_energy_static.py\", line 276, in relax_system\r\n",
      "    output = lmp.run(lammps_command, lammps_script, mpi_command)\r\n",
      "  File \"c:\\\\users\\\\lmh1\\\\documents\\\\python-packages\\\\atomman\\\\atomman\\\\lammps\\\r",
      "un.py\", line 116, in run\r\n",
      "    raise ValueError(\\'Invalid LAMMPS input: \\\n",
      "%s\\' % lines[-2])\r\n",
      "ValueError: Invalid LAMMPS input: \r\n",
      "Last command: read_data system.dat\r\n",
      "'\n",
      "b'Traceback (most recent call last):\r\n",
      "  File \"c:\\\\users\\\\lmh1\\\\documents\\\\python-packages\\\\atomman\\\\atomman\\\\lammps\\\r",
      "un.py\", line 110, in run\r\n",
      "    output = sp.check_output(mpi_command + lammps_command + extra + [\\'-in\\'] + script_name)\r\n",
      "  File \"C:\\\\Users\\\\lmh1\\\\AppData\\\\Local\\\\Continuum\\\\anaconda3\\\\lib\\\\subprocess.py\", line 336, in check_output\r\n",
      "    **kwargs).stdout\r\n",
      "  File \"C:\\\\Users\\\\lmh1\\\\AppData\\\\Local\\\\Continuum\\\\anaconda3\\\\lib\\\\subprocess.py\", line 418, in run\r\n",
      "    output=stdout, stderr=stderr)\r\n",
      "subprocess.CalledProcessError: Command \\'[\\'lmp_mpi\\', \\'-in\\', \\'min.in\\']\\' returned non-zero exit status 1.\r\n",
      "\r\n",
      "During handling of the above exception, another exception occurred:\r\n",
      "\r\n",
      "Traceback (most recent call last):\r\n",
      "  File \"calc_surface_energy_static.py\", line 355, in <module>\r\n",
      "    main(*sys.argv[1:])\r\n",
      "  File \"calc_surface_energy_static.py\", line 52, in main\r\n",
      "    cutboxvector = input_dict[\\'surface_cutboxvector\\'])\r\n",
      "  File \"calc_surface_energy_static.py\", line 159, in surface_energy\r\n",
      "    maxiter=maxiter, maxeval=maxeval, dmax=dmax)\r\n",
      "  File \"calc_surface_energy_static.py\", line 276, in relax_system\r\n",
      "    output = lmp.run(lammps_command, lammps_script, mpi_command)\r\n",
      "  File \"c:\\\\users\\\\lmh1\\\\documents\\\\python-packages\\\\atomman\\\\atomman\\\\lammps\\\r",
      "un.py\", line 116, in run\r\n",
      "    raise ValueError(\\'Invalid LAMMPS input: \\\n",
      "%s\\' % lines[-2])\r\n",
      "ValueError: Invalid LAMMPS input: \r\n",
      "Last command: read_data system.dat\r\n",
      "'\n"
     ]
    }
   ],
   "source": [
    "results_df = database.get_records_df(style=calculation.record_style)\n",
    "for error in np.unique(results_df[results_df.status=='error'].error):\n",
    "    print(error)"
   ]
  },
  {
   "cell_type": "markdown",
   "metadata": {},
   "source": [
    "## 2. Calculation analysis"
   ]
  },
  {
   "cell_type": "code",
   "execution_count": 26,
   "metadata": {},
   "outputs": [],
   "source": [
    "results = database.get_records_df(style=calculation.record_style)"
   ]
  },
  {
   "cell_type": "code",
   "execution_count": 21,
   "metadata": {},
   "outputs": [],
   "source": [
    "# Compute surface energy\n",
    "surface_energy_units = 'mJ/m^2'\n",
    "results['γfs ('+surface_energy_units+')'] = uc.get_in_units(results.gamma_fs, surface_energy_units)\n",
    "iprPy.analysis.assign_composition(results, database)"
   ]
  },
  {
   "cell_type": "markdown",
   "metadata": {},
   "source": [
    "### Display results"
   ]
  },
  {
   "cell_type": "code",
   "execution_count": 25,
   "metadata": {},
   "outputs": [
    {
     "name": "stdout",
     "output_type": "stream",
     "text": [
      "Surface energies for Cu using 1985--Foiles-S-M--Ni-Cu--LAMMPS--ipr1\n"
     ]
    },
    {
     "data": {
      "text/html": [
       "<table border=\"1\" class=\"dataframe\">\n",
       "  <thead>\n",
       "    <tr style=\"text-align: right;\">\n",
       "      <th>γfs (mJ/m^2)</th>\n",
       "      <th>surface_id</th>\n",
       "    </tr>\n",
       "  </thead>\n",
       "  <tbody>\n",
       "    <tr>\n",
       "      <td>1094.821774</td>\n",
       "      <td>A1--Cu--fcc--111</td>\n",
       "    </tr>\n",
       "    <tr>\n",
       "      <td>1204.892361</td>\n",
       "      <td>A1--Cu--fcc--100</td>\n",
       "    </tr>\n",
       "    <tr>\n",
       "      <td>1206.858996</td>\n",
       "      <td>A1--Cu--fcc--332</td>\n",
       "    </tr>\n",
       "    <tr>\n",
       "      <td>1217.839498</td>\n",
       "      <td>A1--Cu--fcc--322</td>\n",
       "    </tr>\n",
       "    <tr>\n",
       "      <td>1255.167196</td>\n",
       "      <td>A1--Cu--fcc--221</td>\n",
       "    </tr>\n",
       "    <tr>\n",
       "      <td>1276.408876</td>\n",
       "      <td>A1--Cu--fcc--211</td>\n",
       "    </tr>\n",
       "    <tr>\n",
       "      <td>1293.713602</td>\n",
       "      <td>A1--Cu--fcc--331</td>\n",
       "    </tr>\n",
       "    <tr>\n",
       "      <td>1315.650655</td>\n",
       "      <td>A1--Cu--fcc--311</td>\n",
       "    </tr>\n",
       "    <tr>\n",
       "      <td>1322.564328</td>\n",
       "      <td>A1--Cu--fcc--110</td>\n",
       "    </tr>\n",
       "    <tr>\n",
       "      <td>1340.328127</td>\n",
       "      <td>A1--Cu--fcc--321</td>\n",
       "    </tr>\n",
       "    <tr>\n",
       "      <td>1361.060121</td>\n",
       "      <td>A1--Cu--fcc--310</td>\n",
       "    </tr>\n",
       "    <tr>\n",
       "      <td>1378.524913</td>\n",
       "      <td>A1--Cu--fcc--320</td>\n",
       "    </tr>\n",
       "    <tr>\n",
       "      <td>1388.716001</td>\n",
       "      <td>A1--Cu--fcc--210</td>\n",
       "    </tr>\n",
       "  </tbody>\n",
       "</table>"
      ],
      "text/plain": [
       "<IPython.core.display.HTML object>"
      ]
     },
     "metadata": {},
     "output_type": "display_data"
    }
   ],
   "source": [
    "# Display results\n",
    "potential_LAMMPS_id = '1985--Foiles-S-M--Ni-Cu--LAMMPS--ipr1'\n",
    "composition = 'Cu'\n",
    "\n",
    "display_results = results[(results.potential_LAMMPS_id == potential_LAMMPS_id)\n",
    "                         &(results.composition == composition)]\n",
    "display_results = display_results[['γfs ('+surface_energy_units+')', 'surface_id']].sort_values('γfs ('+surface_energy_units+')')\n",
    "\n",
    "print('Surface energies for', composition, 'using', potential_LAMMPS_id)\n",
    "display(HTML(display_results.to_html(index=False)))"
   ]
  },
  {
   "cell_type": "markdown",
   "metadata": {},
   "source": [
    "## 2. stacking_fault_map_2D calculation"
   ]
  },
  {
   "cell_type": "code",
   "execution_count": 14,
   "metadata": {},
   "outputs": [],
   "source": [
    "calculation = iprPy.load_calculation('stacking_fault_map_2D')\n",
    "run_directory = iprPy.load_run_directory('master_1')"
   ]
  },
  {
   "cell_type": "markdown",
   "metadata": {},
   "source": [
    "### Build input_dict"
   ]
  },
  {
   "cell_type": "code",
   "execution_count": 15,
   "metadata": {},
   "outputs": [
    {
     "name": "stdout",
     "output_type": "stream",
     "text": [
      "['lammps_command', 'mpi_command', 'length_unit', 'pressure_unit', 'energy_unit', 'force_unit', 'potential_file', 'potential_content', 'potential_dir', 'load_file', 'load_content', 'load_style', 'family', 'load_options', 'symbols', 'box_parameters', 'a_uvw', 'b_uvw', 'c_uvw', 'atomshift', 'sizemults', 'stackingfault_file', 'stackingfault_content', 'stackingfault_family', 'stackingfault_cutboxvector', 'stackingfault_faultpos', 'stackingfault_shiftvector1', 'stackingfault_shiftvector2', 'stackingfault_numshifts1', 'stackingfault_numshifts2', 'energytolerance', 'forcetolerance', 'maxiterations', 'maxevaluations', 'maxatommotion']\n"
     ]
    }
   ],
   "source": [
    "print(calculation.allkeys)"
   ]
  },
  {
   "cell_type": "code",
   "execution_count": 16,
   "metadata": {},
   "outputs": [],
   "source": [
    "input_dict = {}\n",
    "\n",
    "# Commands and executables\n",
    "input_dict['lammps_command'] = 'lmp_mpi'\n",
    "#input_dict['mpi_command'] =\n",
    "\n",
    "# Build load information based parent calculations using family-symbols sets\n",
    "input_dict['buildcombos'] = []\n",
    "for family in symbols:\n",
    "    input_dict['buildcombos'].append('atomicarchive2 load_file ' + family)\n",
    "    input_dict[family + '_record'] = 'calculation_elastic_constants_static'\n",
    "    input_dict[family + '_load_key'] = 'system-info'\n",
    "    input_dict[family + '_strainrange'] = '1e-7'\n",
    "    input_dict[family + '_family'] = family\n",
    "    input_dict[family + '_symbols'] = symbols[family]\n",
    "\n",
    "# Build defect information from reference files\n",
    "input_dict['buildcombos'].append('defect stackingfault_file')\n",
    "input_dict['defect_record'] = 'stacking_fault'\n",
    "\n",
    "# System manipulations\n",
    "#input_dict['a_uvw'] =                   \n",
    "#input_dict['b_uvw'] =                     \n",
    "#input_dict['c_uvw'] =                     \n",
    "#input_dict['atomshift'] =                  \n",
    "input_dict['sizemults'] = '3 3 8'\n",
    "\n",
    "# Units that input/output values are in\n",
    "#input_dict['length_unit'] =                \n",
    "#input_dict['pressure_unit'] =              \n",
    "#input_dict['energy_unit'] =            \n",
    "#input_dict['force_unit'] =        \n",
    "\n",
    "# Run parameters\n",
    "input_dict['stackingfault_numshifts1'] = '11'\n",
    "input_dict['stackingfault_numshifts2'] = '11'\n",
    "#input_dict['energytolerance'] = \n",
    "#input_dict['forcetolerance'] = \n",
    "#input_dict['maxiterations'] = \n",
    "#input_dict['maxevaluations'] = \n",
    "#input_dict['maxatommotion'] = "
   ]
  },
  {
   "cell_type": "markdown",
   "metadata": {},
   "source": [
    "### Prepare calculations"
   ]
  },
  {
   "cell_type": "code",
   "execution_count": 17,
   "metadata": {},
   "outputs": [
    {
     "name": "stdout",
     "output_type": "stream",
     "text": [
      "In database style local at C:\\Users\\lmh1\\Documents\\calculations\\ipr\\master :\n",
      "- 1 of style calculation_stacking_fault_map_2D\n",
      " - 0 are complete\n",
      " - 1 still to run\n",
      " - 0 issued errors\n"
     ]
    }
   ],
   "source": [
    "database.prepare(run_directory, calculation, **input_dict)\n",
    "database.check_records(calculation.record_style)"
   ]
  },
  {
   "cell_type": "markdown",
   "metadata": {},
   "source": [
    "### Run calculations"
   ]
  },
  {
   "cell_type": "code",
   "execution_count": 18,
   "metadata": {},
   "outputs": [
    {
     "name": "stdout",
     "output_type": "stream",
     "text": [
      "Runner started with pid 10256\n",
      "No simulations left to run\n",
      "In database style local at C:\\Users\\lmh1\\Documents\\calculations\\ipr\\master :\n",
      "- 1 of style calculation_stacking_fault_map_2D\n",
      " - 1 are complete\n",
      " - 0 still to run\n",
      " - 0 issued errors\n"
     ]
    }
   ],
   "source": [
    "database.runner(run_directory)\n",
    "database.check_records(calculation.record_style)"
   ]
  },
  {
   "cell_type": "markdown",
   "metadata": {},
   "source": [
    "## 3. point_defect_static calculation"
   ]
  },
  {
   "cell_type": "code",
   "execution_count": 19,
   "metadata": {},
   "outputs": [],
   "source": [
    "calculation = iprPy.load_calculation('point_defect_static')\n",
    "run_directory = iprPy.load_run_directory('master_1')"
   ]
  },
  {
   "cell_type": "markdown",
   "metadata": {},
   "source": [
    "### Build input_dict"
   ]
  },
  {
   "cell_type": "code",
   "execution_count": 20,
   "metadata": {},
   "outputs": [
    {
     "name": "stdout",
     "output_type": "stream",
     "text": [
      "['lammps_command', 'mpi_command', 'length_unit', 'pressure_unit', 'energy_unit', 'force_unit', 'potential_file', 'potential_content', 'potential_dir', 'load_file', 'load_content', 'load_style', 'family', 'load_options', 'symbols', 'box_parameters', 'a_uvw', 'b_uvw', 'c_uvw', 'atomshift', 'sizemults', 'pointdefect_file', 'pointdefect_content', 'pointdefect_family', 'pointdefect_type', 'pointdefect_atype', 'pointdefect_pos', 'pointdefect_dumbbell_vect', 'pointdefect_scale', 'energytolerance', 'forcetolerance', 'maxiterations', 'maxevaluations', 'maxatommotion']\n"
     ]
    }
   ],
   "source": [
    "print(calculation.allkeys)"
   ]
  },
  {
   "cell_type": "code",
   "execution_count": 21,
   "metadata": {},
   "outputs": [],
   "source": [
    "input_dict = {}\n",
    "\n",
    "# Commands and executables\n",
    "input_dict['lammps_command'] = 'lmp_mpi'\n",
    "#input_dict['mpi_command'] =\n",
    "\n",
    "# Build load information based parent calculations using family-symbols sets\n",
    "input_dict['buildcombos'] = []\n",
    "for family in symbols:\n",
    "    input_dict['buildcombos'].append('atomicarchive2 load_file ' + family)\n",
    "    input_dict[family + '_record'] = 'calculation_elastic_constants_static'\n",
    "    input_dict[family + '_load_key'] = 'system-info'\n",
    "    input_dict[family + '_strainrange'] = '1e-7'\n",
    "    input_dict[family + '_family'] = family\n",
    "    input_dict[family + '_symbols'] = symbols[family]\n",
    "\n",
    "# Build defect information from reference files\n",
    "input_dict['buildcombos'].append('defect pointdefect_file')\n",
    "input_dict['defect_record'] = 'point_defect'\n",
    "\n",
    "# System manipulations\n",
    "#input_dict['a_uvw'] =                   \n",
    "#input_dict['b_uvw'] =                     \n",
    "#input_dict['c_uvw'] =                     \n",
    "#input_dict['atomshift'] =                  \n",
    "input_dict['sizemults'] = '10 10 10'\n",
    "\n",
    "# Units that input/output values are in\n",
    "#input_dict['length_unit'] =                \n",
    "#input_dict['pressure_unit'] =              \n",
    "#input_dict['energy_unit'] =            \n",
    "#input_dict['force_unit'] =        \n",
    "\n",
    "# Run parameters\n",
    "#input_dict['energytolerance'] = \n",
    "#input_dict['forcetolerance'] = \n",
    "#input_dict['maxiterations'] = \n",
    "#input_dict['maxevaluations'] = \n",
    "#input_dict['maxatommotion'] = "
   ]
  },
  {
   "cell_type": "markdown",
   "metadata": {},
   "source": [
    "### Prepare calculations"
   ]
  },
  {
   "cell_type": "code",
   "execution_count": 22,
   "metadata": {},
   "outputs": [
    {
     "name": "stdout",
     "output_type": "stream",
     "text": [
      "In database style local at C:\\Users\\lmh1\\Documents\\calculations\\ipr\\master :\n",
      "- 9 of style calculation_point_defect_static\n",
      " - 0 are complete\n",
      " - 9 still to run\n",
      " - 0 issued errors\n"
     ]
    }
   ],
   "source": [
    "database.prepare(run_directory, calculation, **input_dict)\n",
    "database.check_records(calculation.record_style)"
   ]
  },
  {
   "cell_type": "markdown",
   "metadata": {},
   "source": [
    "### Run calculations"
   ]
  },
  {
   "cell_type": "code",
   "execution_count": 23,
   "metadata": {},
   "outputs": [
    {
     "name": "stdout",
     "output_type": "stream",
     "text": [
      "Runner started with pid 10256\n",
      "No simulations left to run\n",
      "In database style local at C:\\Users\\lmh1\\Documents\\calculations\\ipr\\master :\n",
      "- 9 of style calculation_point_defect_static\n",
      " - 9 are complete\n",
      " - 0 still to run\n",
      " - 0 issued errors\n"
     ]
    }
   ],
   "source": [
    "database.runner(run_directory)\n",
    "database.check_records(calculation.record_style)"
   ]
  },
  {
   "cell_type": "markdown",
   "metadata": {},
   "source": [
    "### Show results"
   ]
  },
  {
   "cell_type": "code",
   "execution_count": 24,
   "metadata": {},
   "outputs": [],
   "source": [
    "energy_units = 'eV'"
   ]
  },
  {
   "cell_type": "code",
   "execution_count": 25,
   "metadata": {},
   "outputs": [],
   "source": [
    "results = database.get_records_df(style=calculation.record_style, potential_LAMMPS_id='2004--Zhou-X-W--Al--LAMMPS--ipr2')"
   ]
  },
  {
   "cell_type": "code",
   "execution_count": 26,
   "metadata": {},
   "outputs": [
    {
     "data": {
      "text/html": [
       "<table border=\"1\" class=\"dataframe\">\n",
       "  <thead>\n",
       "    <tr style=\"text-align: right;\">\n",
       "      <th>Ef (eV)</th>\n",
       "      <th>pointdefect_id</th>\n",
       "    </tr>\n",
       "  </thead>\n",
       "  <tbody>\n",
       "    <tr>\n",
       "      <td>0.676481</td>\n",
       "      <td>A1--Cu--fcc--vacancy</td>\n",
       "    </tr>\n",
       "    <tr>\n",
       "      <td>1.296545</td>\n",
       "      <td>A1--Cu--fcc--1nn-divacancy</td>\n",
       "    </tr>\n",
       "    <tr>\n",
       "      <td>1.311998</td>\n",
       "      <td>A1--Cu--fcc--2nn-divacancy</td>\n",
       "    </tr>\n",
       "    <tr>\n",
       "      <td>1.864239</td>\n",
       "      <td>A1--Cu--fcc--100-dumbbell</td>\n",
       "    </tr>\n",
       "    <tr>\n",
       "      <td>1.958664</td>\n",
       "      <td>A1--Cu--fcc--octahedral-interstitial</td>\n",
       "    </tr>\n",
       "    <tr>\n",
       "      <td>2.042814</td>\n",
       "      <td>A1--Cu--fcc--110-dumbbell</td>\n",
       "    </tr>\n",
       "    <tr>\n",
       "      <td>2.043344</td>\n",
       "      <td>A1--Cu--fcc--crowdion-interstitial</td>\n",
       "    </tr>\n",
       "    <tr>\n",
       "      <td>2.115240</td>\n",
       "      <td>A1--Cu--fcc--111-dumbbell</td>\n",
       "    </tr>\n",
       "    <tr>\n",
       "      <td>2.149543</td>\n",
       "      <td>A1--Cu--fcc--tetrahedral-interstitial</td>\n",
       "    </tr>\n",
       "  </tbody>\n",
       "</table>"
      ],
      "text/plain": [
       "<IPython.core.display.HTML object>"
      ]
     },
     "metadata": {},
     "output_type": "display_data"
    }
   ],
   "source": [
    "results = results[results.reconfigured == False]\n",
    "results['Ef ('+energy_units+')'] = uc.get_in_units(results.E_f, energy_units)\n",
    "results = results[['Ef ('+energy_units+')', 'pointdefect_id']].sort_values('Ef ('+energy_units+')')\n",
    "display(HTML(results.to_html(index=False)))"
   ]
  },
  {
   "cell_type": "code",
   "execution_count": null,
   "metadata": {},
   "outputs": [],
   "source": []
  }
 ],
 "metadata": {
  "kernelspec": {
   "display_name": "Python 3",
   "language": "python",
   "name": "python3"
  },
  "language_info": {
   "codemirror_mode": {
    "name": "ipython",
    "version": 3
   },
   "file_extension": ".py",
   "mimetype": "text/x-python",
   "name": "python",
   "nbconvert_exporter": "python",
   "pygments_lexer": "ipython3",
   "version": "3.6.4"
  }
 },
 "nbformat": 4,
 "nbformat_minor": 2
}
