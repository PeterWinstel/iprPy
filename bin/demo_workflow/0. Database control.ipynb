{
 "cells": [
  {
   "cell_type": "markdown",
   "metadata": {},
   "source": [
    "# Database Control\n",
    "\n",
    "This Notebook oversees commands related to control of the calculation database that is created for high-throughput calculations. This includes:\n",
    "\n",
    "1. Defining databases for easy access.\n",
    "\n",
    "2. Specifying the local run_directories where calculations will be placed/performed.\n",
    "\n",
    "3. Uploading/updating the reference records to a database based on the iprPy/library.\n",
    "\n",
    "4. Checking the number and status of records within a database.\n",
    "\n",
    "5. Cleaning records in a database by resetting errored calculations and removing excess \\*.bid files.\n",
    "\n",
    "6. Copying/removing database records.\n",
    "\n",
    "7. Forgetting stored database information."
   ]
  },
  {
   "cell_type": "markdown",
   "metadata": {},
   "source": [
    "__Global workflow details:__\n",
    "\n",
    "The commands offered by this Notebook are outside the global workflow, with the exception that new databases can be defined here before use in the other Notebooks."
   ]
  },
  {
   "cell_type": "markdown",
   "metadata": {},
   "source": [
    "**Library imports**"
   ]
  },
  {
   "cell_type": "code",
   "execution_count": 1,
   "metadata": {},
   "outputs": [
    {
     "name": "stdout",
     "output_type": "stream",
     "text": [
      "iprPy version 0.8.3\n"
     ]
    }
   ],
   "source": [
    "# Standard Python libraries\n",
    "from __future__ import (print_function, division, absolute_import,\n",
    "                        unicode_literals)\n",
    "\n",
    "# https://github.com/usnistgov/iprPy\n",
    "import iprPy\n",
    "print('iprPy version', iprPy.__version__)"
   ]
  },
  {
   "cell_type": "markdown",
   "metadata": {},
   "source": [
    "## 1. Define database\n",
    "\n",
    "The **set_database()** function allows for database access information to be saved under a simple name."
   ]
  },
  {
   "cell_type": "code",
   "execution_count": null,
   "metadata": {},
   "outputs": [],
   "source": [
    "# Specify local directory to save files to\n",
    "host = 'C:\\\\Users\\\\lmh1\\\\Documents\\\\calculations\\\\ipr\\\\demo'\n",
    "\n",
    "# Define local-style database called demo\n",
    "iprPy.set_database(name='demo', style='local', host=host)"
   ]
  },
  {
   "cell_type": "markdown",
   "metadata": {},
   "source": [
    "Test that the database is set"
   ]
  },
  {
   "cell_type": "code",
   "execution_count": 2,
   "metadata": {},
   "outputs": [
    {
     "name": "stdout",
     "output_type": "stream",
     "text": [
      "database style local at C:\\Users\\lmh1\\Documents\\calculations\\ipr\\demo\n"
     ]
    }
   ],
   "source": [
    "database = iprPy.load_database('demo')\n",
    "print(database)"
   ]
  },
  {
   "cell_type": "markdown",
   "metadata": {},
   "source": [
    "## 2. Define run_directories\n",
    "\n",
    "The **set_run_directory()** function allows for a local run directory to be saved under a simple name. For best functionality, each run_directory should be for a unique database and number of cores."
   ]
  },
  {
   "cell_type": "code",
   "execution_count": null,
   "metadata": {},
   "outputs": [],
   "source": [
    "# Define running directories for up to four cores\n",
    "iprPy.set_run_directory(name='demo_1', path='C:\\\\Users\\\\lmh1\\\\Documents\\\\calculations\\\\ipr\\\\torun\\\\demo\\\\1')\n",
    "iprPy.set_run_directory(name='demo_2', path='C:\\\\Users\\\\lmh1\\\\Documents\\\\calculations\\\\ipr\\\\torun\\\\demo\\\\2')\n",
    "iprPy.set_run_directory(name='demo_3', path='C:\\\\Users\\\\lmh1\\\\Documents\\\\calculations\\\\ipr\\\\torun\\\\demo\\\\3')\n",
    "iprPy.set_run_directory(name='demo_4', path='C:\\\\Users\\\\lmh1\\\\Documents\\\\calculations\\\\ipr\\\\torun\\\\demo\\\\4')"
   ]
  },
  {
   "cell_type": "markdown",
   "metadata": {},
   "source": [
    "Test that the run directories are set"
   ]
  },
  {
   "cell_type": "code",
   "execution_count": 3,
   "metadata": {},
   "outputs": [
    {
     "name": "stdout",
     "output_type": "stream",
     "text": [
      "C:\\Users\\lmh1\\Documents\\calculations\\ipr\\torun\\demo\\1\n"
     ]
    }
   ],
   "source": [
    "run_directory = iprPy.load_run_directory('demo_1')\n",
    "print(run_directory)"
   ]
  },
  {
   "cell_type": "markdown",
   "metadata": {},
   "source": [
    "## 3. Build database by copying reference records into it\n",
    "\n",
    "The build_refs() method copies the reference records in iprPy/library to the database for use in high-throughput calculations. "
   ]
  },
  {
   "cell_type": "markdown",
   "metadata": {},
   "source": [
    "Destroy any library records from the database that you want to reset and replace"
   ]
  },
  {
   "cell_type": "code",
   "execution_count": null,
   "metadata": {},
   "outputs": [],
   "source": [
    "# Crystal prototypes\n",
    "#database.destroy_records('crystal_prototype')\n",
    "\n",
    "# Interatomic potentials\n",
    "#database.destroy_records('potential_LAMMPS')\n",
    "#database.destroy_records('potential_openKIM_LAMMPS')\n",
    "\n",
    "# Pre-defined defect parameters\n",
    "#database.destroy_records('free_surface')\n",
    "#database.destroy_records('point_defect')\n",
    "#database.destroy_records('dislocation_monopole')\n",
    "#database.destroy_records('stacking_fault')"
   ]
  },
  {
   "cell_type": "markdown",
   "metadata": {},
   "source": [
    "Add/append missing library records"
   ]
  },
  {
   "cell_type": "code",
   "execution_count": 4,
   "metadata": {},
   "outputs": [],
   "source": [
    "database.build_refs()"
   ]
  },
  {
   "cell_type": "markdown",
   "metadata": {},
   "source": [
    "## 4. Check record numbers and status"
   ]
  },
  {
   "cell_type": "markdown",
   "metadata": {},
   "source": [
    "check_records() takes an optional record style. If not specified, a prompt will ask for which record style to check."
   ]
  },
  {
   "cell_type": "code",
   "execution_count": 5,
   "metadata": {},
   "outputs": [
    {
     "name": "stdout",
     "output_type": "stream",
     "text": [
      "Select record_style:\n",
      "1 calculation_crystal_space_group\n",
      "2 calculation_dislocation_monopole\n",
      "3 calculation_dislocation_periodic_array\n",
      "4 calculation_dislocation_periodic_array_stress\n",
      "5 calculation_dislocation_SDVPN\n",
      "6 calculation_elastic_constants_static\n",
      "7 calculation_E_vs_r_scan\n",
      "8 calculation_point_defect_diffusion\n",
      "9 calculation_point_defect_static\n",
      "10 calculation_relax_box\n",
      "11 calculation_relax_dynamic\n",
      "12 calculation_relax_static\n",
      "13 calculation_stacking_fault_map_2D\n",
      "14 calculation_stacking_fault_static\n",
      "15 calculation_surface_energy_static\n",
      "16 crystal_prototype\n",
      "17 dislocation_monopole\n",
      "18 free_surface\n",
      "19 per_potential_properties\n",
      "20 point_defect\n",
      "21 PotentialProperties\n",
      "22 potential_LAMMPS\n",
      "23 potential_openKIM_LAMMPS\n",
      "24 potential_users_LAMMPS\n",
      "25 stacking_fault\n",
      ": 16\n",
      "\n",
      "In database style local at C:\\Users\\lmh1\\Documents\\calculations\\ipr\\demo :\n",
      "- 19 of style crystal_prototype\n"
     ]
    }
   ],
   "source": [
    "database.check_records()"
   ]
  },
  {
   "cell_type": "code",
   "execution_count": 6,
   "metadata": {},
   "outputs": [
    {
     "name": "stdout",
     "output_type": "stream",
     "text": [
      "In database style local at C:\\Users\\lmh1\\Documents\\calculations\\ipr\\demo :\n",
      "- 280 of style potential_LAMMPS\n"
     ]
    }
   ],
   "source": [
    "database.check_records('potential_LAMMPS')"
   ]
  },
  {
   "cell_type": "markdown",
   "metadata": {},
   "source": [
    "## 5. Clean calculation records\n",
    "\n",
    "The clean_records() method resets errored calculations of a specified record style.  Cleaning a record style means:\n",
    "\n",
    "- Resetting any calculations that issued errors back into a run_directory\n",
    "\n",
    "- Removing any .bid files in the calculation folders in the run_directory\n",
    "\n",
    "This is useful to resetting and rerunning calculations that may have failed for reasons external to the calculation's method.  E.g. runners terminated early, parameter conflicts for a limited number of potentials, debugging calculations.\n",
    "\n",
    "__WARNING:__ Conflicts may occur if you clean a run_directory that active runners are operating on as the .bid files are used to avoid multiple runners working on the same calculation at the same time."
   ]
  },
  {
   "cell_type": "code",
   "execution_count": null,
   "metadata": {},
   "outputs": [],
   "source": [
    "database.clean_records('calculation_E_vs_r_scan', 'demo_1')"
   ]
  },
  {
   "cell_type": "markdown",
   "metadata": {},
   "source": [
    "## 6. Destroy calculation records\n",
    "\n",
    "The destroy_records() method deletes all records of a specified style.  Useful if you want to reset any library records or rerun calculations with different parameters. \n",
    "\n",
    "**WARNING:** This is a permanent delete even for local database styles."
   ]
  },
  {
   "cell_type": "code",
   "execution_count": null,
   "metadata": {},
   "outputs": [],
   "source": [
    "#database.destroy_records('calculation_E_vs_r_scan')"
   ]
  },
  {
   "cell_type": "markdown",
   "metadata": {},
   "source": [
    "## 7. Forget database information\n",
    "\n",
    "The unset_database() and unset_run_directory() functions will remove the saved settings for the databases. \n",
    "\n",
    "**NOTE:** Only the stored access information is removed as the records in a database and files in a run_directory will remain."
   ]
  },
  {
   "cell_type": "code",
   "execution_count": null,
   "metadata": {},
   "outputs": [],
   "source": [
    "# Clear out existing definitions\n",
    "#iprPy.unset_database(name='demo')\n",
    "#iprPy.unset_run_directory(name='demo_1')\n",
    "#iprPy.unset_run_directory(name='demo_2')\n",
    "#iprPy.unset_run_directory(name='demo_3')\n",
    "#iprPy.unset_run_directory(name='demo_4')"
   ]
  }
 ],
 "metadata": {
  "kernelspec": {
   "display_name": "Python 3",
   "language": "python",
   "name": "python3"
  },
  "language_info": {
   "codemirror_mode": {
    "name": "ipython",
    "version": 3
   },
   "file_extension": ".py",
   "mimetype": "text/x-python",
   "name": "python",
   "nbconvert_exporter": "python",
   "pygments_lexer": "ipython3",
   "version": "3.6.4"
  }
 },
 "nbformat": 4,
 "nbformat_minor": 2
}
