{
 "cells": [
  {
   "cell_type": "markdown",
   "metadata": {},
   "source": [
    "# Check modules and initialize database\n",
    "\n",
    "This Notebook sets up iprPy for highthroughput calculations by:\n",
    "\n",
    "1. Showing which iprPy modules are loaded and which issued errors.\n",
    "\n",
    "2. Allow for access to a database to be defined.\n",
    "\n",
    "3. Specify local directories where calculations will be placed/performed.\n",
    "\n",
    "4. Upload reference library records to the database"
   ]
  },
  {
   "cell_type": "markdown",
   "metadata": {},
   "source": [
    "**Library imports**"
   ]
  },
  {
   "cell_type": "code",
   "execution_count": 1,
   "metadata": {},
   "outputs": [
    {
     "name": "stdout",
     "output_type": "stream",
     "text": [
      "iprPy version 0.8.3\n"
     ]
    }
   ],
   "source": [
    "# Standard Python libraries\n",
    "from __future__ import (print_function, division, absolute_import,\n",
    "                        unicode_literals)\n",
    "\n",
    "# https://github.com/usnistgov/iprPy\n",
    "import iprPy\n",
    "print('iprPy version', iprPy.__version__)"
   ]
  },
  {
   "cell_type": "markdown",
   "metadata": {},
   "source": [
    "## 1. Show loaded modules of iprPy\n",
    "\n",
    "The check_modules() function will list all the included modular components of iprPy and if they successfully loaded (didn't issue an error during loading). If an error was issued for a given module, it will be listed."
   ]
  },
  {
   "cell_type": "code",
   "execution_count": 2,
   "metadata": {},
   "outputs": [
    {
     "name": "stdout",
     "output_type": "stream",
     "text": [
      "input.interpret styles that passed import:\n",
      "- atomman_elasticconstants\n",
      "- atomman_gammasurface\n",
      "- atomman_peierlsnabarro\n",
      "- atomman_systemload\n",
      "- atomman_systemmanipulate\n",
      "- dislocationmonopole\n",
      "- freesurface\n",
      "- lammps_atomcharges\n",
      "- lammps_commands\n",
      "- lammps_minimize\n",
      "- lammps_potential\n",
      "- pointdefect\n",
      "- stackingfaultpart1\n",
      "- stackingfaultpart2\n",
      "- units\n",
      "input.interpret styles that failed import:\n",
      "\n",
      "input.buildcombos styles that passed import:\n",
      "- atomicarchive\n",
      "- atomicparent\n",
      "- atomicreference\n",
      "- crystalprototype\n",
      "- defect\n",
      "- interatomicpotential\n",
      "input.buildcombos styles that failed import:\n",
      "\n",
      "record styles that passed import:\n",
      "- calculation_crystal_space_group\n",
      "- calculation_dislocation_monopole\n",
      "- calculation_dislocation_periodic_array\n",
      "- calculation_dislocation_periodic_array_stress\n",
      "- calculation_dislocation_SDVPN\n",
      "- calculation_elastic_constants_static\n",
      "- calculation_E_vs_r_scan\n",
      "- calculation_point_defect_diffusion\n",
      "- calculation_point_defect_static\n",
      "- calculation_relax_box\n",
      "- calculation_relax_dynamic\n",
      "- calculation_relax_static\n",
      "- calculation_stacking_fault_map_2D\n",
      "- calculation_stacking_fault_static\n",
      "- calculation_surface_energy_static\n",
      "- crystal_prototype\n",
      "- dislocation_monopole\n",
      "- free_surface\n",
      "- per_potential_properties\n",
      "- point_defect\n",
      "- potential_LAMMPS\n",
      "- potential_openKIM_LAMMPS\n",
      "- stacking_fault\n",
      "record styles that failed import:\n",
      "- calculation_dislocation_SDVPN_stress: <class 'NotImplementedError'>: Needs updating\n",
      "\n",
      "calculation styles that passed import:\n",
      "- crystal_space_group\n",
      "- dislocation_monopole\n",
      "- dislocation_periodic_array\n",
      "- dislocation_periodic_array_stress\n",
      "- dislocation_SDVPN\n",
      "- elastic_constants_static\n",
      "- E_vs_r_scan\n",
      "- point_defect_diffusion\n",
      "- point_defect_static\n",
      "- relax_box\n",
      "- relax_dynamic\n",
      "- relax_static\n",
      "- stacking_fault_map_2D\n",
      "- stacking_fault_static\n",
      "- surface_energy_static\n",
      "calculation styles that failed import:\n",
      "- bain_transformation_map: <class 'NotImplementedError'>: Needs updating\n",
      "- dislocation_crss: <class 'NotImplementedError'>: Needs updating\n",
      "- dislocation_periodic_array_Peierls: <class 'AttributeError'>: module 'iprPy.calculation.dislocation_periodic_array_Peierls' has no attribute '__all__'\n",
      "- dislocation_SDVPN_stress: <class 'NotImplementedError'>: Needs updating\n",
      "- dislocation_vacancy: <class 'ValueError'>: NEEDS REIMPLEMENTING!\n",
      "- elastic_constants_dynamic: <class 'NotImplementedError'>: Needs updating\n",
      "- grain_boundary_bcc: <class 'NotImplementedError'>: Needs updating\n",
      "- grain_boundary_search: <class 'NotImplementedError'>: Needs updating\n",
      "\n",
      "database styles that passed import:\n",
      "- curator\n",
      "- local\n",
      "database styles that failed import:\n",
      "\n"
     ]
    }
   ],
   "source": [
    "iprPy.check_modules()"
   ]
  },
  {
   "cell_type": "markdown",
   "metadata": {},
   "source": [
    "## 2. Define database and run directory access"
   ]
  },
  {
   "cell_type": "markdown",
   "metadata": {},
   "source": [
    "The **set_database()** function allows for database access information to be saved under a simple name."
   ]
  },
  {
   "cell_type": "code",
   "execution_count": 3,
   "metadata": {},
   "outputs": [
    {
     "name": "stdout",
     "output_type": "stream",
     "text": [
      "Enter any other database parameters as key, value\n",
      "Exit by leaving key blank\n",
      "key: \n"
     ]
    }
   ],
   "source": [
    "# Specify local directory to save files to\n",
    "host = 'C:\\\\Users\\\\lmh1\\\\Documents\\\\calculations\\\\ipr\\\\demo'\n",
    "\n",
    "# Define local-style database called demo\n",
    "iprPy.set_database(name='demo', style='local', host=host)"
   ]
  },
  {
   "cell_type": "markdown",
   "metadata": {},
   "source": [
    "Similarly, the **set_run_directory()** function allows for a local run directory to be saved under a simple name. For best functionality, each run_directory should be for a unique database and number of cores."
   ]
  },
  {
   "cell_type": "code",
   "execution_count": 4,
   "metadata": {},
   "outputs": [],
   "source": [
    "# Define running directories for up to four cores\n",
    "iprPy.set_run_directory(name='demo_1', path='C:\\\\Users\\\\lmh1\\\\Documents\\\\calculations\\\\ipr\\\\torun\\\\demo\\\\1')\n",
    "iprPy.set_run_directory(name='demo_2', path='C:\\\\Users\\\\lmh1\\\\Documents\\\\calculations\\\\ipr\\\\torun\\\\demo\\\\2')\n",
    "iprPy.set_run_directory(name='demo_3', path='C:\\\\Users\\\\lmh1\\\\Documents\\\\calculations\\\\ipr\\\\torun\\\\demo\\\\3')\n",
    "iprPy.set_run_directory(name='demo_4', path='C:\\\\Users\\\\lmh1\\\\Documents\\\\calculations\\\\ipr\\\\torun\\\\demo\\\\4')"
   ]
  },
  {
   "cell_type": "markdown",
   "metadata": {},
   "source": [
    "Test that the database and run directories are set"
   ]
  },
  {
   "cell_type": "code",
   "execution_count": 5,
   "metadata": {},
   "outputs": [
    {
     "name": "stdout",
     "output_type": "stream",
     "text": [
      "database style local at C:\\Users\\lmh1\\Documents\\calculations\\ipr\\demo\n"
     ]
    }
   ],
   "source": [
    "database = iprPy.load_database('demo')\n",
    "print(database)"
   ]
  },
  {
   "cell_type": "code",
   "execution_count": 6,
   "metadata": {},
   "outputs": [
    {
     "name": "stdout",
     "output_type": "stream",
     "text": [
      "C:\\Users\\lmh1\\Documents\\calculations\\ipr\\torun\\demo\\1\n"
     ]
    }
   ],
   "source": [
    "run_directory = iprPy.load_run_directory('demo_1')\n",
    "print(run_directory)"
   ]
  },
  {
   "cell_type": "markdown",
   "metadata": {},
   "source": [
    "## 3. Build database by copying reference records into it"
   ]
  },
  {
   "cell_type": "code",
   "execution_count": 4,
   "metadata": {},
   "outputs": [],
   "source": [
    "database.build_refs()"
   ]
  },
  {
   "cell_type": "markdown",
   "metadata": {},
   "source": [
    "## 4. Check records that are uploaded"
   ]
  },
  {
   "cell_type": "markdown",
   "metadata": {},
   "source": [
    "check_records() takes an optional record style. If not specified, a prompt will ask for which record style to check."
   ]
  },
  {
   "cell_type": "code",
   "execution_count": 5,
   "metadata": {},
   "outputs": [
    {
     "name": "stdout",
     "output_type": "stream",
     "text": [
      "Select record_style:\n",
      "1 calculation_crystal_space_group\n",
      "2 calculation_dislocation_monopole\n",
      "3 calculation_dislocation_periodic_array\n",
      "4 calculation_dislocation_periodic_array_stress\n",
      "5 calculation_dislocation_SDVPN\n",
      "6 calculation_elastic_constants_static\n",
      "7 calculation_E_vs_r_scan\n",
      "8 calculation_point_defect_diffusion\n",
      "9 calculation_point_defect_static\n",
      "10 calculation_relax_box\n",
      "11 calculation_relax_dynamic\n",
      "12 calculation_relax_static\n",
      "13 calculation_stacking_fault_map_2D\n",
      "14 calculation_stacking_fault_static\n",
      "15 calculation_surface_energy_static\n",
      "16 crystal_prototype\n",
      "17 dislocation_monopole\n",
      "18 free_surface\n",
      "19 per_potential_properties\n",
      "20 point_defect\n",
      "21 potential_LAMMPS\n",
      "22 potential_openKIM_LAMMPS\n",
      "23 stacking_fault\n",
      ": 21\n",
      "\n",
      "In database style local at C:\\Users\\lmh1\\Documents\\calculations\\ipr\\master :\n",
      "- 271 of style potential_LAMMPS\n"
     ]
    }
   ],
   "source": [
    "database.check_records()"
   ]
  },
  {
   "cell_type": "code",
   "execution_count": 6,
   "metadata": {},
   "outputs": [
    {
     "name": "stdout",
     "output_type": "stream",
     "text": [
      "In database style local at C:\\Users\\lmh1\\Documents\\calculations\\ipr\\master :\n",
      "- 19 of style crystal_prototype\n"
     ]
    }
   ],
   "source": [
    "database.check_records('crystal_prototype')"
   ]
  },
  {
   "cell_type": "markdown",
   "metadata": {},
   "source": [
    "## 5. \"Forgetting\" database information\n",
    "\n",
    "The unset_database() and unset_run_directory() functions will remove the saved settings for the databases. **NOTE:** Only the stored access information is removed as the records in a database and files in a run_directory will remain."
   ]
  },
  {
   "cell_type": "code",
   "execution_count": 3,
   "metadata": {},
   "outputs": [
    {
     "name": "stdout",
     "output_type": "stream",
     "text": [
      "Database demo found\n",
      "Delete settings? (must type yes): yes\n",
      "Settings for database demo successfully deleted\n",
      "run_directory demo_1 found\n",
      "Delete settings? (must type yes): yes\n",
      "Settings for run_directory demo_1 successfully deleted\n",
      "run_directory demo_2 found\n",
      "Delete settings? (must type yes): yes\n",
      "Settings for run_directory demo_2 successfully deleted\n",
      "run_directory demo_3 found\n",
      "Delete settings? (must type yes): yes\n",
      "Settings for run_directory demo_3 successfully deleted\n",
      "run_directory demo_4 found\n",
      "Delete settings? (must type yes): yes\n",
      "Settings for run_directory demo_4 successfully deleted\n"
     ]
    }
   ],
   "source": [
    "# Clear out existing definitions\n",
    "#iprPy.unset_database(name='demo')\n",
    "#iprPy.unset_run_directory(name='demo_1')\n",
    "#iprPy.unset_run_directory(name='demo_2')\n",
    "#iprPy.unset_run_directory(name='demo_3')\n",
    "#iprPy.unset_run_directory(name='demo_4')"
   ]
  }
 ],
 "metadata": {
  "kernelspec": {
   "display_name": "Python 3",
   "language": "python",
   "name": "python3"
  },
  "language_info": {
   "codemirror_mode": {
    "name": "ipython",
    "version": 3
   },
   "file_extension": ".py",
   "mimetype": "text/x-python",
   "name": "python",
   "nbconvert_exporter": "python",
   "pygments_lexer": "ipython3",
   "version": "3.6.4"
  }
 },
 "nbformat": 4,
 "nbformat_minor": 2
}
