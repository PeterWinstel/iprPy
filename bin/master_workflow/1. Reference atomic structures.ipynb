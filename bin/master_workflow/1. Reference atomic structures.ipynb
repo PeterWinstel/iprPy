{
 "cells": [
  {
   "cell_type": "markdown",
   "metadata": {},
   "source": [
    "# Reference atomic structures\n",
    "\n",
    "This Notebook contains the workflow for fetching reference atomic crystal structures from various external sites, and comparing them to the defined crystal prototypes in the iprPy library.\n",
    "\n",
    "__WARNING:__ The functions called here access and download all matching crystal structures from the external sites.  For convenience, you should ideally limit access to only compositions of interest and/or locally copy the references between systems rather than downloading again."
   ]
  },
  {
   "cell_type": "markdown",
   "metadata": {},
   "source": [
    "__Global workflow details:__\n",
    "\n",
    "This Notebook is optional, but if used it should be executed prior to \"3. Crystal relaxation\"."
   ]
  },
  {
   "cell_type": "markdown",
   "metadata": {},
   "source": [
    "**Library imports**"
   ]
  },
  {
   "cell_type": "code",
   "execution_count": 1,
   "metadata": {},
   "outputs": [
    {
     "name": "stdout",
     "output_type": "stream",
     "text": [
      "iprPy version 0.8.3\n"
     ]
    }
   ],
   "source": [
    "# Standard Python libraries\n",
    "from __future__ import (print_function, division, absolute_import,\n",
    "                        unicode_literals)\n",
    "import os\n",
    "import glob\n",
    "\n",
    "# http://www.numpy.org/\n",
    "import numpy as np\n",
    "\n",
    "# https://pandas.pydata.org/\n",
    "import pandas as pd\n",
    "\n",
    "# https://github.com/usnistgov/atomman\n",
    "import atomman as am\n",
    "import atomman.lammps as lmp\n",
    "\n",
    "# https://github.com/usnistgov/iprPy\n",
    "import iprPy\n",
    "print('iprPy version', iprPy.__version__)"
   ]
  },
  {
   "cell_type": "markdown",
   "metadata": {},
   "source": [
    "## 1. Build unique sets of elements from included potentials"
   ]
  },
  {
   "cell_type": "markdown",
   "metadata": {},
   "source": [
    "### Load database"
   ]
  },
  {
   "cell_type": "code",
   "execution_count": 2,
   "metadata": {},
   "outputs": [],
   "source": [
    "database = iprPy.load_database('master')"
   ]
  },
  {
   "cell_type": "markdown",
   "metadata": {},
   "source": [
    "### Option #1: Get all elements lists from potentials"
   ]
  },
  {
   "cell_type": "code",
   "execution_count": 3,
   "metadata": {},
   "outputs": [],
   "source": [
    "elements_set = set()\n",
    "for potential_record in database.get_records(style='potential_LAMMPS'):\n",
    "    potential = lmp.Potential(potential_record.content)\n",
    "    elements = potential.elements()\n",
    "    elements.sort()\n",
    "    elements_set.add(' '.join(elements))"
   ]
  },
  {
   "cell_type": "markdown",
   "metadata": {},
   "source": [
    "### Option #2: Only get elements lists for certain systems"
   ]
  },
  {
   "cell_type": "code",
   "execution_count": 3,
   "metadata": {},
   "outputs": [],
   "source": [
    "#elements_set = set()\n",
    "#elements_set.add('Fe')\n",
    "#elements_set.add('Cu')\n",
    "#elements_set.add('Ni')\n",
    "#elements_set.add('Cu Ni')"
   ]
  },
  {
   "cell_type": "markdown",
   "metadata": {},
   "source": [
    "## 2. Fetch Materials Project reference structures"
   ]
  },
  {
   "cell_type": "markdown",
   "metadata": {},
   "source": [
    "### Specify personal Materials Project API key"
   ]
  },
  {
   "cell_type": "code",
   "execution_count": 4,
   "metadata": {},
   "outputs": [],
   "source": [
    "mp_api_key_location = 'C:\\\\users\\\\lmh1\\\\Documents\\\\Materials Project\\\\API key.txt'\n",
    "\n",
    "with open(mp_api_key_location) as f:\n",
    "    mp_api_key = f.read()"
   ]
  },
  {
   "cell_type": "markdown",
   "metadata": {},
   "source": [
    "### Get structures from Materials Project"
   ]
  },
  {
   "cell_type": "code",
   "execution_count": 5,
   "metadata": {},
   "outputs": [
    {
     "name": "stderr",
     "output_type": "stream",
     "text": [
      "C:\\Users\\lmh1\\AppData\\Local\\Continuum\\anaconda3\\lib\\site-packages\\pymatgen\\io\\cif.py:37: UserWarning: Please install optional dependency pybtex if youwant to extract references from CIF files.\n",
      "  warnings.warn(\"Please install optional dependency pybtex if you\"\n"
     ]
    },
    {
     "name": "stdout",
     "output_type": "stream",
     "text": [
      "Added mvc-11423\n",
      "Added mvc-11600\n",
      "Added mvc-12404\n",
      "Added mvc-12466\n",
      "Added mvc-13391\n",
      "Added mvc-4715\n"
     ]
    },
    {
     "name": "stderr",
     "output_type": "stream",
     "text": [
      "C:\\Users\\lmh1\\AppData\\Local\\Continuum\\anaconda3\\lib\\site-packages\\pymatgen\\io\\cif.py:1106: UserWarning: Issues encountered while parsing CIF:\n",
      "  warnings.warn(\"Issues encountered while parsing CIF:\")\n",
      "C:\\Users\\lmh1\\AppData\\Local\\Continuum\\anaconda3\\lib\\site-packages\\pymatgen\\io\\cif.py:1108: UserWarning: Some fractional co-ordinates rounded to ideal values to avoid finite precision errors.\n",
      "  warnings.warn(error)\n"
     ]
    },
    {
     "name": "stdout",
     "output_type": "stream",
     "text": [
      "Added mvc-5171\n",
      "Added mvc-11155\n",
      "Added mvc-11911\n",
      "Added mvc-12893\n",
      "Added mvc-13345\n",
      "Added mvc-14043\n",
      "Added mvc-14277\n",
      "Added mvc-3776\n",
      "Added mvc-3780\n",
      "Added mvc-4622\n",
      "Added mvc-12050\n",
      "Added mvc-12574\n",
      "Added mvc-12901\n",
      "Added mvc-13696\n",
      "Added mvc-5627\n",
      "0 of 646 done 0.0%\n",
      "500 of 646 done 77.4%\n",
      "646 of 646 done 100.0%\n",
      "Added mvc-13894\n",
      "Added mvc-4415\n",
      "Added mp-1008280\n",
      "Added mp-1010071\n",
      "Added mp-1025503\n",
      "Added mp-1077706\n",
      "Added mp-1087479\n",
      "Added mp-1226209\n",
      "Added mp-1226444\n",
      "Added mp-1227307\n",
      "Added mp-1012640\n",
      "Added mp-1096923\n",
      "Added mp-1183752\n",
      "Added mp-1007852\n",
      "Added mp-1080603\n",
      "Added mp-1084832\n",
      "Added mp-1096987\n",
      "Added mp-1181589\n",
      "Added mp-1225016\n",
      "Added mp-1225083\n",
      "Added mp-18695\n",
      "Added mp-2090\n",
      "Added mp-601820\n",
      "Added mp-601842\n",
      "Added mp-601848\n",
      "Added mp-641526\n",
      "Added mp-984711\n"
     ]
    }
   ],
   "source": [
    "for elements in elements_set:\n",
    "    iprPy.tools.get_mp_structures(elements.split(), api_key=mp_api_key)"
   ]
  },
  {
   "cell_type": "markdown",
   "metadata": {},
   "source": [
    "## 3. Fetch OQMD reference structures"
   ]
  },
  {
   "cell_type": "markdown",
   "metadata": {},
   "source": [
    "### Get structures from OQMD"
   ]
  },
  {
   "cell_type": "code",
   "execution_count": 6,
   "metadata": {},
   "outputs": [
    {
     "name": "stdout",
     "output_type": "stream",
     "text": [
      "Failed: Al Ni O\n",
      "Failed: Al Mg\n",
      "Failed: Al H Ni\n",
      "Failed: C H O\n",
      "Failed: Cr Fe Ni\n",
      "Failed: Cd Hg S Se Te Zn\n",
      "Failed: C Si\n",
      "Failed: Br Cl Cs F I K Li Na Rb\n",
      "Failed: Al Mg Zn\n",
      "Failed: Ag Au Cu Ni Pd Pt\n",
      "Failed: O Ti\n",
      "Failed: meta_TWIP\n",
      "Failed: Cd Te Zn\n",
      "Failed: Al Co Ni\n",
      "Failed: C Fe Ti\n",
      "Failed: Ag H Pd\n",
      "Failed: Ag O Ta\n",
      "Failed: Al Cu Fe Mg Si\n",
      "Failed: Cd Se Te\n",
      "Failed: Ni Ti V\n",
      "Failed: Cu Fe Ni\n",
      "Failed: O Si\n",
      "Failed: Al Mn Pd\n",
      "Failed: Cu Zr\n",
      "Failed: Ag Au Cu\n",
      "Failed: Al Cu H\n",
      "Failed: Ni Zr\n",
      "Failed: Cr Fe W\n",
      "Failed: Al Nb Ti\n",
      "Failed: B C N\n"
     ]
    }
   ],
   "source": [
    "for elements in elements_set:\n",
    "    try:\n",
    "        iprPy.tools.get_oqmd_structures(elements.split())\n",
    "    except:\n",
    "        print('Failed:', elements)"
   ]
  },
  {
   "cell_type": "markdown",
   "metadata": {},
   "source": [
    "## 4. Run crystal_space_group calculations on the reference structures"
   ]
  },
  {
   "cell_type": "code",
   "execution_count": 7,
   "metadata": {},
   "outputs": [],
   "source": [
    "calculation = iprPy.load_calculation('crystal_space_group')\n",
    "run_directory = iprPy.load_run_directory('master_1')"
   ]
  },
  {
   "cell_type": "code",
   "execution_count": 8,
   "metadata": {},
   "outputs": [
    {
     "name": "stdout",
     "output_type": "stream",
     "text": [
      "['length_unit', 'pressure_unit', 'energy_unit', 'force_unit', 'load_file', 'load_content', 'load_style', 'family', 'load_options', 'symbols', 'box_parameters', 'symmetryprecision', 'primitivecell', 'idealcell']\n"
     ]
    }
   ],
   "source": [
    "print(calculation.allkeys)"
   ]
  },
  {
   "cell_type": "markdown",
   "metadata": {},
   "source": [
    "### Write input script"
   ]
  },
  {
   "cell_type": "code",
   "execution_count": 9,
   "metadata": {},
   "outputs": [],
   "source": [
    "input_script = \"\"\"\n",
    "\n",
    "# Build load information based on prototype records\n",
    "buildcombos                 crystalprototype load_file proto\n",
    "\n",
    "# Build load information based on reference structures\n",
    "buildcombos                 atomicreference load_file ref\n",
    "\n",
    "# Specify reference buildcombos limiters (only build for element sets listed)\n",
    "\n",
    "# Units that input/output values are in\n",
    "length_unit                 \n",
    "pressure_unit               \n",
    "energy_unit                 \n",
    "force_unit                  \n",
    "\n",
    "# Run parameters\n",
    "symmetryprecision           \n",
    "primitivecell               \n",
    "idealcell                   \n",
    "\"\"\"\n",
    "with open('input_script.in', 'w') as f:\n",
    "    f.write(input_script)"
   ]
  },
  {
   "cell_type": "markdown",
   "metadata": {},
   "source": [
    "### Prepare calculations"
   ]
  },
  {
   "cell_type": "code",
   "execution_count": 10,
   "metadata": {},
   "outputs": [],
   "source": [
    "with open('input_script.in') as f:\n",
    "    input_dict = iprPy.input.parse(f, singularkeys=calculation.singularkeys)\n",
    "    \n",
    "database.prepare(run_directory, calculation, **input_dict)"
   ]
  },
  {
   "cell_type": "code",
   "execution_count": 11,
   "metadata": {},
   "outputs": [
    {
     "name": "stdout",
     "output_type": "stream",
     "text": [
      "In database style local at C:\\Users\\lmh1\\Documents\\calculations\\ipr\\master :\n",
      "- 38495 of style calculation_crystal_space_group\n",
      " - 37770 are complete\n",
      " - 725 still to run\n",
      " - 0 issued errors\n"
     ]
    }
   ],
   "source": [
    "database.check_records(calculation.record_style)"
   ]
  },
  {
   "cell_type": "markdown",
   "metadata": {},
   "source": [
    "### Run calculations"
   ]
  },
  {
   "cell_type": "code",
   "execution_count": 12,
   "metadata": {},
   "outputs": [
    {
     "name": "stdout",
     "output_type": "stream",
     "text": [
      "Runner started with pid 7564\n",
      "No simulations left to run\n"
     ]
    }
   ],
   "source": [
    "database.runner(run_directory)"
   ]
  },
  {
   "cell_type": "code",
   "execution_count": 13,
   "metadata": {},
   "outputs": [
    {
     "name": "stdout",
     "output_type": "stream",
     "text": [
      "0 calculations issued errors:\n"
     ]
    }
   ],
   "source": [
    "results_df = database.get_records_df(style=calculation.record_style)\n",
    "error_df = results_df[results_df.status=='error']\n",
    "print(len(error_df), 'calculations issued errors:')\n",
    "errors = []\n",
    "for error in error_df.error:\n",
    "    lines = error.splitlines()\n",
    "    err = ''\n",
    "    for i in range(len(lines)-1, -1, -1):\n",
    "        if 'Error:' in lines[i]:\n",
    "            err = '\\n'.join(lines[i:-1])\n",
    "            break\n",
    "        if i == 0:\n",
    "            err = error\n",
    "    errors.append(err)\n",
    "for error in np.unique(errors):\n",
    "    print(error)"
   ]
  },
  {
   "cell_type": "markdown",
   "metadata": {},
   "source": [
    "## 5. Match prototypes to references"
   ]
  },
  {
   "cell_type": "code",
   "execution_count": 14,
   "metadata": {},
   "outputs": [],
   "source": [
    "crystal_match_file = 'reference_prototype_match.csv'"
   ]
  },
  {
   "cell_type": "markdown",
   "metadata": {},
   "source": [
    "### Retrieve finished calculation results"
   ]
  },
  {
   "cell_type": "code",
   "execution_count": 15,
   "metadata": {},
   "outputs": [],
   "source": [
    "spg_records = database.get_records_df(style='calculation_crystal_space_group', full=True, flat=False, status='finished')"
   ]
  },
  {
   "cell_type": "markdown",
   "metadata": {},
   "source": [
    "### Identify compositions"
   ]
  },
  {
   "cell_type": "code",
   "execution_count": 16,
   "metadata": {},
   "outputs": [],
   "source": [
    "iprPy.analysis.assign_composition(spg_records, database)"
   ]
  },
  {
   "cell_type": "markdown",
   "metadata": {},
   "source": [
    "### Split all spg records into references, prototypes and calculation relaxes"
   ]
  },
  {
   "cell_type": "code",
   "execution_count": 17,
   "metadata": {},
   "outputs": [],
   "source": [
    "spg_records['record_type'] = 'calc'\n",
    "spg_records.loc[(spg_records.load_file == spg_records.family + '.poscar'), 'record_type'] = 'reference'\n",
    "spg_records.loc[(spg_records.load_file == spg_records.family + '.json'), 'record_type'] = 'prototype'\n",
    "\n",
    "prototype_records = spg_records[spg_records.record_type == 'prototype']\n",
    "reference_records = spg_records[spg_records.record_type == 'reference']\n",
    "family_records = spg_records[(spg_records.record_type == 'prototype') | (spg_records.record_type == 'reference')]\n",
    "\n",
    "calc_records = spg_records[spg_records.record_type == 'calc'].reset_index(drop=True)"
   ]
  },
  {
   "cell_type": "markdown",
   "metadata": {},
   "source": [
    "### Create crystal_match_file"
   ]
  },
  {
   "cell_type": "code",
   "execution_count": 18,
   "metadata": {},
   "outputs": [],
   "source": [
    "ref_proto_match = []\n",
    "\n",
    "for ref_record in reference_records.itertuples():\n",
    "    ref_proto_dict = {}\n",
    "    ref_proto_dict['reference'] = ref_record.family\n",
    "    ref_proto_dict['composition'] = ref_record.composition\n",
    "    ref_proto_dict['site'], ref_proto_dict['number'] = ref_record.family.split('-')\n",
    "    ref_proto_dict['number'] = int(ref_proto_dict['number'])\n",
    "    \n",
    "    # Find matching prototypes based on spg number and wykoffs\n",
    "    prototype = np.nan\n",
    "    \n",
    "    # A1--Cu--fcc\n",
    "    if (ref_record.spacegroup_number == 225 \n",
    "    and ref_record.wykoff_fingerprint in ['a', 'b']):\n",
    "        prototype = 'A1--Cu--fcc'\n",
    "    \n",
    "    # A2--W--bcc\n",
    "    elif (ref_record.spacegroup_number == 229 \n",
    "      and ref_record.wykoff_fingerprint in ['a']):\n",
    "        prototype = 'A2--W--bcc'\n",
    "    \n",
    "    # A3'--alpha-La--double-hcp\n",
    "    elif (ref_record.spacegroup_number == 194\n",
    "      and ref_record.wykoff_fingerprint in ['ab', 'ac', 'ad']):\n",
    "        prototype = \"A3'--alpha-La--double-hcp\"\n",
    "    \n",
    "    # A3--Mg--hcp\n",
    "    elif (ref_record.spacegroup_number == 194\n",
    "      and ref_record.wykoff_fingerprint in ['b', 'c', 'd']):\n",
    "        prototype = 'A3--Mg--hcp'\n",
    "        \n",
    "    # A4--C--dc\n",
    "    elif (ref_record.spacegroup_number == 227\n",
    "      and ref_record.wykoff_fingerprint in ['a', 'b']):\n",
    "        prototype = 'A4--C--dc'\n",
    "    \n",
    "    # A5--beta-Sn\n",
    "    elif (ref_record.spacegroup_number == 141\n",
    "      and ref_record.wykoff_fingerprint in ['a', 'b']):\n",
    "        prototype = 'A5--beta-Sn'\n",
    "    \n",
    "    # A6--In--bct\n",
    "    elif (ref_record.spacegroup_number == 139\n",
    "      and ref_record.wykoff_fingerprint in ['a', 'b']):\n",
    "        prototype = 'A6--In--bct'\n",
    "        \n",
    "    # A7--alpha-As\n",
    "    elif (ref_record.spacegroup_number == 166\n",
    "      and ref_record.wykoff_fingerprint in ['c']):\n",
    "        prototype = 'A7--alpha-As'\n",
    "        \n",
    "    # A15--beta-W\n",
    "    elif (ref_record.spacegroup_number == 223\n",
    "      and ref_record.wykoff_fingerprint in ['ac', 'ad']):\n",
    "        prototype = 'A15--beta-W'\n",
    "    \n",
    "    # A15--Cr3Si\n",
    "    elif (ref_record.spacegroup_number == 223\n",
    "      and ref_record.wykoff_fingerprint in ['a c', 'c a', 'a d', 'd a']):\n",
    "        prototype = 'A15--Cr3Si'\n",
    "    \n",
    "    # Ah--alpha-Po--sc\n",
    "    elif (ref_record.spacegroup_number == 221\n",
    "      and ref_record.wykoff_fingerprint in ['a', 'b']):\n",
    "        prototype = 'Ah--alpha-Po--sc'\n",
    "    \n",
    "    # B1--NaCl--rock-salt\n",
    "    elif (ref_record.spacegroup_number == 225\n",
    "      and ref_record.wykoff_fingerprint in ['a b', 'b a']):\n",
    "        prototype = 'B1--NaCl--rock-salt'\n",
    "    \n",
    "    # B2--CsCl\n",
    "    elif (ref_record.spacegroup_number == 221\n",
    "      and ref_record.wykoff_fingerprint in ['a b', 'b a']):\n",
    "        prototype = 'B2--CsCl'\n",
    "    \n",
    "    # B3--ZnS--cubic-zinc-blende\n",
    "    elif (ref_record.spacegroup_number == 216\n",
    "      and ref_record.wykoff_fingerprint in ['a c', 'c a', 'b d', 'd b', 'a d', 'd a', 'b c', 'c b']):\n",
    "        prototype = 'B3--ZnS--cubic-zinc-blende'\n",
    "    \n",
    "    # C1--CaF2--fluorite\n",
    "    elif (ref_record.spacegroup_number == 225\n",
    "      and ref_record.wykoff_fingerprint in ['a c', 'c a', 'b c', 'c b']):\n",
    "        prototype = 'C1--CaF2--fluorite'\n",
    "    \n",
    "    # D0_3--BiF3\n",
    "    elif (ref_record.spacegroup_number == 225\n",
    "      and ref_record.wykoff_fingerprint in ['a bc', 'bc a', 'b ac', 'ac b']):\n",
    "        prototype = 'D0_3--BiF3'\n",
    "    \n",
    "    # L1_0--AuCu\n",
    "    elif (ref_record.spacegroup_number == 123\n",
    "      and ref_record.wykoff_fingerprint in ['a d', 'd a', 'b c', 'c b']):\n",
    "        prototype = 'L1_0--AuCu'\n",
    "    \n",
    "    # L1_2--AuCu3\n",
    "    elif (ref_record.spacegroup_number == 221\n",
    "      and ref_record.wykoff_fingerprint in ['a c', 'c a', 'b d', 'd b']):\n",
    "        prototype = 'L1_2--AuCu3'\n",
    "    \n",
    "    # L2_1--AlCu2Mn--heusler\n",
    "    elif (ref_record.spacegroup_number == 225\n",
    "      and ref_record.wykoff_fingerprint in ['a b c', 'b c a', 'c a b', 'a c b', 'c b a', 'b a c']):\n",
    "        prototype = 'L2_1--AlCu2Mn--heusler'\n",
    "    \n",
    "    ref_proto_dict['prototype'] = prototype\n",
    "    ref_proto_match.append(ref_proto_dict)\n",
    "ref_proto_match = pd.DataFrame(ref_proto_match)\n",
    "ref_proto_match = ref_proto_match.sort_values(['site', 'number']).reset_index()\n",
    "ref_proto_match = ref_proto_match[['reference', 'prototype', 'composition']]\n",
    "ref_proto_match.to_csv(crystal_match_file, index=False)"
   ]
  },
  {
   "cell_type": "code",
   "execution_count": 19,
   "metadata": {},
   "outputs": [
    {
     "name": "stdout",
     "output_type": "stream",
     "text": [
      "A1--Cu--fcc 94\n",
      "A15--Cr3Si 5\n",
      "A15--beta-W 57\n",
      "A2--W--bcc 85\n",
      "A3'--alpha-La--double-hcp 71\n",
      "A3--Mg--hcp 109\n",
      "A4--C--dc 55\n",
      "A5--beta-Sn 59\n",
      "A6--In--bct 67\n",
      "A7--alpha-As 17\n",
      "Ah--alpha-Po--sc 19\n",
      "B1--NaCl--rock-salt 99\n",
      "B2--CsCl 108\n",
      "B3--ZnS--cubic-zinc-blende 59\n",
      "C1--CaF2--fluorite 15\n",
      "D0_3--BiF3 174\n",
      "L1_0--AuCu 50\n",
      "L1_2--AuCu3 166\n",
      "L2_1--AlCu2Mn--heusler 25\n"
     ]
    }
   ],
   "source": [
    "for protoname in sorted(prototype_records.family):\n",
    "    print(protoname, len(ref_proto_match[ref_proto_match.prototype==protoname]))"
   ]
  }
 ],
 "metadata": {
  "kernelspec": {
   "display_name": "Python 3",
   "language": "python",
   "name": "python3"
  },
  "language_info": {
   "codemirror_mode": {
    "name": "ipython",
    "version": 3
   },
   "file_extension": ".py",
   "mimetype": "text/x-python",
   "name": "python",
   "nbconvert_exporter": "python",
   "pygments_lexer": "ipython3",
   "version": "3.6.4"
  }
 },
 "nbformat": 4,
 "nbformat_minor": 2
}
