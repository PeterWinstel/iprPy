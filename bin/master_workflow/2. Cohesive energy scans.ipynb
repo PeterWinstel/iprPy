{
 "cells": [
  {
   "cell_type": "markdown",
   "metadata": {},
   "source": [
    "# Cohesive energy scans\n",
    "This Notebook follows the workflow for setting up, running, and processing the E_vs_r_scan calculations.\n",
    "\n",
    "**Quick Notes:**\n",
    "\n",
    "- All input scripts take key-value pairs where the \"key\"s correspond to the calculation's input parameters.\n",
    "\n",
    "- Multiple calculations are prepared by specifying multiple values for the same key (on separate lines).\n",
    "\n",
    "- The special \"buildcombos\" key accesses predefined functions for generating lists of input parameter values for certain sets of keys.  See documentation for more details."
   ]
  },
  {
   "cell_type": "markdown",
   "metadata": {},
   "source": [
    "__Global workflow details:__\n",
    "\n",
    "This Notebook should be executed prior to \"3. Crystal relaxation\" to generate initial guesses for stable crystal structures."
   ]
  },
  {
   "cell_type": "markdown",
   "metadata": {},
   "source": [
    "**Library imports**"
   ]
  },
  {
   "cell_type": "code",
   "execution_count": 1,
   "metadata": {},
   "outputs": [
    {
     "name": "stdout",
     "output_type": "stream",
     "text": [
      "iprPy version 0.8.3\n"
     ]
    }
   ],
   "source": [
    "# Standard Python libraries\n",
    "from __future__ import (absolute_import, print_function,\n",
    "                        division, unicode_literals)\n",
    "import os\n",
    "from copy import deepcopy\n",
    "from datetime import date\n",
    "from math import floor\n",
    "\n",
    "# http://www.numpy.org/\n",
    "import numpy as np\n",
    "\n",
    "# https://pandas.pydata.org/\n",
    "import pandas as pd\n",
    "\n",
    "# https://bokeh.pydata.org/\n",
    "import bokeh\n",
    "import bokeh.plotting\n",
    "import bokeh.resources\n",
    "import bokeh.io\n",
    "import bokeh.models\n",
    "\n",
    "from DataModelDict import DataModelDict as DM\n",
    "\n",
    "# https://github.com/usnistgov/atomman\n",
    "import atomman.unitconvert as uc\n",
    "\n",
    "# https://github.com/usnistgov/iprPy\n",
    "import iprPy\n",
    "print('iprPy version', iprPy.__version__)"
   ]
  },
  {
   "cell_type": "markdown",
   "metadata": {},
   "source": [
    "## 0. Access database "
   ]
  },
  {
   "cell_type": "markdown",
   "metadata": {},
   "source": [
    "### Load database"
   ]
  },
  {
   "cell_type": "code",
   "execution_count": 2,
   "metadata": {},
   "outputs": [],
   "source": [
    "database = iprPy.load_database('master')"
   ]
  },
  {
   "cell_type": "markdown",
   "metadata": {},
   "source": [
    "## 1. Run E_vs_r_scan calculations\n",
    "\n",
    "This calculation performs a cohesive energy versus interatomic spacing scan using ideal atomic positions and b/a and c/a ratios to identify possible low energy crystal structures."
   ]
  },
  {
   "cell_type": "code",
   "execution_count": 3,
   "metadata": {},
   "outputs": [],
   "source": [
    "calculation = iprPy.load_calculation('E_vs_r_scan')\n",
    "run_directory = iprPy.load_run_directory('master_1')"
   ]
  },
  {
   "cell_type": "markdown",
   "metadata": {},
   "source": [
    "### Show calculation's allowed keys\n",
    "\n",
    "These are the keys that the input script will accept."
   ]
  },
  {
   "cell_type": "code",
   "execution_count": 4,
   "metadata": {},
   "outputs": [
    {
     "name": "stdout",
     "output_type": "stream",
     "text": [
      "['lammps_command', 'mpi_command', 'length_unit', 'pressure_unit', 'energy_unit', 'force_unit', 'potential_file', 'potential_content', 'potential_dir', 'load_file', 'load_content', 'load_style', 'family', 'load_options', 'symbols', 'box_parameters', 'a_uvw', 'b_uvw', 'c_uvw', 'atomshift', 'sizemults', 'minimum_r', 'maximum_r', 'number_of_steps_r']\n"
     ]
    }
   ],
   "source": [
    "print(calculation.allkeys)"
   ]
  },
  {
   "cell_type": "markdown",
   "metadata": {},
   "source": [
    "### Write input script"
   ]
  },
  {
   "cell_type": "markdown",
   "metadata": {},
   "source": [
    "Script for pair_style bop"
   ]
  },
  {
   "cell_type": "code",
   "execution_count": 5,
   "metadata": {},
   "outputs": [],
   "source": [
    "input_script = \"\"\"\n",
    "# Commands and executables\n",
    "lammps_command              lmp_mpi\n",
    "mpi_command                 \n",
    "\n",
    "# Build load information based on prototype records\n",
    "buildcombos                 crystalprototype load_file prototype\n",
    "\n",
    "# Specify prototype buildcombos limiters (only build for potential listed)\n",
    "prototype_potential_currentIPR  false    \n",
    "prototype_potential_pair_style  bop\n",
    "\n",
    "# System manipulations\n",
    "a_uvw                      \n",
    "b_uvw                      \n",
    "c_uvw                  \n",
    "atomshift                   \n",
    "sizemults                   10 10 10\n",
    "\n",
    "# Units that input/output values are in\n",
    "length_unit                 \n",
    "pressure_unit               \n",
    "energy_unit                 \n",
    "force_unit                  \n",
    "\n",
    "# Run parameters\n",
    "minimum_r                   2.0\n",
    "maximum_r                   6.0\n",
    "number_of_steps_r           201  \n",
    "\"\"\"\n",
    "with open('input_script.in', 'w') as f:\n",
    "    f.write(input_script)"
   ]
  },
  {
   "cell_type": "markdown",
   "metadata": {},
   "source": [
    "Script for other pair_styles"
   ]
  },
  {
   "cell_type": "code",
   "execution_count": 7,
   "metadata": {},
   "outputs": [],
   "source": [
    "input_script = \"\"\"\n",
    "# Commands and executables\n",
    "lammps_command              lmp_mpi\n",
    "mpi_command                 \n",
    "\n",
    "# Build load information based on prototype records\n",
    "buildcombos                 crystalprototype load_file prototype\n",
    "\n",
    "# Specify prototype buildcombos limiters (only build for potential listed)\n",
    "prototype_potential_currentIPR  false    \n",
    "\n",
    "\n",
    "# System manipulations\n",
    "a_uvw                      \n",
    "b_uvw                      \n",
    "c_uvw                  \n",
    "atomshift                   \n",
    "sizemults                   10 10 10\n",
    "\n",
    "# Units that input/output values are in\n",
    "length_unit                 \n",
    "pressure_unit               \n",
    "energy_unit                 \n",
    "force_unit                  \n",
    "\n",
    "# Run parameters\n",
    "minimum_r                   0.5\n",
    "maximum_r                   6.0\n",
    "number_of_steps_r           276  \n",
    "\"\"\"\n",
    "with open('input_script.in', 'w') as f:\n",
    "    f.write(input_script)"
   ]
  },
  {
   "cell_type": "markdown",
   "metadata": {},
   "source": [
    "### Prepare calculations"
   ]
  },
  {
   "cell_type": "code",
   "execution_count": 8,
   "metadata": {},
   "outputs": [],
   "source": [
    "with open('input_script.in') as f:\n",
    "    input_dict = iprPy.input.parse(f, singularkeys=calculation.singularkeys)\n",
    "    \n",
    "database.prepare(run_directory, calculation, **input_dict)"
   ]
  },
  {
   "cell_type": "code",
   "execution_count": 10,
   "metadata": {},
   "outputs": [
    {
     "name": "stdout",
     "output_type": "stream",
     "text": [
      "In database style local at C:\\Users\\lmh1\\Documents\\calculations\\ipr\\master :\n",
      "- 10624 of style calculation_E_vs_r_scan\n",
      " - 10257 are complete\n",
      " - 0 still to run\n",
      " - 367 issued errors\n"
     ]
    }
   ],
   "source": [
    "database.check_records(calculation.record_style)"
   ]
  },
  {
   "cell_type": "markdown",
   "metadata": {},
   "source": [
    "### Run calculations"
   ]
  },
  {
   "cell_type": "code",
   "execution_count": 11,
   "metadata": {},
   "outputs": [
    {
     "name": "stdout",
     "output_type": "stream",
     "text": [
      "Runner started with pid 9588\n",
      "No simulations left to run\n"
     ]
    }
   ],
   "source": [
    "database.runner(run_directory)"
   ]
  },
  {
   "cell_type": "code",
   "execution_count": 12,
   "metadata": {},
   "outputs": [
    {
     "name": "stdout",
     "output_type": "stream",
     "text": [
      "367 calculations issued errors:\n",
      "ValueError: All LAMMPS runs failed. Potential likely invalid or incompatible.\n",
      "b''\n"
     ]
    }
   ],
   "source": [
    "results_df = database.get_records_df(style=calculation.record_style)\n",
    "error_df = results_df[results_df.status=='error']\n",
    "print(len(error_df), 'calculations issued errors:')\n",
    "errors = []\n",
    "for error in error_df.error:\n",
    "    lines = error.splitlines()\n",
    "    err = ''\n",
    "    for i in range(len(lines)-1, -1, -1):\n",
    "        if 'Error:' in lines[i]:\n",
    "            err = '\\n'.join(lines[i:-1])\n",
    "            break\n",
    "        if i == 0:\n",
    "            err = error\n",
    "    errors.append(err)\n",
    "for error in np.unique(errors):\n",
    "    print(error)"
   ]
  },
  {
   "cell_type": "markdown",
   "metadata": {},
   "source": [
    "## 2. Calculation analysis"
   ]
  },
  {
   "cell_type": "code",
   "execution_count": 13,
   "metadata": {},
   "outputs": [],
   "source": [
    "# Settings\n",
    "outputpath = 'C:/Users/lmh1/Documents/website/IPR-website/potentials/entry'\n",
    "resources = bokeh.resources.Resources(mode='cdn')"
   ]
  },
  {
   "cell_type": "markdown",
   "metadata": {},
   "source": [
    "### Retrieve finished calculation results"
   ]
  },
  {
   "cell_type": "code",
   "execution_count": 14,
   "metadata": {},
   "outputs": [],
   "source": [
    "records = database.get_records_df(style='calculation_E_vs_r_scan', full=True, flat=False, status='finished')\n",
    "pot_records = database.get_records_df(style='potential_LAMMPS')"
   ]
  },
  {
   "cell_type": "markdown",
   "metadata": {},
   "source": [
    "### Identify compositions"
   ]
  },
  {
   "cell_type": "code",
   "execution_count": 15,
   "metadata": {},
   "outputs": [],
   "source": [
    "iprPy.analysis.assign_composition(records, database)"
   ]
  },
  {
   "cell_type": "markdown",
   "metadata": {},
   "source": [
    "### Define table generation function"
   ]
  },
  {
   "cell_type": "code",
   "execution_count": 16,
   "metadata": {},
   "outputs": [],
   "source": [
    "def EvsRtable(df, potential, implementation, composition):\n",
    "    table = '\\n'.join(['# Cohesive energy (eV) vs. nearest neighbor radial distance (Angstrom).',\n",
    "                       '# potential = ' + potential,\n",
    "                       '# implementation = ' + implementation,\n",
    "                       '# composition = ' + composition,\n",
    "                       '# NOTE: These values are for static, unrelaxed structures and use the ideal',\n",
    "                       '# b/a and c/a ratios for the crystal structure, not the potential-specific',\n",
    "                       '# values.',\n",
    "                       '',\n",
    "                       '# Calculations from the NIST Interatomic Potential Repository Project:',\n",
    "                       '# http://www.ctcms.nist.gov/potentials/',\n",
    "                       '',\n",
    "                       '# Table generated ' + str(date.today())])\n",
    "    \n",
    "    table += '\\n\\nr    '\n",
    "    for series in df.itertuples():\n",
    "        family = series.family\n",
    "        if len(family) > 16: \n",
    "            family = family[:16]\n",
    "        table += '%-16s ' %family\n",
    "    table += '\\n'\n",
    "    \n",
    "    rvalues = df.iloc[0].e_vs_r_plot.r.values\n",
    "    for i in range(len(rvalues)):\n",
    "        table += '%-4.2f ' % rvalues[i]\n",
    "        for series in df.itertuples():\n",
    "            table += '% -16.9e ' % series.e_vs_r_plot.E_coh.values[i]\n",
    "        table += '\\n'\n",
    "    \n",
    "    return table              "
   ]
  },
  {
   "cell_type": "markdown",
   "metadata": {},
   "source": [
    "### Define plot generation function"
   ]
  },
  {
   "cell_type": "code",
   "execution_count": 17,
   "metadata": {},
   "outputs": [],
   "source": [
    "def get_lineformats():\n",
    "    lineformats = []\n",
    "\n",
    "    lineformats.append({'family':'A1--Cu--fcc',                'color':'black',   'line':'solid'})\n",
    "    lineformats.append({'family':'A2--W--bcc',                 'color':'blue',    'line':'solid'})\n",
    "    lineformats.append({'family':'A3--Mg--hcp',                'color':'red',     'line':'dashed'})\n",
    "    lineformats.append({'family':'A3\\'--alpha-La--double-hcp', 'color':'cyan',    'line':'dashdot'})\n",
    "    lineformats.append({'family':'A4--C--dc',                  'color':'magenta', 'line':'solid'})\n",
    "    lineformats.append({'family':'A5--beta-Sn',                'color':'#EAC117', 'line':'solid'})\n",
    "    lineformats.append({'family':'A6--In--bct',                'color':'orange',  'line':'solid'})\n",
    "    lineformats.append({'family':'A7--alpha-As',               'color':'gray',    'line':'solid'})\n",
    "    lineformats.append({'family':'A15--beta-W',                'color':'green',   'line':'solid'})\n",
    "    lineformats.append({'family':'Ah--alpha-Po--sc',           'color':'brown',   'line':'solid'})\n",
    "\n",
    "    lineformats.append({'family':'B1--NaCl--rock-salt',        'color':'black',   'line':'solid'})\n",
    "    lineformats.append({'family':'B2--CsCl',                   'color':'blue',    'line':'solid'})\n",
    "    lineformats.append({'family':'B3--ZnS--cubic-zinc-blende', 'color':'red',     'line':'solid'})\n",
    "    lineformats.append({'family':'L1_0--AuCu',                 'color':'cyan',    'line':'solid'})\n",
    "\n",
    "    lineformats.append({'family':'C1--CaF2--fluorite',         'color':'black',   'line':'solid'})\n",
    "\n",
    "    lineformats.append({'family':'A15--Cr3Si',                 'color':'black',   'line':'solid'})\n",
    "    lineformats.append({'family':'D0_3--BiF3',                 'color':'blue',    'line':'solid'})\n",
    "    lineformats.append({'family':'L1_2--AuCu3',                'color':'red',     'line':'solid'})\n",
    "\n",
    "    lineformats.append({'family':'L2_1--AlCu2Mn--heusler',     'color':'black',   'line':'solid'})\n",
    "    return pd.DataFrame(lineformats)    \n",
    "\n",
    "def EvsRplot(df, potential, implementation, composition):\n",
    "    \"\"\"Generate a Bokeh plot from the data\"\"\"\n",
    "    \n",
    "    lineformats = get_lineformats()\n",
    "    \n",
    "    # Initialize plot\n",
    "    title = 'Cohesive Energy vs. Interatomic Spacing for %s Using %s' %(composition, implementation)\n",
    "    p = bokeh.plotting.figure(title = title,\n",
    "                              plot_width = 800,\n",
    "                              plot_height = 600,\n",
    "                              x_range = [1, 6],\n",
    "                              y_range = [-10, 1],              \n",
    "                              x_axis_label='r (Angstrom)', \n",
    "                              y_axis_label='Cohesive Energy (eV/atom)')\n",
    "    \n",
    "    # Get r values\n",
    "    rvalues = df.iloc[0].e_vs_r_plot.r.values    \n",
    "    \n",
    "    # Loop over cohesive energies\n",
    "    lowylim = -1\n",
    "    for series in df.itertuples():\n",
    "        family = series.family\n",
    "        Evalues = deepcopy(series.e_vs_r_plot.E_coh.values)\n",
    "        Evalues[np.abs(np.nan_to_num(Evalues)) > 1e5] = np.nan\n",
    "        \n",
    "        lineformat = lineformats[lineformats.family==family].iloc[0]\n",
    "        \n",
    "        # Adjust lowylim if needed\n",
    "        if not np.all(np.isnan(Evalues)):\n",
    "            lowy = floor(np.nanmin(Evalues))\n",
    "            if lowy < lowylim:\n",
    "                lowylim = lowy\n",
    "        \n",
    "            # Define plot line\n",
    "            l = p.line(rvalues, Evalues, legend=family, \n",
    "                       line_color=lineformat.color, line_dash=lineformat.line, line_width = 2)  \n",
    "\n",
    "            p.add_tools(bokeh.models.HoverTool(renderers=[l],\n",
    "                                               tooltips=[(\"prototype\", family),\n",
    "                                                         (\"r (Angstrom)\", \"$x\"),\n",
    "                                                         (\"E_coh (eV)\", \"$y\")]))\n",
    "    \n",
    "    if lowylim > -10:\n",
    "        p.y_range = bokeh.models.Range1d(lowylim, 1)\n",
    "    \n",
    "    p.legend.location = \"bottom_right\"    \n",
    "    return p  "
   ]
  },
  {
   "cell_type": "markdown",
   "metadata": {},
   "source": [
    "### Create tables and plots"
   ]
  },
  {
   "cell_type": "code",
   "execution_count": 18,
   "metadata": {},
   "outputs": [
    {
     "name": "stdout",
     "output_type": "stream",
     "text": [
      "2004--Zhou-X-W--Fe--LAMMPS--ipr2 Done\n",
      "2014--Bonny-G--W-H-He-2--LAMMPS--ipr1 Done\n",
      "2013--Bonny-G--Fe-W--LAMMPS--ipr1 Done\n",
      "1987--Ackland-G-J--Ag--LAMMPS--ipr2 Done\n",
      "2017--Wang-P--TWIP--LAMMPS--ipr2 Done\n",
      "2004--Zhou-X-W--Co--LAMMPS--ipr1 Done\n",
      "2012--Park-H--Mo--LAMMPS--ipr1 Done\n",
      "1985--Foiles-S-M--Ni-Cu--LAMMPS--ipr1 Done\n",
      "2018--Etesami-S-A--Ni--LAMMPS--ipr1 Done\n",
      "2007--Munetoh-S--Si-O--LAMMPS--ipr1 Done\n",
      "2004--Zhou-X-W--Pd--LAMMPS--ipr1 Done\n",
      "2000--Lenosky-T-J--Si--LAMMPS--ipr1 Done\n",
      "2006--Sun-D-Y--Mg--LAMMPS--ipr1 Done\n",
      "2009--Mendelev-M-I--Cu-Zr--LAMMPS--ipr1 Done\n",
      "1986--Foiles-S-M--Pt--LAMMPS--ipr1 Done\n",
      "2017--Smirnova-D-E--Zr-Nb--LAMMPS--ipr1 Done\n",
      "2015--Pascuet-M-I--Al-U--LAMMPS--ipr1 Done\n",
      "2018--Howells-C-A--Cr-Ni--LAMMPS--ipr1 Done\n",
      "2016--Nichol-A--Li--LAMMPS--ipr1 Done\n",
      "1987--Ackland-G-J--Au--LAMMPS--ipr2 Done\n",
      "2013--Bonny-G--Fe-Cr-W--LAMMPS--ipr1 Done\n",
      "2017--Botu-V--Al--LAMMPS--ipr1 Done\n",
      "2003--Zope-R-R--Ti-Al--LAMMPS--ipr1 Done\n",
      "2017--Purja-Pun-G-P--Si--LAMMPS--ipr1 Done\n",
      "1987--Ackland-G-J--Ni--LAMMPS--ipr2 Done\n",
      "2015--Purja-Pun-G-P--Cu-Ta--LAMMPS--ipr1 Done\n",
      "2018--Howells-C-A--Cr--LAMMPS--ipr1 Done\n",
      "1987--Ackland-G-J--Cu--LAMMPS--ipr2 Done\n",
      "2004--Zhou-X-W--Ta--LAMMPS--ipr1 Done\n",
      "2004--Zhou-X-W--Ag--LAMMPS--ipr2 Done\n",
      "2006--Williams-P-L--Ag--LAMMPS--ipr1 Done\n",
      "2017--Los-J-H--B-N--LAMMPS--ipr1 Done\n",
      "1990--Vashishta-P--Si-O--LAMMPS--ipr1 Done\n",
      "2012--Mendelev-M-I--Ni-Zr--LAMMPS--ipr1 Done\n",
      "2018--Smirnova-D-E--Mg-H--LAMMPS--ipr1 Done\n",
      "2003--Zope-R-R--Al--LAMMPS--ipr1 Done\n",
      "2011--Bonny-G--Fe-Cr--LAMMPS--ipr1 Done\n",
      "2013--Onat-B--Cu-Ni--LAMMPS--ipr1 Done\n",
      "2010--Fellinger-M-R--Nb--LAMMPS--ipr1 Done\n",
      "2008--Mendelev-M-I--Al--LAMMPS--ipr1 Done\n",
      "2016--Borovikov-V--Cu-Zr--LAMMPS--ipr1 Done\n",
      "2002--Mishin-Y--Ni-Al--LAMMPS--ipr1 Done\n",
      "1988--Tersoff-J--Si-c--LAMMPS--ipr1 Done\n",
      "2003--Mendelev-M-I--Fe-2--LAMMPS--ipr3 Done\n",
      "2016--Nichol-A--K--LAMMPS--ipr1 Done\n",
      "1989--Adams-J-B--Ni--LAMMPS--ipr1 Done\n",
      "2005--Mendelev-M-I--Al-Fe--LAMMPS--ipr1 Done\n",
      "1987--Ackland-G-J--Mo--LAMMPS--ipr1 Done\n",
      "2006--Chamati-H--Fe--LAMMPS--Ilaksh Done\n",
      "2016--Mendelev-M-I--Ti-2--LAMMPS--ipr1 Done\n",
      "2004--Zhou-X-W--Fe--LAMMPS--ipr1 Done\n",
      "2008--Hennig-R-G--Ti--LAMMPS--ipr1 Done\n",
      "2014--Nouranian-S--CH--ipr1 Done\n",
      "2015--Purja-Pun-G-P--Ni-Co--LAMMPS--ipr2 Done\n",
      "2007--Mendelev-M-I--Zr-3--LAMMPS--ipr2 Done\n",
      "2009--Kim-H-K--Fe-Ti-C--LAMMPS--ipr2 Done\n",
      "2016--Nichol-A--K--LAMMPS--ipr2 Done\n",
      "2011--Apostol-F--Al-Cu--LAMMPS--ipr1 Done\n",
      "2009--Olsson-P-A-T--V--LAMMPS--ipr1 Done\n",
      "2004--Zhou-X-W--Mo--LAMMPS--ipr1 Done\n",
      "2015--Zhou-X-W--C--LAMMPS--ipr1 Done\n",
      "2009--Wu-H-H--Cu-Ag--LAMMPS--ipr1 Done\n",
      "1986--Foiles-S-M--Cu--LAMMPS--ipr1 Done\n",
      "2018--Wang-K--Pb-II--LAMMPS--ipr1 Done\n",
      "2013--Ward-D-K--Cd-Te-Zn--LAMMPS--ipr1 Done\n",
      "2004--Zhou-X-W--Cu-Ag-Au--LAMMPS--ipr1 Done\n",
      "2009--Stukowski-A--Fe-Cr--LAMMPS--ipr1 Done\n",
      "2013--Henriksson-K-O-E--Fe-C--LAMMPS--ipr1 Done\n",
      "2017--Maisel-S-B--V-Ni-Ti--LAMMPS--ipr1 Done\n",
      "2018--Zhou-X-W--Fe-Ni-Cr--LAMMPS--ipr2 Done\n",
      "2009--Mendelev-M-I--Al-Mg--LAMMPS--ipr1 Done\n",
      "2012--Mendelev-M-I--Cu--LAMMPS--ipr1 Done\n",
      "2016--Wilson-S-R--Mg--LAMMPS--ipr1 Done\n",
      "2007--Mendelev-M-I--Zr-2--LAMMPS--ipr1 Done\n",
      "2004--Liu-X-Y--Al--LAMMPS--ipr1 Done\n",
      "1990--Ackland-G-J--Cu--LAMMPS--ipr1 Done\n",
      "2015--Purja-Pun-G-P--Cu-Ta--LAMMPS--ipr2 Done\n",
      "2015--Asadi-E--Fe--LAMMPS--ipr1 Done\n",
      "2013--Ravelo-R--Ta-2--LAMMPS--ipr1 Done\n",
      "2009--Bonny-G--Fe-Ni--LAMMPS--ipr1 Done\n",
      "2004--Zhou-X-W--Mg--LAMMPS--ipr1 Done\n",
      "2015--Choudhary-K--Al--LAMMPS--ipr1 Done\n",
      "1997--Liu-X-Y--Al-Mg--LAMMPS--ipr1 Done\n",
      "2004--Zhou-X-W--W--LAMMPS--ipr2 Done\n",
      "2016--Zhang-P--Ti-O--LAMMPS--ipr1 Done\n",
      "2018--Setyawan-W--W-Re--LAMMPS--ipr1 Done\n",
      "2018--Etesami-S-A--Cu--LAMMPS--ipr1 Done\n",
      "2015--Mendelev-M-I--Al-Sm--LAMMPS--ipr1 Done\n",
      "2013--Bonny-G--Fe-Ni-Cr--LAMMPS--ipr1 Done\n",
      "2015--Zhou-X-W--C-Cu--LAMMPS--ipr1 Done\n",
      "2018--Etesami-S-A--Fe--LAMMPS--ipr1 Done\n",
      "1987--Ackland-G-J--Ag--LAMMPS--ipr1 Done\n",
      "2013--Hale-L-M--Pd-Ag-H-Morse--LAMMPS--ipr1 Done\n",
      "1998--Devanathan-R--Si-C--LAMMPS--ipr1 Done\n",
      "2016--Tseplyaev-V-I--U-N--LAMMPS--ipr1 Done\n",
      "2012--Mendelev-M-I--Ni--LAMMPS--ipr1 Done\n",
      "2011--Du-Y-A--Si--LAMMPS--ipr1 Done\n",
      "2015--Asadi-E--Cu--LAMMPS--ipr1 Done\n",
      "2016--Zhou-X-W--Al-Cu--LAMMPS--ipr1 Done\n",
      "2018--Pan-Z--Ag-Ni--LAMMPS--ipr1 Done\n",
      "2018--Zhou-X-W--Al-Cu-H--LAMMPS--ipr1 Done\n",
      "2016--Nichol-A--Na--LAMMPS--ipr1 Done\n",
      "1992--Ackland-G-J--Ti--LAMMPS--ipr1 Done\n",
      "1989--Wang-Z-Q--Cd-Te--LAMMPS--ipr1 Done\n",
      "2011--Zhou-X-W--Li-Na-K-Rb-Cs-F-Cl-Br-I--LAMMPS--ipr1 Done\n",
      "2007--Mendelev-M-I--Zr-1--LAMMPS--ipr1 Done\n",
      "2018--Dickel-D-E--Mg-Al-Zn--LAMMPS--ipr1 Done\n",
      "2004--Zhou-X-W--Cu--LAMMPS--ipr2 Done\n",
      "1995--Ackland-G-J--Zr--LAMMPS--ipr1 Done\n",
      "2009--Bonny-G--Fe-Cu-Ni--LAMMPS--ipr1 Done\n",
      "2004--Zhou-X-W--Co--LAMMPS--ipr2 Done\n",
      "1999--Liu-X-Y--Al-Cu--LAMMPS--ipr1 Done\n",
      "2012--Jelinek-B--Al-Si-Mg-Cu-Fe--LAMMPS--ipr2 Done\n",
      "2000--Landa-A--Al-Pb--LAMMPS--ipr1 Done\n",
      "2017--Bonny-G--W-Re--LAMMPS--ipr1 Done\n",
      "2004--Zhou-X-W--Al--LAMMPS--ipr2 Done\n",
      "2004--Zhou-X-W--Pt--LAMMPS--ipr1 Done\n",
      "2014--Fernandez-J-R--U--LAMMPS--ipr1 Done\n",
      "2009--Purja-Pun-G-P--Ni-Al--LAMMPS--ipr1 Done\n",
      "2012--Norman-G-E--Au--LAMMPS--ipr1 Done\n",
      "2003--Hoyt-J-J--Cu-Pb--LAMMPS--ipr1 Done\n",
      "2004--Zhou-X-W--Ni--LAMMPS--ipr2 Done\n",
      "2014--Liyanage-L-S-I--Fe-C--LAMMPS--ipr1 Done\n",
      "2016--Nichol-A--Cs--LAMMPS--ipr1 Done\n",
      "2009--Branicio-P-S--In-P--LAMMPS--ipr1 Done\n",
      "2008--Mendelev-M-I--Cu--LAMMPS--ipr1 Done\n",
      "2008--Hepburn-D-J--Fe-C--LAMMPS--ipr1 Done\n",
      "2008--Chenoweth-K--C-H-O--LAMMPS--ipr1 Done\n",
      "1986--Foiles-S-M--Ag--LAMMPS--ipr1 Done\n",
      "2010--Winey-J-M--Al--LAMMPS--ipr1 Done\n",
      "2010--Malerba-L--Fe--LAMMPS--ipr1 Done\n",
      "2004--Zhou-X-W--Zr--LAMMPS--ipr1 Done\n",
      "2015--Kumar-A--Al-Ni--LAMMPS--ipr1 Done\n",
      "1989--Tersoff-J--Si-Ge--LAMMPS--ipr1 Done\n",
      "1997--Broughton-J-Q--Si-O--LAMMPS--ipr1 Done\n",
      "1987--Ackland-G-J--Ni--LAMMPS--ipr1 Done\n",
      "2007--Mendelev-M-I--V-Fe--LAMMPS--ipr1 Done\n",
      "2012--Schopf-D--Al-Mn-Pd--LAMMPS--ipr1 Done\n",
      "2004--Zhou-X-W--Ta-Cu--LAMMPS--ipr2 Done\n",
      "2015--Broqvist-P--Ce-O--LAMMPS--ipr1 Done\n",
      "2007--Mendelev-M-I--Zr-3--LAMMPS--ipr1 Done\n",
      "2013--Agrawal-A--Be--LAMMPS--ipr1 Done\n",
      "2014--Bonny-G--W-H-He-1--LAMMPS--ipr1 Done\n",
      "2015--Pascuet-M-I--Al--LAMMPS--ipr1 Done\n",
      "2004--Zhou-X-W--Au--LAMMPS--ipr2 Done\n",
      "2018--Zhou-X-W--Fe-Ni-Cr--LAMMPS--ipr1 Done\n",
      "2015--Ko-W-S--Ni-Ti--LAMMPS--ipr2 Done\n",
      "2012--Proville-L--Fe--LAMMPS--Hale Done\n",
      "2003--Nord-J--Ga-N--LAMMPS--ipr1 Done\n",
      "2012--Jelinek-B--Al-Si-Mg-Cu-Fe--LAMMPS--ipr1 Done\n",
      "1989--Adams-J-B--Ag-Au-Cu-Ni-Pd-Pt--LAMMPS--ipr1 Done\n",
      "1992--Ackland-G-J--Ti--LAMMPS--ipr2 Done\n",
      "2013--Gao-H--AgTaO3--LAMMPS--ipr1 Done\n",
      "2004--Zhou-X-W--Mg--LAMMPS--ipr2 Done\n",
      "2017--Purja-Pun-G-P--Au--LAMMPS--ipr1 Done\n",
      "2016--Mendelev-M-I--Ti-3--LAMMPS--ipr1 Done\n",
      "2006--Chamati-H--Fe--LAMMPS--ipr1 Done\n",
      "1986--Foiles-S-M--Ni--LAMMPS--ipr1 Done\n",
      "2005--Grochola-G--Au--LAMMPS--ipr1 Done\n",
      "2013--Marinica-M-C--W-2--LAMMPS--ipr1 Done\n",
      "2011--Bonny-G--Fe-Ni-Cr--LAMMPS--ipr1 Done\n",
      "2010--Olsson-P-A-T--Au--LAMMPS--ipr1 Done\n",
      "2015--Islam-M-M--Li-S--LAMMPS--ipr1 Done\n",
      "2008--Fortini-A--Ru--LAMMPS--ipr1 Done\n",
      "2018--Etesami-S-A--Pb-Sn--LAMMPS--ipr1 Done\n",
      "2009--Zhakhovskii-V-V--Al--LAMMPS--ipr1 Done\n",
      "1989--Adams-J-B--Pt--LAMMPS--ipr1 Done\n",
      "2004--Zhou-X-W--Pt--LAMMPS--ipr2 Done\n",
      "2015--Pascuet-M-I--Al-U--LAMMPS--ipr2 Done\n",
      "2015--Zhou-X-W--Cu-H--LAMMPS--ipr1 Done\n",
      "2012--Proville-L--Fe--LAMMPS--ipr1 Done\n",
      "2001--Mishin-Y--Cu-1--LAMMPS--ipr1 Done\n",
      "2015--Kumar-A--Al-Ni-O--LAMMPS--ipr1 Done\n",
      "2018--Byggmastar-J--Be-O--LAMMPS--ipr1 Done\n",
      "2004--Zhou-X-W--Al--LAMMPS--ipr1 Done\n",
      "2005--Erhart-P--Si-C-II--LAMMPS--ipr1 Done\n",
      "2014--Zhou-X-W--Cd-Te-Se--LAMMPS--ipr1 Done\n",
      "2004--Zhou-X-W--Ti--LAMMPS--ipr2 Done\n",
      "2003--Han-S--W--LAMMPS--ipr1 Done\n",
      "2018--Farkas-D--Fe-Ni-Cr-Co-Cu--LAMMPS--ipr1 Done\n",
      "1989--Adams-J-B--Pd--LAMMPS--ipr1 Done\n",
      "2013--Ravelo-R--Ta-1--LAMMPS--ipr1 Done\n",
      "1999--Mishin-Y--Ni--LAMMPS--ipr1 Done\n",
      "2004--Zhou-X-W--Mo--LAMMPS--ipr2 Done\n",
      "2016--Mendelev-M-I--Ti-1--LAMMPS--ipr1 Done\n",
      "2008--Zhou-X-W--Pd-H--LAMMPS--ipr1 Done\n",
      "2004--Ackland-G-J--Fe-P--LAMMPS--ipr1 Done\n",
      "2015--Purja-Pun-G-P--Al-Co--LAMMPS--ipr2 Done\n",
      "2007--Mendelev-M-I--Cu-Zr--LAMMPS--ipr1 Done\n",
      "2004--Zhou-X-W--W--LAMMPS--ipr1 Done\n",
      "1999--Mishin-Y--Al--LAMMPS--ipr1 Done\n",
      "2004--Zhou-X-W--Pb--LAMMPS--ipr1 Done\n",
      "2007--Mendelev-M-I--Zr-2--LAMMPS--ipr2 Done\n",
      "2013--Zhou-X-W--Zn-Cd-Hg-S-Se-Te--LAMMPS--ipr1 Done\n",
      "2004--Zhou-X-W--Pb--LAMMPS--ipr2 Done\n",
      "1994--Nakano-A--Si-O--LAMMPS--ipr1 Done\n",
      "2012--Smirnova-D-E--U--LAMMPS--ipr1 Done\n",
      "2002--Albe-K--Ga-As--LAMMPS--ipr1 Done\n"
     ]
    },
    {
     "name": "stdout",
     "output_type": "stream",
     "text": [
      "1996--Farkas-D--Nb-Ti-Al--LAMMPS--ipr1 Done\n",
      "2015--Wilson-S-R--Ni-Zr--LAMMPS--ipr1 Done\n",
      "2009--Zhakhovskii-V-V--Au--LAMMPS--ipr1 Done\n",
      "1989--Tersoff-J--Si-C--LAMMPS--ipr1 Done\n",
      "1998--Liu-X-Y--Al-Mg--LAMMPS--ipr1 Done\n",
      "2015--Purja-Pun-G-P--Ni-Co--LAMMPS--ipr1 Done\n",
      "2004--Zhou-X-W--Ti--LAMMPS--ipr1 Done\n",
      "2004--Zhou-X-W--Ta--LAMMPS--ipr2 Done\n",
      "2012--Ward-D-K--Cd-Te-Zn--LAMMPS--ipr1 Done\n",
      "2015--Botu-V--Al--LAMMPS--ipr1 Done\n",
      "2018--Mendelev-M-I--Tb--LAMMPS--ipr1 Done\n",
      "2009--Olsson-P-A-T--Fe--LAMMPS--ipr1 Done\n",
      "2015--Ko-W-S--Ni-Ti--LAMMPS--ipr1 Done\n",
      "2009--Olsson-P-A-T--W--LAMMPS--ipr1 Done\n",
      "2003--Mendelev-M-I--Fe-5--LAMMPS--ipr1 Done\n",
      "2006--Bere-A--Ga-N--LAMMPS--ipr1 Done\n",
      "1986--Foiles-S-M--Au--LAMMPS--ipr1 Done\n",
      "1986--Foiles-S-M--Ag-Au-Cu-Ni-Pd-Pt--LAMMPS--ipr1 Done\n",
      "2018--Starikov-S-V--Si-Au--LAMMPS--ipr2 Done\n",
      "2017--Wang-P--TWIP--LAMMPS--ipr1 Done\n",
      "2013--Marinica-M-C--W-3--LAMMPS--ipr1 Done\n",
      "2013--Smirnova-D-E--U-Mo-Xe--LAMMPS--ipr1 Done\n",
      "2016--Nichol-A--Na--LAMMPS--ipr2 Done\n",
      "1989--Adams-J-B--Ag--LAMMPS--ipr1 Done\n",
      "2006--Murdick-D-A--Ga-As--LAMMPS--ipr1 Done\n",
      "2004--Zhou-X-W--Cu--LAMMPS--ipr1 Done\n",
      "2000--Sturgeon-J-B--Al--LAMMPS--ipr1 Done\n",
      "2016--Nichol-A--Rb--LAMMPS--ipr2 Done\n",
      "1985--Stillinger-F-H--Si--LAMMPS--ipr1 Done\n",
      "2016--Nichol-A--Li--LAMMPS--ipr2 Done\n",
      "2013--Hale-L-M--Pd-Ag-H-Hybrid--LAMMPS--ipr1 Done\n",
      "2015--Purja-Pun-G-P--Ta--LAMMPS--ipr1 Done\n",
      "2015--Purja-Pun-G-P--Ni-Al-Co--LAMMPS--ipr2 Done\n",
      "2017--OBrien-C-J--Pt-Au--LAMMPS--ipr1 Done\n",
      "1987--Ackland-G-J--Au--LAMMPS--ipr1 Done\n",
      "2018--Ko-W-S--Sn--LAMMPS--ipr1 Done\n",
      "2004--Zhou-X-W--Zr--LAMMPS--ipr2 Done\n",
      "2003--Los-J-H--C--LAMMPS--ipr1 Done\n",
      "2007--Vashishta-P--Si-C--LAMMPS--ipr1 Done\n",
      "2012--Purja-Pun-G-P--Co--LAMMPS--ipr1 Done\n",
      "1990--Tersoff-J--Si-C--LAMMPS--ipr1 Done\n",
      "2004--Zhou-X-W--Ag--LAMMPS--ipr1 Done\n",
      "1989--Adams-J-B--Cu--LAMMPS--ipr1 Done\n",
      "2018--Starikov-S-V--U-Mo--LAMMPS--ipr1 Done\n",
      "2004--Zhou-X-W--Au--LAMMPS--ipr1 Done\n",
      "1988--Tersoff-J--Si-b--LAMMPS--ipr1 Done\n",
      "2017--Mahdizadeh-S-J--Ge--LAMMPS--ipr1 Done\n",
      "2012--Jiang-C--Si-C--LAMMPS--ipr1 Done\n",
      "2012--Kinaci-A--B-N-C--LAMMPS--ipr1 Done\n",
      "2016--Nichol-A--Rb--LAMMPS--ipr1 Done\n",
      "2018--Starikov-S-V--U-Mo--LAMMPS--ipr2 Done\n",
      "2013--Marinica-M-C--W-4--LAMMPS--ipr1 Done\n",
      "2013--Gao-H--AgTaO3--LAMMPS--ipr2 Done\n",
      "2009--Kim-H-K--Fe-Ti-C--LAMMPS--ipr1 Done\n",
      "2004--Zhou-X-W--Pd--LAMMPS--ipr2 Done\n",
      "2004--Zhou-X-W--Ta-Cu--LAMMPS--ipr1 Done\n",
      "2003--Mendelev-M-I--Fe-2--LAMMPS--ipr1 Done\n",
      "1995--Angelo-J-E--Ni-Al-H--LAMMPS--ipr1 Done\n",
      "2006--Williams-P-L--Cu-Ag--LAMMPS--ipr1 Done\n",
      "1987--Ackland-G-J--Cu--LAMMPS--ipr1 Done\n",
      "1994--Tersoff-J--Si-C--LAMMPS--ipr1 Done\n",
      "1997--Ackland-G-J--Fe--LAMMPS--ipr1 Done\n",
      "2015--Asadi-E--Ni--LAMMPS--ipr1 Done\n",
      "2015--Purja-Pun-G-P--Ni-Al-Co--LAMMPS--ipr1 Done\n",
      "2016--Nichol-A--Cs--LAMMPS--ipr2 Done\n",
      "2004--Mishin-Y--Ni-Al--LAMMPS--ipr1 Done\n",
      "2004--Zhou-X-W--Ni--LAMMPS--ipr1 Done\n",
      "1989--Adams-J-B--Au--LAMMPS--ipr1 Done\n",
      "2007--Kumagai-T--Si--LAMMPS--ipr1 Done\n",
      "2015--Purja-Pun-G-P--Al-Co--LAMMPS--ipr1 Done\n",
      "2013--Onat-B--Cu-Ni--LAMMPS--ipr2 Done\n",
      "2004--Zhou-X-W--Cu-Ag-Au--LAMMPS--ipr2 Done\n",
      "2015--Wilson-S-R--Na--LAMMPS--ipr1 Done\n",
      "2003--Han-S--V--LAMMPS--ipr1 Done\n",
      "2003--Li-Y-H--Ta--LAMMPS--ipr1 Done\n",
      "1998--Justo-J-F--Si--LAMMPS--ipr1 Done\n",
      "2005--Erhart-P--Si-C-I--LAMMPS--ipr1 Done\n",
      "2014--Liyanage-L-S-I--Fe-C--LAMMPS--ipr2 Done\n",
      "2016--Zhang-Y--Ni-Nb--LAMMPS--ipr1 Done\n",
      "1986--Foiles-S-M--Pd--LAMMPS--ipr1 Done\n",
      "2012--Ward-D-K--Cd-Te--LAMMPS--ipr1 Done\n",
      "2018--Starikov-S-V--Si-Au--LAMMPS--ipr1 Done\n"
     ]
    }
   ],
   "source": [
    "runall = True\n",
    "for implememtation_key in np.unique(records.potential_LAMMPS_key):\n",
    "    imp_records = records[records.potential_LAMMPS_key == implememtation_key]\n",
    "    pot_record = pot_records[pot_records.key == implememtation_key].iloc[0]\n",
    "    implementation = pot_record.id\n",
    "    potential = pot_record.pot_id\n",
    "    contentpath = os.path.join(outputpath, potential, implementation)\n",
    "    \n",
    "    print(implementation, end=' ')\n",
    "    \n",
    "    if not os.path.isdir(contentpath):\n",
    "        os.makedirs(contentpath)\n",
    "        isnew = True\n",
    "    else:\n",
    "        isnew = False\n",
    "    \n",
    "    if runall is True or isnew is True:\n",
    "        for composition in np.unique(imp_records.composition):\n",
    "            comp_records = imp_records[imp_records.composition == composition].sort_values('family')\n",
    "            fstem = 'EvsR.' + composition\n",
    "\n",
    "            table = EvsRtable(comp_records, potential, implementation, composition)\n",
    "            with open(os.path.join(contentpath, fstem + '.txt'), 'w') as f:\n",
    "                f.write(table)\n",
    "\n",
    "            # Build EvsR plot\n",
    "            plot = EvsRplot(comp_records, potential, implementation, composition)\n",
    "            bokeh.io.save(plot, os.path.join(contentpath, fstem + '.html'),\n",
    "                          resources=resources, title='Interatomic Potentials Repository Project')\n",
    "            bokeh.io.export_png(plot, os.path.join(contentpath, fstem + '.png'))\n",
    "            bokeh.io.reset_output()\n",
    "            \n",
    "    print('Done')"
   ]
  },
  {
   "cell_type": "markdown",
   "metadata": {},
   "source": [
    "### Add info to PotentialProperties records\n",
    "\n",
    "This is for generating XML records that the Interatomic Potential Repository uses to automatically build webcontent (done elsewhere)."
   ]
  },
  {
   "cell_type": "code",
   "execution_count": 19,
   "metadata": {},
   "outputs": [],
   "source": [
    "# Add calculation data to PotentialProperties records\n",
    "for implememtation_key in np.unique(records.potential_LAMMPS_key):\n",
    "    imp_records = records[records.potential_LAMMPS_key == implememtation_key].sort_values('family')\n",
    "    pot_record = pot_records[pot_records.key == implememtation_key].iloc[0]\n",
    "    implementation_id = pot_record.id\n",
    "    potential_id = pot_record.pot_id\n",
    "    potential_key = pot_record.pot_key\n",
    "    \n",
    "    record_name = 'properties.' + implementation_id\n",
    "    try:\n",
    "        record = database.get_record(name=record_name, style='PotentialProperties')\n",
    "    except:\n",
    "        new = True\n",
    "        content = DM()\n",
    "        content['per-potential-properties'] = DM()\n",
    "        content['per-potential-properties']['potential'] = DM()\n",
    "        content['per-potential-properties']['potential']['key'] = potential_key\n",
    "        content['per-potential-properties']['potential']['id'] = potential_id\n",
    "        content['per-potential-properties']['implementation'] = DM()\n",
    "        content['per-potential-properties']['implementation']['key'] = implememtation_key\n",
    "        content['per-potential-properties']['implementation']['id'] = implementation_id\n",
    "    else:\n",
    "        content = DM(record.content)\n",
    "        new = False\n",
    "    \n",
    "    content['per-potential-properties']['cohesive-energy-scan'] = DM()\n",
    "    for composition in np.unique(imp_records.composition):\n",
    "        content['per-potential-properties']['cohesive-energy-scan'].append('composition', composition)\n",
    "    \n",
    "    if new:\n",
    "        database.add_record(name=record_name, style='PotentialProperties', content=content.xml())\n",
    "    else:\n",
    "        database.update_record(record=record, content=content.xml())"
   ]
  },
  {
   "cell_type": "code",
   "execution_count": null,
   "metadata": {},
   "outputs": [],
   "source": []
  }
 ],
 "metadata": {
  "kernelspec": {
   "display_name": "Python 3",
   "language": "python",
   "name": "python3"
  },
  "language_info": {
   "codemirror_mode": {
    "name": "ipython",
    "version": 3
   },
   "file_extension": ".py",
   "mimetype": "text/x-python",
   "name": "python",
   "nbconvert_exporter": "python",
   "pygments_lexer": "ipython3",
   "version": "3.6.4"
  }
 },
 "nbformat": 4,
 "nbformat_minor": 2
}
