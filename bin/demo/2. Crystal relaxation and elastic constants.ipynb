{
 "cells": [
  {
   "cell_type": "markdown",
   "metadata": {},
   "source": [
    "# Crystal relaxation and elastic constants\n",
    "\n",
    "This Notebook follows the workflow for identifying and analyzing bulk crystal structures as is currently being done with the Interatomic Potentials Repository.\n",
    "\n",
    "**Quick Notes:**\n",
    "\n",
    "- All input scripts take key-value pairs where the \"key\"s correspond to the calculation's input parameters.\n",
    "\n",
    "- Multiple calculations are prepared by specifying multiple values for the same key (on separate lines).\n",
    "\n",
    "- The special \"buildcombos\" key accesses predefined functions for generating lists of input parameter values for certain sets of keys.  See documentation for more details."
   ]
  },
  {
   "cell_type": "markdown",
   "metadata": {},
   "source": [
    "**Library imports**"
   ]
  },
  {
   "cell_type": "code",
   "execution_count": 1,
   "metadata": {},
   "outputs": [
    {
     "name": "stdout",
     "output_type": "stream",
     "text": [
      "iprPy version 0.8.2\n"
     ]
    }
   ],
   "source": [
    "# Standard Python libraries\n",
    "from __future__ import (absolute_import, print_function,\n",
    "                        division, unicode_literals)\n",
    "\n",
    "# http://www.numpy.org/\n",
    "import numpy as np\n",
    "\n",
    "from IPython.core.display import display, HTML\n",
    "\n",
    "# https://pandas.pydata.org/\n",
    "import pandas as pd\n",
    "\n",
    "# https://github.com/usnistgov/atomman\n",
    "import atomman.unitconvert as uc\n",
    "\n",
    "# https://github.com/usnistgov/iprPy\n",
    "import iprPy\n",
    "print('iprPy version', iprPy.__version__)"
   ]
  },
  {
   "cell_type": "markdown",
   "metadata": {},
   "source": [
    "## 0. Access database "
   ]
  },
  {
   "cell_type": "markdown",
   "metadata": {},
   "source": [
    "### Load database"
   ]
  },
  {
   "cell_type": "code",
   "execution_count": 2,
   "metadata": {},
   "outputs": [],
   "source": [
    "database = iprPy.load_database('master')\n",
    "database.build_refs()"
   ]
  },
  {
   "cell_type": "markdown",
   "metadata": {},
   "source": [
    "## 1. E_vs_r_scan calculation\n",
    "\n",
    "This calculation performs a cohesive energy versus interatomic spacing scan using ideal atomic positions and b/a and c/a ratios to identify possible low energy crystal structures."
   ]
  },
  {
   "cell_type": "code",
   "execution_count": 3,
   "metadata": {},
   "outputs": [],
   "source": [
    "calculation = iprPy.load_calculation('E_vs_r_scan')\n",
    "run_directory = iprPy.load_run_directory('master_1')"
   ]
  },
  {
   "cell_type": "markdown",
   "metadata": {},
   "source": [
    "### Show calculation's allowed keys\n",
    "\n",
    "These are the keys that the input script will accept."
   ]
  },
  {
   "cell_type": "code",
   "execution_count": 4,
   "metadata": {},
   "outputs": [
    {
     "name": "stdout",
     "output_type": "stream",
     "text": [
      "['lammps_command', 'mpi_command', 'length_unit', 'pressure_unit', 'energy_unit', 'force_unit', 'potential_file', 'potential_content', 'potential_dir', 'load_file', 'load_content', 'load_style', 'family', 'load_options', 'symbols', 'box_parameters', 'a_uvw', 'b_uvw', 'c_uvw', 'atomshift', 'sizemults', 'minimum_r', 'maximum_r', 'number_of_steps_r']\n"
     ]
    }
   ],
   "source": [
    "print(calculation.allkeys)"
   ]
  },
  {
   "cell_type": "markdown",
   "metadata": {},
   "source": [
    "### Write input script"
   ]
  },
  {
   "cell_type": "code",
   "execution_count": 14,
   "metadata": {},
   "outputs": [],
   "source": [
    "input_script = \"\"\"\n",
    "# Commands and executables\n",
    "lammps_command              lmp_mpi\n",
    "mpi_command                 \n",
    "\n",
    "# Build load information based on prototype records\n",
    "buildcombos                 crystalprototype load_file prototype\n",
    "\n",
    "# Specify prototype buildcombos limiters (only build for potential listed)\n",
    "prototype_potential_name    2015--Choudhary-K--Al--LAMMPS--ipr1\n",
    "\n",
    "# System manipulations\n",
    "a_uvw                      \n",
    "b_uvw                      \n",
    "c_uvw                  \n",
    "atomshift                   \n",
    "sizemults                   10 10 10\n",
    "\n",
    "# Units that input/output values are in\n",
    "length_unit                 \n",
    "pressure_unit               \n",
    "energy_unit                 \n",
    "force_unit                  \n",
    "\n",
    "# Run parameters\n",
    "minimum_r                   0.5\n",
    "maximum_r                   6.0\n",
    "number_of_steps_r           276  \n",
    "\"\"\"\n",
    "with open('input_script.in', 'w') as f:\n",
    "    f.write(input_script)"
   ]
  },
  {
   "cell_type": "markdown",
   "metadata": {},
   "source": [
    "### Prepare calculations"
   ]
  },
  {
   "cell_type": "code",
   "execution_count": 15,
   "metadata": {},
   "outputs": [
    {
     "name": "stdout",
     "output_type": "stream",
     "text": [
      "In database style local at C:\\Users\\lmh1\\Documents\\calculations\\ipr\\master :\n",
      "- 10 of style calculation_E_vs_r_scan\n",
      " - 0 are complete\n",
      " - 10 still to run\n",
      " - 0 issued errors\n"
     ]
    }
   ],
   "source": [
    "with open('input_script.in') as f:\n",
    "    input_dict = iprPy.input.parse(f, singularkeys=calculation.singularkeys)\n",
    "    \n",
    "database.prepare(run_directory, calculation, **input_dict)\n",
    "database.check_records(calculation.record_style)"
   ]
  },
  {
   "cell_type": "markdown",
   "metadata": {},
   "source": [
    "### Run calculations"
   ]
  },
  {
   "cell_type": "code",
   "execution_count": 17,
   "metadata": {},
   "outputs": [
    {
     "name": "stdout",
     "output_type": "stream",
     "text": [
      "Runner started with pid 12960\n",
      "No simulations left to run\n",
      "In database style local at C:\\Users\\lmh1\\Documents\\calculations\\ipr\\master :\n",
      "- 10 of style calculation_E_vs_r_scan\n",
      " - 10 are complete\n",
      " - 0 still to run\n",
      " - 0 issued errors\n"
     ]
    }
   ],
   "source": [
    "database.runner(run_directory)\n",
    "database.check_records(calculation.record_style)"
   ]
  },
  {
   "cell_type": "markdown",
   "metadata": {},
   "source": [
    "## 2. relax_box calculation\n",
    "\n",
    "This calculation statically relaxes a given system by only adjusting the box dimensions to zero pressure without any internal relaxations, i.e. all atoms retain box-relative positions."
   ]
  },
  {
   "cell_type": "code",
   "execution_count": 19,
   "metadata": {},
   "outputs": [],
   "source": [
    "calculation = iprPy.load_calculation('relax_box')\n",
    "run_directory = iprPy.load_run_directory('master_1')"
   ]
  },
  {
   "cell_type": "markdown",
   "metadata": {},
   "source": [
    "### Show calculation's allowed keys"
   ]
  },
  {
   "cell_type": "code",
   "execution_count": 20,
   "metadata": {},
   "outputs": [
    {
     "name": "stdout",
     "output_type": "stream",
     "text": [
      "['lammps_command', 'mpi_command', 'length_unit', 'pressure_unit', 'energy_unit', 'force_unit', 'potential_file', 'potential_content', 'potential_dir', 'load_file', 'load_content', 'load_style', 'family', 'load_options', 'symbols', 'box_parameters', 'a_uvw', 'b_uvw', 'c_uvw', 'atomshift', 'sizemults', 'pressure_xx', 'pressure_yy', 'pressure_zz', 'strainrange']\n"
     ]
    }
   ],
   "source": [
    "print(calculation.allkeys)"
   ]
  },
  {
   "cell_type": "markdown",
   "metadata": {},
   "source": [
    "### Write input script"
   ]
  },
  {
   "cell_type": "code",
   "execution_count": 21,
   "metadata": {},
   "outputs": [],
   "source": [
    "input_script = \"\"\"\n",
    "# Commands and executables\n",
    "lammps_command              lmp_mpi\n",
    "mpi_command                 \n",
    "\n",
    "# Build load information based on reference structures\n",
    "buildcombos                 atomicreference load_file reference\n",
    "\n",
    "# Specify reference buildcombos limiters (only build for potential listed)\n",
    "reference_potential_name    2015--Choudhary-K--Al--LAMMPS--ipr1\n",
    "\n",
    "# Build load information from E_vs_r_scan results\n",
    "buildcombos                 atomicparent load_file parent\n",
    "\n",
    "# Specify parent buildcombos terms (parent record's style and the load_key to access)\n",
    "parent_record               calculation_E_vs_r_scan              \n",
    "parent_load_key             minimum-atomic-system\n",
    "\n",
    "# System manipulations\n",
    "a_uvw                      \n",
    "b_uvw                      \n",
    "c_uvw                    \n",
    "atomshift                   \n",
    "sizemults                   10 10 10\n",
    "\n",
    "# Units that input/output values are in\n",
    "length_unit                 \n",
    "pressure_unit               \n",
    "energy_unit                 \n",
    "force_unit                  \n",
    "\n",
    "# Run parameters\n",
    "strainrange                 1e-6\n",
    "\"\"\"\n",
    "with open('input_script.in', 'w') as f:\n",
    "    f.write(input_script)"
   ]
  },
  {
   "cell_type": "markdown",
   "metadata": {},
   "source": [
    "### Prepare calculations"
   ]
  },
  {
   "cell_type": "code",
   "execution_count": 22,
   "metadata": {},
   "outputs": [
    {
     "name": "stdout",
     "output_type": "stream",
     "text": [
      "In database style local at C:\\Users\\lmh1\\Documents\\calculations\\ipr\\master :\n",
      "- 32 of style calculation_relax_box\n",
      " - 0 are complete\n",
      " - 32 still to run\n",
      " - 0 issued errors\n"
     ]
    }
   ],
   "source": [
    "with open('input_script.in') as f:\n",
    "    input_dict = iprPy.input.parse(f, singularkeys=calculation.singularkeys)\n",
    "    \n",
    "database.prepare(run_directory, calculation, **input_dict)\n",
    "database.check_records(calculation.record_style)"
   ]
  },
  {
   "cell_type": "markdown",
   "metadata": {},
   "source": [
    "### Run calculations"
   ]
  },
  {
   "cell_type": "code",
   "execution_count": 23,
   "metadata": {},
   "outputs": [
    {
     "name": "stdout",
     "output_type": "stream",
     "text": [
      "Runner started with pid 12960\n",
      "No simulations left to run\n",
      "In database style local at C:\\Users\\lmh1\\Documents\\calculations\\ipr\\master :\n",
      "- 32 of style calculation_relax_box\n",
      " - 28 are complete\n",
      " - 0 still to run\n",
      " - 4 issued errors\n"
     ]
    }
   ],
   "source": [
    "database.runner(run_directory)\n",
    "database.check_records(calculation.record_style)"
   ]
  },
  {
   "cell_type": "code",
   "execution_count": 24,
   "metadata": {},
   "outputs": [
    {
     "name": "stdout",
     "output_type": "stream",
     "text": [
      "b'Traceback (most recent call last):\r\n",
      "  File \"calc_relax_box.py\", line 458, in <module>\r\n",
      "    main(*sys.argv[1:])\r\n",
      "  File \"calc_relax_box.py\", line 54, in main\r\n",
      "    strainrange = input_dict[\\'strainrange\\'])\r\n",
      "  File \"calc_relax_box.py\", line 145, in relax_box\r\n",
      "    strainrange=strainrange, cycle=cycle)\r\n",
      "  File \"calc_relax_box.py\", line 346, in calc_cij\r\n",
      "    C = am.ElasticConstants(Cij=cij)\r\n",
      "  File \"c:\\\\users\\\\lmh1\\\\documents\\\\python-packages\\\\atomman\\\\atomman\\\\core\\\\ElasticConstants.py\", line 59, in __init__\r\n",
      "    self.Cij = kwargs[\\'Cij\\']\r\n",
      "  File \"c:\\\\users\\\\lmh1\\\\documents\\\\python-packages\\\\atomman\\\\atomman\\\\core\\\\ElasticConstants.py\", line 115, in Cij\r\n",
      "    assert value.max() > 0.0, \\'Cij values not valid\\'\r\n",
      "AssertionError: Cij values not valid\r\n",
      "'\n",
      "b'Traceback (most recent call last):\r\n",
      "  File \"calc_relax_box.py\", line 458, in <module>\r\n",
      "    main(*sys.argv[1:])\r\n",
      "  File \"calc_relax_box.py\", line 54, in main\r\n",
      "    strainrange = input_dict[\\'strainrange\\'])\r\n",
      "  File \"calc_relax_box.py\", line 145, in relax_box\r\n",
      "    strainrange=strainrange, cycle=cycle)\r\n",
      "  File \"calc_relax_box.py\", line 364, in calc_cij\r\n",
      "    raise RuntimeError(\\'Divergence of box dimensions to <= 0\\')\r\n",
      "RuntimeError: Divergence of box dimensions to <= 0\r\n",
      "'\n",
      "b'Traceback (most recent call last):\r\n",
      "  File \"calc_relax_box.py\", line 458, in <module>\r\n",
      "    main(*sys.argv[1:])\r\n",
      "  File \"calc_relax_box.py\", line 54, in main\r\n",
      "    strainrange = input_dict[\\'strainrange\\'])\r\n",
      "  File \"calc_relax_box.py\", line 177, in relax_box\r\n",
      "    raise RuntimeError(\\'Divergence of box dimensions\\')\r\n",
      "RuntimeError: Divergence of box dimensions\r\n",
      "'\n"
     ]
    }
   ],
   "source": [
    "results_df = database.get_records_df(style=calculation.record_style)\n",
    "for error in np.unique(results_df[results_df.status=='error'].error):\n",
    "    print(error)"
   ]
  },
  {
   "cell_type": "markdown",
   "metadata": {},
   "source": [
    "## 3. relax_dynamic calculation\n",
    "\n",
    "This calculation dymamically relaxes a given system for a specified number of MD integrations at a specified temperature, pressure, etc.  Here, we are only doing 0 K relaxations."
   ]
  },
  {
   "cell_type": "code",
   "execution_count": 25,
   "metadata": {},
   "outputs": [],
   "source": [
    "calculation = iprPy.load_calculation('relax_dynamic')\n",
    "run_directory = iprPy.load_run_directory('master_1')"
   ]
  },
  {
   "cell_type": "markdown",
   "metadata": {},
   "source": [
    "### Write input script"
   ]
  },
  {
   "cell_type": "code",
   "execution_count": 30,
   "metadata": {},
   "outputs": [],
   "source": [
    "input_script = \"\"\"\n",
    "# Commands and executables\n",
    "lammps_command              lmp_mpi\n",
    "mpi_command                 c:\\\\Program Files\\\\MPICH2\\\\bin\\\\mpiexec -localonly 2\n",
    "\n",
    "# Build load information based on reference structures\n",
    "buildcombos                 atomicreference load_file reference\n",
    "\n",
    "# Specify reference buildcombos limiters (only build for potential listed)\n",
    "reference_potential_name    2015--Choudhary-K--Al--LAMMPS--ipr1\n",
    "\n",
    "# Build load information from E_vs_r_scan results\n",
    "buildcombos                 atomicparent load_file parent\n",
    "\n",
    "# Specify parent buildcombos terms (parent record's style and the load_key to access)\n",
    "parent_record               calculation_E_vs_r_scan              \n",
    "parent_load_key             minimum-atomic-system\n",
    "\n",
    "# System manipulations\n",
    "a_uvw                      \n",
    "b_uvw                      \n",
    "c_uvw       \n",
    "atomshift                   \n",
    "sizemults                   10 10 10\n",
    "\n",
    "# Units that input/output values are in\n",
    "length_unit                 \n",
    "pressure_unit               \n",
    "energy_unit                 \n",
    "force_unit                  \n",
    "\n",
    "# Run parameters\n",
    "temperature                 0.0\n",
    "pressure_xx                 \n",
    "pressure_yy                 \n",
    "pressure_zz                 \n",
    "pressure_xy                 \n",
    "pressure_xz                 \n",
    "pressure_yz                 \n",
    "integrator                  nph+l\n",
    "thermosteps                 1000\n",
    "dumpsteps                   \n",
    "runsteps                    10000\n",
    "equilsteps                  0\n",
    "randomseed                  \n",
    "\"\"\"\n",
    "with open('input_script.in', 'w') as f:\n",
    "    f.write(input_script)"
   ]
  },
  {
   "cell_type": "markdown",
   "metadata": {},
   "source": [
    "### Prepare calculations"
   ]
  },
  {
   "cell_type": "code",
   "execution_count": 31,
   "metadata": {},
   "outputs": [
    {
     "name": "stdout",
     "output_type": "stream",
     "text": [
      "In database style local at C:\\Users\\lmh1\\Documents\\calculations\\ipr\\master :\n",
      "- 32 of style calculation_relax_dynamic\n",
      " - 0 are complete\n",
      " - 32 still to run\n",
      " - 0 issued errors\n"
     ]
    }
   ],
   "source": [
    "with open('input_script.in') as f:\n",
    "    input_dict = iprPy.input.parse(f, singularkeys=calculation.singularkeys)\n",
    "    \n",
    "database.prepare(run_directory, calculation, **input_dict)\n",
    "database.check_records(calculation.record_style)"
   ]
  },
  {
   "cell_type": "markdown",
   "metadata": {},
   "source": [
    "### Run calculations"
   ]
  },
  {
   "cell_type": "code",
   "execution_count": null,
   "metadata": {},
   "outputs": [
    {
     "name": "stdout",
     "output_type": "stream",
     "text": [
      "Runner started with pid 12960\n"
     ]
    }
   ],
   "source": [
    "database.runner(run_directory)\n",
    "database.check_records(calculation.record_style)"
   ]
  },
  {
   "cell_type": "code",
   "execution_count": 29,
   "metadata": {},
   "outputs": [
    {
     "name": "stdout",
     "output_type": "stream",
     "text": [
      "b'Traceback (most recent call last):\r\n",
      "  File \"c:\\\\users\\\\lmh1\\\\documents\\\\python-packages\\\\atomman\\\\atomman\\\\lammps\\\r",
      "un.py\", line 110, in run\r\n",
      "    output = sp.check_output(mpi_command + lammps_command + extra + [\\'-in\\'] + script_name)\r\n",
      "  File \"C:\\\\Users\\\\lmh1\\\\AppData\\\\Local\\\\Continuum\\\\anaconda3\\\\lib\\\\subprocess.py\", line 336, in check_output\r\n",
      "    **kwargs).stdout\r\n",
      "  File \"C:\\\\Users\\\\lmh1\\\\AppData\\\\Local\\\\Continuum\\\\anaconda3\\\\lib\\\\subprocess.py\", line 418, in run\r\n",
      "    output=stdout, stderr=stderr)\r\n",
      "subprocess.CalledProcessError: Command \\'[\\'mpiexec\\', \\'-localonly\\', \\'2\\', \\'lmp_mpi\\', \\'-in\\', \\'full_relax.in\\']\\' returned non-zero exit status 4294967295.\r\n",
      "\r\n",
      "During handling of the above exception, another exception occurred:\r\n",
      "\r\n",
      "Traceback (most recent call last):\r\n",
      "  File \"calc_relax_dynamic.py\", line 505, in <module>\r\n",
      "    main(*sys.argv[1:])\r\n",
      "  File \"calc_relax_dynamic.py\", line 59, in main\r\n",
      "    randomseed = input_dict[\\'randomseed\\'])\r\n",
      "  File \"calc_relax_dynamic.py\", line 223, in relax_dynamic\r\n",
      "    output = lmp.run(lammps_command, lammps_script, mpi_command)\r\n",
      "  File \"c:\\\\users\\\\lmh1\\\\documents\\\\python-packages\\\\atomman\\\\atomman\\\\lammps\\\r",
      "un.py\", line 116, in run\r\n",
      "    raise ValueError(\\'Invalid LAMMPS input: \\\n",
      "%s\\' % lines[-2])\r\n",
      "ValueError: Invalid LAMMPS input: \r\n",
      "Unknown option: -localonly\r",
      "\r\n",
      "'\n"
     ]
    }
   ],
   "source": [
    "results_df = database.get_records_df(style=calculation.record_style)\n",
    "for error in np.unique(results_df[results_df.status=='error'].error):\n",
    "    print(error)"
   ]
  },
  {
   "cell_type": "markdown",
   "metadata": {},
   "source": [
    "## 4. relax_static calculation\n",
    "\n",
    "This calculation statically relaxes a given system using energy minimizations combined with box dimension relaxations.  Here, we pass in results from both the E_vs_r_scan calculation and the relax_dynamic calculation."
   ]
  },
  {
   "cell_type": "code",
   "execution_count": 11,
   "metadata": {},
   "outputs": [],
   "source": [
    "calculation = iprPy.load_calculation('relax_static')\n",
    "run_directory = iprPy.load_run_directory('master_1')"
   ]
  },
  {
   "cell_type": "markdown",
   "metadata": {},
   "source": [
    "### Write input script"
   ]
  },
  {
   "cell_type": "code",
   "execution_count": 12,
   "metadata": {},
   "outputs": [],
   "source": [
    "input_script = \"\"\"\n",
    "# Commands and executables\n",
    "lammps_command              lmp_mpi\n",
    "mpi_command                 \n",
    "\n",
    "# Build load information based on reference structures\n",
    "buildcombos                 atomicreference load_file reference\n",
    "\n",
    "# Specify reference buildcombos limiters (only build for potential listed)\n",
    "reference_potential_name    2015--Choudhary-K--Al--LAMMPS--ipr1\n",
    "\n",
    "# Build load information from E_vs_r_scan results\n",
    "buildcombos                 atomicparent load_file parent\n",
    "\n",
    "# Specify parent buildcombos terms (parent record's style and the load_key to access)\n",
    "parent_record               calculation_E_vs_r_scan              \n",
    "parent_load_key             minimum-atomic-system\n",
    "\n",
    "# Build load information from relax_dynamic results\n",
    "buildcombos                 atomicarchive load_file archive\n",
    "\n",
    "# Specify archive parent buildcombos terms (parent record's style and the load_key to access)\n",
    "archive_record              calculation_relax_dynamic\n",
    "archive_load_key            final-system\n",
    "\n",
    "# System manipulations\n",
    "a_uvw                      \n",
    "b_uvw                      \n",
    "c_uvw                 \n",
    "atomshift                   \n",
    "sizemults                   1 1 1\n",
    "\n",
    "# Units that input/output values are in\n",
    "length_unit                 \n",
    "pressure_unit               \n",
    "energy_unit                 \n",
    "force_unit                  \n",
    "\n",
    "# Run parameters\n",
    "energytolerance             0.0\n",
    "forcetolerance              1e-10 eV/angstrom\n",
    "maxiterations               10000\n",
    "maxevaluations              100000\n",
    "maxatommotion               0.01 angstrom\n",
    "maxcycles                   100\n",
    "cycletolerance              1e-10\n",
    "\"\"\"\n",
    "with open('input_script.in', 'w') as f:\n",
    "    f.write(input_script)"
   ]
  },
  {
   "cell_type": "markdown",
   "metadata": {},
   "source": [
    "### Prepare calculations"
   ]
  },
  {
   "cell_type": "code",
   "execution_count": 13,
   "metadata": {},
   "outputs": [
    {
     "name": "stdout",
     "output_type": "stream",
     "text": [
      "In database style local at C:\\Users\\lmh1\\Documents\\calculations\\ipr\\master :\n",
      "- 64 of style calculation_relax_static\n",
      " - 0 are complete\n",
      " - 64 still to run\n",
      " - 0 issued errors\n"
     ]
    }
   ],
   "source": [
    "with open('input_script.in') as f:\n",
    "    input_dict = iprPy.input.parse(f, singularkeys=calculation.singularkeys)\n",
    "    \n",
    "database.prepare(run_directory, calculation, **input_dict)\n",
    "database.check_records(calculation.record_style)"
   ]
  },
  {
   "cell_type": "markdown",
   "metadata": {},
   "source": [
    "### Run calculations"
   ]
  },
  {
   "cell_type": "code",
   "execution_count": 14,
   "metadata": {},
   "outputs": [
    {
     "name": "stdout",
     "output_type": "stream",
     "text": [
      "Runner started with pid 15832\n",
      "Didn't find an open simulation\n",
      "No simulations left to run\n",
      "In database style local at C:\\Users\\lmh1\\Documents\\calculations\\ipr\\master :\n",
      "- 64 of style calculation_relax_static\n",
      " - 54 are complete\n",
      " - 1 still to run\n",
      " - 9 issued errors\n"
     ]
    }
   ],
   "source": [
    "database.runner(run_directory)\n",
    "database.check_records(calculation.record_style)"
   ]
  },
  {
   "cell_type": "code",
   "execution_count": 15,
   "metadata": {},
   "outputs": [
    {
     "name": "stdout",
     "output_type": "stream",
     "text": [
      "b'Traceback (most recent call last):\r\n",
      "  File \"C:\\\\Users\\\\lmh1\\\\AppData\\\\Local\\\\Continuum\\\\Anaconda3\\\\lib\\\\shutil.py\", line 544, in move\r\n",
      "    os.rename(src, real_dst)\r\n",
      "FileNotFoundError: [WinError 2] The system cannot find the file specified: \\'10000.dump\\' -> \\'relax_static-0.dump\\'\r\n",
      "\r\n",
      "During handling of the above exception, another exception occurred:\r\n",
      "\r\n",
      "Traceback (most recent call last):\r\n",
      "  File \"calc_relax_static.py\", line 380, in <module>\r\n",
      "    main(*sys.argv[1:])\r\n",
      "  File \"calc_relax_static.py\", line 62, in main\r\n",
      "    ctol = input_dict[\\'cycletolerance\\'])\r\n",
      "  File \"calc_relax_static.py\", line 231, in relax_static\r\n",
      "    shutil.move(last_dump_file, renamed_dump_file)\r\n",
      "  File \"C:\\\\Users\\\\lmh1\\\\AppData\\\\Local\\\\Continuum\\\\Anaconda3\\\\lib\\\\shutil.py\", line 558, in move\r\n",
      "    copy_function(src, real_dst)\r\n",
      "  File \"C:\\\\Users\\\\lmh1\\\\AppData\\\\Local\\\\Continuum\\\\Anaconda3\\\\lib\\\\shutil.py\", line 257, in copy2\r\n",
      "    copyfile(src, dst, follow_symlinks=follow_symlinks)\r\n",
      "  File \"C:\\\\Users\\\\lmh1\\\\AppData\\\\Local\\\\Continuum\\\\Anaconda3\\\\lib\\\\shutil.py\", line 120, in copyfile\r\n",
      "    with open(src, \\'rb\\') as fsrc:\r\n",
      "FileNotFoundError: [Errno 2] No such file or directory: \\'10000.dump\\'\r\n",
      "'\n",
      "b'Traceback (most recent call last):\r\n",
      "  File \"C:\\\\Users\\\\lmh1\\\\AppData\\\\Local\\\\Continuum\\\\anaconda3\\\\lib\\\\shutil.py\", line 544, in move\r\n",
      "    os.rename(src, real_dst)\r\n",
      "FileNotFoundError: [WinError 2] The system cannot find the file specified: \\'10000.dump\\' -> \\'relax_static-0.dump\\'\r\n",
      "\r\n",
      "During handling of the above exception, another exception occurred:\r\n",
      "\r\n",
      "Traceback (most recent call last):\r\n",
      "  File \"calc_relax_static.py\", line 380, in <module>\r\n",
      "    main(*sys.argv[1:])\r\n",
      "  File \"calc_relax_static.py\", line 62, in main\r\n",
      "    ctol = input_dict[\\'cycletolerance\\'])\r\n",
      "  File \"calc_relax_static.py\", line 231, in relax_static\r\n",
      "    shutil.move(last_dump_file, renamed_dump_file)\r\n",
      "  File \"C:\\\\Users\\\\lmh1\\\\AppData\\\\Local\\\\Continuum\\\\anaconda3\\\\lib\\\\shutil.py\", line 558, in move\r\n",
      "    copy_function(src, real_dst)\r\n",
      "  File \"C:\\\\Users\\\\lmh1\\\\AppData\\\\Local\\\\Continuum\\\\anaconda3\\\\lib\\\\shutil.py\", line 257, in copy2\r\n",
      "    copyfile(src, dst, follow_symlinks=follow_symlinks)\r\n",
      "  File \"C:\\\\Users\\\\lmh1\\\\AppData\\\\Local\\\\Continuum\\\\anaconda3\\\\lib\\\\shutil.py\", line 120, in copyfile\r\n",
      "    with open(src, \\'rb\\') as fsrc:\r\n",
      "FileNotFoundError: [Errno 2] No such file or directory: \\'10000.dump\\'\r\n",
      "'\n",
      "b'Traceback (most recent call last):\r\n",
      "  File \"C:\\\\Users\\\\lmh1\\\\AppData\\\\Local\\\\Continuum\\\\anaconda3\\\\lib\\\\shutil.py\", line 544, in move\r\n",
      "    os.rename(src, real_dst)\r\n",
      "FileNotFoundError: [WinError 2] The system cannot find the file specified: \\'10000.dump\\' -> \\'relax_static-1.dump\\'\r\n",
      "\r\n",
      "During handling of the above exception, another exception occurred:\r\n",
      "\r\n",
      "Traceback (most recent call last):\r\n",
      "  File \"calc_relax_static.py\", line 380, in <module>\r\n",
      "    main(*sys.argv[1:])\r\n",
      "  File \"calc_relax_static.py\", line 62, in main\r\n",
      "    ctol = input_dict[\\'cycletolerance\\'])\r\n",
      "  File \"calc_relax_static.py\", line 231, in relax_static\r\n",
      "    shutil.move(last_dump_file, renamed_dump_file)\r\n",
      "  File \"C:\\\\Users\\\\lmh1\\\\AppData\\\\Local\\\\Continuum\\\\anaconda3\\\\lib\\\\shutil.py\", line 558, in move\r\n",
      "    copy_function(src, real_dst)\r\n",
      "  File \"C:\\\\Users\\\\lmh1\\\\AppData\\\\Local\\\\Continuum\\\\anaconda3\\\\lib\\\\shutil.py\", line 257, in copy2\r\n",
      "    copyfile(src, dst, follow_symlinks=follow_symlinks)\r\n",
      "  File \"C:\\\\Users\\\\lmh1\\\\AppData\\\\Local\\\\Continuum\\\\anaconda3\\\\lib\\\\shutil.py\", line 120, in copyfile\r\n",
      "    with open(src, \\'rb\\') as fsrc:\r\n",
      "FileNotFoundError: [Errno 2] No such file or directory: \\'10000.dump\\'\r\n",
      "'\n",
      "b'Traceback (most recent call last):\r\n",
      "  File \"calc_relax_static.py\", line 380, in <module>\r\n",
      "    main(*sys.argv[1:])\r\n",
      "  File \"calc_relax_static.py\", line 42, in main\r\n",
      "    process_input(input_dict, *args[1:])\r\n",
      "  File \"calc_relax_static.py\", line 377, in process_input\r\n",
      "    iprPy.input.interpret(\\'atomman_systemmanipulate\\', input_dict, build=build)\r\n",
      "  File \"c:\\\\users\\\\lmh1\\\\documents\\\\python-packages\\\\iprpy\\\\iprPy\\\\input\\\\interpret.py\", line 14, in interpret\r\n",
      "    loaded[style](input_dict, build=build, **kwargs)\r\n",
      "  File \"c:\\\\users\\\\lmh1\\\\documents\\\\python-packages\\\\iprpy\\\\iprPy\\\\input\\\\interpret_functions\\\\atomman_systemmanipulate.py\", line 139, in atomman_systemmanipulate\r\n",
      "    initialsystem, transform = ucell.rotate(uvws, return_transform=True)\r\n",
      "  File \"c:\\\\users\\\\lmh1\\\\documents\\\\python-packages\\\\atomman\\\\atomman\\\\core\\\\System.py\", line 668, in rotate\r\n",
      "    \\'atoms expected, \\' + str(len(aindex[0])) + \\' found\\')\r\n",
      "ValueError: Filtering failed: 2000atoms expected, 1660 found\r\n",
      "'\n",
      "b'Traceback (most recent call last):\r\n",
      "  File \"calc_relax_static.py\", line 380, in <module>\r\n",
      "    main(*sys.argv[1:])\r\n",
      "  File \"calc_relax_static.py\", line 42, in main\r\n",
      "    process_input(input_dict, *args[1:])\r\n",
      "  File \"calc_relax_static.py\", line 377, in process_input\r\n",
      "    iprPy.input.interpret(\\'atomman_systemmanipulate\\', input_dict, build=build)\r\n",
      "  File \"c:\\\\users\\\\lmh1\\\\documents\\\\python-packages\\\\iprpy\\\\iprPy\\\\input\\\\interpret.py\", line 14, in interpret\r\n",
      "    loaded[style](input_dict, build=build, **kwargs)\r\n",
      "  File \"c:\\\\users\\\\lmh1\\\\documents\\\\python-packages\\\\iprpy\\\\iprPy\\\\input\\\\interpret_functions\\\\atomman_systemmanipulate.py\", line 139, in atomman_systemmanipulate\r\n",
      "    initialsystem, transform = ucell.rotate(uvws, return_transform=True)\r\n",
      "  File \"c:\\\\users\\\\lmh1\\\\documents\\\\python-packages\\\\atomman\\\\atomman\\\\core\\\\System.py\", line 668, in rotate\r\n",
      "    \\'atoms expected, \\' + str(len(aindex[0])) + \\' found\\')\r\n",
      "ValueError: Filtering failed: 3000atoms expected, 2559 found\r\n",
      "'\n",
      "b'Traceback (most recent call last):\r\n",
      "  File \"calc_relax_static.py\", line 380, in <module>\r\n",
      "    main(*sys.argv[1:])\r\n",
      "  File \"calc_relax_static.py\", line 62, in main\r\n",
      "    ctol = input_dict[\\'cycletolerance\\'])\r\n",
      "  File \"calc_relax_static.py\", line 245, in relax_static\r\n",
      "    raise RuntimeError(\\'Failed to converge after \\' + str(maxcycles) + \\' cycles\\')\r\n",
      "RuntimeError: Failed to converge after 100 cycles\r\n",
      "'\n"
     ]
    }
   ],
   "source": [
    "results_df = database.get_records_df(style=calculation.record_style)\n",
    "for error in np.unique(results_df[results_df.status=='error'].error):\n",
    "    print(error)"
   ]
  },
  {
   "cell_type": "markdown",
   "metadata": {},
   "source": [
    "## 5. crystal_space_group calculation\n",
    "\n",
    "This calculation analyzes the space group of a given system.  Here, this is used to determine if the bulk system's structure has transformed."
   ]
  },
  {
   "cell_type": "code",
   "execution_count": 16,
   "metadata": {},
   "outputs": [],
   "source": [
    "calculation = iprPy.load_calculation('crystal_space_group')\n",
    "run_directory = iprPy.load_run_directory('master_1')"
   ]
  },
  {
   "cell_type": "code",
   "execution_count": 17,
   "metadata": {},
   "outputs": [
    {
     "name": "stdout",
     "output_type": "stream",
     "text": [
      "['length_unit', 'pressure_unit', 'energy_unit', 'force_unit', 'load_file', 'load_content', 'load_style', 'family', 'load_options', 'symbols', 'box_parameters', 'symmetryprecision', 'primitivecell', 'idealcell']\n"
     ]
    }
   ],
   "source": [
    "print(calculation.allkeys)"
   ]
  },
  {
   "cell_type": "markdown",
   "metadata": {},
   "source": [
    "### Write input script"
   ]
  },
  {
   "cell_type": "code",
   "execution_count": 18,
   "metadata": {},
   "outputs": [],
   "source": [
    "input_script = \"\"\"\n",
    "\n",
    "# Build load information based on prototype records\n",
    "buildcombos                 crystalprototype load_file\n",
    "\n",
    "# Build load information based on reference structures\n",
    "buildcombos                 atomicreference load_file ref\n",
    "\n",
    "# Specify reference buildcombos limiters (only build for element sets listed)\n",
    "ref_elements                Al\n",
    "\n",
    "# Build load information from relax_static results\n",
    "buildcombos                 atomicarchive load_file relax_static\n",
    "\n",
    "# Specify archive parent buildcombos terms (parent record's style and the load_key to access)\n",
    "relax_static_record         calculation_relax_static\n",
    "relax_static_load_key       final-system\n",
    "\n",
    "# Build load information from relax_box results\n",
    "buildcombos                 atomicarchive load_file relax_box\n",
    "\n",
    "# Specify archive parent buildcombos terms (parent record's style and the load_key to access)\n",
    "relax_box_record            calculation_relax_box\n",
    "relax_box_load_key          final-system\n",
    "\n",
    "# Units that input/output values are in\n",
    "length_unit                 \n",
    "pressure_unit               \n",
    "energy_unit                 \n",
    "force_unit                  \n",
    "\n",
    "# Run parameters\n",
    "symmetryprecision           \n",
    "primitivecell               \n",
    "idealcell                   \n",
    "\"\"\"\n",
    "with open('input_script.in', 'w') as f:\n",
    "    f.write(input_script)"
   ]
  },
  {
   "cell_type": "markdown",
   "metadata": {},
   "source": [
    "### Prepare calculations"
   ]
  },
  {
   "cell_type": "code",
   "execution_count": 19,
   "metadata": {},
   "outputs": [
    {
     "name": "stdout",
     "output_type": "stream",
     "text": [
      "In database style local at C:\\Users\\lmh1\\Documents\\calculations\\ipr\\master :\n",
      "- 4912 of style calculation_crystal_space_group\n",
      " - 4857 are complete\n",
      " - 55 still to run\n",
      " - 0 issued errors\n"
     ]
    }
   ],
   "source": [
    "with open('input_script.in') as f:\n",
    "    input_dict = iprPy.input.parse(f, singularkeys=calculation.singularkeys)\n",
    "    \n",
    "database.prepare(run_directory, calculation, **input_dict)\n",
    "database.check_records(calculation.record_style)"
   ]
  },
  {
   "cell_type": "markdown",
   "metadata": {},
   "source": [
    "### Run calculations"
   ]
  },
  {
   "cell_type": "code",
   "execution_count": 20,
   "metadata": {},
   "outputs": [
    {
     "name": "stdout",
     "output_type": "stream",
     "text": [
      "Runner started with pid 15832\n",
      "Didn't find an open simulation\n",
      "No simulations left to run\n",
      "In database style local at C:\\Users\\lmh1\\Documents\\calculations\\ipr\\master :\n",
      "- 4912 of style calculation_crystal_space_group\n",
      " - 4912 are complete\n",
      " - 0 still to run\n",
      " - 0 issued errors\n"
     ]
    }
   ],
   "source": [
    "database.runner(run_directory)\n",
    "database.check_records(calculation.record_style)"
   ]
  },
  {
   "cell_type": "code",
   "execution_count": 29,
   "metadata": {},
   "outputs": [],
   "source": [
    "results_df = database.get_records_df(style=calculation.record_style)\n",
    "for error in np.unique(results_df[results_df.status=='error'].error):\n",
    "    print(error)"
   ]
  },
  {
   "cell_type": "markdown",
   "metadata": {},
   "source": [
    "## 6. Analyze\n",
    "\n",
    "This code analyzes the results of the previous calculations to identify the systems that did not transform upon relaxation."
   ]
  },
  {
   "cell_type": "markdown",
   "metadata": {},
   "source": [
    "### Get parent records"
   ]
  },
  {
   "cell_type": "code",
   "execution_count": 30,
   "metadata": {},
   "outputs": [],
   "source": [
    "relax_box_df = database.get_records_df(style='calculation_relax_box', full=True, flat=True)\n",
    "relax_static_df = database.get_records_df(style='calculation_relax_static', full=True, flat=True)\n",
    "relax_dynamic_df = database.get_records_df(style='calculation_relax_dynamic', full=True, flat=True)\n",
    "crystal_space_group_df = database.get_records_df(style='calculation_crystal_space_group', full=True, flat=True) "
   ]
  },
  {
   "cell_type": "markdown",
   "metadata": {},
   "source": [
    "### Split into reference, prototype and results"
   ]
  },
  {
   "cell_type": "code",
   "execution_count": 31,
   "metadata": {},
   "outputs": [],
   "source": [
    "reference_df = crystal_space_group_df[(crystal_space_group_df.family+'.poscar'==crystal_space_group_df.load_file)]\n",
    "prototype_df = crystal_space_group_df[(crystal_space_group_df.family+'.json'==crystal_space_group_df.load_file)]\n",
    "reference_index = reference_df.index\n",
    "prototype_index = prototype_df.index\n",
    "relaxed_index = crystal_space_group_df.index.difference(reference_index.union(prototype_index))\n",
    "relaxed_df = crystal_space_group_df.iloc[relaxed_index]\n",
    "\n",
    "reference_df = reference_df.reset_index()\n",
    "prototype_df = prototype_df.reset_index()\n",
    "relaxed_df = relaxed_df.reset_index()"
   ]
  },
  {
   "cell_type": "markdown",
   "metadata": {},
   "source": [
    "### Indentify structures that transformed"
   ]
  },
  {
   "cell_type": "code",
   "execution_count": 32,
   "metadata": {},
   "outputs": [],
   "source": [
    "match_df = pd.read_csv('reference_prototype_match.csv')"
   ]
  },
  {
   "cell_type": "code",
   "execution_count": 33,
   "metadata": {},
   "outputs": [],
   "source": [
    "results_df = []\n",
    "for series in relaxed_df.itertuples():\n",
    "    results_dict = {}\n",
    "    results_dict['key'] = series.key\n",
    "    results_dict['family'] = series.family\n",
    "    results_dict['a (Å)'] = series.a\n",
    "    results_dict['b (Å)'] = series.b\n",
    "    results_dict['c (Å)'] = series.c\n",
    "    results_dict['alpha'] = series.alpha\n",
    "    results_dict['beta'] = series.beta\n",
    "    results_dict['gamma'] = series.gamma\n",
    "    \n",
    "    try:\n",
    "        family_series = reference_df[reference_df.family == series.family].iloc[0]\n",
    "    except:\n",
    "        family_series = prototype_df[prototype_df.family == series.family].iloc[0]\n",
    "        results_dict['prototype'] = series.family\n",
    "    else:\n",
    "        prototype = match_df[match_df.reference==series.family].prototype.values[0]\n",
    "        if prototype != 'multiple':\n",
    "            results_dict['prototype'] = prototype\n",
    "    \n",
    "    results_dict['transformed'] = not (family_series.spacegroup_number == series.spacegroup_number\n",
    "                                       and family_series.pearson_symbol == series.pearson_symbol)\n",
    "    \n",
    "    for parent in database.get_parent_records(name=series.key):\n",
    "        parent_dict = parent.todict()\n",
    "        if parent_dict['key'] in relax_box_df.key.tolist():\n",
    "            results_dict['method'] = 'box'\n",
    "            results_dict['E_cohesive (eV)'] = parent_dict['E_cohesive']\n",
    "            results_dict['potential_LAMMPS_id'] = parent_dict['potential_LAMMPS_id']\n",
    "            continue\n",
    "        elif parent_dict['key'] in relax_dynamic_df.key.tolist():\n",
    "            results_dict['method'] = 'dynamic'\n",
    "        elif parent_dict['key'] in relax_static_df.key.tolist():\n",
    "            if 'relaxation' not in results_dict:\n",
    "                results_dict['method'] = 'static'\n",
    "            results_dict['E_cohesive (eV)'] = parent_dict['E_cohesive']\n",
    "            results_dict['potential_LAMMPS_id'] = parent_dict['potential_LAMMPS_id']\n",
    "    \n",
    "    results_df.append(results_dict)\n",
    "results_df = pd.DataFrame(results_df).sort_values('E_cohesive (eV)')"
   ]
  },
  {
   "cell_type": "markdown",
   "metadata": {},
   "source": [
    "### Filter out transformed and duplicate structures"
   ]
  },
  {
   "cell_type": "code",
   "execution_count": 34,
   "metadata": {},
   "outputs": [],
   "source": [
    "filtered_df = results_df[results_df.transformed == False].reset_index()\n",
    "\n",
    "skipindex = set()\n",
    "nresults = len(filtered_df)\n",
    "for i in range(nresults):\n",
    "    iseries = filtered_df.iloc[i]\n",
    "    for j in range(i+1, nresults):\n",
    "        jseries = filtered_df.iloc[j]\n",
    "        if (np.isclose(iseries['E_cohesive (eV)'], jseries['E_cohesive (eV)'], rtol=0.0, atol=0.001)\n",
    "            and np.isclose(iseries['a (Å)'], jseries['a (Å)'], rtol=0.0, atol=0.001)\n",
    "            and np.isclose(iseries['b (Å)'], jseries['b (Å)'], rtol=0.0, atol=0.001)\n",
    "            and np.isclose(iseries['c (Å)'], jseries['c (Å)'], rtol=0.0, atol=0.001)):\n",
    "            \n",
    "            if iseries.method == 'dynamic' or iseries.method == jseries.method:\n",
    "                skipindex.add(j)\n",
    "            elif jseries.method == 'dynamic':\n",
    "                skipindex.add(i)\n",
    "            elif iseries.method == 'static':\n",
    "                skipindex.add(j)\n",
    "            elif jseries.method == 'static':\n",
    "                skipindex.add(i)\n",
    "            else:\n",
    "                raise ValueError('oops!')\n",
    "            \n",
    "filtered_df = filtered_df.iloc[filtered_df.index.difference(skipindex)]"
   ]
  },
  {
   "cell_type": "code",
   "execution_count": 35,
   "metadata": {},
   "outputs": [
    {
     "data": {
      "text/html": [
       "<table border=\"1\" class=\"dataframe\">\n",
       "  <thead>\n",
       "    <tr style=\"text-align: right;\">\n",
       "      <th>prototype</th>\n",
       "      <th>method</th>\n",
       "      <th>E_cohesive (eV)</th>\n",
       "      <th>a (Å)</th>\n",
       "      <th>b (Å)</th>\n",
       "      <th>c (Å)</th>\n",
       "      <th>alpha</th>\n",
       "      <th>beta</th>\n",
       "      <th>gamma</th>\n",
       "    </tr>\n",
       "  </thead>\n",
       "  <tbody>\n",
       "    <tr>\n",
       "      <td>A1--Cu--fcc</td>\n",
       "      <td>dynamic</td>\n",
       "      <td>-2.850000</td>\n",
       "      <td>4.090000</td>\n",
       "      <td>4.090000</td>\n",
       "      <td>4.090000</td>\n",
       "      <td>90.0</td>\n",
       "      <td>90.0</td>\n",
       "      <td>90.0</td>\n",
       "    </tr>\n",
       "    <tr>\n",
       "      <td>A3'--alpha-La--double-hcp</td>\n",
       "      <td>dynamic</td>\n",
       "      <td>-2.847933</td>\n",
       "      <td>2.894028</td>\n",
       "      <td>2.894028</td>\n",
       "      <td>9.404149</td>\n",
       "      <td>90.0</td>\n",
       "      <td>90.0</td>\n",
       "      <td>120.0</td>\n",
       "    </tr>\n",
       "    <tr>\n",
       "      <td>NaN</td>\n",
       "      <td>dynamic</td>\n",
       "      <td>-2.847337</td>\n",
       "      <td>2.894819</td>\n",
       "      <td>2.894819</td>\n",
       "      <td>21.124963</td>\n",
       "      <td>90.0</td>\n",
       "      <td>90.0</td>\n",
       "      <td>120.0</td>\n",
       "    </tr>\n",
       "    <tr>\n",
       "      <td>A3--Mg--hcp</td>\n",
       "      <td>dynamic</td>\n",
       "      <td>-2.846152</td>\n",
       "      <td>2.896389</td>\n",
       "      <td>2.896389</td>\n",
       "      <td>4.679309</td>\n",
       "      <td>90.0</td>\n",
       "      <td>90.0</td>\n",
       "      <td>120.0</td>\n",
       "    </tr>\n",
       "    <tr>\n",
       "      <td>A2--W--bcc</td>\n",
       "      <td>dynamic</td>\n",
       "      <td>-2.816878</td>\n",
       "      <td>3.238595</td>\n",
       "      <td>3.238595</td>\n",
       "      <td>3.238595</td>\n",
       "      <td>90.0</td>\n",
       "      <td>90.0</td>\n",
       "      <td>90.0</td>\n",
       "    </tr>\n",
       "    <tr>\n",
       "      <td>NaN</td>\n",
       "      <td>dynamic</td>\n",
       "      <td>-2.783123</td>\n",
       "      <td>7.067260</td>\n",
       "      <td>7.067260</td>\n",
       "      <td>7.067260</td>\n",
       "      <td>90.0</td>\n",
       "      <td>90.0</td>\n",
       "      <td>90.0</td>\n",
       "    </tr>\n",
       "    <tr>\n",
       "      <td>NaN</td>\n",
       "      <td>box</td>\n",
       "      <td>-2.781500</td>\n",
       "      <td>7.068802</td>\n",
       "      <td>7.068802</td>\n",
       "      <td>7.068802</td>\n",
       "      <td>90.0</td>\n",
       "      <td>90.0</td>\n",
       "      <td>90.0</td>\n",
       "    </tr>\n",
       "    <tr>\n",
       "      <td>NaN</td>\n",
       "      <td>dynamic</td>\n",
       "      <td>-2.779425</td>\n",
       "      <td>10.067510</td>\n",
       "      <td>10.067510</td>\n",
       "      <td>10.067510</td>\n",
       "      <td>90.0</td>\n",
       "      <td>90.0</td>\n",
       "      <td>90.0</td>\n",
       "    </tr>\n",
       "    <tr>\n",
       "      <td>NaN</td>\n",
       "      <td>box</td>\n",
       "      <td>-2.778732</td>\n",
       "      <td>10.071186</td>\n",
       "      <td>10.071186</td>\n",
       "      <td>10.071186</td>\n",
       "      <td>90.0</td>\n",
       "      <td>90.0</td>\n",
       "      <td>90.0</td>\n",
       "    </tr>\n",
       "    <tr>\n",
       "      <td>A15--beta-W</td>\n",
       "      <td>static</td>\n",
       "      <td>-2.745140</td>\n",
       "      <td>5.234822</td>\n",
       "      <td>5.234822</td>\n",
       "      <td>5.234822</td>\n",
       "      <td>90.0</td>\n",
       "      <td>90.0</td>\n",
       "      <td>90.0</td>\n",
       "    </tr>\n",
       "    <tr>\n",
       "      <td>NaN</td>\n",
       "      <td>box</td>\n",
       "      <td>-2.631645</td>\n",
       "      <td>3.981225</td>\n",
       "      <td>9.634481</td>\n",
       "      <td>3.975714</td>\n",
       "      <td>90.0</td>\n",
       "      <td>90.0</td>\n",
       "      <td>90.0</td>\n",
       "    </tr>\n",
       "    <tr>\n",
       "      <td>A5--beta-Sn</td>\n",
       "      <td>static</td>\n",
       "      <td>-2.558678</td>\n",
       "      <td>5.285904</td>\n",
       "      <td>5.285904</td>\n",
       "      <td>2.752414</td>\n",
       "      <td>90.0</td>\n",
       "      <td>90.0</td>\n",
       "      <td>90.0</td>\n",
       "    </tr>\n",
       "    <tr>\n",
       "      <td>Ah--alpha-Po--sc</td>\n",
       "      <td>static</td>\n",
       "      <td>-2.450416</td>\n",
       "      <td>2.734158</td>\n",
       "      <td>2.734158</td>\n",
       "      <td>2.734158</td>\n",
       "      <td>90.0</td>\n",
       "      <td>90.0</td>\n",
       "      <td>90.0</td>\n",
       "    </tr>\n",
       "    <tr>\n",
       "      <td>NaN</td>\n",
       "      <td>box</td>\n",
       "      <td>-2.128307</td>\n",
       "      <td>4.638563</td>\n",
       "      <td>4.638563</td>\n",
       "      <td>5.211021</td>\n",
       "      <td>90.0</td>\n",
       "      <td>90.0</td>\n",
       "      <td>120.0</td>\n",
       "    </tr>\n",
       "    <tr>\n",
       "      <td>A4--C--dc</td>\n",
       "      <td>static</td>\n",
       "      <td>-1.882780</td>\n",
       "      <td>6.171268</td>\n",
       "      <td>6.171268</td>\n",
       "      <td>6.171268</td>\n",
       "      <td>90.0</td>\n",
       "      <td>90.0</td>\n",
       "      <td>90.0</td>\n",
       "    </tr>\n",
       "  </tbody>\n",
       "</table>"
      ],
      "text/plain": [
       "<IPython.core.display.HTML object>"
      ]
     },
     "metadata": {},
     "output_type": "display_data"
    }
   ],
   "source": [
    "show_df = filtered_df[filtered_df.potential_LAMMPS_id == '2006--Williams-P-L--Ag--LAMMPS--ipr1']\n",
    "show_df = show_df[['prototype', 'method', 'E_cohesive (eV)', 'a (Å)', 'b (Å)', 'c (Å)', 'alpha', 'beta', 'gamma']]\n",
    "display(HTML(show_df.to_html(index=False)))"
   ]
  },
  {
   "cell_type": "markdown",
   "metadata": {},
   "source": [
    "## 7. elastic_constants_static calculation"
   ]
  },
  {
   "cell_type": "code",
   "execution_count": 36,
   "metadata": {},
   "outputs": [],
   "source": [
    "calculation = iprPy.load_calculation('elastic_constants_static')\n",
    "run_directory = iprPy.load_run_directory('demo_1')"
   ]
  },
  {
   "cell_type": "code",
   "execution_count": 37,
   "metadata": {},
   "outputs": [
    {
     "name": "stdout",
     "output_type": "stream",
     "text": [
      "['lammps_command', 'mpi_command', 'length_unit', 'pressure_unit', 'energy_unit', 'force_unit', 'potential_file', 'potential_content', 'potential_dir', 'load_file', 'load_content', 'load_style', 'family', 'load_options', 'symbols', 'box_parameters', 'a_uvw', 'b_uvw', 'c_uvw', 'atomshift', 'sizemults', 'strainrange', 'energytolerance', 'forcetolerance', 'maxiterations', 'maxevaluations', 'maxatommotion']\n"
     ]
    }
   ],
   "source": [
    "print(calculation.allkeys)"
   ]
  },
  {
   "cell_type": "markdown",
   "metadata": {},
   "source": [
    "### Write input script"
   ]
  },
  {
   "cell_type": "code",
   "execution_count": 38,
   "metadata": {},
   "outputs": [],
   "source": [
    "input_script = \"\"\"\n",
    "# Commands and executables\n",
    "lammps_command              lmp_mpi\n",
    "mpi_command                 \n",
    "\n",
    "# Build load information from relax_dynamic results\n",
    "buildcombos                 atomicparent load_file parent\n",
    "parent_record               calculation_crystal_space_group\n",
    "parent_load_key             unit-cell-atomic-system\n",
    "\n",
    "# System manipulations\n",
    "a_uvw                      \n",
    "b_uvw                      \n",
    "c_uvw                 \n",
    "atomshift                   \n",
    "sizemults                   3 3 3\n",
    "\n",
    "# Units that input/output values are in\n",
    "length_unit                 \n",
    "pressure_unit               \n",
    "energy_unit                 \n",
    "force_unit                  \n",
    "\n",
    "# Run parameters\n",
    "energytolerance             \n",
    "forcetolerance              \n",
    "maxiterations               \n",
    "maxevaluations              \n",
    "maxatommotion               \n",
    "strainrange                  1e-5\n",
    "strainrange                  1e-6\n",
    "strainrange                  1e-7\n",
    "strainrange                  1e-8\n",
    "\"\"\"\n",
    "\n",
    "with open('input_script.in', 'w') as f:\n",
    "    f.write(input_script)"
   ]
  },
  {
   "cell_type": "code",
   "execution_count": 39,
   "metadata": {},
   "outputs": [],
   "source": [
    "# Parse input script\n",
    "with open('input_script.in') as f:\n",
    "    input_dict = iprPy.input.parse(f, singularkeys=calculation.singularkeys)"
   ]
  },
  {
   "cell_type": "markdown",
   "metadata": {},
   "source": [
    "### Add parent_name list using filtered results"
   ]
  },
  {
   "cell_type": "code",
   "execution_count": 40,
   "metadata": {},
   "outputs": [],
   "source": [
    "input_dict['parent_name'] = filtered_df.key.tolist()"
   ]
  },
  {
   "cell_type": "code",
   "execution_count": 41,
   "metadata": {},
   "outputs": [
    {
     "name": "stdout",
     "output_type": "stream",
     "text": [
      "In database style local at C:\\Users\\lmh1\\Documents\\calculations\\ipr\\demo :\n",
      "- 60 of style calculation_elastic_constants_static\n",
      " - 0 are complete\n",
      " - 60 still to run\n",
      " - 0 issued errors\n"
     ]
    }
   ],
   "source": [
    "database.prepare(run_directory, calculation, **input_dict)\n",
    "database.check_records(calculation.record_style)"
   ]
  },
  {
   "cell_type": "code",
   "execution_count": 42,
   "metadata": {},
   "outputs": [
    {
     "name": "stdout",
     "output_type": "stream",
     "text": [
      "Runner started with pid 6324\n",
      "No simulations left to run\n",
      "In database style local at C:\\Users\\lmh1\\Documents\\calculations\\ipr\\demo :\n",
      "- 60 of style calculation_elastic_constants_static\n",
      " - 52 are complete\n",
      " - 0 still to run\n",
      " - 8 issued errors\n"
     ]
    }
   ],
   "source": [
    "database.runner(run_directory)\n",
    "database.check_records(calculation.record_style)"
   ]
  },
  {
   "cell_type": "code",
   "execution_count": 43,
   "metadata": {},
   "outputs": [
    {
     "name": "stdout",
     "output_type": "stream",
     "text": [
      "b'Traceback (most recent call last):\r\n",
      "  File \"c:\\\\users\\\\lmh1\\\\documents\\\\python-packages\\\\atomman\\\\atomman\\\\lammps\\\r",
      "un.py\", line 110, in run\r\n",
      "    output = sp.check_output(mpi_command + lammps_command + extra + [\\'-in\\'] + script_name)\r\n",
      "  File \"C:\\\\Users\\\\lmh1\\\\AppData\\\\Local\\\\Continuum\\\\anaconda3\\\\lib\\\\subprocess.py\", line 336, in check_output\r\n",
      "    **kwargs).stdout\r\n",
      "  File \"C:\\\\Users\\\\lmh1\\\\AppData\\\\Local\\\\Continuum\\\\anaconda3\\\\lib\\\\subprocess.py\", line 418, in run\r\n",
      "    output=stdout, stderr=stderr)\r\n",
      "subprocess.CalledProcessError: Command \\'[\\'lmp_mpi\\', \\'-in\\', \\'cij.in\\']\\' returned non-zero exit status 1.\r\n",
      "\r\n",
      "During handling of the above exception, another exception occurred:\r\n",
      "\r\n",
      "Traceback (most recent call last):\r\n",
      "  File \"calc_elastic_constants_static.py\", line 282, in <module>\r\n",
      "    main(*sys.argv[1:])\r\n",
      "  File \"calc_elastic_constants_static.py\", line 55, in main\r\n",
      "    dmax = input_dict[\\'maxatommotion\\'])\r\n",
      "  File \"calc_elastic_constants_static.py\", line 161, in elastic_constants_static\r\n",
      "    output = lmp.run(lammps_command, lammps_script, mpi_command)\r\n",
      "  File \"c:\\\\users\\\\lmh1\\\\documents\\\\python-packages\\\\atomman\\\\atomman\\\\lammps\\\r",
      "un.py\", line 116, in run\r\n",
      "    raise ValueError(\\'Invalid LAMMPS input: \\\n",
      "%s\\' % lines[-2])\r\n",
      "ValueError: Invalid LAMMPS input: \r\n",
      "Last command: read_restart initial.restart\r\n",
      "'\n"
     ]
    }
   ],
   "source": [
    "results_df = database.get_records_df(style=calculation.record_style)\n",
    "for error in np.unique(results_df[results_df.status=='error'].error):\n",
    "    print(error)"
   ]
  },
  {
   "cell_type": "code",
   "execution_count": 44,
   "metadata": {},
   "outputs": [],
   "source": [
    "elastic_df = database.get_records_df(style=calculation.record_style)"
   ]
  },
  {
   "cell_type": "code",
   "execution_count": 45,
   "metadata": {},
   "outputs": [
    {
     "data": {
      "text/plain": [
       "{'A1--Cu--fcc',\n",
       " 'A15--beta-W',\n",
       " 'A2--W--bcc',\n",
       " \"A3'--alpha-La--double-hcp\",\n",
       " 'A4--C--dc',\n",
       " 'Ah--alpha-Po--sc',\n",
       " 'mp-989737',\n",
       " 'oqmd-10125',\n",
       " 'oqmd-1214680',\n",
       " 'oqmd-1214769',\n",
       " 'oqmd-1214858',\n",
       " 'oqmd-1215571',\n",
       " 'oqmd-1215927'}"
      ]
     },
     "execution_count": 45,
     "metadata": {},
     "output_type": "execute_result"
    }
   ],
   "source": [
    "set(elastic_df.family)"
   ]
  },
  {
   "cell_type": "code",
   "execution_count": 52,
   "metadata": {},
   "outputs": [
    {
     "name": "stdout",
     "output_type": "stream",
     "text": [
      "strain    C11     C12     C44\n",
      "1e-08  124.24   93.87   46.42\n",
      "1e-07  124.24   93.87   46.42\n",
      "1e-06  124.24   93.87   46.42\n",
      "1e-05  124.24   93.87   46.42\n"
     ]
    }
   ],
   "source": [
    "print('strain    C11     C12     C44')\n",
    "for elastic_series in elastic_df[elastic_df.family == \"A1--Cu--fcc\"].sort_values(['strainrange']).itertuples():\n",
    "    try:\n",
    "        print('%s %7.2f %7.2f %7.2f' % (elastic_series.strainrange,\n",
    "                                        uc.get_in_units(elastic_series.C.Cij[0,0], 'GPa'),\n",
    "                                        uc.get_in_units(elastic_series.C.Cij[0,1], 'GPa'),\n",
    "                                        uc.get_in_units(elastic_series.C.Cij[3,3], 'GPa')))\n",
    "    except:\n",
    "        pass"
   ]
  }
 ],
 "metadata": {
  "kernelspec": {
   "display_name": "Python 3",
   "language": "python",
   "name": "python3"
  },
  "language_info": {
   "codemirror_mode": {
    "name": "ipython",
    "version": 3
   },
   "file_extension": ".py",
   "mimetype": "text/x-python",
   "name": "python",
   "nbconvert_exporter": "python",
   "pygments_lexer": "ipython3",
   "version": "3.6.4"
  }
 },
 "nbformat": 4,
 "nbformat_minor": 2
}
