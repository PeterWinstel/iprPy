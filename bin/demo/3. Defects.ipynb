{
 "cells": [
  {
   "cell_type": "markdown",
   "metadata": {},
   "source": [
    "# Defects\n",
    "\n",
    "# NOT FULLY TESTED YET!"
   ]
  },
  {
   "cell_type": "markdown",
   "metadata": {},
   "source": [
    "**Library imports**"
   ]
  },
  {
   "cell_type": "code",
   "execution_count": 1,
   "metadata": {},
   "outputs": [
    {
     "name": "stdout",
     "output_type": "stream",
     "text": [
      "iprPy version 0.8.a\n"
     ]
    }
   ],
   "source": [
    "# Standard Python libraries\n",
    "from __future__ import (absolute_import, print_function,\n",
    "                        division, unicode_literals)\n",
    "\n",
    "# http://www.numpy.org/\n",
    "import numpy as np\n",
    "\n",
    "from IPython.core.display import display, HTML\n",
    "\n",
    "# https://pandas.pydata.org/\n",
    "import pandas as pd\n",
    "\n",
    "# https://github.com/usnistgov/atomman\n",
    "import atomman.unitconvert as uc\n",
    "\n",
    "# https://github.com/usnistgov/iprPy\n",
    "import iprPy\n",
    "print('iprPy version', iprPy.__version__)"
   ]
  },
  {
   "cell_type": "markdown",
   "metadata": {},
   "source": [
    "## 0. Access database "
   ]
  },
  {
   "cell_type": "markdown",
   "metadata": {},
   "source": [
    "### Load database"
   ]
  },
  {
   "cell_type": "code",
   "execution_count": 2,
   "metadata": {},
   "outputs": [],
   "source": [
    "database = iprPy.load_database('master')"
   ]
  },
  {
   "cell_type": "markdown",
   "metadata": {},
   "source": [
    "### Copy references from library, if needed"
   ]
  },
  {
   "cell_type": "code",
   "execution_count": 3,
   "metadata": {},
   "outputs": [
    {
     "name": "stdout",
     "output_type": "stream",
     "text": [
      "In database style local at C:\\Users\\lmh1\\Documents\\calculations\\ipr\\master :\n",
      "- 19 of style crystal_prototype\n",
      "In database style local at C:\\Users\\lmh1\\Documents\\calculations\\ipr\\master :\n",
      "- 5 of style dislocation_monopole\n",
      "In database style local at C:\\Users\\lmh1\\Documents\\calculations\\ipr\\master :\n",
      "- 39 of style free_surface\n",
      "In database style local at C:\\Users\\lmh1\\Documents\\calculations\\ipr\\master :\n",
      "- 38 of style point_defect\n",
      "In database style local at C:\\Users\\lmh1\\Documents\\calculations\\ipr\\master :\n",
      "- 204 of style potential_LAMMPS\n",
      "In database style local at C:\\Users\\lmh1\\Documents\\calculations\\ipr\\master :\n",
      "- 3 of style stacking_fault\n"
     ]
    }
   ],
   "source": [
    "database.build_refs()\n",
    "for style in ['crystal_prototype', 'dislocation_monopole', 'free_surface', 'point_defect', 'potential_LAMMPS', 'stacking_fault']:\n",
    "    database.check_records(style)"
   ]
  },
  {
   "cell_type": "markdown",
   "metadata": {},
   "source": [
    "### Specify delimiters"
   ]
  },
  {
   "cell_type": "code",
   "execution_count": 4,
   "metadata": {},
   "outputs": [],
   "source": [
    "symbols = {}\n",
    "symbols['A1--Cu--fcc'] = ['Ne', 'Al', 'AlS', 'Ar', 'Ca', 'Fe', 'FeS', 'Ni', 'Cu', 'CuS', \n",
    "                          'Kr', 'Sr', 'Rh', 'Pd', 'Ag', 'Xe', 'Ir', 'Pt', 'Au', 'Pb', \n",
    "                          'Ac', 'Ce', 'Yb', 'Th']\n",
    "symbols['A2--W--bcc'] = ['Li', 'Na', 'K', 'V', 'Cr', 'Fe', 'FeS', 'Rb', 'Nb', 'Mo', \n",
    "                         'Cs', 'Ba', 'Ta', 'W', 'Eu']\n",
    "symbols['A3--Mg--hcp'] = ['H', 'He', 'Be', 'Mg', 'MgS', 'Sc', 'Ti', 'Co', 'Zn', 'Y', \n",
    "                          'Zr', 'Tc', 'Ru', 'Cd', 'Hf', 'Re', 'Os' 'Tl', 'Gd', 'Tb', \n",
    "                          'Dy', 'Ho', 'Er', 'Tm', 'Lu']\n",
    "symbols['A4--C--dc'] = ['C', 'Si', 'SiS', 'Ge', 'Sn']"
   ]
  },
  {
   "cell_type": "markdown",
   "metadata": {},
   "source": [
    "## 1. surface_energy_static calculation"
   ]
  },
  {
   "cell_type": "code",
   "execution_count": 5,
   "metadata": {},
   "outputs": [],
   "source": [
    "calculation = iprPy.load_calculation('surface_energy_static')\n",
    "run_directory = iprPy.load_run_directory('master_1')"
   ]
  },
  {
   "cell_type": "markdown",
   "metadata": {},
   "source": [
    "### Build input_dict"
   ]
  },
  {
   "cell_type": "code",
   "execution_count": 6,
   "metadata": {},
   "outputs": [
    {
     "name": "stdout",
     "output_type": "stream",
     "text": [
      "['lammps_command', 'mpi_command', 'length_unit', 'pressure_unit', 'energy_unit', 'force_unit', 'potential_file', 'potential_content', 'potential_dir', 'load_file', 'load_content', 'load_style', 'family', 'load_options', 'symbols', 'box_parameters', 'a_uvw', 'b_uvw', 'c_uvw', 'atomshift', 'sizemults', 'surface_file', 'surface_content', 'surface_family', 'surface_cutboxvector', 'energytolerance', 'forcetolerance', 'maxiterations', 'maxevaluations', 'maxatommotion']\n"
     ]
    }
   ],
   "source": [
    "print(calculation.allkeys)"
   ]
  },
  {
   "cell_type": "code",
   "execution_count": 7,
   "metadata": {},
   "outputs": [],
   "source": [
    "input_dict = {}\n",
    "\n",
    "# Commands and executables\n",
    "input_dict['lammps_command'] = 'lmp_mpi'\n",
    "#input_dict['mpi_command'] =\n",
    "\n",
    "# Build load information based parent calculations using family-symbols sets\n",
    "input_dict['buildcombos'] = []\n",
    "for family in symbols:\n",
    "    input_dict['buildcombos'].append('atomicarchive2 load_file ' + family)\n",
    "    input_dict[family + '_record'] = 'calculation_elastic_constants_static'\n",
    "    input_dict[family + '_load_key'] = 'system-info'\n",
    "    input_dict[family + '_strainrange'] = '1e-7'\n",
    "    input_dict[family + '_family'] = family\n",
    "    input_dict[family + '_symbols'] = symbols[family]\n",
    "\n",
    "# Build defect information from reference files\n",
    "input_dict['buildcombos'].append('defect surface_file')\n",
    "input_dict['defect_record'] = 'free_surface'\n",
    "\n",
    "# System manipulations\n",
    "#input_dict['a_uvw'] =                   \n",
    "#input_dict['b_uvw'] =                     \n",
    "#input_dict['c_uvw'] =                     \n",
    "#input_dict['atomshift'] =                  \n",
    "input_dict['sizemults'] = '3 3 7'\n",
    "\n",
    "# Units that input/output values are in\n",
    "#input_dict['length_unit'] =                \n",
    "#input_dict['pressure_unit'] =              \n",
    "#input_dict['energy_unit'] =            \n",
    "#input_dict['force_unit'] =        \n",
    "\n",
    "# Run parameters\n",
    "#input_dict['energytolerance'] = \n",
    "#input_dict['forcetolerance'] = \n",
    "#input_dict['maxiterations'] = \n",
    "#input_dict['maxevaluations'] = \n",
    "#input_dict['maxatommotion'] = "
   ]
  },
  {
   "cell_type": "markdown",
   "metadata": {},
   "source": [
    "### Prepare calculations"
   ]
  },
  {
   "cell_type": "code",
   "execution_count": 8,
   "metadata": {},
   "outputs": [
    {
     "name": "stdout",
     "output_type": "stream",
     "text": [
      "In database style local at C:\\Users\\lmh1\\Documents\\calculations\\ipr\\master :\n",
      "- 13 of style calculation_surface_energy_static\n",
      " - 0 are complete\n",
      " - 13 still to run\n",
      " - 0 issued errors\n"
     ]
    }
   ],
   "source": [
    "database.prepare(run_directory, calculation, **input_dict)\n",
    "database.check_records(calculation.record_style)"
   ]
  },
  {
   "cell_type": "markdown",
   "metadata": {},
   "source": [
    "### Run calculations"
   ]
  },
  {
   "cell_type": "code",
   "execution_count": 9,
   "metadata": {},
   "outputs": [
    {
     "name": "stdout",
     "output_type": "stream",
     "text": [
      "Runner started with pid 10256\n",
      "No simulations left to run\n",
      "In database style local at C:\\Users\\lmh1\\Documents\\calculations\\ipr\\master :\n",
      "- 13 of style calculation_surface_energy_static\n",
      " - 12 are complete\n",
      " - 0 still to run\n",
      " - 1 issued errors\n"
     ]
    }
   ],
   "source": [
    "database.runner(run_directory)\n",
    "database.check_records(calculation.record_style)"
   ]
  },
  {
   "cell_type": "markdown",
   "metadata": {},
   "source": [
    "### Show results"
   ]
  },
  {
   "cell_type": "code",
   "execution_count": 13,
   "metadata": {},
   "outputs": [
    {
     "name": "stdout",
     "output_type": "stream",
     "text": [
      "b'Traceback (most recent call last):\r\n",
      "  File \"c:\\\\users\\\\lmh1\\\\documents\\\\python-packages\\\\atomman\\\\atomman\\\\lammps\\\r",
      "un.py\", line 110, in run\r\n",
      "    output = sp.check_output(mpi_command + lammps_command + extra + [\\'-in\\'] + script_name)\r\n",
      "  File \"C:\\\\Users\\\\lmh1\\\\AppData\\\\Local\\\\Continuum\\\\anaconda3\\\\lib\\\\subprocess.py\", line 336, in check_output\r\n",
      "    **kwargs).stdout\r\n",
      "  File \"C:\\\\Users\\\\lmh1\\\\AppData\\\\Local\\\\Continuum\\\\anaconda3\\\\lib\\\\subprocess.py\", line 418, in run\r\n",
      "    output=stdout, stderr=stderr)\r\n",
      "subprocess.CalledProcessError: Command \\'[\\'lmp_mpi\\', \\'-in\\', \\'min.in\\']\\' returned non-zero exit status 1.\r\n",
      "\r\n",
      "During handling of the above exception, another exception occurred:\r\n",
      "\r\n",
      "Traceback (most recent call last):\r\n",
      "  File \"calc_surface_energy_static.py\", line 355, in <module>\r\n",
      "    main(*sys.argv[1:])\r\n",
      "  File \"calc_surface_energy_static.py\", line 52, in main\r\n",
      "    cutboxvector = input_dict[\\'surface_cutboxvector\\'])\r\n",
      "  File \"calc_surface_energy_static.py\", line 159, in surface_energy\r\n",
      "    maxiter=maxiter, maxeval=maxeval, dmax=dmax)\r\n",
      "  File \"calc_surface_energy_static.py\", line 276, in relax_system\r\n",
      "    output = lmp.run(lammps_command, lammps_script, mpi_command)\r\n",
      "  File \"c:\\\\users\\\\lmh1\\\\documents\\\\python-packages\\\\atomman\\\\atomman\\\\lammps\\\r",
      "un.py\", line 116, in run\r\n",
      "    raise ValueError(\\'Invalid LAMMPS input: \\\n",
      "%s\\' % lines[-2])\r\n",
      "ValueError: Invalid LAMMPS input: \r\n",
      "Last command: read_data system.dat\r\n",
      "'\n"
     ]
    }
   ],
   "source": [
    "results_df = database.get_records_df(style=calculation.record_style)\n",
    "for error in np.unique(results_df[results_df.status=='error'].error):\n",
    "    print(error)"
   ]
  },
  {
   "cell_type": "code",
   "execution_count": 10,
   "metadata": {},
   "outputs": [],
   "source": [
    "surface_energy_units = 'mJ/m^2'"
   ]
  },
  {
   "cell_type": "code",
   "execution_count": 11,
   "metadata": {},
   "outputs": [],
   "source": [
    "results = database.get_records_df(style=calculation.record_style, potential_LAMMPS_id='2004--Zhou-X-W--Al--LAMMPS--ipr2')"
   ]
  },
  {
   "cell_type": "code",
   "execution_count": 12,
   "metadata": {},
   "outputs": [
    {
     "data": {
      "text/html": [
       "<table border=\"1\" class=\"dataframe\">\n",
       "  <thead>\n",
       "    <tr style=\"text-align: right;\">\n",
       "      <th>γfs (mJ/m^2)</th>\n",
       "      <th>surface_id</th>\n",
       "    </tr>\n",
       "  </thead>\n",
       "  <tbody>\n",
       "    <tr>\n",
       "      <td>908.685957</td>\n",
       "      <td>A1--Cu--fcc--111</td>\n",
       "    </tr>\n",
       "    <tr>\n",
       "      <td>922.012692</td>\n",
       "      <td>A1--Cu--fcc--100</td>\n",
       "    </tr>\n",
       "    <tr>\n",
       "      <td>979.583215</td>\n",
       "      <td>A1--Cu--fcc--332</td>\n",
       "    </tr>\n",
       "    <tr>\n",
       "      <td>986.808383</td>\n",
       "      <td>A1--Cu--fcc--322</td>\n",
       "    </tr>\n",
       "    <tr>\n",
       "      <td>1008.378376</td>\n",
       "      <td>A1--Cu--fcc--221</td>\n",
       "    </tr>\n",
       "    <tr>\n",
       "      <td>1020.800110</td>\n",
       "      <td>A1--Cu--fcc--211</td>\n",
       "    </tr>\n",
       "    <tr>\n",
       "      <td>1030.136926</td>\n",
       "      <td>A1--Cu--fcc--331</td>\n",
       "    </tr>\n",
       "    <tr>\n",
       "      <td>1031.551548</td>\n",
       "      <td>A1--Cu--fcc--110</td>\n",
       "    </tr>\n",
       "    <tr>\n",
       "      <td>1036.324866</td>\n",
       "      <td>A1--Cu--fcc--311</td>\n",
       "    </tr>\n",
       "    <tr>\n",
       "      <td>1056.948288</td>\n",
       "      <td>A1--Cu--fcc--321</td>\n",
       "    </tr>\n",
       "    <tr>\n",
       "      <td>1064.868868</td>\n",
       "      <td>A1--Cu--fcc--320</td>\n",
       "    </tr>\n",
       "    <tr>\n",
       "      <td>1065.376888</td>\n",
       "      <td>A1--Cu--fcc--210</td>\n",
       "    </tr>\n",
       "    <tr>\n",
       "      <td>NaN</td>\n",
       "      <td>A1--Cu--fcc--310</td>\n",
       "    </tr>\n",
       "  </tbody>\n",
       "</table>"
      ],
      "text/plain": [
       "<IPython.core.display.HTML object>"
      ]
     },
     "metadata": {},
     "output_type": "display_data"
    }
   ],
   "source": [
    "results['γfs ('+surface_energy_units+')'] = uc.get_in_units(results.gamma_fs, surface_energy_units)\n",
    "results = results[['γfs ('+surface_energy_units+')', 'surface_id']].sort_values('γfs ('+surface_energy_units+')')\n",
    "display(HTML(results.to_html(index=False)))"
   ]
  },
  {
   "cell_type": "markdown",
   "metadata": {},
   "source": [
    "## 2. stacking_fault_map_2D calculation"
   ]
  },
  {
   "cell_type": "code",
   "execution_count": 14,
   "metadata": {},
   "outputs": [],
   "source": [
    "calculation = iprPy.load_calculation('stacking_fault_map_2D')\n",
    "run_directory = iprPy.load_run_directory('master_1')"
   ]
  },
  {
   "cell_type": "markdown",
   "metadata": {},
   "source": [
    "### Build input_dict"
   ]
  },
  {
   "cell_type": "code",
   "execution_count": 15,
   "metadata": {},
   "outputs": [
    {
     "name": "stdout",
     "output_type": "stream",
     "text": [
      "['lammps_command', 'mpi_command', 'length_unit', 'pressure_unit', 'energy_unit', 'force_unit', 'potential_file', 'potential_content', 'potential_dir', 'load_file', 'load_content', 'load_style', 'family', 'load_options', 'symbols', 'box_parameters', 'a_uvw', 'b_uvw', 'c_uvw', 'atomshift', 'sizemults', 'stackingfault_file', 'stackingfault_content', 'stackingfault_family', 'stackingfault_cutboxvector', 'stackingfault_faultpos', 'stackingfault_shiftvector1', 'stackingfault_shiftvector2', 'stackingfault_numshifts1', 'stackingfault_numshifts2', 'energytolerance', 'forcetolerance', 'maxiterations', 'maxevaluations', 'maxatommotion']\n"
     ]
    }
   ],
   "source": [
    "print(calculation.allkeys)"
   ]
  },
  {
   "cell_type": "code",
   "execution_count": 16,
   "metadata": {},
   "outputs": [],
   "source": [
    "input_dict = {}\n",
    "\n",
    "# Commands and executables\n",
    "input_dict['lammps_command'] = 'lmp_mpi'\n",
    "#input_dict['mpi_command'] =\n",
    "\n",
    "# Build load information based parent calculations using family-symbols sets\n",
    "input_dict['buildcombos'] = []\n",
    "for family in symbols:\n",
    "    input_dict['buildcombos'].append('atomicarchive2 load_file ' + family)\n",
    "    input_dict[family + '_record'] = 'calculation_elastic_constants_static'\n",
    "    input_dict[family + '_load_key'] = 'system-info'\n",
    "    input_dict[family + '_strainrange'] = '1e-7'\n",
    "    input_dict[family + '_family'] = family\n",
    "    input_dict[family + '_symbols'] = symbols[family]\n",
    "\n",
    "# Build defect information from reference files\n",
    "input_dict['buildcombos'].append('defect stackingfault_file')\n",
    "input_dict['defect_record'] = 'stacking_fault'\n",
    "\n",
    "# System manipulations\n",
    "#input_dict['a_uvw'] =                   \n",
    "#input_dict['b_uvw'] =                     \n",
    "#input_dict['c_uvw'] =                     \n",
    "#input_dict['atomshift'] =                  \n",
    "input_dict['sizemults'] = '3 3 8'\n",
    "\n",
    "# Units that input/output values are in\n",
    "#input_dict['length_unit'] =                \n",
    "#input_dict['pressure_unit'] =              \n",
    "#input_dict['energy_unit'] =            \n",
    "#input_dict['force_unit'] =        \n",
    "\n",
    "# Run parameters\n",
    "input_dict['stackingfault_numshifts1'] = '11'\n",
    "input_dict['stackingfault_numshifts2'] = '11'\n",
    "#input_dict['energytolerance'] = \n",
    "#input_dict['forcetolerance'] = \n",
    "#input_dict['maxiterations'] = \n",
    "#input_dict['maxevaluations'] = \n",
    "#input_dict['maxatommotion'] = "
   ]
  },
  {
   "cell_type": "markdown",
   "metadata": {},
   "source": [
    "### Prepare calculations"
   ]
  },
  {
   "cell_type": "code",
   "execution_count": 17,
   "metadata": {},
   "outputs": [
    {
     "name": "stdout",
     "output_type": "stream",
     "text": [
      "In database style local at C:\\Users\\lmh1\\Documents\\calculations\\ipr\\master :\n",
      "- 1 of style calculation_stacking_fault_map_2D\n",
      " - 0 are complete\n",
      " - 1 still to run\n",
      " - 0 issued errors\n"
     ]
    }
   ],
   "source": [
    "database.prepare(run_directory, calculation, **input_dict)\n",
    "database.check_records(calculation.record_style)"
   ]
  },
  {
   "cell_type": "markdown",
   "metadata": {},
   "source": [
    "### Run calculations"
   ]
  },
  {
   "cell_type": "code",
   "execution_count": 18,
   "metadata": {},
   "outputs": [
    {
     "name": "stdout",
     "output_type": "stream",
     "text": [
      "Runner started with pid 10256\n",
      "No simulations left to run\n",
      "In database style local at C:\\Users\\lmh1\\Documents\\calculations\\ipr\\master :\n",
      "- 1 of style calculation_stacking_fault_map_2D\n",
      " - 1 are complete\n",
      " - 0 still to run\n",
      " - 0 issued errors\n"
     ]
    }
   ],
   "source": [
    "database.runner(run_directory)\n",
    "database.check_records(calculation.record_style)"
   ]
  },
  {
   "cell_type": "markdown",
   "metadata": {},
   "source": [
    "## 3. point_defect_static calculation"
   ]
  },
  {
   "cell_type": "code",
   "execution_count": 19,
   "metadata": {},
   "outputs": [],
   "source": [
    "calculation = iprPy.load_calculation('point_defect_static')\n",
    "run_directory = iprPy.load_run_directory('master_1')"
   ]
  },
  {
   "cell_type": "markdown",
   "metadata": {},
   "source": [
    "### Build input_dict"
   ]
  },
  {
   "cell_type": "code",
   "execution_count": 20,
   "metadata": {},
   "outputs": [
    {
     "name": "stdout",
     "output_type": "stream",
     "text": [
      "['lammps_command', 'mpi_command', 'length_unit', 'pressure_unit', 'energy_unit', 'force_unit', 'potential_file', 'potential_content', 'potential_dir', 'load_file', 'load_content', 'load_style', 'family', 'load_options', 'symbols', 'box_parameters', 'a_uvw', 'b_uvw', 'c_uvw', 'atomshift', 'sizemults', 'pointdefect_file', 'pointdefect_content', 'pointdefect_family', 'pointdefect_type', 'pointdefect_atype', 'pointdefect_pos', 'pointdefect_dumbbell_vect', 'pointdefect_scale', 'energytolerance', 'forcetolerance', 'maxiterations', 'maxevaluations', 'maxatommotion']\n"
     ]
    }
   ],
   "source": [
    "print(calculation.allkeys)"
   ]
  },
  {
   "cell_type": "code",
   "execution_count": 21,
   "metadata": {},
   "outputs": [],
   "source": [
    "input_dict = {}\n",
    "\n",
    "# Commands and executables\n",
    "input_dict['lammps_command'] = 'lmp_mpi'\n",
    "#input_dict['mpi_command'] =\n",
    "\n",
    "# Build load information based parent calculations using family-symbols sets\n",
    "input_dict['buildcombos'] = []\n",
    "for family in symbols:\n",
    "    input_dict['buildcombos'].append('atomicarchive2 load_file ' + family)\n",
    "    input_dict[family + '_record'] = 'calculation_elastic_constants_static'\n",
    "    input_dict[family + '_load_key'] = 'system-info'\n",
    "    input_dict[family + '_strainrange'] = '1e-7'\n",
    "    input_dict[family + '_family'] = family\n",
    "    input_dict[family + '_symbols'] = symbols[family]\n",
    "\n",
    "# Build defect information from reference files\n",
    "input_dict['buildcombos'].append('defect pointdefect_file')\n",
    "input_dict['defect_record'] = 'point_defect'\n",
    "\n",
    "# System manipulations\n",
    "#input_dict['a_uvw'] =                   \n",
    "#input_dict['b_uvw'] =                     \n",
    "#input_dict['c_uvw'] =                     \n",
    "#input_dict['atomshift'] =                  \n",
    "input_dict['sizemults'] = '10 10 10'\n",
    "\n",
    "# Units that input/output values are in\n",
    "#input_dict['length_unit'] =                \n",
    "#input_dict['pressure_unit'] =              \n",
    "#input_dict['energy_unit'] =            \n",
    "#input_dict['force_unit'] =        \n",
    "\n",
    "# Run parameters\n",
    "#input_dict['energytolerance'] = \n",
    "#input_dict['forcetolerance'] = \n",
    "#input_dict['maxiterations'] = \n",
    "#input_dict['maxevaluations'] = \n",
    "#input_dict['maxatommotion'] = "
   ]
  },
  {
   "cell_type": "markdown",
   "metadata": {},
   "source": [
    "### Prepare calculations"
   ]
  },
  {
   "cell_type": "code",
   "execution_count": 22,
   "metadata": {},
   "outputs": [
    {
     "name": "stdout",
     "output_type": "stream",
     "text": [
      "In database style local at C:\\Users\\lmh1\\Documents\\calculations\\ipr\\master :\n",
      "- 9 of style calculation_point_defect_static\n",
      " - 0 are complete\n",
      " - 9 still to run\n",
      " - 0 issued errors\n"
     ]
    }
   ],
   "source": [
    "database.prepare(run_directory, calculation, **input_dict)\n",
    "database.check_records(calculation.record_style)"
   ]
  },
  {
   "cell_type": "markdown",
   "metadata": {},
   "source": [
    "### Run calculations"
   ]
  },
  {
   "cell_type": "code",
   "execution_count": 23,
   "metadata": {},
   "outputs": [
    {
     "name": "stdout",
     "output_type": "stream",
     "text": [
      "Runner started with pid 10256\n",
      "No simulations left to run\n",
      "In database style local at C:\\Users\\lmh1\\Documents\\calculations\\ipr\\master :\n",
      "- 9 of style calculation_point_defect_static\n",
      " - 9 are complete\n",
      " - 0 still to run\n",
      " - 0 issued errors\n"
     ]
    }
   ],
   "source": [
    "database.runner(run_directory)\n",
    "database.check_records(calculation.record_style)"
   ]
  },
  {
   "cell_type": "markdown",
   "metadata": {},
   "source": [
    "### Show results"
   ]
  },
  {
   "cell_type": "code",
   "execution_count": 24,
   "metadata": {},
   "outputs": [],
   "source": [
    "energy_units = 'eV'"
   ]
  },
  {
   "cell_type": "code",
   "execution_count": 25,
   "metadata": {},
   "outputs": [],
   "source": [
    "results = database.get_records_df(style=calculation.record_style, potential_LAMMPS_id='2004--Zhou-X-W--Al--LAMMPS--ipr2')"
   ]
  },
  {
   "cell_type": "code",
   "execution_count": 26,
   "metadata": {},
   "outputs": [
    {
     "data": {
      "text/html": [
       "<table border=\"1\" class=\"dataframe\">\n",
       "  <thead>\n",
       "    <tr style=\"text-align: right;\">\n",
       "      <th>Ef (eV)</th>\n",
       "      <th>pointdefect_id</th>\n",
       "    </tr>\n",
       "  </thead>\n",
       "  <tbody>\n",
       "    <tr>\n",
       "      <td>0.676481</td>\n",
       "      <td>A1--Cu--fcc--vacancy</td>\n",
       "    </tr>\n",
       "    <tr>\n",
       "      <td>1.296545</td>\n",
       "      <td>A1--Cu--fcc--1nn-divacancy</td>\n",
       "    </tr>\n",
       "    <tr>\n",
       "      <td>1.311998</td>\n",
       "      <td>A1--Cu--fcc--2nn-divacancy</td>\n",
       "    </tr>\n",
       "    <tr>\n",
       "      <td>1.864239</td>\n",
       "      <td>A1--Cu--fcc--100-dumbbell</td>\n",
       "    </tr>\n",
       "    <tr>\n",
       "      <td>1.958664</td>\n",
       "      <td>A1--Cu--fcc--octahedral-interstitial</td>\n",
       "    </tr>\n",
       "    <tr>\n",
       "      <td>2.042814</td>\n",
       "      <td>A1--Cu--fcc--110-dumbbell</td>\n",
       "    </tr>\n",
       "    <tr>\n",
       "      <td>2.043344</td>\n",
       "      <td>A1--Cu--fcc--crowdion-interstitial</td>\n",
       "    </tr>\n",
       "    <tr>\n",
       "      <td>2.115240</td>\n",
       "      <td>A1--Cu--fcc--111-dumbbell</td>\n",
       "    </tr>\n",
       "    <tr>\n",
       "      <td>2.149543</td>\n",
       "      <td>A1--Cu--fcc--tetrahedral-interstitial</td>\n",
       "    </tr>\n",
       "  </tbody>\n",
       "</table>"
      ],
      "text/plain": [
       "<IPython.core.display.HTML object>"
      ]
     },
     "metadata": {},
     "output_type": "display_data"
    }
   ],
   "source": [
    "results = results[results.reconfigured == False]\n",
    "results['Ef ('+energy_units+')'] = uc.get_in_units(results.E_f, energy_units)\n",
    "results = results[['Ef ('+energy_units+')', 'pointdefect_id']].sort_values('Ef ('+energy_units+')')\n",
    "display(HTML(results.to_html(index=False)))"
   ]
  },
  {
   "cell_type": "code",
   "execution_count": null,
   "metadata": {},
   "outputs": [],
   "source": []
  }
 ],
 "metadata": {
  "kernelspec": {
   "display_name": "Python 3",
   "language": "python",
   "name": "python3"
  },
  "language_info": {
   "codemirror_mode": {
    "name": "ipython",
    "version": 3
   },
   "file_extension": ".py",
   "mimetype": "text/x-python",
   "name": "python",
   "nbconvert_exporter": "python",
   "pygments_lexer": "ipython3",
   "version": "3.6.4"
  }
 },
 "nbformat": 4,
 "nbformat_minor": 2
}
