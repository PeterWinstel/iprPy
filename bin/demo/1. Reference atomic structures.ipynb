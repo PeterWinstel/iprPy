{
 "cells": [
  {
   "cell_type": "markdown",
   "metadata": {},
   "source": [
    "# Reference atomic structures\n",
    "\n",
    "This Notebook gets reference atomic crystal structures from various external sites and compares them to known crystal prototype structures."
   ]
  },
  {
   "cell_type": "markdown",
   "metadata": {},
   "source": [
    "**Library imports**"
   ]
  },
  {
   "cell_type": "code",
   "execution_count": 1,
   "metadata": {},
   "outputs": [
    {
     "name": "stdout",
     "output_type": "stream",
     "text": [
      "iprPy version 0.8.2\n"
     ]
    }
   ],
   "source": [
    "# Standard Python libraries\n",
    "from __future__ import (print_function, division, absolute_import,\n",
    "                        unicode_literals)\n",
    "import os\n",
    "import glob\n",
    "\n",
    "# http://www.numpy.org/\n",
    "import numpy as np\n",
    "\n",
    "# https://pandas.pydata.org/\n",
    "import pandas as pd\n",
    "\n",
    "# https://github.com/usnistgov/atomman\n",
    "import atomman as am\n",
    "import atomman.lammps as lmp\n",
    "\n",
    "# https://github.com/usnistgov/iprPy\n",
    "import iprPy\n",
    "print('iprPy version', iprPy.__version__)"
   ]
  },
  {
   "cell_type": "markdown",
   "metadata": {},
   "source": [
    "## 1. Build unique sets of elements from included potentials"
   ]
  },
  {
   "cell_type": "markdown",
   "metadata": {},
   "source": [
    "### Load database"
   ]
  },
  {
   "cell_type": "code",
   "execution_count": 2,
   "metadata": {},
   "outputs": [],
   "source": [
    "database = iprPy.load_database('demo')"
   ]
  },
  {
   "cell_type": "markdown",
   "metadata": {},
   "source": [
    "### Option #1: Get all elements lists from potentials"
   ]
  },
  {
   "cell_type": "code",
   "execution_count": 3,
   "metadata": {},
   "outputs": [],
   "source": [
    "elements_set = set()\n",
    "for potential_record in database.get_records(style='potential_LAMMPS'):\n",
    "    potential = lmp.Potential(potential_record.content)\n",
    "    elements = potential.elements()\n",
    "    elements.sort()\n",
    "    elements_set.add(' '.join(elements))"
   ]
  },
  {
   "cell_type": "markdown",
   "metadata": {},
   "source": [
    "### Option #2: Only get elements lists for certain systems"
   ]
  },
  {
   "cell_type": "code",
   "execution_count": 3,
   "metadata": {},
   "outputs": [],
   "source": [
    "elements_set = set()\n",
    "elements_set.add('Cu Ni')"
   ]
  },
  {
   "cell_type": "markdown",
   "metadata": {},
   "source": [
    "## 2. Fetch Materials Project reference structures"
   ]
  },
  {
   "cell_type": "markdown",
   "metadata": {},
   "source": [
    "### Specify personal Materials Project API key"
   ]
  },
  {
   "cell_type": "code",
   "execution_count": 4,
   "metadata": {},
   "outputs": [],
   "source": [
    "mp_api_key_location = 'C:\\\\users\\\\lmh1\\\\Documents\\\\Materials Project\\\\API key.txt'\n",
    "\n",
    "with open(mp_api_key_location) as f:\n",
    "    mp_api_key = f.read()"
   ]
  },
  {
   "cell_type": "markdown",
   "metadata": {},
   "source": [
    "### Get structures from Materials Project"
   ]
  },
  {
   "cell_type": "code",
   "execution_count": 5,
   "metadata": {},
   "outputs": [],
   "source": [
    "for elements in elements_set:\n",
    "    iprPy.tools.get_mp_structures(elements.split(), api_key=mp_api_key)"
   ]
  },
  {
   "cell_type": "markdown",
   "metadata": {},
   "source": [
    "## 3. Fetch OQMD reference structures"
   ]
  },
  {
   "cell_type": "markdown",
   "metadata": {},
   "source": [
    "### Get structures from OQMD"
   ]
  },
  {
   "cell_type": "code",
   "execution_count": 6,
   "metadata": {},
   "outputs": [],
   "source": [
    "for elements in elements_set:\n",
    "    try:\n",
    "        iprPy.tools.get_oqmd_structures(elements.split())\n",
    "    except:\n",
    "        print('Failed:', elements)"
   ]
  },
  {
   "cell_type": "markdown",
   "metadata": {},
   "source": [
    "## 4. Run crystal_space_group calculations on the reference structures"
   ]
  },
  {
   "cell_type": "code",
   "execution_count": 3,
   "metadata": {},
   "outputs": [],
   "source": [
    "calculation = iprPy.load_calculation('crystal_space_group')\n",
    "run_directory = iprPy.load_run_directory('demo_1')"
   ]
  },
  {
   "cell_type": "code",
   "execution_count": 4,
   "metadata": {},
   "outputs": [],
   "source": [
    "input_script = \"\"\"\n",
    "\n",
    "# Build load information based on prototype records\n",
    "buildcombos                 crystalprototype load_file proto\n",
    "\n",
    "# Build load information based on reference structures\n",
    "buildcombos                 atomicreference load_file ref\n",
    "\n",
    "# Specify reference buildcombos limiters (only build for element sets listed)\n",
    "ref_elements                Mo\n",
    "\n",
    "# Units that input/output values are in\n",
    "length_unit                 \n",
    "pressure_unit               \n",
    "energy_unit                 \n",
    "force_unit                  \n",
    "\n",
    "# Run parameters\n",
    "symmetryprecision           \n",
    "primitivecell               \n",
    "idealcell                   \n",
    "\"\"\"\n",
    "with open('input_script.in', 'w') as f:\n",
    "    f.write(input_script)"
   ]
  },
  {
   "cell_type": "code",
   "execution_count": 5,
   "metadata": {},
   "outputs": [
    {
     "name": "stdout",
     "output_type": "stream",
     "text": [
      "In database style local at C:\\Users\\lmh1\\Documents\\calculations\\ipr\\demo :\n",
      "- 518 of style calculation_crystal_space_group\n",
      " - 497 are complete\n",
      " - 21 still to run\n",
      " - 0 issued errors\n"
     ]
    }
   ],
   "source": [
    "calculation = iprPy.load_calculation('crystal_space_group')\n",
    "\n",
    "with open('input_script.in') as f:\n",
    "    input_dict = iprPy.input.parse(f, singularkeys=calculation.singularkeys)\n",
    "    \n",
    "database.prepare(run_directory, calculation, **input_dict)\n",
    "database.check_records(calculation.record_style)"
   ]
  },
  {
   "cell_type": "code",
   "execution_count": 6,
   "metadata": {},
   "outputs": [
    {
     "name": "stdout",
     "output_type": "stream",
     "text": [
      "Runner started with pid 10292\n",
      "Didn't find an open simulation\n",
      "No simulations left to run\n",
      "In database style local at C:\\Users\\lmh1\\Documents\\calculations\\ipr\\demo :\n",
      "- 518 of style calculation_crystal_space_group\n",
      " - 518 are complete\n",
      " - 0 still to run\n",
      " - 0 issued errors\n"
     ]
    }
   ],
   "source": [
    "database.runner(run_directory)\n",
    "database.check_records(calculation.record_style)"
   ]
  },
  {
   "cell_type": "markdown",
   "metadata": {},
   "source": [
    "## 5. Match prototypes to references"
   ]
  },
  {
   "cell_type": "code",
   "execution_count": 11,
   "metadata": {},
   "outputs": [],
   "source": [
    "crystal_match_file = 'reference_prototype_match.csv'"
   ]
  },
  {
   "cell_type": "markdown",
   "metadata": {},
   "source": [
    "### Retrieve finished calculation results"
   ]
  },
  {
   "cell_type": "code",
   "execution_count": 12,
   "metadata": {},
   "outputs": [],
   "source": [
    "spg_records = database.get_records_df(style='calculation_crystal_space_group', full=True, flat=False, status='finished')"
   ]
  },
  {
   "cell_type": "markdown",
   "metadata": {},
   "source": [
    "### Identify compositions"
   ]
  },
  {
   "cell_type": "code",
   "execution_count": 13,
   "metadata": {},
   "outputs": [],
   "source": [
    "iprPy.analysis.assign_composition(spg_records, database)"
   ]
  },
  {
   "cell_type": "markdown",
   "metadata": {},
   "source": [
    "### Split all spg records into references, prototypes and calculation relaxes"
   ]
  },
  {
   "cell_type": "code",
   "execution_count": 14,
   "metadata": {},
   "outputs": [],
   "source": [
    "spg_records['record_type'] = 'calc'\n",
    "spg_records.loc[(spg_records.load_file == spg_records.family + '.poscar'), 'record_type'] = 'reference'\n",
    "spg_records.loc[(spg_records.load_file == spg_records.family + '.json'), 'record_type'] = 'prototype'\n",
    "\n",
    "prototype_records = spg_records[spg_records.record_type == 'prototype']\n",
    "reference_records = spg_records[spg_records.record_type == 'reference']\n",
    "family_records = spg_records[(spg_records.record_type == 'prototype') | (spg_records.record_type == 'reference')]\n",
    "\n",
    "calc_records = spg_records[spg_records.record_type == 'calc'].reset_index(drop=True)"
   ]
  },
  {
   "cell_type": "markdown",
   "metadata": {},
   "source": [
    "### Create crystal_match_file"
   ]
  },
  {
   "cell_type": "code",
   "execution_count": 15,
   "metadata": {},
   "outputs": [],
   "source": [
    "ref_proto_match = []\n",
    "\n",
    "for ref_record in reference_records.itertuples():\n",
    "    ref_proto_dict = {}\n",
    "    ref_proto_dict['reference'] = ref_record.family\n",
    "    ref_proto_dict['composition'] = ref_record.composition\n",
    "    ref_proto_dict['site'], ref_proto_dict['number'] = ref_record.family.split('-')\n",
    "    ref_proto_dict['number'] = int(ref_proto_dict['number'])\n",
    "    \n",
    "    # Find matching prototypes based on spg number and wykoffs\n",
    "    prototype = np.nan\n",
    "    \n",
    "    # A1--Cu--fcc\n",
    "    if (ref_record.spacegroup_number == 225 \n",
    "    and ref_record.wykoff_fingerprint in ['a', 'b']):\n",
    "        prototype = 'A1--Cu--fcc'\n",
    "    \n",
    "    # A2--W--bcc\n",
    "    elif (ref_record.spacegroup_number == 229 \n",
    "      and ref_record.wykoff_fingerprint in ['a']):\n",
    "        prototype = 'A2--W--bcc'\n",
    "    \n",
    "    # A3'--alpha-La--double-hcp\n",
    "    elif (ref_record.spacegroup_number == 194\n",
    "      and ref_record.wykoff_fingerprint in ['ab', 'ac', 'ad']):\n",
    "        prototype = \"A3'--alpha-La--double-hcp\"\n",
    "    \n",
    "    # A3--Mg--hcp\n",
    "    elif (ref_record.spacegroup_number == 194\n",
    "      and ref_record.wykoff_fingerprint in ['b', 'c', 'd']):\n",
    "        prototype = 'A3--Mg--hcp'\n",
    "        \n",
    "    # A4--C--dc\n",
    "    elif (ref_record.spacegroup_number == 227\n",
    "      and ref_record.wykoff_fingerprint in ['a', 'b']):\n",
    "        prototype = 'A4--C--dc'\n",
    "    \n",
    "    # A5--beta-Sn\n",
    "    elif (ref_record.spacegroup_number == 141\n",
    "      and ref_record.wykoff_fingerprint in ['a', 'b']):\n",
    "        prototype = 'A5--beta-Sn'\n",
    "    \n",
    "    # A6--In--bct\n",
    "    elif (ref_record.spacegroup_number == 139\n",
    "      and ref_record.wykoff_fingerprint in ['a', 'b']):\n",
    "        prototype = 'A6--In--bct'\n",
    "        \n",
    "    # A7--alpha-As\n",
    "    elif (ref_record.spacegroup_number == 166\n",
    "      and ref_record.wykoff_fingerprint in ['c']):\n",
    "        prototype = 'A7--alpha-As'\n",
    "        \n",
    "    # A15--beta-W\n",
    "    elif (ref_record.spacegroup_number == 223\n",
    "      and ref_record.wykoff_fingerprint in ['ac', 'ad']):\n",
    "        prototype = 'A15--beta-W'\n",
    "    \n",
    "    # A15--Cr3Si\n",
    "    elif (ref_record.spacegroup_number == 223\n",
    "      and ref_record.wykoff_fingerprint in ['a c', 'c a', 'a d', 'd a']):\n",
    "        prototype = 'A15--Cr3Si'\n",
    "    \n",
    "    # Ah--alpha-Po--sc\n",
    "    elif (ref_record.spacegroup_number == 221\n",
    "      and ref_record.wykoff_fingerprint in ['a', 'b']):\n",
    "        prototype = 'Ah--alpha-Po--sc'\n",
    "    \n",
    "    # B1--NaCl--rock-salt\n",
    "    elif (ref_record.spacegroup_number == 225\n",
    "      and ref_record.wykoff_fingerprint in ['a b', 'b a']):\n",
    "        prototype = 'B1--NaCl--rock-salt'\n",
    "    \n",
    "    # B2--CsCl\n",
    "    elif (ref_record.spacegroup_number == 221\n",
    "      and ref_record.wykoff_fingerprint in ['a b', 'b a']):\n",
    "        prototype = 'B2--CsCl'\n",
    "    \n",
    "    # B3--ZnS--cubic-zinc-blende\n",
    "    elif (ref_record.spacegroup_number == 216\n",
    "      and ref_record.wykoff_fingerprint in ['a c', 'c a', 'b d', 'd b', 'a d', 'd a', 'b c', 'c b']):\n",
    "        prototype = 'B3--ZnS--cubic-zinc-blende'\n",
    "    \n",
    "    # C1--CaF2--fluorite\n",
    "    elif (ref_record.spacegroup_number == 225\n",
    "      and ref_record.wykoff_fingerprint in ['a c', 'c a', 'b c', 'c b']):\n",
    "        prototype = 'C1--CaF2--fluorite'\n",
    "    \n",
    "    # D0_3--BiF3\n",
    "    elif (ref_record.spacegroup_number == 225\n",
    "      and ref_record.wykoff_fingerprint in ['a bc', 'bc a', 'b ac', 'ac b']):\n",
    "        prototype = 'D0_3--BiF3'\n",
    "    \n",
    "    # L1_0--AuCu\n",
    "    elif (ref_record.spacegroup_number == 123\n",
    "      and ref_record.wykoff_fingerprint in ['a d', 'd a', 'b c', 'c b']):\n",
    "        prototype = 'L1_0--AuCu'\n",
    "    \n",
    "    # L1_2--AuCu3\n",
    "    elif (ref_record.spacegroup_number == 221\n",
    "      and ref_record.wykoff_fingerprint in ['a c', 'c a', 'b d', 'd b']):\n",
    "        prototype = 'L1_2--AuCu3'\n",
    "    \n",
    "    # L2_1--AlCu2Mn--heusler\n",
    "    elif (ref_record.spacegroup_number == 225\n",
    "      and ref_record.wykoff_fingerprint in ['a b c', 'b c a', 'c a b', 'a c b', 'c b a', 'b a c']):\n",
    "        prototype = 'L2_1--AlCu2Mn--heusler'\n",
    "    \n",
    "    ref_proto_dict['prototype'] = prototype\n",
    "    ref_proto_match.append(ref_proto_dict)\n",
    "ref_proto_match = pd.DataFrame(ref_proto_match)\n",
    "ref_proto_match = ref_proto_match.sort_values(['site', 'number']).reset_index()\n",
    "ref_proto_match = ref_proto_match[['reference', 'prototype', 'composition']]\n",
    "ref_proto_match.to_csv(crystal_match_file, index=False)"
   ]
  },
  {
   "cell_type": "code",
   "execution_count": 17,
   "metadata": {},
   "outputs": [
    {
     "name": "stdout",
     "output_type": "stream",
     "text": [
      "A1--Cu--fcc 6\n",
      "A15--Cr3Si 0\n",
      "A15--beta-W 3\n",
      "A2--W--bcc 5\n",
      "A3'--alpha-La--double-hcp 5\n",
      "A3--Mg--hcp 6\n",
      "A4--C--dc 3\n",
      "A5--beta-Sn 3\n",
      "A6--In--bct 4\n",
      "A7--alpha-As 0\n",
      "Ah--alpha-Po--sc 0\n",
      "B1--NaCl--rock-salt 0\n",
      "B2--CsCl 0\n",
      "B3--ZnS--cubic-zinc-blende 0\n",
      "C1--CaF2--fluorite 0\n",
      "D0_3--BiF3 0\n",
      "L1_0--AuCu 0\n",
      "L1_2--AuCu3 0\n",
      "L2_1--AlCu2Mn--heusler 0\n"
     ]
    }
   ],
   "source": [
    "for protoname in sorted(prototype_records.family):\n",
    "    print(protoname, len(ref_proto_match[ref_proto_match.prototype==protoname]))"
   ]
  }
 ],
 "metadata": {
  "kernelspec": {
   "display_name": "Python 3",
   "language": "python",
   "name": "python3"
  },
  "language_info": {
   "codemirror_mode": {
    "name": "ipython",
    "version": 3
   },
   "file_extension": ".py",
   "mimetype": "text/x-python",
   "name": "python",
   "nbconvert_exporter": "python",
   "pygments_lexer": "ipython3",
   "version": "3.6.4"
  }
 },
 "nbformat": 4,
 "nbformat_minor": 2
}
