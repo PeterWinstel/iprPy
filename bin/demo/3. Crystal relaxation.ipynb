{
 "cells": [
  {
   "cell_type": "markdown",
   "metadata": {},
   "source": [
    "# Crystal relaxation\n",
    "\n",
    "This Notebook follows the workflow for identifying and analyzing bulk crystal structures as is currently being done with the Interatomic Potentials Repository.\n",
    "\n",
    "**Quick Notes:**\n",
    "\n",
    "- All input scripts take key-value pairs where the \"key\"s correspond to the calculation's input parameters.\n",
    "\n",
    "- Multiple calculations are prepared by specifying multiple values for the same key (on separate lines).\n",
    "\n",
    "- The special \"buildcombos\" key accesses predefined functions for generating lists of input parameter values for certain sets of keys.  See documentation for more details."
   ]
  },
  {
   "cell_type": "markdown",
   "metadata": {},
   "source": [
    "**Library imports**"
   ]
  },
  {
   "cell_type": "code",
   "execution_count": 1,
   "metadata": {},
   "outputs": [
    {
     "name": "stdout",
     "output_type": "stream",
     "text": [
      "iprPy version 0.8.2\n"
     ]
    }
   ],
   "source": [
    "# Standard Python libraries\n",
    "from __future__ import (absolute_import, print_function,\n",
    "                        division, unicode_literals)\n",
    "import os\n",
    "\n",
    "# http://www.numpy.org/\n",
    "import numpy as np\n",
    "\n",
    "from IPython.core.display import display, HTML\n",
    "\n",
    "# https://pandas.pydata.org/\n",
    "import pandas as pd\n",
    "\n",
    "from DataModelDict import DataModelDict as DM\n",
    "\n",
    "# https://github.com/usnistgov/atomman\n",
    "import atomman.unitconvert as uc\n",
    "\n",
    "# https://github.com/usnistgov/iprPy\n",
    "import iprPy\n",
    "print('iprPy version', iprPy.__version__)"
   ]
  },
  {
   "cell_type": "markdown",
   "metadata": {},
   "source": [
    "## 0. Access database "
   ]
  },
  {
   "cell_type": "markdown",
   "metadata": {},
   "source": [
    "### Load database"
   ]
  },
  {
   "cell_type": "code",
   "execution_count": 2,
   "metadata": {},
   "outputs": [],
   "source": [
    "database = iprPy.load_database('demo')"
   ]
  },
  {
   "cell_type": "markdown",
   "metadata": {},
   "source": [
    "## 1. relax_box calculation\n",
    "\n",
    "This calculation statically relaxes a given system by only adjusting the box dimensions to zero pressure without any internal relaxations, i.e. all atoms retain box-relative positions."
   ]
  },
  {
   "cell_type": "code",
   "execution_count": 3,
   "metadata": {},
   "outputs": [],
   "source": [
    "calculation = iprPy.load_calculation('relax_box')\n",
    "run_directory = iprPy.load_run_directory('demo_1')"
   ]
  },
  {
   "cell_type": "markdown",
   "metadata": {},
   "source": [
    "### Show calculation's allowed keys"
   ]
  },
  {
   "cell_type": "code",
   "execution_count": 4,
   "metadata": {},
   "outputs": [
    {
     "name": "stdout",
     "output_type": "stream",
     "text": [
      "['lammps_command', 'mpi_command', 'length_unit', 'pressure_unit', 'energy_unit', 'force_unit', 'potential_file', 'potential_content', 'potential_dir', 'load_file', 'load_content', 'load_style', 'family', 'load_options', 'symbols', 'box_parameters', 'a_uvw', 'b_uvw', 'c_uvw', 'atomshift', 'sizemults', 'pressure_xx', 'pressure_yy', 'pressure_zz', 'strainrange']\n"
     ]
    }
   ],
   "source": [
    "print(calculation.allkeys)"
   ]
  },
  {
   "cell_type": "markdown",
   "metadata": {},
   "source": [
    "### Write input script"
   ]
  },
  {
   "cell_type": "code",
   "execution_count": 5,
   "metadata": {},
   "outputs": [],
   "source": [
    "input_script = \"\"\"\n",
    "# Commands and executables\n",
    "lammps_command              lmp_mpi\n",
    "mpi_command                 \n",
    "\n",
    "# Build load information based on reference structures\n",
    "buildcombos                 atomicreference load_file reference\n",
    "\n",
    "# Specify reference buildcombos limiters (only build for potential listed)\n",
    "reference_potential_name    1986--Foiles-S-M--Ag--LAMMPS--ipr1\n",
    "\n",
    "# Build load information from E_vs_r_scan results\n",
    "buildcombos                 atomicparent load_file parent\n",
    "\n",
    "# Specify parent buildcombos terms (parent record's style and the load_key to access)\n",
    "parent_record               calculation_E_vs_r_scan              \n",
    "parent_load_key             minimum-atomic-system\n",
    "\n",
    "# System manipulations\n",
    "a_uvw                      \n",
    "b_uvw                      \n",
    "c_uvw                    \n",
    "atomshift                   \n",
    "sizemults                   10 10 10\n",
    "\n",
    "# Units that input/output values are in\n",
    "length_unit                 \n",
    "pressure_unit               \n",
    "energy_unit                 \n",
    "force_unit                  \n",
    "\n",
    "# Run parameters\n",
    "strainrange                 1e-6\n",
    "\"\"\"\n",
    "with open('input_script.in', 'w') as f:\n",
    "    f.write(input_script)"
   ]
  },
  {
   "cell_type": "markdown",
   "metadata": {},
   "source": [
    "### Prepare calculations"
   ]
  },
  {
   "cell_type": "code",
   "execution_count": 6,
   "metadata": {},
   "outputs": [
    {
     "name": "stdout",
     "output_type": "stream",
     "text": [
      "In database style local at C:\\Users\\lmh1\\Documents\\calculations\\ipr\\demo :\n",
      "- 62 of style calculation_relax_box\n",
      " - 28 are complete\n",
      " - 31 still to run\n",
      " - 3 issued errors\n"
     ]
    }
   ],
   "source": [
    "with open('input_script.in') as f:\n",
    "    input_dict = iprPy.input.parse(f, singularkeys=calculation.singularkeys)\n",
    "    \n",
    "database.prepare(run_directory, calculation, **input_dict)\n",
    "database.check_records(calculation.record_style)"
   ]
  },
  {
   "cell_type": "markdown",
   "metadata": {},
   "source": [
    "### Run calculations"
   ]
  },
  {
   "cell_type": "code",
   "execution_count": 7,
   "metadata": {},
   "outputs": [
    {
     "name": "stdout",
     "output_type": "stream",
     "text": [
      "Runner started with pid 10608\n",
      "No simulations left to run\n",
      "In database style local at C:\\Users\\lmh1\\Documents\\calculations\\ipr\\demo :\n",
      "- 62 of style calculation_relax_box\n",
      " - 56 are complete\n",
      " - 0 still to run\n",
      " - 6 issued errors\n"
     ]
    }
   ],
   "source": [
    "database.runner(run_directory)\n",
    "database.check_records(calculation.record_style)"
   ]
  },
  {
   "cell_type": "code",
   "execution_count": 8,
   "metadata": {},
   "outputs": [
    {
     "name": "stdout",
     "output_type": "stream",
     "text": [
      "b'Traceback (most recent call last):\r\n",
      "  File \"calc_relax_box.py\", line 458, in <module>\r\n",
      "    main(*sys.argv[1:])\r\n",
      "  File \"calc_relax_box.py\", line 54, in main\r\n",
      "    strainrange = input_dict[\\'strainrange\\'])\r\n",
      "  File \"calc_relax_box.py\", line 145, in relax_box\r\n",
      "    strainrange=strainrange, cycle=cycle)\r\n",
      "  File \"calc_relax_box.py\", line 364, in calc_cij\r\n",
      "    raise RuntimeError(\\'Divergence of box dimensions to <= 0\\')\r\n",
      "RuntimeError: Divergence of box dimensions to <= 0\r\n",
      "'\n",
      "b'Traceback (most recent call last):\r\n",
      "  File \"calc_relax_box.py\", line 458, in <module>\r\n",
      "    main(*sys.argv[1:])\r\n",
      "  File \"calc_relax_box.py\", line 54, in main\r\n",
      "    strainrange = input_dict[\\'strainrange\\'])\r\n",
      "  File \"calc_relax_box.py\", line 177, in relax_box\r\n",
      "    raise RuntimeError(\\'Divergence of box dimensions\\')\r\n",
      "RuntimeError: Divergence of box dimensions\r\n",
      "'\n",
      "b'Traceback (most recent call last):\r\n",
      "  File \"calc_relax_box.py\", line 458, in <module>\r\n",
      "    main(*sys.argv[1:])\r\n",
      "  File \"calc_relax_box.py\", line 54, in main\r\n",
      "    strainrange = input_dict[\\'strainrange\\'])\r\n",
      "  File \"calc_relax_box.py\", line 181, in relax_box\r\n",
      "    raise RuntimeError(\\'Divergence of box dimensions\\')\r\n",
      "RuntimeError: Divergence of box dimensions\r\n",
      "'\n"
     ]
    }
   ],
   "source": [
    "results_df = database.get_records_df(style=calculation.record_style)\n",
    "for error in np.unique(results_df[results_df.status=='error'].error):\n",
    "    print(error)"
   ]
  },
  {
   "cell_type": "markdown",
   "metadata": {},
   "source": [
    "## 2. relax_dynamic calculation\n",
    "\n",
    "This calculation dymamically relaxes a given system for a specified number of MD integrations at a specified temperature, pressure, etc.  Here, we are only doing 0 K relaxations."
   ]
  },
  {
   "cell_type": "code",
   "execution_count": 9,
   "metadata": {},
   "outputs": [],
   "source": [
    "calculation = iprPy.load_calculation('relax_dynamic')\n",
    "run_directory = iprPy.load_run_directory('demo_4')"
   ]
  },
  {
   "cell_type": "markdown",
   "metadata": {},
   "source": [
    "### Write input script"
   ]
  },
  {
   "cell_type": "code",
   "execution_count": 10,
   "metadata": {},
   "outputs": [],
   "source": [
    "input_script = \"\"\"\n",
    "# Commands and executables\n",
    "lammps_command              lmp_mpi\n",
    "mpi_command                 c:\\\\Program Files\\\\MPICH2\\\\bin\\\\mpiexec -localonly 4\n",
    "\n",
    "# Build load information based on reference structures\n",
    "buildcombos                 atomicreference load_file reference\n",
    "\n",
    "# Specify reference buildcombos limiters (only build for potential listed)\n",
    "reference_potential_name    1986--Foiles-S-M--Ag--LAMMPS--ipr1\n",
    "\n",
    "# Build load information from E_vs_r_scan results\n",
    "buildcombos                 atomicparent load_file parent\n",
    "\n",
    "# Specify parent buildcombos terms (parent record's style and the load_key to access)\n",
    "parent_record               calculation_E_vs_r_scan              \n",
    "parent_load_key             minimum-atomic-system\n",
    "\n",
    "# System manipulations\n",
    "a_uvw                      \n",
    "b_uvw                      \n",
    "c_uvw       \n",
    "atomshift                   \n",
    "sizemults                   10 10 10\n",
    "\n",
    "# Units that input/output values are in\n",
    "length_unit                 \n",
    "pressure_unit               \n",
    "energy_unit                 \n",
    "force_unit                  \n",
    "\n",
    "# Run parameters\n",
    "temperature                 0.0\n",
    "pressure_xx                 \n",
    "pressure_yy                 \n",
    "pressure_zz                 \n",
    "pressure_xy                 \n",
    "pressure_xz                 \n",
    "pressure_yz                 \n",
    "integrator                  nph+l\n",
    "thermosteps                 1000\n",
    "dumpsteps                   \n",
    "runsteps                    10000\n",
    "equilsteps                  0\n",
    "randomseed                  \n",
    "\"\"\"\n",
    "with open('input_script.in', 'w') as f:\n",
    "    f.write(input_script)"
   ]
  },
  {
   "cell_type": "markdown",
   "metadata": {},
   "source": [
    "### Prepare calculations"
   ]
  },
  {
   "cell_type": "code",
   "execution_count": 11,
   "metadata": {},
   "outputs": [
    {
     "name": "stdout",
     "output_type": "stream",
     "text": [
      "In database style local at C:\\Users\\lmh1\\Documents\\calculations\\ipr\\demo :\n",
      "- 62 of style calculation_relax_dynamic\n",
      " - 31 are complete\n",
      " - 31 still to run\n",
      " - 0 issued errors\n"
     ]
    }
   ],
   "source": [
    "with open('input_script.in') as f:\n",
    "    input_dict = iprPy.input.parse(f, singularkeys=calculation.singularkeys)\n",
    "    \n",
    "database.prepare(run_directory, calculation, **input_dict)\n",
    "database.check_records(calculation.record_style)"
   ]
  },
  {
   "cell_type": "markdown",
   "metadata": {},
   "source": [
    "### Run calculations"
   ]
  },
  {
   "cell_type": "code",
   "execution_count": 12,
   "metadata": {},
   "outputs": [
    {
     "name": "stdout",
     "output_type": "stream",
     "text": [
      "Runner started with pid 10608\n",
      "No simulations left to run\n",
      "In database style local at C:\\Users\\lmh1\\Documents\\calculations\\ipr\\demo :\n",
      "- 62 of style calculation_relax_dynamic\n",
      " - 62 are complete\n",
      " - 0 still to run\n",
      " - 0 issued errors\n"
     ]
    }
   ],
   "source": [
    "database.runner(run_directory)\n",
    "database.check_records(calculation.record_style)"
   ]
  },
  {
   "cell_type": "code",
   "execution_count": 13,
   "metadata": {},
   "outputs": [],
   "source": [
    "results_df = database.get_records_df(style=calculation.record_style)\n",
    "for error in np.unique(results_df[results_df.status=='error'].error):\n",
    "    print(error)"
   ]
  },
  {
   "cell_type": "markdown",
   "metadata": {},
   "source": [
    "## 3. relax_static calculation\n",
    "\n",
    "This calculation statically relaxes a given system using energy minimizations combined with box dimension relaxations.  Here, we pass in results from both the E_vs_r_scan calculation and the relax_dynamic calculation."
   ]
  },
  {
   "cell_type": "code",
   "execution_count": 14,
   "metadata": {},
   "outputs": [],
   "source": [
    "calculation = iprPy.load_calculation('relax_static')\n",
    "run_directory = iprPy.load_run_directory('demo_1')"
   ]
  },
  {
   "cell_type": "markdown",
   "metadata": {},
   "source": [
    "### Write input script"
   ]
  },
  {
   "cell_type": "code",
   "execution_count": 15,
   "metadata": {},
   "outputs": [],
   "source": [
    "input_script = \"\"\"\n",
    "# Commands and executables\n",
    "lammps_command              lmp_mpi\n",
    "mpi_command                 \n",
    "\n",
    "# Build load information based on reference structures\n",
    "buildcombos                 atomicreference load_file reference\n",
    "\n",
    "# Specify reference buildcombos limiters (only build for potential listed)\n",
    "reference_potential_name    1986--Foiles-S-M--Ag--LAMMPS--ipr1\n",
    "\n",
    "# Build load information from E_vs_r_scan results\n",
    "buildcombos                 atomicparent load_file parent\n",
    "\n",
    "# Specify parent buildcombos terms (parent record's style and the load_key to access)\n",
    "parent_record               calculation_E_vs_r_scan              \n",
    "parent_load_key             minimum-atomic-system\n",
    "\n",
    "# Build load information from relax_dynamic results\n",
    "buildcombos                 atomicarchive load_file archive\n",
    "\n",
    "# Specify archive parent buildcombos terms (parent record's style and the load_key to access)\n",
    "archive_record              calculation_relax_dynamic\n",
    "archive_load_key            final-system\n",
    "\n",
    "# System manipulations\n",
    "a_uvw                      \n",
    "b_uvw                      \n",
    "c_uvw                 \n",
    "atomshift                   \n",
    "sizemults                   1 1 1\n",
    "\n",
    "# Units that input/output values are in\n",
    "length_unit                 \n",
    "pressure_unit               \n",
    "energy_unit                 \n",
    "force_unit                  \n",
    "\n",
    "# Run parameters\n",
    "energytolerance             0.0\n",
    "forcetolerance              1e-10 eV/angstrom\n",
    "maxiterations               10000\n",
    "maxevaluations              100000\n",
    "maxatommotion               0.01 angstrom\n",
    "maxcycles                   100\n",
    "cycletolerance              1e-10\n",
    "\"\"\"\n",
    "with open('input_script.in', 'w') as f:\n",
    "    f.write(input_script)"
   ]
  },
  {
   "cell_type": "markdown",
   "metadata": {},
   "source": [
    "### Prepare calculations"
   ]
  },
  {
   "cell_type": "code",
   "execution_count": 16,
   "metadata": {},
   "outputs": [
    {
     "name": "stdout",
     "output_type": "stream",
     "text": [
      "In database style local at C:\\Users\\lmh1\\Documents\\calculations\\ipr\\demo :\n",
      "- 124 of style calculation_relax_static\n",
      " - 54 are complete\n",
      " - 62 still to run\n",
      " - 8 issued errors\n"
     ]
    }
   ],
   "source": [
    "with open('input_script.in') as f:\n",
    "    input_dict = iprPy.input.parse(f, singularkeys=calculation.singularkeys)\n",
    "    \n",
    "database.prepare(run_directory, calculation, **input_dict)\n",
    "database.check_records(calculation.record_style)"
   ]
  },
  {
   "cell_type": "markdown",
   "metadata": {},
   "source": [
    "### Run calculations"
   ]
  },
  {
   "cell_type": "code",
   "execution_count": 17,
   "metadata": {},
   "outputs": [
    {
     "name": "stdout",
     "output_type": "stream",
     "text": [
      "Runner started with pid 10608\n",
      "No simulations left to run\n",
      "In database style local at C:\\Users\\lmh1\\Documents\\calculations\\ipr\\demo :\n",
      "- 124 of style calculation_relax_static\n",
      " - 106 are complete\n",
      " - 0 still to run\n",
      " - 18 issued errors\n"
     ]
    }
   ],
   "source": [
    "database.runner(run_directory)\n",
    "database.check_records(calculation.record_style)"
   ]
  },
  {
   "cell_type": "code",
   "execution_count": 18,
   "metadata": {},
   "outputs": [
    {
     "name": "stdout",
     "output_type": "stream",
     "text": [
      "b'Traceback (most recent call last):\r\n",
      "  File \"C:\\\\Users\\\\lmh1\\\\AppData\\\\Local\\\\Continuum\\\\anaconda3\\\\lib\\\\shutil.py\", line 544, in move\r\n",
      "    os.rename(src, real_dst)\r\n",
      "FileNotFoundError: [WinError 2] The system cannot find the file specified: \\'10000.dump\\' -> \\'relax_static-0.dump\\'\r\n",
      "\r\n",
      "During handling of the above exception, another exception occurred:\r\n",
      "\r\n",
      "Traceback (most recent call last):\r\n",
      "  File \"calc_relax_static.py\", line 380, in <module>\r\n",
      "    main(*sys.argv[1:])\r\n",
      "  File \"calc_relax_static.py\", line 62, in main\r\n",
      "    ctol = input_dict[\\'cycletolerance\\'])\r\n",
      "  File \"calc_relax_static.py\", line 231, in relax_static\r\n",
      "    shutil.move(last_dump_file, renamed_dump_file)\r\n",
      "  File \"C:\\\\Users\\\\lmh1\\\\AppData\\\\Local\\\\Continuum\\\\anaconda3\\\\lib\\\\shutil.py\", line 558, in move\r\n",
      "    copy_function(src, real_dst)\r\n",
      "  File \"C:\\\\Users\\\\lmh1\\\\AppData\\\\Local\\\\Continuum\\\\anaconda3\\\\lib\\\\shutil.py\", line 257, in copy2\r\n",
      "    copyfile(src, dst, follow_symlinks=follow_symlinks)\r\n",
      "  File \"C:\\\\Users\\\\lmh1\\\\AppData\\\\Local\\\\Continuum\\\\anaconda3\\\\lib\\\\shutil.py\", line 120, in copyfile\r\n",
      "    with open(src, \\'rb\\') as fsrc:\r\n",
      "FileNotFoundError: [Errno 2] No such file or directory: \\'10000.dump\\'\r\n",
      "'\n",
      "b'Traceback (most recent call last):\r\n",
      "  File \"calc_relax_static.py\", line 380, in <module>\r\n",
      "    main(*sys.argv[1:])\r\n",
      "  File \"calc_relax_static.py\", line 42, in main\r\n",
      "    process_input(input_dict, *args[1:])\r\n",
      "  File \"calc_relax_static.py\", line 377, in process_input\r\n",
      "    iprPy.input.interpret(\\'atomman_systemmanipulate\\', input_dict, build=build)\r\n",
      "  File \"c:\\\\users\\\\lmh1\\\\documents\\\\python-packages\\\\iprpy\\\\iprPy\\\\input\\\\interpret.py\", line 14, in interpret\r\n",
      "    loaded[style](input_dict, build=build, **kwargs)\r\n",
      "  File \"c:\\\\users\\\\lmh1\\\\documents\\\\python-packages\\\\iprpy\\\\iprPy\\\\input\\\\interpret_functions\\\\atomman_systemmanipulate.py\", line 139, in atomman_systemmanipulate\r\n",
      "    initialsystem, transform = ucell.rotate(uvws, return_transform=True)\r\n",
      "  File \"c:\\\\users\\\\lmh1\\\\documents\\\\python-packages\\\\atomman\\\\atomman\\\\core\\\\System.py\", line 668, in rotate\r\n",
      "    \\'atoms expected, \\' + str(len(aindex[0])) + \\' found\\')\r\n",
      "ValueError: Filtering failed: 3000atoms expected, 2518 found\r\n",
      "'\n"
     ]
    }
   ],
   "source": [
    "results_df = database.get_records_df(style=calculation.record_style)\n",
    "for error in np.unique(results_df[results_df.status=='error'].error):\n",
    "    print(error)"
   ]
  },
  {
   "cell_type": "markdown",
   "metadata": {},
   "source": [
    "## 4. crystal_space_group calculation\n",
    "\n",
    "This calculation analyzes the space group of a given system.  Here, this is used to determine if the bulk system's structure has transformed."
   ]
  },
  {
   "cell_type": "code",
   "execution_count": 19,
   "metadata": {},
   "outputs": [],
   "source": [
    "calculation = iprPy.load_calculation('crystal_space_group')\n",
    "run_directory = iprPy.load_run_directory('demo_1')"
   ]
  },
  {
   "cell_type": "code",
   "execution_count": 20,
   "metadata": {},
   "outputs": [
    {
     "name": "stdout",
     "output_type": "stream",
     "text": [
      "['length_unit', 'pressure_unit', 'energy_unit', 'force_unit', 'load_file', 'load_content', 'load_style', 'family', 'load_options', 'symbols', 'box_parameters', 'symmetryprecision', 'primitivecell', 'idealcell']\n"
     ]
    }
   ],
   "source": [
    "print(calculation.allkeys)"
   ]
  },
  {
   "cell_type": "markdown",
   "metadata": {},
   "source": [
    "### Write input script"
   ]
  },
  {
   "cell_type": "code",
   "execution_count": 21,
   "metadata": {},
   "outputs": [],
   "source": [
    "input_script = \"\"\"\n",
    "\n",
    "# Build load information based on prototype records\n",
    "buildcombos                 crystalprototype load_file\n",
    "\n",
    "# Build load information based on reference structures\n",
    "buildcombos                 atomicreference load_file ref\n",
    "\n",
    "# Specify reference buildcombos limiters (only build for element sets listed)\n",
    "ref_elements                Ag\n",
    "\n",
    "# Build load information from relax_static results\n",
    "buildcombos                 atomicarchive load_file relax_static\n",
    "\n",
    "# Specify archive parent buildcombos terms (parent record's style and the load_key to access)\n",
    "relax_static_record         calculation_relax_static\n",
    "relax_static_load_key       final-system\n",
    "\n",
    "# Build load information from relax_box results\n",
    "buildcombos                 atomicarchive load_file relax_box\n",
    "\n",
    "# Specify archive parent buildcombos terms (parent record's style and the load_key to access)\n",
    "relax_box_record            calculation_relax_box\n",
    "relax_box_load_key          final-system\n",
    "\n",
    "# Units that input/output values are in\n",
    "length_unit                 \n",
    "pressure_unit               \n",
    "energy_unit                 \n",
    "force_unit                  \n",
    "\n",
    "# Run parameters\n",
    "symmetryprecision           \n",
    "primitivecell               \n",
    "idealcell                   \n",
    "\"\"\"\n",
    "with open('input_script.in', 'w') as f:\n",
    "    f.write(input_script)"
   ]
  },
  {
   "cell_type": "markdown",
   "metadata": {},
   "source": [
    "### Prepare calculations"
   ]
  },
  {
   "cell_type": "code",
   "execution_count": 22,
   "metadata": {},
   "outputs": [
    {
     "name": "stdout",
     "output_type": "stream",
     "text": [
      "In database style local at C:\\Users\\lmh1\\Documents\\calculations\\ipr\\demo :\n",
      "- 202 of style calculation_crystal_space_group\n",
      " - 122 are complete\n",
      " - 80 still to run\n",
      " - 0 issued errors\n"
     ]
    }
   ],
   "source": [
    "with open('input_script.in') as f:\n",
    "    input_dict = iprPy.input.parse(f, singularkeys=calculation.singularkeys)\n",
    "    \n",
    "database.prepare(run_directory, calculation, **input_dict)\n",
    "database.check_records(calculation.record_style)"
   ]
  },
  {
   "cell_type": "markdown",
   "metadata": {},
   "source": [
    "### Run calculations"
   ]
  },
  {
   "cell_type": "code",
   "execution_count": 23,
   "metadata": {},
   "outputs": [
    {
     "name": "stdout",
     "output_type": "stream",
     "text": [
      "Runner started with pid 10608\n",
      "No simulations left to run\n",
      "In database style local at C:\\Users\\lmh1\\Documents\\calculations\\ipr\\demo :\n",
      "- 202 of style calculation_crystal_space_group\n",
      " - 202 are complete\n",
      " - 0 still to run\n",
      " - 0 issued errors\n"
     ]
    }
   ],
   "source": [
    "database.runner(run_directory)\n",
    "database.check_records(calculation.record_style)"
   ]
  },
  {
   "cell_type": "code",
   "execution_count": 24,
   "metadata": {},
   "outputs": [],
   "source": [
    "results_df = database.get_records_df(style=calculation.record_style)\n",
    "for error in np.unique(results_df[results_df.status=='error'].error):\n",
    "    print(error)"
   ]
  },
  {
   "cell_type": "markdown",
   "metadata": {},
   "source": [
    "## 5. Calculation analysis"
   ]
  },
  {
   "cell_type": "code",
   "execution_count": 25,
   "metadata": {},
   "outputs": [],
   "source": [
    "crystal_match_file = 'reference_prototype_match.csv'"
   ]
  },
  {
   "cell_type": "markdown",
   "metadata": {},
   "source": [
    "### Load crystal_match_file"
   ]
  },
  {
   "cell_type": "code",
   "execution_count": 26,
   "metadata": {},
   "outputs": [],
   "source": [
    "ref_proto_match = pd.read_csv(crystal_match_file)"
   ]
  },
  {
   "cell_type": "markdown",
   "metadata": {},
   "source": [
    "### Retrieve finished calculation results"
   ]
  },
  {
   "cell_type": "code",
   "execution_count": 27,
   "metadata": {},
   "outputs": [],
   "source": [
    "spg_records = database.get_records_df(style='calculation_crystal_space_group', full=True, flat=False, status='finished')"
   ]
  },
  {
   "cell_type": "code",
   "execution_count": 28,
   "metadata": {},
   "outputs": [],
   "source": [
    "# Get key lists for relax_* calculations\n",
    "raw_df = database.get_records_df(style='calculation_relax_box', full=False, flat=True)\n",
    "try:\n",
    "    box_keys = raw_df.key.tolist()\n",
    "except:\n",
    "    box_keys = []\n",
    "\n",
    "raw_df = database.get_records_df(style='calculation_relax_static', full=False, flat=True)\n",
    "try:\n",
    "    static_keys = raw_df.key.tolist()\n",
    "except:\n",
    "    static_keys = []\n",
    "\n",
    "raw_df = database.get_records_df(style='calculation_relax_dynamic', full=False, flat=True)\n",
    "try:\n",
    "    dynamic_keys = raw_df.key.tolist()\n",
    "except:\n",
    "    dynamic_keys = []"
   ]
  },
  {
   "cell_type": "code",
   "execution_count": 29,
   "metadata": {},
   "outputs": [],
   "source": [
    "pot_records = database.get_records_df(style='potential_LAMMPS')"
   ]
  },
  {
   "cell_type": "markdown",
   "metadata": {},
   "source": [
    "### Identify compositions"
   ]
  },
  {
   "cell_type": "code",
   "execution_count": 30,
   "metadata": {},
   "outputs": [],
   "source": [
    "iprPy.analysis.assign_composition(spg_records, database)"
   ]
  },
  {
   "cell_type": "markdown",
   "metadata": {},
   "source": [
    "### Split all spg records into references, prototypes and calculation relaxes"
   ]
  },
  {
   "cell_type": "code",
   "execution_count": 31,
   "metadata": {},
   "outputs": [],
   "source": [
    "spg_records['record_type'] = 'calc'\n",
    "spg_records.loc[(spg_records.load_file == spg_records.family + '.poscar'), 'record_type'] = 'reference'\n",
    "spg_records.loc[(spg_records.load_file == spg_records.family + '.json'), 'record_type'] = 'prototype'\n",
    "\n",
    "prototype_records = spg_records[spg_records.record_type == 'prototype']\n",
    "reference_records = spg_records[spg_records.record_type == 'reference']\n",
    "family_records = spg_records[(spg_records.record_type == 'prototype') | (spg_records.record_type == 'reference')]\n",
    "\n",
    "calc_records = spg_records[spg_records.record_type == 'calc'].reset_index(drop=True)"
   ]
  },
  {
   "cell_type": "code",
   "execution_count": 32,
   "metadata": {},
   "outputs": [
    {
     "data": {
      "text/plain": [
       "Index(['error', 'family', 'idealcell', 'iprPy_version', 'key', 'load_file',\n",
       "       'load_options', 'load_style', 'pearson_symbol', 'primitivecell',\n",
       "       'script', 'spacegroup_Schoenflies', 'spacegroup_international',\n",
       "       'spacegroup_number', 'status', 'symbols', 'symmetryprecision', 'ucell',\n",
       "       'wykoff_fingerprint', 'composition', 'record_type'],\n",
       "      dtype='object')"
      ]
     },
     "execution_count": 32,
     "metadata": {},
     "output_type": "execute_result"
    }
   ],
   "source": [
    "calc_records.keys()"
   ]
  },
  {
   "cell_type": "markdown",
   "metadata": {},
   "source": [
    "### Analyze calculation results"
   ]
  },
  {
   "cell_type": "code",
   "execution_count": 33,
   "metadata": {},
   "outputs": [],
   "source": [
    "results = []\n",
    "for series in calc_records.itertuples():\n",
    "    results_dict = {}\n",
    "    \n",
    "    # Copy over values in series    \n",
    "    results_dict['calc_key'] = series.key\n",
    "    results_dict['composition'] = series.composition\n",
    "    results_dict['family'] = series.family\n",
    "    results_dict['a'] = series.ucell.box.a\n",
    "    results_dict['b'] = series.ucell.box.b\n",
    "    results_dict['c'] = series.ucell.box.c\n",
    "    results_dict['alpha'] = series.ucell.box.alpha\n",
    "    results_dict['beta'] = series.ucell.box.beta\n",
    "    results_dict['gamma'] = series.ucell.box.gamma\n",
    "    \n",
    "    # Identify prototype\n",
    "    try:\n",
    "        results_dict['prototype'] = ref_proto_match[ref_proto_match.reference==series.family].prototype.values[0]\n",
    "    except:\n",
    "        results_dict['prototype'] = series.family\n",
    "    else:\n",
    "        if pd.isnull(results_dict['prototype']):\n",
    "            results_dict['prototype'] = series.family\n",
    "    \n",
    "    # Check if structure has transformed relative to reference\n",
    "    family_series = family_records[family_records.family == series.family].iloc[0]\n",
    "    results_dict['transformed'] = (not (family_series.spacegroup_number == series.spacegroup_number\n",
    "                                   and family_series.pearson_symbol == series.pearson_symbol))\n",
    "    \n",
    "    # Extract info from parent calculations\n",
    "    for parent in database.get_parent_records(name=series.key):\n",
    "        parent_dict = parent.todict()\n",
    "\n",
    "        if parent_dict['key'] in box_keys:\n",
    "            results_dict['method'] = 'box'\n",
    "            results_dict['E_coh'] = parent_dict['E_cohesive']\n",
    "            results_dict['potential_LAMMPS_key'] = parent_dict['potential_LAMMPS_key']\n",
    "            continue\n",
    "\n",
    "        elif parent_dict['key'] in dynamic_keys:\n",
    "            results_dict['method'] = 'dynamic'\n",
    "            continue\n",
    "\n",
    "        elif parent_dict['key'] in static_keys:\n",
    "            results_dict['method'] = 'static'\n",
    "            results_dict['E_coh'] = parent_dict['E_cohesive']\n",
    "            results_dict['potential_LAMMPS_key'] = parent_dict['potential_LAMMPS_key']\n",
    "    \n",
    "    pot_record = pot_records[pot_records.key == results_dict['potential_LAMMPS_key']].iloc[0]\n",
    "    results_dict['potential_id'] = pot_record.pot_id\n",
    "    results_dict['potential_key'] = pot_record.pot_key\n",
    "    results_dict['potential_LAMMPS_id'] = pot_record.id\n",
    "    \n",
    "    results.append(results_dict)\n",
    "columns = ['calc_key', 'potential_LAMMPS_key', 'potential_LAMMPS_id', 'potential_key', 'potential_id',\n",
    "           'composition', 'prototype', 'family', 'method', 'transformed',\n",
    "           'E_coh', 'a', 'b', 'c', 'alpha', 'beta', 'gamma']\n",
    "results = pd.DataFrame(results, columns=columns)"
   ]
  },
  {
   "cell_type": "markdown",
   "metadata": {},
   "source": [
    "### Save raw crystal data per crystal"
   ]
  },
  {
   "cell_type": "code",
   "execution_count": 34,
   "metadata": {},
   "outputs": [],
   "source": [
    "# Settings\n",
    "outputpath = 'C:/Users/lmh1/Documents/website/calc_content'\n",
    "savecolumns = ['calc_key',\n",
    "               'prototype', 'family', 'method', 'transformed', \n",
    "               'E_coh', 'a', 'b', 'c', 'alpha', 'beta', 'gamma']"
   ]
  },
  {
   "cell_type": "code",
   "execution_count": 35,
   "metadata": {},
   "outputs": [],
   "source": [
    "for implememtation_key in np.unique(results.potential_LAMMPS_key):\n",
    "    imp_results = results[results.potential_LAMMPS_key == implememtation_key]\n",
    "    potential = imp_results.iloc[0].potential_id\n",
    "    implementation = imp_results.iloc[0].potential_LAMMPS_id\n",
    "    \n",
    "    contentpath = os.path.join(outputpath, potential, implementation)\n",
    "    if not os.path.isdir(contentpath):\n",
    "        os.makedirs(contentpath)\n",
    "    \n",
    "    for composition in np.unique(imp_results.composition):\n",
    "        comp_results = imp_results[imp_results.composition == composition].sort_values('E_coh')\n",
    "        fstem = 'crystal.' + composition\n",
    "        \n",
    "        comp_results[savecolumns].to_csv(os.path.join(contentpath, fstem + '.csv'), index=False)"
   ]
  },
  {
   "cell_type": "markdown",
   "metadata": {},
   "source": [
    "### Identify unique crystals"
   ]
  },
  {
   "cell_type": "code",
   "execution_count": 39,
   "metadata": {},
   "outputs": [],
   "source": [
    "unique = pd.DataFrame(columns=results.columns)\n",
    "for implememtation_key in np.unique(results.potential_LAMMPS_key):\n",
    "    imp_results = results[results.potential_LAMMPS_key == implememtation_key]\n",
    "    \n",
    "    for composition in np.unique(results.composition):\n",
    "        comp_unique = pd.DataFrame(columns=results.columns)\n",
    "        comp_results = imp_results[imp_results.composition == composition]\n",
    "        \n",
    "        for prototype in np.unique(comp_results.prototype):\n",
    "            proto_results = comp_results[comp_results.prototype == prototype]\n",
    "            for method in ['dynamic', 'static', 'box']:\n",
    "                for i, series in proto_results[(proto_results.method == method)\n",
    "                                              &(~proto_results.transformed)].iterrows():\n",
    "                    try:\n",
    "                        matches = comp_unique[(np.isclose(comp_unique.E_coh, series.E_coh))\n",
    "                                             &(np.isclose(comp_unique.a, series.a))\n",
    "                                             &(np.isclose(comp_unique.b, series.b))\n",
    "                                             &(np.isclose(comp_unique.c, series.c))\n",
    "                                             &(np.isclose(comp_unique.alpha, series.alpha))\n",
    "                                             &(np.isclose(comp_unique.beta, series.beta))\n",
    "                                             &(np.isclose(comp_unique.gamma, series.gamma))]\n",
    "                    except:\n",
    "                        matches = []\n",
    "                    if len(matches) == 0:\n",
    "                        comp_unique = comp_unique.append(series)\n",
    "        unique = unique.append(comp_unique)\n",
    "unique.to_csv('unique_crystals.csv', index=False)"
   ]
  },
  {
   "cell_type": "markdown",
   "metadata": {},
   "source": [
    "### Add info to PotentialProperties records\n",
    "\n",
    "This is for generating XML records that the Interatomic Potential Repository uses to automatically build webcontent (done elsewhere)."
   ]
  },
  {
   "cell_type": "code",
   "execution_count": 40,
   "metadata": {},
   "outputs": [],
   "source": [
    "for implememtation_key in np.unique(results.potential_LAMMPS_key):\n",
    "    imp_results = results[results.potential_LAMMPS_key == implememtation_key]\n",
    "    imp_unique = unique[unique.potential_LAMMPS_key == implememtation_key]\n",
    "    potential_key = imp_results.iloc[0].potential_key\n",
    "    potential_id = imp_results.iloc[0].potential_id\n",
    "    implementation_id = imp_results.iloc[0].potential_LAMMPS_id\n",
    "    \n",
    "    record_name = 'properties.' + implementation_id\n",
    "    try:\n",
    "        record = database.get_record(name=record_name, style='PotentialProperties')\n",
    "    except:\n",
    "        new = True\n",
    "        content = DM()\n",
    "        content['per-potential-properties'] = DM()\n",
    "        content['per-potential-properties']['potential'] = DM()\n",
    "        content['per-potential-properties']['potential']['key'] = potential_key\n",
    "        content['per-potential-properties']['potential']['id'] = potential_id\n",
    "        content['per-potential-properties']['implementation'] = DM()\n",
    "        content['per-potential-properties']['implementation']['key'] = implememtation_key\n",
    "        content['per-potential-properties']['implementation']['id'] = implementation_id\n",
    "    else:\n",
    "        content = DM(record.content)\n",
    "        new = False\n",
    "    \n",
    "    content['per-potential-properties']['crystal-structure'] = model = DM()\n",
    "    \n",
    "    # Build prototype-ref-set elements\n",
    "    for composition in np.unique(imp_results.composition):\n",
    "        comp_results = imp_results[imp_results.composition == composition]\n",
    "        for prototype in np.unique(comp_results.prototype):\n",
    "            proto_results = comp_results[comp_results.prototype == prototype]\n",
    "            refs = []\n",
    "            for family in np.unique(proto_results.family):\n",
    "                if family != prototype:\n",
    "                    refs.append(family)\n",
    "            if len(refs) > 0:\n",
    "                proto_ref_set = DM()\n",
    "                proto_ref_set['composition'] = composition \n",
    "                proto_ref_set['prototype'] = prototype\n",
    "                for ref in refs:\n",
    "                    proto_ref_set.append('ref', ref)\n",
    "                model.append('prototype-ref-set', proto_ref_set)    \n",
    "    \n",
    "    # Build crystal elements\n",
    "    for series in imp_unique.sort_values('E_coh').itertuples():\n",
    "        crystal = DM()\n",
    "        crystal['composition'] = series.composition\n",
    "        crystal['prototype'] = series.prototype\n",
    "        crystal['method'] = series.method\n",
    "        crystal['cohesive-energy'] = DM([('value', '%#.4f'%series.E_coh), ('unit', 'eV')])\n",
    "        crystal['a'] = DM([('value', '%#.4f'%series.a), ('unit', 'angstrom')])\n",
    "        crystal['b'] = DM([('value', '%#.4f'%series.b), ('unit', 'angstrom')])\n",
    "        crystal['c'] = DM([('value', '%#.4f'%series.c), ('unit', 'angstrom')])\n",
    "        crystal['alpha'] = DM([('value', '%#.1f'%series.alpha), ('unit', 'degree')])\n",
    "        crystal['beta'] = DM([('value', '%#.1f'%series.beta), ('unit', 'degree')])\n",
    "        crystal['gamma'] = DM([('value', '%#.1f'%series.gamma), ('unit', 'degree')])\n",
    "        model.append('crystal', crystal)\n",
    "        \n",
    "    if new:\n",
    "        database.add_record(name=record_name, style='PotentialProperties', content=content.xml())\n",
    "    else:\n",
    "        database.update_record(record=record, content=content.xml())"
   ]
  },
  {
   "cell_type": "code",
   "execution_count": null,
   "metadata": {},
   "outputs": [],
   "source": []
  }
 ],
 "metadata": {
  "kernelspec": {
   "display_name": "Python 3",
   "language": "python",
   "name": "python3"
  },
  "language_info": {
   "codemirror_mode": {
    "name": "ipython",
    "version": 3
   },
   "file_extension": ".py",
   "mimetype": "text/x-python",
   "name": "python",
   "nbconvert_exporter": "python",
   "pygments_lexer": "ipython3",
   "version": "3.6.4"
  }
 },
 "nbformat": 4,
 "nbformat_minor": 2
}
