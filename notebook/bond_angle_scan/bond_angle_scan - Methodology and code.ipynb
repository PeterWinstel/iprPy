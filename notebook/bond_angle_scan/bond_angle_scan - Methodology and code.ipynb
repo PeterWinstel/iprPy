{
 "cells": [
  {
   "cell_type": "markdown",
   "metadata": {},
   "source": [
    "# bond_angle_scan - Methodology and code"
   ]
  },
  {
   "cell_type": "markdown",
   "metadata": {},
   "source": [
    "__Python imports__\n",
    "\n",
    "- [numpy](http://www.numpy.org/)\n",
    "- [IPython](https://ipython.org)\n",
    "- [atomman](https://github.com/usnistgov/atomman)\n",
    "- [iprPy](https://github.com/usnistgov/iprPy)"
   ]
  },
  {
   "cell_type": "code",
   "execution_count": 1,
   "metadata": {},
   "outputs": [
    {
     "name": "stdout",
     "output_type": "stream",
     "text": [
      "Notebook last executed on 2024-05-02 using iprPy version 0.11.7\n"
     ]
    }
   ],
   "source": [
    "# Standard library imports\n",
    "from pathlib import Path\n",
    "import datetime\n",
    "from math import floor\n",
    "from typing import Optional\n",
    "\n",
    "# http://www.numpy.org/\n",
    "import numpy as np\n",
    "\n",
    "# https://ipython.org/\n",
    "from IPython.display import display, Markdown\n",
    "\n",
    "# https://github.com/usnistgov/atomman \n",
    "import atomman as am\n",
    "import atomman.lammps as lmp\n",
    "import atomman.unitconvert as uc\n",
    "from atomman.tools import filltemplate, aslist\n",
    "\n",
    "# https://github.com/usnistgov/iprPy\n",
    "import iprPy\n",
    "from iprPy.tools import read_calc_file\n",
    "\n",
    "print('Notebook last executed on', datetime.date.today(), 'using iprPy version', iprPy.__version__)"
   ]
  },
  {
   "cell_type": "markdown",
   "metadata": {},
   "source": [
    "## 1. Load calculation and view description\n",
    "\n",
    "### 1.1. Load the calculation"
   ]
  },
  {
   "cell_type": "code",
   "execution_count": 2,
   "metadata": {},
   "outputs": [],
   "source": [
    "# Load the calculation being demoed\n",
    "calculation = iprPy.load_calculation('bond_angle_scan')"
   ]
  },
  {
   "cell_type": "markdown",
   "metadata": {},
   "source": [
    "### 1.2. Display calculation description and theory"
   ]
  },
  {
   "cell_type": "code",
   "execution_count": 3,
   "metadata": {},
   "outputs": [
    {
     "data": {
      "text/markdown": [
       "# bond_angle_scan calculation style\n",
       "\n",
       "**Lucas M. Hale**, [lucas.hale@nist.gov](mailto:lucas.hale@nist.gov?Subject=ipr-demo), *Materials Science and Engineering Division, NIST*.\n",
       "\n",
       "## Introduction\n",
       "\n",
       "The bond_angle_scan calculation style evaluates the interaction energy between three atoms at varying distances and angles.  This provides a means of characterizing the three-body interactions of a given potential.  These interactions can provide insight into the bonding predictions for a potential as well as a means of fingerprinting the potentials.\n",
       "\n",
       "### Version notes\n",
       "\n",
       "- 2021-04-XX: Calculation added\n",
       "\n",
       "### Additional dependencies\n",
       "\n",
       "### Disclaimers\n",
       "\n",
       "- [NIST disclaimers](http://www.nist.gov/public_affairs/disclaimer.cfm)\n"
      ],
      "text/plain": [
       "<IPython.core.display.Markdown object>"
      ]
     },
     "metadata": {},
     "output_type": "display_data"
    },
    {
     "data": {
      "text/markdown": [
       "## Method and Theory\n",
       "\n",
       "Three atoms are placed in an otherwise empty system.  The relative positions of the atoms are determined by the following three coordinates\n",
       "\n",
       "- r_ij is the radial distance between atoms i and j,\n",
       "- r_ik is the radial distance between atoms i and k, and\n",
       "- theta_ijk is the angle formed between the i-j and i-k vectors.\n",
       "\n",
       "Based on these three bond coordinates, the full positions of the three atoms in the system are determined as follows\n",
       "\n",
       "- Atom i is positioned at the system's origin, [0, 0, 0]\n",
       "- Atom j is placed r_ij away from atom i along the x coordinate, [r_ij, 0.0, 0.0]\n",
       "- Atom k is placed in the xy plane based on r_ik and theta_ijk, [r_ik cos(theta_ijk), r_ik sin(theta_ijk), 0.0]\n",
       "\n",
       "Values of r_ij, r_ik and theta_ijk are iterated over. The potential energy of the three atoms is evaluated for each configuration corresponding to the different coordinate sets.\n"
      ],
      "text/plain": [
       "<IPython.core.display.Markdown object>"
      ]
     },
     "metadata": {},
     "output_type": "display_data"
    }
   ],
   "source": [
    "# Display main docs and theory\n",
    "display(Markdown(calculation.maindoc))\n",
    "display(Markdown(calculation.theorydoc))"
   ]
  },
  {
   "cell_type": "markdown",
   "metadata": {},
   "source": [
    "## 2. Define calculation functions and generate files\n",
    "\n",
    "This section defines the calculation functions and associated resource files exactly as they exist inside the iprPy package.  This allows for the code used to be directly visible and modifiable by anyone looking to see how it works."
   ]
  },
  {
   "cell_type": "markdown",
   "metadata": {},
   "source": [
    "### 2.1. bond_angle_scan()\n",
    "\n",
    "This is the primary function for the calculation.  The version of this function built in iprPy can be accessed by calling the calc() method of an object of the associated calculation class."
   ]
  },
  {
   "cell_type": "code",
   "execution_count": 4,
   "metadata": {},
   "outputs": [],
   "source": [
    "def bond_angle_scan(lammps_command: str,\n",
    "                    potential: am.lammps.Potential, \n",
    "                    symbols: list,\n",
    "                    mpi_command: Optional[str] = None,\n",
    "                    rmin: float = uc.set_in_units(0.5, 'angstrom'), \n",
    "                    rmax: float = uc.set_in_units(6.0, 'angstrom'), \n",
    "                    rnum: int = 100,\n",
    "                    thetamin: float = 1.0,\n",
    "                    thetamax: float = 180,\n",
    "                    thetanum: int = 100) -> dict:\n",
    "    \"\"\"\n",
    "    Performs a three-body bond angle energy scan over a range of interatomic\n",
    "    spaces, r, and angles, theta.\n",
    "    \n",
    "    Parameters\n",
    "    ----------\n",
    "    lammps_command :str\n",
    "        Command for running LAMMPS.\n",
    "    potential : atomman.lammps.Potential\n",
    "        The LAMMPS implemented potential to use.\n",
    "    symbols : list\n",
    "        The potential symbols associated with the three atoms in the cluster.\n",
    "    mpi_command : str, optional\n",
    "        The MPI command for running LAMMPS in parallel.  If not given, LAMMPS\n",
    "        will run serially.\n",
    "    rmin : float, optional\n",
    "        The minimum value for the r_ij and r_ik spacings. Default value is 0.5.\n",
    "    rmax : float, optional\n",
    "        The maximum value for the r_ij and r_ik spacings. Default value is 5.5.\n",
    "    rnum : int, optional\n",
    "        The number of r_ij and r_ik spacings to evaluate. Default value is 100.\n",
    "    thetamin : float, optional\n",
    "        The minimum value for the theta angle. Default value is 1.0.\n",
    "    thetamax : float, optional\n",
    "        The maximum value for the theta angle. Default value is 180.0.\n",
    "    thetanum : int, optional\n",
    "        The number of theta angles to evaluate. Default value is 100.\n",
    "        \n",
    "    Returns\n",
    "    -------\n",
    "    dict\n",
    "        Dictionary of results consisting of keys:\n",
    "        \n",
    "        - **'cluster'** (*atomman.cluster.BondAngleMap*) - Object that maps\n",
    "          measured energies to r, theta coordinates, and contains built-in\n",
    "          analysis tools.\n",
    "        - **results_file'** (*str*) - File name containing the raw energy\n",
    "          scan results.\n",
    "        - **'length_unit'** (*str*) - Unit of length used in the results_file.\n",
    "        - **'energy_unit'** (*str*) - Unit of energy used in the results_file.\n",
    "    \"\"\"\n",
    " \n",
    "    # Create cluster object\n",
    "    cluster = am.cluster.BondAngleMap(rmin=rmin, rmax=rmax, rnum=rnum,\n",
    "                                      thetamin=thetamin, thetamax=thetamax,\n",
    "                                      thetanum=thetanum, symbols=symbols)\n",
    "    \n",
    "    # Get lammps units\n",
    "    lammps_units = lmp.style.unit(potential.units)\n",
    "    \n",
    "    # Define lammps variables\n",
    "    lammps_variables = {}\n",
    "    \n",
    "    # Add range parameters\n",
    "    lammps_variables['rmin'] = uc.get_in_units(rmin, lammps_units['length'])\n",
    "    lammps_variables['rmax'] = uc.get_in_units(rmax, lammps_units['length'])\n",
    "    lammps_variables['rnum'] = uc.get_in_units(rnum, lammps_units['length'])\n",
    "    lammps_variables['thetamin'] = thetamin\n",
    "    lammps_variables['thetamax'] = thetamax\n",
    "    lammps_variables['thetanum'] = thetanum\n",
    "\n",
    "    # Add atomic types\n",
    "    if len(cluster.symbols) == 1:\n",
    "        natypes = 1\n",
    "        atype = np.array([1,1,1])\n",
    "        symbols = cluster.symbols\n",
    "    elif len(cluster.symbols) == 3:\n",
    "        symbols, atype = np.unique(cluster.symbols, return_inverse=True)\n",
    "        atype += 1\n",
    "        natypes = len(symbols) \n",
    "    lammps_variables['natypes'] = natypes\n",
    "    lammps_variables['atype1'] = atype[0]\n",
    "    lammps_variables['atype2'] = atype[1]\n",
    "    lammps_variables['atype3'] = atype[2]\n",
    "    \n",
    "    # Add potential information\n",
    "    lammps_variables['atomman_pair_info'] = potential.pair_info(symbols)\n",
    "    lammps_variables['atom_style'] = potential.atom_style\n",
    "    lammps_variables['units'] = potential.units\n",
    "\n",
    "    # Build lammps input script\n",
    "    lammps_script = 'bond_scan.in'\n",
    "    template = read_calc_file('iprPy.calculation.bond_angle_scan', 'bond_scan.template')\n",
    "    with open(lammps_script, 'w') as f:\n",
    "        f.write(filltemplate(template, lammps_variables, '<', '>'))\n",
    "    \n",
    "    # Run lammps and extract data\n",
    "    lmp.run(lammps_command, script_name=lammps_script, mpi_command=mpi_command, logfile=None, screen=False)\n",
    "    cluster.load_table('3_body_scan.txt', length_unit=lammps_units['length'],\n",
    "                       energy_unit=lammps_units['energy'])\n",
    "    \n",
    "    # Collect results\n",
    "    results_dict = {}\n",
    "    results_dict['cluster'] = cluster\n",
    "    results_dict['results_file'] = '3_body_scan.txt'\n",
    "    results_dict['length_unit'] = lammps_units['length']\n",
    "    results_dict['energy_unit'] = lammps_units['energy']\n",
    "    \n",
    "    return results_dict"
   ]
  },
  {
   "cell_type": "markdown",
   "metadata": {},
   "source": [
    "### 2.2. bond_scan.template file"
   ]
  },
  {
   "cell_type": "code",
   "execution_count": 5,
   "metadata": {},
   "outputs": [],
   "source": [
    "with open('bond_scan.template', 'w') as f:\n",
    "    f.write(\"\"\"# LAMMPS input script for exploring the three-body phase space\n",
    "\n",
    "# Specify loop ranges\n",
    "variable rmin equal <rmin>\n",
    "variable rmax equal <rmax>\n",
    "variable rnum equal <rnum>\n",
    "variable thetamin equal <thetamin>\n",
    "variable thetamax equal <thetamax>\n",
    "variable thetanum equal <thetanum>\n",
    "\n",
    "# Define dummy values for loop indices\n",
    "#variable i equal 1\n",
    "#variable j equal 1\n",
    "#variable k equal 1\n",
    "\n",
    "# Define variable atom coordinates\n",
    "variable rij equal ${rmin}+(v_i-1)*(${rmax}-${rmin})/(${rnum}-1)\n",
    "variable rik equal ${rmin}+(v_j-1)*(${rmax}-${rmin})/(${rnum}-1)\n",
    "variable theta equal ${thetamin}+(v_k-1)*(${thetamax}-${thetamin})/(${thetanum}-1)\n",
    "variable rtheta equal v_theta*PI/180.0\n",
    "variable j_x equal v_rij\n",
    "variable k_x equal v_rik*cos(v_rtheta)\n",
    "variable k_y equal v_rik*sin(v_rtheta)\n",
    "variable energy equal pe\n",
    "\n",
    "# Define box bounds based on rmax\n",
    "variable rlo equal -3*${rmax}\n",
    "variable rhi equal 3*${rmax}\n",
    "\n",
    "units <units>\n",
    "\n",
    "atom_style <atom_style>\n",
    "\n",
    "boundary f f f\n",
    "\n",
    "region rbox block ${rlo} ${rhi} ${rlo} ${rhi} -1.0 1.0\n",
    "\n",
    "create_box <natypes> rbox\n",
    "\n",
    "<atomman_pair_info>\n",
    "\n",
    "thermo_style custom step pe\n",
    "thermo_modify format float %.13e\n",
    "\n",
    "# Create atom 1\n",
    "create_atoms <atype1> single 0.0 0.0 0.0 units box\n",
    "\n",
    "# Start 3_body_scan.txt with header fields\n",
    "print \"${rmin} ${rmax} ${rnum}\" file 3_body_scan.txt screen no\n",
    "print \"${rmin} ${rmax} ${rnum}\" append 3_body_scan.txt screen no\n",
    "print \"${thetamin} ${thetamax} ${thetanum}\" append 3_body_scan.txt screen no\n",
    "\n",
    "# Loop i over r_ij values\n",
    "variable i loop ${rnum}\n",
    "    label loopi\n",
    "\n",
    "    # Create atom 2\n",
    "    create_atoms <atype2> single ${j_x} 0.0 0.0 units box\n",
    "    group id2 id 2\n",
    "\n",
    "    # Loop j over r_ik values\n",
    "    variable j loop ${rnum}\n",
    "        label loopj\n",
    "        \n",
    "        # Loop k over theta values\n",
    "        variable k loop ${thetanum}\n",
    "            label loopk\n",
    "\n",
    "            # Create atom 3\n",
    "            create_atoms <atype3> single ${k_x} ${k_y} 0.0 units box\n",
    "            group id3 id 3\n",
    "\n",
    "            # Compute energy and output it to 3_body_scan.txt\n",
    "            run 0\n",
    "            print \"${i} ${j} ${k} ${energy}\" append 3_body_scan.txt screen no\n",
    "            delete_atoms group id3\n",
    "\n",
    "            next k\n",
    "            jump bond_scan.in loopk\n",
    "            \n",
    "        next j\n",
    "        jump bond_scan.in loopj\n",
    "\n",
    "    delete_atoms group id2\n",
    "    next i\n",
    "    jump bond_scan.in loopi\"\"\")"
   ]
  },
  {
   "cell_type": "markdown",
   "metadata": {},
   "source": [
    "## 3. Specify input parameters"
   ]
  },
  {
   "cell_type": "markdown",
   "metadata": {},
   "source": [
    "### 3.1. System-specific paths\n",
    "\n",
    "- __lammps_command__ is the LAMMPS command to use (required).\n",
    "- __mpi_command__ MPI command for running LAMMPS in parallel. A value of None will run simulations serially."
   ]
  },
  {
   "cell_type": "code",
   "execution_count": 6,
   "metadata": {},
   "outputs": [
    {
     "name": "stdout",
     "output_type": "stream",
     "text": [
      "LAMMPS version = 23 Jun 2022\n"
     ]
    }
   ],
   "source": [
    "lammps_command = '/home/lmh1/LAMMPS/2022-06-23/src/lmp_serial'\n",
    "mpi_command = None\n",
    "\n",
    "# Optional: check that LAMMPS works and show its version \n",
    "print(f'LAMMPS version = {am.lammps.checkversion(lammps_command)[\"version\"]}')"
   ]
  },
  {
   "cell_type": "markdown",
   "metadata": {},
   "source": [
    "### 3.2. Interatomic potential\n",
    "\n",
    "- __potential_name__ gives the name of the potential_LAMMPS reference record in the iprPy library to use for the calculation.  \n",
    "- __potential__ is an atomman.lammps.Potential object (required)."
   ]
  },
  {
   "cell_type": "code",
   "execution_count": 7,
   "metadata": {},
   "outputs": [],
   "source": [
    "potential_name = '1999--Mishin-Y--Ni--LAMMPS--ipr1'\n",
    "\n",
    "# Retrieve potential and parameter file(s) using atomman\n",
    "potential = am.load_lammps_potential(id=potential_name, getfiles=True)"
   ]
  },
  {
   "cell_type": "markdown",
   "metadata": {},
   "source": [
    "#### 2.3. Calculation-specific parameters\n",
    "\n",
    "- __symbols__ is the element or set of three element model symbols to use for the cluster.\n",
    "- __rmin__ is the minimum r_ij and r_ik spacing to use.\n",
    "- __rmax__ is the maximum r_ij and r_ik spacing to use.\n",
    "- __rnum__ is the number of r_ij and r_ik spacing steps to evaluate.\n",
    "\n",
    "- __thetamin__ is the minimum theta angle to use.\n",
    "- __thetamax__ is the maximum theta angle to use.\n",
    "- __thetanum__ is the number of theta angle steps to evaluate."
   ]
  },
  {
   "cell_type": "code",
   "execution_count": 8,
   "metadata": {},
   "outputs": [],
   "source": [
    "symbols = 'Ni'\n",
    "\n",
    "rmin = uc.set_in_units(0.02, 'angstrom')\n",
    "rmax = uc.set_in_units(6.0, 'angstrom')\n",
    "rnum = 20\n",
    "\n",
    "thetamin = 1.0\n",
    "thetamax = 180.0\n",
    "thetanum = 20"
   ]
  },
  {
   "cell_type": "markdown",
   "metadata": {},
   "source": [
    "## 4. Run calculation and view results\n",
    "\n",
    "### 4.1. Run calculation\n",
    "\n",
    "All primary calculation method functions take a series of inputs and return a dictionary of outputs."
   ]
  },
  {
   "cell_type": "code",
   "execution_count": 9,
   "metadata": {},
   "outputs": [
    {
     "name": "stdout",
     "output_type": "stream",
     "text": [
      "dict_keys(['cluster', 'results_file', 'length_unit', 'energy_unit'])\n"
     ]
    }
   ],
   "source": [
    "results_dict = bond_angle_scan(lammps_command, potential, symbols, mpi_command = mpi_command,\n",
    "                                rmin = rmin, rmax = rmax, rnum = rnum,\n",
    "                                thetamin = thetamin, thetamax = thetamax, thetanum = thetanum)\n",
    "print(results_dict.keys())"
   ]
  },
  {
   "cell_type": "markdown",
   "metadata": {},
   "source": [
    "### 4.2. Report results\n",
    "\n",
    "Values returned in the results_dict:\n",
    "- **'cluster'** (*atomman.cluster.BondAngleMap*) - An object containing the evaluated energies and their coordinates.  Includes built-in methods for analyzing the results.\n",
    "- **'results_file'** (*str*) - The name of the file where the measured energies are saved.\n",
    "- **'length_unit'** (*str*) - The unit of length used in results_file.\n",
    "- **'energy_unit'** (*str*) - The unit of energy used in results_file."
   ]
  },
  {
   "cell_type": "code",
   "execution_count": 10,
   "metadata": {},
   "outputs": [
    {
     "name": "stdout",
     "output_type": "stream",
     "text": [
      "Results are saved in 3_body_scan.txt\n",
      "with lengths in angstrom\n",
      "and energies in eV\n"
     ]
    }
   ],
   "source": [
    "print('Results are saved in', results_dict['results_file'])\n",
    "print('with lengths in', results_dict['length_unit'])\n",
    "print('and energies in', results_dict['energy_unit'])"
   ]
  },
  {
   "cell_type": "code",
   "execution_count": 11,
   "metadata": {},
   "outputs": [
    {
     "data": {
      "text/html": [
       "<div>\n",
       "<style scoped>\n",
       "    .dataframe tbody tr th:only-of-type {\n",
       "        vertical-align: middle;\n",
       "    }\n",
       "\n",
       "    .dataframe tbody tr th {\n",
       "        vertical-align: top;\n",
       "    }\n",
       "\n",
       "    .dataframe thead th {\n",
       "        text-align: right;\n",
       "    }\n",
       "</style>\n",
       "<table border=\"1\" class=\"dataframe\">\n",
       "  <thead>\n",
       "    <tr style=\"text-align: right;\">\n",
       "      <th></th>\n",
       "      <th>r_ij</th>\n",
       "      <th>r_ik</th>\n",
       "      <th>r_jk</th>\n",
       "      <th>theta</th>\n",
       "      <th>energy</th>\n",
       "    </tr>\n",
       "  </thead>\n",
       "  <tbody>\n",
       "    <tr>\n",
       "      <th>0</th>\n",
       "      <td>0.02</td>\n",
       "      <td>0.02</td>\n",
       "      <td>0.000349</td>\n",
       "      <td>1.000000</td>\n",
       "      <td>9.662228e+02</td>\n",
       "    </tr>\n",
       "    <tr>\n",
       "      <th>1</th>\n",
       "      <td>0.02</td>\n",
       "      <td>0.02</td>\n",
       "      <td>0.003633</td>\n",
       "      <td>10.421053</td>\n",
       "      <td>9.644323e+02</td>\n",
       "    </tr>\n",
       "    <tr>\n",
       "      <th>2</th>\n",
       "      <td>0.02</td>\n",
       "      <td>0.02</td>\n",
       "      <td>0.006892</td>\n",
       "      <td>19.842105</td>\n",
       "      <td>9.626081e+02</td>\n",
       "    </tr>\n",
       "    <tr>\n",
       "      <th>3</th>\n",
       "      <td>0.02</td>\n",
       "      <td>0.02</td>\n",
       "      <td>0.010104</td>\n",
       "      <td>29.263158</td>\n",
       "      <td>9.608158e+02</td>\n",
       "    </tr>\n",
       "    <tr>\n",
       "      <th>4</th>\n",
       "      <td>0.02</td>\n",
       "      <td>0.02</td>\n",
       "      <td>0.013248</td>\n",
       "      <td>38.684211</td>\n",
       "      <td>9.590673e+02</td>\n",
       "    </tr>\n",
       "    <tr>\n",
       "      <th>...</th>\n",
       "      <td>...</td>\n",
       "      <td>...</td>\n",
       "      <td>...</td>\n",
       "      <td>...</td>\n",
       "      <td>...</td>\n",
       "    </tr>\n",
       "    <tr>\n",
       "      <th>7995</th>\n",
       "      <td>6.00</td>\n",
       "      <td>6.00</td>\n",
       "      <td>11.356946</td>\n",
       "      <td>142.315789</td>\n",
       "      <td>-9.291009e-11</td>\n",
       "    </tr>\n",
       "    <tr>\n",
       "      <th>7996</th>\n",
       "      <td>6.00</td>\n",
       "      <td>6.00</td>\n",
       "      <td>11.636851</td>\n",
       "      <td>151.736842</td>\n",
       "      <td>-9.291009e-11</td>\n",
       "    </tr>\n",
       "    <tr>\n",
       "      <th>7997</th>\n",
       "      <td>6.00</td>\n",
       "      <td>6.00</td>\n",
       "      <td>11.838145</td>\n",
       "      <td>161.157895</td>\n",
       "      <td>-9.291009e-11</td>\n",
       "    </tr>\n",
       "    <tr>\n",
       "      <th>7998</th>\n",
       "      <td>6.00</td>\n",
       "      <td>6.00</td>\n",
       "      <td>11.959468</td>\n",
       "      <td>170.578947</td>\n",
       "      <td>-9.291009e-11</td>\n",
       "    </tr>\n",
       "    <tr>\n",
       "      <th>7999</th>\n",
       "      <td>6.00</td>\n",
       "      <td>6.00</td>\n",
       "      <td>12.000000</td>\n",
       "      <td>180.000000</td>\n",
       "      <td>-9.291009e-11</td>\n",
       "    </tr>\n",
       "  </tbody>\n",
       "</table>\n",
       "<p>8000 rows × 5 columns</p>\n",
       "</div>"
      ],
      "text/plain": [
       "      r_ij  r_ik       r_jk       theta        energy\n",
       "0     0.02  0.02   0.000349    1.000000  9.662228e+02\n",
       "1     0.02  0.02   0.003633   10.421053  9.644323e+02\n",
       "2     0.02  0.02   0.006892   19.842105  9.626081e+02\n",
       "3     0.02  0.02   0.010104   29.263158  9.608158e+02\n",
       "4     0.02  0.02   0.013248   38.684211  9.590673e+02\n",
       "...    ...   ...        ...         ...           ...\n",
       "7995  6.00  6.00  11.356946  142.315789 -9.291009e-11\n",
       "7996  6.00  6.00  11.636851  151.736842 -9.291009e-11\n",
       "7997  6.00  6.00  11.838145  161.157895 -9.291009e-11\n",
       "7998  6.00  6.00  11.959468  170.578947 -9.291009e-11\n",
       "7999  6.00  6.00  12.000000  180.000000 -9.291009e-11\n",
       "\n",
       "[8000 rows x 5 columns]"
      ]
     },
     "execution_count": 11,
     "metadata": {},
     "output_type": "execute_result"
    }
   ],
   "source": [
    "cluster = results_dict['cluster']\n",
    "\n",
    "cluster.df"
   ]
  },
  {
   "cell_type": "code",
   "execution_count": 12,
   "metadata": {},
   "outputs": [
    {
     "data": {
      "image/png": "[encoded data removed]",
      "text/plain": [
       "<Figure size 640x480 with 1 Axes>"
      ]
     },
     "metadata": {},
     "output_type": "display_data"
    },
    {
     "data": {
      "image/png": "[encoded data removed]",
      "text/plain": [
       "<Figure size 640x480 with 1 Axes>"
      ]
     },
     "metadata": {},
     "output_type": "display_data"
    }
   ],
   "source": [
    "cluster.plot_pdf()\n",
    "cluster.plot_cumulative_pdf()\n",
    "None"
   ]
  },
  {
   "cell_type": "markdown",
   "metadata": {},
   "source": [
    "  "
   ]
  }
 ],
 "metadata": {
  "kernelspec": {
   "display_name": "Python 311",
   "language": "python",
   "name": "py11"
  },
  "language_info": {
   "codemirror_mode": {
    "name": "ipython",
    "version": 3
   },
   "file_extension": ".py",
   "mimetype": "text/x-python",
   "name": "python",
   "nbconvert_exporter": "python",
   "pygments_lexer": "ipython3",
   "version": "3.11.5"
  }
 },
 "nbformat": 4,
 "nbformat_minor": 4
}
