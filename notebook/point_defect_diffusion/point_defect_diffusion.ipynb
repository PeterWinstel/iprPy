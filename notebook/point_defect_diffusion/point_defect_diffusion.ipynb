{
 "cells": [
  {
   "cell_type": "markdown",
   "metadata": {},
   "source": [
    "# point_defect_diffusion - Methodology and code"
   ]
  },
  {
   "cell_type": "markdown",
   "metadata": {},
   "source": [
    "__Python imports__:\n",
    "\n",
    "- [numpy](http://www.numpy.org/)\n",
    "- [DataModelDict](https://github.com/usnistgov/DataModelDict)\n",
    "- [atomman](https://github.com/usnistgov/atomman)\n",
    "- [iprPy](https://github.com/usnistgov/iprPy)"
   ]
  },
  {
   "cell_type": "code",
   "execution_count": 1,
   "metadata": {},
   "outputs": [
    {
     "name": "stdout",
     "output_type": "stream",
     "text": [
      "Notebook last executed on 2024-05-02 using iprPy version 0.11.7\n"
     ]
    }
   ],
   "source": [
    "# Standard library imports\n",
    "from pathlib import Path\n",
    "import shutil\n",
    "import random\n",
    "import datetime\n",
    "from copy import deepcopy\n",
    "from typing import Optional, Union\n",
    "\n",
    "# http://www.numpy.org/\n",
    "import numpy as np \n",
    "\n",
    "# https://ipython.org/\n",
    "from IPython.display import display, Markdown\n",
    "\n",
    "# https://github.com/usnistgov/atomman \n",
    "import atomman as am\n",
    "import atomman.lammps as lmp\n",
    "import atomman.unitconvert as uc\n",
    "from atomman.tools import filltemplate\n",
    "\n",
    "# https://github.com/usnistgov/iprPy\n",
    "import iprPy\n",
    "from iprPy.tools import read_calc_file\n",
    "\n",
    "print('Notebook last executed on', datetime.date.today(), 'using iprPy version', iprPy.__version__)"
   ]
  },
  {
   "cell_type": "markdown",
   "metadata": {},
   "source": [
    "## 1. Load calculation and view description\n",
    "\n",
    "### 1.1. Load the calculation"
   ]
  },
  {
   "cell_type": "code",
   "execution_count": 2,
   "metadata": {},
   "outputs": [],
   "source": [
    "# Load the calculation being demoed\n",
    "calculation = iprPy.load_calculation('point_defect_diffusion')"
   ]
  },
  {
   "cell_type": "markdown",
   "metadata": {},
   "source": [
    "### 1.2. Display calculation description and theory"
   ]
  },
  {
   "cell_type": "code",
   "execution_count": 3,
   "metadata": {},
   "outputs": [
    {
     "data": {
      "text/markdown": [
       "# point_defect_diffusion calculation style\n",
       "\n",
       "**Lucas M. Hale**, [lucas.hale@nist.gov](mailto:lucas.hale@nist.gov?Subject=ipr-demo), *Materials Science and Engineering Division, NIST*.\n",
       "\n",
       "Description updated: 2019-07-26\n",
       "\n",
       "## Introduction\n",
       "\n",
       "The point_defect_diffusion calculation style estimates the diffusion rate of a point defect at a specified temperature.  A system is created with a single point defect, and subjected to a long time molecular dynamics simulation.  The mean square displacement for the defect is computed, and used to estimate the diffusion constant.\n",
       "\n",
       "### Version notes\n",
       "\n",
       "- 2022-03-11: Notebook updated to reflect version 0.11.\n",
       "\n",
       "### Additional dependencies\n",
       "\n",
       "### Disclaimers\n",
       "\n",
       "- [NIST disclaimers](http://www.nist.gov/public_affairs/disclaimer.cfm)\n",
       "- The calculation estimates the defect's diffusion by computing the mean square displacement of all atoms in the system.  This is useful for estimating rates associated with vacancies and self-interstitials as the process is not confined to a single atom's motion.  However, this makes the calculation ill-suited to measuring diffusion of substitutional impurities as it does not individually track each atom's position throughout.\n"
      ],
      "text/plain": [
       "<IPython.core.display.Markdown object>"
      ]
     },
     "metadata": {},
     "output_type": "display_data"
    },
    {
     "data": {
      "text/markdown": [
       "## Method and Theory\n",
       "\n",
       "First, a defect system is constructed by adding a single point defect (or defect cluster) to an initially bulk system using the atomman.defect.point() function.\n",
       "\n",
       "A LAMMPS simulation is then performed on the defect system.  The simulation consists of two separate runs\n",
       "\n",
       "1. NVT equilibrium run: The system is allowed to equilibrate at the given temperature using nvt integration.\n",
       "\n",
       "2. NVE measurement run: The system is then evolved using nve integration, and the total mean square displacement of all atoms is measured as a function of time.\n",
       "\n",
       "Between the two runs, the atomic velocities are scaled such that the average temperature of the nve run is closer to the target temperature.\n",
       "\n",
       "The mean square displacement of the defect, $\\left< \\Delta r_{ptd}^2 \\right>$ is then estimated using the mean square displacement of the atoms $\\left< \\Delta r_{i}^2 \\right>$.  Under the assumption that all diffusion is associated with the single point defect, the defect's mean square displacement can be taken as the summed square displacement of the atoms\n",
       "\n",
       "$$ \\left< \\Delta r_{ptd}^2 \\right> \\approx \\sum_i^N \\Delta r_{i}^2 = N \\left< \\Delta r_{i}^2 \\right>, $$\n",
       "\n",
       "where $N$ is the number of atoms in the system.  The diffusion constant is then estimated by linearly fitting the change in mean square displacement with time\n",
       "\n",
       "$$ \\left< \\Delta r_{ptd}^2 \\right> = 2 d D_{ptd} \\Delta t, $$\n",
       "\n",
       "where d is the number of dimensions included.\n"
      ],
      "text/plain": [
       "<IPython.core.display.Markdown object>"
      ]
     },
     "metadata": {},
     "output_type": "display_data"
    }
   ],
   "source": [
    "# Display main docs and theory\n",
    "display(Markdown(calculation.maindoc))\n",
    "display(Markdown(calculation.theorydoc))"
   ]
  },
  {
   "cell_type": "markdown",
   "metadata": {},
   "source": [
    "## 2. Define calculation functions and generate files\n",
    "\n",
    "This section defines the calculation functions and associated resource files exactly as they exist inside the iprPy package.  This allows for the code used to be directly visible and modifiable by anyone looking to see how it works."
   ]
  },
  {
   "cell_type": "markdown",
   "metadata": {},
   "source": [
    "### 2.1. pointdiffusion()\n",
    "\n",
    "This is the primary function for the calculation.  The version of this function built in iprPy can be accessed by calling the calc() method of an object of the associated calculation class."
   ]
  },
  {
   "cell_type": "code",
   "execution_count": 4,
   "metadata": {},
   "outputs": [],
   "source": [
    "def pointdiffusion(lammps_command: str,\n",
    "                   system: am.System,\n",
    "                   potential: lmp.Potential,\n",
    "                   point_kwargs: Union[list, dict],\n",
    "                   mpi_command: Optional[str] = None,\n",
    "                   temperature: float = 300.0,\n",
    "                   runsteps: int = 200000,\n",
    "                   thermosteps: Optional[int] = None,\n",
    "                   dumpsteps: int = 0,\n",
    "                   equilsteps: int = 20000,\n",
    "                   randomseed: Optional[int] = None) -> dict:\n",
    "                   \n",
    "    \"\"\"\n",
    "    Evaluates the diffusion rate of a point defect at a given temperature. This\n",
    "    method will run two simulations: an NVT run at the specified temperature to \n",
    "    equilibrate the system, then an NVE run to measure the defect's diffusion \n",
    "    rate. The diffusion rate is evaluated using the mean squared displacement of\n",
    "    all atoms in the system, and using the assumption that diffusion is only due\n",
    "    to the added defect(s).\n",
    "    \n",
    "    Parameters\n",
    "    ----------\n",
    "    lammps_command :str\n",
    "        Command for running LAMMPS.\n",
    "    system : atomman.System\n",
    "        The system to perform the calculation on.\n",
    "    potential : atomman.lammps.Potential\n",
    "        The LAMMPS implemented potential to use.\n",
    "    point_kwargs : dict or list of dict\n",
    "        One or more dictionaries containing the keyword arguments for\n",
    "        the atomman.defect.point() function to generate specific point\n",
    "        defect configuration(s).\n",
    "    mpi_command : str, optional\n",
    "        The MPI command for running LAMMPS in parallel.  If not given, LAMMPS\n",
    "        will run serially.\n",
    "    temperature : float, optional\n",
    "        The temperature to run at (default is 300.0).\n",
    "    runsteps : int, optional\n",
    "        The number of integration steps to perform (default is 200000).\n",
    "    thermosteps : int, optional\n",
    "        Thermo values will be reported every this many steps (default is\n",
    "        100).\n",
    "    dumpsteps : int or None, optional\n",
    "        Dump files will be saved every this many steps (default is 0,\n",
    "        which does not output dump files).\n",
    "    equilsteps : int, optional\n",
    "        The number of timesteps at the beginning of the simulation to\n",
    "        exclude when computing average values (default is 20000).\n",
    "    randomseed : int or None, optional\n",
    "        Random number seed used by LAMMPS in creating velocities and with\n",
    "        the Langevin thermostat.  (Default is None which will select a\n",
    "        random int between 1 and 900000000.)\n",
    "    \n",
    "    Returns\n",
    "    -------\n",
    "    dict\n",
    "        Dictionary of results consisting of keys:\n",
    "        \n",
    "        - **'natoms'** (*int*) - The number of atoms in the system.\n",
    "        - **'temp'** (*float*) - The mean measured temperature.\n",
    "        - **'pxx'** (*float*) - The mean measured normal xx pressure.\n",
    "        - **'pyy'** (*float*) - The mean measured normal yy pressure.\n",
    "        - **'pzz'** (*float*) - The mean measured normal zz pressure.\n",
    "        - **'Epot'** (*numpy.array*) - The mean measured total potential \n",
    "          energy.\n",
    "        - **'temp_std'** (*float*) - The standard deviation in the measured\n",
    "          temperature values.\n",
    "        - **'pxx_std'** (*float*) - The standard deviation in the measured\n",
    "          normal xx pressure values.\n",
    "        - **'pyy_std'** (*float*) - The standard deviation in the measured\n",
    "          normal yy pressure values.\n",
    "        - **'pzz_std'** (*float*) - The standard deviation in the measured\n",
    "          normal zz pressure values.\n",
    "        - **'Epot_std'** (*float*) - The standard deviation in the measured\n",
    "          total potential energy values.\n",
    "        - **'dx'** (*float*) - The computed diffusion constant along the \n",
    "          x-direction.\n",
    "        - **'dy'** (*float*) - The computed diffusion constant along the \n",
    "          y-direction.\n",
    "        - **'dz'** (*float*) - The computed diffusion constant along the \n",
    "          y-direction.\n",
    "        - **'d'** (*float*) - The total computed diffusion constant.\n",
    "    \"\"\"\n",
    "\n",
    "    # Add defect(s) to the initially perfect system\n",
    "    if not isinstance(point_kwargs, (list, tuple)):\n",
    "        point_kwargs = [point_kwargs]\n",
    "    for pkwargs in point_kwargs:\n",
    "        #print(pkwargs)\n",
    "        system = am.defect.point(system, **pkwargs)\n",
    "    \n",
    "    # Get lammps units\n",
    "    lammps_units = lmp.style.unit(potential.units)\n",
    "    \n",
    "    #Get lammps version date\n",
    "    lammps_date = lmp.checkversion(lammps_command)['date']\n",
    "    \n",
    "    # Check that temperature is greater than zero\n",
    "    if temperature <= 0.0:\n",
    "        raise ValueError('Temperature must be greater than zero')\n",
    "    \n",
    "    # Handle default values\n",
    "    if thermosteps is None: \n",
    "        thermosteps = runsteps // 1000\n",
    "        if thermosteps == 0:\n",
    "            thermosteps = 1\n",
    "    if dumpsteps is None:\n",
    "        dumpsteps = runsteps\n",
    "    if randomseed is None:\n",
    "        randomseed = random.randint(1, 900000000)\n",
    "    \n",
    "    # Define lammps variables\n",
    "    lammps_variables = {}\n",
    "    system_info = system.dump('atom_data', f='initial.dat',\n",
    "                              potential=potential)\n",
    "    lammps_variables['atomman_system_pair_info'] = system_info\n",
    "    lammps_variables['temperature'] = temperature\n",
    "    lammps_variables['runsteps'] = runsteps\n",
    "    lammps_variables['equilsteps'] = equilsteps\n",
    "    lammps_variables['thermosteps'] = thermosteps\n",
    "    lammps_variables['dumpsteps'] = dumpsteps\n",
    "    lammps_variables['randomseed'] = randomseed\n",
    "    lammps_variables['timestep'] = lmp.style.timestep(potential.units)\n",
    "    \n",
    "    # Set dump_info\n",
    "    if dumpsteps == 0:\n",
    "        lammps_variables['dump_info'] = ''\n",
    "    else:\n",
    "        lammps_variables['dump_info'] = '\\n'.join([\n",
    "            '',\n",
    "            '# Define dump files',\n",
    "            'dump dumpit all custom ${dumpsteps} *.dump id type x y z c_peatom',\n",
    "            'dump_modify dumpit format <dump_modify_format>',\n",
    "            '',\n",
    "        ])\n",
    "        \n",
    "        # Set dump_modify_format based on lammps_date\n",
    "        if lammps_date < datetime.date(2016, 8, 3):\n",
    "            lammps_variables['dump_modify_format'] = '\"%d %d %.13e %.13e %.13e %.13e\"'\n",
    "        else:\n",
    "            lammps_variables['dump_modify_format'] = 'float %.13e'\n",
    "    \n",
    "    # Write lammps input script\n",
    "    lammps_script = 'diffusion.in'\n",
    "    template = read_calc_file('iprPy.calculation.point_defect_diffusion',\n",
    "                              'diffusion.template')\n",
    "    with open(lammps_script, 'w') as f:\n",
    "        f.write(filltemplate(template, lammps_variables, '<', '>'))\n",
    "    \n",
    "    # Run lammps\n",
    "    output = lmp.run(lammps_command, script_name=lammps_script,\n",
    "                     mpi_command=mpi_command)\n",
    "    \n",
    "    # Extract LAMMPS thermo data.\n",
    "    thermo = output.simulations[1]['thermo']\n",
    "    temps = thermo.Temp.values\n",
    "    pxxs = uc.set_in_units(thermo.Pxx.values, lammps_units['pressure'])\n",
    "    pyys = uc.set_in_units(thermo.Pyy.values, lammps_units['pressure'])\n",
    "    pzzs = uc.set_in_units(thermo.Pzz.values, lammps_units['pressure'])\n",
    "    E_pots = uc.set_in_units(thermo.PotEng.values, lammps_units['energy'])\n",
    "    E_totals = uc.set_in_units(thermo.TotEng.values, lammps_units['energy'])\n",
    "    steps = thermo.Step.values\n",
    "    \n",
    "    # Read user-defined thermo data\n",
    "    if output.lammps_date < datetime.date(2016, 8, 1):\n",
    "        msd_x = uc.set_in_units(thermo['msd[1]'].values,\n",
    "                                lammps_units['length']+'^2')\n",
    "        msd_y = uc.set_in_units(thermo['msd[2]'].values,\n",
    "                                lammps_units['length']+'^2')\n",
    "        msd_z = uc.set_in_units(thermo['msd[3]'].values,\n",
    "                                lammps_units['length']+'^2')\n",
    "        msd = uc.set_in_units(thermo['msd[4]'].values,\n",
    "                              lammps_units['length']+'^2')\n",
    "    else:\n",
    "        msd_x = uc.set_in_units(thermo['c_msd[1]'].values,\n",
    "                                lammps_units['length']+'^2')\n",
    "        msd_y = uc.set_in_units(thermo['c_msd[2]'].values,\n",
    "                                lammps_units['length']+'^2')\n",
    "        msd_z = uc.set_in_units(thermo['c_msd[3]'].values,\n",
    "                                lammps_units['length']+'^2')\n",
    "        msd = uc.set_in_units(thermo['c_msd[4]'].values,\n",
    "                              lammps_units['length']+'^2')\n",
    "        \n",
    "    # Initialize results dict\n",
    "    results = {}\n",
    "    results['natoms'] = system.natoms\n",
    "    results['nsamples'] = len(thermo)\n",
    "    \n",
    "    # Get mean and std for temperature, pressure, and energy\n",
    "    results['temp'] = np.mean(temps)\n",
    "    results['temp_std'] = np.std(temps)\n",
    "    results['pxx'] = np.mean(pxxs)\n",
    "    results['pxx_std'] = np.std(pxxs)\n",
    "    results['pyy'] = np.mean(pyys)\n",
    "    results['pyy_std'] = np.std(pyys)\n",
    "    results['pzz'] = np.mean(pzzs)\n",
    "    results['pzz_std'] = np.std(pzzs)\n",
    "    results['E_pot'] = np.mean(E_pots)\n",
    "    results['E_pot_std'] = np.std(E_pots)\n",
    "    results['E_total'] = np.mean(E_totals)\n",
    "    results['E_total_std'] = np.std(E_totals)\n",
    "    \n",
    "    # Convert steps to times\n",
    "    times = steps * uc.set_in_units(lammps_variables['timestep'], lammps_units['time'])\n",
    "    \n",
    "    # Estimate diffusion rates\n",
    "    # MSD_ptd = natoms * MSD_atoms (if one defect in system)\n",
    "    # MSD = 2 * ndim * D * t  -->  D = MSD/t / (2 * ndim)\n",
    "    mx = np.polyfit(times, system.natoms * msd_x, 1)[0]\n",
    "    my = np.polyfit(times, system.natoms * msd_y, 1)[0]\n",
    "    mz = np.polyfit(times, system.natoms * msd_z, 1)[0]\n",
    "    m = np.polyfit(times, system.natoms * msd, 1)[0]\n",
    "\n",
    "    results['msd_x_values'] = msd_x\n",
    "    results['msd_y_values'] = msd_y\n",
    "    results['msd_z_values'] = msd_z\n",
    "    results['msd_values'] = msd\n",
    "    results['dx'] = mx / 2\n",
    "    results['dy'] = my / 2\n",
    "    results['dz'] = mz / 2\n",
    "    results['d'] = m / 6\n",
    "    \n",
    "    return results"
   ]
  },
  {
   "cell_type": "markdown",
   "metadata": {},
   "source": [
    "### 2.2. diffusion.template file"
   ]
  },
  {
   "cell_type": "code",
   "execution_count": 5,
   "metadata": {},
   "outputs": [],
   "source": [
    "with open('diffusion.template', 'w') as f:\n",
    "    f.write(\"\"\"# LAMMPS input script for dynamic msd computation\n",
    "\n",
    "box tilt large\n",
    "\n",
    "<atomman_system_pair_info>\n",
    "\n",
    "# Assign simulation parameter values\n",
    "variable temperature equal <temperature>\n",
    "variable randomseed equal <randomseed>\n",
    "variable thermosteps equal <thermosteps>\n",
    "variable timestep equal <timestep>\n",
    "variable equilsteps equal <equilsteps>\n",
    "variable dumpsteps equal <dumpsteps>\n",
    "variable runsteps equal <runsteps>\n",
    "variable twotemp equal 2*${temperature}\n",
    "variable damptemp equal 100*${timestep}\n",
    "\n",
    "# Specify property computes\n",
    "compute peatom all pe/atom\n",
    "compute msd all msd com yes\n",
    "\n",
    "# Define thermo data\n",
    "thermo ${thermosteps}\n",
    "thermo_style custom step temp pe ke etotal pxx pyy pzz c_msd[1] c_msd[2] c_msd[3] c_msd[4]\n",
    "thermo_modify format float %.13e\n",
    "\n",
    "# Specify timestep\n",
    "timestep ${timestep}\n",
    "\n",
    "# Create velocities and equilibrate system using nvt\n",
    "velocity all create ${twotemp} ${randomseed}\n",
    "fix 1 all nvt temp ${temperature} ${temperature} ${damptemp}\n",
    "run ${equilsteps}\n",
    "unfix 1\n",
    "<dump_info>\n",
    "\n",
    "# Scale velocities to wanted temperature and run nve\n",
    "velocity all scale ${temperature}\n",
    "reset_timestep 0\n",
    "fix 2 all nve\n",
    "run ${runsteps}\"\"\")"
   ]
  },
  {
   "cell_type": "markdown",
   "metadata": {},
   "source": [
    "## 3. Specify input parameters"
   ]
  },
  {
   "cell_type": "markdown",
   "metadata": {},
   "source": [
    "### 3.1. System-specific paths\n",
    "\n",
    "- __lammps_command__ is the LAMMPS command to use (required).\n",
    "- __mpi_command__ MPI command for running LAMMPS in parallel. A value of None will run simulations serially."
   ]
  },
  {
   "cell_type": "code",
   "execution_count": 6,
   "metadata": {},
   "outputs": [
    {
     "name": "stdout",
     "output_type": "stream",
     "text": [
      "LAMMPS version = 23 Jun 2022\n"
     ]
    }
   ],
   "source": [
    "lammps_command = '/home/lmh1/LAMMPS/2022-06-23/src/lmp_mpi'\n",
    "mpi_command = 'mpiexec -n 8'\n",
    "\n",
    "# Optional: check that LAMMPS works and show its version \n",
    "print(f'LAMMPS version = {am.lammps.checkversion(lammps_command)[\"version\"]}')"
   ]
  },
  {
   "cell_type": "markdown",
   "metadata": {},
   "source": [
    "### 3.2. Interatomic potential\n",
    "\n",
    "- __potential_name__ gives the name of the potential_LAMMPS reference record in the iprPy library to use for the calculation.  \n",
    "- __potential__ is an atomman.lammps.Potential object (required)."
   ]
  },
  {
   "cell_type": "code",
   "execution_count": 7,
   "metadata": {},
   "outputs": [],
   "source": [
    "potential_name = '1999--Mishin-Y--Ni--LAMMPS--ipr1'\n",
    "\n",
    "# Retrieve potential and parameter file(s) using atomman\n",
    "potential = am.load_lammps_potential(id=potential_name, getfiles=True)"
   ]
  },
  {
   "cell_type": "markdown",
   "metadata": {},
   "source": [
    "### 3.3. Initial unit cell system\n",
    "\n",
    "- __ucell__ is an atomman.System representing a fundamental unit cell of the system (required).  Here, this is generated using the load parameters and symbols."
   ]
  },
  {
   "cell_type": "code",
   "execution_count": 8,
   "metadata": {},
   "outputs": [
    {
     "name": "stdout",
     "output_type": "stream",
     "text": [
      "Multiple matching record retrieved from local\n",
      "#  family               symbols  alat    Ecoh    method  standing\n",
      " 1 A1--Cu--fcc          Ni        3.5200 -4.4500 dynamic good\n",
      " 2 A1--Cu--fcc          Ni        7.3760  0.0119 dynamic good\n"
     ]
    },
    {
     "name": "stdin",
     "output_type": "stream",
     "text": [
      "Please select one: 1\n"
     ]
    },
    {
     "name": "stdout",
     "output_type": "stream",
     "text": [
      "avect =  [ 3.520,  0.000,  0.000]\n",
      "bvect =  [ 0.000,  3.520,  0.000]\n",
      "cvect =  [ 0.000,  0.000,  3.520]\n",
      "origin = [ 0.000,  0.000,  0.000]\n",
      "natoms = 4\n",
      "natypes = 1\n",
      "symbols = ('Ni',)\n",
      "pbc = [ True  True  True]\n",
      "per-atom properties = ['atype', 'pos']\n",
      "     id |   atype |  pos[0] |  pos[1] |  pos[2]\n",
      "      0 |       1 |   0.000 |   0.000 |   0.000\n",
      "      1 |       1 |   0.000 |   1.760 |   1.760\n",
      "      2 |       1 |   1.760 |   0.000 |   1.760\n",
      "      3 |       1 |   1.760 |   1.760 |   0.000\n"
     ]
    }
   ],
   "source": [
    "# Create ucell by loading prototype record\n",
    "ucell = am.load('crystal', potential=potential, family='A1--Cu--fcc')\n",
    "\n",
    "print(ucell)"
   ]
  },
  {
   "cell_type": "markdown",
   "metadata": {},
   "source": [
    "### 3.4 Defect parameters\n",
    "\n",
    "- __point_kwargs__ (required) is a dictionary or list of dictonaries containing parameters for generating the defect. Here, values are extracted from pointdefect_file. Allowed keywords are:\n",
    "\n",
    "    - __ptd_type__ indicates which defect type to generate: 'v' for vacancy, 'i' for interstitial, 's' for substitutional, or 'db' for dumbbell.\n",
    "    \n",
    "    - __atype__ is the atom type to assign to the defect atom ('i', 's', 'db' ptd_types).\n",
    "    \n",
    "    - __pos__ specifies the position for adding the defect atom (all ptd_types).\n",
    "    \n",
    "    - __ptd_id__ specifies the id of an atom in the initial system where the defect is to be added. Alternative to using pos ('v', 's', 'db' ptd_types).\n",
    "    \n",
    "    - __db_vect__ gives the vector associated with the dumbbell interstitial to generate ('db' ptd_type).\n",
    "    \n",
    "    - __scale__ indicates if pos and db_vect are in absolute (False) or box-relative (True) coordinates. Default is False.\n",
    "    \n",
    "    - __atol__ is the absolute tolerance for position-based searching. Default is 1e-3 angstroms."
   ]
  },
  {
   "cell_type": "code",
   "execution_count": 9,
   "metadata": {},
   "outputs": [],
   "source": [
    "# Add a vacancy by deleting the atom at [0,0,0] - works for any crystal structure\n",
    "point_kwargs = [{\n",
    "    'ptd_type': 'v',\n",
    "    'pos': np.array([0.0, 0.0, 0.0]),\n",
    "    'scale': True,\n",
    "}]"
   ]
  },
  {
   "cell_type": "markdown",
   "metadata": {},
   "source": [
    "### 3.5. System modifications\n",
    "\n",
    "- __sizemults__ list of three integers specifying how many times the ucell vectors of $a$, $b$ and $c$ are replicated in creating system.\n",
    "\n",
    "- __system__ is an atomman.System to perform the scan on (required). "
   ]
  },
  {
   "cell_type": "code",
   "execution_count": 10,
   "metadata": {},
   "outputs": [
    {
     "name": "stdout",
     "output_type": "stream",
     "text": [
      "# of atoms in system = 4000\n"
     ]
    }
   ],
   "source": [
    "sizemults = [10, 10, 10]\n",
    "\n",
    "# Generate system by supersizing ucell\n",
    "system = ucell.supersize(*sizemults)\n",
    "print('# of atoms in system =', system.natoms)"
   ]
  },
  {
   "cell_type": "markdown",
   "metadata": {},
   "source": [
    "### 3.6 Calculation-specific parameters\n",
    "\n",
    "- __temperature__ temperature in Kelvin at which to run the MD integration scheme at.  Default value is '0'.\n",
    "\n",
    "- __runsteps__ specifies how many timesteps to integrate the system.  Default value is 200000.\n",
    "\n",
    "- __thermosteps__ specifies how often LAMMPS prints the system-wide thermo data.  Default value is runsteps/1000, or 1 if runsteps is less than 1000.\n",
    "    \n",
    "- __dumpsteps__ specifies how often LAMMPS saves the atomic configuration to a LAMMPS dump file.  Default value is runsteps, meaning only the first and last states are saved.\n",
    "    \n",
    "- __equilsteps__ specifies how many timesteps are ignored as equilibration time when computing the mean box parameters.  Default value is 10000.\n",
    "\n",
    "- __randomseed__ provides a random number seed to generating the initial atomic velocities.  Default value gives a random number as the seed."
   ]
  },
  {
   "cell_type": "code",
   "execution_count": 11,
   "metadata": {},
   "outputs": [],
   "source": [
    "temperature = 1900\n",
    "runsteps = 200000\n",
    "thermosteps = 100\n",
    "dumpsteps = runsteps\n",
    "equilsteps = 20000\n",
    "randomseed = None"
   ]
  },
  {
   "cell_type": "markdown",
   "metadata": {},
   "source": [
    "## 4. Run calculation and view results\n",
    "\n",
    "### 4.1. Run calculation\n",
    "\n",
    "All primary calculation method functions take a series of inputs and return a dictionary of outputs."
   ]
  },
  {
   "cell_type": "code",
   "execution_count": 12,
   "metadata": {},
   "outputs": [
    {
     "data": {
      "text/plain": [
       "dict_keys(['natoms', 'nsamples', 'temp', 'temp_std', 'pxx', 'pxx_std', 'pyy', 'pyy_std', 'pzz', 'pzz_std', 'E_pot', 'E_pot_std', 'E_total', 'E_total_std', 'msd_x_values', 'msd_y_values', 'msd_z_values', 'msd_values', 'dx', 'dy', 'dz', 'd'])"
      ]
     },
     "execution_count": 12,
     "metadata": {},
     "output_type": "execute_result"
    }
   ],
   "source": [
    "results_dict = pointdiffusion(lammps_command, system, potential, point_kwargs,\n",
    "                              mpi_command = mpi_command,\n",
    "                              temperature = temperature,\n",
    "                              runsteps = runsteps,\n",
    "                              thermosteps = thermosteps,\n",
    "                              dumpsteps = dumpsteps,\n",
    "                              equilsteps = equilsteps,\n",
    "                              randomseed = randomseed)\n",
    "results_dict.keys()"
   ]
  },
  {
   "cell_type": "markdown",
   "metadata": {},
   "source": [
    "### 4.2. Report results\n",
    "\n",
    "Values returned in the results_dict:\n",
    "\n",
    "- **'natoms'** (*int*) - The number of atoms in the system.\n",
    "- **'temp'** (*float*) - The mean measured temperature.\n",
    "- **'pxx'** (*float*) - The mean measured normal xx pressure.\n",
    "- **'pyy'** (*float*) - The mean measured normal yy pressure.\n",
    "- **'pzz'** (*float*) - The mean measured normal zz pressure.\n",
    "- **'Epot'** (*numpy.array*) - The mean measured total potential energy.\n",
    "- **'temp_std'** (*float*) - The standard deviation in the measured temperature values.\n",
    "- **'pxx_std'** (*float*) - The standard deviation in the measured normal xx pressure values.\n",
    "- **'pyy_std'** (*float*) - The standard deviation in the measured normal yy pressure values.\n",
    "- **'pzz_std'** (*float*) - The standard deviation in the measured normal zz pressure values.\n",
    "- **'Epot_std'** (*float*) - The standard deviation in the measured total potential energy values.\n",
    "- **'dx'** (*float*) - The computed diffusion constant along the x-direction.\n",
    "- **'dy'** (*float*) - The computed diffusion constant along the y-direction.\n",
    "- **'dz'** (*float*) - The computed diffusion constant along the y-direction.\n",
    "- **'d'** (*float*) - The total computed diffusion constant."
   ]
  },
  {
   "cell_type": "markdown",
   "metadata": {},
   "source": [
    "__length2_pertime_unit__ is the units to display the computed diffusion constants in."
   ]
  },
  {
   "cell_type": "code",
   "execution_count": 13,
   "metadata": {},
   "outputs": [],
   "source": [
    "length2_pertime_unit = 'm^2/s'"
   ]
  },
  {
   "cell_type": "code",
   "execution_count": 14,
   "metadata": {},
   "outputs": [
    {
     "name": "stdout",
     "output_type": "stream",
     "text": [
      "Dx = -2.7193712398064232e-11 m^2/s\n",
      "Dy = 4.744574795093042e-11 m^2/s\n",
      "Dz = -2.725219690344457e-11 m^2/s\n",
      "D =  -2.333387116857553e-12 m^2/s\n"
     ]
    }
   ],
   "source": [
    "print('Dx =', uc.get_in_units(results_dict['dx'], length2_pertime_unit), length2_pertime_unit)\n",
    "print('Dy =', uc.get_in_units(results_dict['dy'], length2_pertime_unit), length2_pertime_unit)\n",
    "print('Dz =', uc.get_in_units(results_dict['dz'], length2_pertime_unit), length2_pertime_unit)\n",
    "print('D = ', uc.get_in_units(results_dict['d'], length2_pertime_unit), length2_pertime_unit)"
   ]
  }
 ],
 "metadata": {
  "kernelspec": {
   "display_name": "Python 311",
   "language": "python",
   "name": "py11"
  },
  "language_info": {
   "codemirror_mode": {
    "name": "ipython",
    "version": 3
   },
   "file_extension": ".py",
   "mimetype": "text/x-python",
   "name": "python",
   "nbconvert_exporter": "python",
   "pygments_lexer": "ipython3",
   "version": "3.11.5"
  }
 },
 "nbformat": 4,
 "nbformat_minor": 4
}
