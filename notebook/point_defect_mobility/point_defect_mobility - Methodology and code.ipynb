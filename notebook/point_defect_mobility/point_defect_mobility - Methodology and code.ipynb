{
 "cells": [
  {
   "cell_type": "markdown",
   "metadata": {},
   "source": [
    "# point_defect_mobility - Methodology and code"
   ]
  },
  {
   "cell_type": "markdown",
   "metadata": {},
   "source": [
    "__Python imports__\n",
    "\n",
    "- [numpy](http://www.numpy.org/)\n",
    "- [IPython](https://ipython.org)\n",
    "- [atomman](https://github.com/usnistgov/atomman)\n",
    "- [iprPy](https://github.com/usnistgov/iprPy)"
   ]
  },
  {
   "cell_type": "code",
   "execution_count": 1,
   "metadata": {},
   "outputs": [
    {
     "name": "stdout",
     "output_type": "stream",
     "text": [
      "Notebook last executed on 2024-04-25 using iprPy version 0.11.6\n"
     ]
    }
   ],
   "source": [
    "# Standard library imports\n",
    "from pathlib import Path\n",
    "import shutil\n",
    "import datetime\n",
    "from copy import deepcopy\n",
    "from math import floor\n",
    "from typing import Optional, Union, Tuple\n",
    "\n",
    "# http://www.numpy.org/\n",
    "import numpy as np\n",
    "import numpy.typing as npt\n",
    "\n",
    "# https://ipython.org/\n",
    "from IPython.display import display, Markdown\n",
    "\n",
    "import matplotlib.pyplot as plt\n",
    "\n",
    "# https://github.com/usnistgov/atomman \n",
    "import atomman as am\n",
    "import atomman.lammps as lmp\n",
    "import atomman.unitconvert as uc\n",
    "from atomman.tools import filltemplate\n",
    "\n",
    "# https://github.com/usnistgov/iprPy\n",
    "import iprPy\n",
    "from iprPy.tools import read_calc_file\n",
    "\n",
    "print('Notebook last executed on', datetime.date.today(), 'using iprPy version', iprPy.__version__)"
   ]
  },
  {
   "cell_type": "markdown",
   "metadata": {},
   "source": [
    "## 1. Load calculation and view description\n",
    "\n",
    "### 1.1. Load the calculation"
   ]
  },
  {
   "cell_type": "code",
   "execution_count": 2,
   "metadata": {},
   "outputs": [],
   "source": [
    "# Load the calculation being demoed\n",
    "calculation = iprPy.load_calculation('point_defect_mobility')"
   ]
  },
  {
   "cell_type": "markdown",
   "metadata": {},
   "source": [
    "### 1.2. Display calculation description and theory"
   ]
  },
  {
   "cell_type": "code",
   "execution_count": 3,
   "metadata": {},
   "outputs": [
    {
     "data": {
      "text/markdown": [
       "# point_defect_mobility calculation style\n",
       "\n",
       "**Lucas M. Hale**, [lucas.hale@nist.gov](mailto:lucas.hale@nist.gov?Subject=ipr-demo), *Materials Science and Engineering Division, NIST*.\n",
       "\n",
       "**Jacob Hechter** \n",
       "\n",
       "## Introduction\n",
       "\n",
       "The point_defect_mobility calculation style uses a nudged elastic band (NEB) calculation to evaluate the energy barrier and path associated with point defects moving from one low energy configuration to another.\n",
       "\n",
       "### Version notes\n",
       "\n",
       "- 2019-8-09: Calculation created by Jacob Hechter.\n",
       "- 2024-4-24: Calculation updated to current iprPy, and code and methodology cleaned up.\n",
       "\n",
       "### Additional dependencies\n",
       "\n",
       "### Disclaimers\n",
       "\n",
       "- [NIST disclaimers](http://www.nist.gov/public_affairs/disclaimer.cfm)\n",
       "- NEB works best when exploring a single barrier path between two (meta)stable configurations.  If the end states are not local energy minima then they may transform into a different configuration so you should always check the initial and final configurations after relaxation.  If you see multiple energy peaks then the path involves more than one step that should be divided into separate NEB calculations to independently capture each barrier.\n",
       "- The NEB calculation evaluates the energies as a function of reaction coordinates along the computed path.  The reaction coordinates come from the NEB algorithm and may not directly correspond to any actual physical coordinates.  For physical coordinates, it is better to use the measured position(s) of the NEB atom(s) instead.\n",
       "- Intermediate replicas are held in place by applying a force on the NEB atoms based on a spring-like function.  NEB calculations can be sensitive to the associated spring constant, with optimum values often dependent on the specific calculation.  The weaker the spring constant, the more the replicas will preferentially relax towards the low energy end configurations.  The stronger the spring constant, the larger the \"tension\" will be between replicas that can cause the NEB path to deviate from the true minimum energy path.  \n",
       "\n",
       "\n"
      ],
      "text/plain": [
       "<IPython.core.display.Markdown object>"
      ]
     },
     "metadata": {},
     "output_type": "display_data"
    },
    {
     "data": {
      "text/markdown": [
       "## Method and Theory\n",
       "\n",
       "This calculation is designed to set up, run, and analyze a LAMMPS NEB calculation in which a single atom or a small number of atoms migrates from one low energy configuration to another. The primary use of such a calculation is to evaluate the path and energy barrier associated with a single migration jump of a point defect.\n",
       "\n",
       "This calculation relies on the NEB method implemented in LAMMPS, as described here https://docs.lammps.org/neb.html.  In short, multiple replicas of the system are constructed to explore the transformation path from one low energy configuration to another low energy configuration.  The atoms in the system are divided into \"non-NEB\" atoms and \"NEB\" atoms; the non-NEB atoms will relax normally based on interatomic forces, while the NEB atoms have an additional spring-like force applied to them that keeps their positions intermediate between neighboring replicas.  This allows for the replicas to explore the transformation path between the two end states.\n",
       "\n",
       "The NEB calculation involves two stages: a relaxation stage in which the replicas are allowed to simultaneously relax towards a minimum energy path, and a climbing stage in which the algorithm searches for the maximum energy along the path, i.e. the energy barrier.\n",
       "\n",
       "### Defining the atomic configurations\n",
       "\n",
       "Setting up the calculation requires defining the initial and final configurations and specifying which atoms in the system are NEB atoms and non-NEB atoms.  This is handled by the following parameters of the underlying point_defect_mobility() function\n",
       "\n",
       "- __system__ is a full atomman.System that defines the non-NEB \"background\" atoms.\n",
       "- __point_kwargs__ are atomman.defect.point() operations that can optionally be performed on system to modify the non-NEB atoms.  This is included largely as a convenience so that system can be a bulk crystal configuration for most simple point defect mobility investigations.\n",
       "- __initialpos__ are the atomic positions of the NEB atoms in the initial reference state.  Atoms at these positions are added to the system to define the full initial configuration.\n",
       "- __finalpos__ are the atomic positions of the NEB atoms in the final reference state.  Atoms at these positions are added to the system to define the full final configuration.\n",
       "- __point_symbol__ lists the atom model symbols to associate with the NEB atoms.  Not needed if all atoms are the same species.\n",
       "\n",
       "#### Example #1: Simple interstitial\n",
       "\n",
       "With a simple interstitial, system can be a bulk crystal and then the initialpos and finalpos specify where the defect starts and ends.\n",
       "\n",
       "#### Example #2: Vacancy\n",
       "\n",
       "Vacancy mobility is actually the mobility of an atom into a nearby vacancy.  The non-NEB system should be a divacancy configuration in which the two vacancy positions correspond to the initialpos and finalpos locations.  This can easily be done with point_kwargs by providing a bulk crystal for system and then adding two vacancies with point_kwargs that have the same positions as initialpos and finalpos. \n",
       "\n",
       "#### Example #3: Frenkel-pair formation\n",
       "\n",
       "The creation of a vacancy and a self-interstitial from a perfect crystal serves as a combination of the two previous examples.  The non-NEB configuration should have a single vacancy, then the initialpos and finalpos should correspond to the vacancy position and the interstitial position, respectively.\n",
       "\n",
       "#### Example #4: Crowdion/dumbbell interstitials\n",
       "\n",
       "Crowdion and other dumbbell interstitials are slightly more complicated in that they involve not just the addition of an atom interstitial but the substantial relaxation of at least one other atom in the system.  Other atoms may either need to be initially shifted to avoid overlapping, or multiple atoms can be listed in initialpos and finalpos to be managed by the NEB.  If multiple atoms are NEB controlled, don't forget to remove any duplicates from the non-NEB system.\n",
       "\n",
       "#### Example #5: Complex environment\n",
       "\n",
       "Point defect mobilities can also be investigated within more complex, non-bulk configurations.  Such investigations can be performed by providing a system with the more complex environment and using point_kwargs to delete any NEB atoms from the non-NEB list.\n",
       "\n",
       "### Notes on obtaining good NEB results\n",
       "\n",
       "- nreplicas sets the number of replica configurations to use.  The larger the number the more computationally expensive the calculation will be but the better the resolution of the path.  If you know the barrier to be symmetric, then using an odd number of replicas will position the middle replica near the barrier.\n",
       "\n",
       "- springconst is the spring constant for the NEB force applied between replicas.  Weaker spring constants will allow the replicas to preferentially relax towards the low energy configurations and make the sampling of the high energy configurations more sparse.  Stronger spring constants increase the \"tension\" between replicas and may cause the NEB path to deviate from the true minimum energy path.  Selecting the optimum springconst value may require trial and error as the value is influenced by the path being explored, materials constants, and the number of replicas.\n",
       "\n",
       "- Ideally, each NEB calculation should move from one low energy (meta)stable configuration to another through a single energy barrier.  If you run a calculation and see multiple barriers then it is recommended to run separate NEBs for each barrier jump by changing the end configurations to each intermediate minima.\n",
       "\n",
       "- If the NEB calculation fails to converge within the minsteps/climbsteps, first check the replica configurations. \n",
       "    - Have the end configurations relaxed and transformed into a different type of configuration?\n",
       "    - Are the NEB atom trajectories for the unrelaxed configurations doing something inappropriate, like passing through the position of another atom?\n",
       "    - Are there multiple energy barriers indicating a complex multi-step path?\n",
       "\n",
       "- If the path seems appropriate but convergence is still not reached, try different numbers of replicas and spring constant values.  \n",
       "    - If you are only interested in the energy barrier value, then it is likely enough to find one (nreplicas, springconst) combination that converges.\n",
       "    - If the specific path is important as well then you should explore the sensitivity of the path to the springconst.\n"
      ],
      "text/plain": [
       "<IPython.core.display.Markdown object>"
      ]
     },
     "metadata": {},
     "output_type": "display_data"
    }
   ],
   "source": [
    "# Display main docs and theory\n",
    "display(Markdown(calculation.maindoc))\n",
    "display(Markdown(calculation.theorydoc))"
   ]
  },
  {
   "cell_type": "markdown",
   "metadata": {},
   "source": [
    "## 2. Define calculation functions and generate files\n",
    "\n",
    "This section defines the calculation functions and associated resource files exactly as they exist inside the iprPy package.  This allows for the code used to be directly visible and modifiable by anyone looking to see how it works."
   ]
  },
  {
   "cell_type": "markdown",
   "metadata": {},
   "source": [
    "### 2.1. point_defect_mobility()\n",
    "\n",
    "This is the primary function for the calculation.  The version of this function built in iprPy can be accessed by calling the calc() method of an object of the associated calculation class."
   ]
  },
  {
   "cell_type": "code",
   "execution_count": 4,
   "metadata": {},
   "outputs": [],
   "source": [
    "def point_defect_mobility(lammps_command: str,\n",
    "                          system: am.System,\n",
    "                          potential: lmp.Potential,\n",
    "                          neb_pos1: npt.ArrayLike,\n",
    "                          neb_pos2: npt.ArrayLike,\n",
    "                          mpi_command: Optional[str] = None,\n",
    "                          neb_symbol: Union[str, list, None] = None,\n",
    "                          numreplicas: int = 11,\n",
    "                          partition: Optional[str] = None,\n",
    "                          point_kwargs: Union[list, dict, None] = None,\n",
    "                          etol: float = 0.0,\n",
    "                          ftol: float = 0.0,\n",
    "                          dmax: float = uc.set_in_units(0.01, 'angstrom'),\n",
    "                          springconst: float = 5, \n",
    "                          thermosteps: int = 100,\n",
    "                          dumpsteps: Optional[int] = None,\n",
    "                          timestep: float = uc.set_in_units(0.01, 'ps'),\n",
    "                          minsteps: int = 10000,\n",
    "                          climbsteps: int = 10000):\n",
    "    \"\"\"\n",
    "    Evaluates the mobility of point defects using NEB.\n",
    "\n",
    "    Parameters\n",
    "    ----------\n",
    "    lammps_command :str\n",
    "        Command for running LAMMPS.\n",
    "    system : atomman.System\n",
    "        The system to perform the calculation on consisting of the atoms that\n",
    "        are not to be subjected to the NEB forces.\n",
    "    potential : atomman.lammps.Potential\n",
    "        The LAMMPS implemented potential to use.\n",
    "    neb_pos1: array-like\n",
    "        The position(s) of the atom(s) in the initial replica that are to be\n",
    "        subjected to the NEB interaction forces.\n",
    "    neb_pos2: array-like\n",
    "        The position(s) of the atom(s) in the initial replica that are to be\n",
    "        subjected to the NEB interaction forces.\n",
    "    mpi_command : str, optional\n",
    "        The MPI command for running LAMMPS in parallel.  If not given, LAMMPS\n",
    "        will run serially.\n",
    "    neb_symbol: str, list, or None, optional\n",
    "        The potential symbol model to assign to each of the NEB atoms.  Value(s)\n",
    "        are required unless all atoms of system are the same, in which the\n",
    "        symbol(s) for the NEB atom(s) are inferred to also be the same.\n",
    "    numreplicas : int, optional\n",
    "        The number of NEB replicas to use.  Default value is 11.\n",
    "    partition: str or None, optional\n",
    "        The value for the LAMMPS command line partition option that should be\n",
    "        of the form 'MxN' where M is the number of partitions (replicas) and\n",
    "        N is the number of cores per replica.  If not given, this will default\n",
    "        to M=numreplicas and N=1. \n",
    "    point_kwargs : dict, list of dict, or None, optional\n",
    "        Any dictionaries containing the keyword arguments for the\n",
    "        atomman.defect.point() function to modify the system with to alter the\n",
    "        set of non-NEB atoms.   \n",
    "    etol : float, optional\n",
    "        The energy tolerance for the NEB  algorithm. This value is\n",
    "        unitless. (Default is 0.0).\n",
    "    ftol : float, optional\n",
    "        The force tolerance for the NEB algorithm. This value is in\n",
    "        units of force. (Default is 0.0).\n",
    "    dmax : float, optional\n",
    "        The maximum distance in length units that any atom is allowed to relax\n",
    "        in any direction during a single minimization iteration (default is\n",
    "        0.01 Angstroms).\n",
    "    springconst : float, optional\n",
    "        The NEB spring constant value to use.  Default value is 5.\n",
    "    thermosteps : int, optional\n",
    "        How often to output thermo data to the log.lammps files.  This is\n",
    "        mostly useful for NEB runs to check convergence progress.  Default\n",
    "        value is 100.\n",
    "    dumpsteps : int or None, optional\n",
    "        How often to generate dump configuration files for the replicas.\n",
    "        Default value of None will set this to the max of (minsteps, climbsteps)\n",
    "        so that only three states will be dumped: the initial unrelaxed, and the\n",
    "        relaxed states at the end of the two NEB operations. \n",
    "    timestep : float, optional\n",
    "        The timestep to use with the quickmin minimization algorithm.  Default\n",
    "        value is 0.001 ps.\n",
    "    minsteps : int, optional\n",
    "        The maximum number of steps to perform during the NEB minimization\n",
    "        operation.  Default value is 10000.\n",
    "    climbsteps : int, optional\n",
    "        The maximum number of steps to perform during the NEB climbing\n",
    "        operation.  Default value is 10000.\n",
    "\n",
    "    Returns\n",
    "    -------\n",
    "    dict\n",
    "        Dictionary of results consisting of keys:\n",
    "      \n",
    "        - **'neb_coordinates'** (*numpy.ndarray*) - The final NEB reaction\n",
    "          coordinates for each replica after both min and climb operations.\n",
    "        - **'neb_energies'** (*numpy.ndarray*) - The final energies for\n",
    "          each replica after both min and climb operations.\n",
    "        - **'neb_positions'** (*numpy.ndarray*) - The final positions\n",
    "          of each NEB atom in each replica after both min and climb operations.\n",
    "        - **'forward_barrier'** (*float*) - The energy barrier for the forward\n",
    "          reaction: difference between max energy and the first replica's energy.\n",
    "        - **'reverse_barrier'** (*float*) - The energy barrier for the reverse\n",
    "          reaction: difference between max energy and the last replica's energy.\n",
    "    \"\"\"\n",
    "\n",
    "    # First check of pos values\n",
    "    neb_pos1 = np.asarray(neb_pos1)\n",
    "    if neb_pos1.shape == (3,):\n",
    "        neb_pos1 = neb_pos1.reshape(1,3)\n",
    "    if neb_pos1.ndim != 2 or neb_pos1.shape[1] != 3:\n",
    "        raise ValueError('neb_pos1 must be an array of shape (3,) or (N,3)')\n",
    "\n",
    "    neb_pos2 = np.asarray(neb_pos2)\n",
    "    if neb_pos2.shape == (3,):\n",
    "        neb_pos2 = neb_pos2.reshape(1,3)\n",
    "    if neb_pos2.ndim != 2 or neb_pos2.shape[1] != 3:\n",
    "        raise ValueError('neb_pos2 must be an array of shape (3,) or (N,3)')\n",
    "    \n",
    "    if neb_pos1.shape[0] != neb_pos2.shape[0]:\n",
    "        raise ValueError('neb_pos1 and neb_pos2 must be the same length')\n",
    "\n",
    "    # Safe copy system into firstsystem\n",
    "    firstsystem = deepcopy(system)\n",
    "\n",
    "    # Add point defect(s) to initial system if needed\n",
    "    if point_kwargs is not None:\n",
    "        if not isinstance(point_kwargs, (list, tuple)):\n",
    "            point_kwargs = [point_kwargs]\n",
    "        for pkwargs in point_kwargs:\n",
    "            firstsystem = am.defect.point(firstsystem, **pkwargs)\n",
    "\n",
    "    # Check symbols for the mobile atoms(s)\n",
    "    if neb_symbol is None:\n",
    "        if len(firstsystem.symbols) == 1:\n",
    "            neb_symbol = firstsystem.symbols[0]\n",
    "        else:\n",
    "            raise ValueError('system has multiple atypes so symbol(s) must be specified for mobile atoms')\n",
    "    if isinstance(neb_symbol, str):\n",
    "        symbol = neb_symbol\n",
    "        neb_symbol = [symbol for i in range(neb_pos1.shape[0])]\n",
    "    elif len(neb_symbol) != neb_pos1.shape[0]:\n",
    "        raise ValueError('neb_symbol not the same length as neb_pos1')\n",
    "    \n",
    "    # Match symbols and atypes\n",
    "    atype = []\n",
    "    symbols = list(firstsystem.symbols)\n",
    "    for symbol in neb_symbol:\n",
    "        if symbol not in symbols:\n",
    "            symbols.append(symbol)\n",
    "        atype.append(symbols.index(symbol) + 1)\n",
    "\n",
    "    # Figure out atom ids for the mobile atoms\n",
    "    min_a_id = firstsystem.natoms \n",
    "    max_a_id = min_a_id + neb_pos1.shape[0]\n",
    "    a_ids = [i for i in range(min_a_id, max_a_id)]\n",
    "\n",
    "    # Build Atoms objects for the mobile atoms\n",
    "    atoms1 = am.Atoms(atype=atype, pos=neb_pos1)\n",
    "    atoms2 = am.Atoms(atype=atype, pos=neb_pos2, a_id=a_ids)\n",
    "\n",
    "    # Modify/build systems\n",
    "    firstsystem = firstsystem.atoms_extend(atoms1, symbols=symbols)\n",
    "    lastsystem = am.System(atoms=atoms2, box=firstsystem.box)\n",
    "            \n",
    "    # Run NEB\n",
    "    neblog = neb(lammps_command, firstsystem, lastsystem, potential,\n",
    "                 mpi_command=mpi_command, partition=partition,\n",
    "                 id_key='a_id', id_start0=True,\n",
    "                 etol=etol, ftol=ftol, dmax=dmax, numreplicas=numreplicas,\n",
    "                 springconst=springconst, thermosteps=thermosteps,\n",
    "                 dumpsteps=dumpsteps, timestep=timestep, minsteps=minsteps,\n",
    "                 climbsteps=climbsteps)\n",
    "\n",
    "    # Get final step and NEB path values at that step\n",
    "    finalstep = neblog.climbrun.Step.values[-1]\n",
    "    coord, energy = neblog.get_neb_path(finalstep)\n",
    "    \n",
    "    # Add final path and barrier \n",
    "    results = {}\n",
    "    results['neb_coordinates'] = coord\n",
    "    results['neb_energies'] = energy\n",
    "\n",
    "    # Get the moving atom positions for each replica\n",
    "    moving_pos = np.empty((len(a_ids), numreplicas, 3))\n",
    "    for r in range(numreplicas):\n",
    "        replica = am.load('atom_dump', f'step-{finalstep}.replica-{r+1}.dump')    \n",
    "        for i, a_id in enumerate(a_ids):\n",
    "            moving_pos[i, r, :] = replica.atoms.pos[a_id, :]\n",
    "    results['neb_positions'] = moving_pos\n",
    "\n",
    "    # Add barrier energies\n",
    "    results['forward_barrier'] = neblog.get_barrier()\n",
    "    results['reverse_barrier'] = neblog.get_barrier(reverse=True)\n",
    "\n",
    "    return results"
   ]
  },
  {
   "cell_type": "markdown",
   "metadata": {},
   "source": [
    "### 2.2. neb"
   ]
  },
  {
   "cell_type": "code",
   "execution_count": 5,
   "metadata": {},
   "outputs": [],
   "source": [
    "def neb(lammps_command: str,\n",
    "        firstsystem: am.System,\n",
    "        lastsystem: am.System,\n",
    "        potential: lmp.Potential,\n",
    "        mpi_command: Optional[str] = None,\n",
    "        numreplicas: int = 11, \n",
    "        partition: Optional[str] = None,\n",
    "        id_key: Optional[str] = None,\n",
    "        id_start0: bool = True,\n",
    "        etol: float = 0.0,\n",
    "        ftol: float = 0.0,\n",
    "        dmax: float = uc.set_in_units(0.01, 'angstrom'),\n",
    "        springconst: float = 5, \n",
    "        thermosteps: int = 100,\n",
    "        dumpsteps: Optional[int] = None, \n",
    "        timestep: float = uc.set_in_units(0.01, 'ps'),\n",
    "        minsteps: int = 10000,\n",
    "        climbsteps: int = 10000) -> dict:\n",
    "    \"\"\"\n",
    "    Sets up and runs the neb.template LAMMPS script for performing an NEB\n",
    "    calculation between two configurations.\n",
    "    \n",
    "    Parameters\n",
    "    ----------\n",
    "    lammps_command :str\n",
    "        Command for running LAMMPS.\n",
    "    firstsystem : atomman.System\n",
    "        The system configuration corresponding to the first replica.  This\n",
    "        should be a full system that defines the box and all atoms.\n",
    "    lastsystem : atomman.System\n",
    "        The system configuration corresponding to the final replica.  No\n",
    "        box information is used, and only the atoms to subject to NEB forces\n",
    "        need to be included.\n",
    "    potential : atomman.lammps.Potential\n",
    "        The LAMMPS implemented potential to use.\n",
    "    mpi_command : str, optional\n",
    "        The MPI command for running LAMMPS in parallel.  If not given, LAMMPS\n",
    "        will run serially.\n",
    "    numreplicas : int, optional\n",
    "        The number of NEB replicas to use.  Default value is 11.\n",
    "    partition: str or None, optional\n",
    "        The value for the LAMMPS command line partition option that should be\n",
    "        of the form 'MxN' where M is the number of partitions (replicas) and\n",
    "        N is the number of cores per replica.  If not given, this will default\n",
    "        to M=numreplicas and N=1. \n",
    "    id_key : str or None, optional\n",
    "        The name of the atoms property of lastsystem to match the contained\n",
    "        NEB atoms to those in firstsystem.  A default value of None will use\n",
    "        the atom array indices meaning that either all atoms need to be in\n",
    "        lastsystem or that the first atom(s) in firstsystem are the NEB atoms.\n",
    "    id_start0 : bool, optional\n",
    "        A value of True (default) indicates that the id_key values are relative\n",
    "        to an array that starts at 0 as in the case of atomman atom indices.  A\n",
    "        value of False indicates that the id_key values are relative to an array\n",
    "        that starts at 1 as in the case of the LAMMPS atom id values.\n",
    "    etol : float, optional\n",
    "        The energy tolerance for the NEB  algorithm. This value is\n",
    "        unitless. (Default is 0.0).\n",
    "    ftol : float, optional\n",
    "        The force tolerance for the NEB algorithm. This value is in\n",
    "        units of force. (Default is 0.0).\n",
    "    dmax : float, optional\n",
    "        The maximum distance in length units that any atom is allowed to relax\n",
    "        in any direction during a single minimization iteration (default is\n",
    "        0.01 Angstroms).\n",
    "    springconst : float, optional\n",
    "        The NEB spring constant value to use.  Default value is 5.\n",
    "    thermosteps : int, optional\n",
    "        How often to output thermo data to the log.lammps files.  This is\n",
    "        mostly useful for NEB runs to check convergence progress.  Default\n",
    "        value is 100.\n",
    "    dumpsteps : int or None, optional\n",
    "        How often to generate dump configuration files for the replicas.\n",
    "        Default value of None will set this to the max of (minsteps, climbsteps)\n",
    "        so that only three states will be dumped: the initial unrelaxed, and the\n",
    "        relaxed states at the end of the two NEB operations. \n",
    "    timestep : float, optional\n",
    "        The timestep to use with the quickmin minimization algorithm.  Default\n",
    "        value is 0.01 ps.\n",
    "    minsteps : int, optional\n",
    "        The maximum number of steps to perform during the NEB minimization\n",
    "        operation.  Default value is 10000.\n",
    "    climbsteps : int, optional\n",
    "        The maximum number of steps to perform during the NEB climbing\n",
    "        operation.  Default value is 10000.\n",
    "\n",
    "    Returns\n",
    "    -------\n",
    "    atomman.lammps.NEBLog\n",
    "        The collection of all thermo and NEB data from within all of the\n",
    "        log.lammps values for both individual replicas and the overall NEB\n",
    "        run.\n",
    "    \"\"\"\n",
    "    \n",
    "    # Dump the two systems\n",
    "    system_pair_info = firstsystem.dump('atom_data', f='init.dat',\n",
    "                                           potential=potential)\n",
    "    lastsystem.dump('neb_replica', f='final.dat',\n",
    "                     id_key=id_key, id_start0=id_start0)\n",
    "\n",
    "    # Get lammps units\n",
    "    lammps_units = lmp.style.unit(potential.units)\n",
    "    force_per_length = f\"{lammps_units['force']}/{lammps_units['length']}\"\n",
    "    \n",
    "    # Get lammps version date\n",
    "    lammps_date = lmp.checkversion(lammps_command)['date']\n",
    "    \n",
    "    # Set default dumpsteps\n",
    "    if dumpsteps is None:\n",
    "        dumpsteps = max(minsteps, climbsteps)\n",
    "\n",
    "    # Define lammps variables\n",
    "    lammps_variables = {}\n",
    "    \n",
    "    lammps_variables['atomman_system_pair_info'] = system_pair_info\n",
    "    lammps_variables['numreplicas'] = numreplicas\n",
    "    lammps_variables['springconst'] = uc.get_in_units(springconst, force_per_length)\n",
    "    lammps_variables['thermosteps'] = thermosteps\n",
    "    lammps_variables['dumpsteps'] = dumpsteps\n",
    "    lammps_variables['timestep'] = uc.get_in_units(timestep, lammps_units['time'])\n",
    "    lammps_variables['minsteps'] = minsteps\n",
    "    lammps_variables['climbsteps'] = climbsteps\n",
    "    lammps_variables['dmax'] = uc.get_in_units(dmax, lammps_units['length'])\n",
    "    lammps_variables['etol'] = etol\n",
    "    lammps_variables['ftol'] = uc.get_in_units(ftol, lammps_units['force'])\n",
    "    lammps_variables['final_system'] = 'final.dat'\n",
    "    \n",
    "    # Set dump_modify_format based on lammps_date\n",
    "    if lammps_date < datetime.date(2016, 8, 3):\n",
    "        lammps_variables['dump_modify_format'] = '\"%d %d %.13e %.13e %.13e %.13e %.13e %.13e %.13e\"'\n",
    "    else:\n",
    "        lammps_variables['dump_modify_format'] = 'float %.13e'\n",
    "    \n",
    "    # Write lammps input script\n",
    "    lammps_script = 'neb_lammps.in'\n",
    "    template = read_calc_file('iprPy.calculation.point_defect_mobility',\n",
    "                              'neb_lammps.template')\n",
    "    with open(lammps_script, 'w') as f:\n",
    "        f.write(filltemplate(template, lammps_variables, '<', '>'))\n",
    "    \n",
    "    # Add the partition option to the LAMMPS command\n",
    "    if partition is None:\n",
    "        partition = f'{numreplicas}x1'\n",
    "    lammps_command_p = f'{lammps_command} -p {partition}' \n",
    "\n",
    "    # Run the calc_neb\n",
    "    output = lmp.run(lammps_command_p, script_name=lammps_script,\n",
    "                     mpi_command=mpi_command, screen=False)\n",
    "    neblog = lmp.NEBLog()\n",
    "\n",
    "    return neblog"
   ]
  },
  {
   "cell_type": "markdown",
   "metadata": {},
   "source": [
    "### 2.3. min.template file"
   ]
  },
  {
   "cell_type": "code",
   "execution_count": 6,
   "metadata": {},
   "outputs": [],
   "source": [
    "with open('neb_lammps.template', 'w') as f:\n",
    "    f.write(\"\"\"# LAMMPS input script for neb calculations\n",
    "\n",
    "# NEB parameters\n",
    "variable numreplicas equal <numreplicas>\n",
    "variable springconst equal <springconst>\n",
    "\n",
    "# Run parameters\n",
    "variable thermosteps equal <thermosteps>\n",
    "variable dumpsteps equal <dumpsteps>\n",
    "variable timestep equal <timestep>\n",
    "\n",
    "# Relaxation parameters\n",
    "variable minsteps equal <minsteps>\n",
    "variable climbsteps equal <climbsteps>\n",
    "variable dmax equal <dmax>\n",
    "variable etol equal <etol>\n",
    "variable ftol equal <ftol>\n",
    "\n",
    "# LAMMPS setting parameters\n",
    "box tilt large\n",
    "atom_modify map array\n",
    "\n",
    "# potential and initial system definition\n",
    "<atomman_system_pair_info>\n",
    "\n",
    "# property compute definitions\n",
    "compute peatom all pe/atom\n",
    "\n",
    "# define neb\n",
    "fix neb all neb ${springconst}\n",
    "\n",
    "# dump file definition\n",
    "variable i uloop ${numreplicas}\n",
    "dump dumpy all custom ${dumpsteps} step-*.replica-${i}.dump id type x y z c_peatom\n",
    "dump_modify dumpy format float %.13e\n",
    "\n",
    "# thermo definition\n",
    "thermo ${thermosteps}\n",
    "thermo_style custom step lx ly lz pe\n",
    "thermo_modify format float %.13e\n",
    "\n",
    "# minimization definition\n",
    "timestep ${timestep}\n",
    "min_style quickmin\n",
    "min_modify dmax ${dmax}\n",
    "\n",
    "# run neb\n",
    "neb ${etol} ${ftol} ${minsteps} ${climbsteps} ${thermosteps} final <final_system>\"\"\")"
   ]
  },
  {
   "cell_type": "markdown",
   "metadata": {},
   "source": [
    "## 3. Specify input parameters"
   ]
  },
  {
   "cell_type": "markdown",
   "metadata": {},
   "source": [
    "### 3.1. System-specific paths\n",
    "\n",
    "- __lammps_command__ is the LAMMPS command to use (required).\n",
    "- __mpi_command__ MPI command for running LAMMPS in parallel. A value of None will run simulations serially."
   ]
  },
  {
   "cell_type": "code",
   "execution_count": 7,
   "metadata": {},
   "outputs": [
    {
     "name": "stdout",
     "output_type": "stream",
     "text": [
      "LAMMPS version = 23 Jun 2022\n"
     ]
    }
   ],
   "source": [
    "lammps_command = '/home/lmh1/LAMMPS/2022-06-23/src/lmp_mpi'\n",
    "mpi_command = 'mpiexec -n 11'\n",
    "\n",
    "# Optional: check that LAMMPS works and show its version \n",
    "print(f'LAMMPS version = {am.lammps.checkversion(lammps_command)[\"version\"]}')"
   ]
  },
  {
   "cell_type": "markdown",
   "metadata": {},
   "source": [
    "### 3.2. Interatomic potential\n",
    "\n",
    "- __potential_name__ gives the name of the potential_LAMMPS reference record in the iprPy library to use for the calculation.  \n",
    "- __potential__ is an atomman.lammps.Potential object (required)."
   ]
  },
  {
   "cell_type": "code",
   "execution_count": 8,
   "metadata": {},
   "outputs": [],
   "source": [
    "potential_name = '1999--Mishin-Y--Ni--LAMMPS--ipr1'\n",
    "\n",
    "# Retrieve potential and parameter file(s) using atomman\n",
    "potential = am.load_lammps_potential(id=potential_name, getfiles=True)"
   ]
  },
  {
   "cell_type": "markdown",
   "metadata": {},
   "source": [
    "### 3.3. Initial unit cell system\n",
    "\n",
    "- __ucell__ is an atomman.System representing a fundamental unit cell of the system (required).  Here, this is generated using the load parameters and symbols."
   ]
  },
  {
   "cell_type": "code",
   "execution_count": 9,
   "metadata": {},
   "outputs": [
    {
     "name": "stdout",
     "output_type": "stream",
     "text": [
      "Multiple matching record retrieved from local\n",
      "#  family               symbols  alat    Ecoh    method  standing\n",
      " 1 A1--Cu--fcc          Ni        3.5200 -4.4500 dynamic good\n",
      " 2 A1--Cu--fcc          Ni        7.3760  0.0119 dynamic good\n"
     ]
    },
    {
     "name": "stdin",
     "output_type": "stream",
     "text": [
      "Please select one: 1\n"
     ]
    },
    {
     "name": "stdout",
     "output_type": "stream",
     "text": [
      "avect =  [ 3.520,  0.000,  0.000]\n",
      "bvect =  [ 0.000,  3.520,  0.000]\n",
      "cvect =  [ 0.000,  0.000,  3.520]\n",
      "origin = [ 0.000,  0.000,  0.000]\n",
      "natoms = 4\n",
      "natypes = 1\n",
      "symbols = ('Ni',)\n",
      "pbc = [ True  True  True]\n",
      "per-atom properties = ['atype', 'pos']\n",
      "     id |   atype |  pos[0] |  pos[1] |  pos[2]\n",
      "      0 |       1 |   0.000 |   0.000 |   0.000\n",
      "      1 |       1 |   0.000 |   1.760 |   1.760\n",
      "      2 |       1 |   1.760 |   0.000 |   1.760\n",
      "      3 |       1 |   1.760 |   1.760 |   0.000\n"
     ]
    }
   ],
   "source": [
    "# Create ucell by loading prototype record\n",
    "ucell = am.load('crystal', potential=potential, family='A1--Cu--fcc')\n",
    "\n",
    "print(ucell)"
   ]
  },
  {
   "cell_type": "markdown",
   "metadata": {},
   "source": [
    "### 3.4 Defect parameters\n",
    "\n",
    "- __neb_pos1__ (required) gives positions for the atoms in the first replica that are to be subjected to NEB forces.\n",
    "- __neb_pos2__ (required) gives positions for the atoms in the last replica that are to be subjected to NEB forces.\n",
    "- __neb_symbol__ (optional) the potential model symbols for the NEB atoms.  This is optional if all atoms, both NEB and non-NEB, are the same element as it can be inferred.\n",
    "- __point_kwargs__ (optional) is a dictionary or list of dictionaries containing parameters for generating defects in the non-NEB background system. Allowed keywords are:\n",
    "    - __ptd_type__ indicates which defect type to generate: 'v' for vacancy, 'i' for interstitial, 's' for substitutional, or 'db' for dumbbell.\n",
    "    - __atype__ is the atom type to assign to the defect atom ('i', 's', 'db' ptd_types).  \n",
    "    - __pos__ specifies the position for adding the defect atom (all ptd_types).\n",
    "    - __ptd_id__ specifies the id of an atom in the initial system where the defect is to be added. Alternative to using pos ('v', 's', 'db' ptd_types).\n",
    "    - __db_vect__ gives the vector associated with the dumbbell interstitial to generate ('db' ptd_type).\n",
    "    - __scale__ indicates if pos and db_vect are in absolute (False) or box-relative (True) coordinates. Default is False.\n",
    "    - __atol__ is the absolute tolerance for position-based searching. Default is 1e-3 angstroms."
   ]
  },
  {
   "cell_type": "code",
   "execution_count": 10,
   "metadata": {},
   "outputs": [],
   "source": [
    "# Parameters for vacancy to vacancy NEB in an fcc cell\n",
    "# Non-NEB system should have two vacancies\n",
    "# The one NEB atom should jump from one vacancy site to the other\n",
    "\n",
    "# Specify the end locations of the NEB atom and what symbol it is\n",
    "neb_pos1 = ucell.box.position_relative_to_cartesian([1.0, 0.0, 0.0])    # [0.0, 0.0, 0.0] site shifted by a\n",
    "neb_pos2 = ucell.box.position_relative_to_cartesian([1.0, 0.5, 0.5])    # [0.0, 0.5, 0.5] site shifted by a\n",
    "neb_symbol = 'Ni'\n",
    "\n",
    "# Add vacancies to the non-NEB system at the two NEB end locations\n",
    "point_kwargs = [{'ptd_type': 'v', 'pos': neb_pos1,},\n",
    "                {'ptd_type': 'v', 'pos': neb_pos2,}]"
   ]
  },
  {
   "cell_type": "markdown",
   "metadata": {},
   "source": [
    "### 3.5. System modifications\n",
    "\n",
    "- __sizemults__ list of three integers specifying how many times the ucell vectors of $a$, $b$ and $c$ are replicated in creating system.\n",
    "- __system__ is an atomman.System to perform the scan on (required). "
   ]
  },
  {
   "cell_type": "code",
   "execution_count": 11,
   "metadata": {},
   "outputs": [
    {
     "name": "stdout",
     "output_type": "stream",
     "text": [
      "# of atoms in system = 6912\n"
     ]
    }
   ],
   "source": [
    "sizemults = [12, 12, 12]\n",
    "\n",
    "# Generate system by supersizing ucell\n",
    "system = ucell.supersize(*sizemults)\n",
    "print('# of atoms in system =', system.natoms)"
   ]
  },
  {
   "cell_type": "markdown",
   "metadata": {},
   "source": [
    "### 3.6 Calculation-specific parameters\n",
    "\n",
    "- __numreplicas__ is the number of NEB replicas to use.  Default value is 11.\n",
    "- __partition__ gives the value for the LAMMPS command line -partition option.  The value should be a str of form 'MxN' where M=numreplicas and N is the number of cores to use for each replica.  The default value of None will use M=numreplicas and N=1.\n",
    "- __springconst__ is the NEB spring constant to use.  This is in force/length units and has a default value of 5 eV/angstrom^2.\n",
    "- __energytolerance__ is the energy tolerance to use during the NEB. This is unitless.\n",
    "- __forcetolerance__ is the force tolerance to use during the NEB. This is in energy/length units.\n",
    "- __maxatommotion__ is the largest distance that an atom is allowed to move during a minimization iteration. This is in length units and has a default value of 0.01 angstom.\n",
    "- __minsteps__ is the maximum number of NEB relaxation steps to perform.  Default value is 10000.\n",
    "- __climbsteps__ is the maximum number of NEB climbing steps to perform.  Default value is 10000.\n",
    "- __timestep__ is the timestep to use with the NEB minimization algorithm.  This should be about 10x the timestep of MD calculations. Default value is 0.01 ps.\n",
    "- __thermosteps__ indicates how often thermo data is outputted.  Default value is 100.\n",
    "- __dumpsteps__ indicates how often atomic dump files are generated.  The default value of None sets this to the max of (minsteps, climbsteps) so configurations are only saved for the initial state and the final states of the min/climb operations.\n"
   ]
  },
  {
   "cell_type": "code",
   "execution_count": 12,
   "metadata": {},
   "outputs": [],
   "source": [
    "numreplicas = 11\n",
    "partition = None\n",
    "springconst = uc.set_in_units(5, 'eV/angstrom^2')\n",
    "\n",
    "energytolerance = 0.0\n",
    "forcetolerance = uc.set_in_units(1e-6, 'eV/angstrom')\n",
    "maxatommotion = uc.set_in_units(0.01, 'angstrom')\n",
    " \n",
    "thermosteps = 100\n",
    "dumpsteps = None\n",
    "timestep = uc.set_in_units(0.01, 'ps')\n",
    "minsteps = 10000\n",
    "climbsteps = 10000"
   ]
  },
  {
   "cell_type": "markdown",
   "metadata": {},
   "source": [
    "## 4. Run calculation and view results\n",
    "\n",
    "### 4.1. Run calculation\n",
    "\n",
    "All primary calculation method functions take a series of inputs and return a dictionary of outputs."
   ]
  },
  {
   "cell_type": "code",
   "execution_count": 13,
   "metadata": {},
   "outputs": [
    {
     "name": "stdout",
     "output_type": "stream",
     "text": [
      "dict_keys(['neb_coordinates', 'neb_energies', 'neb_positions', 'forward_barrier', 'reverse_barrier'])\n"
     ]
    }
   ],
   "source": [
    "results_dict = point_defect_mobility(lammps_command, system, potential, neb_pos1, neb_pos2,\n",
    "                                     mpi_command=mpi_command,\n",
    "                                     neb_symbol=neb_symbol,\n",
    "                                     numreplicas=numreplicas,\n",
    "                                     partition=partition,\n",
    "                                     point_kwargs=point_kwargs,\n",
    "                                     etol=energytolerance,\n",
    "                                     ftol=forcetolerance,\n",
    "                                     dmax=maxatommotion,\n",
    "                                     springconst=springconst, \n",
    "                                     thermosteps=thermosteps,\n",
    "                                     dumpsteps=dumpsteps,\n",
    "                                     timestep=timestep,\n",
    "                                     minsteps=minsteps,\n",
    "                                     climbsteps=climbsteps)\n",
    "print(results_dict.keys())"
   ]
  },
  {
   "cell_type": "markdown",
   "metadata": {},
   "source": [
    "### 4.2. Report results\n",
    "\n",
    "Values returned in the results_dict:\n",
    "\n",
    "- **'neb_coordinates'** (*numpy.ndarray*) - The final NEB reaction coordinates for each replica after both min and climb operations.\n",
    "- **'neb_energies'** (*numpy.ndarray*) - The final energies for each replica after both min and climb operations.\n",
    "- **'neb_positions'** (*numpy.ndarray*) - The final positions of each NEB atom in each replica after both min and climb operations.\n",
    "- **'forward_barrier'** (*float*) - The energy barrier for the forward reaction: difference between max energy and the first replica's.\n",
    "- **'reverse_barrier'** (*float*) - The energy barrier for the reverse reaction: difference between max energy and the last replica's defects."
   ]
  },
  {
   "cell_type": "code",
   "execution_count": 14,
   "metadata": {},
   "outputs": [
    {
     "name": "stdout",
     "output_type": "stream",
     "text": [
      "forward_barrier = 1.289454935998947 eV\n",
      "reverse_barrier = 1.289454935998947 eV\n"
     ]
    }
   ],
   "source": [
    "energy_unit = 'eV'\n",
    "length_unit = 'angstrom'\n",
    "\n",
    "print('forward_barrier =', uc.get_in_units(results_dict['forward_barrier'], energy_unit), energy_unit)\n",
    "print('reverse_barrier =', uc.get_in_units(results_dict['reverse_barrier'], energy_unit), energy_unit)"
   ]
  },
  {
   "cell_type": "markdown",
   "metadata": {},
   "source": [
    "Plot the energies as a function of the reaction coordinates"
   ]
  },
  {
   "cell_type": "code",
   "execution_count": 15,
   "metadata": {},
   "outputs": [
    {
     "data": {
      "image/png": "[encoded data removed]",
      "text/plain": [
       "<Figure size 640x480 with 1 Axes>"
      ]
     },
     "metadata": {},
     "output_type": "display_data"
    }
   ],
   "source": [
    "x = results_dict['neb_coordinates']\n",
    "y = uc.get_in_units(results_dict['neb_energies'], energy_unit)\n",
    "plt.plot(x, y, 'o:')\n",
    "\n",
    "plt.xlabel('NEB reaction coordinates')\n",
    "plt.ylabel('Energy (eV)')\n",
    "plt.show()"
   ]
  },
  {
   "cell_type": "markdown",
   "metadata": {},
   "source": [
    "Show the NEB atom positions across the replicas"
   ]
  },
  {
   "cell_type": "code",
   "execution_count": 16,
   "metadata": {},
   "outputs": [
    {
     "data": {
      "text/plain": [
       "array([[[3.51999944, 0.01051564, 0.01051564],\n",
       "        [3.51999944, 0.08326119, 0.08326119],\n",
       "        [3.51999944, 0.25496158, 0.25496158],\n",
       "        [3.51999943, 0.45713518, 0.45713518],\n",
       "        [3.51999944, 0.66712604, 0.66712604],\n",
       "        [3.51999944, 0.87999986, 0.87999986],\n",
       "        [3.51999944, 1.09287367, 1.09287367],\n",
       "        [3.51999943, 1.30286454, 1.30286454],\n",
       "        [3.51999944, 1.50503814, 1.50503814],\n",
       "        [3.51999944, 1.67673853, 1.67673853],\n",
       "        [3.51999944, 1.74948408, 1.74948408]]])"
      ]
     },
     "execution_count": 16,
     "metadata": {},
     "output_type": "execute_result"
    }
   ],
   "source": [
    "results_dict['neb_positions']"
   ]
  },
  {
   "cell_type": "markdown",
   "metadata": {},
   "source": [
    "Plot the barrier energy versus distance that the NEB atom has moved"
   ]
  },
  {
   "cell_type": "code",
   "execution_count": 17,
   "metadata": {},
   "outputs": [
    {
     "data": {
      "image/png": "[encoded data removed]",
      "text/plain": [
       "<Figure size 640x480 with 1 Axes>"
      ]
     },
     "metadata": {},
     "output_type": "display_data"
    }
   ],
   "source": [
    "dmag = system.dmag(results_dict['neb_positions'][0,0], results_dict['neb_positions'][0])\n",
    "x = uc.get_in_units(dmag, length_unit)\n",
    "\n",
    "y = uc.get_in_units(results_dict['neb_energies'], energy_unit)\n",
    "plt.plot(x, y, 'o:')\n",
    "\n",
    "plt.xlabel('NEB atom displacement (angstrom)')\n",
    "plt.ylabel('Energy (eV)')\n",
    "plt.show()"
   ]
  },
  {
   "cell_type": "markdown",
   "metadata": {},
   "source": [
    " "
   ]
  }
 ],
 "metadata": {
  "kernelspec": {
   "display_name": "Python 311",
   "language": "python",
   "name": "py11"
  },
  "language_info": {
   "codemirror_mode": {
    "name": "ipython",
    "version": 3
   },
   "file_extension": ".py",
   "mimetype": "text/x-python",
   "name": "python",
   "nbconvert_exporter": "python",
   "pygments_lexer": "ipython3",
   "version": "3.11.5"
  }
 },
 "nbformat": 4,
 "nbformat_minor": 4
}
