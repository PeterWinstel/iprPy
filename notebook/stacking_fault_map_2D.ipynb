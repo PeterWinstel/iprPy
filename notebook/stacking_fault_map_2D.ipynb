{
 "cells": [
  {
   "cell_type": "markdown",
   "metadata": {},
   "source": [
    "# stacking_fault_map_2D calculation style\n",
    "\n",
    "**Lucas M. Hale**, [lucas.hale@nist.gov](mailto:lucas.hale@nist.gov?Subject=ipr-demo), *Materials Science and Engineering Division, NIST*.\n",
    "\n",
    "Description updated: 2019-07-26\n",
    "\n",
    "## Introduction\n",
    "\n",
    "The __stacking_fault_map_2D__ calculation style evaluates the full 2D generalized stacking fault map for an array of shifts along a specified crystallographic plane.  A regular grid of points is established and the generalized stacking fault energy is evaluated at each.\n",
    "\n",
    "### Version notes\n",
    "\n",
    "- This was previously called the stacking_fault_multi calculation and was renamed for clarity.\n",
    "\n",
    "### Additional dependencies\n",
    "\n",
    "### Disclaimers\n",
    "\n",
    "- [NIST disclaimers](http://www.nist.gov/public_affairs/disclaimer.cfm)\n",
    "- The system's dimension perpendicular to the fault plane should be large to minimize the interaction of the free surface and the stacking fault.\n"
   ]
  },
  {
   "cell_type": "markdown",
   "metadata": {},
   "source": [
    "## Method and Theory\n",
    "\n",
    "First, an initial system is generated.  This is accomplished using atomman.defect.StackingFault, which\n",
    "\n",
    "1. Starts with a unit cell system.\n",
    "\n",
    "2. Generates a transformed system by rotating the unit cell such that the new\n",
    "   system's box vectors correspond to crystallographic directions, and filled\n",
    "   in with atoms to remain a perfect bulk cell when the three boundaries are\n",
    "   periodic.\n",
    "\n",
    "3. All atoms are shifted by a fractional amount of the box vectors if needed.\n",
    "\n",
    "4. A supercell system is constructed by combining multiple replicas of the\n",
    "   transformed system.\n",
    "\n",
    "5. The system is then cut by making one of the box boundaries non-periodic.  A limitation placed on the calculation is that the normal to the cut plane must correspond to one of the three Cartesian ($x$, $y$, or $z$) axes.  If true, then of the system's three box vectors ($\\vec{a}$, $\\vec{b}$, and $\\vec{c}$), two will be parallel to the plane, and the third will not.  The non-parallel box vector is called the cutboxvector, and for LAMMPS compatible systems, the following conditions can be used to check the system's compatibility:\n",
    "\n",
    "   - cutboxvector = 'c': all systems allowed.\n",
    "\n",
    "   - cutboxvector = 'b': the system's yz tilt must be zero.\n",
    "\n",
    "   - cutboxvector = 'a': the system's xy and xz tilts must be zero.\n",
    "\n",
    "A LAMMPS simulation performs an energy/force minimization on the system where the atoms are confined to only relax along the Cartesian direction normal to the cut plane.\n",
    "\n",
    "A mathematical fault plane parallel to the cut plane is defined in the middle of the system.  A generalized stacking fault system can then be created by shifting all atoms on one side of the fault plane by a vector, $\\vec{s}$.  The shifted system is then relaxed using the same confined energy/force minimization used on the non-shifted system.  The generalized stacking fault energy, $\\gamma$, can then be computed by comparing the total energy of the system, $E_{total}$, before and after $\\vec{s}$ is applied\n",
    "\n",
    "$$ \\gamma(\\vec{s}) = \\frac{E_{total}(\\vec{s}) - E_{total}(\\vec{0})}{A},$$\n",
    "\n",
    "where $A$ is the area of the fault plane, which can be computed using the two box vectors, $\\vec{a_1}$ and $\\vec{a_2}$, that are not the cutboxvector.\n",
    "\n",
    "$$A = \\left| \\vec{a_1} \\times \\vec{a_2} \\right|,$$\n",
    "\n",
    "Additionally, the relaxation normal to the glide plane is characterized using the center of mass of the atoms above and below the cut plane.  Notably, the component of the center of mass normal to the glide/cut plane is calculated for the two halves of the the system, and the difference is computed\n",
    "\n",
    "$$ \\delta = \\left<x\\right>^{+} - \\left<x\\right>^{-}.$$\n",
    "\n",
    "The relaxation normal is then taken as the change in the center of mass difference after the shift is applied.\n",
    "\n",
    "$$ \\Delta\\delta = \\delta(\\vec{s}) - \\delta(\\vec{0}).$$\n",
    "\n",
    "The stacking_fault_map_2D calculation evaluates both $\\gamma$ and $\\Delta\\delta$ for a complete 2D grid of $\\vec{s}$ values.  The grid is built by taking fractional steps along two vectors parallel to the shift plane.\n"
   ]
  },
  {
   "cell_type": "markdown",
   "metadata": {},
   "source": [
    "## Demonstration"
   ]
  },
  {
   "cell_type": "markdown",
   "metadata": {},
   "source": [
    "### 1. Library imports"
   ]
  },
  {
   "cell_type": "markdown",
   "metadata": {},
   "source": [
    "Import libraries needed by the calculation. The external libraries used are:\n",
    "\n",
    "- [numpy](http://www.numpy.org/)\n",
    "\n",
    "- [pandas](https://pandas.pydata.org/)\n",
    "\n",
    "- [DataModelDict](https://github.com/usnistgov/DataModelDict)\n",
    "\n",
    "- [atomman](https://github.com/usnistgov/atomman)\n",
    "\n",
    "- [iprPy](https://github.com/usnistgov/iprPy)"
   ]
  },
  {
   "cell_type": "code",
   "execution_count": 1,
   "metadata": {},
   "outputs": [
    {
     "name": "stdout",
     "output_type": "stream",
     "text": [
      "Notebook last executed on 2019-07-29 using iprPy version 0.9.0\n"
     ]
    }
   ],
   "source": [
    "# Standard library imports\n",
    "from pathlib import Path\n",
    "import os\n",
    "import sys\n",
    "import uuid\n",
    "import shutil\n",
    "import datetime\n",
    "from copy import deepcopy\n",
    "\n",
    "# http://www.numpy.org/\n",
    "import numpy as np \n",
    "\n",
    "# https://pandas.pydata.org/\n",
    "import pandas as pd\n",
    "\n",
    "# https://github.com/usnistgov/DataModelDict \n",
    "from DataModelDict import DataModelDict as DM\n",
    "\n",
    "# https://github.com/usnistgov/atomman \n",
    "import atomman as am\n",
    "import atomman.lammps as lmp\n",
    "import atomman.unitconvert as uc\n",
    "\n",
    "# https://github.com/usnistgov/iprPy\n",
    "import iprPy\n",
    "\n",
    "print('Notebook last executed on', datetime.date.today(), 'using iprPy version', iprPy.__version__)"
   ]
  },
  {
   "cell_type": "markdown",
   "metadata": {},
   "source": [
    "Import plotting library for the Notebook\n",
    "\n",
    "- [matplotlib](https://matplotlib.org/)"
   ]
  },
  {
   "cell_type": "code",
   "execution_count": 2,
   "metadata": {},
   "outputs": [],
   "source": [
    "import matplotlib.pyplot as plt\n",
    "from matplotlib import cm\n",
    "%matplotlib inline"
   ]
  },
  {
   "cell_type": "markdown",
   "metadata": {},
   "source": [
    "#### 1.2. Default calculation setup"
   ]
  },
  {
   "cell_type": "code",
   "execution_count": 3,
   "metadata": {},
   "outputs": [],
   "source": [
    "# Specify calculation style\n",
    "calc_style = 'stacking_fault_map_2D'\n",
    "\n",
    "# If workingdir is already set, then do nothing (already in correct folder)\n",
    "try:\n",
    "    workingdir = workingdir\n",
    "\n",
    "# Change to workingdir if not already there\n",
    "except:\n",
    "    workingdir = Path('calculationfiles', calc_style)\n",
    "    if not workingdir.is_dir():\n",
    "        workingdir.mkdir(parents=True)\n",
    "    os.chdir(workingdir)"
   ]
  },
  {
   "cell_type": "markdown",
   "metadata": {},
   "source": [
    "### 2. Assign values for the calculation's run parameters"
   ]
  },
  {
   "cell_type": "markdown",
   "metadata": {},
   "source": [
    "#### 2.1 Specify system-specific paths\n",
    "\n",
    "- __lammps_command__ is the LAMMPS command to use.\n",
    "\n",
    "- __mpi_command__ MPI command for running LAMMPS in parallel. A value of None will run simulations serially."
   ]
  },
  {
   "cell_type": "code",
   "execution_count": 4,
   "metadata": {},
   "outputs": [],
   "source": [
    "lammps_command = 'lmp_serial'\n",
    "mpi_command = None"
   ]
  },
  {
   "cell_type": "markdown",
   "metadata": {},
   "source": [
    "#### 2.2. Load interatomic potential\n",
    "\n",
    "- __potential_name__ gives the name of the potential_LAMMPS reference record in the iprPy library to use for the calculation.  \n",
    "\n",
    "- __potential_file__ gives the path to the potential_LAMMPS reference record to use.  Here, this parameter is automatically generated using potential_name and librarydir.\n",
    "\n",
    "- __potential_dir__ gives the path for the folder containing the artifacts associated with the potential (i.e. eam.alloy file).  Here, this parameter is automatically generated using potential_name and librarydir.\n",
    "\n",
    "- __potential__ is an atomman.lammps.Potential object (required).  Here, this parameter is automatically generated from potential_file and potential_dir."
   ]
  },
  {
   "cell_type": "code",
   "execution_count": 5,
   "metadata": {},
   "outputs": [
    {
     "name": "stdout",
     "output_type": "stream",
     "text": [
      "Successfully loaded potential 1999--Mishin-Y--Ni--LAMMPS--ipr1\n"
     ]
    }
   ],
   "source": [
    "potential_name = '1999--Mishin-Y--Ni--LAMMPS--ipr1'\n",
    "\n",
    "# Define potential_file and potential_dir using librarydir and potential_name\n",
    "potential_file = Path(iprPy.libdir, 'potential_LAMMPS', f'{potential_name}.json')\n",
    "potential_dir = Path(iprPy.libdir, 'potential_LAMMPS', potential_name)\n",
    "\n",
    "# Initialize Potential object using potential_file and potential_dir.\n",
    "potential = lmp.Potential(potential_file, potential_dir)\n",
    "print('Successfully loaded potential', potential)"
   ]
  },
  {
   "cell_type": "markdown",
   "metadata": {},
   "source": [
    "#### 2.3. Load initial unit cell system\n",
    "\n",
    "- __prototype_name__ gives the name of the crystal_prototype reference record in the iprPy library to load. \n",
    "\n",
    "- __symbols__ is a list of the potential's elemental model symbols to associate with the unique atom types of the loaded system. \n",
    "\n",
    "- __box_parameters__ is a list of the a, b, c lattice constants to assign to the loaded file.\n",
    "\n",
    "- __load_file__ gives the path to the atomic configuration file to load for the ucell system.  Here, this is generated automatically using prototype_name and librarydir.\n",
    "\n",
    "- __load_style__ specifies the format of load_file.  Here, this is automatically set for crystal_prototype records.\n",
    "\n",
    "- __load_options__ specifies any other keyword options for properly loading the load_file.  Here, this is automatically set for crystal_prototype records.\n",
    "\n",
    "- __ucell__ is an atomman.System representing a fundamental unit cell of the system (required).  Here, this is generated using the load parameters and symbols."
   ]
  },
  {
   "cell_type": "code",
   "execution_count": 6,
   "metadata": {},
   "outputs": [
    {
     "name": "stdout",
     "output_type": "stream",
     "text": [
      "avect =  [ 3.520,  0.000,  0.000]\n",
      "bvect =  [ 0.000,  3.520,  0.000]\n",
      "cvect =  [ 0.000,  0.000,  3.520]\n",
      "origin = [ 0.000,  0.000,  0.000]\n",
      "natoms = 4\n",
      "natypes = 1\n",
      "symbols = ('Ni',)\n",
      "pbc = [ True  True  True]\n",
      "per-atom properties = ['atype', 'pos']\n",
      "     id |   atype |  pos[0] |  pos[1] |  pos[2]\n",
      "      0 |       1 |   0.000 |   0.000 |   0.000\n",
      "      1 |       1 |   0.000 |   1.760 |   1.760\n",
      "      2 |       1 |   1.760 |   0.000 |   1.760\n",
      "      3 |       1 |   1.760 |   1.760 |   0.000\n"
     ]
    }
   ],
   "source": [
    "prototype_name = 'A1--Cu--fcc'\n",
    "symbols = ['Ni']\n",
    "box_parameters = uc.set_in_units([3.52, 3.52, 3.52], 'angstrom')\n",
    "\n",
    "# Define load_file using librarydir and prototype_name\n",
    "load_file = Path(iprPy.libdir, 'crystal_prototype', f'{prototype_name}.json')\n",
    "\n",
    "# Define load_style and load_options for crystal_prototype records\n",
    "load_style = 'system_model'\n",
    "load_options = {}\n",
    "\n",
    "# Create ucell by loading prototype record\n",
    "ucell = am.load(load_style, load_file, symbols=symbols, **load_options)\n",
    "\n",
    "# Rescale ucell using box_parameters\n",
    "ucell.box_set(a=box_parameters[0], b=box_parameters[1], c=box_parameters[2], scale=True)\n",
    "\n",
    "print(ucell)"
   ]
  },
  {
   "cell_type": "markdown",
   "metadata": {},
   "source": [
    "#### 2.4. Specify the defect parameters\n",
    "\n",
    "- __stackingfault_name__ gives the name of the stacking_fault reference record in the iprPy library to use. \n",
    "\n",
    "- __numshifts1__ is the number of shifts along shiftvector1 to evaluate. \n",
    "\n",
    "- __numshifts2__ is the number of shifts along shiftvector2 to evaluate. \n",
    "\n",
    "- __stackingfault_file__ gives the path to the stacking_fault reference record to use. Here, this is built automatically using stackingfault_name and librarydir.\n",
    "\n",
    "- __cutboxvector__ specifies which of the three box vectors ('a', 'b', or 'c') is to be made non-periodic to create the free surface.  Here, this is extracted from the defect model.\n",
    "\n",
    "- __faultpos__ specifies the relative position within the rotated cell before applying sizemults where the fault plane is placed.  Here, this is extracted from the defect model.\n",
    "\n",
    "- __shiftvector1, shiftvector2__ specify two non-parallel Miller crystal vectors within the fault plane corresponding to full planar shifts from one perfect crystal configuration to another.  Here, these are extracted from the defect model."
   ]
  },
  {
   "cell_type": "code",
   "execution_count": 7,
   "metadata": {},
   "outputs": [
    {
     "name": "stdout",
     "output_type": "stream",
     "text": [
      "cutboxvector = c\n",
      "faultpos = 0.0\n",
      "shiftvector1 = 0.0 -0.5 0.5\n",
      "shiftvector2 = 0.5 -0.5 0.0\n"
     ]
    }
   ],
   "source": [
    "stackingfault_name = 'A1--Cu--fcc--111sf'\n",
    "\n",
    "numshifts1 = 20\n",
    "numshifts2 = 20\n",
    "\n",
    "# Define surface_file using librarydir and surface_name\n",
    "stackingfault_file = Path(iprPy.libdir, 'stacking_fault', f'{stackingfault_name}.json')\n",
    "\n",
    "# Parse freesurface_file using iprPy.input.interpret()\n",
    "defectinputs = {'stackingfault_file':stackingfault_file}\n",
    "iprPy.input.subset('stackingfault').interpret(defectinputs)\n",
    "\n",
    "# Extract parameters from defect model\n",
    "cutboxvector = defectinputs['stackingfault_cutboxvector']\n",
    "faultpos = defectinputs['stackingfault_faultpos']\n",
    "shiftvector1 = defectinputs['stackingfault_shiftvector1']\n",
    "shiftvector2 = defectinputs['stackingfault_shiftvector2']\n",
    "print('cutboxvector =', cutboxvector)\n",
    "print('faultpos =', faultpos)\n",
    "print('shiftvector1 =', shiftvector1)\n",
    "print('shiftvector2 =', shiftvector2)"
   ]
  },
  {
   "cell_type": "markdown",
   "metadata": {},
   "source": [
    "#### 2.5. Modify system\n",
    "\n",
    "- __a_uvw__ Miller crystal vector used to generate a rotated system from ucell.  The a box vector of the rotated system will correspond to the crystal vector relative to ucell.  Here, this is extracted from the defect model.\n",
    "\n",
    "- __b_uvw__ Miller crystal vector used to generate a rotated system from ucell.  The a box vector of the rotated system will correspond to the crystal vector relative to ucell.  Here, this is extracted from the defect model.\n",
    "\n",
    "- __c_uvw__ Miller crystal vector used to generate a rotated system from ucell.  The a box vector of the rotated system will correspond to the crystal vector relative to ucell.  Here, this is extracted from the defect model.\n",
    "\n",
    "- __atomshift__ fractional rigid body shift to apply to the rotated system. Here, this is extracted from the defect model.\n",
    "\n",
    "- __sizemults__ list of three integers specifying how many times the ucell vectors of $a$, $b$ and $c$ are replicated in creating system.\n",
    "\n",
    "- __system__ is an atomman.System to use as the input system for the calculation (required). "
   ]
  },
  {
   "cell_type": "code",
   "execution_count": 8,
   "metadata": {},
   "outputs": [
    {
     "name": "stdout",
     "output_type": "stream",
     "text": [
      "a_uvw = [-1.  1.  0.]\n",
      "b_uvw = [-1.  0.  1.]\n",
      "c_uvw = [1. 1. 1.]\n",
      "atomshift = [ 0.          0.         -0.16666667]\n",
      "# of atoms in system = 3000\n"
     ]
    }
   ],
   "source": [
    "sizemults = [5, 5, 10]\n",
    "\n",
    "# Extract parameters from defect model\n",
    "a_uvw = np.array(defectinputs['a_uvw'].strip().split(), dtype=float)\n",
    "b_uvw = np.array(defectinputs['b_uvw'].strip().split(), dtype=float)\n",
    "c_uvw = np.array(defectinputs['c_uvw'].strip().split(), dtype=float)\n",
    "atomshift = np.array(defectinputs['atomshift'].strip().split(), dtype=float)\n",
    "print('a_uvw =', a_uvw)\n",
    "print('b_uvw =', b_uvw)\n",
    "print('c_uvw =', c_uvw)\n",
    "print('atomshift =', atomshift)\n",
    "\n",
    "# Rotate to specified uvws\n",
    "system, transform = ucell.rotate(np.array([a_uvw, b_uvw, c_uvw]), return_transform=True)\n",
    "\n",
    "# Scale atomshift by rotated system's box vectors\n",
    "shift = (atomshift[0] * system.box.avect +\n",
    "         atomshift[1] * system.box.bvect +\n",
    "         atomshift[2] * system.box.cvect)\n",
    "system.atoms.pos += shift\n",
    "\n",
    "# Generate system by supersizing ucell\n",
    "system = system.supersize(*sizemults)\n",
    "print('# of atoms in system =', system.natoms)"
   ]
  },
  {
   "cell_type": "markdown",
   "metadata": {},
   "source": [
    "#### 2.6. Modify defect parameters based on modified system information\n",
    "\n",
    "- __shiftvector1, shiftvector2__ are converted to Cartesian vectors and transformed relative to the rotated system.\n",
    "\n",
    "- __faultpos__ is adjusted to be relative to the supercell system by placing the cut inside the center cell replica."
   ]
  },
  {
   "cell_type": "code",
   "execution_count": 9,
   "metadata": {},
   "outputs": [
    {
     "name": "stdout",
     "output_type": "stream",
     "text": [
      "faultpos = 0.5\n",
      "shiftvector1 = [ 0.  -0.5  0.5]\n",
      "shiftvector2 = [ 0.5 -0.5  0. ]\n"
     ]
    }
   ],
   "source": [
    "# Convert shift vectors from strings to arrays\n",
    "shiftvector1 = np.array(shiftvector1.strip().split(), dtype=float)\n",
    "shiftvector2 = np.array(shiftvector2.strip().split(), dtype=float)\n",
    "\n",
    "# Identify number of size multiples, m, along cutboxvector\n",
    "if   cutboxvector == 'a': \n",
    "    m = sizemults[0]\n",
    "elif cutboxvector == 'b': \n",
    "    m = sizemults[1]\n",
    "elif cutboxvector == 'c': \n",
    "    m = sizemults[2]\n",
    "\n",
    "# For odd m, initial position of 0.5 goes to 0.5\n",
    "if m % 2 == 1:\n",
    "    faultpos = (faultpos + (m-1) * 0.5) / m\n",
    "# For even m, initial position of 0.0 goes to 0.5\n",
    "else:\n",
    "    faultpos = (2 * faultpos + m) / (2 * m)\n",
    "\n",
    "print('faultpos =', faultpos)\n",
    "print('shiftvector1 =', shiftvector1)\n",
    "print('shiftvector2 =', shiftvector2)"
   ]
  },
  {
   "cell_type": "markdown",
   "metadata": {},
   "source": [
    "#### 2.6. Specify calculation-specific run parameters\n",
    "\n",
    "- __energytolerance__ is the energy tolerance to use during the minimizations. This is unitless.\n",
    "\n",
    "- __forcetolerance__ is the force tolerance to use during the minimizations. This is in energy/length units.\n",
    "\n",
    "- __maxiterations__ is the maximum number of minimization iterations to use.\n",
    "\n",
    "- __maxevaluations__ is the maximum number of minimization evaluations to use.\n",
    "\n",
    "- __maxatommotion__ is the largest distance that an atom is allowed to move during a minimization iteration. This is in length units."
   ]
  },
  {
   "cell_type": "code",
   "execution_count": 10,
   "metadata": {},
   "outputs": [],
   "source": [
    "energytolerance = 1e-8\n",
    "forcetolerance = uc.set_in_units(0.0, 'eV/angstrom')\n",
    "maxiterations = 10000\n",
    "maxevaluations = 100000\n",
    "maxatommotion = uc.set_in_units(0.01, 'angstrom')"
   ]
  },
  {
   "cell_type": "markdown",
   "metadata": {},
   "source": [
    "### 3. Define calculation function(s) and generate template LAMMPS script(s)"
   ]
  },
  {
   "cell_type": "markdown",
   "metadata": {},
   "source": [
    "#### 3.1. sfmin.template"
   ]
  },
  {
   "cell_type": "code",
   "execution_count": 11,
   "metadata": {},
   "outputs": [],
   "source": [
    "with open('sfmin.template', 'w') as f:\n",
    "    f.write(\"\"\"#LAMMPS input script that performs an energy minimization\n",
    "#for a system with a stacking fault\n",
    "\n",
    "box tilt large\n",
    "\n",
    "<atomman_system_info>\n",
    "\n",
    "<atomman_pair_info>\n",
    "\n",
    "<fix_cut_setforce>\n",
    "\n",
    "thermo_style custom step lx ly lz pxx pyy pzz pe\n",
    "thermo_modify format float %.13e\n",
    "\n",
    "compute peatom all pe/atom \n",
    "\n",
    "min_modify dmax <dmax>\n",
    "\n",
    "dump dumpit all custom <maxeval> <sim_directory>*.dump id type x y z c_peatom\n",
    "dump_modify dumpit format <dump_modify_format>\n",
    "\n",
    "minimize <etol> <ftol> <maxiter> <maxeval>\"\"\")"
   ]
  },
  {
   "cell_type": "markdown",
   "metadata": {},
   "source": [
    "#### 3.2. stackingfaultrelax()"
   ]
  },
  {
   "cell_type": "code",
   "execution_count": 12,
   "metadata": {},
   "outputs": [],
   "source": [
    "def stackingfaultrelax(lammps_command, system, potential,\n",
    "                       mpi_command=None, sim_directory=None,\n",
    "                       cutboxvector='c',\n",
    "                       etol=0.0, ftol=0.0,\n",
    "                       maxiter=10000, maxeval=100000,\n",
    "                       dmax=uc.set_in_units(0.01, 'angstrom'),\n",
    "                       lammps_date=None):\n",
    "    \"\"\"\n",
    "    Perform a stacking fault relaxation simulation for a single faultshift.\n",
    "    \n",
    "    Parameters\n",
    "    ----------\n",
    "    lammps_command :str\n",
    "        Command for running LAMMPS.\n",
    "    system : atomman.System\n",
    "        The system containing a stacking fault.\n",
    "    potential : atomman.lammps.Potential\n",
    "        The LAMMPS implemented potential to use.\n",
    "    mpi_command : str, optional\n",
    "        The MPI command for running LAMMPS in parallel.  If not given, LAMMPS\n",
    "        will run serially.\n",
    "    sim_directory : str, optional\n",
    "        The path to the directory to perform the simulation in.  If not\n",
    "        given, will use the current working directory.\n",
    "    cutboxvector : str, optional\n",
    "        Indicates which of the three system box vectors, 'a', 'b', or 'c', has\n",
    "        the non-periodic boundary (default is 'c').  Fault plane normal is\n",
    "        defined by the cross of the other two box vectors.\n",
    "    etol : float, optional\n",
    "        The energy tolerance for the structure minimization. This value is\n",
    "        unitless. (Default is 0.0).\n",
    "    ftol : float, optional\n",
    "        The force tolerance for the structure minimization. This value is in\n",
    "        units of force. (Default is 0.0).\n",
    "    maxiter : int, optional\n",
    "        The maximum number of minimization iterations to use (default is \n",
    "        10000).\n",
    "    maxeval : int, optional\n",
    "        The maximum number of minimization evaluations to use (default is \n",
    "        100000).\n",
    "    dmax : float, optional\n",
    "        The maximum distance in length units that any atom is allowed to relax\n",
    "        in any direction during a single minimization iteration (default is\n",
    "        0.01 Angstroms).\n",
    "    lammps_date : datetime.date or None, optional\n",
    "        The date version of the LAMMPS executable.  If None, will be identified\n",
    "        from the lammps_command (default is None).\n",
    "    \n",
    "    Returns\n",
    "    -------\n",
    "    dict\n",
    "        Dictionary of results consisting of keys:\n",
    "        \n",
    "        - **'logfile'** (*str*) - The filename of the LAMMPS log file.\n",
    "        - **'dumpfile'** (*str*) - The filename of the LAMMPS dump file\n",
    "          of the relaxed system.\n",
    "        - **'system'** (*atomman.System*) - The relaxed system.\n",
    "        - **'E_total'** (*float*) - The total potential energy of the relaxed\n",
    "          system.\n",
    "    \n",
    "    Raises\n",
    "    ------\n",
    "    ValueError\n",
    "        For invalid cutboxvectors.\n",
    "    \"\"\"\n",
    "    try:\n",
    "        # Get script's location if __file__ exists\n",
    "        script_dir = Path(__file__).parent\n",
    "    except:\n",
    "        # Use cwd otherwise\n",
    "        script_dir = Path.cwd()\n",
    "    \n",
    "    # Give correct LAMMPS fix setforce command\n",
    "    if cutboxvector == 'a':\n",
    "        fix_cut_setforce = 'fix cut all setforce NULL 0 0'    \n",
    "    elif cutboxvector == 'b':\n",
    "        fix_cut_setforce = 'fix cut all setforce 0 NULL 0'\n",
    "    elif cutboxvector == 'c':\n",
    "        fix_cut_setforce = 'fix cut all setforce 0 0 NULL'    \n",
    "    else: \n",
    "        raise ValueError('Invalid cutboxvector')\n",
    "    \n",
    "    if sim_directory is not None:\n",
    "        # Create sim_directory if it doesn't exist\n",
    "        sim_directory = Path(sim_directory)\n",
    "        if not sim_directory.is_dir():\n",
    "            sim_directory.mkdir()\n",
    "        sim_directory = sim_directory.as_posix()+'/'\n",
    "    else:\n",
    "        # Set sim_directory if is None\n",
    "        sim_directory = ''\n",
    "    \n",
    "    # Get lammps units\n",
    "    lammps_units = lmp.style.unit(potential.units)\n",
    "    \n",
    "    #Get lammps version date\n",
    "    if lammps_date is None:\n",
    "        lammps_date = lmp.checkversion(lammps_command)['date']\n",
    "    \n",
    "    # Define lammps variables\n",
    "    lammps_variables = {}\n",
    "    system_info = system.dump('atom_data',\n",
    "                              f=Path(sim_directory, 'system.dat').as_posix(),\n",
    "                              units=potential.units,\n",
    "                              atom_style=potential.atom_style)\n",
    "    lammps_variables['atomman_system_info'] = system_info\n",
    "    lammps_variables['atomman_pair_info'] = potential.pair_info(system.symbols)\n",
    "    lammps_variables['fix_cut_setforce'] = fix_cut_setforce\n",
    "    lammps_variables['sim_directory'] = sim_directory\n",
    "    lammps_variables['etol'] = etol\n",
    "    lammps_variables['ftol'] = uc.get_in_units(ftol, lammps_units['force'])\n",
    "    lammps_variables['maxiter'] = maxiter\n",
    "    lammps_variables['maxeval'] = maxeval\n",
    "    lammps_variables['dmax'] = uc.get_in_units(dmax, lammps_units['length'])\n",
    "    \n",
    "    # Set dump_modify format based on dump_modify_version\n",
    "    if lammps_date < datetime.date(2016, 8, 3):\n",
    "        lammps_variables['dump_modify_format'] = '\"%i %i %.13e %.13e %.13e %.13e\"'\n",
    "    else:\n",
    "        lammps_variables['dump_modify_format'] = 'float %.13e'\n",
    "    \n",
    "    # Write lammps input script\n",
    "    template_file = Path(script_dir, 'sfmin.template')\n",
    "    lammps_script = Path(sim_directory, 'sfmin.in')\n",
    "    with open(template_file) as f:\n",
    "        template = f.read()\n",
    "    with open(lammps_script, 'w') as f:\n",
    "        f.write(iprPy.tools.filltemplate(template, lammps_variables,\n",
    "                                         '<', '>'))\n",
    "    \n",
    "    # Run LAMMPS\n",
    "    output = lmp.run(lammps_command, lammps_script.as_posix(), mpi_command,\n",
    "                     logfile=Path(sim_directory, 'log.lammps').as_posix())\n",
    "    \n",
    "    # Extract output values\n",
    "    thermo = output.simulations[-1]['thermo']\n",
    "    logfile = Path(sim_directory, 'log.lammps').as_posix()\n",
    "    dumpfile = Path(sim_directory, '%i.dump' % thermo.Step.values[-1]).as_posix()\n",
    "    E_total = uc.set_in_units(thermo.PotEng.values[-1],\n",
    "                              lammps_units['energy'])\n",
    "    \n",
    "    # Load relaxed system\n",
    "    system = am.load('atom_dump', dumpfile, symbols=system.symbols)\n",
    "    \n",
    "    # Return results\n",
    "    results_dict = {}\n",
    "    results_dict['logfile'] = logfile\n",
    "    results_dict['dumpfile'] = dumpfile\n",
    "    results_dict['system'] = system\n",
    "    results_dict['E_total'] = E_total\n",
    "    \n",
    "    return results_dict\n",
    "\n"
   ]
  },
  {
   "cell_type": "markdown",
   "metadata": {},
   "source": [
    "#### 3.4. stackingfaultmap()"
   ]
  },
  {
   "cell_type": "code",
   "execution_count": 13,
   "metadata": {},
   "outputs": [],
   "source": [
    "def stackingfaultmap(lammps_command, system, potential, \n",
    "                     mpi_command=None,\n",
    "                     a1vect=None, a2vect=None, ucell=None,\n",
    "                     transform=None, cutboxvector=None,\n",
    "                     faultposrel=0.5, num_a1=10, num_a2=10, \n",
    "                     etol=0.0, ftol=0.0, maxiter=10000, maxeval=100000,\n",
    "                     dmax=uc.set_in_units(0.01, 'angstrom')):\n",
    "    \"\"\"\n",
    "    Computes a generalized stacking fault map for shifts along a regular 2D\n",
    "    grid.\n",
    "    \n",
    "    Parameters\n",
    "    ----------\n",
    "    lammps_command :str\n",
    "        Command for running LAMMPS.\n",
    "    system : atomman.System\n",
    "        The system to perform the calculation on.\n",
    "    potential : atomman.lammps.Potential\n",
    "        The LAMMPS implemented potential to use.\n",
    "    mpi_command : str, optional\n",
    "        The MPI command for running LAMMPS in parallel.  If not given, LAMMPS\n",
    "        will run serially.\n",
    "    a1vect : array-like object, optional\n",
    "        A slip vector within the slip plane.  Depending on if ucellbox and\n",
    "        transform are given, this can be either a Miller crystal vector or\n",
    "        a Cartesian vector relative to the supplied system.  If a1vect is\n",
    "        not given and a2vect is, then a1vect is set to [0,0,0].\n",
    "    a2vect : array-like object, optional\n",
    "        A slip vector within the slip plane.  Depending on if ucellbox and\n",
    "        transform are given, this can be either a Miller crystal vector or\n",
    "        a Cartesian vector relative to the supplied system.  If a2vect is\n",
    "        not given and a1vect is, then a2vect is set to [0,0,0].\n",
    "    ucell : atomman.System, optional\n",
    "        If ucell is given, then the a1vect and a2vect slip vectors are\n",
    "        taken as Miller crystal vectors relative to ucell.box.  If not\n",
    "        given, then the slip vectors are taken as Cartesian vectors.\n",
    "    transform : array-like object, optional\n",
    "        A transformation tensor to apply to the a1vect and a2vect slip\n",
    "        vectors.  This is needed if system is oriented differently than\n",
    "        ucell, i.e. system is rotated.\n",
    "    cutboxvector : str, optional\n",
    "        Indicates which of the three system box vectors, 'a', 'b', or 'c', to\n",
    "        cut with a non-periodic boundary (default is 'c').\n",
    "    faultposrel : float, optional\n",
    "        The fractional position along the cutboxvector where the stacking\n",
    "        fault plane will be placed (default is 0.5).\n",
    "    num_a1 : int, optional\n",
    "        The number of fractional coordinates to evaluate along a1vect.\n",
    "        Default value is 10.\n",
    "    num_a2 : int, optional\n",
    "        The number of fractional coordinates to evaluate along a2vect.\n",
    "        Default value is 10. \n",
    "    etol : float, optional\n",
    "        The energy tolerance for the structure minimization. This value is\n",
    "        unitless. (Default is 0.0).\n",
    "    ftol : float, optional\n",
    "        The force tolerance for the structure minimization. This value is in\n",
    "        units of force. (Default is 0.0).\n",
    "    maxiter : int, optional\n",
    "        The maximum number of minimization iterations to use (default is \n",
    "        10000).\n",
    "    maxeval : int, optional\n",
    "        The maximum number of minimization evaluations to use (default is \n",
    "        100000).\n",
    "    dmax : float, optional\n",
    "        The maximum distance in length units that any atom is allowed to relax\n",
    "        in any direction during a single minimization iteration (default is\n",
    "        0.01 Angstroms).\n",
    "    \n",
    "    Returns\n",
    "    -------\n",
    "    dict\n",
    "        Dictionary of results consisting of keys:\n",
    "        \n",
    "        - **'A_fault'** (*float*) - The area of the fault surface.\n",
    "        - **'gamma'** (*atomman.defect.GammaSurface*) - A gamma surface\n",
    "          plotting object.\n",
    "    \"\"\"\n",
    "    # Construct stacking fault configuration generator\n",
    "    gsf_gen = am.defect.StackingFault(system, a1vect=a1vect, a2vect=a2vect,\n",
    "                                      ucellbox=ucell.box, transform=transform,\n",
    "                                      cutboxvector=cutboxvector, faultposrel=faultposrel)\n",
    "    abovefault = gsf_gen.abovefault\n",
    "    cutindex = gsf_gen.cutindex\n",
    "    A_fault = gsf_gen.faultarea\n",
    "\n",
    "    # Identify lammps_date version\n",
    "    lammps_date = lmp.checkversion(lammps_command)['date']\n",
    "    \n",
    "    # Define lists\n",
    "    a1vals = []\n",
    "    a2vals = []\n",
    "    E_totals = []\n",
    "    disps = []\n",
    "\n",
    "    # Loop over all shift combinations\n",
    "    for a1, a2, sfsystem in gsf_gen.iterfaultmap(num_a1=num_a1, num_a2=num_a2):\n",
    "        a1vals.append(a1)\n",
    "        a2vals.append(a2)\n",
    "\n",
    "        # Evaluate the system at the shift\n",
    "        sim_directory = Path('a%.10f-b%.10f' % (a1, a2))\n",
    "        relax = stackingfaultrelax(lammps_command, sfsystem, potential,\n",
    "                                   mpi_command=mpi_command, \n",
    "                                   sim_directory=sim_directory,\n",
    "                                   cutboxvector=cutboxvector,\n",
    "                                   etol=etol,\n",
    "                                   ftol=ftol,\n",
    "                                   maxiter=maxiter,\n",
    "                                   maxeval=maxeval,\n",
    "                                   dmax=dmax,\n",
    "                                   lammps_date=lammps_date)\n",
    "        \n",
    "        # Extract terms\n",
    "        E_totals.append(relax['E_total'])\n",
    "        pos = relax['system'].atoms.pos\n",
    "        disps.append(pos[abovefault, cutindex].mean()\n",
    "                   - pos[~abovefault, cutindex].mean())\n",
    "    \n",
    "    E_totals = np.array(E_totals)\n",
    "    disps = np.array(disps)\n",
    "    \n",
    "    # Get zeroshift values\n",
    "    E_total_0 = E_totals[0]\n",
    "    disp_0 = disps[0]\n",
    "    \n",
    "    # Compute the stacking fault energies\n",
    "    E_gsfs = (E_totals - E_total_0) / A_fault\n",
    "    \n",
    "    # Compute the change in displacement normal to fault plane\n",
    "    delta_disps = disps - disp_0\n",
    "    \n",
    "    results_dict = {}\n",
    "    results_dict['A_fault'] = A_fault\n",
    "    results_dict['gamma'] = am.defect.GammaSurface(a1vect = a1vect,\n",
    "                                                   a2vect = a2vect,\n",
    "                                                   box = ucell.box,\n",
    "                                                   a1 = a1vals,\n",
    "                                                   a2 = a2vals,\n",
    "                                                   E_gsf = E_gsfs,\n",
    "                                                   delta = delta_disps)\n",
    "\n",
    "    return results_dict\n",
    "\n"
   ]
  },
  {
   "cell_type": "markdown",
   "metadata": {},
   "source": [
    "### 4. Run calculation function(s)"
   ]
  },
  {
   "cell_type": "code",
   "execution_count": 14,
   "metadata": {},
   "outputs": [],
   "source": [
    "results_dict = stackingfaultmap(lammps_command, system, potential,\n",
    "                                mpi_command = mpi_command,\n",
    "                                a1vect = shiftvector1,\n",
    "                                a2vect = shiftvector2,\n",
    "                                ucell = ucell,\n",
    "                                transform = transform,\n",
    "                                cutboxvector = cutboxvector,\n",
    "                                faultposrel = faultpos,\n",
    "                                num_a1 = numshifts1, \n",
    "                                num_a2 = numshifts2, \n",
    "                                etol = energytolerance,\n",
    "                                ftol = forcetolerance,\n",
    "                                maxiter = maxiterations,\n",
    "                                maxeval = maxevaluations,\n",
    "                                dmax = maxatommotion)"
   ]
  },
  {
   "cell_type": "code",
   "execution_count": 15,
   "metadata": {},
   "outputs": [
    {
     "data": {
      "text/plain": [
       "dict_keys(['A_fault', 'gamma'])"
      ]
     },
     "execution_count": 15,
     "metadata": {},
     "output_type": "execute_result"
    }
   ],
   "source": [
    "results_dict.keys()"
   ]
  },
  {
   "cell_type": "markdown",
   "metadata": {},
   "source": [
    "### 5. Report results"
   ]
  },
  {
   "cell_type": "markdown",
   "metadata": {},
   "source": [
    "#### 5.1. Define units for outputting values\n",
    "\n",
    "- __length_unit__ is the unit of area to display delta displacemets in.\n",
    "\n",
    "- __area_unit__ is the unit of area to display fault area in.\n",
    "\n",
    "- __energy_unit__ is the unit of energy to display cohesive energies in.\n",
    "\n",
    "- __energyperarea_unit__ is the energy per area to report the surface energy in."
   ]
  },
  {
   "cell_type": "code",
   "execution_count": 16,
   "metadata": {},
   "outputs": [],
   "source": [
    "length_unit = 'nm'\n",
    "area_unit = 'nm^2'\n",
    "energy_unit = 'eV'\n",
    "energyperarea_unit = 'mJ/m^2'"
   ]
  },
  {
   "cell_type": "markdown",
   "metadata": {},
   "source": [
    "#### 5.2. Print $A_{fault}$"
   ]
  },
  {
   "cell_type": "code",
   "execution_count": 17,
   "metadata": {},
   "outputs": [
    {
     "name": "stdout",
     "output_type": "stream",
     "text": [
      "A_fault = 5.365200581525355 nm^2\n"
     ]
    }
   ],
   "source": [
    "print('A_fault =', uc.get_in_units(results_dict['A_fault'], area_unit), area_unit)"
   ]
  },
  {
   "cell_type": "markdown",
   "metadata": {},
   "source": [
    "#### 5.3. Make plots from GammaSurface object gamma"
   ]
  },
  {
   "cell_type": "code",
   "execution_count": 18,
   "metadata": {},
   "outputs": [
    {
     "name": "stdout",
     "output_type": "stream",
     "text": [
      "[ 0.  -0.5  0.5]\n",
      "[ 0.5 -0.5  0. ]\n"
     ]
    }
   ],
   "source": [
    "gamma = results_dict['gamma']\n",
    "print(gamma.a1vect)\n",
    "print(gamma.a2vect)"
   ]
  },
  {
   "cell_type": "code",
   "execution_count": 19,
   "metadata": {},
   "outputs": [],
   "source": [
    "# Save gamma as data model\n",
    "with open('gamma.json', 'w') as f:\n",
    "    gamma.model().json(fp=f, indent=4)"
   ]
  },
  {
   "cell_type": "code",
   "execution_count": 20,
   "metadata": {},
   "outputs": [
    {
     "data": {
      "image/png": "[encoded data removed]",
      "text/plain": [
       "<Figure size 846x415.692 with 2 Axes>"
      ]
     },
     "metadata": {
      "needs_background": "light"
     },
     "output_type": "display_data"
    }
   ],
   "source": [
    "# Plot with calculation a1vect, a2vect\n",
    "gamma.E_gsf_surface_plot(length_unit=length_unit,\n",
    "                         energyperarea_unit=energyperarea_unit)\n",
    "plt.show()"
   ]
  },
  {
   "cell_type": "code",
   "execution_count": 21,
   "metadata": {},
   "outputs": [
    {
     "data": {
      "image/png": "[encoded data removed]",
      "text/plain": [
       "<Figure size 846x415.692 with 2 Axes>"
      ]
     },
     "metadata": {
      "needs_background": "light"
     },
     "output_type": "display_data"
    }
   ],
   "source": [
    "# Plot with standard A1--fcc--111sf a1vect, a2vect\n",
    "gamma.E_gsf_surface_plot(a1vect=[0.5, 0.5, -1],\n",
    "                         a2vect=gamma.a2vect,\n",
    "                         length_unit=length_unit,\n",
    "                         energyperarea_unit=energyperarea_unit)\n",
    "plt.show()"
   ]
  },
  {
   "cell_type": "code",
   "execution_count": 22,
   "metadata": {},
   "outputs": [
    {
     "data": {
      "image/png": "[encoded data removed]",
      "text/plain": [
       "<Figure size 720x432 with 1 Axes>"
      ]
     },
     "metadata": {
      "needs_background": "light"
     },
     "output_type": "display_data"
    }
   ],
   "source": [
    "# Standard 1D [11-2](111) fcc path\n",
    "gamma.E_gsf_line_plot(vect=[0.5, 0.5, -1], length_unit=length_unit,\n",
    "                      energyperarea_unit=energyperarea_unit)\n",
    "plt.show()"
   ]
  }
 ],
 "metadata": {
  "kernelspec": {
   "display_name": "Python 3",
   "language": "python",
   "name": "python3"
  },
  "language_info": {
   "codemirror_mode": {
    "name": "ipython",
    "version": 3
   },
   "file_extension": ".py",
   "mimetype": "text/x-python",
   "name": "python",
   "nbconvert_exporter": "python",
   "pygments_lexer": "ipython3",
   "version": "3.7.3"
  }
 },
 "nbformat": 4,
 "nbformat_minor": 2
}
