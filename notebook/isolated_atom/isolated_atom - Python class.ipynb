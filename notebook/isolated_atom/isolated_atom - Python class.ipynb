{
 "cells": [
  {
   "cell_type": "markdown",
   "id": "55b3471e",
   "metadata": {},
   "source": [
    "# isolated_atom - Python class"
   ]
  },
  {
   "cell_type": "markdown",
   "id": "1eb6d6ea",
   "metadata": {},
   "source": [
    "__Python imports__\n",
    "\n",
    "- [numpy](http://www.numpy.org/)\n",
    "- [IPython](https://ipython.org)\n",
    "- [atomman](https://github.com/usnistgov/atomman)\n",
    "- [iprPy](https://github.com/usnistgov/iprPy)"
   ]
  },
  {
   "cell_type": "code",
   "execution_count": 1,
   "id": "23390e94",
   "metadata": {},
   "outputs": [
    {
     "name": "stdout",
     "output_type": "stream",
     "text": [
      "Notebook last executed on 2022-03-07 using iprPy version 0.11.2\n"
     ]
    }
   ],
   "source": [
    "# Standard library imports\n",
    "from pathlib import Path\n",
    "import datetime\n",
    "\n",
    "# http://www.numpy.org/\n",
    "import numpy as np\n",
    "\n",
    "# https://ipython.org/\n",
    "from IPython.display import display, Markdown\n",
    "\n",
    "# https://github.com/usnistgov/atomman \n",
    "import atomman as am\n",
    "import atomman.lammps as lmp\n",
    "import atomman.unitconvert as uc\n",
    "\n",
    "# https://github.com/usnistgov/iprPy\n",
    "import iprPy\n",
    "\n",
    "print('Notebook last executed on', datetime.date.today(), 'using iprPy version', iprPy.__version__)"
   ]
  },
  {
   "cell_type": "markdown",
   "id": "7f981fa6",
   "metadata": {},
   "source": [
    "## 1. Load calculation and view description\n",
    "\n",
    "### 1.1. Load the calculation"
   ]
  },
  {
   "cell_type": "code",
   "execution_count": 2,
   "id": "31194d91",
   "metadata": {},
   "outputs": [],
   "source": [
    "# Load the calculation being demoed\n",
    "calculation = iprPy.load_calculation('isolated_atom')"
   ]
  },
  {
   "cell_type": "markdown",
   "id": "a8c14707",
   "metadata": {},
   "source": [
    "### 1.2. Display calculation description and theory"
   ]
  },
  {
   "cell_type": "code",
   "execution_count": 3,
   "id": "e1edad88",
   "metadata": {},
   "outputs": [
    {
     "data": {
      "text/markdown": [
       "# isolated_atom calculation style\n",
       "\n",
       "**Lucas M. Hale**, [lucas.hale@nist.gov](mailto:lucas.hale@nist.gov?Subject=ipr-demo), *Materials Science and Engineering Division, NIST*.\n",
       "\n",
       "## Introduction\n",
       "\n",
       "The isolated_atom calculation style evaluates the base energies of all atomic models associated with an interatomic potential. For some potentials, the isolated energy values are necessary to properly compute the cohesive energy of crystal structures.  This also provides a simple test whether a potential implementation is compatible with a version of LAMMPS.\n",
       "\n",
       "### Version notes\n",
       "\n",
       "- 2020-09-22: Notebook first added.\n",
       "- 2022-02-16: Notebook updated to reflect version 0.11.\n",
       "\n",
       "### Additional dependencies\n",
       "\n",
       "### Disclaimers\n",
       "\n",
       "- [NIST disclaimers](http://www.nist.gov/public_affairs/disclaimer.cfm)\n",
       "- Some potentials have two cutoffs with atomic energies outside the first being the \"isolated\" energy while outside the second have zero energy.  The first isolated energy values for those potentials can be found using the diatom_scan calculation instead.\n"
      ],
      "text/plain": [
       "<IPython.core.display.Markdown object>"
      ]
     },
     "metadata": {},
     "output_type": "display_data"
    },
    {
     "data": {
      "text/markdown": [
       "## Method and Theory\n",
       "\n",
       "The calculation loops over all symbol models of the potential and creates a system with a single particle inside a system with non-periodic boundary conditions.  The potential energy of each unique isolated atom is evaluated without relaxation/integration.\n",
       "\n",
       "The cohesive energy, $E_{coh}$, of a crystal structure is given as the per-atom potential energy of the crystal structure at equilibrium $E_{crystal}/N$ relative to the potential energy of the same atoms infinitely far apart, $E_i^{\\infty}$\n",
       "\n",
       "$$ E_{coh} = \\frac{E_{crystal} - \\sum{N_i E_{i}^{\\infty}}}{N},$$\n",
       "\n",
       "Where the $N_i$ values are the number of each species $i$ and $\\sum{N_i} = N$.\n",
       "\n",
       "For most potentials, $E_i^{\\infty}=0$ meaning that the measured potential energy directly corresponds to the cohesive energy.  However, this is not the case for all potentials as some have offsets either due to model artifacts or because it allowed for a better fitted model.\n"
      ],
      "text/plain": [
       "<IPython.core.display.Markdown object>"
      ]
     },
     "metadata": {},
     "output_type": "display_data"
    }
   ],
   "source": [
    "# Display main docs and theory\n",
    "display(Markdown(calculation.maindoc))\n",
    "display(Markdown(calculation.theorydoc))"
   ]
  },
  {
   "cell_type": "markdown",
   "id": "ebf97438",
   "metadata": {},
   "source": [
    "## 2. Specify input parameters\n",
    "\n",
    "The calculation input parameters can be specified directly to the associated calculation's attributes.  Note that these parameters are often part of calculation subsets allowing multiple calculations to share the same input terms."
   ]
  },
  {
   "cell_type": "markdown",
   "id": "d1622947",
   "metadata": {},
   "source": [
    "### 2.1. LAMMPS-related commands\n",
    "\n",
    "Calculations that use LAMMPS need to know which LAMMPS executable to use.  Additionally, running LAMMPS in parallel requires specifying an MPI command.\n",
    "\n",
    "- __commands__ is a LammpsCommands subset.\n",
    "    - __lammps_command__ is the LAMMPS command to use.\n",
    "    - __mpi_command__ MPI command for running LAMMPS in parallel. A value of None will run simulations serially."
   ]
  },
  {
   "cell_type": "code",
   "execution_count": 4,
   "id": "b3496296",
   "metadata": {},
   "outputs": [],
   "source": [
    "calculation.commands.lammps_command = 'lmp_serial'\n",
    "calculation.commands.mpi_command = None"
   ]
  },
  {
   "cell_type": "markdown",
   "id": "76fed5b6",
   "metadata": {},
   "source": [
    "### 2.2. Interatomic potential\n",
    "\n",
    "LAMMPS calculations also need to know which potential to use.  These are handled by loaded potentials/atomman PotentialLAMMPS objects.\n",
    "\n",
    "- __potential__ is a LammpsPotential subset.\n",
    "    - __potential__ is a loaded PotentialLAMMPS or PotentialLAMMPSKIM object."
   ]
  },
  {
   "cell_type": "code",
   "execution_count": 5,
   "id": "60b4b6a3",
   "metadata": {},
   "outputs": [],
   "source": [
    "potential_name = '1999--Mishin-Y--Ni--LAMMPS--ipr1'\n",
    "potential = am.load_lammps_potential(id=potential_name, getfiles=True)\n",
    "\n",
    "# So many \"potential\"s...\n",
    "calculation.potential.potential = potential"
   ]
  },
  {
   "cell_type": "markdown",
   "id": "45f87c23",
   "metadata": {},
   "source": [
    "## 3. Preview the data record\n",
    "\n",
    "Optionally, an incomplete JSON/XML record can be generated for the calculation after setting the inputs.\n",
    "\n",
    "- __build_model()__ will interpret the object's attributes into a data model.\n",
    "- __model__ is the generated data model.\n",
    "- __model.json()__ will convert the model to JSON.\n",
    "- __model.xml()__ will convert the model to XML."
   ]
  },
  {
   "cell_type": "code",
   "execution_count": 6,
   "id": "a7608656",
   "metadata": {},
   "outputs": [
    {
     "name": "stdout",
     "output_type": "stream",
     "text": [
      "{\n",
      "    \"calculation-isolated-atom\": {\n",
      "        \"key\": \"2f434d6a-ee16-42d9-a451-6f658429de8b\",\n",
      "        \"calculation\": {\n",
      "            \"iprPy-version\": \"0.11.2\",\n",
      "            \"atomman-version\": \"1.4.3\",\n",
      "            \"LAMMPS-version\": \"3 Mar 2020\",\n",
      "            \"script\": \"calc_isolated_atom\",\n",
      "            \"branch\": \"main\"\n",
      "        },\n",
      "        \"potential-LAMMPS\": {\n",
      "            \"key\": \"a7c9b786-5aa7-481b-86eb-7e4edd9cec02\",\n",
      "            \"id\": \"1999--Mishin-Y--Ni--LAMMPS--ipr1\",\n",
      "            \"potential\": {\n",
      "                \"key\": \"81adb388-59eb-4f49-88bf-6f06a1343fae\",\n",
      "                \"id\": \"1999--Mishin-Y-Farkas-D-Mehl-M-J-Papaconstantopoulos-D-A--Ni\"\n",
      "            }\n",
      "        },\n",
      "        \"status\": \"not calculated\"\n",
      "    }\n",
      "}\n"
     ]
    }
   ],
   "source": [
    "calculation.build_model()\n",
    "print(calculation.model.json(indent=4))"
   ]
  },
  {
   "cell_type": "markdown",
   "id": "886e7915",
   "metadata": {},
   "source": [
    "## 4. Run calculation and view results\n",
    "\n",
    "### 4.1. Run calculation\n",
    " \n",
    "__run()__ Runs the calculation using the current object attribute values or supplied parameters. Status after running will be either \"finished\" or \"error\".\n",
    "        \n",
    "- __params__ (*dict, str or file-like object, optional*) The key-value parameter file or dict of associated values to read in.  If not given, will run based on the current object attribute values.\n",
    "- __newkey__ (*bool, optional*) If True, then the calculation's key and name will be replaced with a new UUID4.  This allows for iterations on previous runs to be uniquely labeled.  Default value is False.\n",
    "- __results_json__ (*bool, optional*) If True, then a \"results.json\" file will be generated following the run.\n",
    "- __verbose__ (*bool, optional*) If True, a message relating to the calculation's status will be printed upon completion.  Default value is False."
   ]
  },
  {
   "cell_type": "code",
   "execution_count": 7,
   "id": "9e6d6e06",
   "metadata": {},
   "outputs": [
    {
     "name": "stdout",
     "output_type": "stream",
     "text": [
      "Calculation finished successfully\n"
     ]
    }
   ],
   "source": [
    "calculation.run(verbose=True)"
   ]
  },
  {
   "cell_type": "markdown",
   "id": "9fad797d",
   "metadata": {},
   "source": [
    "### 4.2. Results attributes\n",
    "\n",
    "- __isolated_atom_energy__ (*dict*) contains the computed isolated atom energies for each of the potential's symbol models.  "
   ]
  },
  {
   "cell_type": "code",
   "execution_count": 8,
   "id": "9f6ed137",
   "metadata": {},
   "outputs": [
    {
     "name": "stdout",
     "output_type": "stream",
     "text": [
      "Ni -3.0970029925997e-11 eV\n"
     ]
    }
   ],
   "source": [
    "energy_unit = 'eV'\n",
    "for symbol, energy in calculation.isolated_atom_energy.items():\n",
    "    print(symbol, uc.get_in_units(energy, energy_unit), energy_unit)"
   ]
  },
  {
   "cell_type": "markdown",
   "id": "093b2c24",
   "metadata": {},
   "source": [
    "### 4.3. Output as JSON/XML"
   ]
  },
  {
   "cell_type": "code",
   "execution_count": 9,
   "id": "a4eef517",
   "metadata": {},
   "outputs": [
    {
     "name": "stdout",
     "output_type": "stream",
     "text": [
      "{\n",
      "    \"calculation-isolated-atom\": {\n",
      "        \"key\": \"2f434d6a-ee16-42d9-a451-6f658429de8b\",\n",
      "        \"calculation\": {\n",
      "            \"iprPy-version\": \"0.11.2\",\n",
      "            \"atomman-version\": \"1.4.3\",\n",
      "            \"LAMMPS-version\": \"3 Mar 2020\",\n",
      "            \"script\": \"calc_isolated_atom\",\n",
      "            \"branch\": \"main\"\n",
      "        },\n",
      "        \"potential-LAMMPS\": {\n",
      "            \"key\": \"a7c9b786-5aa7-481b-86eb-7e4edd9cec02\",\n",
      "            \"id\": \"1999--Mishin-Y--Ni--LAMMPS--ipr1\",\n",
      "            \"potential\": {\n",
      "                \"key\": \"81adb388-59eb-4f49-88bf-6f06a1343fae\",\n",
      "                \"id\": \"1999--Mishin-Y-Farkas-D-Mehl-M-J-Papaconstantopoulos-D-A--Ni\"\n",
      "            }\n",
      "        },\n",
      "        \"isolated-atom-energy\": {\n",
      "            \"symbol\": \"Ni\",\n",
      "            \"energy\": {\n",
      "                \"value\": -3.0970029925997e-11,\n",
      "                \"unit\": \"eV\"\n",
      "            }\n",
      "        }\n",
      "    }\n",
      "}\n"
     ]
    }
   ],
   "source": [
    "calculation.build_model()\n",
    "print(calculation.model.json(indent=4))"
   ]
  },
  {
   "cell_type": "markdown",
   "id": "9b044782",
   "metadata": {},
   "source": [
    "   "
   ]
  }
 ],
 "metadata": {
  "kernelspec": {
   "display_name": "Python 3 (ipykernel)",
   "language": "python",
   "name": "python3"
  },
  "language_info": {
   "codemirror_mode": {
    "name": "ipython",
    "version": 3
   },
   "file_extension": ".py",
   "mimetype": "text/x-python",
   "name": "python",
   "nbconvert_exporter": "python",
   "pygments_lexer": "ipython3",
   "version": "3.7.4"
  }
 },
 "nbformat": 4,
 "nbformat_minor": 5
}
