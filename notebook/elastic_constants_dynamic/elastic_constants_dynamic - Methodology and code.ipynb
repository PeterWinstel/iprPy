{
 "cells": [
  {
   "cell_type": "markdown",
   "metadata": {},
   "source": [
    "# elastic_constants_static - Methodology and code"
   ]
  },
  {
   "cell_type": "markdown",
   "metadata": {},
   "source": [
    "__Python imports__\n",
    "\n",
    "- [numpy](http://www.numpy.org/)\n",
    "- [IPython](https://ipython.org)\n",
    "- [atomman](https://github.com/usnistgov/atomman)\n",
    "- [iprPy](https://github.com/usnistgov/iprPy)"
   ]
  },
  {
   "cell_type": "code",
   "execution_count": 1,
   "metadata": {},
   "outputs": [
    {
     "name": "stdout",
     "output_type": "stream",
     "text": [
      "Notebook last executed on 2024-05-02 using iprPy version 0.11.7\n"
     ]
    }
   ],
   "source": [
    "# Standard library imports\n",
    "from pathlib import Path\n",
    "import shutil\n",
    "import datetime\n",
    "from copy import deepcopy\n",
    "from math import floor\n",
    "from typing import Optional, Tuple\n",
    "import random\n",
    "\n",
    "# http://www.numpy.org/\n",
    "import numpy as np\n",
    "\n",
    "# https://ipython.org/\n",
    "from IPython.display import display, Markdown\n",
    "\n",
    "# https://github.com/usnistgov/atomman \n",
    "import atomman as am\n",
    "import atomman.lammps as lmp\n",
    "import atomman.unitconvert as uc\n",
    "from atomman.tools import filltemplate\n",
    "\n",
    "# https://github.com/usnistgov/iprPy\n",
    "import iprPy\n",
    "from iprPy.tools import read_calc_file\n",
    "\n",
    "print('Notebook last executed on', datetime.date.today(), 'using iprPy version', iprPy.__version__)"
   ]
  },
  {
   "cell_type": "markdown",
   "metadata": {},
   "source": [
    "## 1. Load calculation and view description\n",
    "\n",
    "### 1.1. Load the calculation"
   ]
  },
  {
   "cell_type": "code",
   "execution_count": 2,
   "metadata": {},
   "outputs": [],
   "source": [
    "# Load the calculation being demoed\n",
    "calculation = iprPy.load_calculation('elastic_constants_dynamic')"
   ]
  },
  {
   "cell_type": "markdown",
   "metadata": {},
   "source": [
    "### 1.2. Display calculation description and theory"
   ]
  },
  {
   "cell_type": "code",
   "execution_count": 3,
   "metadata": {},
   "outputs": [
    {
     "data": {
      "text/markdown": [
       "# elastic_constants_dynamic calculation style\n",
       "\n",
       "**Lucas M. Hale**, [lucas.hale@nist.gov](mailto:lucas.hale@nist.gov?Subject=ipr-demo), *Materials Science and Engineering Division, NIST*.\n",
       "\n",
       "## Introduction\n",
       "\n",
       "The elastic_constants_dynamic calculation style computes the elastic constants, $C_{ij}$, for a system using the fluctuation method through computing the Born matrix.  This should provide elastic constants estimates comparable to elastic_constants_static for 0K calculations and relatively quick evaluations of elastic constants at higher temperatures.\n",
       "\n",
       "### Version notes\n",
       "\n",
       "- 2024-04-25 Calculation method based on the fluctuations/born matrix method finalized.\n",
       "\n",
       "### Additional dependencies\n",
       "\n",
       "### Disclaimers\n",
       "\n",
       "- [NIST disclaimers](http://www.nist.gov/public_affairs/disclaimer.cfm)\n",
       "- This calculation does not perform any relaxations on the box dimensions.  As the elastic constants are sensitive to both temperature and pressure, be sure to properly relax your system before passing it into this calculation.\n",
       "- Estimates of the second derivative of energy with respect to strain are computed numerically using a small strain value.  The computed elastic constants may be sensitive to the choice in strain.  The best values are obtained by strains that are large enough to overcome numerical issues with precision while small enough so that the elastic behavior is still in the linear regime.\n"
      ],
      "text/plain": [
       "<IPython.core.display.Markdown object>"
      ]
     },
     "metadata": {},
     "output_type": "display_data"
    },
    {
     "data": {
      "text/markdown": [
       "## Method and Theory\n",
       "\n",
       "This calculation method uses the [deformation–fluctuation hybrid method](https://doi.org/10.1016/j.cpc.2011.09.006) for computing elastic constants as implemented in LAMMPS under the [compute born/matrix numdiff](https://docs.lammps.org/compute_born_matrix.html) command.\n",
       "\n",
       "With the fluctuation method, the elastic constants can be estimated by computing three terms:\n",
       "\n",
       "$$ C_{ij} = C_{ij}^{Born} + C_{ij}^{fluc} + C_{ij}^{kin}$$\n",
       "\n",
       "$C_{ij}^{Born}$ is the mean of the Born matrix, which is the second derivatives of the potential energy with respect to strain\n",
       "\n",
       "$$ C_{ij}^B=\\left<\\frac{1}{V} \\frac{\\partial^2U}{\\partial\\epsilon_i\\partial\\epsilon_j} \\right>$$\n",
       "\n",
       "The LAMMPS compute born/matrix command evaluates this matrix as the simulation runs.  For the numdiff option, the calculation follows the deformation-fluctuation method and uses finite differences of the energy to approximate the derivatives.  This is done by the calculation applying linear strain fields to all atoms in the system associated with all six independent $\\epsilon_{ij}$ components in positive and negative directions allowing for an estimate of the second derivative wrt to the strains. This makes this calculation available to any interatomic potential that evaluates energies but does add a dependency of the calculation on the size of the strain used.\n",
       "\n",
       "$C_{ij}^{fluc}$ is the fluctuation (a.k.a. stress) matrix given by\n",
       "\n",
       "$$ - \\frac{V}{k_B T} \\left( \\left<\\sigma_i \\sigma_j \\right> - \\left<\\sigma_i\\right> \\left<\\sigma_j\\right> \\right), $$\n",
       "\n",
       "where $\\sigma$ is the virial stress tensor.  Note that sometimes the fluctuation term is defined without the negative included and is then subtracted from the other terms when computing $C_{ij}$.  This term is computed by regularly measuring the virial pressure of the system during the LAMMPS calculation, then computing the covariance of the values.\n",
       "\n",
       "$C_{ij}^{kin}$ is the kinetic term, which is the \"ideal gas\" contribution and only depends on temperature \n",
       "\n",
       " $$ C_{ij}^{kin} = \\frac{N k_B T}{V} ( \\delta_{ij} + (\\delta_{1i} + \\delta_{2i} + \\delta_{3i}) * (\\delta_{1j} + \\delta_{2j} + \\delta_{3j}) ), $$\n",
       "    \n",
       "where δ is the Kronecker delta. Evaluating the second part of the term, this can be simplified to\n",
       "    \n",
       " $$ C_{ij}^{kin} = \\frac{N k_B T}{V} \\Delta_{ij}, $$\n",
       "    \n",
       "where $\\Delta_{ij} = 2$ for $ij =11, 22, 33$, $\\Delta_{ij} = 1$ for $ij = 44, 55, 66$ and $\\Delta_{ij} = 0$ otherwise.    \n",
       "\n"
      ],
      "text/plain": [
       "<IPython.core.display.Markdown object>"
      ]
     },
     "metadata": {},
     "output_type": "display_data"
    }
   ],
   "source": [
    "# Display main docs and theory\n",
    "display(Markdown(calculation.maindoc))\n",
    "display(Markdown(calculation.theorydoc))"
   ]
  },
  {
   "cell_type": "markdown",
   "metadata": {},
   "source": [
    "## 2. Define calculation functions and generate files\n",
    "\n",
    "This section defines the calculation functions and associated resource files exactly as they exist inside the iprPy package.  This allows for the code used to be directly visible and modifiable by anyone looking to see how it works."
   ]
  },
  {
   "cell_type": "markdown",
   "metadata": {},
   "source": [
    "### 2.1. elastic_constants_dynamic()\n",
    "\n",
    "This is the primary function for the calculation.  The version of this function built in iprPy can be accessed by calling the calc() method of an object of the associated calculation class."
   ]
  },
  {
   "cell_type": "code",
   "execution_count": 4,
   "metadata": {},
   "outputs": [],
   "source": [
    "def elastic_constants_dynamic(lammps_command: str,\n",
    "                              system: am.System,\n",
    "                              potential: lmp.Potential,\n",
    "                              temperature: float,\n",
    "                              mpi_command: Optional[str] = None,\n",
    "                              normalized_as: str = 'triclinic',\n",
    "                              strainrange: float = 1e-6,\n",
    "                              equilsteps: int = 20000,\n",
    "                              runsteps: int = 200000,\n",
    "                              thermosteps: int = 100,\n",
    "                              randomseed: Optional[int] = None\n",
    "                              ) -> dict:\n",
    "    \"\"\"\n",
    "    Computes elastic constants for a system during dynamic simulations using\n",
    "    the LAMMPS compute born/matrix method.\n",
    "    \n",
    "    Parameters\n",
    "    ----------\n",
    "    lammps_command :str\n",
    "        Command for running LAMMPS.\n",
    "    system : atomman.System\n",
    "        The system to perform the calculation on.\n",
    "    potential : atomman.lammps.Potential\n",
    "        The LAMMPS implemented potential to use.\n",
    "    temperature : float\n",
    "        The temperature to run the calculation at.\n",
    "    mpi_command : str, optional\n",
    "        The MPI command for running LAMMPS in parallel.  If not given, LAMMPS\n",
    "        will run serially.\n",
    "    normalized_as : str, optional\n",
    "        This allows for the computed elastic constants matrix values to be\n",
    "        normalized to the symmetries expected for a specified crystal family.\n",
    "        Default value of 'triclinic' will perform no normalization.\n",
    "    strainrange : float, optional\n",
    "        The magnitude of strains to use to generate finite difference\n",
    "        approximations for the exact virial stress.  Picking a good value may\n",
    "        be dependent on the crystal structure and it is recommended to try\n",
    "        multiple different values.  Default value is 1e-6.\n",
    "    equilsteps : int, optional\n",
    "        Number of integration steps to perform prior to performing the\n",
    "        born/matrix calculation to equilibrate the system.  Default value is\n",
    "        20000.\n",
    "    runsteps : int, optional\n",
    "        Number of integration steps to perform during the born/matrix\n",
    "        calculation.  Default value is 200000.\n",
    "    thermosteps : int, optional\n",
    "        How often to output thermo values to sample the computed stress and\n",
    "        born/matrix values.\n",
    "    randomseed : int or None, optional\n",
    "        A random number seed between 1 and 9000000 to use for initializing\n",
    "        velocities and use with the langevin thermostat.  Default value of None\n",
    "        will pick a random value.\n",
    "    \n",
    "    Returns\n",
    "    -------\n",
    "    dict\n",
    "        Dictionary of results consisting of keys:\n",
    "        - **'measured_pressure'** (*float*) - The mean measured pressure of the\n",
    "          system.\n",
    "        - **'Cij_born'** (*numpy.ndarray*) - The 6x6 tensor of the Born\n",
    "          component of the Cij calculation.\n",
    "        - **'Cij_fluc'** (*numpy.ndarray*) - The 6x6 tensor of the fluctuation\n",
    "          component of the Cij calculation.\n",
    "        - **'Cij_kin'** (*numpy.ndarray*) - The 6x6 tensor of the kinetic\n",
    "          component of the Cij calculation.\n",
    "        - **'C'** (*atomman.ElasticConstants*) - The total elastic constants\n",
    "          normalized by the crystal symmetry specified.\n",
    "    \"\"\"\n",
    "    # Convert hexagonal cells to orthorhombic to avoid LAMMPS tilt issues\n",
    "    #if am.tools.ishexagonal(system.box):\n",
    "    #    system = system.rotate([[2,-1,-1,0], [0, 1, -1, 0], [0,0,0,1]])\n",
    "    \n",
    "    # Set randomseed\n",
    "    if randomseed is None: \n",
    "        randomseed = random.randint(1, 900000000)\n",
    "    \n",
    "    # Get lammps units\n",
    "    lammps_units = lmp.style.unit(potential.units)\n",
    "    \n",
    "    # Get lammps version date\n",
    "    lammps_date = lmp.checkversion(lammps_command)['date']\n",
    "\n",
    "    # Check for compatibility\n",
    "    if lammps_date < datetime.date(2022, 5, 4):\n",
    "        raise ValueError('LAMMPS from May 4, 2022 or newer required for the born/matrix calculation')\n",
    "    \n",
    "    # Define lammps variables\n",
    "    lammps_variables = {}\n",
    "    system_info = system.dump('atom_data', f='init.dat', potential=potential)\n",
    "    lammps_variables['atomman_system_pair_info'] = system_info\n",
    "    lammps_variables['temperature'] = temperature\n",
    "    lammps_variables['strainrange'] = strainrange\n",
    "    lammps_variables['equilsteps'] = equilsteps\n",
    "    lammps_variables['runsteps'] = runsteps\n",
    "    lammps_variables['thermosteps'] = thermosteps\n",
    "    lammps_variables['randomseed'] = randomseed\n",
    "    \n",
    "    timestep = lmp.style.timestep(potential.units)\n",
    "    lammps_variables['timestep'] = timestep\n",
    "    \n",
    "    # Fill in template files\n",
    "    lammps_script = 'born_matrix.in'\n",
    "    template = read_calc_file('iprPy.calculation.elastic_constants_dynamic',\n",
    "                              'born_matrix.template')\n",
    "    with open(lammps_script, 'w') as f:\n",
    "        f.write(filltemplate(template, lammps_variables, '<', '>'))\n",
    "    \n",
    "    # Run LAMMPS\n",
    "    output = lmp.run(lammps_command, script_name=lammps_script,\n",
    "                     mpi_command=mpi_command, screen=False)\n",
    "        \n",
    "    # Extract thermo data\n",
    "    thermo = output.simulations[1].thermo\n",
    "    \n",
    "    # Compute the different components of the Cij expression from thermo data\n",
    "    Cij_born = build_Cij_born(thermo, system.box.volume, lammps_units)\n",
    "    Cij_fluc = build_Cij_fluc(thermo, system.natoms, temperature,\n",
    "                              system.box.volume, lammps_units)\n",
    "    Cij_kin = build_Cij_kin(system.natoms, temperature, system.box.volume)\n",
    "    \n",
    "    C = am.ElasticConstants(Cij = Cij_born + Cij_fluc + Cij_kin).normalized_as(normalized_as)\n",
    "    \n",
    "    pressure = uc.set_in_units(thermo.Press.mean(), lammps_units['pressure'])\n",
    "    \n",
    "    results_dict = {}\n",
    "    results_dict['measured_pressure'] = pressure\n",
    "    results_dict['Cij_born'] = Cij_born\n",
    "    results_dict['Cij_fluc'] = Cij_fluc\n",
    "    results_dict['Cij_kin'] = Cij_kin\n",
    "    results_dict['C'] = C\n",
    "    \n",
    "    return results_dict"
   ]
  },
  {
   "cell_type": "markdown",
   "metadata": {},
   "source": [
    "### 2.2. build_Cij_born()"
   ]
  },
  {
   "cell_type": "code",
   "execution_count": 5,
   "metadata": {},
   "outputs": [],
   "source": [
    "def build_Cij_born(thermo, V, lammps_units):\n",
    "    \"\"\"\n",
    "    Constructs the Born component of the Cij calculation from the LAMMPS thermo\n",
    "    outputs.  The LAMMPS born/matrix outputs are the second derivatives of\n",
    "    energy wrt strains.  \n",
    "    \n",
    "        Cij_born = 1 / V * ( ∂2U / (∂ϵ_i ∂ϵ_j) ) \n",
    "    \"\"\"\n",
    "    \n",
    "    # Construct du2 matrix from mean LAMMPS outputs\n",
    "    du2 = np.empty((6,6))\n",
    "    du2[0,0] = thermo['c_born[1]'].mean()\n",
    "    du2[1,1] = thermo['c_born[2]'].mean()\n",
    "    du2[2,2] = thermo['c_born[3]'].mean()\n",
    "    du2[3,3] = thermo['c_born[4]'].mean()\n",
    "    du2[4,4] = thermo['c_born[5]'].mean()\n",
    "    du2[5,5] = thermo['c_born[6]'].mean()\n",
    "    du2[0,1] = du2[1,0] = thermo['c_born[7]'].mean()\n",
    "    du2[0,2] = du2[2,0] = thermo['c_born[8]'].mean()\n",
    "    du2[0,3] = du2[3,0] = thermo['c_born[9]'].mean()\n",
    "    du2[0,4] = du2[4,0] = thermo['c_born[10]'].mean()\n",
    "    du2[0,5] = du2[5,0] = thermo['c_born[11]'].mean()\n",
    "    du2[1,2] = du2[2,1] = thermo['c_born[12]'].mean()\n",
    "    du2[1,3] = du2[3,1] = thermo['c_born[13]'].mean()\n",
    "    du2[1,4] = du2[4,1] = thermo['c_born[14]'].mean()\n",
    "    du2[1,5] = du2[5,1] = thermo['c_born[15]'].mean()\n",
    "    du2[2,3] = du2[3,2] = thermo['c_born[16]'].mean()\n",
    "    du2[2,4] = du2[4,2] = thermo['c_born[17]'].mean()\n",
    "    du2[2,5] = du2[5,2] = thermo['c_born[18]'].mean()\n",
    "    du2[3,4] = du2[4,3] = thermo['c_born[19]'].mean()\n",
    "    du2[3,5] = du2[5,3] = thermo['c_born[20]'].mean()\n",
    "    du2[4,5] = du2[5,4] = thermo['c_born[21]'].mean()\n",
    "    du2 = uc.set_in_units(du2, lammps_units['energy'])\n",
    "    \n",
    "    # Divide by volume\n",
    "    return du2 / V"
   ]
  },
  {
   "cell_type": "markdown",
   "metadata": {},
   "source": [
    "### 2.3. build_Cij_fluc()"
   ]
  },
  {
   "cell_type": "code",
   "execution_count": 6,
   "metadata": {},
   "outputs": [],
   "source": [
    "def build_Cij_fluc(thermo, N, T, V, lammps_units):\n",
    "    \"\"\"\n",
    "    Constructs the fluctuation component of the Cij calculation from the LAMMPS\n",
    "    stress (i.e. pressure) outputs.\n",
    "    \n",
    "        C_fluc = - V / (kB T) * ( <σ_i σ_j> - <σ_i> <σ_j> )\n",
    "    \"\"\"\n",
    "    # Switch for 0K\n",
    "    if T == 0:\n",
    "        return np.zeros((6,6))\n",
    "    \n",
    "    # Extract the virial contributions to the stress tensor \n",
    "    σ = uc.set_in_units(np.array([\n",
    "        -thermo['c_virial[1]'].values,\n",
    "        -thermo['c_virial[2]'].values,\n",
    "        -thermo['c_virial[3]'].values,\n",
    "        -thermo['c_virial[4]'].values,\n",
    "        -thermo['c_virial[5]'].values,\n",
    "        -thermo['c_virial[6]'].values]), lammps_units['pressure'])\n",
    "\n",
    "    # Compute the virial stress fluctuation term\n",
    "    # cov == (<σ_i σ_j> - <σ_i> <σ_j>)\n",
    "    fluc = np.cov(σ)\n",
    "    \n",
    "    # Multipy by V / (kb T) \n",
    "    kB = uc.unit['kB']\n",
    "    return - (V / (kB * T)) * fluc"
   ]
  },
  {
   "cell_type": "markdown",
   "metadata": {},
   "source": [
    "### 2.4. build_Cij_kin()"
   ]
  },
  {
   "cell_type": "code",
   "execution_count": 7,
   "metadata": {},
   "outputs": [],
   "source": [
    "def build_Cij_kin(N, T, V):\n",
    "    \"\"\"\n",
    "    Constructs the kinetic component of the Cij calculation.\n",
    "    \n",
    "    C_kin = ( (N kB T) / V ) ( δ_ij + (δ_1i + δ_2i + δ_3i) * (δ_1j + δ_2j + δ_3j) )\n",
    "    \n",
    "    where δ is the Kronecker delta. Evaluating the second part of the term, this\n",
    "    can be simplified to\n",
    "    \n",
    "    C_kin = ( (N kB T) / V ) Δ_ij\n",
    "    \n",
    "    where Δ_ij = 2 for i = j = (1,2,3), Δ_ij = 1 for i = j = (4,5,6) and Δ_ij = 0\n",
    "    otherwise.    \n",
    "    \"\"\"\n",
    "    \n",
    "    # Build delta matrix\n",
    "    Δ = np.zeros((6,6))\n",
    "    Δ[0,0] = Δ[1,1] = Δ[2,2] = 2\n",
    "    Δ[3,3] = Δ[4,4] = Δ[5,5] = 1\n",
    "    \n",
    "    kB = uc.unit['kB']\n",
    "    return Δ * N * kB * T / V"
   ]
  },
  {
   "cell_type": "markdown",
   "metadata": {},
   "source": [
    "### 2.5. born_matrix.template file"
   ]
  },
  {
   "cell_type": "code",
   "execution_count": 8,
   "metadata": {},
   "outputs": [],
   "source": [
    "with open('born_matrix.template', 'w') as f:\n",
    "    f.write(\"\"\"# Simple LAMMPS script for running compute born/matrix for elastic constants\n",
    "\n",
    "# Specify calculation variables to fill in\n",
    "variable temperature index <temperature>\n",
    "variable equilsteps index <equilsteps>\n",
    "variable runsteps index <runsteps>\n",
    "variable thermosteps index <thermosteps>\n",
    "variable timestep index <timestep>\n",
    "variable randomseed index <randomseed>\n",
    "variable strainrange index <strainrange>\n",
    "\n",
    "# Basic system settings\n",
    "box tilt large\n",
    "\n",
    "<atomman_system_pair_info>\n",
    "\n",
    "# Thermo output definition\n",
    "thermo ${thermosteps}\n",
    "thermo_style custom step temp pe ke etotal press\n",
    "thermo_modify format float %.13e\n",
    "timestep ${timestep}\n",
    "\n",
    "# Create velocities\n",
    "velocity all create ${temperature} ${randomseed}\n",
    "\n",
    "# Define thermostat\n",
    "fix nve all nve\n",
    "fix langevin all langevin ${temperature} ${temperature} $(100.0*dt) ${randomseed}\n",
    "   \n",
    "# Equilibrium relax\n",
    "thermo_style custom step temp pe press\n",
    "run ${equilsteps}\n",
    "\n",
    "# Define virial contribution to the pressure compute\n",
    "compute virial all pressure NULL virial\n",
    "\n",
    "# Define born matrix compute\n",
    "compute born all born/matrix numdiff ${strainrange} virial\n",
    "\n",
    "thermo_style custom step temp pe press c_virial[*] c_born[*]\n",
    "thermo_modify format float %.13e\n",
    "\n",
    "run ${runsteps}\n",
    "\"\"\")"
   ]
  },
  {
   "cell_type": "markdown",
   "metadata": {},
   "source": [
    "## 3. Specify input parameters"
   ]
  },
  {
   "cell_type": "markdown",
   "metadata": {},
   "source": [
    "### 3.1. System-specific paths\n",
    "\n",
    "- __lammps_command__ is the LAMMPS command to use (required).\n",
    "- __mpi_command__ MPI command for running LAMMPS in parallel. A value of None will run simulations serially."
   ]
  },
  {
   "cell_type": "code",
   "execution_count": 9,
   "metadata": {},
   "outputs": [
    {
     "name": "stdout",
     "output_type": "stream",
     "text": [
      "LAMMPS version = 23 Jun 2022\n"
     ]
    }
   ],
   "source": [
    "lammps_command = '/home/lmh1/LAMMPS/2022-06-23/src/lmp_mpi'\n",
    "mpi_command = 'mpiexec -n 8'\n",
    "\n",
    "# Optional: check that LAMMPS works and show its version \n",
    "print(f'LAMMPS version = {am.lammps.checkversion(lammps_command)[\"version\"]}')"
   ]
  },
  {
   "cell_type": "markdown",
   "metadata": {},
   "source": [
    "### 3.2. Interatomic potential\n",
    "\n",
    "- __potential_name__ gives the name of the potential_LAMMPS reference record in the iprPy library to use for the calculation.  \n",
    "- __potential__ is an atomman.lammps.Potential object (required)."
   ]
  },
  {
   "cell_type": "code",
   "execution_count": 10,
   "metadata": {},
   "outputs": [],
   "source": [
    "potential_name = '1999--Mishin-Y--Ni--LAMMPS--ipr1'\n",
    "\n",
    "# Retrieve potential and parameter file(s) using atomman\n",
    "potential = am.load_lammps_potential(id=potential_name, getfiles=True)"
   ]
  },
  {
   "cell_type": "markdown",
   "metadata": {},
   "source": [
    "### 3.3. Initial unit cell system\n",
    "\n",
    "- __ucell__ is an atomman.System representing a fundamental unit cell of the system (required).  Here, this is generated using the FCC prototype and lattice constants for 300K."
   ]
  },
  {
   "cell_type": "code",
   "execution_count": 11,
   "metadata": {},
   "outputs": [
    {
     "name": "stdout",
     "output_type": "stream",
     "text": [
      "avect =  [ 3.533,  0.000,  0.000]\n",
      "bvect =  [ 0.000,  3.533,  0.000]\n",
      "cvect =  [ 0.000,  0.000,  3.533]\n",
      "origin = [ 0.000,  0.000,  0.000]\n",
      "natoms = 4\n",
      "natypes = 1\n",
      "symbols = ('Ni',)\n",
      "pbc = [ True  True  True]\n",
      "per-atom properties = ['atype', 'pos']\n",
      "     id |   atype |  pos[0] |  pos[1] |  pos[2]\n",
      "      0 |       1 |   0.000 |   0.000 |   0.000\n",
      "      1 |       1 |   0.000 |   1.766 |   1.766\n",
      "      2 |       1 |   1.766 |   0.000 |   1.766\n",
      "      3 |       1 |   1.766 |   1.766 |   0.000\n"
     ]
    }
   ],
   "source": [
    "# Create ucell by loading prototype record\n",
    "ucell = am.load('prototype', 'A1--Cu--fcc', a=3.533, symbols='Ni')\n",
    "\n",
    "print(ucell)"
   ]
  },
  {
   "cell_type": "markdown",
   "metadata": {},
   "source": [
    "### 3.4. System modifications\n",
    "\n",
    "- __sizemults__ list of three integers specifying how many times the ucell vectors of $a$, $b$ and $c$ are replicated in creating system.\n",
    "\n",
    "- __system__ is an atomman.System to perform the scan on (required). "
   ]
  },
  {
   "cell_type": "code",
   "execution_count": 12,
   "metadata": {},
   "outputs": [
    {
     "name": "stdout",
     "output_type": "stream",
     "text": [
      "# of atoms in system = 4000\n"
     ]
    }
   ],
   "source": [
    "sizemults = [10, 10, 10]\n",
    "\n",
    "# Generate system by supersizing ucell\n",
    "system = ucell.supersize(*sizemults)\n",
    "print('# of atoms in system =', system.natoms)"
   ]
  },
  {
   "cell_type": "markdown",
   "metadata": {},
   "source": [
    "### 3.5. Calculation-specific parameters\n",
    "\n",
    "- __temperature__ is the temperature to run the calculation at.\n",
    "\n",
    "- __normalized_as__ allows for the computed elastic constants matrix values to be normalized to the symmetries expected for a specified crystal family.  Default value of 'triclinic' will perform no normalization.\n",
    "\n",
    "- __strainrange__ is the magnitude of strains to use to generate finite difference approximations for the exact virial stress.  Picking a good value may be dependent on the crystal structure and it is recommended to try multiple different values.  Default value is 1e-6.\n",
    "\n",
    "- __equilsteps__ is the number of integration steps to perform prior to performing the born/matrix calculation to equilibrate the system.  Default value is 20000.\n",
    "\n",
    "- __runsteps__ is the number of integration steps to perform during the born/matrix calculation.  Default value is 200000.\n",
    "\n",
    "- __thermosteps__ indicates often to output thermo values to sample the computed stress and born/matrix values.\n",
    "\n",
    "- __randomseed__ is a random number seed between 1 and 9000000 to use for initializing velocities and use with the langevin thermostat.  Default value of None will pick a random value."
   ]
  },
  {
   "cell_type": "code",
   "execution_count": 13,
   "metadata": {},
   "outputs": [],
   "source": [
    "temperature = 300.0\n",
    "normalized_as = 'cubic'\n",
    "strainrange = 1e-6\n",
    "equilsteps = 20000\n",
    "runsteps = 200000\n",
    "thermosteps = 100\n",
    "randomseed = None"
   ]
  },
  {
   "cell_type": "markdown",
   "metadata": {},
   "source": [
    "## 4. Run calculation and view results\n",
    "\n",
    "### 4.1. Run calculation\n",
    "\n",
    "All primary calculation method functions take a series of inputs and return a dictionary of outputs."
   ]
  },
  {
   "cell_type": "code",
   "execution_count": 14,
   "metadata": {},
   "outputs": [
    {
     "name": "stdout",
     "output_type": "stream",
     "text": [
      "dict_keys(['measured_pressure', 'Cij_born', 'Cij_fluc', 'Cij_kin', 'C'])\n"
     ]
    }
   ],
   "source": [
    "results_dict = elastic_constants_dynamic(lammps_command, system, potential, temperature,\n",
    "                                         mpi_command=mpi_command,\n",
    "                                         normalized_as=normalized_as,\n",
    "                                         strainrange=strainrange,\n",
    "                                         equilsteps=equilsteps,\n",
    "                                         runsteps=runsteps,\n",
    "                                         thermosteps=thermosteps,\n",
    "                                         randomseed=randomseed)\n",
    "print(results_dict.keys())"
   ]
  },
  {
   "cell_type": "markdown",
   "metadata": {},
   "source": [
    "### 4.2. Report results\n",
    "\n",
    "Values returned in the results_dict:\n",
    "\n",
    "- **'measured_pressure'** (*float*) - The mean measured pressure of the system.\n",
    "- **'Cij_born'** (*numpy.ndarray*) - The 6x6 tensor of the Born component of the Cij calculation.\n",
    "- **'Cij_fluc'** (*numpy.ndarray*) - The 6x6 tensor of the fluctuation component of the Cij calculation.\n",
    "- **'Cij_kin'** (*numpy.ndarray*) - The 6x6 tensor of the kinetic component of the Cij calculation.\n",
    "- **'C'** (*atomman.ElasticConstants*) - The total elastic constants normalized by the crystal symmetry specified."
   ]
  },
  {
   "cell_type": "code",
   "execution_count": 15,
   "metadata": {},
   "outputs": [
    {
     "name": "stdout",
     "output_type": "stream",
     "text": [
      "Mean pressure of the system (GPa) =\n",
      "0.003485320394648577\n"
     ]
    }
   ],
   "source": [
    "pressure_unit = 'GPa'\n",
    "\n",
    "print(f'Mean pressure of the system ({pressure_unit}) =')\n",
    "print(uc.get_in_units(results_dict['measured_pressure'], pressure_unit))"
   ]
  },
  {
   "cell_type": "code",
   "execution_count": 16,
   "metadata": {},
   "outputs": [
    {
     "name": "stdout",
     "output_type": "stream",
     "text": [
      "Born components of Cij (GPa) =\n",
      "[ 305.8850  177.2106  177.1867    0.0005    0.0069    0.0029]\n",
      "[ 177.2106  305.9314  177.1932    0.0096   -0.0016   -0.0006]\n",
      "[ 177.1867  177.1932  305.8777    0.0067    0.0086   -0.0010]\n",
      "[   0.0005    0.0096    0.0067  152.8324   -0.0011   -0.0016]\n",
      "[   0.0069   -0.0016    0.0086   -0.0011  152.8254    0.0005]\n",
      "[   0.0029   -0.0006   -0.0010   -0.0016    0.0005  152.8496]\n",
      "\n",
      "Fluctuation components of Cij (GPa) =\n",
      "[ -12.3272   -4.7662   -4.5842   -0.1155    0.2583    0.0348]\n",
      "[  -4.7662  -12.8352   -4.3319    0.0205    0.1311    0.2874]\n",
      "[  -4.5842   -4.3319  -12.6677   -0.0054    0.0794    0.4007]\n",
      "[  -0.1155    0.0205   -0.0054   -6.1544    0.0148    0.1186]\n",
      "[   0.2583    0.1311    0.0794    0.0148   -6.1700    0.2538]\n",
      "[   0.0348    0.2874    0.4007    0.1186    0.2538   -6.1052]\n",
      "\n",
      "Kinetic components of Cij (GPa) =\n",
      "[   0.7514    0.0000    0.0000    0.0000    0.0000    0.0000]\n",
      "[   0.0000    0.7514    0.0000    0.0000    0.0000    0.0000]\n",
      "[   0.0000    0.0000    0.7514    0.0000    0.0000    0.0000]\n",
      "[   0.0000    0.0000    0.0000    0.3757    0.0000    0.0000]\n",
      "[   0.0000    0.0000    0.0000    0.0000    0.3757    0.0000]\n",
      "[   0.0000    0.0000    0.0000    0.0000    0.0000    0.3757]\n"
     ]
    }
   ],
   "source": [
    "print('Born components of Cij ('+pressure_unit+') =')\n",
    "for Ci in uc.get_in_units(results_dict['Cij_born'], pressure_unit):\n",
    "    print('[%9.4f %9.4f %9.4f %9.4f %9.4f %9.4f]' % tuple(Ci))\n",
    "print()\n",
    "\n",
    "print('Fluctuation components of Cij ('+pressure_unit+') =')\n",
    "for Ci in uc.get_in_units(results_dict['Cij_fluc'], pressure_unit):\n",
    "    print('[%9.4f %9.4f %9.4f %9.4f %9.4f %9.4f]' % tuple(Ci))  \n",
    "print()\n",
    "\n",
    "print('Kinetic components of Cij ('+pressure_unit+') =')\n",
    "for Ci in uc.get_in_units(results_dict['Cij_kin'], pressure_unit):\n",
    "    print('[%9.4f %9.4f %9.4f %9.4f %9.4f %9.4f]' % tuple(Ci))  "
   ]
  },
  {
   "cell_type": "markdown",
   "metadata": {},
   "source": [
    "The returned C ElasticConstants object is the elastic constants normalized by the specified crystal family symmetry."
   ]
  },
  {
   "cell_type": "code",
   "execution_count": 17,
   "metadata": {},
   "outputs": [
    {
     "name": "stdout",
     "output_type": "stream",
     "text": [
      "Normalized Cij (GPa) =\n",
      "[ 294.0394  172.6361  172.6361    0.0000    0.0000    0.0000]\n",
      "[ 172.6361  294.0394  172.6361    0.0000    0.0000    0.0000]\n",
      "[ 172.6361  172.6361  294.0394    0.0000    0.0000    0.0000]\n",
      "[   0.0000    0.0000    0.0000  147.0683    0.0000    0.0000]\n",
      "[   0.0000    0.0000    0.0000    0.0000  147.0683    0.0000]\n",
      "[   0.0000    0.0000    0.0000    0.0000    0.0000  147.0683]\n"
     ]
    }
   ],
   "source": [
    "print('Normalized Cij ('+pressure_unit+') =')\n",
    "for Ci in uc.get_in_units(results_dict['C'].Cij, pressure_unit):\n",
    "    print('[%9.4f %9.4f %9.4f %9.4f %9.4f %9.4f]' % tuple(Ci))"
   ]
  },
  {
   "cell_type": "markdown",
   "metadata": {},
   "source": [
    "To see the unnormalized Cij values, either run with normalized_as = None or 'triclinic', or simply add the three individual components."
   ]
  },
  {
   "cell_type": "code",
   "execution_count": 18,
   "metadata": {},
   "outputs": [
    {
     "name": "stdout",
     "output_type": "stream",
     "text": [
      "Unnormalized Cij (GPa) =\n",
      "[ 294.3091  172.4444  172.6025   -0.1150    0.2652    0.0377]\n",
      "[ 172.4444  293.8476  172.8613    0.0301    0.1295    0.2869]\n",
      "[ 172.6025  172.8613  293.9614    0.0013    0.0881    0.3997]\n",
      "[  -0.1150    0.0301    0.0013  147.0537    0.0137    0.1170]\n",
      "[   0.2652    0.1295    0.0881    0.0137  147.0311    0.2543]\n",
      "[   0.0377    0.2869    0.3997    0.1170    0.2543  147.1200]\n"
     ]
    }
   ],
   "source": [
    "Cij_raw = results_dict['Cij_born'] + results_dict['Cij_fluc'] + results_dict['Cij_kin']\n",
    "print('Unnormalized Cij ('+pressure_unit+') =')\n",
    "for Ci in uc.get_in_units(Cij_raw, pressure_unit):\n",
    "    print('[%9.4f %9.4f %9.4f %9.4f %9.4f %9.4f]' % tuple(Ci))"
   ]
  },
  {
   "cell_type": "markdown",
   "metadata": {},
   "source": [
    " "
   ]
  }
 ],
 "metadata": {
  "kernelspec": {
   "display_name": "Python 311",
   "language": "python",
   "name": "py11"
  },
  "language_info": {
   "codemirror_mode": {
    "name": "ipython",
    "version": 3
   },
   "file_extension": ".py",
   "mimetype": "text/x-python",
   "name": "python",
   "nbconvert_exporter": "python",
   "pygments_lexer": "ipython3",
   "version": "3.11.5"
  }
 },
 "nbformat": 4,
 "nbformat_minor": 4
}
