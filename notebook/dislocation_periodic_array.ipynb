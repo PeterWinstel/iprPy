{
 "cells": [
  {
   "cell_type": "markdown",
   "metadata": {},
   "source": [
    "# dislocation_periodic_array calculation style\n",
    "\n",
    "**Lucas M. Hale**, [lucas.hale@nist.gov](mailto:lucas.hale@nist.gov?Subject=ipr-demo), *Materials Science and Engineering Division, NIST*.\n",
    "\n",
    "Description updated: 2019-07-26\n",
    "\n",
    "## Introduction\n",
    "\n",
    "The dislocation_periodic_array calculation constructs an atomic system with a periodic array of dislocations configuration.  A single dislocation is inserted into an otherwise perfect crystal, and the system is kept periodic in the two system box directions that are within the dislocation's slip plane.  The system is then statically relaxed with the atoms at the boundary perpendicular to the slip plane held fixed.  The generated system can then be used by the other \"dislocation_periodic_array_*\" calculations for examining the slip response of a dislocation to applied stresses or strain rates.\n",
    "\n",
    "### Version notes\n",
    "\n",
    "### Additional dependencies\n",
    "\n",
    "### Disclaimers\n",
    "\n",
    "- [NIST disclaimers](http://www.nist.gov/public_affairs/disclaimer.cfm)\n",
    "- This calculation was designed to be general enough to properly generate a dislocation for any crystal system, but has so far only been tested with cubic systems.  The resulting system should be carefully examined if the base system in which the dislocation is inserted is not orthorhombic.  In particular, the method may need adjusting if the $\\vec{c}$ box vector has a large $y$ component.\n"
   ]
  },
  {
   "cell_type": "markdown",
   "metadata": {},
   "source": [
    "## Method and Theory\n",
    "\n",
    "### System orientation considerations\n",
    "\n",
    "Properly constructing a periodic array of dislocations atomic configuration requires careful consideration of dislocation solutions and atomic system boundaries.  Solutions for straight dislocations based on elasticity often follow the convention of using a Cartesian system ($x', y', z'$) in which the dislocation line is oriented along the $z'$-axis, and the slip plane taken to be the $y'=0$ plane. The dislocation's Burgers vector, $\\vec{b}$, is then in the $x'z'$-plane, with edge component in the $x'$-direction and screw component in the $z'$-direction.  When the dislocation slips, the dislocation line will move in the $x'$-direction.\n",
    "\n",
    "For any such dislocation solution, there will be a shearing along the slip plane resulting in disregistry, i.e. a relative displacement between the top and bottom halves.  This disregistry has limits such that it is $0$ for $x' \\to -\\infty$ and $\\vec{b}$ for $x' \\to +\\infty$.\n",
    "\n",
    "Within an atomic system, the dislocation line should be aligned with one of the system's box vectors making the dislocation infinitely long and initially perfectly straight.  The slip plane can then be defined as containing that box vector and another one.  This results in the third box vector being the only one with a component parallel to the slip plane's normal.\n",
    "\n",
    "For LAMMPS-based simulations, the most convenient orientation to use is to align the dislocation with the $\\vec{a}$ box vector, and to define the slip plane as containing both $\\vec{a}$ and $\\vec{b}$.  Given the limits that LAMMPS places on how system boxes can be defined, this results in favorable alignment of the system to the LAMMPS Cartesian system ($x, y, z$). The dislocation line will be along the $x$-axis, the slip plane normal parallel to the $z$-axis, and dislocation motion will be in the $y$ direction. Thus, the LAMMPS coordinates corresponds to a rotation of the theory coordinates such that $x'=y, y'=z, z'=x$.\n",
    "\n",
    "### Linear displacements solution\n",
    "\n",
    "The simplest way to insert a dislocation is to cut the system in half along the slip plane and apply equal but opposite linear displacements, $\\vec{u}$, to the two halves with end conditions\n",
    "\n",
    "- $\\vec{u}(y=-\\frac{Ly}{2}) = 0$\n",
    "- $\\vec{u}(y=\\frac{Ly}{2}) = \\pm \\frac{\\vec{b}}{2}$\n",
    "\n",
    "Applying these displacements results in a disregistry along the slip plane that ranges from $0$ to $\\vec{b}$.  While the two $y$ boundaries of the system both correspond to a perfect crystal, they are misaligned from each other by $\\frac{\\vec{b}}{2}$.  A coherent periodic boundary along the $\\vec{b}$ box vector can be established by adding or subtracting $\\frac{\\vec{b}}{2}$ from $\\vec{b}$.  \n",
    "\n",
    "Note that with dislocations containing an edge component, a half-plane of atoms either needs to be inserted or removed to ensure boundary compatibility. Here, this is accomplished by always shifting $\\vec{b}$ to be shorter in the $y$ direction, and removing excess atoms by identifying (near) duplicates.\n",
    "\n",
    "### Using dislocation solutions\n",
    "\n",
    "A slightly more complicated, but ultimately more efficient, way of creating a periodic array of dislocations system is to combine the linear displacements solultion above with a more accurate linear elastic dislocation solution.  The linear solution is used for the atoms at the free surfaces in the $z$ direction, and for ensuring periodicity across the $\\vec{b}$ box vector direction.  The linear elastic dislocation solution is then used for atoms in the middle of the system to construct an initial dislocation.\n"
   ]
  },
  {
   "cell_type": "markdown",
   "metadata": {},
   "source": [
    "## Demonstration"
   ]
  },
  {
   "cell_type": "markdown",
   "metadata": {},
   "source": [
    "### 1. Setup"
   ]
  },
  {
   "cell_type": "markdown",
   "metadata": {},
   "source": [
    "#### 1.1. Library imports"
   ]
  },
  {
   "cell_type": "markdown",
   "metadata": {},
   "source": [
    "Import libraries needed by the calculation. The external libraries used are:\n",
    "\n",
    "- [numpy](http://www.numpy.org/)\n",
    "\n",
    "- [DataModelDict](https://github.com/usnistgov/DataModelDict)\n",
    "\n",
    "- [atomman](https://github.com/usnistgov/atomman)\n",
    "\n",
    "- [iprPy](https://github.com/usnistgov/iprPy)"
   ]
  },
  {
   "cell_type": "code",
   "execution_count": 1,
   "metadata": {},
   "outputs": [
    {
     "name": "stdout",
     "output_type": "stream",
     "text": [
      "Notebook last executed on 2020-04-01 using iprPy version 0.10.0\n"
     ]
    }
   ],
   "source": [
    "# Standard library imports\n",
    "from pathlib import Path\n",
    "import os\n",
    "import sys\n",
    "import uuid\n",
    "import shutil\n",
    "import random\n",
    "import datetime\n",
    "from copy import deepcopy\n",
    "\n",
    "# http://www.numpy.org/\n",
    "import numpy as np \n",
    "\n",
    "# https://matplotlib.org/\n",
    "import matplotlib.pyplot as plt\n",
    "%matplotlib inline\n",
    "\n",
    "# https://github.com/usnistgov/DataModelDict \n",
    "from DataModelDict import DataModelDict as DM\n",
    "\n",
    "# https://github.com/usnistgov/atomman \n",
    "import atomman as am\n",
    "import atomman.lammps as lmp\n",
    "import atomman.unitconvert as uc\n",
    "\n",
    "# https://github.com/usnistgov/iprPy\n",
    "import iprPy\n",
    "\n",
    "print('Notebook last executed on', datetime.date.today(), 'using iprPy version', iprPy.__version__)"
   ]
  },
  {
   "cell_type": "markdown",
   "metadata": {},
   "source": [
    "#### 1.2. Default calculation setup"
   ]
  },
  {
   "cell_type": "code",
   "execution_count": 7,
   "metadata": {},
   "outputs": [],
   "source": [
    "# Specify calculation style\n",
    "calc_style = 'dislocation_periodic_array'\n",
    "\n",
    "# If workingdir is already set, then do nothing (already in correct folder)\n",
    "try:\n",
    "    workingdir = workingdir\n",
    "\n",
    "# Change to workingdir if not already there\n",
    "except:\n",
    "    workingdir = Path('calculationfiles', calc_style)\n",
    "    if not workingdir.is_dir():\n",
    "        workingdir.mkdir(parents=True)\n",
    "    os.chdir(workingdir)\n",
    "    \n",
    "# Initialize connection to library\n",
    "library = iprPy.Library()"
   ]
  },
  {
   "cell_type": "markdown",
   "metadata": {},
   "source": [
    "### 2. Assign values for the calculation's run parameters"
   ]
  },
  {
   "cell_type": "markdown",
   "metadata": {},
   "source": [
    "#### 2.1. Specify system-specific paths\n",
    "\n",
    "- __lammps_command__ (required) is the LAMMPS command to use.\n",
    "\n",
    "- __mpi_command__ MPI command for running LAMMPS in parallel. A value of None will run simulations serially."
   ]
  },
  {
   "cell_type": "code",
   "execution_count": 8,
   "metadata": {},
   "outputs": [],
   "source": [
    "lammps_command = 'C:/Program Files/LAMMPS/2020-03-03/bin/lmp_serial.exe'\n",
    "mpi_command = None"
   ]
  },
  {
   "cell_type": "markdown",
   "metadata": {},
   "source": [
    "#### 2.2. Load interatomic potential\n",
    "\n",
    "- __potential_name__ gives the name of the potential_LAMMPS reference record in the iprPy library to use for the calculation.  \n",
    "\n",
    "- __potential_file__ gives the path to the potential_LAMMPS reference record to use.  Here, this parameter is automatically generated using potential_name and librarydir.\n",
    "\n",
    "- __potential_dir__ gives the path for the folder containing the artifacts associated with the potential (i.e. eam.alloy file).  Here, this parameter is automatically generated using potential_name and librarydir.\n",
    "\n",
    "- __potential__ is an atomman.lammps.Potential object (required).  Here, this parameter is automatically generated from potential_file and potential_dir."
   ]
  },
  {
   "cell_type": "code",
   "execution_count": 9,
   "metadata": {},
   "outputs": [
    {
     "name": "stdout",
     "output_type": "stream",
     "text": [
      "1 matching LAMMPS potentials found from remote database\n",
      "Files for 0 LAMMPS potentials copied\n",
      "Files for 1 LAMMPS potentials downloaded\n"
     ]
    }
   ],
   "source": [
    "potential_name = '2016--Wilson-S-R--Mg--LAMMPS--ipr1'\n",
    "\n",
    "# Retrieve potential and parameter file(s)\n",
    "potential = library.get_potential(id=potential_name, get_files=True, verbose=True)"
   ]
  },
  {
   "cell_type": "markdown",
   "metadata": {},
   "source": [
    "#### 2.3. Load initial unit cell system\n",
    "\n",
    "- __prototype_name__ gives the name of the crystal_prototype reference record in the iprPy library to load. \n",
    "\n",
    "- __symbols__ is a list of the potential's elemental model symbols to associate with the unique atom types of the loaded system. \n",
    "\n",
    "- __box_parameters__ is a list of the a, b, c lattice constants to assign to the loaded file.\n",
    "\n",
    "- __load_file__ gives the path to the atomic configuration file to load for the ucell system.  Here, this is generated automatically using prototype_name and librarydir.\n",
    "\n",
    "- __load_style__ specifies the format of load_file.  Here, this is automatically set for crystal_prototype records.\n",
    "\n",
    "- __load_options__ specifies any other keyword options for properly loading the load_file.  Here, this is automatically set for crystal_prototype records.\n",
    "\n",
    "- __ucell__ is an atomman.System representing a fundamental unit cell of the system (required).  Here, this is generated using the load parameters and symbols."
   ]
  },
  {
   "cell_type": "code",
   "execution_count": 10,
   "metadata": {},
   "outputs": [
    {
     "name": "stdout",
     "output_type": "stream",
     "text": [
      "avect =  [ 3.185,  0.000,  0.000]\n",
      "bvect =  [-1.593,  2.759,  0.000]\n",
      "cvect =  [ 0.000,  0.000,  5.185]\n",
      "origin = [ 0.000,  0.000,  0.000]\n",
      "natoms = 2\n",
      "natypes = 1\n",
      "symbols = ('Mg',)\n",
      "pbc = [ True  True  True]\n",
      "per-atom properties = ['atype', 'pos']\n",
      "     id |   atype |  pos[0] |  pos[1] |  pos[2]\n",
      "      0 |       1 |   0.000 |   0.000 |   0.000\n",
      "      1 |       1 |   0.000 |   1.839 |   2.593\n"
     ]
    }
   ],
   "source": [
    "prototype_name = 'A3--Mg--hcp'\n",
    "symbols = ['Mg']\n",
    "box_parameters = uc.set_in_units([3.1853, 3.1853, 5.1853], 'angstrom')\n",
    "\n",
    "# Define load_file using librarydir and prototype_name\n",
    "load_file = library.get_ref(style='crystal_prototype', name=prototype_name)\n",
    "\n",
    "# Define load_style and load_options for crystal_prototype records\n",
    "load_style = 'system_model'\n",
    "load_options = {}\n",
    "\n",
    "# Create ucell by loading prototype record\n",
    "ucell = am.load(load_style, load_file, symbols=symbols, **load_options)\n",
    "\n",
    "# Rescale ucell using box_parameters\n",
    "ucell.box_set(a=box_parameters[0], b=box_parameters[1], c=box_parameters[2], gamma=120, scale=True)\n",
    "\n",
    "print(ucell)"
   ]
  },
  {
   "cell_type": "markdown",
   "metadata": {},
   "source": [
    "#### 2.4 Specify material elastic constants\n",
    "\n",
    "Simple input parameters:\n",
    "\n",
    "- __C_dict__ is a dictionary containing the unique elastic constants for the potential and crystal structure defined above. \n",
    "\n",
    "Derived parameters\n",
    "\n",
    "- __C__ is an atomman.ElasticConstants object built from C_dict."
   ]
  },
  {
   "cell_type": "code",
   "execution_count": 11,
   "metadata": {},
   "outputs": [
    {
     "name": "stdout",
     "output_type": "stream",
     "text": [
      "[[ 70.     26.742  15.35    0.      0.      0.   ]\n",
      " [ 26.742  70.     15.35    0.      0.      0.   ]\n",
      " [ 15.35   15.35   68.97    0.      0.      0.   ]\n",
      " [  0.      0.      0.    124.84    0.      0.   ]\n",
      " [  0.      0.      0.      0.    124.84    0.   ]\n",
      " [  0.      0.      0.      0.      0.     21.629]]\n"
     ]
    }
   ],
   "source": [
    "C_dict = {}\n",
    "C_dict['C11'] = uc.set_in_units(70.0, 'GPa')\n",
    "C_dict['C12'] = uc.set_in_units(26.742, 'GPa')\n",
    "C_dict['C13'] = uc.set_in_units(15.35, 'GPa')\n",
    "C_dict['C44'] = uc.set_in_units(124.84, 'GPa')\n",
    "C_dict['C33'] = uc.set_in_units(68.97, 'GPa')\n",
    "\n",
    "\n",
    "# -------------- Derived parameters -------------- #\n",
    "# Build ElasticConstants object from C_dict terms\n",
    "C = am.ElasticConstants(**C_dict)\n",
    "print(uc.get_in_units(C.Cij, 'GPa'))"
   ]
  },
  {
   "cell_type": "markdown",
   "metadata": {},
   "source": [
    "#### 2.5 Specify the defect parameters\n",
    "\n",
    "- __dislocation_name__ gives the name of the dislocation_monopole reference record in the iprPy library to use for potential. \n",
    "\n",
    "- __dislocation_file__ gives the path to a dislocation_monopole reference containing defect input parameters. Here, this is built automatically using dislocation_name and librarydir.\n",
    "\n",
    "- __dislocation_kwargs__ is a dictionary containing parameters for generating the defect. Values are extracted from the dislocation_model record and uniquely define a type of stacking fault. Included keywords are:\n",
    "\n",
    "    - __burgers__ is the crystallographic Burgers vector for the dislocation\n",
    "    \n",
    "    - __a_uvw, b_uvw, c_uvw__ specifies how to orient the system by defining the crystal vectors of ucell to place along the three system box vectors.\n",
    "    \n",
    "    - __atomshift__ is a 3D vector rigid-body shift to apply to atoms in the system. The atomshift vector is relative to the rotated unit cell's box vectors.\n",
    "    \n",
    "    - __stroh_m__ a Cartesian unit vector used by the Stroh method to define the created dislocation's orientation and type. This vector is in the dislocation's slip plane and perpendicular to the dislocation's line direction. Default value is \\[0, 1, 0\\], i.e. along the y-axis. \n",
    "    \n",
    "    - __stroh_n__ a Cartesian unit vector used by the Stroh method to define the created dislocation's orientation and type. This vector is normal to the dislocation's slip plane. Default value is \\[0, 0, 1\\], i.e. along the z-axis.\n",
    "    \n",
    "    - __lineboxvector__ the system box vector, 'a', 'b', or 'c', along which the dislocation line is placed parallel to. Default value is 'a'."
   ]
  },
  {
   "cell_type": "code",
   "execution_count": 12,
   "metadata": {},
   "outputs": [
    {
     "name": "stdout",
     "output_type": "stream",
     "text": [
      "{\n",
      "    \"dislocation\": {\n",
      "        \"key\": \"unset\", \n",
      "        \"id\": \"A3--Mg--hcp--a-3-1120--90-edge--{0001}\", \n",
      "        \"character\": \"edge\", \n",
      "        \"Burgers-vector\": \"a/3[ 1, 1, -2, 0]\", \n",
      "        \"slip-plane\": [\n",
      "            0, \n",
      "            0, \n",
      "            0, \n",
      "            1\n",
      "        ], \n",
      "        \"line-direction\": [\n",
      "            1, \n",
      "            -1, \n",
      "            0, \n",
      "            0\n",
      "        ], \n",
      "        \"system-family\": \"A3--Mg--hcp\", \n",
      "        \"calculation-parameter\": {\n",
      "            \"stroh_m\": \"0 1 0\", \n",
      "            \"stroh_n\": \"0 0 1\", \n",
      "            \"lineboxvector\": \"a\", \n",
      "            \"a_uvw\": \" 1 -1 0 0\", \n",
      "            \"b_uvw\": \"1 1 -2 0 \", \n",
      "            \"c_uvw\": \" 0 0 0 1 \", \n",
      "            \"atomshift\": \"0.00 0.00 0.05\", \n",
      "            \"burgersvector\": \"  0.333 0.333 -0.666 0\"\n",
      "        }\n",
      "    }\n",
      "}\n"
     ]
    }
   ],
   "source": [
    "dislocation_file = DM()\n",
    "dislocation_file['dislocation'] = dislparams = DM()\n",
    "\n",
    "dislparams['key'] = 'unset'\n",
    "dislparams['id'] = 'A3--Mg--hcp--a-3-1120--90-edge--{0001}'\n",
    "dislparams['character'] = 'edge'\n",
    "dislparams['Burgers-vector'] = \"a/3[ 1, 1, -2, 0]\"\n",
    "dislparams['slip-plane'] = [ 0, 0, 0, 1]\n",
    "dislparams['line-direction'] = [ 1, -1, 0, 0]\n",
    "dislparams['system-family'] = 'A3--Mg--hcp'\n",
    "dislparams['calculation-parameter'] = cp = DM()\n",
    "\n",
    "cp['stroh_m'] = '0 1 0'\n",
    "cp['stroh_n'] = '0 0 1'\n",
    "cp['lineboxvector'] = 'a'\n",
    "cp['a_uvw'] = \" 1 -1 0 0\"\n",
    "cp['b_uvw'] = \"1 1 -2 0 \"\n",
    "cp['c_uvw'] = \" 0 0 0 1 \"\n",
    "cp['atomshift'] = '0.00 0.00 0.05'\n",
    "cp['burgersvector'] = \"  0.333 0.333 -0.666 0\"\n",
    "\n",
    "print(dislocation_file.json(indent=4))"
   ]
  },
  {
   "cell_type": "code",
   "execution_count": 13,
   "metadata": {},
   "outputs": [
    {
     "name": "stdout",
     "output_type": "stream",
     "text": [
      "{\n",
      "    \"dislocation\": {\n",
      "        \"key\": \"unset\", \n",
      "        \"id\": \"A3--Mg--hcp--a-3-1120--90-edge--{0001}\", \n",
      "        \"character\": \"edge\", \n",
      "        \"Burgers-vector\": \"a/3[ 1, 1, -2, 0]\", \n",
      "        \"slip-plane\": [\n",
      "            0, \n",
      "            0, \n",
      "            0, \n",
      "            1\n",
      "        ], \n",
      "        \"line-direction\": [\n",
      "            1, \n",
      "            -1, \n",
      "            0, \n",
      "            0\n",
      "        ], \n",
      "        \"system-family\": \"A3--Mg--hcp\", \n",
      "        \"calculation-parameter\": {\n",
      "            \"stroh_m\": \"0 1 0\", \n",
      "            \"stroh_n\": \"0 0 1\", \n",
      "            \"lineboxvector\": \"a\", \n",
      "            \"a_uvw\": \" 1 -1  0\", \n",
      "            \"b_uvw\": \" 1  1  0 \", \n",
      "            \"c_uvw\": \" 0  0  1\", \n",
      "            \"atomshift\": \"0.00 0.00 0.05\", \n",
      "            \"burgersvector\": \"1 1 0\"\n",
      "        }\n",
      "    }\n",
      "}\n"
     ]
    }
   ],
   "source": [
    "dislocation_file = DM()\n",
    "dislocation_file['dislocation'] = dislparams = DM()\n",
    "\n",
    "dislparams['key'] = 'unset'\n",
    "dislparams['id'] = 'A3--Mg--hcp--a-3-1120--90-edge--{0001}'\n",
    "dislparams['character'] = 'edge'\n",
    "dislparams['Burgers-vector'] = \"a/3[ 1, 1, -2, 0]\"\n",
    "dislparams['slip-plane'] = [ 0, 0, 0, 1]\n",
    "dislparams['line-direction'] = [ 1, -1, 0, 0]\n",
    "dislparams['system-family'] = 'A3--Mg--hcp'\n",
    "dislparams['calculation-parameter'] = cp = DM()\n",
    "\n",
    "cp['stroh_m'] = '0 1 0'\n",
    "cp['stroh_n'] = '0 0 1'\n",
    "cp['lineboxvector'] = 'a'\n",
    "cp['a_uvw'] = \" 1 -1  0\"\n",
    "cp['b_uvw'] = \" 1  1  0 \"\n",
    "cp['c_uvw'] = \" 0  0  1\"\n",
    "cp['atomshift'] = '0.00 0.00 0.05'\n",
    "cp['burgersvector'] = \"1 1 0\"\n",
    "\n",
    "print(dislocation_file.json(indent=4))"
   ]
  },
  {
   "cell_type": "code",
   "execution_count": 14,
   "metadata": {},
   "outputs": [
    {
     "data": {
      "text/plain": [
       "array([ 1., -1.,  0.])"
      ]
     },
     "execution_count": 14,
     "metadata": {},
     "output_type": "execute_result"
    }
   ],
   "source": [
    "am.tools.miller.vector4to3([1, -1, 0, 0])"
   ]
  },
  {
   "cell_type": "code",
   "execution_count": 15,
   "metadata": {},
   "outputs": [
    {
     "data": {
      "text/plain": [
       "array([3., 3., 0.])"
      ]
     },
     "execution_count": 15,
     "metadata": {},
     "output_type": "execute_result"
    }
   ],
   "source": [
    "am.tools.miller.vector4to3([1, 1, -2, 0])"
   ]
  },
  {
   "cell_type": "code",
   "execution_count": 16,
   "metadata": {},
   "outputs": [
    {
     "data": {
      "text/plain": [
       "array([0., 0., 1.])"
      ]
     },
     "execution_count": 16,
     "metadata": {},
     "output_type": "execute_result"
    }
   ],
   "source": [
    "am.tools.miller.vector4to3([0, 0, 0, 1])"
   ]
  },
  {
   "cell_type": "code",
   "execution_count": 30,
   "metadata": {},
   "outputs": [
    {
     "name": "stdout",
     "output_type": "stream",
     "text": [
      "[1. 1. 0.]\n"
     ]
    }
   ],
   "source": [
    "print(am.tools.miller.vector4to3([1/3, 1/3, -2/3, 0]))"
   ]
  },
  {
   "cell_type": "code",
   "execution_count": 18,
   "metadata": {},
   "outputs": [],
   "source": [
    "#dislocation_name = 'A1--Cu--fcc--a-2-110--0-screw--{111}'\n",
    "#dislocation_name = 'A1--Cu--fcc--a-2-110--90-edge--{100}'\n",
    "#dislocation_name = 'A1--Cu--fcc--a-2-110--90-edge--{111}'\n",
    "\n",
    "# Define dislocation_fi;e using librarydir and dislocation_name\n",
    "#dislocation_file = library.get_ref(style='dislocation', name=dislocation_name)\n",
    "\n",
    "# Create dictionary of input parameters related to the defect\n",
    "inputs = {'ucell':ucell, 'dislocation_file':dislocation_file}"
   ]
  },
  {
   "cell_type": "code",
   "execution_count": 19,
   "metadata": {},
   "outputs": [
    {
     "data": {
      "text/plain": [
       "{'ucell': <atomman.core.System.System at 0x1f728900748>,\n",
       " 'dislocation_file': DataModelDict([('dislocation',\n",
       "                 DataModelDict([('key', 'unset'),\n",
       "                                ('id',\n",
       "                                 'A3--Mg--hcp--a-3-1120--90-edge--{0001}'),\n",
       "                                ('character', 'edge'),\n",
       "                                ('Burgers-vector', 'a/3[ 1, 1, -2, 0]'),\n",
       "                                ('slip-plane', [0, 0, 0, 1]),\n",
       "                                ('line-direction', [1, -1, 0, 0]),\n",
       "                                ('system-family', 'A3--Mg--hcp'),\n",
       "                                ('calculation-parameter',\n",
       "                                 DataModelDict([('stroh_m', '0 1 0'),\n",
       "                                                ('stroh_n', '0 0 1'),\n",
       "                                                ('lineboxvector', 'a'),\n",
       "                                                ('a_uvw', ' 1 -1  0'),\n",
       "                                                ('b_uvw', ' 1  1  0 '),\n",
       "                                                ('c_uvw', ' 0  0  1'),\n",
       "                                                ('atomshift',\n",
       "                                                 '0.00 0.00 0.05'),\n",
       "                                                ('burgersvector',\n",
       "                                                 '1 1 0')]))]))])}"
      ]
     },
     "execution_count": 19,
     "metadata": {},
     "output_type": "execute_result"
    }
   ],
   "source": [
    "inputs"
   ]
  },
  {
   "cell_type": "markdown",
   "metadata": {},
   "source": [
    "#### 2.6 Specify calculation-specific run parameters\n",
    "\n",
    "Simple input parameters:\n",
    "\n",
    "- __boundarywidth__ sets the minimum width of the fixed-atom boundary region. This is taken in units of the a lattice parameter of the unit cell.\n",
    "\n",
    "- __annealtemperature__ is the temperature at which to relax (anneal) the dislocation system. If annealtemperature is 0.0, then only a static relaxation will be performed. Default value is 0.0.\n",
    "\n",
    "- __annealsteps__ is the number of nvt iteration steps to perform at the given temperature.  Default value is 0 if annealtemperature is zero, 10000 otherwise.\n",
    "\n",
    "- __randomseed__ allows for the random seed used in generating initial atomic velocities for a dynamic relaxation to be specified. This is an integer between 1 and 900000000. Default value is None, which will randomly pick a number in that range.\n",
    "\n",
    "- __duplicatecutoff__ Cutoff distance to use for identifying duplicate atoms to remove.  For dislocations with an edge component, applying the displacements creates an extra half-plane of atoms that will have (nearly) identical positions with other atoms after altering the boundary conditions.  Default cutoff value is 0.5 Angstrom.\n",
    "\n",
    "- __onlyuselinear__ boolean flag. If False (default) the atoms in the middle of the system will be displaced according to an elasticity solution for a dislocation core and boundary atoms displaced by a linear gradient.  If True, all atoms are displaced by the linear gradient. \n",
    "\n",
    "- __energytolerance__ is the energy tolerance to use during the minimizations. This is unitless.\n",
    "\n",
    "- __forcetolerance__ is the force tolerance to use during the minimizations. This is in energy/length units.\n",
    "\n",
    "- __maxiterations__ is the maximum number of minimization iterations to use.\n",
    "\n",
    "- __maxevaluations__ is the maximum number of minimization evaluations to use.\n",
    "\n",
    "- __maxatommotion__ is the largest distance that an atom is allowed to move during a minimization iteration. This is in length units. "
   ]
  },
  {
   "cell_type": "code",
   "execution_count": 20,
   "metadata": {},
   "outputs": [],
   "source": [
    "boundarywidth = 3 * ucell.box.a\n",
    "\n",
    "annealtemperature = 50.0\n",
    "annealsteps = 10000\n",
    "randomseed = None\n",
    "\n",
    "duplicatecutoff = uc.set_in_units(0.5, 'angstrom')\n",
    "onlyuselinear = False\n",
    "\n",
    "energytolerance = 0.0\n",
    "forcetolerance = uc.set_in_units(1e-6, 'eV/angstrom')\n",
    "maxiterations = 10000\n",
    "maxevaluations = 100000\n",
    "maxatommotion = uc.set_in_units(0.01, 'angstrom')"
   ]
  },
  {
   "cell_type": "markdown",
   "metadata": {},
   "source": [
    "#### 2.7 Process defect input parameters \n",
    "\n",
    "Here, the defect parameters are read in and processed."
   ]
  },
  {
   "cell_type": "code",
   "execution_count": 21,
   "metadata": {},
   "outputs": [
    {
     "data": {
      "text/plain": [
       "{'ucell': <atomman.core.System.System at 0x1f728900748>,\n",
       " 'dislocation_file': DataModelDict([('dislocation',\n",
       "                 DataModelDict([('key', 'unset'),\n",
       "                                ('id',\n",
       "                                 'A3--Mg--hcp--a-3-1120--90-edge--{0001}'),\n",
       "                                ('character', 'edge'),\n",
       "                                ('Burgers-vector', 'a/3[ 1, 1, -2, 0]'),\n",
       "                                ('slip-plane', [0, 0, 0, 1]),\n",
       "                                ('line-direction', [1, -1, 0, 0]),\n",
       "                                ('system-family', 'A3--Mg--hcp'),\n",
       "                                ('calculation-parameter',\n",
       "                                 DataModelDict([('stroh_m', '0 1 0'),\n",
       "                                                ('stroh_n', '0 0 1'),\n",
       "                                                ('lineboxvector', 'a'),\n",
       "                                                ('a_uvw', ' 1 -1  0'),\n",
       "                                                ('b_uvw', ' 1  1  0 '),\n",
       "                                                ('c_uvw', ' 0  0  1'),\n",
       "                                                ('atomshift',\n",
       "                                                 '0.00 0.00 0.05'),\n",
       "                                                ('burgersvector',\n",
       "                                                 '1 1 0')]))]))]),\n",
       " 'dislocation_family': 'A3--Mg--hcp',\n",
       " 'dislocation_stroh_m': '0 1 0',\n",
       " 'dislocation_stroh_n': '0 0 1',\n",
       " 'dislocation_lineboxvector': 'a',\n",
       " 'a_uvw': ' 1 -1  0',\n",
       " 'b_uvw': ' 1  1  0 ',\n",
       " 'c_uvw': ' 0  0  1',\n",
       " 'atomshift': '0.00 0.00 0.05',\n",
       " 'dislocation_burgersvector': '1 1 0',\n",
       " 'dislocation_model': DataModelDict([('key', 'unset'),\n",
       "                ('id', 'A3--Mg--hcp--a-3-1120--90-edge--{0001}'),\n",
       "                ('character', 'edge'),\n",
       "                ('Burgers-vector', 'a/3[ 1, 1, -2, 0]'),\n",
       "                ('slip-plane', [0, 0, 0, 1]),\n",
       "                ('line-direction', [1, -1, 0, 0]),\n",
       "                ('system-family', 'A3--Mg--hcp'),\n",
       "                ('calculation-parameter',\n",
       "                 DataModelDict([('stroh_m', '0 1 0'),\n",
       "                                ('stroh_n', '0 0 1'),\n",
       "                                ('lineboxvector', 'a'),\n",
       "                                ('a_uvw', ' 1 -1  0'),\n",
       "                                ('b_uvw', ' 1  1  0 '),\n",
       "                                ('c_uvw', ' 0  0  1'),\n",
       "                                ('atomshift', '0.00 0.00 0.05'),\n",
       "                                ('burgersvector', '1 1 0')]))]),\n",
       " 'burgersvector': array([1.59265   , 2.75855072, 0.        ]),\n",
       " 'stroh_m': array([0., 1., 0.]),\n",
       " 'stroh_n': array([0., 0., 1.])}"
      ]
     },
     "execution_count": 21,
     "metadata": {},
     "output_type": "execute_result"
    }
   ],
   "source": [
    "iprPy.input.subset('dislocation').interpret(inputs)\n",
    "\n",
    "# Show inputs\n",
    "inputs"
   ]
  },
  {
   "cell_type": "markdown",
   "metadata": {},
   "source": [
    "#### 2.8. Modify system\n",
    "\n",
    "- __sizemults__ list of three sets of two integers specifying how many times the ucell vectors of $a$, $b$ and $c$ are replicated in positive and negative directions when creating system.\n",
    "\n",
    "- __a_uvw, b_uvw, c_uvw__ specifies how to orient the system by defining the crystal vectors of ucell to place along the three system box vectors.\n",
    "    \n",
    "- __atomshift__ is a 3D vector rigid-body shift to apply to atoms in the system. The atomshift vector is relative to the rotated unit cell's box vectors.\n",
    "\n",
    "- __system__ is an atomman.System to insert the dislocation into. \n",
    "\n",
    "- __axes__ specifies the transformation matrix used to rotate the ucell to the system's orientation."
   ]
  },
  {
   "cell_type": "code",
   "execution_count": 22,
   "metadata": {},
   "outputs": [
    {
     "name": "stdout",
     "output_type": "stream",
     "text": [
      "# of atoms in system = 8000\n"
     ]
    }
   ],
   "source": [
    "sizemults = '0 1 -50 50 -10 10'\n",
    "\n",
    "inputs['sizemults'] = sizemults\n",
    "iprPy.input.subset('atomman_systemmanipulate').interpret(inputs)\n",
    "\n",
    "system = inputs['initialsystem']\n",
    "print('# of atoms in system =', system.natoms)\n",
    "\n",
    "axes = inputs['transformationmatrix']"
   ]
  },
  {
   "cell_type": "code",
   "execution_count": 23,
   "metadata": {},
   "outputs": [
    {
     "name": "stdout",
     "output_type": "stream",
     "text": [
      "# of atoms in system = 8000\n"
     ]
    }
   ],
   "source": [
    "sizemults = '0 1 -50 50 -10 10'\n",
    "\n",
    "inputs['sizemults'] = sizemults\n",
    "iprPy.input.subset('atomman_systemmanipulate').interpret(inputs)\n",
    "\n",
    "system = inputs['initialsystem']\n",
    "print('# of atoms in system =', system.natoms)\n",
    "\n",
    "axes = inputs['transformationmatrix']"
   ]
  },
  {
   "cell_type": "code",
   "execution_count": 24,
   "metadata": {},
   "outputs": [
    {
     "name": "stdout",
     "output_type": "stream",
     "text": [
      "avect =  [ 5.517,  0.000,  0.000]\n",
      "bvect =  [ 0.000, 318.530,  0.000]\n",
      "cvect =  [ 0.000,  0.000, 103.706]\n",
      "origin = [ 0.000, -159.265, -51.853]\n"
     ]
    }
   ],
   "source": [
    "print(system.box)"
   ]
  },
  {
   "cell_type": "markdown",
   "metadata": {},
   "source": [
    "### 3. Define calculation function(s) and generate template LAMMPS script(s)"
   ]
  },
  {
   "cell_type": "markdown",
   "metadata": {},
   "source": [
    "#### 3.1. dislarray_relax.template"
   ]
  },
  {
   "cell_type": "code",
   "execution_count": 25,
   "metadata": {},
   "outputs": [],
   "source": [
    "with open('dislarray_relax.template', 'w') as f:\n",
    "    f.write(\"\"\"#LAMMPS input script for relaxing a periodic array of dislocations system\n",
    "\n",
    "<atomman_system_info>\n",
    "\n",
    "<atomman_pair_info>\n",
    "\n",
    "# Simulation input parameters\n",
    "variable bwidth equal <bwidth>\n",
    "\n",
    "# Derived variables\n",
    "variable topcut equal zhi-${bwidth}\n",
    "variable botcut equal zlo+${bwidth}\n",
    "\n",
    "# Define boundary groups\n",
    "region rtop block INF INF INF INF ${topcut} INF\n",
    "region rbot block INF INF INF INF INF ${botcut}\n",
    "group top region rtop\n",
    "group bot region rbot\n",
    "group mid subtract all top bot\n",
    "group bounds union top bot\n",
    "\n",
    "compute peatom all pe/atom\n",
    "\n",
    "dump first all custom <maxeval> *.dump id type x y z c_peatom\n",
    "dump_modify first format <dump_modify_format>\n",
    "thermo_style custom step pe\n",
    "\n",
    "fix boundary bounds setforce 0.0 0.0 0.0\n",
    "\n",
    "<anneal_info>\n",
    "\n",
    "min_modify dmax <dmax>\n",
    "\n",
    "minimize <etol> <ftol> <maxiter> <maxeval>\"\"\")"
   ]
  },
  {
   "cell_type": "markdown",
   "metadata": {},
   "source": [
    "#### 3.2. dislocationarray()"
   ]
  },
  {
   "cell_type": "code",
   "execution_count": 26,
   "metadata": {},
   "outputs": [],
   "source": [
    "def dislocationarray(lammps_command, system, potential, burgers,\n",
    "                     C, mpi_command=None, axes=None, m=[0,1,0], n=[0,0,1],\n",
    "                     etol=0.0, ftol=0.0, maxiter=10000, maxeval=100000, dmax=None,\n",
    "                     annealtemp=0.0, annealsteps=None, randomseed=None,\n",
    "                     bwidth=None, cutoff=None, onlyuselinear=False):\n",
    "    \"\"\"\n",
    "    Creates and relaxes a dislocation monopole system.\n",
    "    \n",
    "    Parameters\n",
    "    ----------\n",
    "    lammps_command :str\n",
    "        Command for running LAMMPS.\n",
    "    system : atomman.System\n",
    "        The bulk system to add the defect to.\n",
    "    potential : atomman.lammps.Potential\n",
    "        The LAMMPS implemented potential to use.\n",
    "    burgers : list or numpy.array of float\n",
    "        The burgers vector for the dislocation being added.\n",
    "    C : atomman.ElasticConstants\n",
    "        The system's elastic constants.\n",
    "    mpi_command : str or None, optional\n",
    "        The MPI command for running LAMMPS in parallel.  If not given, LAMMPS\n",
    "        will run serially.\n",
    "    axes : numpy.array of float or None, optional\n",
    "        The 3x3 axes used to rotate the system by during creation.  If given,\n",
    "        will be used to transform burgers and C from the standard\n",
    "        crystallographic orientations to the system's Cartesian units.\n",
    "    randomseed : int or None, optional\n",
    "        Random number seed used by LAMMPS in creating velocities and with\n",
    "        the Langevin thermostat.  Default is None which will select a\n",
    "        random int between 1 and 900000000.\n",
    "    etol : float, optional\n",
    "        The energy tolerance for the structure minimization. This value is\n",
    "        unitless. (Default is 0.0).\n",
    "    ftol : float, optional\n",
    "        The force tolerance for the structure minimization. This value is in\n",
    "        units of force. (Default is 0.0).\n",
    "    maxiter : int, optional\n",
    "        The maximum number of minimization iterations to use (default is \n",
    "        10000).\n",
    "    maxeval : int, optional\n",
    "        The maximum number of minimization evaluations to use (default is \n",
    "        100000).\n",
    "    dmax : float, optional\n",
    "        The maximum distance in length units that any atom is allowed to relax\n",
    "        in any direction during a single minimization iteration (default is\n",
    "        0.01 Angstroms).\n",
    "    annealtemp : float, optional\n",
    "        The temperature to perform a dynamic relaxation at. Default is 0.0,\n",
    "        which will skip the dynamic relaxation.\n",
    "    annealsteps : int, optional\n",
    "        The number of time steps to run the dynamic relaxation for.  Default\n",
    "        is None, which will run for 10000 steps if annealtemp is not 0.0. \n",
    "    bshape : str, optional\n",
    "        The shape to make the boundary region.  Options are 'circle' and\n",
    "        'rect' (default is 'circle').\n",
    "    cutoff : float, optional\n",
    "        Cutoff distance to use for identifying duplicate atoms to remove.\n",
    "        For dislocations with an edge component, applying the displacements\n",
    "        creates an extra half-plane of atoms that will have (nearly) identical\n",
    "        positions with other atoms after altering the boundary conditions.\n",
    "        Default cutoff value is 0.5 Angstrom.\n",
    "    useonlylinear : bool, optional\n",
    "        If False (default) the atoms in the middle of the system will be\n",
    "        displaced according to an elasticity solution for a dislocation core\n",
    "        and boundary atoms displaced by a linear gradient.  If True, all \n",
    "        atoms are displaced by the linear gradient.\n",
    "    \n",
    "    Returns\n",
    "    -------\n",
    "    dict\n",
    "        Dictionary of results consisting of keys:\n",
    "        \n",
    "        - **'dumpfile_base'** (*str*) - The filename of the LAMMPS dump file\n",
    "          for the relaxed base system.\n",
    "        - **'symbols_base'** (*list of str*) - The list of element-model\n",
    "          symbols for the Potential that correspond to the base system's\n",
    "          atypes.\n",
    "        - **'Stroh_preln'** (*float*) - The pre-logarithmic factor in the \n",
    "          dislocation's self-energy expression.\n",
    "        - **'Stroh_K_tensor'** (*numpy.array of float*) - The energy\n",
    "          coefficient tensor based on the dislocation's Stroh solution.\n",
    "        - **'dumpfile_disl'** (*str*) - The filename of the LAMMPS dump file\n",
    "          for the relaxed dislocation monopole system.\n",
    "        - **'symbols_disl'** (*list of str*) - The list of element-model\n",
    "          symbols for the Potential that correspond to the dislocation\n",
    "          monopole system's atypes.\n",
    "        - **'E_total_disl'** (*float*) - The total potential energy of the\n",
    "          dislocation monopole system.\n",
    "    \"\"\"\n",
    "    try:\n",
    "        # Get script's location if __file__ exists\n",
    "        script_dir = Path(__file__).parent\n",
    "    except:\n",
    "        # Use cwd otherwise\n",
    "        script_dir = Path.cwd()\n",
    "\n",
    "    # Set default values\n",
    "    if dmax is None:\n",
    "        dmax = uc.set_in_units(0.01, 'angstrom')\n",
    "\n",
    "    # Save base system\n",
    "    system.dump('atom_dump', f='base.dump')\n",
    "\n",
    "    # Generate periodic array of dislocations\n",
    "    if onlyuselinear is False:\n",
    "        dislsol = am.defect.solve_volterra_dislocation(C, burgers, axes=axes, m=m, n=n)\n",
    "        dislsystem = am.defect.dislocation_array(system, dislsol=dislsol, bwidth=bwidth,\n",
    "                                                 cutoff=cutoff)\n",
    "    else:\n",
    "        if axes is not None:\n",
    "            T = am.tools.axes_check(axes)\n",
    "            burgers = T.dot(burgers)\n",
    "        dislsystem = am.defect.dislocation_array(system, burgers=burgers, m=m, n=n, cutoff=cutoff)\n",
    "\n",
    "    # Get lammps units\n",
    "    lammps_units = lmp.style.unit(potential.units)\n",
    "    \n",
    "    #Get lammps version date\n",
    "    lammps_date = lmp.checkversion(lammps_command)['date']\n",
    "    \n",
    "    # Define lammps variables\n",
    "    lammps_variables = {}\n",
    "    system_info = dislsystem.dump('atom_data', f='initial.dat',\n",
    "                                  units=potential.units,\n",
    "                                  atom_style=potential.atom_style)\n",
    "    lammps_variables['atomman_system_info'] = system_info\n",
    "    lammps_variables['atomman_pair_info'] = potential.pair_info(dislsystem.symbols)\n",
    "    lammps_variables['anneal_info'] = anneal_info(annealtemp, annealsteps, \n",
    "                                                  randomseed, potential.units)\n",
    "    lammps_variables['etol'] = etol\n",
    "    lammps_variables['ftol'] = uc.get_in_units(ftol, lammps_units['force'])\n",
    "    lammps_variables['maxiter'] = maxiter\n",
    "    lammps_variables['maxeval'] = maxeval\n",
    "    lammps_variables['dmax'] = dmax\n",
    "    lammps_variables['bwidth'] = uc.get_in_units(bwidth, lammps_units['length'])\n",
    "    \n",
    "    # Set dump_modify format based on dump_modify_version\n",
    "    if lammps_date < datetime.date(2016, 8, 3):\n",
    "        lammps_variables['dump_modify_format'] = '\"%d %d %.13e %.13e %.13e %.13e\"'\n",
    "    else:\n",
    "        lammps_variables['dump_modify_format'] = 'float %.13e'\n",
    "    \n",
    "    # Write lammps input script\n",
    "    template_file = Path(script_dir, 'dislarray_relax.template')\n",
    "    lammps_script = 'dislarray_relax.in'\n",
    "    with open(template_file) as f:\n",
    "        template = f.read()\n",
    "    with open(lammps_script, 'w') as f:\n",
    "        f.write(iprPy.tools.filltemplate(template, lammps_variables,\n",
    "                                         '<', '>'))\n",
    "    \n",
    "    # Run LAMMPS\n",
    "    output = lmp.run(lammps_command, lammps_script, mpi_command)\n",
    "    thermo = output.simulations[-1]['thermo']\n",
    "    \n",
    "    # Extract output values\n",
    "    results_dict = {}\n",
    "    results_dict['logfile'] = 'log.lammps'\n",
    "    results_dict['dumpfile_base'] = 'base.dump'\n",
    "    results_dict['symbols_base'] = system.symbols\n",
    "    results_dict['dumpfile_disl'] = '%i.dump' % thermo.Step.values[-1]\n",
    "    results_dict['symbols_disl'] = dislsystem.symbols\n",
    "\n",
    "    return results_dict\n",
    "\n"
   ]
  },
  {
   "cell_type": "markdown",
   "metadata": {},
   "source": [
    "#### 3.3 anneal_info() "
   ]
  },
  {
   "cell_type": "code",
   "execution_count": 27,
   "metadata": {},
   "outputs": [],
   "source": [
    "def anneal_info(temperature=0.0, runsteps=None, randomseed=None, units='metal'):\n",
    "    \"\"\"\n",
    "    Generates LAMMPS commands for thermo anneal.\n",
    "    \n",
    "    Parameters\n",
    "    ----------\n",
    "    temperature : float, optional\n",
    "        The temperature to relax at (default is 0.0).\n",
    "    randomseed : int or None, optional\n",
    "        Random number seed used by LAMMPS in creating velocities and with\n",
    "        the Langevin thermostat.  (Default is None which will select a\n",
    "        random int between 1 and 900000000.)\n",
    "    units : str, optional\n",
    "        The LAMMPS units style to use (default is 'metal').\n",
    "    \n",
    "    Returns\n",
    "    -------\n",
    "    str\n",
    "        The generated LAMMPS input lines for performing a dynamic relax.\n",
    "        Will be '' if temperature==0.0.\n",
    "    \"\"\"    \n",
    "    # Return nothing if temperature is 0.0 (don't do thermo anneal)\n",
    "    if temperature == 0.0:\n",
    "        return ''\n",
    "    \n",
    "    # Generate velocity, fix nvt, and run LAMMPS command lines\n",
    "    else:\n",
    "        if randomseed is None:\n",
    "            randomseed = random.randint(1, 900000000)\n",
    "        if runsteps is None:\n",
    "            runsteps = 10000\n",
    "        \n",
    "        start_temp = 2 * temperature\n",
    "        tdamp = 100 * lmp.style.timestep(units)\n",
    "        timestep = lmp.style.timestep(units)\n",
    "        info = '\\n'.join([\n",
    "            'velocity mid create %f %i mom yes rot yes dist gaussian' % (start_temp, randomseed),\n",
    "            'fix nvt all nvt temp %f %f %f' % (temperature, temperature,\n",
    "                                               tdamp),\n",
    "            'timestep %f' % (timestep),\n",
    "            'thermo %i' % (runsteps),\n",
    "            'run %i' % (runsteps),\n",
    "            ])\n",
    "    \n",
    "    return info\n",
    "\n"
   ]
  },
  {
   "cell_type": "markdown",
   "metadata": {},
   "source": [
    "### 4. Run calculation function(s)"
   ]
  },
  {
   "cell_type": "code",
   "execution_count": 28,
   "metadata": {},
   "outputs": [],
   "source": [
    "results_dict = dislocationarray(lammps_command, system, potential, inputs['burgersvector'], C,\n",
    "                                axes = axes,\n",
    "                                mpi_command = mpi_command,\n",
    "                                m = inputs['stroh_m'],\n",
    "                                n = inputs['stroh_n'],\n",
    "                                etol = energytolerance,\n",
    "                                ftol = forcetolerance,\n",
    "                                maxiter = maxiterations,\n",
    "                                maxeval = maxevaluations,\n",
    "                                dmax = maxatommotion,\n",
    "                                annealtemp = annealtemperature, \n",
    "                                annealsteps = annealsteps,\n",
    "                                randomseed = randomseed,\n",
    "                                bwidth = boundarywidth,\n",
    "                                cutoff = duplicatecutoff,\n",
    "                                onlyuselinear = onlyuselinear)"
   ]
  },
  {
   "cell_type": "markdown",
   "metadata": {},
   "source": [
    "### 5. Report results"
   ]
  },
  {
   "cell_type": "markdown",
   "metadata": {},
   "source": [
    "#### 5.1 List dump files"
   ]
  },
  {
   "cell_type": "code",
   "execution_count": 29,
   "metadata": {},
   "outputs": [
    {
     "name": "stdout",
     "output_type": "stream",
     "text": [
      "Perfect system is saved as base.dump\n",
      "Defect system is saved as 10808.dump\n"
     ]
    }
   ],
   "source": [
    "print('Perfect system is saved as', results_dict['dumpfile_base'])\n",
    "print('Defect system is saved as',  results_dict['dumpfile_disl'])"
   ]
  },
  {
   "cell_type": "code",
   "execution_count": null,
   "metadata": {},
   "outputs": [],
   "source": []
  }
 ],
 "metadata": {
  "kernelspec": {
   "display_name": "Python 3",
   "language": "python",
   "name": "python3"
  },
  "language_info": {
   "codemirror_mode": {
    "name": "ipython",
    "version": 3
   },
   "file_extension": ".py",
   "mimetype": "text/x-python",
   "name": "python",
   "nbconvert_exporter": "python",
   "pygments_lexer": "ipython3",
   "version": "3.7.4"
  }
 },
 "nbformat": 4,
 "nbformat_minor": 2
}
