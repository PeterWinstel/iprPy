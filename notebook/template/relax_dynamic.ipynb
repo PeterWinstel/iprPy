{
 "cells": [
  {
   "cell_type": "markdown",
   "metadata": {},
   "source": [
    "^fill^README.md^here^"
   ]
  },
  {
   "cell_type": "markdown",
   "metadata": {},
   "source": [
    "^fill^theory.md^here^"
   ]
  },
  {
   "cell_type": "markdown",
   "metadata": {},
   "source": [
    "## Demonstration"
   ]
  },
  {
   "cell_type": "markdown",
   "metadata": {},
   "source": [
    "### 1. Setup"
   ]
  },
  {
   "cell_type": "markdown",
   "metadata": {},
   "source": [
    "#### 1.1. Library imports"
   ]
  },
  {
   "cell_type": "markdown",
   "metadata": {},
   "source": [
    "Import libraries needed by the calculation. The external libraries used are:\n",
    "\n",
    "- [numpy](http://www.numpy.org/)\n",
    "\n",
    "- [DataModelDict](https://github.com/usnistgov/DataModelDict)\n",
    "\n",
    "- [atomman](https://github.com/usnistgov/atomman)\n",
    "\n",
    "- [iprPy](https://github.com/usnistgov/iprPy)"
   ]
  },
  {
   "cell_type": "code",
   "execution_count": null,
   "metadata": {},
   "outputs": [],
   "source": [
    "# Standard library imports\n",
    "from pathlib import Path\n",
    "import os\n",
    "import sys\n",
    "import uuid\n",
    "import shutil\n",
    "import datetime\n",
    "import random\n",
    "from copy import deepcopy\n",
    "\n",
    "# http://www.numpy.org/\n",
    "import numpy as np\n",
    "\n",
    "# https://github.com/usnistgov/DataModelDict \n",
    "from DataModelDict import DataModelDict as DM\n",
    "\n",
    "# https://github.com/usnistgov/atomman \n",
    "import atomman as am\n",
    "import atomman.lammps as lmp\n",
    "import atomman.unitconvert as uc\n",
    "\n",
    "# https://github.com/usnistgov/iprPy\n",
    "import iprPy\n",
    "\n",
    "print('Notebook last executed on', datetime.date.today(), 'using iprPy version', iprPy.__version__)"
   ]
  },
  {
   "cell_type": "markdown",
   "metadata": {},
   "source": [
    "#### 1.2. Default calculation setup"
   ]
  },
  {
   "cell_type": "code",
   "execution_count": null,
   "metadata": {},
   "outputs": [],
   "source": [
    "# Specify calculation style\n",
    "calc_style = 'relax_dynamic'\n",
    "\n",
    "# If workingdir is already set, then do nothing (already in correct folder)\n",
    "try:\n",
    "    workingdir = workingdir\n",
    "\n",
    "# Change to workingdir if not already there\n",
    "except:\n",
    "    workingdir = Path('calculationfiles', calc_style)\n",
    "    if not workingdir.is_dir():\n",
    "        workingdir.mkdir(parents=True)\n",
    "    os.chdir(workingdir)"
   ]
  },
  {
   "cell_type": "markdown",
   "metadata": {},
   "source": [
    "### 2. Assign values for the calculation's run parameters"
   ]
  },
  {
   "cell_type": "markdown",
   "metadata": {},
   "source": [
    "#### 2.1. Specify system-specific paths\n",
    "\n",
    "- __lammps_command__ is the LAMMPS command to use (required).\n",
    "\n",
    "- __mpi_command__ MPI command for running LAMMPS in parallel. A value of None will run simulations serially."
   ]
  },
  {
   "cell_type": "code",
   "execution_count": null,
   "metadata": {},
   "outputs": [],
   "source": [
    "lammps_command = 'lmp_serial'\n",
    "mpi_command = None"
   ]
  },
  {
   "cell_type": "markdown",
   "metadata": {},
   "source": [
    "#### 2.2. Load interatomic potential\n",
    "\n",
    "- __potential_name__ gives the name of the potential_LAMMPS reference record in the iprPy library to use for the calculation.  \n",
    "\n",
    "- __potential_file__ gives the path to the potential_LAMMPS reference record to use.  Here, this parameter is automatically generated using potential_name and librarydir.\n",
    "\n",
    "- __potential_dir__ gives the path for the folder containing the artifacts associated with the potential (i.e. eam.alloy file).  Here, this parameter is automatically generated using potential_name and librarydir.\n",
    "\n",
    "- __potential__ is an atomman.lammps.Potential object (required).  Here, this parameter is automatically generated from potential_file and potential_dir."
   ]
  },
  {
   "cell_type": "code",
   "execution_count": null,
   "metadata": {},
   "outputs": [],
   "source": [
    "potential_name = '1999--Mishin-Y--Ni--LAMMPS--ipr1'\n",
    "\n",
    "# Define potential_file and potential_dir using librarydir and potential_name\n",
    "potential_file = Path(iprPy.libdir, 'potential_LAMMPS', f'{potential_name}.json')\n",
    "potential_dir = Path(iprPy.libdir, 'potential_LAMMPS', potential_name)\n",
    "\n",
    "# Initialize Potential object using potential_file and potential_dir.\n",
    "potential = lmp.Potential(potential_file, potential_dir)\n",
    "print('Successfully loaded potential', potential)"
   ]
  },
  {
   "cell_type": "markdown",
   "metadata": {},
   "source": [
    "#### 2.3. Load initial unit cell system\n",
    "\n",
    "- __prototype_name__ gives the name of the crystal_prototype reference record in the iprPy library to load. \n",
    "\n",
    "- __symbols__ is a list of the potential's elemental model symbols to associate with the unique atom types of the loaded system. \n",
    "\n",
    "- __box_parameters__ is a list of the a, b, c lattice constants to assign to the loaded file.\n",
    "\n",
    "- __load_file__ gives the path to the atomic configuration file to load for the ucell system.  Here, this is generated automatically using prototype_name and librarydir.\n",
    "\n",
    "- __load_style__ specifies the format of load_file.  Here, this is automatically set for crystal_prototype records.\n",
    "\n",
    "- __load_options__ specifies any other keyword options for properly loading the load_file.  Here, this is automatically set for crystal_prototype records.\n",
    "\n",
    "- __ucell__ is an atomman.System representing a fundamental unit cell of the system (required).  Here, this is generated using the load parameters and symbols."
   ]
  },
  {
   "cell_type": "code",
   "execution_count": null,
   "metadata": {},
   "outputs": [],
   "source": [
    "prototype_name = 'A1--Cu--fcc'\n",
    "symbols = ['Ni']\n",
    "box_parameters = uc.set_in_units([3.5, 3.5, 3.5], 'angstrom')\n",
    "\n",
    "# Define load_file using librarydir and prototype_name\n",
    "load_file = Path(iprPy.libdir, 'crystal_prototype', f'{prototype_name}.json')\n",
    "\n",
    "# Define load_style and load_options for crystal_prototype records\n",
    "load_style = 'system_model'\n",
    "load_options = {}\n",
    "\n",
    "# Create ucell by loading prototype record\n",
    "ucell = am.load(load_style, load_file, symbols=symbols, **load_options)\n",
    "\n",
    "# Rescale ucell using box_parameters\n",
    "ucell.box_set(a=box_parameters[0], b=box_parameters[1], c=box_parameters[2], scale=True)\n",
    "\n",
    "print(ucell)"
   ]
  },
  {
   "cell_type": "markdown",
   "metadata": {},
   "source": [
    "#### 2.4. Modify system\n",
    "\n",
    "- __sizemults__ list of three integers specifying how many times the ucell vectors of $a$, $b$ and $c$ are replicated in creating system.\n",
    "\n",
    "- __system__ is an atomman.System to perform the scan on (required). "
   ]
  },
  {
   "cell_type": "code",
   "execution_count": null,
   "metadata": {},
   "outputs": [],
   "source": [
    "sizemults = [10, 10, 10]\n",
    "\n",
    "# Generate system by supersizing ucell\n",
    "system = ucell.supersize(*sizemults)\n",
    "print('# of atoms in system =', system.natoms)"
   ]
  },
  {
   "cell_type": "markdown",
   "metadata": {},
   "source": [
    "#### 2.5. Specify calculation-specific run parameters\n",
    "\n",
    "- __pressure_xx__ gives the xx component of the pressure to equilibriate the system to (npt, nph, and nph+l styles).\n",
    "\n",
    "- __pressure_yy__ gives the yy component of the pressure to equilibriate the system to (npt, nph, and nph+l styles).\n",
    "\n",
    "- __pressure_zz__ gives the zz component of the pressure to equilibriate the system to (npt, nph, and nph+l styles).\n",
    "\n",
    "- __pressure_xy__ gives the xy component of the pressure to equilibriate the system to (npt, nph, and nph+l styles).\n",
    "\n",
    "- __pressure_xz__ gives the xz component of the pressure to equilibriate the system to (npt, nph, and nph+l styles).\n",
    "\n",
    "- __pressure_yz__ gives the yz component of the pressure to equilibriate the system to (npt, nph, and nph+l styles).\n",
    "\n",
    "- __temperature__ gives the temperature to equilibriate the system to (nvt, npt, nve+l, and nph+l styles).\n",
    "\n",
    "- __integrator__ specifies the integrator style to use. Default value is 'nph+l' for temperature = 0, and 'npt' otherwise.\n",
    "\n",
    "- __runsteps__ is the total number of integration timesteps to perform. Default value is 220000.\n",
    "\n",
    "- __thermosteps__ specifies to output thermo values every this many timesteps. Default value is 100.\n",
    "    \n",
    "- __dumpsteps__ specifies to output dump files every this many timesteps. Default value is runsteps (only first and last steps are outputted as dump files).\n",
    "    \n",
    "- __equilsteps__ is the number of timesteps to equilibriate the system for. Only thermo values associated with timesteps greater than equilsteps will be included in the mean and standard deviation calculations. Default value is 20000. \n",
    "\n",
    "- __randomseed__ specifies a random number seed used to generate the initial atomic velocities and the Langevin thermostat fluctuations. Default value generates a new random integer every time."
   ]
  },
  {
   "cell_type": "code",
   "execution_count": null,
   "metadata": {},
   "outputs": [],
   "source": [
    "pressure_xx = uc.set_in_units(0.0, 'GPa')\n",
    "pressure_yy = uc.set_in_units(0.0, 'GPa')\n",
    "pressure_zz = uc.set_in_units(0.0, 'GPa')\n",
    "pressure_xy = uc.set_in_units(0.0, 'GPa')\n",
    "pressure_xz = uc.set_in_units(0.0, 'GPa')\n",
    "pressure_yz = uc.set_in_units(0.0, 'GPa')\n",
    "temperature = 300.0\n",
    "integrator = 'npt'\n",
    "runsteps = 220000\n",
    "thermosteps = 100\n",
    "dumpsteps = runsteps\n",
    "equilsteps = 20000\n",
    "randomseed = None"
   ]
  },
  {
   "cell_type": "markdown",
   "metadata": {},
   "source": [
    "### 3. Define calculation function(s) and generate template LAMMPS script(s)"
   ]
  },
  {
   "cell_type": "markdown",
   "metadata": {},
   "source": [
    "#### 3.1. full_relax.template"
   ]
  },
  {
   "cell_type": "code",
   "execution_count": null,
   "metadata": {},
   "outputs": [],
   "source": [
    "with open('full_relax.template', 'w') as f:\n",
    "    f.write(\"\"\"^fill^full_relax.template^here^\"\"\")"
   ]
  },
  {
   "cell_type": "markdown",
   "metadata": {},
   "source": [
    "#### 3.2. integrator_info()"
   ]
  },
  {
   "cell_type": "code",
   "execution_count": null,
   "metadata": {},
   "outputs": [],
   "source": [
    "^fill^calc_relax_dynamic.py(integrator_info)^here^"
   ]
  },
  {
   "cell_type": "markdown",
   "metadata": {},
   "source": [
    "#### 3.3. full_relax()"
   ]
  },
  {
   "cell_type": "code",
   "execution_count": null,
   "metadata": {},
   "outputs": [],
   "source": [
    "^fill^calc_relax_dynamic.py(relax_dynamic)^here^"
   ]
  },
  {
   "cell_type": "markdown",
   "metadata": {},
   "source": [
    "### 4. Run calculation function(s)"
   ]
  },
  {
   "cell_type": "code",
   "execution_count": null,
   "metadata": {},
   "outputs": [],
   "source": [
    "results_dict = relax_dynamic(lammps_command, system, potential,\n",
    "                             mpi_command = mpi_command,\n",
    "                             p_xx = pressure_xx,\n",
    "                             p_yy = pressure_yy,\n",
    "                             p_zz = pressure_zz,\n",
    "                             p_xy = pressure_xy,\n",
    "                             p_xz = pressure_xz,\n",
    "                             p_yz = pressure_yz,\n",
    "                             temperature = temperature,\n",
    "                             runsteps = runsteps,\n",
    "                             integrator = integrator,\n",
    "                             thermosteps = thermosteps,\n",
    "                             dumpsteps = dumpsteps,\n",
    "                             equilsteps = equilsteps,\n",
    "                             randomseed = randomseed)"
   ]
  },
  {
   "cell_type": "code",
   "execution_count": null,
   "metadata": {},
   "outputs": [],
   "source": [
    "results_dict.keys()"
   ]
  },
  {
   "cell_type": "markdown",
   "metadata": {},
   "source": [
    "### 5. Report results"
   ]
  },
  {
   "cell_type": "markdown",
   "metadata": {},
   "source": [
    "#### 5.1. Define units for outputting values\n",
    "\n",
    "- __length_unit__ is the unit of length to display values in.\n",
    "- __energy_unit__ is the unit of energy to display values in.\n",
    "- __pressure_unit__ is the unit of pressure to display values in."
   ]
  },
  {
   "cell_type": "code",
   "execution_count": null,
   "metadata": {},
   "outputs": [],
   "source": [
    "length_unit = 'angstrom'\n",
    "energy_unit = 'eV'\n",
    "pressure_unit = 'GPa'"
   ]
  },
  {
   "cell_type": "markdown",
   "metadata": {},
   "source": [
    "#### 5.2. Display number of samples"
   ]
  },
  {
   "cell_type": "code",
   "execution_count": null,
   "metadata": {},
   "outputs": [],
   "source": [
    "print('# of samples = ', results_dict['nsamples'])"
   ]
  },
  {
   "cell_type": "markdown",
   "metadata": {},
   "source": [
    "#### 5.3. Print mean and standard deviations of measured values"
   ]
  },
  {
   "cell_type": "code",
   "execution_count": null,
   "metadata": {},
   "outputs": [],
   "source": [
    "print('Measured thermo data with standard deviation:')\n",
    "print('Ecoh = %9f +- %9f %s' % (uc.get_in_units(results_dict['E_coh'], energy_unit),\n",
    "                                    uc.get_in_units(results_dict['E_coh_std'], energy_unit),\n",
    "                                    energy_unit))\n",
    "print('lx   = %9f +- %9f %s' % (uc.get_in_units(results_dict['lx'], length_unit),\n",
    "                                    uc.get_in_units(results_dict['lx_std'], length_unit),\n",
    "                                    length_unit))\n",
    "print('ly   = %9f +- %9f %s' % (uc.get_in_units(results_dict['ly'], length_unit),\n",
    "                                    uc.get_in_units(results_dict['ly_std'], length_unit),\n",
    "                                    length_unit))     \n",
    "print('lz   = %9f +- %9f %s' % (uc.get_in_units(results_dict['lz'], length_unit),\n",
    "                                    uc.get_in_units(results_dict['lz_std'], length_unit),\n",
    "                                    length_unit)) \n",
    "print('xy   = %9f +- %9f %s' % (uc.get_in_units(results_dict['xy'], length_unit),\n",
    "                                    uc.get_in_units(results_dict['xy_std'], length_unit),\n",
    "                                    length_unit))\n",
    "print('xz   = %9f +- %9f %s' % (uc.get_in_units(results_dict['xz'], length_unit),\n",
    "                                    uc.get_in_units(results_dict['xz_std'], length_unit),\n",
    "                                    length_unit))     \n",
    "print('yz   = %9f +- %9f %s' % (uc.get_in_units(results_dict['yz'], length_unit),\n",
    "                                    uc.get_in_units(results_dict['yz_std'], length_unit),\n",
    "                                    length_unit)) \n",
    "print('T    = %9f +- %9f %s' % (results_dict['temp'],results_dict['temp_std'], 'K')) \n",
    "print('Pxx  = %9f +- %9f %s' % (uc.get_in_units(results_dict['measured_pxx'], pressure_unit),\n",
    "                                    uc.get_in_units(results_dict['measured_pxx_std'], pressure_unit),\n",
    "                                    pressure_unit)) \n",
    "print('Pyy  = %9f +- %9f %s' % (uc.get_in_units(results_dict['measured_pyy'], pressure_unit),\n",
    "                                    uc.get_in_units(results_dict['measured_pyy_std'], pressure_unit),\n",
    "                                    pressure_unit)) \n",
    "print('Pzz  = %9f +- %9f %s' % (uc.get_in_units(results_dict['measured_pzz'], pressure_unit),\n",
    "                                    uc.get_in_units(results_dict['measured_pzz_std'], pressure_unit),\n",
    "                                    pressure_unit)) \n",
    "print('Pxy  = %9f +- %9f %s' % (uc.get_in_units(results_dict['measured_pxy'], pressure_unit),\n",
    "                                    uc.get_in_units(results_dict['measured_pxy_std'], pressure_unit),\n",
    "                                    pressure_unit)) \n",
    "print('Pxz  = %9f +- %9f %s' % (uc.get_in_units(results_dict['measured_pxz'], pressure_unit),\n",
    "                                    uc.get_in_units(results_dict['measured_pxz_std'], pressure_unit),\n",
    "                                    pressure_unit)) \n",
    "print('Pyz  = %9f +- %9f %s' % (uc.get_in_units(results_dict['measured_pyz'], pressure_unit),\n",
    "                                    uc.get_in_units(results_dict['measured_pyz_std'], pressure_unit),\n",
    "                                    pressure_unit)) "
   ]
  },
  {
   "cell_type": "markdown",
   "metadata": {},
   "source": [
    "#### 5.4. Compute lattice constant with standard error\n",
    "\n",
    "**NOTE**: This step makes two assumptions\n",
    "\n",
    "1. The crystal structure is cubic and remains cubic after relaxation.  Check values above to verify this.\n",
    "\n",
    "2. The thermosteps parameter is large enough that the measurements are not correlated. If thermosteps &ge; 100 this is likely a sound assumption."
   ]
  },
  {
   "cell_type": "code",
   "execution_count": null,
   "metadata": {},
   "outputs": [],
   "source": [
    "a = results_dict['lx'] / sizemults[0]\n",
    "b = results_dict['ly'] / sizemults[1]\n",
    "c = results_dict['lz'] / sizemults[2]\n",
    "\n",
    "a_std = results_dict['lx_std'] / sizemults[1]\n",
    "b_std = results_dict['ly_std'] / sizemults[2]\n",
    "c_std = results_dict['lz_std'] / sizemults[2]\n",
    "\n",
    "a_mean = (a + b + c) / 3\n",
    "a_combined_std = ((a_std**2 + b_std**2 + c_std**2 \n",
    "                   + (a - a_mean)**2 + (b - a_mean)**2 + (c - a_mean)**2) / 3)**0.5\n",
    "a_standard_error = a_combined_std * (3 * results_dict['nsamples'])**-0.5\n",
    "\n",
    "print('Cubic lattice constant with standard error:')\n",
    "print('a = %9f +- %9f %s' % (uc.get_in_units(a_mean, length_unit),\n",
    "                             uc.get_in_units(a_standard_error, length_unit),\n",
    "                             length_unit))"
   ]
  },
  {
   "cell_type": "markdown",
   "metadata": {},
   "source": [
    "#### 5.5. Load final configuration and show box"
   ]
  },
  {
   "cell_type": "code",
   "execution_count": null,
   "metadata": {},
   "outputs": [],
   "source": [
    "finalsystem = am.load('atom_dump', results_dict['dumpfile_final'],\n",
    "                      symbols=results_dict['symbols_final'])\n",
    "print(finalsystem.box)"
   ]
  }
 ],
 "metadata": {
  "kernelspec": {
   "display_name": "Python 3",
   "language": "python",
   "name": "python3"
  },
  "language_info": {
   "codemirror_mode": {
    "name": "ipython",
    "version": 3
   },
   "file_extension": ".py",
   "mimetype": "text/x-python",
   "name": "python",
   "nbconvert_exporter": "python",
   "pygments_lexer": "ipython3",
   "version": "3.7.3"
  }
 },
 "nbformat": 4,
 "nbformat_minor": 2
}
