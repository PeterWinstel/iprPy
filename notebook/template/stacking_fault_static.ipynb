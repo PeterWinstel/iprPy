{
 "cells": [
  {
   "cell_type": "markdown",
   "metadata": {},
   "source": [
    "^fill^README.md^here^"
   ]
  },
  {
   "cell_type": "markdown",
   "metadata": {},
   "source": [
    "^fill^theory.md^here^"
   ]
  },
  {
   "cell_type": "markdown",
   "metadata": {},
   "source": [
    "## Demonstration"
   ]
  },
  {
   "cell_type": "markdown",
   "metadata": {},
   "source": [
    "### 1. Library imports"
   ]
  },
  {
   "cell_type": "markdown",
   "metadata": {},
   "source": [
    "Import libraries needed by the calculation. The external libraries used are:\n",
    "\n",
    "- [numpy](http://www.numpy.org/)\n",
    "\n",
    "- [DataModelDict](https://github.com/usnistgov/DataModelDict)\n",
    "\n",
    "- [atomman](https://github.com/usnistgov/atomman)\n",
    "\n",
    "- [iprPy](https://github.com/usnistgov/iprPy)"
   ]
  },
  {
   "cell_type": "code",
   "execution_count": null,
   "metadata": {},
   "outputs": [],
   "source": [
    "# Standard library imports\n",
    "from pathlib import Path\n",
    "import os\n",
    "import sys\n",
    "import uuid\n",
    "import shutil\n",
    "import datetime\n",
    "from copy import deepcopy\n",
    "\n",
    "# http://www.numpy.org/\n",
    "import numpy as np \n",
    "\n",
    "# https://github.com/usnistgov/DataModelDict \n",
    "from DataModelDict import DataModelDict as DM\n",
    "\n",
    "# https://github.com/usnistgov/atomman \n",
    "import atomman as am\n",
    "import atomman.lammps as lmp\n",
    "import atomman.unitconvert as uc\n",
    "\n",
    "# https://github.com/usnistgov/iprPy\n",
    "import iprPy\n",
    "\n",
    "print('Notebook last executed on', datetime.date.today(), 'using iprPy version', iprPy.__version__)"
   ]
  },
  {
   "cell_type": "markdown",
   "metadata": {},
   "source": [
    "#### 1.2. Default calculation setup"
   ]
  },
  {
   "cell_type": "code",
   "execution_count": null,
   "metadata": {},
   "outputs": [],
   "source": [
    "# Specify calculation style\n",
    "calc_style = 'stacking_fault_static'\n",
    "\n",
    "# If workingdir is already set, then do nothing (already in correct folder)\n",
    "try:\n",
    "    workingdir = workingdir\n",
    "\n",
    "# Change to workingdir if not already there\n",
    "except:\n",
    "    workingdir = Path('calculationfiles', calc_style)\n",
    "    if not workingdir.is_dir():\n",
    "        workingdir.mkdir(parents=True)\n",
    "    os.chdir(workingdir)"
   ]
  },
  {
   "cell_type": "markdown",
   "metadata": {},
   "source": [
    "### 2. Assign values for the calculation's run parameters"
   ]
  },
  {
   "cell_type": "markdown",
   "metadata": {},
   "source": [
    "#### 2.1 Specify system-specific paths\n",
    "\n",
    "- __lammps_command__ is the LAMMPS command to use.\n",
    "\n",
    "- __mpi_command__ MPI command for running LAMMPS in parallel. A value of None will run simulations serially."
   ]
  },
  {
   "cell_type": "code",
   "execution_count": null,
   "metadata": {},
   "outputs": [],
   "source": [
    "lammps_command = 'lmp_serial'\n",
    "mpi_command = None"
   ]
  },
  {
   "cell_type": "markdown",
   "metadata": {},
   "source": [
    "#### 2.2. Load interatomic potential\n",
    "\n",
    "- __potential_name__ gives the name of the potential_LAMMPS reference record in the iprPy library to use for the calculation.  \n",
    "\n",
    "- __potential_file__ gives the path to the potential_LAMMPS reference record to use.  Here, this parameter is automatically generated using potential_name and librarydir.\n",
    "\n",
    "- __potential_dir__ gives the path for the folder containing the artifacts associated with the potential (i.e. eam.alloy file).  Here, this parameter is automatically generated using potential_name and librarydir.\n",
    "\n",
    "- __potential__ is an atomman.lammps.Potential object (required).  Here, this parameter is automatically generated from potential_file and potential_dir."
   ]
  },
  {
   "cell_type": "code",
   "execution_count": null,
   "metadata": {},
   "outputs": [],
   "source": [
    "potential_name = '1999--Mishin-Y--Ni--LAMMPS--ipr1'\n",
    "\n",
    "# Define potential_file and potential_dir using librarydir and potential_name\n",
    "potential_file = Path(iprPy.libdir, 'potential_LAMMPS', f'{potential_name}.json')\n",
    "potential_dir = Path(iprPy.libdir, 'potential_LAMMPS', potential_name)\n",
    "\n",
    "# Initialize Potential object using potential_file and potential_dir.\n",
    "potential = lmp.Potential(potential_file, potential_dir)\n",
    "print('Successfully loaded potential', potential)"
   ]
  },
  {
   "cell_type": "markdown",
   "metadata": {},
   "source": [
    "#### 2.3. Load initial unit cell system\n",
    "\n",
    "- __prototype_name__ gives the name of the crystal_prototype reference record in the iprPy library to load. \n",
    "\n",
    "- __symbols__ is a list of the potential's elemental model symbols to associate with the unique atom types of the loaded system. \n",
    "\n",
    "- __box_parameters__ is a list of the a, b, c lattice constants to assign to the loaded file.\n",
    "\n",
    "- __load_file__ gives the path to the atomic configuration file to load for the ucell system.  Here, this is generated automatically using prototype_name and librarydir.\n",
    "\n",
    "- __load_style__ specifies the format of load_file.  Here, this is automatically set for crystal_prototype records.\n",
    "\n",
    "- __load_options__ specifies any other keyword options for properly loading the load_file.  Here, this is automatically set for crystal_prototype records.\n",
    "\n",
    "- __ucell__ is an atomman.System representing a fundamental unit cell of the system (required).  Here, this is generated using the load parameters and symbols."
   ]
  },
  {
   "cell_type": "code",
   "execution_count": null,
   "metadata": {},
   "outputs": [],
   "source": [
    "prototype_name = 'A1--Cu--fcc'\n",
    "symbols = ['Ni']\n",
    "box_parameters = uc.set_in_units([3.52, 3.52, 3.52], 'angstrom')\n",
    "\n",
    "# Define load_file using librarydir and prototype_name\n",
    "load_file = Path(iprPy.libdir, 'crystal_prototype', f'{prototype_name}.json')\n",
    "\n",
    "# Define load_style and load_options for crystal_prototype records\n",
    "load_style = 'system_model'\n",
    "load_options = {}\n",
    "\n",
    "# Create ucell by loading prototype record\n",
    "ucell = am.load(load_style, load_file, symbols=symbols, **load_options)\n",
    "\n",
    "# Rescale ucell using box_parameters\n",
    "ucell.box_set(a=box_parameters[0], b=box_parameters[1], c=box_parameters[2], scale=True)\n",
    "\n",
    "print(ucell)"
   ]
  },
  {
   "cell_type": "markdown",
   "metadata": {},
   "source": [
    "#### 2.4. Specify the defect parameters\n",
    "\n",
    "- __stackingfault_name__ gives the name of the stacking_fault reference record in the iprPy library to use. \n",
    "\n",
    "- __shiftfraction1__ is the fraction of shiftvector1 to apply in generating the fault.\n",
    "\n",
    "- __shiftfraction2__ is the fraction of shiftvector2 to apply in generating the fault.\n",
    "\n",
    "- __stackingfault_file__ gives the path to the stacking_fault reference record to use. Here, this is built automatically using stackingfault_name and librarydir.\n",
    "\n",
    "- __cutboxvector__ specifies which of the three box vectors ('a', 'b', or 'c') is to be made non-periodic to create the free surface.  Here, this is extracted from the defect model.\n",
    "\n",
    "- __faultpos__ specifies the relative position within the rotated cell before applying sizemults where the fault plane is placed.  Here, this is extracted from the defect model.\n",
    "\n",
    "- __shiftvector1, shiftvector2__ specify two non-parallel Miller crystal vectors within the fault plane corresponding to full planar shifts from one perfect crystal configuration to another.  Here, these are extracted from the defect model."
   ]
  },
  {
   "cell_type": "code",
   "execution_count": null,
   "metadata": {},
   "outputs": [],
   "source": [
    "stackingfault_name = 'A1--Cu--fcc--111sf'\n",
    "\n",
    "shiftfraction1 = 0.5\n",
    "shiftfraction2 = 0.0\n",
    "\n",
    "# Define surface_file using librarydir and surface_name\n",
    "stackingfault_file = Path(iprPy.libdir, 'stacking_fault', f'{stackingfault_name}.json')\n",
    "\n",
    "# Parse freesurface_file using iprPy.input.interpret()\n",
    "defectinputs = {'stackingfault_file':stackingfault_file}\n",
    "iprPy.input.subset('stackingfault').interpret(defectinputs)\n",
    "\n",
    "# Extract parameters from defect model\n",
    "cutboxvector = defectinputs['stackingfault_cutboxvector']\n",
    "faultpos = defectinputs['stackingfault_faultpos']\n",
    "shiftvector1 = defectinputs['stackingfault_shiftvector1']\n",
    "shiftvector2 = defectinputs['stackingfault_shiftvector2']\n",
    "print('cutboxvector =', cutboxvector)\n",
    "print('faultpos =', faultpos)\n",
    "print('shiftvector1 =', shiftvector1)\n",
    "print('shiftvector2 =', shiftvector2)"
   ]
  },
  {
   "cell_type": "markdown",
   "metadata": {},
   "source": [
    "#### 2.5. Modify system\n",
    "\n",
    "- __a_uvw__ Miller crystal vector used to generate a rotated system from ucell.  The a box vector of the rotated system will correspond to the crystal vector relative to ucell.  Here, this is extracted from the defect model.\n",
    "\n",
    "- __b_uvw__ Miller crystal vector used to generate a rotated system from ucell.  The a box vector of the rotated system will correspond to the crystal vector relative to ucell.  Here, this is extracted from the defect model.\n",
    "\n",
    "- __c_uvw__ Miller crystal vector used to generate a rotated system from ucell.  The a box vector of the rotated system will correspond to the crystal vector relative to ucell.  Here, this is extracted from the defect model.\n",
    "\n",
    "- __atomshift__ fractional rigid body shift to apply to the rotated system. Here, this is extracted from the defect model.\n",
    "\n",
    "- __sizemults__ list of three integers specifying how many times the ucell vectors of $a$, $b$ and $c$ are replicated in creating system.\n",
    "\n",
    "- __system__ is an atomman.System to use as the input system for the calculation (required). "
   ]
  },
  {
   "cell_type": "code",
   "execution_count": null,
   "metadata": {},
   "outputs": [],
   "source": [
    "sizemults = [5, 5, 10]\n",
    "\n",
    "# Extract parameters from defect model\n",
    "a_uvw = np.array(defectinputs['a_uvw'].strip().split(), dtype=float)\n",
    "b_uvw = np.array(defectinputs['b_uvw'].strip().split(), dtype=float)\n",
    "c_uvw = np.array(defectinputs['c_uvw'].strip().split(), dtype=float)\n",
    "atomshift = np.array(defectinputs['atomshift'].strip().split(), dtype=float)\n",
    "print('a_uvw =', a_uvw)\n",
    "print('b_uvw =', b_uvw)\n",
    "print('c_uvw =', c_uvw)\n",
    "print('atomshift =', atomshift)\n",
    "\n",
    "# Rotate to specified uvws\n",
    "system, transform = ucell.rotate(np.array([a_uvw, b_uvw, c_uvw]), return_transform=True)\n",
    "\n",
    "# Scale atomshift by rotated system's box vectors\n",
    "shift = (atomshift[0] * system.box.avect +\n",
    "         atomshift[1] * system.box.bvect +\n",
    "         atomshift[2] * system.box.cvect)\n",
    "system.atoms.pos += shift\n",
    "\n",
    "# Generate system by supersizing ucell\n",
    "system = system.supersize(*sizemults)\n",
    "print('# of atoms in system =', system.natoms)"
   ]
  },
  {
   "cell_type": "markdown",
   "metadata": {},
   "source": [
    "#### 2.6. Modify defect parameters based on modified system information\n",
    "\n",
    "- __shiftvector1, shiftvector2__ are converted from strings to arrays\n",
    "\n",
    "- __faultpos__ is adjusted to be relative to the supercell system by placing the cut inside the center cell replica."
   ]
  },
  {
   "cell_type": "code",
   "execution_count": null,
   "metadata": {},
   "outputs": [],
   "source": [
    "# Convert shift vectors from strings to arrays\n",
    "shiftvector1 = np.array(shiftvector1.strip().split(), dtype=float)\n",
    "shiftvector2 = np.array(shiftvector2.strip().split(), dtype=float)\n",
    "\n",
    "# Identify number of size multiples, m, along cutboxvector\n",
    "if   cutboxvector == 'a': \n",
    "    m = sizemults[0]\n",
    "elif cutboxvector == 'b': \n",
    "    m = sizemults[1]\n",
    "elif cutboxvector == 'c': \n",
    "    m = sizemults[2]\n",
    "\n",
    "# For odd m, initial position of 0.5 goes to 0.5\n",
    "if m % 2 == 1:\n",
    "    faultpos = (faultpos + (m-1) * 0.5) / m\n",
    "# For even m, initial position of 0.0 goes to 0.5\n",
    "else:\n",
    "    faultpos = (2 * faultpos + m) / (2 * m)\n",
    "\n",
    "print('faultpos =', faultpos)\n",
    "print('shiftvector1 =', shiftvector1)\n",
    "print('shiftvector2 =', shiftvector2)"
   ]
  },
  {
   "cell_type": "markdown",
   "metadata": {},
   "source": [
    "#### 2.6. Specify calculation-specific run parameters\n",
    "\n",
    "- __energytolerance__ is the energy tolerance to use during the minimizations. This is unitless.\n",
    "\n",
    "- __forcetolerance__ is the force tolerance to use during the minimizations. This is in energy/length units.\n",
    "\n",
    "- __maxiterations__ is the maximum number of minimization iterations to use.\n",
    "\n",
    "- __maxevaluations__ is the maximum number of minimization evaluations to use.\n",
    "\n",
    "- __maxatommotion__ is the largest distance that an atom is allowed to move during a minimization iteration. This is in length units."
   ]
  },
  {
   "cell_type": "code",
   "execution_count": null,
   "metadata": {},
   "outputs": [],
   "source": [
    "energytolerance = 1e-8\n",
    "forcetolerance = uc.set_in_units(0.0, 'eV/angstrom')\n",
    "maxiterations = 10000\n",
    "maxevaluations = 100000\n",
    "maxatommotion = uc.set_in_units(0.01, 'angstrom')"
   ]
  },
  {
   "cell_type": "markdown",
   "metadata": {},
   "source": [
    "### 3. Define calculation function(s) and generate template LAMMPS script(s)"
   ]
  },
  {
   "cell_type": "markdown",
   "metadata": {},
   "source": [
    "#### 3.1 sfmin.template"
   ]
  },
  {
   "cell_type": "code",
   "execution_count": null,
   "metadata": {},
   "outputs": [],
   "source": [
    "with open('sfmin.template', 'w') as f:\n",
    "    f.write(\"\"\"^fill^sfmin.template^here^\"\"\")"
   ]
  },
  {
   "cell_type": "markdown",
   "metadata": {},
   "source": [
    "#### 3.2 stackingfaultrelax()"
   ]
  },
  {
   "cell_type": "code",
   "execution_count": null,
   "metadata": {},
   "outputs": [],
   "source": [
    "^fill^calc_stacking_fault_static.py(stackingfaultrelax)^here^"
   ]
  },
  {
   "cell_type": "markdown",
   "metadata": {},
   "source": [
    "#### 3.3 stackingfault()"
   ]
  },
  {
   "cell_type": "code",
   "execution_count": null,
   "metadata": {},
   "outputs": [],
   "source": [
    "^fill^calc_stacking_fault_static.py(stackingfault)^here^"
   ]
  },
  {
   "cell_type": "markdown",
   "metadata": {},
   "source": [
    "### 4. Run calculation function(s)"
   ]
  },
  {
   "cell_type": "code",
   "execution_count": null,
   "metadata": {},
   "outputs": [],
   "source": [
    "results_dict = stackingfault(lammps_command, system, potential,\n",
    "                             mpi_command = mpi_command,\n",
    "                             a1vect = shiftvector1,\n",
    "                             a2vect = shiftvector2,\n",
    "                             ucell = ucell,\n",
    "                             transform = transform,\n",
    "                             cutboxvector = cutboxvector,\n",
    "                             faultposrel = faultpos,\n",
    "                             a1 = shiftfraction1,\n",
    "                             a2 = shiftfraction2,\n",
    "                             etol = energytolerance,\n",
    "                             ftol = forcetolerance,\n",
    "                             maxiter = maxiterations,\n",
    "                             maxeval = maxevaluations,\n",
    "                             dmax = maxatommotion)"
   ]
  },
  {
   "cell_type": "code",
   "execution_count": null,
   "metadata": {},
   "outputs": [],
   "source": [
    "results_dict.keys()"
   ]
  },
  {
   "cell_type": "markdown",
   "metadata": {},
   "source": [
    "### 5. Report results"
   ]
  },
  {
   "cell_type": "markdown",
   "metadata": {},
   "source": [
    "#### 5.1 Define units for outputting values\n",
    "\n",
    "- __length_unit__ is the unit of area to display delta displacemets in.\n",
    "\n",
    "- __area_unit__ is the unit of area to display fault area in.\n",
    "\n",
    "- __energyperarea_unit__ is the energy per area to report the surface energy in."
   ]
  },
  {
   "cell_type": "code",
   "execution_count": null,
   "metadata": {},
   "outputs": [],
   "source": [
    "length_unit = 'nm'\n",
    "area_unit = 'nm^2'\n",
    "energyperarea_unit = 'mJ/m^2'"
   ]
  },
  {
   "cell_type": "markdown",
   "metadata": {},
   "source": [
    "#### 5.2 Print $A_{fault}$, $E_{gsf}$, and $\\Delta\\delta$"
   ]
  },
  {
   "cell_type": "code",
   "execution_count": null,
   "metadata": {},
   "outputs": [],
   "source": [
    "print('Values for fractional shift = (%f, %f)' % (shiftfraction1, shiftfraction2))\n",
    "print('A_fault =    ', uc.get_in_units(results_dict['A_fault'], area_unit), area_unit)\n",
    "print('E_gsf =      ', uc.get_in_units(results_dict['E_gsf'], energyperarea_unit), energyperarea_unit)\n",
    "print('delta_disp = ', uc.get_in_units(results_dict['delta_disp'], length_unit), length_unit)"
   ]
  }
 ],
 "metadata": {
  "kernelspec": {
   "display_name": "Python 3",
   "language": "python",
   "name": "python3"
  },
  "language_info": {
   "codemirror_mode": {
    "name": "ipython",
    "version": 3
   },
   "file_extension": ".py",
   "mimetype": "text/x-python",
   "name": "python",
   "nbconvert_exporter": "python",
   "pygments_lexer": "ipython3",
   "version": "3.7.3"
  }
 },
 "nbformat": 4,
 "nbformat_minor": 2
}
